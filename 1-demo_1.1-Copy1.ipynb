{
 "cells": [
  {
   "cell_type": "code",
   "execution_count": 2,
   "id": "3b6c5e4c-9a3d-4507-b8a1-e797cd0ddebb",
   "metadata": {},
   "outputs": [],
   "source": [
    "# Utility: Preparation text\n",
    "\n",
    "from contractions import CONTRACTION_MAP\n",
    "\n",
    "##========== PREPARATION TEXT ===========##\n",
    "\n",
    "# Contraction\n",
    "def expand_contractions(sentence, contraction_mapping=CONTRACTION_MAP):\n",
    "    \"\"\"\n",
    "    Expand the contractions in a sentence. For example don't => do not.\n",
    "    \n",
    "    Paramters:\n",
    "    sentence (str): The input sentence to clean.\n",
    "    contraction_mapping (dict): A dictionary for mapping contractions.\n",
    "    \n",
    "    \n",
    "    Returns:\n",
    "    str: The expanded contraction sentence.\n",
    "    \"\"\"\n",
    "    \n",
    "    contractions_pattern = re.compile('({})'.format('|'.join(contraction_mapping.keys())),\n",
    "                                      flags=re.IGNORECASE|re.DOTALL)\n",
    "    \n",
    "    def expanded_match(contraction):\n",
    "        \"\"\"\n",
    "        Filter for expanding the matched contraction.\n",
    "        \n",
    "        Parameters:\n",
    "        contraction (str): The input of contraction\n",
    "        \n",
    "        Returns:\n",
    "        str: The expanded contraction.\n",
    "        \"\"\"\n",
    "        match = contraction.group(0)\n",
    "        first_char = match[0]\n",
    "        expanded_contraction = contraction_mapping.get(match) if contraction_mapping.get(match) else contraction_mapping.get(match.lower())\n",
    "        \n",
    "        expanded_contraction = first_char + expanded_contraction[1:]\n",
    "        return expanded_contraction\n",
    "    \n",
    "    expanded_sentence = contractions_pattern.sub(expanded_match, sentence)\n",
    "    return expanded_sentence\n",
    "\n",
    "\n",
    "def remove_extra_spaces(sentence):\n",
    "    # Use regex to replace multiple spaces with a single space\n",
    "    return re.sub(r'\\s+', ' ', sentence).strip()\n",
    "\n",
    "\n",
    "def remove_non_ascii(text):\n",
    "    \"\"\"\n",
    "    Remove all non-ASCII characters from the text.\n",
    "\n",
    "    Parameters:\n",
    "    text (str): The input text to clean.\n",
    "\n",
    "    Returns:\n",
    "    str: The cleaned text with only ASCII characters.\n",
    "    \n",
    "    \"\"\"\n",
    "    \n",
    "    return ''.join([char for char in text if ord(char) < 128])"
   ]
  },
  {
   "cell_type": "code",
   "execution_count": null,
   "id": "ee1cfb35-f59b-47ed-a421-25dfa7afb95a",
   "metadata": {},
   "outputs": [],
   "source": []
  },
  {
   "cell_type": "code",
   "execution_count": 3,
   "id": "a967275c-6b93-4e1c-9af7-d980ebabd3ef",
   "metadata": {},
   "outputs": [
    {
     "name": "stderr",
     "output_type": "stream",
     "text": [
      "C:\\Users\\Baha Tegar\\Desktop\\Preparation\\Transformers\\.venv\\Lib\\site-packages\\tqdm\\auto.py:21: TqdmWarning: IProgress not found. Please update jupyter and ipywidgets. See https://ipywidgets.readthedocs.io/en/stable/user_install.html\n",
      "  from .autonotebook import tqdm as notebook_tqdm\n"
     ]
    }
   ],
   "source": [
    "import pandas as pd\n",
    "import numpy as np\n",
    "import matplotlib.pyplot as plt\n",
    "\n",
    "from datetime import datetime\n",
    "\n",
    "import re\n",
    "import json\n",
    "\n",
    "from nltk.tokenize import word_tokenize\n",
    "\n",
    "import torch\n",
    "import torch.nn.functional as F\n",
    "from transformers import BertTokenizer\n",
    "\n",
    "from tqdm import tqdm"
   ]
  },
  {
   "cell_type": "code",
   "execution_count": 4,
   "id": "34c0dfd9-5d81-4e65-b33d-2c9b422c54e5",
   "metadata": {},
   "outputs": [],
   "source": [
    "from transformers import pipeline"
   ]
  },
  {
   "cell_type": "markdown",
   "id": "feb7ee98-d4d3-4bd6-8c3f-a61ebb609162",
   "metadata": {},
   "source": [
    "# Load Model"
   ]
  },
  {
   "cell_type": "markdown",
   "id": "36388cc0-619a-4e01-a353-6f07e34f994a",
   "metadata": {},
   "source": [
    "**Summarization**"
   ]
  },
  {
   "cell_type": "code",
   "execution_count": 5,
   "id": "470e7f80-4c98-4cd6-94b8-281ec41fee0f",
   "metadata": {},
   "outputs": [
    {
     "name": "stderr",
     "output_type": "stream",
     "text": [
      "C:\\Users\\Baha Tegar\\Desktop\\Preparation\\Transformers\\.venv\\Lib\\site-packages\\transformers\\models\\bart\\configuration_bart.py:176: UserWarning: Please make sure the config includes `forced_bos_token_id=0` in future versions. The config can simply be saved and uploaded again to be fixed.\n",
      "  warnings.warn(\n"
     ]
    },
    {
     "data": {
      "text/plain": [
       "<transformers.pipelines.text2text_generation.SummarizationPipeline at 0x1a6c42cdd50>"
      ]
     },
     "execution_count": 5,
     "metadata": {},
     "output_type": "execute_result"
    }
   ],
   "source": [
    "modelBertSum = pipeline('summarization', model='model/summarization-0', device=0)\n",
    "modelBertSum"
   ]
  },
  {
   "cell_type": "markdown",
   "id": "ab9a6235-2404-4276-abb1-fe4e5c82cbac",
   "metadata": {},
   "source": [
    "# Load Dataset"
   ]
  },
  {
   "cell_type": "code",
   "execution_count": 6,
   "id": "01c86714-007e-4ca3-8c44-8bddfb32fe31",
   "metadata": {},
   "outputs": [
    {
     "data": {
      "text/plain": [
       "1511"
      ]
     },
     "execution_count": 6,
     "metadata": {},
     "output_type": "execute_result"
    }
   ],
   "source": [
    "with open('temp/representation.json', 'r', encoding='utf-8') as f:\n",
    "    data = json.load(f)\n",
    "\n",
    "len(data)"
   ]
  },
  {
   "cell_type": "code",
   "execution_count": 7,
   "id": "b4fe02b9-3530-44fc-a139-a7fc4d763bcc",
   "metadata": {},
   "outputs": [
    {
     "name": "stdout",
     "output_type": "stream",
     "text": [
      "<class 'pandas.core.frame.DataFrame'>\n",
      "RangeIndex: 1511 entries, 0 to 1510\n",
      "Data columns (total 4 columns):\n",
      " #   Column       Non-Null Count  Dtype \n",
      "---  ------       --------------  ----- \n",
      " 0   review_id    1511 non-null   int64 \n",
      " 1   review_time  1511 non-null   object\n",
      " 2   review       1511 non-null   object\n",
      " 3   like         1511 non-null   int64 \n",
      "dtypes: int64(2), object(2)\n",
      "memory usage: 47.3+ KB\n",
      "None\n"
     ]
    },
    {
     "data": {
      "text/html": [
       "<div>\n",
       "<style scoped>\n",
       "    .dataframe tbody tr th:only-of-type {\n",
       "        vertical-align: middle;\n",
       "    }\n",
       "\n",
       "    .dataframe tbody tr th {\n",
       "        vertical-align: top;\n",
       "    }\n",
       "\n",
       "    .dataframe thead th {\n",
       "        text-align: right;\n",
       "    }\n",
       "</style>\n",
       "<table border=\"1\" class=\"dataframe\">\n",
       "  <thead>\n",
       "    <tr style=\"text-align: right;\">\n",
       "      <th></th>\n",
       "      <th>review_id</th>\n",
       "      <th>review_time</th>\n",
       "      <th>review</th>\n",
       "      <th>like</th>\n",
       "    </tr>\n",
       "  </thead>\n",
       "  <tbody>\n",
       "    <tr>\n",
       "      <th>0</th>\n",
       "      <td>0</td>\n",
       "      <td>2024-11-28T13:41:44Z</td>\n",
       "      <td>The cars design is like it came from a cartoon.</td>\n",
       "      <td>0</td>\n",
       "    </tr>\n",
       "    <tr>\n",
       "      <th>1</th>\n",
       "      <td>2</td>\n",
       "      <td>2024-11-27T01:56:33Z</td>\n",
       "      <td>Tankz u for being so honest.\\nMuch love and re...</td>\n",
       "      <td>0</td>\n",
       "    </tr>\n",
       "    <tr>\n",
       "      <th>2</th>\n",
       "      <td>3</td>\n",
       "      <td>2024-11-26T18:27:21Z</td>\n",
       "      <td>Amazing review your really good at this love w...</td>\n",
       "      <td>0</td>\n",
       "    </tr>\n",
       "    <tr>\n",
       "      <th>3</th>\n",
       "      <td>5</td>\n",
       "      <td>2024-11-25T18:09:24Z</td>\n",
       "      <td>Honestly, the Cybertruck might be the first ca...</td>\n",
       "      <td>0</td>\n",
       "    </tr>\n",
       "    <tr>\n",
       "      <th>4</th>\n",
       "      <td>6</td>\n",
       "      <td>2024-11-25T03:55:09Z</td>\n",
       "      <td>I will be buying one anytime soon add expensiv...</td>\n",
       "      <td>0</td>\n",
       "    </tr>\n",
       "  </tbody>\n",
       "</table>\n",
       "</div>"
      ],
      "text/plain": [
       "   review_id           review_time  \\\n",
       "0          0  2024-11-28T13:41:44Z   \n",
       "1          2  2024-11-27T01:56:33Z   \n",
       "2          3  2024-11-26T18:27:21Z   \n",
       "3          5  2024-11-25T18:09:24Z   \n",
       "4          6  2024-11-25T03:55:09Z   \n",
       "\n",
       "                                              review  like  \n",
       "0    The cars design is like it came from a cartoon.     0  \n",
       "1  Tankz u for being so honest.\\nMuch love and re...     0  \n",
       "2  Amazing review your really good at this love w...     0  \n",
       "3  Honestly, the Cybertruck might be the first ca...     0  \n",
       "4  I will be buying one anytime soon add expensiv...     0  "
      ]
     },
     "execution_count": 7,
     "metadata": {},
     "output_type": "execute_result"
    }
   ],
   "source": [
    "df = pd.DataFrame.from_dict(data)\n",
    "df = df[['review_id', 'review_time', 'review', 'like']].copy()\n",
    "print(df.info())\n",
    "df.head()"
   ]
  },
  {
   "cell_type": "code",
   "execution_count": 8,
   "id": "97aff7a5-305c-4ecd-9d4b-3f3e3373ab80",
   "metadata": {},
   "outputs": [],
   "source": [
    "# # df = pd.read_csv('sample-mcd.csv', encoding='latin1')\n",
    "# df = pd.read_csv('McDonald_s_Reviews.csv', encoding='latin1')\n",
    "# df = df[['reviewer_id', 'review_time', 'review', 'rating']].copy()\n",
    "# print(df.info())\n",
    "# df.head()"
   ]
  },
  {
   "cell_type": "code",
   "execution_count": 9,
   "id": "2c36308f-124f-4f20-ad8e-1b62a8c664f4",
   "metadata": {},
   "outputs": [
    {
     "data": {
      "text/html": [
       "<div>\n",
       "<style scoped>\n",
       "    .dataframe tbody tr th:only-of-type {\n",
       "        vertical-align: middle;\n",
       "    }\n",
       "\n",
       "    .dataframe tbody tr th {\n",
       "        vertical-align: top;\n",
       "    }\n",
       "\n",
       "    .dataframe thead th {\n",
       "        text-align: right;\n",
       "    }\n",
       "</style>\n",
       "<table border=\"1\" class=\"dataframe\">\n",
       "  <thead>\n",
       "    <tr style=\"text-align: right;\">\n",
       "      <th></th>\n",
       "      <th>review_id</th>\n",
       "      <th>review_time</th>\n",
       "      <th>review</th>\n",
       "      <th>like</th>\n",
       "      <th>review_processed</th>\n",
       "    </tr>\n",
       "  </thead>\n",
       "  <tbody>\n",
       "    <tr>\n",
       "      <th>0</th>\n",
       "      <td>0</td>\n",
       "      <td>2024-11-28T13:41:44Z</td>\n",
       "      <td>The cars design is like it came from a cartoon.</td>\n",
       "      <td>0</td>\n",
       "      <td>The cars design is like it came from a cartoon.</td>\n",
       "    </tr>\n",
       "    <tr>\n",
       "      <th>1</th>\n",
       "      <td>2</td>\n",
       "      <td>2024-11-27T01:56:33Z</td>\n",
       "      <td>Tankz u for being so honest.\\nMuch love and re...</td>\n",
       "      <td>0</td>\n",
       "      <td>Tankz u for being so honest.\\nMuch love and re...</td>\n",
       "    </tr>\n",
       "    <tr>\n",
       "      <th>2</th>\n",
       "      <td>3</td>\n",
       "      <td>2024-11-26T18:27:21Z</td>\n",
       "      <td>Amazing review your really good at this love w...</td>\n",
       "      <td>0</td>\n",
       "      <td>Amazing review your really good at this love w...</td>\n",
       "    </tr>\n",
       "    <tr>\n",
       "      <th>3</th>\n",
       "      <td>5</td>\n",
       "      <td>2024-11-25T18:09:24Z</td>\n",
       "      <td>Honestly, the Cybertruck might be the first ca...</td>\n",
       "      <td>0</td>\n",
       "      <td>Honestly, the Cybertruck might be the first ca...</td>\n",
       "    </tr>\n",
       "    <tr>\n",
       "      <th>4</th>\n",
       "      <td>6</td>\n",
       "      <td>2024-11-25T03:55:09Z</td>\n",
       "      <td>I will be buying one anytime soon add expensiv...</td>\n",
       "      <td>0</td>\n",
       "      <td>I will be buying one anytime soon add expensiv...</td>\n",
       "    </tr>\n",
       "  </tbody>\n",
       "</table>\n",
       "</div>"
      ],
      "text/plain": [
       "   review_id           review_time  \\\n",
       "0          0  2024-11-28T13:41:44Z   \n",
       "1          2  2024-11-27T01:56:33Z   \n",
       "2          3  2024-11-26T18:27:21Z   \n",
       "3          5  2024-11-25T18:09:24Z   \n",
       "4          6  2024-11-25T03:55:09Z   \n",
       "\n",
       "                                              review  like  \\\n",
       "0    The cars design is like it came from a cartoon.     0   \n",
       "1  Tankz u for being so honest.\\nMuch love and re...     0   \n",
       "2  Amazing review your really good at this love w...     0   \n",
       "3  Honestly, the Cybertruck might be the first ca...     0   \n",
       "4  I will be buying one anytime soon add expensiv...     0   \n",
       "\n",
       "                                    review_processed  \n",
       "0    The cars design is like it came from a cartoon.  \n",
       "1  Tankz u for being so honest.\\nMuch love and re...  \n",
       "2  Amazing review your really good at this love w...  \n",
       "3  Honestly, the Cybertruck might be the first ca...  \n",
       "4  I will be buying one anytime soon add expensiv...  "
      ]
     },
     "execution_count": 9,
     "metadata": {},
     "output_type": "execute_result"
    }
   ],
   "source": [
    "# Apply extraction\n",
    "\n",
    "def process_text(x):\n",
    "    # Prepare sentence\n",
    "    texts = expand_contractions(x)\n",
    "    texts = remove_extra_spaces(x)\n",
    "    texts = remove_non_ascii(x)\n",
    "    \n",
    "    return texts\n",
    "\n",
    "df['review_processed'] = df['review'].apply(process_text)\n",
    "df.head()"
   ]
  },
  {
   "cell_type": "markdown",
   "id": "6c1d1004-6df2-4389-8d1c-daf125b8dc38",
   "metadata": {},
   "source": [
    "# Preprocessing"
   ]
  },
  {
   "cell_type": "code",
   "execution_count": 10,
   "id": "3d580e1c-4f6c-42b1-9768-f2651f5643fb",
   "metadata": {},
   "outputs": [],
   "source": [
    "def is_only_number(text):\n",
    "    \n",
    "    pattern = r'^\\d+$'\n",
    "    \n",
    "    if re.search(pattern, text, re.IGNORECASE):\n",
    "        return True\n",
    "    return False"
   ]
  },
  {
   "cell_type": "code",
   "execution_count": 11,
   "id": "d2d70093-af7e-4e85-8985-eb734cd39e6d",
   "metadata": {},
   "outputs": [],
   "source": [
    "# def extract_date(x):\n",
    "#     # Get current date\n",
    "#     current_date = pd.to_datetime(\"today\").date()\n",
    "\n",
    "#     offset, period, _ = x.split(\" \")\n",
    "#     if is_only_number(offset):\n",
    "#         offset = int(offset)\n",
    "#     else:\n",
    "#         offset = 1\n",
    "\n",
    "#     if \"year\" in period:\n",
    "#         offset = pd.DateOffset(years=offset)\n",
    "#     elif \"month\" in period:\n",
    "#         offset = pd.DateOffset(months=offset)\n",
    "#     else:\n",
    "#         offset = pd.DateOffset(days=offset)\n",
    "\n",
    "#     return (current_date - offset).date().strftime('%Y-%m-%d')"
   ]
  },
  {
   "cell_type": "code",
   "execution_count": 12,
   "id": "e8f8181f-5c03-4fdf-a3ba-07b3057e5717",
   "metadata": {},
   "outputs": [],
   "source": [
    "def extract_date(x):\n",
    "    # Convert to datetime\n",
    "    datetime_obj = datetime.strptime(x, '%Y-%m-%dT%H:%M:%SZ')\n",
    "\n",
    "    return str(datetime_obj.date())"
   ]
  },
  {
   "cell_type": "code",
   "execution_count": 13,
   "id": "4d89f976-04d2-49a7-b7ce-9c7e7815eb61",
   "metadata": {},
   "outputs": [],
   "source": [
    "def extract_rating(x):\n",
    "    score = x.split(\" \")[0]\n",
    "    return int(score)"
   ]
  },
  {
   "cell_type": "code",
   "execution_count": 14,
   "id": "dabdc188-e48b-41d2-9ad8-1b6e700ea8b5",
   "metadata": {},
   "outputs": [],
   "source": [
    "df['review_time'] = df['review_time'].apply(extract_date)"
   ]
  },
  {
   "cell_type": "code",
   "execution_count": 15,
   "id": "4344d187-d7bc-40dd-a454-9715a2e0555b",
   "metadata": {},
   "outputs": [],
   "source": [
    "# df['rating'] = df['rating'].apply(extract_rating)"
   ]
  },
  {
   "cell_type": "code",
   "execution_count": 16,
   "id": "fbb772bc-acb4-43dc-a776-a8dfab8b88fb",
   "metadata": {},
   "outputs": [
    {
     "name": "stdout",
     "output_type": "stream",
     "text": [
      "<class 'pandas.core.frame.DataFrame'>\n",
      "RangeIndex: 1511 entries, 0 to 1510\n",
      "Data columns (total 5 columns):\n",
      " #   Column            Non-Null Count  Dtype \n",
      "---  ------            --------------  ----- \n",
      " 0   review_id         1511 non-null   int64 \n",
      " 1   review_time       1511 non-null   object\n",
      " 2   review            1511 non-null   object\n",
      " 3   like              1511 non-null   int64 \n",
      " 4   review_processed  1511 non-null   object\n",
      "dtypes: int64(2), object(3)\n",
      "memory usage: 59.1+ KB\n",
      "None\n"
     ]
    },
    {
     "data": {
      "text/html": [
       "<div>\n",
       "<style scoped>\n",
       "    .dataframe tbody tr th:only-of-type {\n",
       "        vertical-align: middle;\n",
       "    }\n",
       "\n",
       "    .dataframe tbody tr th {\n",
       "        vertical-align: top;\n",
       "    }\n",
       "\n",
       "    .dataframe thead th {\n",
       "        text-align: right;\n",
       "    }\n",
       "</style>\n",
       "<table border=\"1\" class=\"dataframe\">\n",
       "  <thead>\n",
       "    <tr style=\"text-align: right;\">\n",
       "      <th></th>\n",
       "      <th>review_id</th>\n",
       "      <th>review_time</th>\n",
       "      <th>review</th>\n",
       "      <th>like</th>\n",
       "      <th>review_processed</th>\n",
       "    </tr>\n",
       "  </thead>\n",
       "  <tbody>\n",
       "    <tr>\n",
       "      <th>0</th>\n",
       "      <td>0</td>\n",
       "      <td>2024-11-28</td>\n",
       "      <td>The cars design is like it came from a cartoon.</td>\n",
       "      <td>0</td>\n",
       "      <td>The cars design is like it came from a cartoon.</td>\n",
       "    </tr>\n",
       "    <tr>\n",
       "      <th>1</th>\n",
       "      <td>2</td>\n",
       "      <td>2024-11-27</td>\n",
       "      <td>Tankz u for being so honest.\\nMuch love and re...</td>\n",
       "      <td>0</td>\n",
       "      <td>Tankz u for being so honest.\\nMuch love and re...</td>\n",
       "    </tr>\n",
       "    <tr>\n",
       "      <th>2</th>\n",
       "      <td>3</td>\n",
       "      <td>2024-11-26</td>\n",
       "      <td>Amazing review your really good at this love w...</td>\n",
       "      <td>0</td>\n",
       "      <td>Amazing review your really good at this love w...</td>\n",
       "    </tr>\n",
       "    <tr>\n",
       "      <th>3</th>\n",
       "      <td>5</td>\n",
       "      <td>2024-11-25</td>\n",
       "      <td>Honestly, the Cybertruck might be the first ca...</td>\n",
       "      <td>0</td>\n",
       "      <td>Honestly, the Cybertruck might be the first ca...</td>\n",
       "    </tr>\n",
       "    <tr>\n",
       "      <th>4</th>\n",
       "      <td>6</td>\n",
       "      <td>2024-11-25</td>\n",
       "      <td>I will be buying one anytime soon add expensiv...</td>\n",
       "      <td>0</td>\n",
       "      <td>I will be buying one anytime soon add expensiv...</td>\n",
       "    </tr>\n",
       "  </tbody>\n",
       "</table>\n",
       "</div>"
      ],
      "text/plain": [
       "   review_id review_time                                             review  \\\n",
       "0          0  2024-11-28    The cars design is like it came from a cartoon.   \n",
       "1          2  2024-11-27  Tankz u for being so honest.\\nMuch love and re...   \n",
       "2          3  2024-11-26  Amazing review your really good at this love w...   \n",
       "3          5  2024-11-25  Honestly, the Cybertruck might be the first ca...   \n",
       "4          6  2024-11-25  I will be buying one anytime soon add expensiv...   \n",
       "\n",
       "   like                                   review_processed  \n",
       "0     0    The cars design is like it came from a cartoon.  \n",
       "1     0  Tankz u for being so honest.\\nMuch love and re...  \n",
       "2     0  Amazing review your really good at this love w...  \n",
       "3     0  Honestly, the Cybertruck might be the first ca...  \n",
       "4     0  I will be buying one anytime soon add expensiv...  "
      ]
     },
     "execution_count": 16,
     "metadata": {},
     "output_type": "execute_result"
    }
   ],
   "source": [
    "print(df.info())\n",
    "df.head()"
   ]
  },
  {
   "cell_type": "markdown",
   "id": "595e0469-7235-41c8-ab8c-e1965a96319b",
   "metadata": {},
   "source": [
    "# Paraphrasing"
   ]
  },
  {
   "cell_type": "code",
   "execution_count": 17,
   "id": "916a8db0-7889-4f5f-bde8-1c3794813b9f",
   "metadata": {},
   "outputs": [],
   "source": [
    "def process(x):\n",
    "    tokens = word_tokenize(x)\n",
    "    print(\"NUM TOKEN: \", len(tokens))\n",
    "    if len(tokens) > 30:\n",
    "        set_max = int(0.99 * len(tokens))\n",
    "        set_min = int(0.25 * len(tokens))\n",
    "    \n",
    "        return modelBertSum(f\"correct:{x} </s>\", min_length=set_min, max_length=set_max)[0]['summary_text']\n",
    "    return x"
   ]
  },
  {
   "cell_type": "code",
   "execution_count": 18,
   "id": "df750dd9-516e-4c80-9a3a-57e3840e6c2a",
   "metadata": {},
   "outputs": [],
   "source": [
    "# Testing\n",
    "# for i in range(0, 30):\n",
    "#     sample = df['review_processed'].iloc[i]\n",
    "#     print(f\"{i}. \", sample)\n",
    "\n",
    "#     print(\"SUMMARIZE: \")\n",
    "#     print(process(sample))\n",
    "#     print()"
   ]
  },
  {
   "cell_type": "code",
   "execution_count": 19,
   "id": "1152b49d-4c0d-4a88-b0c8-b11b2c48a85d",
   "metadata": {},
   "outputs": [
    {
     "name": "stderr",
     "output_type": "stream",
     "text": [
      "  0%|                                                                                         | 0/1511 [00:00<?, ?it/s]"
     ]
    },
    {
     "name": "stdout",
     "output_type": "stream",
     "text": [
      "NUM TOKEN:  11\n",
      "NUM TOKEN:  13\n",
      "NUM TOKEN:  21\n",
      "NUM TOKEN:  42\n"
     ]
    },
    {
     "name": "stderr",
     "output_type": "stream",
     "text": [
      "  0%|▎                                                                                | 5/1511 [00:01<06:28,  3.87it/s]"
     ]
    },
    {
     "name": "stdout",
     "output_type": "stream",
     "text": [
      "NUM TOKEN:  59\n"
     ]
    },
    {
     "name": "stderr",
     "output_type": "stream",
     "text": [
      "  0%|▎                                                                                | 6/1511 [00:01<07:30,  3.34it/s]"
     ]
    },
    {
     "name": "stdout",
     "output_type": "stream",
     "text": [
      "NUM TOKEN:  39\n"
     ]
    },
    {
     "name": "stderr",
     "output_type": "stream",
     "text": [
      "  0%|▍                                                                                | 7/1511 [00:02<09:30,  2.64it/s]"
     ]
    },
    {
     "name": "stdout",
     "output_type": "stream",
     "text": [
      "NUM TOKEN:  10\n",
      "NUM TOKEN:  128\n"
     ]
    },
    {
     "name": "stderr",
     "output_type": "stream",
     "text": [
      "  1%|▍                                                                                | 9/1511 [00:03<12:03,  2.08it/s]"
     ]
    },
    {
     "name": "stdout",
     "output_type": "stream",
     "text": [
      "NUM TOKEN:  47\n"
     ]
    },
    {
     "name": "stderr",
     "output_type": "stream",
     "text": [
      "  1%|▌                                                                               | 10/1511 [00:04<11:38,  2.15it/s]"
     ]
    },
    {
     "name": "stdout",
     "output_type": "stream",
     "text": [
      "NUM TOKEN:  55\n"
     ]
    },
    {
     "name": "stderr",
     "output_type": "stream",
     "text": [
      "  1%|▌                                                                               | 11/1511 [00:04<13:17,  1.88it/s]"
     ]
    },
    {
     "name": "stdout",
     "output_type": "stream",
     "text": [
      "NUM TOKEN:  20\n",
      "NUM TOKEN:  13\n",
      "NUM TOKEN:  13\n",
      "NUM TOKEN:  76\n"
     ]
    },
    {
     "name": "stderr",
     "output_type": "stream",
     "text": [
      "  1%|▊                                                                               | 15/1511 [00:05<08:24,  2.97it/s]"
     ]
    },
    {
     "name": "stdout",
     "output_type": "stream",
     "text": [
      "NUM TOKEN:  16\n",
      "NUM TOKEN:  20\n",
      "NUM TOKEN:  19\n",
      "NUM TOKEN:  46\n"
     ]
    },
    {
     "name": "stderr",
     "output_type": "stream",
     "text": [
      "  1%|█                                                                               | 19/1511 [00:06<06:33,  3.79it/s]"
     ]
    },
    {
     "name": "stdout",
     "output_type": "stream",
     "text": [
      "NUM TOKEN:  20\n",
      "NUM TOKEN:  20\n",
      "NUM TOKEN:  81\n"
     ]
    },
    {
     "name": "stderr",
     "output_type": "stream",
     "text": [
      "  1%|█▏                                                                              | 22/1511 [00:06<05:40,  4.38it/s]"
     ]
    },
    {
     "name": "stdout",
     "output_type": "stream",
     "text": [
      "NUM TOKEN:  78\n"
     ]
    },
    {
     "name": "stderr",
     "output_type": "stream",
     "text": [
      "  2%|█▏                                                                              | 23/1511 [00:07<08:03,  3.08it/s]You seem to be using the pipelines sequentially on GPU. In order to maximize efficiency please use a dataset\n"
     ]
    },
    {
     "name": "stdout",
     "output_type": "stream",
     "text": [
      "NUM TOKEN:  26\n",
      "NUM TOKEN:  15\n",
      "NUM TOKEN:  154\n"
     ]
    },
    {
     "name": "stderr",
     "output_type": "stream",
     "text": [
      "  2%|█▍                                                                              | 26/1511 [00:08<07:30,  3.30it/s]"
     ]
    },
    {
     "name": "stdout",
     "output_type": "stream",
     "text": [
      "NUM TOKEN:  34\n"
     ]
    },
    {
     "name": "stderr",
     "output_type": "stream",
     "text": [
      "  2%|█▍                                                                              | 27/1511 [00:08<07:32,  3.28it/s]"
     ]
    },
    {
     "name": "stdout",
     "output_type": "stream",
     "text": [
      "NUM TOKEN:  27\n",
      "NUM TOKEN:  55\n"
     ]
    },
    {
     "name": "stderr",
     "output_type": "stream",
     "text": [
      "  2%|█▌                                                                              | 29/1511 [00:09<07:41,  3.21it/s]"
     ]
    },
    {
     "name": "stdout",
     "output_type": "stream",
     "text": [
      "NUM TOKEN:  15\n",
      "NUM TOKEN:  10\n",
      "NUM TOKEN:  11\n",
      "NUM TOKEN:  198\n"
     ]
    },
    {
     "name": "stderr",
     "output_type": "stream",
     "text": [
      "  2%|█▋                                                                              | 33/1511 [00:10<07:39,  3.21it/s]"
     ]
    },
    {
     "name": "stdout",
     "output_type": "stream",
     "text": [
      "NUM TOKEN:  8\n",
      "NUM TOKEN:  6\n",
      "NUM TOKEN:  57\n"
     ]
    },
    {
     "name": "stderr",
     "output_type": "stream",
     "text": [
      "  2%|█▉                                                                              | 36/1511 [00:11<06:59,  3.51it/s]"
     ]
    },
    {
     "name": "stdout",
     "output_type": "stream",
     "text": [
      "NUM TOKEN:  47\n"
     ]
    },
    {
     "name": "stderr",
     "output_type": "stream",
     "text": [
      "  2%|█▉                                                                              | 37/1511 [00:11<07:28,  3.29it/s]"
     ]
    },
    {
     "name": "stdout",
     "output_type": "stream",
     "text": [
      "NUM TOKEN:  2\n",
      "NUM TOKEN:  6\n",
      "NUM TOKEN:  34\n"
     ]
    },
    {
     "name": "stderr",
     "output_type": "stream",
     "text": [
      "  3%|██                                                                              | 40/1511 [00:12<06:13,  3.94it/s]"
     ]
    },
    {
     "name": "stdout",
     "output_type": "stream",
     "text": [
      "NUM TOKEN:  6\n",
      "NUM TOKEN:  6\n",
      "NUM TOKEN:  6\n",
      "NUM TOKEN:  21\n",
      "NUM TOKEN:  27\n",
      "NUM TOKEN:  6\n",
      "NUM TOKEN:  23\n",
      "NUM TOKEN:  22\n",
      "NUM TOKEN:  42\n"
     ]
    },
    {
     "name": "stderr",
     "output_type": "stream",
     "text": [
      "  3%|██▌                                                                             | 49/1511 [00:12<02:49,  8.60it/s]"
     ]
    },
    {
     "name": "stdout",
     "output_type": "stream",
     "text": [
      "NUM TOKEN:  7\n",
      "NUM TOKEN:  2\n",
      "NUM TOKEN:  18\n",
      "NUM TOKEN:  27\n",
      "NUM TOKEN:  6\n",
      "NUM TOKEN:  5\n",
      "NUM TOKEN:  16\n",
      "NUM TOKEN:  6\n",
      "NUM TOKEN:  26\n",
      "NUM TOKEN:  6\n",
      "NUM TOKEN:  8\n",
      "NUM TOKEN:  6\n",
      "NUM TOKEN:  2\n",
      "NUM TOKEN:  7\n",
      "NUM TOKEN:  6\n",
      "NUM TOKEN:  60\n"
     ]
    },
    {
     "name": "stderr",
     "output_type": "stream",
     "text": [
      "  4%|███▍                                                                            | 65/1511 [00:13<01:50, 13.08it/s]"
     ]
    },
    {
     "name": "stdout",
     "output_type": "stream",
     "text": [
      "NUM TOKEN:  6\n",
      "NUM TOKEN:  2\n",
      "NUM TOKEN:  28\n",
      "NUM TOKEN:  45\n"
     ]
    },
    {
     "name": "stderr",
     "output_type": "stream",
     "text": [
      "  5%|███▋                                                                            | 69/1511 [00:13<02:02, 11.77it/s]"
     ]
    },
    {
     "name": "stdout",
     "output_type": "stream",
     "text": [
      "NUM TOKEN:  2\n",
      "NUM TOKEN:  6\n",
      "NUM TOKEN:  6\n",
      "NUM TOKEN:  18\n",
      "NUM TOKEN:  9\n",
      "NUM TOKEN:  6\n",
      "NUM TOKEN:  6\n",
      "NUM TOKEN:  16\n",
      "NUM TOKEN:  6\n",
      "NUM TOKEN:  6\n",
      "NUM TOKEN:  66\n"
     ]
    },
    {
     "name": "stderr",
     "output_type": "stream",
     "text": [
      "  5%|████▏                                                                           | 80/1511 [00:14<01:55, 12.41it/s]"
     ]
    },
    {
     "name": "stdout",
     "output_type": "stream",
     "text": [
      "NUM TOKEN:  17\n",
      "NUM TOKEN:  54\n"
     ]
    },
    {
     "name": "stderr",
     "output_type": "stream",
     "text": [
      "  5%|████▎                                                                           | 82/1511 [00:15<02:34,  9.25it/s]"
     ]
    },
    {
     "name": "stdout",
     "output_type": "stream",
     "text": [
      "NUM TOKEN:  6\n",
      "NUM TOKEN:  6\n",
      "NUM TOKEN:  6\n",
      "NUM TOKEN:  6\n",
      "NUM TOKEN:  3\n",
      "NUM TOKEN:  59\n"
     ]
    },
    {
     "name": "stderr",
     "output_type": "stream",
     "text": [
      "  6%|████▋                                                                           | 88/1511 [00:16<02:40,  8.88it/s]"
     ]
    },
    {
     "name": "stdout",
     "output_type": "stream",
     "text": [
      "NUM TOKEN:  2\n",
      "NUM TOKEN:  29\n",
      "NUM TOKEN:  8\n",
      "NUM TOKEN:  30\n",
      "NUM TOKEN:  27\n",
      "NUM TOKEN:  14\n",
      "NUM TOKEN:  25\n",
      "NUM TOKEN:  15\n",
      "NUM TOKEN:  6\n",
      "NUM TOKEN:  737\n"
     ]
    },
    {
     "name": "stderr",
     "output_type": "stream",
     "text": [
      "  6%|█████▏                                                                          | 98/1511 [00:19<05:10,  4.56it/s]"
     ]
    },
    {
     "name": "stdout",
     "output_type": "stream",
     "text": [
      "NUM TOKEN:  19\n",
      "NUM TOKEN:  16\n",
      "NUM TOKEN:  45\n"
     ]
    },
    {
     "name": "stderr",
     "output_type": "stream",
     "text": [
      "  7%|█████▎                                                                         | 101/1511 [00:20<05:13,  4.49it/s]"
     ]
    },
    {
     "name": "stdout",
     "output_type": "stream",
     "text": [
      "NUM TOKEN:  27\n",
      "NUM TOKEN:  63\n"
     ]
    },
    {
     "name": "stderr",
     "output_type": "stream",
     "text": [
      "  7%|█████▍                                                                         | 103/1511 [00:21<05:30,  4.26it/s]"
     ]
    },
    {
     "name": "stdout",
     "output_type": "stream",
     "text": [
      "NUM TOKEN:  90\n"
     ]
    },
    {
     "name": "stderr",
     "output_type": "stream",
     "text": [
      "  7%|█████▍                                                                         | 104/1511 [00:22<06:58,  3.36it/s]"
     ]
    },
    {
     "name": "stdout",
     "output_type": "stream",
     "text": [
      "NUM TOKEN:  14\n",
      "NUM TOKEN:  47\n"
     ]
    },
    {
     "name": "stderr",
     "output_type": "stream",
     "text": [
      "  7%|█████▌                                                                         | 106/1511 [00:22<06:37,  3.54it/s]"
     ]
    },
    {
     "name": "stdout",
     "output_type": "stream",
     "text": [
      "NUM TOKEN:  103\n"
     ]
    },
    {
     "name": "stderr",
     "output_type": "stream",
     "text": [
      "  7%|█████▌                                                                         | 107/1511 [00:23<07:42,  3.04it/s]"
     ]
    },
    {
     "name": "stdout",
     "output_type": "stream",
     "text": [
      "NUM TOKEN:  8\n",
      "NUM TOKEN:  16\n",
      "NUM TOKEN:  13\n",
      "NUM TOKEN:  11\n",
      "NUM TOKEN:  9\n",
      "NUM TOKEN:  60\n"
     ]
    },
    {
     "name": "stderr",
     "output_type": "stream",
     "text": [
      "  7%|█████▉                                                                         | 113/1511 [00:23<04:38,  5.01it/s]"
     ]
    },
    {
     "name": "stdout",
     "output_type": "stream",
     "text": [
      "NUM TOKEN:  47\n"
     ]
    },
    {
     "name": "stderr",
     "output_type": "stream",
     "text": [
      "  8%|█████▉                                                                         | 114/1511 [00:24<05:34,  4.17it/s]"
     ]
    },
    {
     "name": "stdout",
     "output_type": "stream",
     "text": [
      "NUM TOKEN:  6\n",
      "NUM TOKEN:  2\n",
      "NUM TOKEN:  26\n",
      "NUM TOKEN:  14\n",
      "NUM TOKEN:  6\n",
      "NUM TOKEN:  52\n"
     ]
    },
    {
     "name": "stderr",
     "output_type": "stream",
     "text": [
      "  8%|██████▎                                                                        | 120/1511 [00:24<03:50,  6.04it/s]"
     ]
    },
    {
     "name": "stdout",
     "output_type": "stream",
     "text": [
      "NUM TOKEN:  35\n"
     ]
    },
    {
     "name": "stderr",
     "output_type": "stream",
     "text": [
      "  8%|██████▎                                                                        | 121/1511 [00:25<04:39,  4.98it/s]"
     ]
    },
    {
     "name": "stdout",
     "output_type": "stream",
     "text": [
      "NUM TOKEN:  40\n"
     ]
    },
    {
     "name": "stderr",
     "output_type": "stream",
     "text": [
      "  8%|██████▍                                                                        | 122/1511 [00:25<05:48,  3.98it/s]"
     ]
    },
    {
     "name": "stdout",
     "output_type": "stream",
     "text": [
      "NUM TOKEN:  48\n"
     ]
    },
    {
     "name": "stderr",
     "output_type": "stream",
     "text": [
      "  8%|██████▍                                                                        | 123/1511 [00:26<06:22,  3.63it/s]"
     ]
    },
    {
     "name": "stdout",
     "output_type": "stream",
     "text": [
      "NUM TOKEN:  28\n",
      "NUM TOKEN:  8\n",
      "NUM TOKEN:  8\n",
      "NUM TOKEN:  37\n"
     ]
    },
    {
     "name": "stderr",
     "output_type": "stream",
     "text": [
      "  8%|██████▋                                                                        | 127/1511 [00:26<04:49,  4.78it/s]"
     ]
    },
    {
     "name": "stdout",
     "output_type": "stream",
     "text": [
      "NUM TOKEN:  31\n"
     ]
    },
    {
     "name": "stderr",
     "output_type": "stream",
     "text": [
      "  8%|██████▋                                                                        | 128/1511 [00:27<05:37,  4.10it/s]"
     ]
    },
    {
     "name": "stdout",
     "output_type": "stream",
     "text": [
      "NUM TOKEN:  13\n",
      "NUM TOKEN:  19\n",
      "NUM TOKEN:  8\n",
      "NUM TOKEN:  44\n"
     ]
    },
    {
     "name": "stderr",
     "output_type": "stream",
     "text": [
      "  9%|██████▉                                                                        | 132/1511 [00:27<04:00,  5.73it/s]"
     ]
    },
    {
     "name": "stdout",
     "output_type": "stream",
     "text": [
      "NUM TOKEN:  30\n",
      "NUM TOKEN:  12\n",
      "NUM TOKEN:  22\n",
      "NUM TOKEN:  50\n"
     ]
    },
    {
     "name": "stderr",
     "output_type": "stream",
     "text": [
      "  9%|███████                                                                        | 136/1511 [00:28<03:28,  6.61it/s]"
     ]
    },
    {
     "name": "stdout",
     "output_type": "stream",
     "text": [
      "NUM TOKEN:  7\n",
      "NUM TOKEN:  36\n"
     ]
    },
    {
     "name": "stderr",
     "output_type": "stream",
     "text": [
      "  9%|███████▏                                                                       | 138/1511 [00:28<03:55,  5.82it/s]"
     ]
    },
    {
     "name": "stdout",
     "output_type": "stream",
     "text": [
      "NUM TOKEN:  93\n"
     ]
    },
    {
     "name": "stderr",
     "output_type": "stream",
     "text": [
      "  9%|███████▎                                                                       | 139/1511 [00:29<06:35,  3.47it/s]"
     ]
    },
    {
     "name": "stdout",
     "output_type": "stream",
     "text": [
      "NUM TOKEN:  12\n",
      "NUM TOKEN:  10\n",
      "NUM TOKEN:  14\n",
      "NUM TOKEN:  64\n"
     ]
    },
    {
     "name": "stderr",
     "output_type": "stream",
     "text": [
      "  9%|███████▍                                                                       | 143/1511 [00:30<05:36,  4.06it/s]"
     ]
    },
    {
     "name": "stdout",
     "output_type": "stream",
     "text": [
      "NUM TOKEN:  11\n",
      "NUM TOKEN:  34\n"
     ]
    },
    {
     "name": "stderr",
     "output_type": "stream",
     "text": [
      " 10%|███████▌                                                                       | 145/1511 [00:30<05:12,  4.38it/s]"
     ]
    },
    {
     "name": "stdout",
     "output_type": "stream",
     "text": [
      "NUM TOKEN:  27\n",
      "NUM TOKEN:  23\n",
      "NUM TOKEN:  21\n",
      "NUM TOKEN:  36\n"
     ]
    },
    {
     "name": "stderr",
     "output_type": "stream",
     "text": [
      " 10%|███████▊                                                                       | 149/1511 [00:31<04:10,  5.44it/s]"
     ]
    },
    {
     "name": "stdout",
     "output_type": "stream",
     "text": [
      "NUM TOKEN:  7\n",
      "NUM TOKEN:  9\n",
      "NUM TOKEN:  25\n",
      "NUM TOKEN:  10\n",
      "NUM TOKEN:  6\n",
      "NUM TOKEN:  21\n",
      "NUM TOKEN:  14\n",
      "NUM TOKEN:  60\n"
     ]
    },
    {
     "name": "stderr",
     "output_type": "stream",
     "text": [
      " 10%|████████▏                                                                      | 157/1511 [00:32<03:14,  6.96it/s]"
     ]
    },
    {
     "name": "stdout",
     "output_type": "stream",
     "text": [
      "NUM TOKEN:  56\n"
     ]
    },
    {
     "name": "stderr",
     "output_type": "stream",
     "text": [
      " 10%|████████▎                                                                      | 158/1511 [00:32<04:06,  5.49it/s]"
     ]
    },
    {
     "name": "stdout",
     "output_type": "stream",
     "text": [
      "NUM TOKEN:  13\n",
      "NUM TOKEN:  8\n",
      "NUM TOKEN:  53\n"
     ]
    },
    {
     "name": "stderr",
     "output_type": "stream",
     "text": [
      " 11%|████████▍                                                                      | 161/1511 [00:33<04:30,  5.00it/s]"
     ]
    },
    {
     "name": "stdout",
     "output_type": "stream",
     "text": [
      "NUM TOKEN:  44\n"
     ]
    },
    {
     "name": "stderr",
     "output_type": "stream",
     "text": [
      " 11%|████████▍                                                                      | 162/1511 [00:34<05:23,  4.17it/s]"
     ]
    },
    {
     "name": "stdout",
     "output_type": "stream",
     "text": [
      "NUM TOKEN:  17\n",
      "NUM TOKEN:  25\n",
      "NUM TOKEN:  12\n",
      "NUM TOKEN:  13\n",
      "NUM TOKEN:  10\n",
      "NUM TOKEN:  8\n",
      "NUM TOKEN:  104\n"
     ]
    },
    {
     "name": "stderr",
     "output_type": "stream",
     "text": [
      " 11%|████████▊                                                                      | 169/1511 [00:35<04:36,  4.86it/s]"
     ]
    },
    {
     "name": "stdout",
     "output_type": "stream",
     "text": [
      "NUM TOKEN:  229\n"
     ]
    },
    {
     "name": "stderr",
     "output_type": "stream",
     "text": [
      " 11%|████████▉                                                                      | 170/1511 [00:36<06:56,  3.22it/s]"
     ]
    },
    {
     "name": "stdout",
     "output_type": "stream",
     "text": [
      "NUM TOKEN:  12\n",
      "NUM TOKEN:  33\n"
     ]
    },
    {
     "name": "stderr",
     "output_type": "stream",
     "text": [
      " 11%|████████▉                                                                      | 172/1511 [00:36<06:25,  3.47it/s]"
     ]
    },
    {
     "name": "stdout",
     "output_type": "stream",
     "text": [
      "NUM TOKEN:  54\n"
     ]
    },
    {
     "name": "stderr",
     "output_type": "stream",
     "text": [
      " 11%|█████████                                                                      | 173/1511 [00:37<07:33,  2.95it/s]"
     ]
    },
    {
     "name": "stdout",
     "output_type": "stream",
     "text": [
      "NUM TOKEN:  29\n",
      "NUM TOKEN:  6\n",
      "NUM TOKEN:  31\n"
     ]
    },
    {
     "name": "stderr",
     "output_type": "stream",
     "text": [
      " 12%|█████████▏                                                                     | 176/1511 [00:37<05:22,  4.14it/s]"
     ]
    },
    {
     "name": "stdout",
     "output_type": "stream",
     "text": [
      "NUM TOKEN:  67\n"
     ]
    },
    {
     "name": "stderr",
     "output_type": "stream",
     "text": [
      " 12%|█████████▎                                                                     | 177/1511 [00:38<07:36,  2.92it/s]"
     ]
    },
    {
     "name": "stdout",
     "output_type": "stream",
     "text": [
      "NUM TOKEN:  16\n",
      "NUM TOKEN:  2\n",
      "NUM TOKEN:  31\n"
     ]
    },
    {
     "name": "stderr",
     "output_type": "stream",
     "text": [
      " 12%|█████████▍                                                                     | 180/1511 [00:39<05:53,  3.76it/s]"
     ]
    },
    {
     "name": "stdout",
     "output_type": "stream",
     "text": [
      "NUM TOKEN:  10\n",
      "NUM TOKEN:  11\n",
      "NUM TOKEN:  26\n",
      "NUM TOKEN:  24\n",
      "NUM TOKEN:  52\n"
     ]
    },
    {
     "name": "stderr",
     "output_type": "stream",
     "text": [
      " 12%|█████████▋                                                                     | 185/1511 [00:39<04:36,  4.79it/s]"
     ]
    },
    {
     "name": "stdout",
     "output_type": "stream",
     "text": [
      "NUM TOKEN:  23\n",
      "NUM TOKEN:  5\n",
      "NUM TOKEN:  23\n",
      "NUM TOKEN:  48\n"
     ]
    },
    {
     "name": "stderr",
     "output_type": "stream",
     "text": [
      " 13%|█████████▉                                                                     | 189/1511 [00:40<04:19,  5.09it/s]"
     ]
    },
    {
     "name": "stdout",
     "output_type": "stream",
     "text": [
      "NUM TOKEN:  47\n"
     ]
    },
    {
     "name": "stderr",
     "output_type": "stream",
     "text": [
      " 13%|█████████▉                                                                     | 190/1511 [00:41<05:36,  3.93it/s]"
     ]
    },
    {
     "name": "stdout",
     "output_type": "stream",
     "text": [
      "NUM TOKEN:  85\n"
     ]
    },
    {
     "name": "stderr",
     "output_type": "stream",
     "text": [
      " 13%|█████████▉                                                                     | 191/1511 [00:42<07:45,  2.84it/s]"
     ]
    },
    {
     "name": "stdout",
     "output_type": "stream",
     "text": [
      "NUM TOKEN:  38\n"
     ]
    },
    {
     "name": "stderr",
     "output_type": "stream",
     "text": [
      " 13%|██████████                                                                     | 192/1511 [00:42<08:13,  2.67it/s]"
     ]
    },
    {
     "name": "stdout",
     "output_type": "stream",
     "text": [
      "NUM TOKEN:  14\n",
      "NUM TOKEN:  12\n",
      "NUM TOKEN:  35\n"
     ]
    },
    {
     "name": "stderr",
     "output_type": "stream",
     "text": [
      " 13%|██████████▏                                                                    | 195/1511 [00:43<06:23,  3.43it/s]"
     ]
    },
    {
     "name": "stdout",
     "output_type": "stream",
     "text": [
      "NUM TOKEN:  10\n",
      "NUM TOKEN:  56\n"
     ]
    },
    {
     "name": "stderr",
     "output_type": "stream",
     "text": [
      " 13%|██████████▎                                                                    | 197/1511 [00:44<06:51,  3.19it/s]"
     ]
    },
    {
     "name": "stdout",
     "output_type": "stream",
     "text": [
      "NUM TOKEN:  95\n"
     ]
    },
    {
     "name": "stderr",
     "output_type": "stream",
     "text": [
      " 13%|██████████▎                                                                    | 198/1511 [00:44<08:58,  2.44it/s]"
     ]
    },
    {
     "name": "stdout",
     "output_type": "stream",
     "text": [
      "NUM TOKEN:  16\n",
      "NUM TOKEN:  57\n"
     ]
    },
    {
     "name": "stderr",
     "output_type": "stream",
     "text": [
      " 13%|██████████▍                                                                    | 200/1511 [00:45<08:54,  2.45it/s]"
     ]
    },
    {
     "name": "stdout",
     "output_type": "stream",
     "text": [
      "NUM TOKEN:  44\n"
     ]
    },
    {
     "name": "stderr",
     "output_type": "stream",
     "text": [
      " 13%|██████████▌                                                                    | 201/1511 [00:46<09:09,  2.39it/s]"
     ]
    },
    {
     "name": "stdout",
     "output_type": "stream",
     "text": [
      "NUM TOKEN:  16\n",
      "NUM TOKEN:  60\n"
     ]
    },
    {
     "name": "stderr",
     "output_type": "stream",
     "text": [
      " 13%|██████████▌                                                                    | 203/1511 [00:47<09:11,  2.37it/s]"
     ]
    },
    {
     "name": "stdout",
     "output_type": "stream",
     "text": [
      "NUM TOKEN:  17\n",
      "NUM TOKEN:  49\n"
     ]
    },
    {
     "name": "stderr",
     "output_type": "stream",
     "text": [
      " 14%|██████████▋                                                                    | 205/1511 [00:47<08:44,  2.49it/s]"
     ]
    },
    {
     "name": "stdout",
     "output_type": "stream",
     "text": [
      "NUM TOKEN:  16\n",
      "NUM TOKEN:  19\n",
      "NUM TOKEN:  47\n"
     ]
    },
    {
     "name": "stderr",
     "output_type": "stream",
     "text": [
      " 14%|██████████▊                                                                    | 208/1511 [00:48<06:08,  3.54it/s]"
     ]
    },
    {
     "name": "stdout",
     "output_type": "stream",
     "text": [
      "NUM TOKEN:  26\n",
      "NUM TOKEN:  31\n"
     ]
    },
    {
     "name": "stderr",
     "output_type": "stream",
     "text": [
      " 14%|██████████▉                                                                    | 210/1511 [00:48<05:24,  4.01it/s]"
     ]
    },
    {
     "name": "stdout",
     "output_type": "stream",
     "text": [
      "NUM TOKEN:  34\n"
     ]
    },
    {
     "name": "stderr",
     "output_type": "stream",
     "text": [
      " 14%|███████████                                                                    | 211/1511 [00:48<06:20,  3.42it/s]"
     ]
    },
    {
     "name": "stdout",
     "output_type": "stream",
     "text": [
      "NUM TOKEN:  24\n",
      "NUM TOKEN:  10\n",
      "NUM TOKEN:  61\n"
     ]
    },
    {
     "name": "stderr",
     "output_type": "stream",
     "text": [
      " 14%|███████████▏                                                                   | 214/1511 [00:49<06:23,  3.38it/s]"
     ]
    },
    {
     "name": "stdout",
     "output_type": "stream",
     "text": [
      "NUM TOKEN:  21\n",
      "NUM TOKEN:  27\n",
      "NUM TOKEN:  19\n",
      "NUM TOKEN:  10\n",
      "NUM TOKEN:  15\n",
      "NUM TOKEN:  26\n",
      "NUM TOKEN:  33\n"
     ]
    },
    {
     "name": "stderr",
     "output_type": "stream",
     "text": [
      " 15%|███████████▌                                                                   | 221/1511 [00:50<03:35,  5.97it/s]"
     ]
    },
    {
     "name": "stdout",
     "output_type": "stream",
     "text": [
      "NUM TOKEN:  41\n"
     ]
    },
    {
     "name": "stderr",
     "output_type": "stream",
     "text": [
      " 15%|███████████▌                                                                   | 222/1511 [00:51<04:32,  4.73it/s]"
     ]
    },
    {
     "name": "stdout",
     "output_type": "stream",
     "text": [
      "NUM TOKEN:  9\n",
      "NUM TOKEN:  33\n"
     ]
    },
    {
     "name": "stderr",
     "output_type": "stream",
     "text": [
      " 15%|███████████▋                                                                   | 224/1511 [00:51<04:39,  4.61it/s]"
     ]
    },
    {
     "name": "stdout",
     "output_type": "stream",
     "text": [
      "NUM TOKEN:  39\n"
     ]
    },
    {
     "name": "stderr",
     "output_type": "stream",
     "text": [
      " 15%|███████████▊                                                                   | 225/1511 [00:51<05:28,  3.91it/s]"
     ]
    },
    {
     "name": "stdout",
     "output_type": "stream",
     "text": [
      "NUM TOKEN:  29\n",
      "NUM TOKEN:  26\n",
      "NUM TOKEN:  68\n"
     ]
    },
    {
     "name": "stderr",
     "output_type": "stream",
     "text": [
      " 15%|███████████▉                                                                   | 228/1511 [00:52<05:08,  4.16it/s]"
     ]
    },
    {
     "name": "stdout",
     "output_type": "stream",
     "text": [
      "NUM TOKEN:  16\n",
      "NUM TOKEN:  27\n",
      "NUM TOKEN:  49\n"
     ]
    },
    {
     "name": "stderr",
     "output_type": "stream",
     "text": [
      " 15%|████████████                                                                   | 231/1511 [00:53<04:41,  4.55it/s]"
     ]
    },
    {
     "name": "stdout",
     "output_type": "stream",
     "text": [
      "NUM TOKEN:  326\n"
     ]
    },
    {
     "name": "stderr",
     "output_type": "stream",
     "text": [
      " 15%|████████████▏                                                                  | 232/1511 [00:54<09:23,  2.27it/s]"
     ]
    },
    {
     "name": "stdout",
     "output_type": "stream",
     "text": [
      "NUM TOKEN:  55\n"
     ]
    },
    {
     "name": "stderr",
     "output_type": "stream",
     "text": [
      " 15%|████████████▏                                                                  | 233/1511 [00:55<10:39,  2.00it/s]"
     ]
    },
    {
     "name": "stdout",
     "output_type": "stream",
     "text": [
      "NUM TOKEN:  42\n"
     ]
    },
    {
     "name": "stderr",
     "output_type": "stream",
     "text": [
      " 15%|████████████▏                                                                  | 234/1511 [00:56<11:10,  1.90it/s]"
     ]
    },
    {
     "name": "stdout",
     "output_type": "stream",
     "text": [
      "NUM TOKEN:  9\n",
      "NUM TOKEN:  1\n",
      "NUM TOKEN:  123\n"
     ]
    },
    {
     "name": "stderr",
     "output_type": "stream",
     "text": [
      " 16%|████████████▍                                                                  | 237/1511 [00:57<09:51,  2.15it/s]"
     ]
    },
    {
     "name": "stdout",
     "output_type": "stream",
     "text": [
      "NUM TOKEN:  50\n"
     ]
    },
    {
     "name": "stderr",
     "output_type": "stream",
     "text": [
      " 16%|████████████▍                                                                  | 238/1511 [00:58<10:51,  1.95it/s]"
     ]
    },
    {
     "name": "stdout",
     "output_type": "stream",
     "text": [
      "NUM TOKEN:  28\n",
      "NUM TOKEN:  26\n",
      "NUM TOKEN:  19\n",
      "NUM TOKEN:  15\n",
      "NUM TOKEN:  12\n",
      "NUM TOKEN:  35\n"
     ]
    },
    {
     "name": "stderr",
     "output_type": "stream",
     "text": [
      " 16%|████████████▊                                                                  | 244/1511 [00:58<05:20,  3.96it/s]"
     ]
    },
    {
     "name": "stdout",
     "output_type": "stream",
     "text": [
      "NUM TOKEN:  143\n"
     ]
    },
    {
     "name": "stderr",
     "output_type": "stream",
     "text": [
      " 16%|████████████▊                                                                  | 245/1511 [00:59<07:36,  2.78it/s]"
     ]
    },
    {
     "name": "stdout",
     "output_type": "stream",
     "text": [
      "NUM TOKEN:  11\n",
      "NUM TOKEN:  8\n",
      "NUM TOKEN:  50\n"
     ]
    },
    {
     "name": "stderr",
     "output_type": "stream",
     "text": [
      " 16%|████████████▉                                                                  | 248/1511 [01:00<06:20,  3.32it/s]"
     ]
    },
    {
     "name": "stdout",
     "output_type": "stream",
     "text": [
      "NUM TOKEN:  36\n"
     ]
    },
    {
     "name": "stderr",
     "output_type": "stream",
     "text": [
      " 16%|█████████████                                                                  | 249/1511 [01:00<07:01,  3.00it/s]"
     ]
    },
    {
     "name": "stdout",
     "output_type": "stream",
     "text": [
      "NUM TOKEN:  35\n"
     ]
    },
    {
     "name": "stderr",
     "output_type": "stream",
     "text": [
      " 17%|█████████████                                                                  | 250/1511 [01:01<07:36,  2.76it/s]"
     ]
    },
    {
     "name": "stdout",
     "output_type": "stream",
     "text": [
      "NUM TOKEN:  17\n",
      "NUM TOKEN:  16\n",
      "NUM TOKEN:  126\n"
     ]
    },
    {
     "name": "stderr",
     "output_type": "stream",
     "text": [
      " 17%|█████████████▏                                                                 | 253/1511 [01:02<08:14,  2.55it/s]"
     ]
    },
    {
     "name": "stdout",
     "output_type": "stream",
     "text": [
      "NUM TOKEN:  46\n"
     ]
    },
    {
     "name": "stderr",
     "output_type": "stream",
     "text": [
      " 17%|█████████████▎                                                                 | 254/1511 [01:03<09:16,  2.26it/s]"
     ]
    },
    {
     "name": "stdout",
     "output_type": "stream",
     "text": [
      "NUM TOKEN:  32\n"
     ]
    },
    {
     "name": "stderr",
     "output_type": "stream",
     "text": [
      " 17%|█████████████▎                                                                 | 255/1511 [01:03<09:14,  2.27it/s]"
     ]
    },
    {
     "name": "stdout",
     "output_type": "stream",
     "text": [
      "NUM TOKEN:  30\n",
      "NUM TOKEN:  20\n",
      "NUM TOKEN:  39\n"
     ]
    },
    {
     "name": "stderr",
     "output_type": "stream",
     "text": [
      " 17%|█████████████▍                                                                 | 258/1511 [01:04<06:30,  3.20it/s]"
     ]
    },
    {
     "name": "stdout",
     "output_type": "stream",
     "text": [
      "NUM TOKEN:  31\n"
     ]
    },
    {
     "name": "stderr",
     "output_type": "stream",
     "text": [
      " 17%|█████████████▌                                                                 | 259/1511 [01:04<07:03,  2.95it/s]"
     ]
    },
    {
     "name": "stdout",
     "output_type": "stream",
     "text": [
      "NUM TOKEN:  52\n"
     ]
    },
    {
     "name": "stderr",
     "output_type": "stream",
     "text": [
      " 17%|█████████████▌                                                                 | 260/1511 [01:05<07:36,  2.74it/s]"
     ]
    },
    {
     "name": "stdout",
     "output_type": "stream",
     "text": [
      "NUM TOKEN:  12\n",
      "NUM TOKEN:  7\n",
      "NUM TOKEN:  191\n"
     ]
    },
    {
     "name": "stderr",
     "output_type": "stream",
     "text": [
      " 17%|█████████████▊                                                                 | 263/1511 [01:06<07:18,  2.85it/s]"
     ]
    },
    {
     "name": "stdout",
     "output_type": "stream",
     "text": [
      "NUM TOKEN:  12\n",
      "NUM TOKEN:  12\n",
      "NUM TOKEN:  65\n"
     ]
    },
    {
     "name": "stderr",
     "output_type": "stream",
     "text": [
      " 18%|█████████████▉                                                                 | 266/1511 [01:06<06:04,  3.41it/s]"
     ]
    },
    {
     "name": "stdout",
     "output_type": "stream",
     "text": [
      "NUM TOKEN:  53\n"
     ]
    },
    {
     "name": "stderr",
     "output_type": "stream",
     "text": [
      " 18%|█████████████▉                                                                 | 267/1511 [01:07<07:43,  2.69it/s]"
     ]
    },
    {
     "name": "stdout",
     "output_type": "stream",
     "text": [
      "NUM TOKEN:  26\n",
      "NUM TOKEN:  84\n"
     ]
    },
    {
     "name": "stderr",
     "output_type": "stream",
     "text": [
      " 18%|██████████████                                                                 | 269/1511 [01:08<07:34,  2.73it/s]"
     ]
    },
    {
     "name": "stdout",
     "output_type": "stream",
     "text": [
      "NUM TOKEN:  53\n"
     ]
    },
    {
     "name": "stderr",
     "output_type": "stream",
     "text": [
      " 18%|██████████████                                                                 | 270/1511 [01:09<09:07,  2.27it/s]"
     ]
    },
    {
     "name": "stdout",
     "output_type": "stream",
     "text": [
      "NUM TOKEN:  56\n"
     ]
    },
    {
     "name": "stderr",
     "output_type": "stream",
     "text": [
      " 18%|██████████████▏                                                                | 271/1511 [01:09<09:22,  2.20it/s]"
     ]
    },
    {
     "name": "stdout",
     "output_type": "stream",
     "text": [
      "NUM TOKEN:  10\n",
      "NUM TOKEN:  32\n"
     ]
    },
    {
     "name": "stderr",
     "output_type": "stream",
     "text": [
      " 18%|██████████████▎                                                                | 273/1511 [01:10<07:44,  2.66it/s]"
     ]
    },
    {
     "name": "stdout",
     "output_type": "stream",
     "text": [
      "NUM TOKEN:  23\n",
      "NUM TOKEN:  1\n",
      "NUM TOKEN:  13\n",
      "NUM TOKEN:  44\n"
     ]
    },
    {
     "name": "stderr",
     "output_type": "stream",
     "text": [
      " 18%|██████████████▍                                                                | 277/1511 [01:10<05:30,  3.73it/s]"
     ]
    },
    {
     "name": "stdout",
     "output_type": "stream",
     "text": [
      "NUM TOKEN:  36\n"
     ]
    },
    {
     "name": "stderr",
     "output_type": "stream",
     "text": [
      " 18%|██████████████▌                                                                | 278/1511 [01:11<06:20,  3.24it/s]"
     ]
    },
    {
     "name": "stdout",
     "output_type": "stream",
     "text": [
      "NUM TOKEN:  8\n",
      "NUM TOKEN:  10\n",
      "NUM TOKEN:  41\n"
     ]
    },
    {
     "name": "stderr",
     "output_type": "stream",
     "text": [
      " 19%|██████████████▋                                                                | 281/1511 [01:11<05:28,  3.75it/s]"
     ]
    },
    {
     "name": "stdout",
     "output_type": "stream",
     "text": [
      "NUM TOKEN:  12\n",
      "NUM TOKEN:  14\n",
      "NUM TOKEN:  19\n",
      "NUM TOKEN:  53\n"
     ]
    },
    {
     "name": "stderr",
     "output_type": "stream",
     "text": [
      " 19%|██████████████▉                                                                | 285/1511 [01:12<04:06,  4.98it/s]"
     ]
    },
    {
     "name": "stdout",
     "output_type": "stream",
     "text": [
      "NUM TOKEN:  196\n"
     ]
    },
    {
     "name": "stderr",
     "output_type": "stream",
     "text": [
      " 19%|██████████████▉                                                                | 286/1511 [01:13<06:09,  3.32it/s]"
     ]
    },
    {
     "name": "stdout",
     "output_type": "stream",
     "text": [
      "NUM TOKEN:  69\n"
     ]
    },
    {
     "name": "stderr",
     "output_type": "stream",
     "text": [
      " 19%|███████████████                                                                | 287/1511 [01:13<06:51,  2.98it/s]"
     ]
    },
    {
     "name": "stdout",
     "output_type": "stream",
     "text": [
      "NUM TOKEN:  248\n"
     ]
    },
    {
     "name": "stderr",
     "output_type": "stream",
     "text": [
      " 19%|███████████████                                                                | 288/1511 [01:15<10:22,  1.97it/s]"
     ]
    },
    {
     "name": "stdout",
     "output_type": "stream",
     "text": [
      "NUM TOKEN:  23\n",
      "NUM TOKEN:  32\n"
     ]
    },
    {
     "name": "stderr",
     "output_type": "stream",
     "text": [
      " 19%|███████████████▏                                                               | 290/1511 [01:15<08:29,  2.39it/s]"
     ]
    },
    {
     "name": "stdout",
     "output_type": "stream",
     "text": [
      "NUM TOKEN:  18\n",
      "NUM TOKEN:  256\n"
     ]
    },
    {
     "name": "stderr",
     "output_type": "stream",
     "text": [
      " 19%|███████████████▎                                                               | 292/1511 [01:17<10:12,  1.99it/s]"
     ]
    },
    {
     "name": "stdout",
     "output_type": "stream",
     "text": [
      "NUM TOKEN:  13\n",
      "NUM TOKEN:  32\n"
     ]
    },
    {
     "name": "stderr",
     "output_type": "stream",
     "text": [
      " 19%|███████████████▎                                                               | 294/1511 [01:17<08:26,  2.40it/s]"
     ]
    },
    {
     "name": "stdout",
     "output_type": "stream",
     "text": [
      "NUM TOKEN:  53\n"
     ]
    },
    {
     "name": "stderr",
     "output_type": "stream",
     "text": [
      " 20%|███████████████▍                                                               | 295/1511 [01:18<09:29,  2.13it/s]"
     ]
    },
    {
     "name": "stdout",
     "output_type": "stream",
     "text": [
      "NUM TOKEN:  36\n"
     ]
    },
    {
     "name": "stderr",
     "output_type": "stream",
     "text": [
      " 20%|███████████████▍                                                               | 296/1511 [01:18<09:23,  2.16it/s]"
     ]
    },
    {
     "name": "stdout",
     "output_type": "stream",
     "text": [
      "NUM TOKEN:  15\n",
      "NUM TOKEN:  128\n"
     ]
    },
    {
     "name": "stderr",
     "output_type": "stream",
     "text": [
      " 20%|███████████████▌                                                               | 298/1511 [01:19<08:55,  2.27it/s]"
     ]
    },
    {
     "name": "stdout",
     "output_type": "stream",
     "text": [
      "NUM TOKEN:  48\n"
     ]
    },
    {
     "name": "stderr",
     "output_type": "stream",
     "text": [
      " 20%|███████████████▋                                                               | 299/1511 [01:20<10:04,  2.01it/s]"
     ]
    },
    {
     "name": "stdout",
     "output_type": "stream",
     "text": [
      "NUM TOKEN:  19\n",
      "NUM TOKEN:  1\n",
      "NUM TOKEN:  44\n"
     ]
    },
    {
     "name": "stderr",
     "output_type": "stream",
     "text": [
      " 20%|███████████████▊                                                               | 302/1511 [01:20<07:23,  2.73it/s]"
     ]
    },
    {
     "name": "stdout",
     "output_type": "stream",
     "text": [
      "NUM TOKEN:  17\n",
      "NUM TOKEN:  73\n"
     ]
    },
    {
     "name": "stderr",
     "output_type": "stream",
     "text": [
      " 20%|███████████████▉                                                               | 304/1511 [01:21<07:18,  2.75it/s]"
     ]
    },
    {
     "name": "stdout",
     "output_type": "stream",
     "text": [
      "NUM TOKEN:  26\n",
      "NUM TOKEN:  14\n",
      "NUM TOKEN:  30\n",
      "NUM TOKEN:  1\n",
      "NUM TOKEN:  34\n"
     ]
    },
    {
     "name": "stderr",
     "output_type": "stream",
     "text": [
      " 20%|████████████████▏                                                              | 309/1511 [01:21<04:13,  4.74it/s]"
     ]
    },
    {
     "name": "stdout",
     "output_type": "stream",
     "text": [
      "NUM TOKEN:  95\n"
     ]
    },
    {
     "name": "stderr",
     "output_type": "stream",
     "text": [
      " 21%|████████████████▏                                                              | 310/1511 [01:22<05:35,  3.58it/s]"
     ]
    },
    {
     "name": "stdout",
     "output_type": "stream",
     "text": [
      "NUM TOKEN:  45\n"
     ]
    },
    {
     "name": "stderr",
     "output_type": "stream",
     "text": [
      " 21%|████████████████▎                                                              | 311/1511 [01:23<06:49,  2.93it/s]"
     ]
    },
    {
     "name": "stdout",
     "output_type": "stream",
     "text": [
      "NUM TOKEN:  14\n",
      "NUM TOKEN:  13\n",
      "NUM TOKEN:  20\n",
      "NUM TOKEN:  24\n",
      "NUM TOKEN:  17\n",
      "NUM TOKEN:  56\n"
     ]
    },
    {
     "name": "stderr",
     "output_type": "stream",
     "text": [
      " 21%|████████████████▌                                                              | 317/1511 [01:24<04:28,  4.45it/s]"
     ]
    },
    {
     "name": "stdout",
     "output_type": "stream",
     "text": [
      "NUM TOKEN:  26\n",
      "NUM TOKEN:  113\n"
     ]
    },
    {
     "name": "stderr",
     "output_type": "stream",
     "text": [
      " 21%|████████████████▋                                                              | 319/1511 [01:24<05:18,  3.74it/s]"
     ]
    },
    {
     "name": "stdout",
     "output_type": "stream",
     "text": [
      "NUM TOKEN:  122\n"
     ]
    },
    {
     "name": "stderr",
     "output_type": "stream",
     "text": [
      " 21%|████████████████▋                                                              | 320/1511 [01:26<08:14,  2.41it/s]"
     ]
    },
    {
     "name": "stdout",
     "output_type": "stream",
     "text": [
      "NUM TOKEN:  13\n",
      "NUM TOKEN:  63\n"
     ]
    },
    {
     "name": "stderr",
     "output_type": "stream",
     "text": [
      " 21%|████████████████▊                                                              | 322/1511 [01:27<08:29,  2.34it/s]"
     ]
    },
    {
     "name": "stdout",
     "output_type": "stream",
     "text": [
      "NUM TOKEN:  14\n",
      "NUM TOKEN:  69\n"
     ]
    },
    {
     "name": "stderr",
     "output_type": "stream",
     "text": [
      " 21%|████████████████▉                                                              | 324/1511 [01:28<08:25,  2.35it/s]"
     ]
    },
    {
     "name": "stdout",
     "output_type": "stream",
     "text": [
      "NUM TOKEN:  19\n",
      "NUM TOKEN:  78\n"
     ]
    },
    {
     "name": "stderr",
     "output_type": "stream",
     "text": [
      " 22%|█████████████████                                                              | 326/1511 [01:28<07:25,  2.66it/s]"
     ]
    },
    {
     "name": "stdout",
     "output_type": "stream",
     "text": [
      "NUM TOKEN:  66\n"
     ]
    },
    {
     "name": "stderr",
     "output_type": "stream",
     "text": [
      " 22%|█████████████████                                                              | 327/1511 [01:29<08:41,  2.27it/s]"
     ]
    },
    {
     "name": "stdout",
     "output_type": "stream",
     "text": [
      "NUM TOKEN:  22\n",
      "NUM TOKEN:  42\n"
     ]
    },
    {
     "name": "stderr",
     "output_type": "stream",
     "text": [
      " 22%|█████████████████▏                                                             | 329/1511 [01:29<07:38,  2.58it/s]"
     ]
    },
    {
     "name": "stdout",
     "output_type": "stream",
     "text": [
      "NUM TOKEN:  61\n"
     ]
    },
    {
     "name": "stderr",
     "output_type": "stream",
     "text": [
      " 22%|█████████████████▎                                                             | 330/1511 [01:30<09:16,  2.12it/s]"
     ]
    },
    {
     "name": "stdout",
     "output_type": "stream",
     "text": [
      "NUM TOKEN:  21\n",
      "NUM TOKEN:  181\n"
     ]
    },
    {
     "name": "stderr",
     "output_type": "stream",
     "text": [
      " 22%|█████████████████▎                                                             | 332/1511 [01:32<10:55,  1.80it/s]"
     ]
    },
    {
     "name": "stdout",
     "output_type": "stream",
     "text": [
      "NUM TOKEN:  42\n"
     ]
    },
    {
     "name": "stderr",
     "output_type": "stream",
     "text": [
      " 22%|█████████████████▍                                                             | 333/1511 [01:32<11:20,  1.73it/s]"
     ]
    },
    {
     "name": "stdout",
     "output_type": "stream",
     "text": [
      "NUM TOKEN:  60\n"
     ]
    },
    {
     "name": "stderr",
     "output_type": "stream",
     "text": [
      " 22%|█████████████████▍                                                             | 334/1511 [01:33<10:56,  1.79it/s]"
     ]
    },
    {
     "name": "stdout",
     "output_type": "stream",
     "text": [
      "NUM TOKEN:  23\n",
      "NUM TOKEN:  30\n",
      "NUM TOKEN:  19\n",
      "NUM TOKEN:  25\n",
      "NUM TOKEN:  14\n",
      "NUM TOKEN:  13\n",
      "NUM TOKEN:  29\n",
      "NUM TOKEN:  31\n"
     ]
    },
    {
     "name": "stderr",
     "output_type": "stream",
     "text": [
      " 23%|█████████████████▉                                                             | 342/1511 [01:33<03:54,  4.99it/s]"
     ]
    },
    {
     "name": "stdout",
     "output_type": "stream",
     "text": [
      "NUM TOKEN:  14\n",
      "NUM TOKEN:  35\n"
     ]
    },
    {
     "name": "stderr",
     "output_type": "stream",
     "text": [
      " 23%|█████████████████▉                                                             | 344/1511 [01:34<04:01,  4.82it/s]"
     ]
    },
    {
     "name": "stdout",
     "output_type": "stream",
     "text": [
      "NUM TOKEN:  8\n",
      "NUM TOKEN:  48\n"
     ]
    },
    {
     "name": "stderr",
     "output_type": "stream",
     "text": [
      " 23%|██████████████████                                                             | 346/1511 [01:35<04:48,  4.04it/s]"
     ]
    },
    {
     "name": "stdout",
     "output_type": "stream",
     "text": [
      "NUM TOKEN:  7\n",
      "NUM TOKEN:  16\n",
      "NUM TOKEN:  14\n",
      "NUM TOKEN:  38\n"
     ]
    },
    {
     "name": "stderr",
     "output_type": "stream",
     "text": [
      " 23%|██████████████████▎                                                            | 350/1511 [01:35<03:41,  5.25it/s]"
     ]
    },
    {
     "name": "stdout",
     "output_type": "stream",
     "text": [
      "NUM TOKEN:  91\n"
     ]
    },
    {
     "name": "stderr",
     "output_type": "stream",
     "text": [
      " 23%|██████████████████▎                                                            | 351/1511 [01:36<05:13,  3.69it/s]"
     ]
    },
    {
     "name": "stdout",
     "output_type": "stream",
     "text": [
      "NUM TOKEN:  18\n",
      "NUM TOKEN:  43\n"
     ]
    },
    {
     "name": "stderr",
     "output_type": "stream",
     "text": [
      " 23%|██████████████████▍                                                            | 353/1511 [01:36<05:25,  3.56it/s]"
     ]
    },
    {
     "name": "stdout",
     "output_type": "stream",
     "text": [
      "NUM TOKEN:  34\n"
     ]
    },
    {
     "name": "stderr",
     "output_type": "stream",
     "text": [
      " 23%|██████████████████▌                                                            | 354/1511 [01:37<06:01,  3.20it/s]"
     ]
    },
    {
     "name": "stdout",
     "output_type": "stream",
     "text": [
      "NUM TOKEN:  57\n"
     ]
    },
    {
     "name": "stderr",
     "output_type": "stream",
     "text": [
      " 23%|██████████████████▌                                                            | 355/1511 [01:37<06:34,  2.93it/s]"
     ]
    },
    {
     "name": "stdout",
     "output_type": "stream",
     "text": [
      "NUM TOKEN:  88\n"
     ]
    },
    {
     "name": "stderr",
     "output_type": "stream",
     "text": [
      " 24%|██████████████████▌                                                            | 356/1511 [01:38<07:29,  2.57it/s]"
     ]
    },
    {
     "name": "stdout",
     "output_type": "stream",
     "text": [
      "NUM TOKEN:  73\n"
     ]
    },
    {
     "name": "stderr",
     "output_type": "stream",
     "text": [
      " 24%|██████████████████▋                                                            | 357/1511 [01:39<08:32,  2.25it/s]"
     ]
    },
    {
     "name": "stdout",
     "output_type": "stream",
     "text": [
      "NUM TOKEN:  12\n",
      "NUM TOKEN:  16\n",
      "NUM TOKEN:  17\n",
      "NUM TOKEN:  21\n",
      "NUM TOKEN:  29\n",
      "NUM TOKEN:  17\n",
      "NUM TOKEN:  44\n"
     ]
    },
    {
     "name": "stderr",
     "output_type": "stream",
     "text": [
      " 24%|███████████████████                                                            | 364/1511 [01:39<03:39,  5.23it/s]"
     ]
    },
    {
     "name": "stdout",
     "output_type": "stream",
     "text": [
      "NUM TOKEN:  29\n",
      "NUM TOKEN:  55\n"
     ]
    },
    {
     "name": "stderr",
     "output_type": "stream",
     "text": [
      " 24%|███████████████████▏                                                           | 366/1511 [01:40<04:05,  4.67it/s]"
     ]
    },
    {
     "name": "stdout",
     "output_type": "stream",
     "text": [
      "NUM TOKEN:  60\n"
     ]
    },
    {
     "name": "stderr",
     "output_type": "stream",
     "text": [
      " 24%|███████████████████▏                                                           | 367/1511 [01:40<05:28,  3.48it/s]"
     ]
    },
    {
     "name": "stdout",
     "output_type": "stream",
     "text": [
      "NUM TOKEN:  46\n"
     ]
    },
    {
     "name": "stderr",
     "output_type": "stream",
     "text": [
      " 24%|███████████████████▏                                                           | 368/1511 [01:41<06:45,  2.82it/s]"
     ]
    },
    {
     "name": "stdout",
     "output_type": "stream",
     "text": [
      "NUM TOKEN:  21\n",
      "NUM TOKEN:  29\n",
      "NUM TOKEN:  33\n"
     ]
    },
    {
     "name": "stderr",
     "output_type": "stream",
     "text": [
      " 25%|███████████████████▍                                                           | 371/1511 [01:42<05:14,  3.62it/s]"
     ]
    },
    {
     "name": "stdout",
     "output_type": "stream",
     "text": [
      "NUM TOKEN:  7\n",
      "NUM TOKEN:  17\n",
      "NUM TOKEN:  94\n"
     ]
    },
    {
     "name": "stderr",
     "output_type": "stream",
     "text": [
      " 25%|███████████████████▌                                                           | 374/1511 [01:43<06:29,  2.92it/s]"
     ]
    },
    {
     "name": "stdout",
     "output_type": "stream",
     "text": [
      "NUM TOKEN:  36\n"
     ]
    },
    {
     "name": "stderr",
     "output_type": "stream",
     "text": [
      " 25%|███████████████████▌                                                           | 375/1511 [01:44<06:56,  2.73it/s]"
     ]
    },
    {
     "name": "stdout",
     "output_type": "stream",
     "text": [
      "NUM TOKEN:  18\n",
      "NUM TOKEN:  43\n"
     ]
    },
    {
     "name": "stderr",
     "output_type": "stream",
     "text": [
      " 25%|███████████████████▋                                                           | 377/1511 [01:44<06:40,  2.83it/s]"
     ]
    },
    {
     "name": "stdout",
     "output_type": "stream",
     "text": [
      "NUM TOKEN:  34\n"
     ]
    },
    {
     "name": "stderr",
     "output_type": "stream",
     "text": [
      " 25%|███████████████████▊                                                           | 378/1511 [01:45<07:10,  2.63it/s]"
     ]
    },
    {
     "name": "stdout",
     "output_type": "stream",
     "text": [
      "NUM TOKEN:  27\n",
      "NUM TOKEN:  61\n"
     ]
    },
    {
     "name": "stderr",
     "output_type": "stream",
     "text": [
      " 25%|███████████████████▊                                                           | 380/1511 [01:45<07:16,  2.59it/s]"
     ]
    },
    {
     "name": "stdout",
     "output_type": "stream",
     "text": [
      "NUM TOKEN:  15\n",
      "NUM TOKEN:  98\n"
     ]
    },
    {
     "name": "stderr",
     "output_type": "stream",
     "text": [
      " 25%|███████████████████▉                                                           | 382/1511 [01:47<08:09,  2.31it/s]"
     ]
    },
    {
     "name": "stdout",
     "output_type": "stream",
     "text": [
      "NUM TOKEN:  6\n",
      "NUM TOKEN:  39\n"
     ]
    },
    {
     "name": "stderr",
     "output_type": "stream",
     "text": [
      " 25%|████████████████████                                                           | 384/1511 [01:47<07:19,  2.56it/s]"
     ]
    },
    {
     "name": "stdout",
     "output_type": "stream",
     "text": [
      "NUM TOKEN:  18\n",
      "NUM TOKEN:  60\n"
     ]
    },
    {
     "name": "stderr",
     "output_type": "stream",
     "text": [
      " 26%|████████████████████▏                                                          | 386/1511 [01:48<06:24,  2.92it/s]"
     ]
    },
    {
     "name": "stdout",
     "output_type": "stream",
     "text": [
      "NUM TOKEN:  17\n",
      "NUM TOKEN:  19\n",
      "NUM TOKEN:  49\n"
     ]
    },
    {
     "name": "stderr",
     "output_type": "stream",
     "text": [
      " 26%|████████████████████▎                                                          | 389/1511 [01:48<05:47,  3.23it/s]"
     ]
    },
    {
     "name": "stdout",
     "output_type": "stream",
     "text": [
      "NUM TOKEN:  17\n",
      "NUM TOKEN:  25\n",
      "NUM TOKEN:  5\n",
      "NUM TOKEN:  22\n",
      "NUM TOKEN:  13\n",
      "NUM TOKEN:  260\n"
     ]
    },
    {
     "name": "stderr",
     "output_type": "stream",
     "text": [
      " 26%|████████████████████▋                                                          | 395/1511 [01:50<05:18,  3.51it/s]"
     ]
    },
    {
     "name": "stdout",
     "output_type": "stream",
     "text": [
      "NUM TOKEN:  23\n",
      "NUM TOKEN:  12\n",
      "NUM TOKEN:  6\n",
      "NUM TOKEN:  47\n"
     ]
    },
    {
     "name": "stderr",
     "output_type": "stream",
     "text": [
      " 26%|████████████████████▊                                                          | 399/1511 [01:51<04:34,  4.05it/s]"
     ]
    },
    {
     "name": "stdout",
     "output_type": "stream",
     "text": [
      "NUM TOKEN:  1\n",
      "NUM TOKEN:  117\n"
     ]
    },
    {
     "name": "stderr",
     "output_type": "stream",
     "text": [
      " 27%|████████████████████▉                                                          | 401/1511 [01:52<05:11,  3.57it/s]"
     ]
    },
    {
     "name": "stdout",
     "output_type": "stream",
     "text": [
      "NUM TOKEN:  80\n"
     ]
    },
    {
     "name": "stderr",
     "output_type": "stream",
     "text": [
      " 27%|█████████████████████                                                          | 402/1511 [01:52<06:09,  3.00it/s]"
     ]
    },
    {
     "name": "stdout",
     "output_type": "stream",
     "text": [
      "NUM TOKEN:  70\n"
     ]
    },
    {
     "name": "stderr",
     "output_type": "stream",
     "text": [
      " 27%|█████████████████████                                                          | 403/1511 [01:53<07:32,  2.45it/s]"
     ]
    },
    {
     "name": "stdout",
     "output_type": "stream",
     "text": [
      "NUM TOKEN:  36\n"
     ]
    },
    {
     "name": "stderr",
     "output_type": "stream",
     "text": [
      " 27%|█████████████████████                                                          | 404/1511 [01:54<08:03,  2.29it/s]"
     ]
    },
    {
     "name": "stdout",
     "output_type": "stream",
     "text": [
      "NUM TOKEN:  49\n"
     ]
    },
    {
     "name": "stderr",
     "output_type": "stream",
     "text": [
      " 27%|█████████████████████▏                                                         | 405/1511 [01:54<09:06,  2.02it/s]"
     ]
    },
    {
     "name": "stdout",
     "output_type": "stream",
     "text": [
      "NUM TOKEN:  78\n"
     ]
    },
    {
     "name": "stderr",
     "output_type": "stream",
     "text": [
      " 27%|█████████████████████▏                                                         | 406/1511 [01:55<10:59,  1.68it/s]"
     ]
    },
    {
     "name": "stdout",
     "output_type": "stream",
     "text": [
      "NUM TOKEN:  23\n",
      "NUM TOKEN:  42\n"
     ]
    },
    {
     "name": "stderr",
     "output_type": "stream",
     "text": [
      " 27%|█████████████████████▎                                                         | 408/1511 [01:56<09:03,  2.03it/s]"
     ]
    },
    {
     "name": "stdout",
     "output_type": "stream",
     "text": [
      "NUM TOKEN:  90\n"
     ]
    },
    {
     "name": "stderr",
     "output_type": "stream",
     "text": [
      " 27%|█████████████████████▍                                                         | 409/1511 [01:57<09:44,  1.88it/s]"
     ]
    },
    {
     "name": "stdout",
     "output_type": "stream",
     "text": [
      "NUM TOKEN:  36\n"
     ]
    },
    {
     "name": "stderr",
     "output_type": "stream",
     "text": [
      " 27%|█████████████████████▍                                                         | 410/1511 [01:57<09:08,  2.01it/s]"
     ]
    },
    {
     "name": "stdout",
     "output_type": "stream",
     "text": [
      "NUM TOKEN:  6\n",
      "NUM TOKEN:  23\n",
      "NUM TOKEN:  10\n",
      "NUM TOKEN:  20\n",
      "NUM TOKEN:  18\n",
      "NUM TOKEN:  24\n",
      "NUM TOKEN:  41\n"
     ]
    },
    {
     "name": "stderr",
     "output_type": "stream",
     "text": [
      " 28%|█████████████████████▊                                                         | 417/1511 [01:58<03:48,  4.79it/s]"
     ]
    },
    {
     "name": "stdout",
     "output_type": "stream",
     "text": [
      "NUM TOKEN:  53\n"
     ]
    },
    {
     "name": "stderr",
     "output_type": "stream",
     "text": [
      " 28%|█████████████████████▊                                                         | 418/1511 [01:58<05:01,  3.62it/s]"
     ]
    },
    {
     "name": "stdout",
     "output_type": "stream",
     "text": [
      "NUM TOKEN:  7\n",
      "NUM TOKEN:  27\n",
      "NUM TOKEN:  18\n",
      "NUM TOKEN:  66\n"
     ]
    },
    {
     "name": "stderr",
     "output_type": "stream",
     "text": [
      " 28%|██████████████████████                                                         | 422/1511 [01:59<04:26,  4.09it/s]"
     ]
    },
    {
     "name": "stdout",
     "output_type": "stream",
     "text": [
      "NUM TOKEN:  24\n",
      "NUM TOKEN:  20\n",
      "NUM TOKEN:  23\n",
      "NUM TOKEN:  29\n",
      "NUM TOKEN:  10\n",
      "NUM TOKEN:  30\n",
      "NUM TOKEN:  5\n",
      "NUM TOKEN:  153\n"
     ]
    },
    {
     "name": "stderr",
     "output_type": "stream",
     "text": [
      " 28%|██████████████████████▍                                                        | 430/1511 [02:00<03:12,  5.61it/s]"
     ]
    },
    {
     "name": "stdout",
     "output_type": "stream",
     "text": [
      "NUM TOKEN:  47\n"
     ]
    },
    {
     "name": "stderr",
     "output_type": "stream",
     "text": [
      " 29%|██████████████████████▌                                                        | 431/1511 [02:01<03:33,  5.05it/s]"
     ]
    },
    {
     "name": "stdout",
     "output_type": "stream",
     "text": [
      "NUM TOKEN:  29\n",
      "NUM TOKEN:  8\n",
      "NUM TOKEN:  2\n",
      "NUM TOKEN:  21\n",
      "NUM TOKEN:  56\n"
     ]
    },
    {
     "name": "stderr",
     "output_type": "stream",
     "text": [
      " 29%|██████████████████████▊                                                        | 436/1511 [02:01<03:20,  5.37it/s]"
     ]
    },
    {
     "name": "stdout",
     "output_type": "stream",
     "text": [
      "NUM TOKEN:  15\n",
      "NUM TOKEN:  17\n",
      "NUM TOKEN:  413\n"
     ]
    },
    {
     "name": "stderr",
     "output_type": "stream",
     "text": [
      " 29%|██████████████████████▉                                                        | 439/1511 [02:03<05:21,  3.34it/s]"
     ]
    },
    {
     "name": "stdout",
     "output_type": "stream",
     "text": [
      "NUM TOKEN:  160\n"
     ]
    },
    {
     "name": "stderr",
     "output_type": "stream",
     "text": [
      " 29%|███████████████████████                                                        | 440/1511 [02:04<06:08,  2.90it/s]"
     ]
    },
    {
     "name": "stdout",
     "output_type": "stream",
     "text": [
      "NUM TOKEN:  25\n",
      "NUM TOKEN:  37\n"
     ]
    },
    {
     "name": "stderr",
     "output_type": "stream",
     "text": [
      " 29%|███████████████████████                                                        | 442/1511 [02:05<05:55,  3.01it/s]"
     ]
    },
    {
     "name": "stdout",
     "output_type": "stream",
     "text": [
      "NUM TOKEN:  20\n",
      "NUM TOKEN:  11\n",
      "NUM TOKEN:  47\n"
     ]
    },
    {
     "name": "stderr",
     "output_type": "stream",
     "text": [
      " 29%|███████████████████████▎                                                       | 445/1511 [02:05<05:20,  3.32it/s]"
     ]
    },
    {
     "name": "stdout",
     "output_type": "stream",
     "text": [
      "NUM TOKEN:  112\n"
     ]
    },
    {
     "name": "stderr",
     "output_type": "stream",
     "text": [
      " 30%|███████████████████████▎                                                       | 446/1511 [02:06<06:41,  2.65it/s]"
     ]
    },
    {
     "name": "stdout",
     "output_type": "stream",
     "text": [
      "NUM TOKEN:  12\n",
      "NUM TOKEN:  1\n",
      "NUM TOKEN:  27\n",
      "NUM TOKEN:  32\n"
     ]
    },
    {
     "name": "stderr",
     "output_type": "stream",
     "text": [
      " 30%|███████████████████████▌                                                       | 450/1511 [02:07<04:42,  3.76it/s]"
     ]
    },
    {
     "name": "stdout",
     "output_type": "stream",
     "text": [
      "NUM TOKEN:  109\n"
     ]
    },
    {
     "name": "stderr",
     "output_type": "stream",
     "text": [
      " 30%|███████████████████████▌                                                       | 451/1511 [02:08<06:14,  2.83it/s]"
     ]
    },
    {
     "name": "stdout",
     "output_type": "stream",
     "text": [
      "NUM TOKEN:  35\n"
     ]
    },
    {
     "name": "stderr",
     "output_type": "stream",
     "text": [
      " 30%|███████████████████████▋                                                       | 452/1511 [02:08<06:41,  2.64it/s]"
     ]
    },
    {
     "name": "stdout",
     "output_type": "stream",
     "text": [
      "NUM TOKEN:  15\n",
      "NUM TOKEN:  16\n",
      "NUM TOKEN:  23\n",
      "NUM TOKEN:  59\n"
     ]
    },
    {
     "name": "stderr",
     "output_type": "stream",
     "text": [
      " 30%|███████████████████████▊                                                       | 456/1511 [02:09<04:55,  3.57it/s]"
     ]
    },
    {
     "name": "stdout",
     "output_type": "stream",
     "text": [
      "NUM TOKEN:  81\n"
     ]
    },
    {
     "name": "stderr",
     "output_type": "stream",
     "text": [
      " 30%|███████████████████████▉                                                       | 457/1511 [02:10<06:29,  2.70it/s]"
     ]
    },
    {
     "name": "stdout",
     "output_type": "stream",
     "text": [
      "NUM TOKEN:  113\n"
     ]
    },
    {
     "name": "stderr",
     "output_type": "stream",
     "text": [
      " 30%|███████████████████████▉                                                       | 458/1511 [02:11<08:33,  2.05it/s]"
     ]
    },
    {
     "name": "stdout",
     "output_type": "stream",
     "text": [
      "NUM TOKEN:  13\n",
      "NUM TOKEN:  20\n",
      "NUM TOKEN:  7\n",
      "NUM TOKEN:  66\n"
     ]
    },
    {
     "name": "stderr",
     "output_type": "stream",
     "text": [
      " 31%|████████████████████████▏                                                      | 462/1511 [02:12<06:02,  2.90it/s]"
     ]
    },
    {
     "name": "stdout",
     "output_type": "stream",
     "text": [
      "NUM TOKEN:  50\n"
     ]
    },
    {
     "name": "stderr",
     "output_type": "stream",
     "text": [
      " 31%|████████████████████████▏                                                      | 463/1511 [02:12<06:41,  2.61it/s]"
     ]
    },
    {
     "name": "stdout",
     "output_type": "stream",
     "text": [
      "NUM TOKEN:  32\n"
     ]
    },
    {
     "name": "stderr",
     "output_type": "stream",
     "text": [
      " 31%|████████████████████████▎                                                      | 464/1511 [02:13<06:53,  2.53it/s]"
     ]
    },
    {
     "name": "stdout",
     "output_type": "stream",
     "text": [
      "NUM TOKEN:  85\n"
     ]
    },
    {
     "name": "stderr",
     "output_type": "stream",
     "text": [
      " 31%|████████████████████████▎                                                      | 465/1511 [02:13<07:57,  2.19it/s]"
     ]
    },
    {
     "name": "stdout",
     "output_type": "stream",
     "text": [
      "NUM TOKEN:  46\n"
     ]
    },
    {
     "name": "stderr",
     "output_type": "stream",
     "text": [
      " 31%|████████████████████████▎                                                      | 466/1511 [02:14<07:34,  2.30it/s]"
     ]
    },
    {
     "name": "stdout",
     "output_type": "stream",
     "text": [
      "NUM TOKEN:  44\n"
     ]
    },
    {
     "name": "stderr",
     "output_type": "stream",
     "text": [
      " 31%|████████████████████████▍                                                      | 467/1511 [02:14<07:52,  2.21it/s]"
     ]
    },
    {
     "name": "stdout",
     "output_type": "stream",
     "text": [
      "NUM TOKEN:  10\n",
      "NUM TOKEN:  54\n"
     ]
    },
    {
     "name": "stderr",
     "output_type": "stream",
     "text": [
      " 31%|████████████████████████▌                                                      | 469/1511 [02:15<07:20,  2.37it/s]"
     ]
    },
    {
     "name": "stdout",
     "output_type": "stream",
     "text": [
      "NUM TOKEN:  16\n",
      "NUM TOKEN:  9\n",
      "NUM TOKEN:  35\n"
     ]
    },
    {
     "name": "stderr",
     "output_type": "stream",
     "text": [
      " 31%|████████████████████████▋                                                      | 472/1511 [02:15<05:03,  3.42it/s]"
     ]
    },
    {
     "name": "stdout",
     "output_type": "stream",
     "text": [
      "NUM TOKEN:  37\n"
     ]
    },
    {
     "name": "stderr",
     "output_type": "stream",
     "text": [
      " 31%|████████████████████████▋                                                      | 473/1511 [02:16<05:56,  2.91it/s]"
     ]
    },
    {
     "name": "stdout",
     "output_type": "stream",
     "text": [
      "NUM TOKEN:  13\n",
      "NUM TOKEN:  17\n",
      "NUM TOKEN:  96\n"
     ]
    },
    {
     "name": "stderr",
     "output_type": "stream",
     "text": [
      " 32%|████████████████████████▉                                                      | 476/1511 [02:17<05:05,  3.39it/s]"
     ]
    },
    {
     "name": "stdout",
     "output_type": "stream",
     "text": [
      "NUM TOKEN:  21\n",
      "NUM TOKEN:  9\n",
      "NUM TOKEN:  21\n",
      "NUM TOKEN:  28\n",
      "NUM TOKEN:  34\n"
     ]
    },
    {
     "name": "stderr",
     "output_type": "stream",
     "text": [
      " 32%|█████████████████████████▏                                                     | 481/1511 [02:17<03:20,  5.14it/s]"
     ]
    },
    {
     "name": "stdout",
     "output_type": "stream",
     "text": [
      "NUM TOKEN:  27\n",
      "NUM TOKEN:  9\n",
      "NUM TOKEN:  10\n",
      "NUM TOKEN:  21\n",
      "NUM TOKEN:  27\n",
      "NUM TOKEN:  95\n"
     ]
    },
    {
     "name": "stderr",
     "output_type": "stream",
     "text": [
      " 32%|█████████████████████████▍                                                     | 487/1511 [02:18<02:59,  5.72it/s]"
     ]
    },
    {
     "name": "stdout",
     "output_type": "stream",
     "text": [
      "NUM TOKEN:  10\n",
      "NUM TOKEN:  15\n",
      "NUM TOKEN:  12\n",
      "NUM TOKEN:  21\n",
      "NUM TOKEN:  10\n",
      "NUM TOKEN:  49\n"
     ]
    },
    {
     "name": "stderr",
     "output_type": "stream",
     "text": [
      " 33%|█████████████████████████▊                                                     | 493/1511 [02:19<02:21,  7.18it/s]"
     ]
    },
    {
     "name": "stdout",
     "output_type": "stream",
     "text": [
      "NUM TOKEN:  24\n",
      "NUM TOKEN:  90\n"
     ]
    },
    {
     "name": "stderr",
     "output_type": "stream",
     "text": [
      " 33%|█████████████████████████▉                                                     | 495/1511 [02:20<03:18,  5.12it/s]"
     ]
    },
    {
     "name": "stdout",
     "output_type": "stream",
     "text": [
      "NUM TOKEN:  21\n",
      "NUM TOKEN:  22\n",
      "NUM TOKEN:  111\n"
     ]
    },
    {
     "name": "stderr",
     "output_type": "stream",
     "text": [
      " 33%|██████████████████████████                                                     | 498/1511 [02:20<03:18,  5.11it/s]"
     ]
    },
    {
     "name": "stdout",
     "output_type": "stream",
     "text": [
      "NUM TOKEN:  29\n",
      "NUM TOKEN:  12\n",
      "NUM TOKEN:  38\n"
     ]
    },
    {
     "name": "stderr",
     "output_type": "stream",
     "text": [
      " 33%|██████████████████████████▏                                                    | 501/1511 [02:21<03:10,  5.30it/s]"
     ]
    },
    {
     "name": "stdout",
     "output_type": "stream",
     "text": [
      "NUM TOKEN:  27\n",
      "NUM TOKEN:  48\n"
     ]
    },
    {
     "name": "stderr",
     "output_type": "stream",
     "text": [
      " 33%|██████████████████████████▎                                                    | 503/1511 [02:21<03:43,  4.50it/s]"
     ]
    },
    {
     "name": "stdout",
     "output_type": "stream",
     "text": [
      "NUM TOKEN:  27\n",
      "NUM TOKEN:  1\n",
      "NUM TOKEN:  8\n",
      "NUM TOKEN:  25\n",
      "NUM TOKEN:  14\n",
      "NUM TOKEN:  16\n",
      "NUM TOKEN:  282\n"
     ]
    },
    {
     "name": "stderr",
     "output_type": "stream",
     "text": [
      " 34%|██████████████████████████▋                                                    | 510/1511 [02:23<03:22,  4.94it/s]"
     ]
    },
    {
     "name": "stdout",
     "output_type": "stream",
     "text": [
      "NUM TOKEN:  74\n"
     ]
    },
    {
     "name": "stderr",
     "output_type": "stream",
     "text": [
      " 34%|██████████████████████████▋                                                    | 511/1511 [02:23<03:57,  4.21it/s]"
     ]
    },
    {
     "name": "stdout",
     "output_type": "stream",
     "text": [
      "NUM TOKEN:  50\n"
     ]
    },
    {
     "name": "stderr",
     "output_type": "stream",
     "text": [
      " 34%|██████████████████████████▊                                                    | 512/1511 [02:24<04:25,  3.77it/s]"
     ]
    },
    {
     "name": "stdout",
     "output_type": "stream",
     "text": [
      "NUM TOKEN:  20\n",
      "NUM TOKEN:  97\n"
     ]
    },
    {
     "name": "stderr",
     "output_type": "stream",
     "text": [
      " 34%|██████████████████████████▊                                                    | 514/1511 [02:24<04:26,  3.74it/s]"
     ]
    },
    {
     "name": "stdout",
     "output_type": "stream",
     "text": [
      "NUM TOKEN:  14\n",
      "NUM TOKEN:  35\n"
     ]
    },
    {
     "name": "stderr",
     "output_type": "stream",
     "text": [
      " 34%|██████████████████████████▉                                                    | 516/1511 [02:25<04:24,  3.76it/s]"
     ]
    },
    {
     "name": "stdout",
     "output_type": "stream",
     "text": [
      "NUM TOKEN:  123\n"
     ]
    },
    {
     "name": "stderr",
     "output_type": "stream",
     "text": [
      " 34%|███████████████████████████                                                    | 517/1511 [02:25<05:32,  2.99it/s]"
     ]
    },
    {
     "name": "stdout",
     "output_type": "stream",
     "text": [
      "NUM TOKEN:  138\n"
     ]
    },
    {
     "name": "stderr",
     "output_type": "stream",
     "text": [
      " 34%|███████████████████████████                                                    | 518/1511 [02:26<07:09,  2.31it/s]"
     ]
    },
    {
     "name": "stdout",
     "output_type": "stream",
     "text": [
      "NUM TOKEN:  273\n"
     ]
    },
    {
     "name": "stderr",
     "output_type": "stream",
     "text": [
      " 34%|███████████████████████████▏                                                   | 519/1511 [02:28<10:25,  1.58it/s]"
     ]
    },
    {
     "name": "stdout",
     "output_type": "stream",
     "text": [
      "NUM TOKEN:  71\n"
     ]
    },
    {
     "name": "stderr",
     "output_type": "stream",
     "text": [
      " 34%|███████████████████████████▏                                                   | 520/1511 [02:28<09:50,  1.68it/s]"
     ]
    },
    {
     "name": "stdout",
     "output_type": "stream",
     "text": [
      "NUM TOKEN:  71\n"
     ]
    },
    {
     "name": "stderr",
     "output_type": "stream",
     "text": [
      " 34%|███████████████████████████▏                                                   | 521/1511 [02:29<10:06,  1.63it/s]"
     ]
    },
    {
     "name": "stdout",
     "output_type": "stream",
     "text": [
      "NUM TOKEN:  73\n"
     ]
    },
    {
     "name": "stderr",
     "output_type": "stream",
     "text": [
      " 35%|███████████████████████████▎                                                   | 522/1511 [02:30<10:37,  1.55it/s]"
     ]
    },
    {
     "name": "stdout",
     "output_type": "stream",
     "text": [
      "NUM TOKEN:  43\n"
     ]
    },
    {
     "name": "stderr",
     "output_type": "stream",
     "text": [
      " 35%|███████████████████████████▎                                                   | 523/1511 [02:30<10:18,  1.60it/s]"
     ]
    },
    {
     "name": "stdout",
     "output_type": "stream",
     "text": [
      "NUM TOKEN:  16\n",
      "NUM TOKEN:  40\n"
     ]
    },
    {
     "name": "stderr",
     "output_type": "stream",
     "text": [
      " 35%|███████████████████████████▍                                                   | 525/1511 [02:31<07:59,  2.06it/s]"
     ]
    },
    {
     "name": "stdout",
     "output_type": "stream",
     "text": [
      "NUM TOKEN:  8\n",
      "NUM TOKEN:  48\n"
     ]
    },
    {
     "name": "stderr",
     "output_type": "stream",
     "text": [
      " 35%|███████████████████████████▌                                                   | 527/1511 [02:31<06:27,  2.54it/s]"
     ]
    },
    {
     "name": "stdout",
     "output_type": "stream",
     "text": [
      "NUM TOKEN:  29\n",
      "NUM TOKEN:  42\n"
     ]
    },
    {
     "name": "stderr",
     "output_type": "stream",
     "text": [
      " 35%|███████████████████████████▋                                                   | 529/1511 [02:32<05:55,  2.76it/s]"
     ]
    },
    {
     "name": "stdout",
     "output_type": "stream",
     "text": [
      "NUM TOKEN:  54\n"
     ]
    },
    {
     "name": "stderr",
     "output_type": "stream",
     "text": [
      " 35%|███████████████████████████▋                                                   | 530/1511 [02:33<07:33,  2.16it/s]"
     ]
    },
    {
     "name": "stdout",
     "output_type": "stream",
     "text": [
      "NUM TOKEN:  49\n"
     ]
    },
    {
     "name": "stderr",
     "output_type": "stream",
     "text": [
      " 35%|███████████████████████████▊                                                   | 531/1511 [02:33<08:14,  1.98it/s]"
     ]
    },
    {
     "name": "stdout",
     "output_type": "stream",
     "text": [
      "NUM TOKEN:  1\n",
      "NUM TOKEN:  10\n",
      "NUM TOKEN:  19\n",
      "NUM TOKEN:  33\n"
     ]
    },
    {
     "name": "stderr",
     "output_type": "stream",
     "text": [
      " 35%|███████████████████████████▉                                                   | 535/1511 [02:34<04:41,  3.46it/s]"
     ]
    },
    {
     "name": "stdout",
     "output_type": "stream",
     "text": [
      "NUM TOKEN:  15\n",
      "NUM TOKEN:  7\n",
      "NUM TOKEN:  16\n",
      "NUM TOKEN:  8\n",
      "NUM TOKEN:  79\n"
     ]
    },
    {
     "name": "stderr",
     "output_type": "stream",
     "text": [
      " 36%|████████████████████████████▏                                                  | 540/1511 [02:35<03:43,  4.34it/s]"
     ]
    },
    {
     "name": "stdout",
     "output_type": "stream",
     "text": [
      "NUM TOKEN:  21\n",
      "NUM TOKEN:  9\n",
      "NUM TOKEN:  37\n"
     ]
    },
    {
     "name": "stderr",
     "output_type": "stream",
     "text": [
      " 36%|████████████████████████████▍                                                  | 543/1511 [02:35<03:28,  4.63it/s]"
     ]
    },
    {
     "name": "stdout",
     "output_type": "stream",
     "text": [
      "NUM TOKEN:  106\n"
     ]
    },
    {
     "name": "stderr",
     "output_type": "stream",
     "text": [
      " 36%|████████████████████████████▍                                                  | 544/1511 [02:36<04:30,  3.58it/s]"
     ]
    },
    {
     "name": "stdout",
     "output_type": "stream",
     "text": [
      "NUM TOKEN:  151\n"
     ]
    },
    {
     "name": "stderr",
     "output_type": "stream",
     "text": [
      " 36%|████████████████████████████▍                                                  | 545/1511 [02:37<06:30,  2.47it/s]"
     ]
    },
    {
     "name": "stdout",
     "output_type": "stream",
     "text": [
      "NUM TOKEN:  63\n"
     ]
    },
    {
     "name": "stderr",
     "output_type": "stream",
     "text": [
      " 36%|████████████████████████████▌                                                  | 546/1511 [02:38<07:30,  2.14it/s]"
     ]
    },
    {
     "name": "stdout",
     "output_type": "stream",
     "text": [
      "NUM TOKEN:  127\n"
     ]
    },
    {
     "name": "stderr",
     "output_type": "stream",
     "text": [
      " 36%|████████████████████████████▌                                                  | 547/1511 [02:39<08:44,  1.84it/s]"
     ]
    },
    {
     "name": "stdout",
     "output_type": "stream",
     "text": [
      "NUM TOKEN:  158\n"
     ]
    },
    {
     "name": "stderr",
     "output_type": "stream",
     "text": [
      " 36%|████████████████████████████▋                                                  | 548/1511 [02:40<10:29,  1.53it/s]"
     ]
    },
    {
     "name": "stdout",
     "output_type": "stream",
     "text": [
      "NUM TOKEN:  49\n"
     ]
    },
    {
     "name": "stderr",
     "output_type": "stream",
     "text": [
      " 36%|████████████████████████████▋                                                  | 549/1511 [02:40<10:36,  1.51it/s]"
     ]
    },
    {
     "name": "stdout",
     "output_type": "stream",
     "text": [
      "NUM TOKEN:  27\n",
      "NUM TOKEN:  16\n",
      "NUM TOKEN:  23\n",
      "NUM TOKEN:  25\n",
      "NUM TOKEN:  48\n"
     ]
    },
    {
     "name": "stderr",
     "output_type": "stream",
     "text": [
      " 37%|████████████████████████████▉                                                  | 554/1511 [02:41<05:08,  3.10it/s]"
     ]
    },
    {
     "name": "stdout",
     "output_type": "stream",
     "text": [
      "NUM TOKEN:  81\n"
     ]
    },
    {
     "name": "stderr",
     "output_type": "stream",
     "text": [
      " 37%|█████████████████████████████                                                  | 555/1511 [02:42<05:43,  2.79it/s]"
     ]
    },
    {
     "name": "stdout",
     "output_type": "stream",
     "text": [
      "NUM TOKEN:  39\n"
     ]
    },
    {
     "name": "stderr",
     "output_type": "stream",
     "text": [
      " 37%|█████████████████████████████                                                  | 556/1511 [02:42<06:18,  2.53it/s]"
     ]
    },
    {
     "name": "stdout",
     "output_type": "stream",
     "text": [
      "NUM TOKEN:  23\n",
      "NUM TOKEN:  30\n",
      "NUM TOKEN:  39\n"
     ]
    },
    {
     "name": "stderr",
     "output_type": "stream",
     "text": [
      " 37%|█████████████████████████████▏                                                 | 559/1511 [02:43<04:53,  3.25it/s]"
     ]
    },
    {
     "name": "stdout",
     "output_type": "stream",
     "text": [
      "NUM TOKEN:  19\n",
      "NUM TOKEN:  27\n",
      "NUM TOKEN:  27\n",
      "NUM TOKEN:  23\n",
      "NUM TOKEN:  9\n",
      "NUM TOKEN:  25\n",
      "NUM TOKEN:  96\n"
     ]
    },
    {
     "name": "stderr",
     "output_type": "stream",
     "text": [
      " 37%|█████████████████████████████▌                                                 | 566/1511 [02:44<03:51,  4.09it/s]"
     ]
    },
    {
     "name": "stdout",
     "output_type": "stream",
     "text": [
      "NUM TOKEN:  42\n"
     ]
    },
    {
     "name": "stderr",
     "output_type": "stream",
     "text": [
      " 38%|█████████████████████████████▋                                                 | 567/1511 [02:45<04:28,  3.51it/s]"
     ]
    },
    {
     "name": "stdout",
     "output_type": "stream",
     "text": [
      "NUM TOKEN:  109\n"
     ]
    },
    {
     "name": "stderr",
     "output_type": "stream",
     "text": [
      " 38%|█████████████████████████████▋                                                 | 568/1511 [02:46<06:21,  2.48it/s]"
     ]
    },
    {
     "name": "stdout",
     "output_type": "stream",
     "text": [
      "NUM TOKEN:  103\n"
     ]
    },
    {
     "name": "stderr",
     "output_type": "stream",
     "text": [
      " 38%|█████████████████████████████▋                                                 | 569/1511 [02:47<07:32,  2.08it/s]"
     ]
    },
    {
     "name": "stdout",
     "output_type": "stream",
     "text": [
      "NUM TOKEN:  45\n"
     ]
    },
    {
     "name": "stderr",
     "output_type": "stream",
     "text": [
      " 38%|█████████████████████████████▊                                                 | 570/1511 [02:47<07:58,  1.97it/s]"
     ]
    },
    {
     "name": "stdout",
     "output_type": "stream",
     "text": [
      "NUM TOKEN:  17\n",
      "NUM TOKEN:  27\n",
      "NUM TOKEN:  73\n"
     ]
    },
    {
     "name": "stderr",
     "output_type": "stream",
     "text": [
      " 38%|█████████████████████████████▉                                                 | 573/1511 [02:48<05:58,  2.62it/s]"
     ]
    },
    {
     "name": "stdout",
     "output_type": "stream",
     "text": [
      "NUM TOKEN:  63\n"
     ]
    },
    {
     "name": "stderr",
     "output_type": "stream",
     "text": [
      " 38%|██████████████████████████████                                                 | 574/1511 [02:49<07:12,  2.16it/s]"
     ]
    },
    {
     "name": "stdout",
     "output_type": "stream",
     "text": [
      "NUM TOKEN:  7\n",
      "NUM TOKEN:  44\n"
     ]
    },
    {
     "name": "stderr",
     "output_type": "stream",
     "text": [
      " 38%|██████████████████████████████                                                 | 576/1511 [02:50<06:29,  2.40it/s]"
     ]
    },
    {
     "name": "stdout",
     "output_type": "stream",
     "text": [
      "NUM TOKEN:  15\n",
      "NUM TOKEN:  52\n"
     ]
    },
    {
     "name": "stderr",
     "output_type": "stream",
     "text": [
      " 38%|██████████████████████████████▏                                                | 578/1511 [02:50<06:06,  2.55it/s]"
     ]
    },
    {
     "name": "stdout",
     "output_type": "stream",
     "text": [
      "NUM TOKEN:  11\n",
      "NUM TOKEN:  124\n"
     ]
    },
    {
     "name": "stderr",
     "output_type": "stream",
     "text": [
      " 38%|██████████████████████████████▎                                                | 580/1511 [02:51<06:43,  2.31it/s]"
     ]
    },
    {
     "name": "stdout",
     "output_type": "stream",
     "text": [
      "NUM TOKEN:  62\n"
     ]
    },
    {
     "name": "stderr",
     "output_type": "stream",
     "text": [
      " 38%|██████████████████████████████▍                                                | 581/1511 [02:52<07:20,  2.11it/s]"
     ]
    },
    {
     "name": "stdout",
     "output_type": "stream",
     "text": [
      "NUM TOKEN:  8\n",
      "NUM TOKEN:  50\n"
     ]
    },
    {
     "name": "stderr",
     "output_type": "stream",
     "text": [
      " 39%|██████████████████████████████▍                                                | 583/1511 [02:53<06:46,  2.28it/s]"
     ]
    },
    {
     "name": "stdout",
     "output_type": "stream",
     "text": [
      "NUM TOKEN:  80\n"
     ]
    },
    {
     "name": "stderr",
     "output_type": "stream",
     "text": [
      " 39%|██████████████████████████████▌                                                | 584/1511 [02:53<07:30,  2.06it/s]"
     ]
    },
    {
     "name": "stdout",
     "output_type": "stream",
     "text": [
      "NUM TOKEN:  43\n"
     ]
    },
    {
     "name": "stderr",
     "output_type": "stream",
     "text": [
      " 39%|██████████████████████████████▌                                                | 585/1511 [02:54<08:03,  1.92it/s]"
     ]
    },
    {
     "name": "stdout",
     "output_type": "stream",
     "text": [
      "NUM TOKEN:  38\n"
     ]
    },
    {
     "name": "stderr",
     "output_type": "stream",
     "text": [
      " 39%|██████████████████████████████▋                                                | 586/1511 [02:55<08:11,  1.88it/s]"
     ]
    },
    {
     "name": "stdout",
     "output_type": "stream",
     "text": [
      "NUM TOKEN:  112\n"
     ]
    },
    {
     "name": "stderr",
     "output_type": "stream",
     "text": [
      " 39%|██████████████████████████████▋                                                | 587/1511 [02:56<10:33,  1.46it/s]"
     ]
    },
    {
     "name": "stdout",
     "output_type": "stream",
     "text": [
      "NUM TOKEN:  129\n"
     ]
    },
    {
     "name": "stderr",
     "output_type": "stream",
     "text": [
      " 39%|██████████████████████████████▋                                                | 588/1511 [02:56<10:35,  1.45it/s]"
     ]
    },
    {
     "name": "stdout",
     "output_type": "stream",
     "text": [
      "NUM TOKEN:  100\n"
     ]
    },
    {
     "name": "stderr",
     "output_type": "stream",
     "text": [
      " 39%|██████████████████████████████▊                                                | 589/1511 [02:57<10:18,  1.49it/s]"
     ]
    },
    {
     "name": "stdout",
     "output_type": "stream",
     "text": [
      "NUM TOKEN:  20\n",
      "NUM TOKEN:  55\n"
     ]
    },
    {
     "name": "stderr",
     "output_type": "stream",
     "text": [
      " 39%|██████████████████████████████▉                                                | 591/1511 [02:58<08:26,  1.82it/s]"
     ]
    },
    {
     "name": "stdout",
     "output_type": "stream",
     "text": [
      "NUM TOKEN:  20\n",
      "NUM TOKEN:  117\n"
     ]
    },
    {
     "name": "stderr",
     "output_type": "stream",
     "text": [
      " 39%|███████████████████████████████                                                | 593/1511 [02:58<06:57,  2.20it/s]"
     ]
    },
    {
     "name": "stdout",
     "output_type": "stream",
     "text": [
      "NUM TOKEN:  34\n"
     ]
    },
    {
     "name": "stderr",
     "output_type": "stream",
     "text": [
      " 39%|███████████████████████████████                                                | 594/1511 [02:59<06:53,  2.22it/s]"
     ]
    },
    {
     "name": "stdout",
     "output_type": "stream",
     "text": [
      "NUM TOKEN:  19\n",
      "NUM TOKEN:  17\n",
      "NUM TOKEN:  21\n",
      "NUM TOKEN:  9\n",
      "NUM TOKEN:  44\n"
     ]
    },
    {
     "name": "stderr",
     "output_type": "stream",
     "text": [
      " 40%|███████████████████████████████▎                                               | 599/1511 [03:00<03:55,  3.87it/s]"
     ]
    },
    {
     "name": "stdout",
     "output_type": "stream",
     "text": [
      "NUM TOKEN:  19\n",
      "NUM TOKEN:  20\n",
      "NUM TOKEN:  69\n"
     ]
    },
    {
     "name": "stderr",
     "output_type": "stream",
     "text": [
      " 40%|███████████████████████████████▍                                               | 602/1511 [03:00<03:59,  3.80it/s]"
     ]
    },
    {
     "name": "stdout",
     "output_type": "stream",
     "text": [
      "NUM TOKEN:  13\n",
      "NUM TOKEN:  87\n"
     ]
    },
    {
     "name": "stderr",
     "output_type": "stream",
     "text": [
      " 40%|███████████████████████████████▌                                               | 604/1511 [03:01<04:37,  3.27it/s]"
     ]
    },
    {
     "name": "stdout",
     "output_type": "stream",
     "text": [
      "NUM TOKEN:  32\n"
     ]
    },
    {
     "name": "stderr",
     "output_type": "stream",
     "text": [
      " 40%|███████████████████████████████▋                                               | 605/1511 [03:02<04:54,  3.08it/s]"
     ]
    },
    {
     "name": "stdout",
     "output_type": "stream",
     "text": [
      "NUM TOKEN:  19\n",
      "NUM TOKEN:  54\n"
     ]
    },
    {
     "name": "stderr",
     "output_type": "stream",
     "text": [
      " 40%|███████████████████████████████▋                                               | 607/1511 [03:02<04:33,  3.30it/s]"
     ]
    },
    {
     "name": "stdout",
     "output_type": "stream",
     "text": [
      "NUM TOKEN:  78\n"
     ]
    },
    {
     "name": "stderr",
     "output_type": "stream",
     "text": [
      " 40%|███████████████████████████████▊                                               | 608/1511 [03:03<05:57,  2.53it/s]"
     ]
    },
    {
     "name": "stdout",
     "output_type": "stream",
     "text": [
      "NUM TOKEN:  107\n"
     ]
    },
    {
     "name": "stderr",
     "output_type": "stream",
     "text": [
      " 40%|███████████████████████████████▊                                               | 609/1511 [03:04<06:57,  2.16it/s]"
     ]
    },
    {
     "name": "stdout",
     "output_type": "stream",
     "text": [
      "NUM TOKEN:  16\n",
      "NUM TOKEN:  26\n",
      "NUM TOKEN:  13\n",
      "NUM TOKEN:  23\n",
      "NUM TOKEN:  32\n"
     ]
    },
    {
     "name": "stderr",
     "output_type": "stream",
     "text": [
      " 41%|████████████████████████████████                                               | 614/1511 [03:04<03:42,  4.03it/s]"
     ]
    },
    {
     "name": "stdout",
     "output_type": "stream",
     "text": [
      "NUM TOKEN:  14\n",
      "NUM TOKEN:  25\n",
      "NUM TOKEN:  407\n"
     ]
    },
    {
     "name": "stderr",
     "output_type": "stream",
     "text": [
      " 41%|████████████████████████████████▎                                              | 617/1511 [03:06<05:28,  2.72it/s]"
     ]
    },
    {
     "name": "stdout",
     "output_type": "stream",
     "text": [
      "NUM TOKEN:  60\n"
     ]
    },
    {
     "name": "stderr",
     "output_type": "stream",
     "text": [
      " 41%|████████████████████████████████▎                                              | 618/1511 [03:07<05:49,  2.55it/s]"
     ]
    },
    {
     "name": "stdout",
     "output_type": "stream",
     "text": [
      "NUM TOKEN:  47\n"
     ]
    },
    {
     "name": "stderr",
     "output_type": "stream",
     "text": [
      " 41%|████████████████████████████████▎                                              | 619/1511 [03:07<06:33,  2.27it/s]"
     ]
    },
    {
     "name": "stdout",
     "output_type": "stream",
     "text": [
      "NUM TOKEN:  54\n"
     ]
    },
    {
     "name": "stderr",
     "output_type": "stream",
     "text": [
      " 41%|████████████████████████████████▍                                              | 620/1511 [03:08<07:36,  1.95it/s]"
     ]
    },
    {
     "name": "stdout",
     "output_type": "stream",
     "text": [
      "NUM TOKEN:  39\n"
     ]
    },
    {
     "name": "stderr",
     "output_type": "stream",
     "text": [
      " 41%|████████████████████████████████▍                                              | 621/1511 [03:09<07:29,  1.98it/s]"
     ]
    },
    {
     "name": "stdout",
     "output_type": "stream",
     "text": [
      "NUM TOKEN:  17\n",
      "NUM TOKEN:  44\n"
     ]
    },
    {
     "name": "stderr",
     "output_type": "stream",
     "text": [
      " 41%|████████████████████████████████▌                                              | 623/1511 [03:09<06:23,  2.32it/s]"
     ]
    },
    {
     "name": "stdout",
     "output_type": "stream",
     "text": [
      "NUM TOKEN:  14\n",
      "NUM TOKEN:  68\n"
     ]
    },
    {
     "name": "stderr",
     "output_type": "stream",
     "text": [
      " 41%|████████████████████████████████▋                                              | 625/1511 [03:10<06:30,  2.27it/s]"
     ]
    },
    {
     "name": "stdout",
     "output_type": "stream",
     "text": [
      "NUM TOKEN:  25\n",
      "NUM TOKEN:  43\n"
     ]
    },
    {
     "name": "stderr",
     "output_type": "stream",
     "text": [
      " 41%|████████████████████████████████▊                                              | 627/1511 [03:11<05:18,  2.77it/s]"
     ]
    },
    {
     "name": "stdout",
     "output_type": "stream",
     "text": [
      "NUM TOKEN:  84\n"
     ]
    },
    {
     "name": "stderr",
     "output_type": "stream",
     "text": [
      " 42%|████████████████████████████████▊                                              | 628/1511 [03:12<07:16,  2.02it/s]"
     ]
    },
    {
     "name": "stdout",
     "output_type": "stream",
     "text": [
      "NUM TOKEN:  26\n",
      "NUM TOKEN:  24\n",
      "NUM TOKEN:  100\n"
     ]
    },
    {
     "name": "stderr",
     "output_type": "stream",
     "text": [
      " 42%|████████████████████████████████▉                                              | 631/1511 [03:12<05:35,  2.62it/s]"
     ]
    },
    {
     "name": "stdout",
     "output_type": "stream",
     "text": [
      "NUM TOKEN:  42\n"
     ]
    },
    {
     "name": "stderr",
     "output_type": "stream",
     "text": [
      " 42%|█████████████████████████████████                                              | 632/1511 [03:13<05:56,  2.47it/s]"
     ]
    },
    {
     "name": "stdout",
     "output_type": "stream",
     "text": [
      "NUM TOKEN:  53\n"
     ]
    },
    {
     "name": "stderr",
     "output_type": "stream",
     "text": [
      " 42%|█████████████████████████████████                                              | 633/1511 [03:13<05:41,  2.57it/s]"
     ]
    },
    {
     "name": "stdout",
     "output_type": "stream",
     "text": [
      "NUM TOKEN:  41\n"
     ]
    },
    {
     "name": "stderr",
     "output_type": "stream",
     "text": [
      " 42%|█████████████████████████████████▏                                             | 634/1511 [03:14<05:58,  2.45it/s]"
     ]
    },
    {
     "name": "stdout",
     "output_type": "stream",
     "text": [
      "NUM TOKEN:  56\n"
     ]
    },
    {
     "name": "stderr",
     "output_type": "stream",
     "text": [
      " 42%|█████████████████████████████████▏                                             | 635/1511 [03:14<06:14,  2.34it/s]"
     ]
    },
    {
     "name": "stdout",
     "output_type": "stream",
     "text": [
      "NUM TOKEN:  32\n"
     ]
    },
    {
     "name": "stderr",
     "output_type": "stream",
     "text": [
      " 42%|█████████████████████████████████▎                                             | 636/1511 [03:15<06:14,  2.33it/s]"
     ]
    },
    {
     "name": "stdout",
     "output_type": "stream",
     "text": [
      "NUM TOKEN:  44\n"
     ]
    },
    {
     "name": "stderr",
     "output_type": "stream",
     "text": [
      " 42%|█████████████████████████████████▎                                             | 637/1511 [03:15<07:04,  2.06it/s]"
     ]
    },
    {
     "name": "stdout",
     "output_type": "stream",
     "text": [
      "NUM TOKEN:  12\n",
      "NUM TOKEN:  30\n",
      "NUM TOKEN:  9\n",
      "NUM TOKEN:  44\n"
     ]
    },
    {
     "name": "stderr",
     "output_type": "stream",
     "text": [
      " 42%|█████████████████████████████████▌                                             | 641/1511 [03:16<04:14,  3.42it/s]"
     ]
    },
    {
     "name": "stdout",
     "output_type": "stream",
     "text": [
      "NUM TOKEN:  23\n",
      "NUM TOKEN:  16\n",
      "NUM TOKEN:  27\n",
      "NUM TOKEN:  26\n",
      "NUM TOKEN:  31\n"
     ]
    },
    {
     "name": "stderr",
     "output_type": "stream",
     "text": [
      " 43%|█████████████████████████████████▊                                             | 646/1511 [03:16<02:43,  5.30it/s]"
     ]
    },
    {
     "name": "stdout",
     "output_type": "stream",
     "text": [
      "NUM TOKEN:  14\n",
      "NUM TOKEN:  10\n",
      "NUM TOKEN:  8\n",
      "NUM TOKEN:  8\n",
      "NUM TOKEN:  36\n"
     ]
    },
    {
     "name": "stderr",
     "output_type": "stream",
     "text": [
      " 43%|██████████████████████████████████                                             | 651/1511 [03:17<02:10,  6.58it/s]"
     ]
    },
    {
     "name": "stdout",
     "output_type": "stream",
     "text": [
      "NUM TOKEN:  21\n",
      "NUM TOKEN:  37\n"
     ]
    },
    {
     "name": "stderr",
     "output_type": "stream",
     "text": [
      " 43%|██████████████████████████████████▏                                            | 653/1511 [03:17<02:25,  5.90it/s]"
     ]
    },
    {
     "name": "stdout",
     "output_type": "stream",
     "text": [
      "NUM TOKEN:  47\n"
     ]
    },
    {
     "name": "stderr",
     "output_type": "stream",
     "text": [
      " 43%|██████████████████████████████████▏                                            | 654/1511 [03:18<02:39,  5.38it/s]"
     ]
    },
    {
     "name": "stdout",
     "output_type": "stream",
     "text": [
      "NUM TOKEN:  33\n"
     ]
    },
    {
     "name": "stderr",
     "output_type": "stream",
     "text": [
      " 43%|██████████████████████████████████▏                                            | 655/1511 [03:18<03:18,  4.31it/s]"
     ]
    },
    {
     "name": "stdout",
     "output_type": "stream",
     "text": [
      "NUM TOKEN:  141\n"
     ]
    },
    {
     "name": "stderr",
     "output_type": "stream",
     "text": [
      " 43%|██████████████████████████████████▎                                            | 656/1511 [03:19<04:43,  3.02it/s]"
     ]
    },
    {
     "name": "stdout",
     "output_type": "stream",
     "text": [
      "NUM TOKEN:  58\n"
     ]
    },
    {
     "name": "stderr",
     "output_type": "stream",
     "text": [
      " 43%|██████████████████████████████████▎                                            | 657/1511 [03:19<05:16,  2.69it/s]"
     ]
    },
    {
     "name": "stdout",
     "output_type": "stream",
     "text": [
      "NUM TOKEN:  24\n",
      "NUM TOKEN:  42\n"
     ]
    },
    {
     "name": "stderr",
     "output_type": "stream",
     "text": [
      " 44%|██████████████████████████████████▍                                            | 659/1511 [03:20<04:57,  2.87it/s]"
     ]
    },
    {
     "name": "stdout",
     "output_type": "stream",
     "text": [
      "NUM TOKEN:  9\n",
      "NUM TOKEN:  186\n"
     ]
    },
    {
     "name": "stderr",
     "output_type": "stream",
     "text": [
      " 44%|██████████████████████████████████▌                                            | 661/1511 [03:21<06:23,  2.22it/s]"
     ]
    },
    {
     "name": "stdout",
     "output_type": "stream",
     "text": [
      "NUM TOKEN:  17\n",
      "NUM TOKEN:  1\n",
      "NUM TOKEN:  10\n",
      "NUM TOKEN:  55\n"
     ]
    },
    {
     "name": "stderr",
     "output_type": "stream",
     "text": [
      " 44%|██████████████████████████████████▊                                            | 665/1511 [03:22<04:11,  3.37it/s]"
     ]
    },
    {
     "name": "stdout",
     "output_type": "stream",
     "text": [
      "NUM TOKEN:  13\n",
      "NUM TOKEN:  156\n"
     ]
    },
    {
     "name": "stderr",
     "output_type": "stream",
     "text": [
      " 44%|██████████████████████████████████▊                                            | 667/1511 [03:23<04:21,  3.22it/s]"
     ]
    },
    {
     "name": "stdout",
     "output_type": "stream",
     "text": [
      "NUM TOKEN:  204\n"
     ]
    },
    {
     "name": "stderr",
     "output_type": "stream",
     "text": [
      " 44%|██████████████████████████████████▉                                            | 668/1511 [03:24<06:04,  2.31it/s]"
     ]
    },
    {
     "name": "stdout",
     "output_type": "stream",
     "text": [
      "NUM TOKEN:  13\n",
      "NUM TOKEN:  54\n"
     ]
    },
    {
     "name": "stderr",
     "output_type": "stream",
     "text": [
      " 44%|███████████████████████████████████                                            | 670/1511 [03:24<05:28,  2.56it/s]"
     ]
    },
    {
     "name": "stdout",
     "output_type": "stream",
     "text": [
      "NUM TOKEN:  25\n",
      "NUM TOKEN:  5\n",
      "NUM TOKEN:  49\n"
     ]
    },
    {
     "name": "stderr",
     "output_type": "stream",
     "text": [
      " 45%|███████████████████████████████████▏                                           | 673/1511 [03:25<04:14,  3.29it/s]"
     ]
    },
    {
     "name": "stdout",
     "output_type": "stream",
     "text": [
      "NUM TOKEN:  42\n"
     ]
    },
    {
     "name": "stderr",
     "output_type": "stream",
     "text": [
      " 45%|███████████████████████████████████▏                                           | 674/1511 [03:25<04:45,  2.93it/s]"
     ]
    },
    {
     "name": "stdout",
     "output_type": "stream",
     "text": [
      "NUM TOKEN:  18\n",
      "NUM TOKEN:  43\n"
     ]
    },
    {
     "name": "stderr",
     "output_type": "stream",
     "text": [
      " 45%|███████████████████████████████████▎                                           | 676/1511 [03:26<04:41,  2.96it/s]"
     ]
    },
    {
     "name": "stdout",
     "output_type": "stream",
     "text": [
      "NUM TOKEN:  44\n"
     ]
    },
    {
     "name": "stderr",
     "output_type": "stream",
     "text": [
      " 45%|███████████████████████████████████▍                                           | 677/1511 [03:27<05:26,  2.55it/s]"
     ]
    },
    {
     "name": "stdout",
     "output_type": "stream",
     "text": [
      "NUM TOKEN:  37\n"
     ]
    },
    {
     "name": "stderr",
     "output_type": "stream",
     "text": [
      " 45%|███████████████████████████████████▍                                           | 678/1511 [03:27<05:55,  2.34it/s]"
     ]
    },
    {
     "name": "stdout",
     "output_type": "stream",
     "text": [
      "NUM TOKEN:  77\n"
     ]
    },
    {
     "name": "stderr",
     "output_type": "stream",
     "text": [
      " 45%|███████████████████████████████████▌                                           | 679/1511 [03:28<07:28,  1.86it/s]"
     ]
    },
    {
     "name": "stdout",
     "output_type": "stream",
     "text": [
      "NUM TOKEN:  15\n",
      "NUM TOKEN:  2\n",
      "NUM TOKEN:  18\n",
      "NUM TOKEN:  50\n"
     ]
    },
    {
     "name": "stderr",
     "output_type": "stream",
     "text": [
      " 45%|███████████████████████████████████▋                                           | 683/1511 [03:29<04:15,  3.25it/s]"
     ]
    },
    {
     "name": "stdout",
     "output_type": "stream",
     "text": [
      "NUM TOKEN:  17\n",
      "NUM TOKEN:  55\n"
     ]
    },
    {
     "name": "stderr",
     "output_type": "stream",
     "text": [
      " 45%|███████████████████████████████████▊                                           | 685/1511 [03:29<04:32,  3.03it/s]"
     ]
    },
    {
     "name": "stdout",
     "output_type": "stream",
     "text": [
      "NUM TOKEN:  11\n",
      "NUM TOKEN:  17\n",
      "NUM TOKEN:  126\n"
     ]
    },
    {
     "name": "stderr",
     "output_type": "stream",
     "text": [
      " 46%|███████████████████████████████████▉                                           | 688/1511 [03:30<04:23,  3.12it/s]"
     ]
    },
    {
     "name": "stdout",
     "output_type": "stream",
     "text": [
      "NUM TOKEN:  60\n"
     ]
    },
    {
     "name": "stderr",
     "output_type": "stream",
     "text": [
      " 46%|████████████████████████████████████                                           | 689/1511 [03:31<05:08,  2.66it/s]"
     ]
    },
    {
     "name": "stdout",
     "output_type": "stream",
     "text": [
      "NUM TOKEN:  33\n"
     ]
    },
    {
     "name": "stderr",
     "output_type": "stream",
     "text": [
      " 46%|████████████████████████████████████                                           | 690/1511 [03:32<05:25,  2.52it/s]"
     ]
    },
    {
     "name": "stdout",
     "output_type": "stream",
     "text": [
      "NUM TOKEN:  99\n"
     ]
    },
    {
     "name": "stderr",
     "output_type": "stream",
     "text": [
      " 46%|████████████████████████████████████▏                                          | 691/1511 [03:32<06:32,  2.09it/s]"
     ]
    },
    {
     "name": "stdout",
     "output_type": "stream",
     "text": [
      "NUM TOKEN:  23\n",
      "NUM TOKEN:  14\n",
      "NUM TOKEN:  93\n"
     ]
    },
    {
     "name": "stderr",
     "output_type": "stream",
     "text": [
      " 46%|████████████████████████████████████▎                                          | 694/1511 [03:33<05:29,  2.48it/s]"
     ]
    },
    {
     "name": "stdout",
     "output_type": "stream",
     "text": [
      "NUM TOKEN:  29\n",
      "NUM TOKEN:  33\n"
     ]
    },
    {
     "name": "stderr",
     "output_type": "stream",
     "text": [
      " 46%|████████████████████████████████████▍                                          | 696/1511 [03:34<04:46,  2.84it/s]"
     ]
    },
    {
     "name": "stdout",
     "output_type": "stream",
     "text": [
      "NUM TOKEN:  35\n"
     ]
    },
    {
     "name": "stderr",
     "output_type": "stream",
     "text": [
      " 46%|████████████████████████████████████▍                                          | 697/1511 [03:34<05:03,  2.69it/s]"
     ]
    },
    {
     "name": "stdout",
     "output_type": "stream",
     "text": [
      "NUM TOKEN:  29\n",
      "NUM TOKEN:  26\n",
      "NUM TOKEN:  16\n",
      "NUM TOKEN:  36\n"
     ]
    },
    {
     "name": "stderr",
     "output_type": "stream",
     "text": [
      " 46%|████████████████████████████████████▋                                          | 701/1511 [03:35<03:22,  4.00it/s]"
     ]
    },
    {
     "name": "stdout",
     "output_type": "stream",
     "text": [
      "NUM TOKEN:  40\n"
     ]
    },
    {
     "name": "stderr",
     "output_type": "stream",
     "text": [
      " 46%|████████████████████████████████████▋                                          | 702/1511 [03:35<04:07,  3.27it/s]"
     ]
    },
    {
     "name": "stdout",
     "output_type": "stream",
     "text": [
      "NUM TOKEN:  49\n"
     ]
    },
    {
     "name": "stderr",
     "output_type": "stream",
     "text": [
      " 47%|████████████████████████████████████▊                                          | 703/1511 [03:36<04:50,  2.79it/s]"
     ]
    },
    {
     "name": "stdout",
     "output_type": "stream",
     "text": [
      "NUM TOKEN:  62\n"
     ]
    },
    {
     "name": "stderr",
     "output_type": "stream",
     "text": [
      " 47%|████████████████████████████████████▊                                          | 704/1511 [03:37<06:19,  2.12it/s]"
     ]
    },
    {
     "name": "stdout",
     "output_type": "stream",
     "text": [
      "NUM TOKEN:  21\n",
      "NUM TOKEN:  158\n"
     ]
    },
    {
     "name": "stderr",
     "output_type": "stream",
     "text": [
      " 47%|████████████████████████████████████▉                                          | 706/1511 [03:38<05:59,  2.24it/s]"
     ]
    },
    {
     "name": "stdout",
     "output_type": "stream",
     "text": [
      "NUM TOKEN:  19\n",
      "NUM TOKEN:  27\n",
      "NUM TOKEN:  93\n"
     ]
    },
    {
     "name": "stderr",
     "output_type": "stream",
     "text": [
      " 47%|█████████████████████████████████████                                          | 709/1511 [03:38<04:41,  2.85it/s]"
     ]
    },
    {
     "name": "stdout",
     "output_type": "stream",
     "text": [
      "NUM TOKEN:  84\n"
     ]
    },
    {
     "name": "stderr",
     "output_type": "stream",
     "text": [
      " 47%|█████████████████████████████████████                                          | 710/1511 [03:39<05:53,  2.27it/s]"
     ]
    },
    {
     "name": "stdout",
     "output_type": "stream",
     "text": [
      "NUM TOKEN:  49\n"
     ]
    },
    {
     "name": "stderr",
     "output_type": "stream",
     "text": [
      " 47%|█████████████████████████████████████▏                                         | 711/1511 [03:40<05:30,  2.42it/s]"
     ]
    },
    {
     "name": "stdout",
     "output_type": "stream",
     "text": [
      "NUM TOKEN:  14\n",
      "NUM TOKEN:  114\n"
     ]
    },
    {
     "name": "stderr",
     "output_type": "stream",
     "text": [
      " 47%|█████████████████████████████████████▎                                         | 713/1511 [03:40<05:34,  2.38it/s]"
     ]
    },
    {
     "name": "stdout",
     "output_type": "stream",
     "text": [
      "NUM TOKEN:  88\n"
     ]
    },
    {
     "name": "stderr",
     "output_type": "stream",
     "text": [
      " 47%|█████████████████████████████████████▎                                         | 714/1511 [03:42<07:40,  1.73it/s]"
     ]
    },
    {
     "name": "stdout",
     "output_type": "stream",
     "text": [
      "NUM TOKEN:  9\n",
      "NUM TOKEN:  24\n",
      "NUM TOKEN:  40\n"
     ]
    },
    {
     "name": "stderr",
     "output_type": "stream",
     "text": [
      " 47%|█████████████████████████████████████▍                                         | 717/1511 [03:42<05:21,  2.47it/s]"
     ]
    },
    {
     "name": "stdout",
     "output_type": "stream",
     "text": [
      "NUM TOKEN:  47\n"
     ]
    },
    {
     "name": "stderr",
     "output_type": "stream",
     "text": [
      " 48%|█████████████████████████████████████▌                                         | 718/1511 [03:43<06:02,  2.19it/s]"
     ]
    },
    {
     "name": "stdout",
     "output_type": "stream",
     "text": [
      "NUM TOKEN:  52\n"
     ]
    },
    {
     "name": "stderr",
     "output_type": "stream",
     "text": [
      " 48%|█████████████████████████████████████▌                                         | 719/1511 [03:44<06:30,  2.03it/s]"
     ]
    },
    {
     "name": "stdout",
     "output_type": "stream",
     "text": [
      "NUM TOKEN:  33\n"
     ]
    },
    {
     "name": "stderr",
     "output_type": "stream",
     "text": [
      " 48%|█████████████████████████████████████▋                                         | 720/1511 [03:44<06:30,  2.03it/s]"
     ]
    },
    {
     "name": "stdout",
     "output_type": "stream",
     "text": [
      "NUM TOKEN:  20\n",
      "NUM TOKEN:  2\n",
      "NUM TOKEN:  11\n",
      "NUM TOKEN:  14\n",
      "NUM TOKEN:  14\n",
      "NUM TOKEN:  60\n"
     ]
    },
    {
     "name": "stderr",
     "output_type": "stream",
     "text": [
      " 48%|█████████████████████████████████████▉                                         | 726/1511 [03:45<03:25,  3.82it/s]"
     ]
    },
    {
     "name": "stdout",
     "output_type": "stream",
     "text": [
      "NUM TOKEN:  69\n"
     ]
    },
    {
     "name": "stderr",
     "output_type": "stream",
     "text": [
      " 48%|██████████████████████████████████████                                         | 727/1511 [03:45<03:59,  3.27it/s]"
     ]
    },
    {
     "name": "stdout",
     "output_type": "stream",
     "text": [
      "NUM TOKEN:  37\n"
     ]
    },
    {
     "name": "stderr",
     "output_type": "stream",
     "text": [
      " 48%|██████████████████████████████████████                                         | 728/1511 [03:46<04:23,  2.97it/s]"
     ]
    },
    {
     "name": "stdout",
     "output_type": "stream",
     "text": [
      "NUM TOKEN:  25\n",
      "NUM TOKEN:  24\n",
      "NUM TOKEN:  26\n",
      "NUM TOKEN:  21\n",
      "NUM TOKEN:  75\n"
     ]
    },
    {
     "name": "stderr",
     "output_type": "stream",
     "text": [
      " 49%|██████████████████████████████████████▎                                        | 733/1511 [03:47<02:51,  4.54it/s]"
     ]
    },
    {
     "name": "stdout",
     "output_type": "stream",
     "text": [
      "NUM TOKEN:  9\n",
      "NUM TOKEN:  11\n",
      "NUM TOKEN:  19\n",
      "NUM TOKEN:  55\n"
     ]
    },
    {
     "name": "stderr",
     "output_type": "stream",
     "text": [
      " 49%|██████████████████████████████████████▌                                        | 737/1511 [03:47<02:33,  5.04it/s]"
     ]
    },
    {
     "name": "stdout",
     "output_type": "stream",
     "text": [
      "NUM TOKEN:  14\n",
      "NUM TOKEN:  47\n"
     ]
    },
    {
     "name": "stderr",
     "output_type": "stream",
     "text": [
      " 49%|██████████████████████████████████████▋                                        | 739/1511 [03:48<02:50,  4.53it/s]"
     ]
    },
    {
     "name": "stdout",
     "output_type": "stream",
     "text": [
      "NUM TOKEN:  11\n",
      "NUM TOKEN:  32\n"
     ]
    },
    {
     "name": "stderr",
     "output_type": "stream",
     "text": [
      " 49%|██████████████████████████████████████▋                                        | 741/1511 [03:48<02:49,  4.54it/s]"
     ]
    },
    {
     "name": "stdout",
     "output_type": "stream",
     "text": [
      "NUM TOKEN:  8\n",
      "NUM TOKEN:  33\n"
     ]
    },
    {
     "name": "stderr",
     "output_type": "stream",
     "text": [
      " 49%|██████████████████████████████████████▊                                        | 743/1511 [03:49<02:50,  4.50it/s]"
     ]
    },
    {
     "name": "stdout",
     "output_type": "stream",
     "text": [
      "NUM TOKEN:  164\n"
     ]
    },
    {
     "name": "stderr",
     "output_type": "stream",
     "text": [
      " 49%|██████████████████████████████████████▉                                        | 744/1511 [03:50<05:08,  2.49it/s]"
     ]
    },
    {
     "name": "stdout",
     "output_type": "stream",
     "text": [
      "NUM TOKEN:  57\n"
     ]
    },
    {
     "name": "stderr",
     "output_type": "stream",
     "text": [
      " 49%|██████████████████████████████████████▉                                        | 745/1511 [03:51<05:51,  2.18it/s]"
     ]
    },
    {
     "name": "stdout",
     "output_type": "stream",
     "text": [
      "NUM TOKEN:  27\n",
      "NUM TOKEN:  22\n",
      "NUM TOKEN:  37\n"
     ]
    },
    {
     "name": "stderr",
     "output_type": "stream",
     "text": [
      " 50%|███████████████████████████████████████                                        | 748/1511 [03:51<04:03,  3.13it/s]"
     ]
    },
    {
     "name": "stdout",
     "output_type": "stream",
     "text": [
      "NUM TOKEN:  102\n"
     ]
    },
    {
     "name": "stderr",
     "output_type": "stream",
     "text": [
      " 50%|███████████████████████████████████████▏                                       | 749/1511 [03:52<04:40,  2.72it/s]"
     ]
    },
    {
     "name": "stdout",
     "output_type": "stream",
     "text": [
      "NUM TOKEN:  28\n",
      "NUM TOKEN:  9\n",
      "NUM TOKEN:  18\n",
      "NUM TOKEN:  55\n"
     ]
    },
    {
     "name": "stderr",
     "output_type": "stream",
     "text": [
      " 50%|███████████████████████████████████████▎                                       | 753/1511 [03:53<03:26,  3.67it/s]"
     ]
    },
    {
     "name": "stdout",
     "output_type": "stream",
     "text": [
      "NUM TOKEN:  65\n"
     ]
    },
    {
     "name": "stderr",
     "output_type": "stream",
     "text": [
      " 50%|███████████████████████████████████████▍                                       | 754/1511 [03:53<04:08,  3.05it/s]"
     ]
    },
    {
     "name": "stdout",
     "output_type": "stream",
     "text": [
      "NUM TOKEN:  14\n",
      "NUM TOKEN:  40\n"
     ]
    },
    {
     "name": "stderr",
     "output_type": "stream",
     "text": [
      " 50%|███████████████████████████████████████▌                                       | 756/1511 [03:54<03:59,  3.16it/s]"
     ]
    },
    {
     "name": "stdout",
     "output_type": "stream",
     "text": [
      "NUM TOKEN:  26\n",
      "NUM TOKEN:  14\n",
      "NUM TOKEN:  53\n"
     ]
    },
    {
     "name": "stderr",
     "output_type": "stream",
     "text": [
      " 50%|███████████████████████████████████████▋                                       | 759/1511 [03:55<03:43,  3.37it/s]"
     ]
    },
    {
     "name": "stdout",
     "output_type": "stream",
     "text": [
      "NUM TOKEN:  25\n",
      "NUM TOKEN:  385\n"
     ]
    },
    {
     "name": "stderr",
     "output_type": "stream",
     "text": [
      " 50%|███████████████████████████████████████▊                                       | 761/1511 [03:56<05:39,  2.21it/s]"
     ]
    },
    {
     "name": "stdout",
     "output_type": "stream",
     "text": [
      "NUM TOKEN:  60\n"
     ]
    },
    {
     "name": "stderr",
     "output_type": "stream",
     "text": [
      " 50%|███████████████████████████████████████▊                                       | 762/1511 [03:57<06:23,  1.95it/s]"
     ]
    },
    {
     "name": "stdout",
     "output_type": "stream",
     "text": [
      "NUM TOKEN:  27\n",
      "NUM TOKEN:  33\n"
     ]
    },
    {
     "name": "stderr",
     "output_type": "stream",
     "text": [
      " 51%|███████████████████████████████████████▉                                       | 764/1511 [03:58<05:07,  2.43it/s]"
     ]
    },
    {
     "name": "stdout",
     "output_type": "stream",
     "text": [
      "NUM TOKEN:  19\n",
      "NUM TOKEN:  36\n"
     ]
    },
    {
     "name": "stderr",
     "output_type": "stream",
     "text": [
      " 51%|████████████████████████████████████████                                       | 766/1511 [03:58<04:32,  2.74it/s]"
     ]
    },
    {
     "name": "stdout",
     "output_type": "stream",
     "text": [
      "NUM TOKEN:  45\n"
     ]
    },
    {
     "name": "stderr",
     "output_type": "stream",
     "text": [
      " 51%|████████████████████████████████████████                                       | 767/1511 [03:59<05:18,  2.33it/s]"
     ]
    },
    {
     "name": "stdout",
     "output_type": "stream",
     "text": [
      "NUM TOKEN:  18\n",
      "NUM TOKEN:  13\n",
      "NUM TOKEN:  78\n"
     ]
    },
    {
     "name": "stderr",
     "output_type": "stream",
     "text": [
      " 51%|████████████████████████████████████████▎                                      | 770/1511 [03:59<03:49,  3.23it/s]"
     ]
    },
    {
     "name": "stdout",
     "output_type": "stream",
     "text": [
      "NUM TOKEN:  29\n",
      "NUM TOKEN:  40\n"
     ]
    },
    {
     "name": "stderr",
     "output_type": "stream",
     "text": [
      " 51%|████████████████████████████████████████▎                                      | 772/1511 [04:00<03:43,  3.31it/s]"
     ]
    },
    {
     "name": "stdout",
     "output_type": "stream",
     "text": [
      "NUM TOKEN:  12\n",
      "NUM TOKEN:  57\n"
     ]
    },
    {
     "name": "stderr",
     "output_type": "stream",
     "text": [
      " 51%|████████████████████████████████████████▍                                      | 774/1511 [04:01<04:10,  2.95it/s]"
     ]
    },
    {
     "name": "stdout",
     "output_type": "stream",
     "text": [
      "NUM TOKEN:  37\n"
     ]
    },
    {
     "name": "stderr",
     "output_type": "stream",
     "text": [
      " 51%|████████████████████████████████████████▌                                      | 775/1511 [04:01<04:16,  2.87it/s]"
     ]
    },
    {
     "name": "stdout",
     "output_type": "stream",
     "text": [
      "NUM TOKEN:  13\n",
      "NUM TOKEN:  81\n"
     ]
    },
    {
     "name": "stderr",
     "output_type": "stream",
     "text": [
      " 51%|████████████████████████████████████████▌                                      | 777/1511 [04:02<04:06,  2.98it/s]"
     ]
    },
    {
     "name": "stdout",
     "output_type": "stream",
     "text": [
      "NUM TOKEN:  31\n"
     ]
    },
    {
     "name": "stderr",
     "output_type": "stream",
     "text": [
      " 51%|████████████████████████████████████████▋                                      | 778/1511 [04:02<04:21,  2.80it/s]"
     ]
    },
    {
     "name": "stdout",
     "output_type": "stream",
     "text": [
      "NUM TOKEN:  46\n"
     ]
    },
    {
     "name": "stderr",
     "output_type": "stream",
     "text": [
      " 52%|████████████████████████████████████████▋                                      | 779/1511 [04:03<05:16,  2.31it/s]"
     ]
    },
    {
     "name": "stdout",
     "output_type": "stream",
     "text": [
      "NUM TOKEN:  20\n",
      "NUM TOKEN:  59\n"
     ]
    },
    {
     "name": "stderr",
     "output_type": "stream",
     "text": [
      " 52%|████████████████████████████████████████▊                                      | 781/1511 [04:04<05:08,  2.37it/s]"
     ]
    },
    {
     "name": "stdout",
     "output_type": "stream",
     "text": [
      "NUM TOKEN:  774\n"
     ]
    },
    {
     "name": "stderr",
     "output_type": "stream",
     "text": [
      " 52%|████████████████████████████████████████▉                                      | 782/1511 [04:07<13:21,  1.10s/it]"
     ]
    },
    {
     "name": "stdout",
     "output_type": "stream",
     "text": [
      "NUM TOKEN:  92\n"
     ]
    },
    {
     "name": "stderr",
     "output_type": "stream",
     "text": [
      " 52%|████████████████████████████████████████▉                                      | 783/1511 [04:08<11:56,  1.02it/s]"
     ]
    },
    {
     "name": "stdout",
     "output_type": "stream",
     "text": [
      "NUM TOKEN:  12\n",
      "NUM TOKEN:  9\n",
      "NUM TOKEN:  112\n"
     ]
    },
    {
     "name": "stderr",
     "output_type": "stream",
     "text": [
      " 52%|█████████████████████████████████████████                                      | 786/1511 [04:09<07:22,  1.64it/s]"
     ]
    },
    {
     "name": "stdout",
     "output_type": "stream",
     "text": [
      "NUM TOKEN:  68\n"
     ]
    },
    {
     "name": "stderr",
     "output_type": "stream",
     "text": [
      " 52%|█████████████████████████████████████████▏                                     | 787/1511 [04:09<07:58,  1.51it/s]"
     ]
    },
    {
     "name": "stdout",
     "output_type": "stream",
     "text": [
      "NUM TOKEN:  40\n"
     ]
    },
    {
     "name": "stderr",
     "output_type": "stream",
     "text": [
      " 52%|█████████████████████████████████████████▏                                     | 788/1511 [04:10<07:51,  1.53it/s]"
     ]
    },
    {
     "name": "stdout",
     "output_type": "stream",
     "text": [
      "NUM TOKEN:  120\n"
     ]
    },
    {
     "name": "stderr",
     "output_type": "stream",
     "text": [
      " 52%|█████████████████████████████████████████▎                                     | 789/1511 [04:11<09:11,  1.31it/s]"
     ]
    },
    {
     "name": "stdout",
     "output_type": "stream",
     "text": [
      "NUM TOKEN:  56\n"
     ]
    },
    {
     "name": "stderr",
     "output_type": "stream",
     "text": [
      " 52%|█████████████████████████████████████████▎                                     | 790/1511 [04:12<08:54,  1.35it/s]"
     ]
    },
    {
     "name": "stdout",
     "output_type": "stream",
     "text": [
      "NUM TOKEN:  50\n"
     ]
    },
    {
     "name": "stderr",
     "output_type": "stream",
     "text": [
      " 52%|█████████████████████████████████████████▎                                     | 791/1511 [04:12<08:29,  1.41it/s]"
     ]
    },
    {
     "name": "stdout",
     "output_type": "stream",
     "text": [
      "NUM TOKEN:  61\n"
     ]
    },
    {
     "name": "stderr",
     "output_type": "stream",
     "text": [
      " 52%|█████████████████████████████████████████▍                                     | 792/1511 [04:13<08:19,  1.44it/s]"
     ]
    },
    {
     "name": "stdout",
     "output_type": "stream",
     "text": [
      "NUM TOKEN:  41\n"
     ]
    },
    {
     "name": "stderr",
     "output_type": "stream",
     "text": [
      " 52%|█████████████████████████████████████████▍                                     | 793/1511 [04:14<07:38,  1.57it/s]"
     ]
    },
    {
     "name": "stdout",
     "output_type": "stream",
     "text": [
      "NUM TOKEN:  136\n"
     ]
    },
    {
     "name": "stderr",
     "output_type": "stream",
     "text": [
      " 53%|█████████████████████████████████████████▌                                     | 794/1511 [04:14<07:50,  1.52it/s]"
     ]
    },
    {
     "name": "stdout",
     "output_type": "stream",
     "text": [
      "NUM TOKEN:  30\n",
      "NUM TOKEN:  36\n"
     ]
    },
    {
     "name": "stderr",
     "output_type": "stream",
     "text": [
      " 53%|█████████████████████████████████████████▌                                     | 796/1511 [04:15<05:43,  2.08it/s]"
     ]
    },
    {
     "name": "stdout",
     "output_type": "stream",
     "text": [
      "NUM TOKEN:  14\n",
      "NUM TOKEN:  11\n",
      "NUM TOKEN:  42\n"
     ]
    },
    {
     "name": "stderr",
     "output_type": "stream",
     "text": [
      " 53%|█████████████████████████████████████████▊                                     | 799/1511 [04:15<04:05,  2.90it/s]"
     ]
    },
    {
     "name": "stdout",
     "output_type": "stream",
     "text": [
      "NUM TOKEN:  10\n",
      "NUM TOKEN:  39\n"
     ]
    },
    {
     "name": "stderr",
     "output_type": "stream",
     "text": [
      " 53%|█████████████████████████████████████████▉                                     | 801/1511 [04:16<03:51,  3.07it/s]"
     ]
    },
    {
     "name": "stdout",
     "output_type": "stream",
     "text": [
      "NUM TOKEN:  26\n",
      "NUM TOKEN:  9\n",
      "NUM TOKEN:  54\n"
     ]
    },
    {
     "name": "stderr",
     "output_type": "stream",
     "text": [
      " 53%|██████████████████████████████████████████                                     | 804/1511 [04:17<03:37,  3.26it/s]"
     ]
    },
    {
     "name": "stdout",
     "output_type": "stream",
     "text": [
      "NUM TOKEN:  52\n"
     ]
    },
    {
     "name": "stderr",
     "output_type": "stream",
     "text": [
      " 53%|██████████████████████████████████████████                                     | 805/1511 [04:18<04:18,  2.73it/s]"
     ]
    },
    {
     "name": "stdout",
     "output_type": "stream",
     "text": [
      "NUM TOKEN:  39\n"
     ]
    },
    {
     "name": "stderr",
     "output_type": "stream",
     "text": [
      " 53%|██████████████████████████████████████████▏                                    | 806/1511 [04:18<04:47,  2.45it/s]"
     ]
    },
    {
     "name": "stdout",
     "output_type": "stream",
     "text": [
      "NUM TOKEN:  18\n",
      "NUM TOKEN:  62\n"
     ]
    },
    {
     "name": "stderr",
     "output_type": "stream",
     "text": [
      " 53%|██████████████████████████████████████████▏                                    | 808/1511 [04:18<03:48,  3.08it/s]"
     ]
    },
    {
     "name": "stdout",
     "output_type": "stream",
     "text": [
      "NUM TOKEN:  72\n"
     ]
    },
    {
     "name": "stderr",
     "output_type": "stream",
     "text": [
      " 54%|██████████████████████████████████████████▎                                    | 809/1511 [04:19<04:14,  2.76it/s]"
     ]
    },
    {
     "name": "stdout",
     "output_type": "stream",
     "text": [
      "NUM TOKEN:  46\n"
     ]
    },
    {
     "name": "stderr",
     "output_type": "stream",
     "text": [
      " 54%|██████████████████████████████████████████▎                                    | 810/1511 [04:20<05:07,  2.28it/s]"
     ]
    },
    {
     "name": "stdout",
     "output_type": "stream",
     "text": [
      "NUM TOKEN:  44\n"
     ]
    },
    {
     "name": "stderr",
     "output_type": "stream",
     "text": [
      " 54%|██████████████████████████████████████████▍                                    | 811/1511 [04:20<05:25,  2.15it/s]"
     ]
    },
    {
     "name": "stdout",
     "output_type": "stream",
     "text": [
      "NUM TOKEN:  43\n"
     ]
    },
    {
     "name": "stderr",
     "output_type": "stream",
     "text": [
      " 54%|██████████████████████████████████████████▍                                    | 812/1511 [04:21<05:33,  2.10it/s]"
     ]
    },
    {
     "name": "stdout",
     "output_type": "stream",
     "text": [
      "NUM TOKEN:  61\n"
     ]
    },
    {
     "name": "stderr",
     "output_type": "stream",
     "text": [
      " 54%|██████████████████████████████████████████▌                                    | 813/1511 [04:22<06:38,  1.75it/s]"
     ]
    },
    {
     "name": "stdout",
     "output_type": "stream",
     "text": [
      "NUM TOKEN:  26\n",
      "NUM TOKEN:  27\n",
      "NUM TOKEN:  15\n",
      "NUM TOKEN:  8\n",
      "NUM TOKEN:  106\n"
     ]
    },
    {
     "name": "stderr",
     "output_type": "stream",
     "text": [
      " 54%|██████████████████████████████████████████▊                                    | 818/1511 [04:22<03:31,  3.27it/s]"
     ]
    },
    {
     "name": "stdout",
     "output_type": "stream",
     "text": [
      "NUM TOKEN:  11\n",
      "NUM TOKEN:  29\n",
      "NUM TOKEN:  70\n"
     ]
    },
    {
     "name": "stderr",
     "output_type": "stream",
     "text": [
      " 54%|██████████████████████████████████████████▉                                    | 821/1511 [04:23<03:04,  3.75it/s]"
     ]
    },
    {
     "name": "stdout",
     "output_type": "stream",
     "text": [
      "NUM TOKEN:  20\n",
      "NUM TOKEN:  8\n",
      "NUM TOKEN:  59\n"
     ]
    },
    {
     "name": "stderr",
     "output_type": "stream",
     "text": [
      " 55%|███████████████████████████████████████████                                    | 824/1511 [04:24<03:10,  3.61it/s]"
     ]
    },
    {
     "name": "stdout",
     "output_type": "stream",
     "text": [
      "NUM TOKEN:  41\n"
     ]
    },
    {
     "name": "stderr",
     "output_type": "stream",
     "text": [
      " 55%|███████████████████████████████████████████▏                                   | 825/1511 [04:24<03:33,  3.22it/s]"
     ]
    },
    {
     "name": "stdout",
     "output_type": "stream",
     "text": [
      "NUM TOKEN:  65\n"
     ]
    },
    {
     "name": "stderr",
     "output_type": "stream",
     "text": [
      " 55%|███████████████████████████████████████████▏                                   | 826/1511 [04:25<03:47,  3.01it/s]"
     ]
    },
    {
     "name": "stdout",
     "output_type": "stream",
     "text": [
      "NUM TOKEN:  39\n"
     ]
    },
    {
     "name": "stderr",
     "output_type": "stream",
     "text": [
      " 55%|███████████████████████████████████████████▏                                   | 827/1511 [04:25<04:21,  2.62it/s]"
     ]
    },
    {
     "name": "stdout",
     "output_type": "stream",
     "text": [
      "NUM TOKEN:  48\n"
     ]
    },
    {
     "name": "stderr",
     "output_type": "stream",
     "text": [
      " 55%|███████████████████████████████████████████▎                                   | 828/1511 [04:26<04:46,  2.38it/s]"
     ]
    },
    {
     "name": "stdout",
     "output_type": "stream",
     "text": [
      "NUM TOKEN:  13\n",
      "NUM TOKEN:  12\n",
      "NUM TOKEN:  35\n"
     ]
    },
    {
     "name": "stderr",
     "output_type": "stream",
     "text": [
      " 55%|███████████████████████████████████████████▍                                   | 831/1511 [04:27<03:24,  3.33it/s]"
     ]
    },
    {
     "name": "stdout",
     "output_type": "stream",
     "text": [
      "NUM TOKEN:  53\n"
     ]
    },
    {
     "name": "stderr",
     "output_type": "stream",
     "text": [
      " 55%|███████████████████████████████████████████▍                                   | 832/1511 [04:27<04:26,  2.55it/s]"
     ]
    },
    {
     "name": "stdout",
     "output_type": "stream",
     "text": [
      "NUM TOKEN:  27\n",
      "NUM TOKEN:  47\n"
     ]
    },
    {
     "name": "stderr",
     "output_type": "stream",
     "text": [
      " 55%|███████████████████████████████████████████▌                                   | 834/1511 [04:28<04:09,  2.71it/s]"
     ]
    },
    {
     "name": "stdout",
     "output_type": "stream",
     "text": [
      "NUM TOKEN:  19\n",
      "NUM TOKEN:  131\n"
     ]
    },
    {
     "name": "stderr",
     "output_type": "stream",
     "text": [
      " 55%|███████████████████████████████████████████▋                                   | 836/1511 [04:29<04:44,  2.37it/s]"
     ]
    },
    {
     "name": "stdout",
     "output_type": "stream",
     "text": [
      "NUM TOKEN:  21\n",
      "NUM TOKEN:  10\n",
      "NUM TOKEN:  10\n",
      "NUM TOKEN:  23\n",
      "NUM TOKEN:  26\n",
      "NUM TOKEN:  145\n"
     ]
    },
    {
     "name": "stderr",
     "output_type": "stream",
     "text": [
      " 56%|████████████████████████████████████████████                                   | 842/1511 [04:30<02:53,  3.86it/s]"
     ]
    },
    {
     "name": "stdout",
     "output_type": "stream",
     "text": [
      "NUM TOKEN:  7\n",
      "NUM TOKEN:  26\n",
      "NUM TOKEN:  22\n",
      "NUM TOKEN:  14\n",
      "NUM TOKEN:  56\n"
     ]
    },
    {
     "name": "stderr",
     "output_type": "stream",
     "text": [
      " 56%|████████████████████████████████████████████▎                                  | 847/1511 [04:31<02:27,  4.52it/s]"
     ]
    },
    {
     "name": "stdout",
     "output_type": "stream",
     "text": [
      "NUM TOKEN:  25\n",
      "NUM TOKEN:  18\n",
      "NUM TOKEN:  52\n"
     ]
    },
    {
     "name": "stderr",
     "output_type": "stream",
     "text": [
      " 56%|████████████████████████████████████████████▍                                  | 850/1511 [04:31<02:31,  4.36it/s]"
     ]
    },
    {
     "name": "stdout",
     "output_type": "stream",
     "text": [
      "NUM TOKEN:  41\n"
     ]
    },
    {
     "name": "stderr",
     "output_type": "stream",
     "text": [
      " 56%|████████████████████████████████████████████▍                                  | 851/1511 [04:32<02:53,  3.81it/s]"
     ]
    },
    {
     "name": "stdout",
     "output_type": "stream",
     "text": [
      "NUM TOKEN:  33\n"
     ]
    },
    {
     "name": "stderr",
     "output_type": "stream",
     "text": [
      " 56%|████████████████████████████████████████████▌                                  | 852/1511 [04:33<03:14,  3.39it/s]"
     ]
    },
    {
     "name": "stdout",
     "output_type": "stream",
     "text": [
      "NUM TOKEN:  30\n",
      "NUM TOKEN:  61\n"
     ]
    },
    {
     "name": "stderr",
     "output_type": "stream",
     "text": [
      " 57%|████████████████████████████████████████████▋                                  | 854/1511 [04:33<03:14,  3.38it/s]"
     ]
    },
    {
     "name": "stdout",
     "output_type": "stream",
     "text": [
      "NUM TOKEN:  15\n",
      "NUM TOKEN:  11\n",
      "NUM TOKEN:  24\n",
      "NUM TOKEN:  14\n",
      "NUM TOKEN:  11\n",
      "NUM TOKEN:  50\n"
     ]
    },
    {
     "name": "stderr",
     "output_type": "stream",
     "text": [
      " 57%|████████████████████████████████████████████▉                                  | 860/1511 [04:34<01:51,  5.81it/s]"
     ]
    },
    {
     "name": "stdout",
     "output_type": "stream",
     "text": [
      "NUM TOKEN:  18\n",
      "NUM TOKEN:  314\n"
     ]
    },
    {
     "name": "stderr",
     "output_type": "stream",
     "text": [
      " 57%|█████████████████████████████████████████████                                  | 862/1511 [04:35<03:10,  3.41it/s]"
     ]
    },
    {
     "name": "stdout",
     "output_type": "stream",
     "text": [
      "NUM TOKEN:  13\n",
      "NUM TOKEN:  26\n",
      "NUM TOKEN:  24\n",
      "NUM TOKEN:  17\n",
      "NUM TOKEN:  244\n"
     ]
    },
    {
     "name": "stderr",
     "output_type": "stream",
     "text": [
      " 57%|█████████████████████████████████████████████▎                                 | 867/1511 [04:36<03:00,  3.57it/s]"
     ]
    },
    {
     "name": "stdout",
     "output_type": "stream",
     "text": [
      "NUM TOKEN:  31\n"
     ]
    },
    {
     "name": "stderr",
     "output_type": "stream",
     "text": [
      " 57%|█████████████████████████████████████████████▍                                 | 868/1511 [04:37<03:14,  3.31it/s]"
     ]
    },
    {
     "name": "stdout",
     "output_type": "stream",
     "text": [
      "NUM TOKEN:  97\n"
     ]
    },
    {
     "name": "stderr",
     "output_type": "stream",
     "text": [
      " 58%|█████████████████████████████████████████████▍                                 | 869/1511 [04:38<04:01,  2.66it/s]"
     ]
    },
    {
     "name": "stdout",
     "output_type": "stream",
     "text": [
      "NUM TOKEN:  91\n"
     ]
    },
    {
     "name": "stderr",
     "output_type": "stream",
     "text": [
      " 58%|█████████████████████████████████████████████▍                                 | 870/1511 [04:38<04:19,  2.47it/s]"
     ]
    },
    {
     "name": "stdout",
     "output_type": "stream",
     "text": [
      "NUM TOKEN:  23\n",
      "NUM TOKEN:  53\n"
     ]
    },
    {
     "name": "stderr",
     "output_type": "stream",
     "text": [
      " 58%|█████████████████████████████████████████████▌                                 | 872/1511 [04:39<04:19,  2.46it/s]"
     ]
    },
    {
     "name": "stdout",
     "output_type": "stream",
     "text": [
      "NUM TOKEN:  14\n",
      "NUM TOKEN:  90\n"
     ]
    },
    {
     "name": "stderr",
     "output_type": "stream",
     "text": [
      " 58%|█████████████████████████████████████████████▋                                 | 874/1511 [04:40<03:52,  2.75it/s]"
     ]
    },
    {
     "name": "stdout",
     "output_type": "stream",
     "text": [
      "NUM TOKEN:  158\n"
     ]
    },
    {
     "name": "stderr",
     "output_type": "stream",
     "text": [
      " 58%|█████████████████████████████████████████████▋                                 | 875/1511 [04:40<04:36,  2.30it/s]"
     ]
    },
    {
     "name": "stdout",
     "output_type": "stream",
     "text": [
      "NUM TOKEN:  19\n",
      "NUM TOKEN:  20\n",
      "NUM TOKEN:  18\n",
      "NUM TOKEN:  42\n"
     ]
    },
    {
     "name": "stderr",
     "output_type": "stream",
     "text": [
      " 58%|█████████████████████████████████████████████▉                                 | 879/1511 [04:41<03:05,  3.40it/s]"
     ]
    },
    {
     "name": "stdout",
     "output_type": "stream",
     "text": [
      "NUM TOKEN:  35\n"
     ]
    },
    {
     "name": "stderr",
     "output_type": "stream",
     "text": [
      " 58%|██████████████████████████████████████████████                                 | 880/1511 [04:42<03:28,  3.02it/s]"
     ]
    },
    {
     "name": "stdout",
     "output_type": "stream",
     "text": [
      "NUM TOKEN:  64\n"
     ]
    },
    {
     "name": "stderr",
     "output_type": "stream",
     "text": [
      " 58%|██████████████████████████████████████████████                                 | 881/1511 [04:42<04:39,  2.25it/s]"
     ]
    },
    {
     "name": "stdout",
     "output_type": "stream",
     "text": [
      "NUM TOKEN:  20\n",
      "NUM TOKEN:  27\n",
      "NUM TOKEN:  37\n"
     ]
    },
    {
     "name": "stderr",
     "output_type": "stream",
     "text": [
      " 59%|██████████████████████████████████████████████▏                                | 884/1511 [04:43<03:25,  3.05it/s]"
     ]
    },
    {
     "name": "stdout",
     "output_type": "stream",
     "text": [
      "NUM TOKEN:  25\n",
      "NUM TOKEN:  12\n",
      "NUM TOKEN:  36\n"
     ]
    },
    {
     "name": "stderr",
     "output_type": "stream",
     "text": [
      " 59%|██████████████████████████████████████████████▍                                | 887/1511 [04:44<02:48,  3.71it/s]"
     ]
    },
    {
     "name": "stdout",
     "output_type": "stream",
     "text": [
      "NUM TOKEN:  20\n",
      "NUM TOKEN:  51\n"
     ]
    },
    {
     "name": "stderr",
     "output_type": "stream",
     "text": [
      " 59%|██████████████████████████████████████████████▍                                | 889/1511 [04:44<03:00,  3.45it/s]"
     ]
    },
    {
     "name": "stdout",
     "output_type": "stream",
     "text": [
      "NUM TOKEN:  65\n"
     ]
    },
    {
     "name": "stderr",
     "output_type": "stream",
     "text": [
      " 59%|██████████████████████████████████████████████▌                                | 890/1511 [04:45<03:47,  2.73it/s]"
     ]
    },
    {
     "name": "stdout",
     "output_type": "stream",
     "text": [
      "NUM TOKEN:  28\n",
      "NUM TOKEN:  47\n"
     ]
    },
    {
     "name": "stderr",
     "output_type": "stream",
     "text": [
      " 59%|██████████████████████████████████████████████▋                                | 892/1511 [04:46<03:33,  2.89it/s]"
     ]
    },
    {
     "name": "stdout",
     "output_type": "stream",
     "text": [
      "NUM TOKEN:  72\n"
     ]
    },
    {
     "name": "stderr",
     "output_type": "stream",
     "text": [
      " 59%|██████████████████████████████████████████████▋                                | 893/1511 [04:46<03:50,  2.68it/s]"
     ]
    },
    {
     "name": "stdout",
     "output_type": "stream",
     "text": [
      "NUM TOKEN:  22\n",
      "NUM TOKEN:  23\n",
      "NUM TOKEN:  18\n",
      "NUM TOKEN:  28\n",
      "NUM TOKEN:  19\n",
      "NUM TOKEN:  17\n",
      "NUM TOKEN:  17\n",
      "NUM TOKEN:  130\n"
     ]
    },
    {
     "name": "stderr",
     "output_type": "stream",
     "text": [
      " 60%|███████████████████████████████████████████████                                | 901/1511 [04:47<02:07,  4.77it/s]"
     ]
    },
    {
     "name": "stdout",
     "output_type": "stream",
     "text": [
      "NUM TOKEN:  52\n"
     ]
    },
    {
     "name": "stderr",
     "output_type": "stream",
     "text": [
      " 60%|███████████████████████████████████████████████▏                               | 902/1511 [04:48<02:45,  3.68it/s]"
     ]
    },
    {
     "name": "stdout",
     "output_type": "stream",
     "text": [
      "NUM TOKEN:  17\n",
      "NUM TOKEN:  22\n",
      "NUM TOKEN:  65\n"
     ]
    },
    {
     "name": "stderr",
     "output_type": "stream",
     "text": [
      " 60%|███████████████████████████████████████████████▎                               | 905/1511 [04:49<02:50,  3.55it/s]"
     ]
    },
    {
     "name": "stdout",
     "output_type": "stream",
     "text": [
      "NUM TOKEN:  54\n"
     ]
    },
    {
     "name": "stderr",
     "output_type": "stream",
     "text": [
      " 60%|███████████████████████████████████████████████▎                               | 906/1511 [04:49<03:18,  3.04it/s]"
     ]
    },
    {
     "name": "stdout",
     "output_type": "stream",
     "text": [
      "NUM TOKEN:  51\n"
     ]
    },
    {
     "name": "stderr",
     "output_type": "stream",
     "text": [
      " 60%|███████████████████████████████████████████████▍                               | 907/1511 [04:50<04:00,  2.51it/s]"
     ]
    },
    {
     "name": "stdout",
     "output_type": "stream",
     "text": [
      "NUM TOKEN:  12\n",
      "NUM TOKEN:  10\n",
      "NUM TOKEN:  44\n"
     ]
    },
    {
     "name": "stderr",
     "output_type": "stream",
     "text": [
      " 60%|███████████████████████████████████████████████▌                               | 910/1511 [04:51<03:15,  3.08it/s]"
     ]
    },
    {
     "name": "stdout",
     "output_type": "stream",
     "text": [
      "NUM TOKEN:  81\n"
     ]
    },
    {
     "name": "stderr",
     "output_type": "stream",
     "text": [
      " 60%|███████████████████████████████████████████████▋                               | 911/1511 [04:52<03:47,  2.64it/s]"
     ]
    },
    {
     "name": "stdout",
     "output_type": "stream",
     "text": [
      "NUM TOKEN:  29\n",
      "NUM TOKEN:  15\n",
      "NUM TOKEN:  12\n",
      "NUM TOKEN:  12\n",
      "NUM TOKEN:  52\n"
     ]
    },
    {
     "name": "stderr",
     "output_type": "stream",
     "text": [
      " 61%|███████████████████████████████████████████████▉                               | 916/1511 [04:52<02:24,  4.12it/s]"
     ]
    },
    {
     "name": "stdout",
     "output_type": "stream",
     "text": [
      "NUM TOKEN:  67\n"
     ]
    },
    {
     "name": "stderr",
     "output_type": "stream",
     "text": [
      " 61%|███████████████████████████████████████████████▉                               | 917/1511 [04:53<02:55,  3.39it/s]"
     ]
    },
    {
     "name": "stdout",
     "output_type": "stream",
     "text": [
      "NUM TOKEN:  35\n"
     ]
    },
    {
     "name": "stderr",
     "output_type": "stream",
     "text": [
      " 61%|███████████████████████████████████████████████▉                               | 918/1511 [04:53<03:09,  3.13it/s]"
     ]
    },
    {
     "name": "stdout",
     "output_type": "stream",
     "text": [
      "NUM TOKEN:  10\n",
      "NUM TOKEN:  24\n",
      "NUM TOKEN:  44\n"
     ]
    },
    {
     "name": "stderr",
     "output_type": "stream",
     "text": [
      " 61%|████████████████████████████████████████████████▏                              | 921/1511 [04:54<02:36,  3.77it/s]"
     ]
    },
    {
     "name": "stdout",
     "output_type": "stream",
     "text": [
      "NUM TOKEN:  37\n"
     ]
    },
    {
     "name": "stderr",
     "output_type": "stream",
     "text": [
      " 61%|████████████████████████████████████████████████▏                              | 922/1511 [04:54<03:07,  3.13it/s]"
     ]
    },
    {
     "name": "stdout",
     "output_type": "stream",
     "text": [
      "NUM TOKEN:  23\n",
      "NUM TOKEN:  76\n"
     ]
    },
    {
     "name": "stderr",
     "output_type": "stream",
     "text": [
      " 61%|████████████████████████████████████████████████▎                              | 924/1511 [04:55<03:05,  3.16it/s]"
     ]
    },
    {
     "name": "stdout",
     "output_type": "stream",
     "text": [
      "NUM TOKEN:  42\n"
     ]
    },
    {
     "name": "stderr",
     "output_type": "stream",
     "text": [
      " 61%|████████████████████████████████████████████████▎                              | 925/1511 [04:56<03:27,  2.83it/s]"
     ]
    },
    {
     "name": "stdout",
     "output_type": "stream",
     "text": [
      "NUM TOKEN:  15\n",
      "NUM TOKEN:  38\n"
     ]
    },
    {
     "name": "stderr",
     "output_type": "stream",
     "text": [
      " 61%|████████████████████████████████████████████████▍                              | 927/1511 [04:56<03:10,  3.06it/s]"
     ]
    },
    {
     "name": "stdout",
     "output_type": "stream",
     "text": [
      "NUM TOKEN:  11\n",
      "NUM TOKEN:  48\n"
     ]
    },
    {
     "name": "stderr",
     "output_type": "stream",
     "text": [
      " 61%|████████████████████████████████████████████████▌                              | 929/1511 [04:57<03:07,  3.10it/s]"
     ]
    },
    {
     "name": "stdout",
     "output_type": "stream",
     "text": [
      "NUM TOKEN:  24\n",
      "NUM TOKEN:  25\n",
      "NUM TOKEN:  33\n"
     ]
    },
    {
     "name": "stderr",
     "output_type": "stream",
     "text": [
      " 62%|████████████████████████████████████████████████▋                              | 932/1511 [04:57<02:13,  4.34it/s]"
     ]
    },
    {
     "name": "stdout",
     "output_type": "stream",
     "text": [
      "NUM TOKEN:  94\n"
     ]
    },
    {
     "name": "stderr",
     "output_type": "stream",
     "text": [
      " 62%|████████████████████████████████████████████████▊                              | 933/1511 [04:58<03:17,  2.93it/s]"
     ]
    },
    {
     "name": "stdout",
     "output_type": "stream",
     "text": [
      "NUM TOKEN:  272\n"
     ]
    },
    {
     "name": "stderr",
     "output_type": "stream",
     "text": [
      " 62%|████████████████████████████████████████████████▊                              | 934/1511 [04:59<04:48,  2.00it/s]"
     ]
    },
    {
     "name": "stdout",
     "output_type": "stream",
     "text": [
      "NUM TOKEN:  15\n",
      "NUM TOKEN:  134\n"
     ]
    },
    {
     "name": "stderr",
     "output_type": "stream",
     "text": [
      " 62%|████████████████████████████████████████████████▉                              | 936/1511 [05:00<04:27,  2.15it/s]"
     ]
    },
    {
     "name": "stdout",
     "output_type": "stream",
     "text": [
      "NUM TOKEN:  20\n",
      "NUM TOKEN:  26\n",
      "NUM TOKEN:  53\n"
     ]
    },
    {
     "name": "stderr",
     "output_type": "stream",
     "text": [
      " 62%|█████████████████████████████████████████████████                              | 939/1511 [05:01<03:36,  2.64it/s]"
     ]
    },
    {
     "name": "stdout",
     "output_type": "stream",
     "text": [
      "NUM TOKEN:  20\n",
      "NUM TOKEN:  56\n"
     ]
    },
    {
     "name": "stderr",
     "output_type": "stream",
     "text": [
      " 62%|█████████████████████████████████████████████████▏                             | 941/1511 [05:02<03:41,  2.57it/s]"
     ]
    },
    {
     "name": "stdout",
     "output_type": "stream",
     "text": [
      "NUM TOKEN:  21\n",
      "NUM TOKEN:  16\n",
      "NUM TOKEN:  50\n"
     ]
    },
    {
     "name": "stderr",
     "output_type": "stream",
     "text": [
      " 62%|█████████████████████████████████████████████████▎                             | 944/1511 [05:02<03:09,  2.99it/s]"
     ]
    },
    {
     "name": "stdout",
     "output_type": "stream",
     "text": [
      "NUM TOKEN:  13\n",
      "NUM TOKEN:  81\n"
     ]
    },
    {
     "name": "stderr",
     "output_type": "stream",
     "text": [
      " 63%|█████████████████████████████████████████████████▍                             | 946/1511 [05:03<02:50,  3.31it/s]"
     ]
    },
    {
     "name": "stdout",
     "output_type": "stream",
     "text": [
      "NUM TOKEN:  100\n"
     ]
    },
    {
     "name": "stderr",
     "output_type": "stream",
     "text": [
      " 63%|█████████████████████████████████████████████████▌                             | 947/1511 [05:03<03:30,  2.68it/s]"
     ]
    },
    {
     "name": "stdout",
     "output_type": "stream",
     "text": [
      "NUM TOKEN:  41\n"
     ]
    },
    {
     "name": "stderr",
     "output_type": "stream",
     "text": [
      " 63%|█████████████████████████████████████████████████▌                             | 948/1511 [05:04<03:43,  2.52it/s]"
     ]
    },
    {
     "name": "stdout",
     "output_type": "stream",
     "text": [
      "NUM TOKEN:  56\n"
     ]
    },
    {
     "name": "stderr",
     "output_type": "stream",
     "text": [
      " 63%|█████████████████████████████████████████████████▌                             | 949/1511 [05:05<04:21,  2.15it/s]"
     ]
    },
    {
     "name": "stdout",
     "output_type": "stream",
     "text": [
      "NUM TOKEN:  29\n",
      "NUM TOKEN:  15\n",
      "NUM TOKEN:  33\n"
     ]
    },
    {
     "name": "stderr",
     "output_type": "stream",
     "text": [
      " 63%|█████████████████████████████████████████████████▊                             | 952/1511 [05:05<02:46,  3.36it/s]"
     ]
    },
    {
     "name": "stdout",
     "output_type": "stream",
     "text": [
      "NUM TOKEN:  20\n",
      "NUM TOKEN:  114\n"
     ]
    },
    {
     "name": "stderr",
     "output_type": "stream",
     "text": [
      " 63%|█████████████████████████████████████████████████▉                             | 954/1511 [05:06<02:54,  3.19it/s]"
     ]
    },
    {
     "name": "stdout",
     "output_type": "stream",
     "text": [
      "NUM TOKEN:  44\n"
     ]
    },
    {
     "name": "stderr",
     "output_type": "stream",
     "text": [
      " 63%|█████████████████████████████████████████████████▉                             | 955/1511 [05:06<03:30,  2.64it/s]"
     ]
    },
    {
     "name": "stdout",
     "output_type": "stream",
     "text": [
      "NUM TOKEN:  23\n",
      "NUM TOKEN:  33\n"
     ]
    },
    {
     "name": "stderr",
     "output_type": "stream",
     "text": [
      " 63%|██████████████████████████████████████████████████                             | 957/1511 [05:07<03:03,  3.03it/s]"
     ]
    },
    {
     "name": "stdout",
     "output_type": "stream",
     "text": [
      "NUM TOKEN:  23\n",
      "NUM TOKEN:  49\n"
     ]
    },
    {
     "name": "stderr",
     "output_type": "stream",
     "text": [
      " 63%|██████████████████████████████████████████████████▏                            | 959/1511 [05:07<02:41,  3.42it/s]"
     ]
    },
    {
     "name": "stdout",
     "output_type": "stream",
     "text": [
      "NUM TOKEN:  65\n"
     ]
    },
    {
     "name": "stderr",
     "output_type": "stream",
     "text": [
      " 64%|██████████████████████████████████████████████████▏                            | 960/1511 [05:08<03:51,  2.38it/s]"
     ]
    },
    {
     "name": "stdout",
     "output_type": "stream",
     "text": [
      "NUM TOKEN:  11\n",
      "NUM TOKEN:  19\n",
      "NUM TOKEN:  35\n"
     ]
    },
    {
     "name": "stderr",
     "output_type": "stream",
     "text": [
      " 64%|██████████████████████████████████████████████████▎                            | 963/1511 [05:09<02:35,  3.53it/s]"
     ]
    },
    {
     "name": "stdout",
     "output_type": "stream",
     "text": [
      "NUM TOKEN:  10\n",
      "NUM TOKEN:  21\n",
      "NUM TOKEN:  21\n",
      "NUM TOKEN:  40\n"
     ]
    },
    {
     "name": "stderr",
     "output_type": "stream",
     "text": [
      " 64%|██████████████████████████████████████████████████▌                            | 967/1511 [05:09<02:00,  4.53it/s]"
     ]
    },
    {
     "name": "stdout",
     "output_type": "stream",
     "text": [
      "NUM TOKEN:  8\n",
      "NUM TOKEN:  12\n",
      "NUM TOKEN:  25\n",
      "NUM TOKEN:  19\n",
      "NUM TOKEN:  50\n"
     ]
    },
    {
     "name": "stderr",
     "output_type": "stream",
     "text": [
      " 64%|██████████████████████████████████████████████████▊                            | 972/1511 [05:10<01:39,  5.39it/s]"
     ]
    },
    {
     "name": "stdout",
     "output_type": "stream",
     "text": [
      "NUM TOKEN:  80\n"
     ]
    },
    {
     "name": "stderr",
     "output_type": "stream",
     "text": [
      " 64%|██████████████████████████████████████████████████▊                            | 973/1511 [05:11<02:32,  3.52it/s]"
     ]
    },
    {
     "name": "stdout",
     "output_type": "stream",
     "text": [
      "NUM TOKEN:  27\n",
      "NUM TOKEN:  11\n",
      "NUM TOKEN:  55\n"
     ]
    },
    {
     "name": "stderr",
     "output_type": "stream",
     "text": [
      " 65%|███████████████████████████████████████████████████                            | 976/1511 [05:12<02:27,  3.64it/s]"
     ]
    },
    {
     "name": "stdout",
     "output_type": "stream",
     "text": [
      "NUM TOKEN:  29\n",
      "NUM TOKEN:  50\n"
     ]
    },
    {
     "name": "stderr",
     "output_type": "stream",
     "text": [
      " 65%|███████████████████████████████████████████████████▏                           | 978/1511 [05:12<02:33,  3.47it/s]"
     ]
    },
    {
     "name": "stdout",
     "output_type": "stream",
     "text": [
      "NUM TOKEN:  9\n",
      "NUM TOKEN:  11\n",
      "NUM TOKEN:  16\n",
      "NUM TOKEN:  26\n",
      "NUM TOKEN:  91\n"
     ]
    },
    {
     "name": "stderr",
     "output_type": "stream",
     "text": [
      " 65%|███████████████████████████████████████████████████▍                           | 983/1511 [05:13<01:59,  4.41it/s]"
     ]
    },
    {
     "name": "stdout",
     "output_type": "stream",
     "text": [
      "NUM TOKEN:  65\n"
     ]
    },
    {
     "name": "stderr",
     "output_type": "stream",
     "text": [
      " 65%|███████████████████████████████████████████████████▍                           | 984/1511 [05:14<02:45,  3.19it/s]"
     ]
    },
    {
     "name": "stdout",
     "output_type": "stream",
     "text": [
      "NUM TOKEN:  30\n",
      "NUM TOKEN:  25\n",
      "NUM TOKEN:  49\n"
     ]
    },
    {
     "name": "stderr",
     "output_type": "stream",
     "text": [
      " 65%|███████████████████████████████████████████████████▌                           | 987/1511 [05:15<02:26,  3.59it/s]"
     ]
    },
    {
     "name": "stdout",
     "output_type": "stream",
     "text": [
      "NUM TOKEN:  35\n"
     ]
    },
    {
     "name": "stderr",
     "output_type": "stream",
     "text": [
      " 65%|███████████████████████████████████████████████████▋                           | 988/1511 [05:15<02:44,  3.18it/s]"
     ]
    },
    {
     "name": "stdout",
     "output_type": "stream",
     "text": [
      "NUM TOKEN:  41\n"
     ]
    },
    {
     "name": "stderr",
     "output_type": "stream",
     "text": [
      " 65%|███████████████████████████████████████████████████▋                           | 989/1511 [05:16<03:07,  2.78it/s]"
     ]
    },
    {
     "name": "stdout",
     "output_type": "stream",
     "text": [
      "NUM TOKEN:  18\n",
      "NUM TOKEN:  15\n",
      "NUM TOKEN:  14\n",
      "NUM TOKEN:  48\n"
     ]
    },
    {
     "name": "stderr",
     "output_type": "stream",
     "text": [
      " 66%|███████████████████████████████████████████████████▉                           | 993/1511 [05:17<02:24,  3.60it/s]"
     ]
    },
    {
     "name": "stdout",
     "output_type": "stream",
     "text": [
      "NUM TOKEN:  16\n",
      "NUM TOKEN:  66\n"
     ]
    },
    {
     "name": "stderr",
     "output_type": "stream",
     "text": [
      " 66%|████████████████████████████████████████████████████                           | 995/1511 [05:18<02:52,  2.99it/s]"
     ]
    },
    {
     "name": "stdout",
     "output_type": "stream",
     "text": [
      "NUM TOKEN:  38\n"
     ]
    },
    {
     "name": "stderr",
     "output_type": "stream",
     "text": [
      " 66%|████████████████████████████████████████████████████                           | 996/1511 [05:18<03:09,  2.72it/s]"
     ]
    },
    {
     "name": "stdout",
     "output_type": "stream",
     "text": [
      "NUM TOKEN:  54\n"
     ]
    },
    {
     "name": "stderr",
     "output_type": "stream",
     "text": [
      " 66%|████████████████████████████████████████████████████▏                          | 997/1511 [05:19<03:41,  2.32it/s]"
     ]
    },
    {
     "name": "stdout",
     "output_type": "stream",
     "text": [
      "NUM TOKEN:  19\n",
      "NUM TOKEN:  85\n"
     ]
    },
    {
     "name": "stderr",
     "output_type": "stream",
     "text": [
      " 66%|████████████████████████████████████████████████████▏                          | 999/1511 [05:20<03:24,  2.50it/s]"
     ]
    },
    {
     "name": "stdout",
     "output_type": "stream",
     "text": [
      "NUM TOKEN:  30\n",
      "NUM TOKEN:  35\n"
     ]
    },
    {
     "name": "stderr",
     "output_type": "stream",
     "text": [
      " 66%|███████████████████████████████████████████████████▋                          | 1001/1511 [05:20<02:57,  2.88it/s]"
     ]
    },
    {
     "name": "stdout",
     "output_type": "stream",
     "text": [
      "NUM TOKEN:  33\n"
     ]
    },
    {
     "name": "stderr",
     "output_type": "stream",
     "text": [
      " 66%|███████████████████████████████████████████████████▋                          | 1002/1511 [05:21<03:08,  2.70it/s]"
     ]
    },
    {
     "name": "stdout",
     "output_type": "stream",
     "text": [
      "NUM TOKEN:  23\n",
      "NUM TOKEN:  52\n"
     ]
    },
    {
     "name": "stderr",
     "output_type": "stream",
     "text": [
      " 66%|███████████████████████████████████████████████████▊                          | 1004/1511 [05:21<02:28,  3.41it/s]"
     ]
    },
    {
     "name": "stdout",
     "output_type": "stream",
     "text": [
      "NUM TOKEN:  59\n"
     ]
    },
    {
     "name": "stderr",
     "output_type": "stream",
     "text": [
      " 67%|███████████████████████████████████████████████████▉                          | 1005/1511 [05:22<03:08,  2.68it/s]"
     ]
    },
    {
     "name": "stdout",
     "output_type": "stream",
     "text": [
      "NUM TOKEN:  19\n",
      "NUM TOKEN:  74\n"
     ]
    },
    {
     "name": "stderr",
     "output_type": "stream",
     "text": [
      " 67%|███████████████████████████████████████████████████▉                          | 1007/1511 [05:22<02:55,  2.87it/s]"
     ]
    },
    {
     "name": "stdout",
     "output_type": "stream",
     "text": [
      "NUM TOKEN:  36\n"
     ]
    },
    {
     "name": "stderr",
     "output_type": "stream",
     "text": [
      " 67%|████████████████████████████████████████████████████                          | 1008/1511 [05:23<03:14,  2.59it/s]"
     ]
    },
    {
     "name": "stdout",
     "output_type": "stream",
     "text": [
      "NUM TOKEN:  14\n",
      "NUM TOKEN:  35\n"
     ]
    },
    {
     "name": "stderr",
     "output_type": "stream",
     "text": [
      " 67%|████████████████████████████████████████████████████▏                         | 1010/1511 [05:23<02:44,  3.05it/s]"
     ]
    },
    {
     "name": "stdout",
     "output_type": "stream",
     "text": [
      "NUM TOKEN:  17\n",
      "NUM TOKEN:  30\n",
      "NUM TOKEN:  12\n",
      "NUM TOKEN:  7\n",
      "NUM TOKEN:  54\n"
     ]
    },
    {
     "name": "stderr",
     "output_type": "stream",
     "text": [
      " 67%|████████████████████████████████████████████████████▍                         | 1015/1511 [05:24<01:54,  4.34it/s]"
     ]
    },
    {
     "name": "stdout",
     "output_type": "stream",
     "text": [
      "NUM TOKEN:  12\n",
      "NUM TOKEN:  24\n",
      "NUM TOKEN:  40\n"
     ]
    },
    {
     "name": "stderr",
     "output_type": "stream",
     "text": [
      " 67%|████████████████████████████████████████████████████▌                         | 1018/1511 [05:25<01:48,  4.53it/s]"
     ]
    },
    {
     "name": "stdout",
     "output_type": "stream",
     "text": [
      "NUM TOKEN:  119\n"
     ]
    },
    {
     "name": "stderr",
     "output_type": "stream",
     "text": [
      " 67%|████████████████████████████████████████████████████▌                         | 1019/1511 [05:25<02:17,  3.58it/s]"
     ]
    },
    {
     "name": "stdout",
     "output_type": "stream",
     "text": [
      "NUM TOKEN:  9\n",
      "NUM TOKEN:  14\n",
      "NUM TOKEN:  92\n"
     ]
    },
    {
     "name": "stderr",
     "output_type": "stream",
     "text": [
      " 68%|████████████████████████████████████████████████████▊                         | 1022/1511 [05:26<02:07,  3.83it/s]"
     ]
    },
    {
     "name": "stdout",
     "output_type": "stream",
     "text": [
      "NUM TOKEN:  41\n"
     ]
    },
    {
     "name": "stderr",
     "output_type": "stream",
     "text": [
      " 68%|████████████████████████████████████████████████████▊                         | 1023/1511 [05:26<02:24,  3.37it/s]"
     ]
    },
    {
     "name": "stdout",
     "output_type": "stream",
     "text": [
      "NUM TOKEN:  69\n"
     ]
    },
    {
     "name": "stderr",
     "output_type": "stream",
     "text": [
      " 68%|████████████████████████████████████████████████████▊                         | 1024/1511 [05:27<03:15,  2.49it/s]"
     ]
    },
    {
     "name": "stdout",
     "output_type": "stream",
     "text": [
      "NUM TOKEN:  109\n"
     ]
    },
    {
     "name": "stderr",
     "output_type": "stream",
     "text": [
      " 68%|████████████████████████████████████████████████████▉                         | 1025/1511 [05:28<04:27,  1.82it/s]"
     ]
    },
    {
     "name": "stdout",
     "output_type": "stream",
     "text": [
      "NUM TOKEN:  35\n"
     ]
    },
    {
     "name": "stderr",
     "output_type": "stream",
     "text": [
      " 68%|████████████████████████████████████████████████████▉                         | 1026/1511 [05:29<04:23,  1.84it/s]"
     ]
    },
    {
     "name": "stdout",
     "output_type": "stream",
     "text": [
      "NUM TOKEN:  14\n",
      "NUM TOKEN:  13\n",
      "NUM TOKEN:  29\n",
      "NUM TOKEN:  22\n",
      "NUM TOKEN:  19\n",
      "NUM TOKEN:  7\n",
      "NUM TOKEN:  49\n"
     ]
    },
    {
     "name": "stderr",
     "output_type": "stream",
     "text": [
      " 68%|█████████████████████████████████████████████████████▎                        | 1033/1511 [05:29<01:45,  4.53it/s]"
     ]
    },
    {
     "name": "stdout",
     "output_type": "stream",
     "text": [
      "NUM TOKEN:  83\n"
     ]
    },
    {
     "name": "stderr",
     "output_type": "stream",
     "text": [
      " 68%|█████████████████████████████████████████████████████▍                        | 1034/1511 [05:30<02:07,  3.75it/s]"
     ]
    },
    {
     "name": "stdout",
     "output_type": "stream",
     "text": [
      "NUM TOKEN:  14\n",
      "NUM TOKEN:  27\n",
      "NUM TOKEN:  18\n",
      "NUM TOKEN:  60\n"
     ]
    },
    {
     "name": "stderr",
     "output_type": "stream",
     "text": [
      " 69%|█████████████████████████████████████████████████████▌                        | 1038/1511 [05:31<01:46,  4.45it/s]"
     ]
    },
    {
     "name": "stdout",
     "output_type": "stream",
     "text": [
      "NUM TOKEN:  17\n",
      "NUM TOKEN:  41\n"
     ]
    },
    {
     "name": "stderr",
     "output_type": "stream",
     "text": [
      " 69%|█████████████████████████████████████████████████████▋                        | 1040/1511 [05:31<01:49,  4.32it/s]"
     ]
    },
    {
     "name": "stdout",
     "output_type": "stream",
     "text": [
      "NUM TOKEN:  248\n"
     ]
    },
    {
     "name": "stderr",
     "output_type": "stream",
     "text": [
      " 69%|█████████████████████████████████████████████████████▋                        | 1041/1511 [05:32<02:48,  2.79it/s]"
     ]
    },
    {
     "name": "stdout",
     "output_type": "stream",
     "text": [
      "NUM TOKEN:  26\n",
      "NUM TOKEN:  31\n"
     ]
    },
    {
     "name": "stderr",
     "output_type": "stream",
     "text": [
      " 69%|█████████████████████████████████████████████████████▊                        | 1043/1511 [05:33<02:31,  3.08it/s]"
     ]
    },
    {
     "name": "stdout",
     "output_type": "stream",
     "text": [
      "NUM TOKEN:  12\n",
      "NUM TOKEN:  37\n"
     ]
    },
    {
     "name": "stderr",
     "output_type": "stream",
     "text": [
      " 69%|█████████████████████████████████████████████████████▉                        | 1045/1511 [05:33<02:24,  3.23it/s]"
     ]
    },
    {
     "name": "stdout",
     "output_type": "stream",
     "text": [
      "NUM TOKEN:  11\n",
      "NUM TOKEN:  10\n",
      "NUM TOKEN:  12\n",
      "NUM TOKEN:  64\n"
     ]
    },
    {
     "name": "stderr",
     "output_type": "stream",
     "text": [
      " 69%|██████████████████████████████████████████████████████▏                       | 1049/1511 [05:34<01:56,  3.95it/s]"
     ]
    },
    {
     "name": "stdout",
     "output_type": "stream",
     "text": [
      "NUM TOKEN:  14\n",
      "NUM TOKEN:  51\n"
     ]
    },
    {
     "name": "stderr",
     "output_type": "stream",
     "text": [
      " 70%|██████████████████████████████████████████████████████▎                       | 1051/1511 [05:35<01:56,  3.95it/s]"
     ]
    },
    {
     "name": "stdout",
     "output_type": "stream",
     "text": [
      "NUM TOKEN:  133\n"
     ]
    },
    {
     "name": "stderr",
     "output_type": "stream",
     "text": [
      " 70%|██████████████████████████████████████████████████████▎                       | 1052/1511 [05:35<02:37,  2.91it/s]"
     ]
    },
    {
     "name": "stdout",
     "output_type": "stream",
     "text": [
      "NUM TOKEN:  33\n"
     ]
    },
    {
     "name": "stderr",
     "output_type": "stream",
     "text": [
      " 70%|██████████████████████████████████████████████████████▎                       | 1053/1511 [05:36<02:48,  2.71it/s]"
     ]
    },
    {
     "name": "stdout",
     "output_type": "stream",
     "text": [
      "NUM TOKEN:  7\n",
      "NUM TOKEN:  64\n"
     ]
    },
    {
     "name": "stderr",
     "output_type": "stream",
     "text": [
      " 70%|██████████████████████████████████████████████████████▍                       | 1055/1511 [05:37<02:51,  2.66it/s]"
     ]
    },
    {
     "name": "stdout",
     "output_type": "stream",
     "text": [
      "NUM TOKEN:  59\n"
     ]
    },
    {
     "name": "stderr",
     "output_type": "stream",
     "text": [
      " 70%|██████████████████████████████████████████████████████▌                       | 1056/1511 [05:38<03:22,  2.24it/s]"
     ]
    },
    {
     "name": "stdout",
     "output_type": "stream",
     "text": [
      "NUM TOKEN:  31\n"
     ]
    },
    {
     "name": "stderr",
     "output_type": "stream",
     "text": [
      " 70%|██████████████████████████████████████████████████████▌                       | 1057/1511 [05:38<03:23,  2.23it/s]"
     ]
    },
    {
     "name": "stdout",
     "output_type": "stream",
     "text": [
      "NUM TOKEN:  274\n"
     ]
    },
    {
     "name": "stderr",
     "output_type": "stream",
     "text": [
      " 70%|██████████████████████████████████████████████████████▌                       | 1058/1511 [05:39<05:15,  1.43it/s]"
     ]
    },
    {
     "name": "stdout",
     "output_type": "stream",
     "text": [
      "NUM TOKEN:  69\n"
     ]
    },
    {
     "name": "stderr",
     "output_type": "stream",
     "text": [
      " 70%|██████████████████████████████████████████████████████▋                       | 1059/1511 [05:40<05:33,  1.36it/s]"
     ]
    },
    {
     "name": "stdout",
     "output_type": "stream",
     "text": [
      "NUM TOKEN:  32\n"
     ]
    },
    {
     "name": "stderr",
     "output_type": "stream",
     "text": [
      " 70%|██████████████████████████████████████████████████████▋                       | 1060/1511 [05:41<05:01,  1.50it/s]"
     ]
    },
    {
     "name": "stdout",
     "output_type": "stream",
     "text": [
      "NUM TOKEN:  10\n",
      "NUM TOKEN:  123\n"
     ]
    },
    {
     "name": "stderr",
     "output_type": "stream",
     "text": [
      " 70%|██████████████████████████████████████████████████████▊                       | 1062/1511 [05:42<04:51,  1.54it/s]"
     ]
    },
    {
     "name": "stdout",
     "output_type": "stream",
     "text": [
      "NUM TOKEN:  53\n"
     ]
    },
    {
     "name": "stderr",
     "output_type": "stream",
     "text": [
      " 70%|██████████████████████████████████████████████████████▊                       | 1063/1511 [05:43<05:01,  1.49it/s]"
     ]
    },
    {
     "name": "stdout",
     "output_type": "stream",
     "text": [
      "NUM TOKEN:  24\n",
      "NUM TOKEN:  21\n",
      "NUM TOKEN:  7\n",
      "NUM TOKEN:  10\n",
      "NUM TOKEN:  18\n",
      "NUM TOKEN:  83\n"
     ]
    },
    {
     "name": "stderr",
     "output_type": "stream",
     "text": [
      " 71%|███████████████████████████████████████████████████████▏                      | 1069/1511 [05:44<02:14,  3.29it/s]"
     ]
    },
    {
     "name": "stdout",
     "output_type": "stream",
     "text": [
      "NUM TOKEN:  16\n",
      "NUM TOKEN:  8\n",
      "NUM TOKEN:  71\n"
     ]
    },
    {
     "name": "stderr",
     "output_type": "stream",
     "text": [
      " 71%|███████████████████████████████████████████████████████▎                      | 1072/1511 [05:44<02:06,  3.46it/s]"
     ]
    },
    {
     "name": "stdout",
     "output_type": "stream",
     "text": [
      "NUM TOKEN:  22\n",
      "NUM TOKEN:  1\n",
      "NUM TOKEN:  33\n"
     ]
    },
    {
     "name": "stderr",
     "output_type": "stream",
     "text": [
      " 71%|███████████████████████████████████████████████████████▍                      | 1075/1511 [05:45<01:48,  4.02it/s]"
     ]
    },
    {
     "name": "stdout",
     "output_type": "stream",
     "text": [
      "NUM TOKEN:  29\n",
      "NUM TOKEN:  15\n",
      "NUM TOKEN:  62\n"
     ]
    },
    {
     "name": "stderr",
     "output_type": "stream",
     "text": [
      " 71%|███████████████████████████████████████████████████████▋                      | 1078/1511 [05:45<01:39,  4.34it/s]"
     ]
    },
    {
     "name": "stdout",
     "output_type": "stream",
     "text": [
      "NUM TOKEN:  101\n"
     ]
    },
    {
     "name": "stderr",
     "output_type": "stream",
     "text": [
      " 71%|███████████████████████████████████████████████████████▋                      | 1079/1511 [05:46<02:20,  3.07it/s]"
     ]
    },
    {
     "name": "stdout",
     "output_type": "stream",
     "text": [
      "NUM TOKEN:  23\n",
      "NUM TOKEN:  17\n",
      "NUM TOKEN:  12\n",
      "NUM TOKEN:  23\n",
      "NUM TOKEN:  106\n"
     ]
    },
    {
     "name": "stderr",
     "output_type": "stream",
     "text": [
      " 72%|███████████████████████████████████████████████████████▉                      | 1084/1511 [05:47<01:57,  3.63it/s]"
     ]
    },
    {
     "name": "stdout",
     "output_type": "stream",
     "text": [
      "NUM TOKEN:  9\n",
      "NUM TOKEN:  29\n",
      "NUM TOKEN:  34\n"
     ]
    },
    {
     "name": "stderr",
     "output_type": "stream",
     "text": [
      " 72%|████████████████████████████████████████████████████████                      | 1087/1511 [05:48<01:42,  4.13it/s]"
     ]
    },
    {
     "name": "stdout",
     "output_type": "stream",
     "text": [
      "NUM TOKEN:  37\n"
     ]
    },
    {
     "name": "stderr",
     "output_type": "stream",
     "text": [
      " 72%|████████████████████████████████████████████████████████▏                     | 1088/1511 [05:48<01:58,  3.56it/s]"
     ]
    },
    {
     "name": "stdout",
     "output_type": "stream",
     "text": [
      "NUM TOKEN:  46\n"
     ]
    },
    {
     "name": "stderr",
     "output_type": "stream",
     "text": [
      " 72%|████████████████████████████████████████████████████████▏                     | 1089/1511 [05:49<02:24,  2.92it/s]"
     ]
    },
    {
     "name": "stdout",
     "output_type": "stream",
     "text": [
      "NUM TOKEN:  19\n",
      "NUM TOKEN:  24\n",
      "NUM TOKEN:  7\n",
      "NUM TOKEN:  41\n"
     ]
    },
    {
     "name": "stderr",
     "output_type": "stream",
     "text": [
      " 72%|████████████████████████████████████████████████████████▍                     | 1093/1511 [05:50<01:46,  3.94it/s]"
     ]
    },
    {
     "name": "stdout",
     "output_type": "stream",
     "text": [
      "NUM TOKEN:  65\n"
     ]
    },
    {
     "name": "stderr",
     "output_type": "stream",
     "text": [
      " 72%|████████████████████████████████████████████████████████▍                     | 1094/1511 [05:51<02:30,  2.77it/s]"
     ]
    },
    {
     "name": "stdout",
     "output_type": "stream",
     "text": [
      "NUM TOKEN:  38\n"
     ]
    },
    {
     "name": "stderr",
     "output_type": "stream",
     "text": [
      " 72%|████████████████████████████████████████████████████████▌                     | 1095/1511 [05:51<02:45,  2.52it/s]"
     ]
    },
    {
     "name": "stdout",
     "output_type": "stream",
     "text": [
      "NUM TOKEN:  18\n",
      "NUM TOKEN:  11\n",
      "NUM TOKEN:  33\n"
     ]
    },
    {
     "name": "stderr",
     "output_type": "stream",
     "text": [
      " 73%|████████████████████████████████████████████████████████▋                     | 1098/1511 [05:52<02:03,  3.35it/s]"
     ]
    },
    {
     "name": "stdout",
     "output_type": "stream",
     "text": [
      "NUM TOKEN:  2\n",
      "NUM TOKEN:  71\n"
     ]
    },
    {
     "name": "stderr",
     "output_type": "stream",
     "text": [
      " 73%|████████████████████████████████████████████████████████▊                     | 1100/1511 [05:53<02:21,  2.90it/s]"
     ]
    },
    {
     "name": "stdout",
     "output_type": "stream",
     "text": [
      "NUM TOKEN:  10\n",
      "NUM TOKEN:  53\n"
     ]
    },
    {
     "name": "stderr",
     "output_type": "stream",
     "text": [
      " 73%|████████████████████████████████████████████████████████▉                     | 1102/1511 [05:54<02:26,  2.79it/s]"
     ]
    },
    {
     "name": "stdout",
     "output_type": "stream",
     "text": [
      "NUM TOKEN:  17\n",
      "NUM TOKEN:  11\n",
      "NUM TOKEN:  359\n"
     ]
    },
    {
     "name": "stderr",
     "output_type": "stream",
     "text": [
      " 73%|█████████████████████████████████████████████████████████                     | 1105/1511 [05:55<03:00,  2.25it/s]"
     ]
    },
    {
     "name": "stdout",
     "output_type": "stream",
     "text": [
      "NUM TOKEN:  44\n"
     ]
    },
    {
     "name": "stderr",
     "output_type": "stream",
     "text": [
      " 73%|█████████████████████████████████████████████████████████                     | 1106/1511 [05:56<03:08,  2.15it/s]"
     ]
    },
    {
     "name": "stdout",
     "output_type": "stream",
     "text": [
      "NUM TOKEN:  22\n",
      "NUM TOKEN:  20\n",
      "NUM TOKEN:  12\n",
      "NUM TOKEN:  50\n"
     ]
    },
    {
     "name": "stderr",
     "output_type": "stream",
     "text": [
      " 73%|█████████████████████████████████████████████████████████▎                    | 1110/1511 [05:56<01:52,  3.58it/s]"
     ]
    },
    {
     "name": "stdout",
     "output_type": "stream",
     "text": [
      "NUM TOKEN:  24\n",
      "NUM TOKEN:  64\n"
     ]
    },
    {
     "name": "stderr",
     "output_type": "stream",
     "text": [
      " 74%|█████████████████████████████████████████████████████████▍                    | 1112/1511 [05:57<01:49,  3.66it/s]"
     ]
    },
    {
     "name": "stdout",
     "output_type": "stream",
     "text": [
      "NUM TOKEN:  20\n",
      "NUM TOKEN:  87\n"
     ]
    },
    {
     "name": "stderr",
     "output_type": "stream",
     "text": [
      " 74%|█████████████████████████████████████████████████████████▌                    | 1114/1511 [05:57<01:48,  3.65it/s]"
     ]
    },
    {
     "name": "stdout",
     "output_type": "stream",
     "text": [
      "NUM TOKEN:  24\n",
      "NUM TOKEN:  34\n"
     ]
    },
    {
     "name": "stderr",
     "output_type": "stream",
     "text": [
      " 74%|█████████████████████████████████████████████████████████▌                    | 1116/1511 [05:58<01:45,  3.75it/s]"
     ]
    },
    {
     "name": "stdout",
     "output_type": "stream",
     "text": [
      "NUM TOKEN:  19\n",
      "NUM TOKEN:  75\n"
     ]
    },
    {
     "name": "stderr",
     "output_type": "stream",
     "text": [
      " 74%|█████████████████████████████████████████████████████████▋                    | 1118/1511 [05:59<02:16,  2.88it/s]"
     ]
    },
    {
     "name": "stdout",
     "output_type": "stream",
     "text": [
      "NUM TOKEN:  28\n",
      "NUM TOKEN:  25\n",
      "NUM TOKEN:  29\n",
      "NUM TOKEN:  21\n",
      "NUM TOKEN:  17\n",
      "NUM TOKEN:  46\n"
     ]
    },
    {
     "name": "stderr",
     "output_type": "stream",
     "text": [
      " 74%|██████████████████████████████████████████████████████████                    | 1124/1511 [05:59<01:25,  4.55it/s]"
     ]
    },
    {
     "name": "stdout",
     "output_type": "stream",
     "text": [
      "NUM TOKEN:  18\n",
      "NUM TOKEN:  59\n"
     ]
    },
    {
     "name": "stderr",
     "output_type": "stream",
     "text": [
      " 75%|██████████████████████████████████████████████████████████▏                   | 1126/1511 [06:00<01:31,  4.21it/s]"
     ]
    },
    {
     "name": "stdout",
     "output_type": "stream",
     "text": [
      "NUM TOKEN:  14\n",
      "NUM TOKEN:  10\n",
      "NUM TOKEN:  49\n"
     ]
    },
    {
     "name": "stderr",
     "output_type": "stream",
     "text": [
      " 75%|██████████████████████████████████████████████████████████▎                   | 1129/1511 [06:01<01:22,  4.62it/s]"
     ]
    },
    {
     "name": "stdout",
     "output_type": "stream",
     "text": [
      "NUM TOKEN:  79\n"
     ]
    },
    {
     "name": "stderr",
     "output_type": "stream",
     "text": [
      " 75%|██████████████████████████████████████████████████████████▎                   | 1130/1511 [06:01<01:33,  4.09it/s]"
     ]
    },
    {
     "name": "stdout",
     "output_type": "stream",
     "text": [
      "NUM TOKEN:  80\n"
     ]
    },
    {
     "name": "stderr",
     "output_type": "stream",
     "text": [
      " 75%|██████████████████████████████████████████████████████████▍                   | 1131/1511 [06:02<02:06,  2.99it/s]"
     ]
    },
    {
     "name": "stdout",
     "output_type": "stream",
     "text": [
      "NUM TOKEN:  106\n"
     ]
    },
    {
     "name": "stderr",
     "output_type": "stream",
     "text": [
      " 75%|██████████████████████████████████████████████████████████▍                   | 1132/1511 [06:03<02:30,  2.51it/s]"
     ]
    },
    {
     "name": "stdout",
     "output_type": "stream",
     "text": [
      "NUM TOKEN:  27\n",
      "NUM TOKEN:  28\n",
      "NUM TOKEN:  35\n"
     ]
    },
    {
     "name": "stderr",
     "output_type": "stream",
     "text": [
      " 75%|██████████████████████████████████████████████████████████▌                   | 1135/1511 [06:03<01:52,  3.33it/s]"
     ]
    },
    {
     "name": "stdout",
     "output_type": "stream",
     "text": [
      "NUM TOKEN:  13\n",
      "NUM TOKEN:  84\n"
     ]
    },
    {
     "name": "stderr",
     "output_type": "stream",
     "text": [
      " 75%|██████████████████████████████████████████████████████████▋                   | 1137/1511 [06:04<01:58,  3.15it/s]"
     ]
    },
    {
     "name": "stdout",
     "output_type": "stream",
     "text": [
      "NUM TOKEN:  103\n"
     ]
    },
    {
     "name": "stderr",
     "output_type": "stream",
     "text": [
      " 75%|██████████████████████████████████████████████████████████▋                   | 1138/1511 [06:04<02:11,  2.85it/s]"
     ]
    },
    {
     "name": "stdout",
     "output_type": "stream",
     "text": [
      "NUM TOKEN:  37\n"
     ]
    },
    {
     "name": "stderr",
     "output_type": "stream",
     "text": [
      " 75%|██████████████████████████████████████████████████████████▊                   | 1139/1511 [06:05<02:26,  2.54it/s]"
     ]
    },
    {
     "name": "stdout",
     "output_type": "stream",
     "text": [
      "NUM TOKEN:  44\n"
     ]
    },
    {
     "name": "stderr",
     "output_type": "stream",
     "text": [
      " 75%|██████████████████████████████████████████████████████████▊                   | 1140/1511 [06:05<02:44,  2.26it/s]"
     ]
    },
    {
     "name": "stdout",
     "output_type": "stream",
     "text": [
      "NUM TOKEN:  71\n"
     ]
    },
    {
     "name": "stderr",
     "output_type": "stream",
     "text": [
      " 76%|██████████████████████████████████████████████████████████▉                   | 1141/1511 [06:06<02:58,  2.07it/s]"
     ]
    },
    {
     "name": "stdout",
     "output_type": "stream",
     "text": [
      "NUM TOKEN:  19\n",
      "NUM TOKEN:  61\n"
     ]
    },
    {
     "name": "stderr",
     "output_type": "stream",
     "text": [
      " 76%|███████████████████████████████████████████████████████████                   | 1143/1511 [06:07<02:26,  2.52it/s]"
     ]
    },
    {
     "name": "stdout",
     "output_type": "stream",
     "text": [
      "NUM TOKEN:  37\n"
     ]
    },
    {
     "name": "stderr",
     "output_type": "stream",
     "text": [
      " 76%|███████████████████████████████████████████████████████████                   | 1144/1511 [06:07<02:37,  2.33it/s]"
     ]
    },
    {
     "name": "stdout",
     "output_type": "stream",
     "text": [
      "NUM TOKEN:  31\n"
     ]
    },
    {
     "name": "stderr",
     "output_type": "stream",
     "text": [
      " 76%|███████████████████████████████████████████████████████████                   | 1145/1511 [06:08<02:40,  2.28it/s]"
     ]
    },
    {
     "name": "stdout",
     "output_type": "stream",
     "text": [
      "NUM TOKEN:  31\n"
     ]
    },
    {
     "name": "stderr",
     "output_type": "stream",
     "text": [
      " 76%|███████████████████████████████████████████████████████████▏                  | 1146/1511 [06:08<02:29,  2.43it/s]"
     ]
    },
    {
     "name": "stdout",
     "output_type": "stream",
     "text": [
      "NUM TOKEN:  41\n"
     ]
    },
    {
     "name": "stderr",
     "output_type": "stream",
     "text": [
      " 76%|███████████████████████████████████████████████████████████▏                  | 1147/1511 [06:09<02:49,  2.15it/s]"
     ]
    },
    {
     "name": "stdout",
     "output_type": "stream",
     "text": [
      "NUM TOKEN:  11\n",
      "NUM TOKEN:  30\n",
      "NUM TOKEN:  40\n"
     ]
    },
    {
     "name": "stderr",
     "output_type": "stream",
     "text": [
      " 76%|███████████████████████████████████████████████████████████▎                  | 1150/1511 [06:09<01:54,  3.16it/s]"
     ]
    },
    {
     "name": "stdout",
     "output_type": "stream",
     "text": [
      "NUM TOKEN:  14\n",
      "NUM TOKEN:  139\n"
     ]
    },
    {
     "name": "stderr",
     "output_type": "stream",
     "text": [
      " 76%|███████████████████████████████████████████████████████████▍                  | 1152/1511 [06:10<01:56,  3.09it/s]"
     ]
    },
    {
     "name": "stdout",
     "output_type": "stream",
     "text": [
      "NUM TOKEN:  33\n"
     ]
    },
    {
     "name": "stderr",
     "output_type": "stream",
     "text": [
      " 76%|███████████████████████████████████████████████████████████▌                  | 1153/1511 [06:10<02:07,  2.81it/s]"
     ]
    },
    {
     "name": "stdout",
     "output_type": "stream",
     "text": [
      "NUM TOKEN:  9\n",
      "NUM TOKEN:  71\n"
     ]
    },
    {
     "name": "stderr",
     "output_type": "stream",
     "text": [
      " 76%|███████████████████████████████████████████████████████████▌                  | 1155/1511 [06:11<02:08,  2.76it/s]"
     ]
    },
    {
     "name": "stdout",
     "output_type": "stream",
     "text": [
      "NUM TOKEN:  60\n"
     ]
    },
    {
     "name": "stderr",
     "output_type": "stream",
     "text": [
      " 77%|███████████████████████████████████████████████████████████▋                  | 1156/1511 [06:12<02:16,  2.61it/s]"
     ]
    },
    {
     "name": "stdout",
     "output_type": "stream",
     "text": [
      "NUM TOKEN:  33\n"
     ]
    },
    {
     "name": "stderr",
     "output_type": "stream",
     "text": [
      " 77%|███████████████████████████████████████████████████████████▋                  | 1157/1511 [06:12<02:23,  2.47it/s]"
     ]
    },
    {
     "name": "stdout",
     "output_type": "stream",
     "text": [
      "NUM TOKEN:  31\n"
     ]
    },
    {
     "name": "stderr",
     "output_type": "stream",
     "text": [
      " 77%|███████████████████████████████████████████████████████████▊                  | 1158/1511 [06:12<02:27,  2.40it/s]"
     ]
    },
    {
     "name": "stdout",
     "output_type": "stream",
     "text": [
      "NUM TOKEN:  38\n"
     ]
    },
    {
     "name": "stderr",
     "output_type": "stream",
     "text": [
      " 77%|███████████████████████████████████████████████████████████▊                  | 1159/1511 [06:13<02:32,  2.31it/s]"
     ]
    },
    {
     "name": "stdout",
     "output_type": "stream",
     "text": [
      "NUM TOKEN:  9\n",
      "NUM TOKEN:  13\n",
      "NUM TOKEN:  57\n"
     ]
    },
    {
     "name": "stderr",
     "output_type": "stream",
     "text": [
      " 77%|███████████████████████████████████████████████████████████▉                  | 1162/1511 [06:13<01:37,  3.59it/s]"
     ]
    },
    {
     "name": "stdout",
     "output_type": "stream",
     "text": [
      "NUM TOKEN:  33\n"
     ]
    },
    {
     "name": "stderr",
     "output_type": "stream",
     "text": [
      " 77%|████████████████████████████████████████████████████████████                  | 1163/1511 [06:14<01:50,  3.16it/s]"
     ]
    },
    {
     "name": "stdout",
     "output_type": "stream",
     "text": [
      "NUM TOKEN:  35\n"
     ]
    },
    {
     "name": "stderr",
     "output_type": "stream",
     "text": [
      " 77%|████████████████████████████████████████████████████████████                  | 1164/1511 [06:14<02:01,  2.85it/s]"
     ]
    },
    {
     "name": "stdout",
     "output_type": "stream",
     "text": [
      "NUM TOKEN:  14\n",
      "NUM TOKEN:  79\n"
     ]
    },
    {
     "name": "stderr",
     "output_type": "stream",
     "text": [
      " 77%|████████████████████████████████████████████████████████████▏                 | 1166/1511 [06:15<02:02,  2.81it/s]"
     ]
    },
    {
     "name": "stdout",
     "output_type": "stream",
     "text": [
      "NUM TOKEN:  89\n"
     ]
    },
    {
     "name": "stderr",
     "output_type": "stream",
     "text": [
      " 77%|████████████████████████████████████████████████████████████▏                 | 1167/1511 [06:16<02:42,  2.12it/s]"
     ]
    },
    {
     "name": "stdout",
     "output_type": "stream",
     "text": [
      "NUM TOKEN:  46\n"
     ]
    },
    {
     "name": "stderr",
     "output_type": "stream",
     "text": [
      " 77%|████████████████████████████████████████████████████████████▎                 | 1168/1511 [06:17<02:59,  1.91it/s]"
     ]
    },
    {
     "name": "stdout",
     "output_type": "stream",
     "text": [
      "NUM TOKEN:  42\n"
     ]
    },
    {
     "name": "stderr",
     "output_type": "stream",
     "text": [
      " 77%|████████████████████████████████████████████████████████████▎                 | 1169/1511 [06:17<03:01,  1.89it/s]"
     ]
    },
    {
     "name": "stdout",
     "output_type": "stream",
     "text": [
      "NUM TOKEN:  69\n"
     ]
    },
    {
     "name": "stderr",
     "output_type": "stream",
     "text": [
      " 77%|████████████████████████████████████████████████████████████▍                 | 1170/1511 [06:18<03:12,  1.78it/s]"
     ]
    },
    {
     "name": "stdout",
     "output_type": "stream",
     "text": [
      "NUM TOKEN:  21\n",
      "NUM TOKEN:  11\n",
      "NUM TOKEN:  19\n",
      "NUM TOKEN:  20\n",
      "NUM TOKEN:  69\n"
     ]
    },
    {
     "name": "stderr",
     "output_type": "stream",
     "text": [
      " 78%|████████████████████████████████████████████████████████████▋                 | 1175/1511 [06:19<01:40,  3.33it/s]"
     ]
    },
    {
     "name": "stdout",
     "output_type": "stream",
     "text": [
      "NUM TOKEN:  42\n"
     ]
    },
    {
     "name": "stderr",
     "output_type": "stream",
     "text": [
      " 78%|████████████████████████████████████████████████████████████▋                 | 1176/1511 [06:19<01:41,  3.30it/s]"
     ]
    },
    {
     "name": "stdout",
     "output_type": "stream",
     "text": [
      "NUM TOKEN:  130\n"
     ]
    },
    {
     "name": "stderr",
     "output_type": "stream",
     "text": [
      " 78%|████████████████████████████████████████████████████████████▊                 | 1177/1511 [06:20<02:13,  2.50it/s]"
     ]
    },
    {
     "name": "stdout",
     "output_type": "stream",
     "text": [
      "NUM TOKEN:  59\n"
     ]
    },
    {
     "name": "stderr",
     "output_type": "stream",
     "text": [
      " 78%|████████████████████████████████████████████████████████████▊                 | 1178/1511 [06:21<02:40,  2.07it/s]"
     ]
    },
    {
     "name": "stdout",
     "output_type": "stream",
     "text": [
      "NUM TOKEN:  15\n",
      "NUM TOKEN:  46\n"
     ]
    },
    {
     "name": "stderr",
     "output_type": "stream",
     "text": [
      " 78%|████████████████████████████████████████████████████████████▉                 | 1180/1511 [06:21<02:19,  2.38it/s]"
     ]
    },
    {
     "name": "stdout",
     "output_type": "stream",
     "text": [
      "NUM TOKEN:  121\n"
     ]
    },
    {
     "name": "stderr",
     "output_type": "stream",
     "text": [
      " 78%|████████████████████████████████████████████████████████████▉                 | 1181/1511 [06:22<02:41,  2.04it/s]"
     ]
    },
    {
     "name": "stdout",
     "output_type": "stream",
     "text": [
      "NUM TOKEN:  15\n",
      "NUM TOKEN:  41\n"
     ]
    },
    {
     "name": "stderr",
     "output_type": "stream",
     "text": [
      " 78%|█████████████████████████████████████████████████████████████                 | 1183/1511 [06:23<02:17,  2.39it/s]"
     ]
    },
    {
     "name": "stdout",
     "output_type": "stream",
     "text": [
      "NUM TOKEN:  27\n",
      "NUM TOKEN:  24\n",
      "NUM TOKEN:  29\n",
      "NUM TOKEN:  33\n"
     ]
    },
    {
     "name": "stderr",
     "output_type": "stream",
     "text": [
      " 79%|█████████████████████████████████████████████████████████████▎                | 1187/1511 [06:23<01:20,  4.01it/s]"
     ]
    },
    {
     "name": "stdout",
     "output_type": "stream",
     "text": [
      "NUM TOKEN:  42\n"
     ]
    },
    {
     "name": "stderr",
     "output_type": "stream",
     "text": [
      " 79%|█████████████████████████████████████████████████████████████▎                | 1188/1511 [06:24<01:37,  3.30it/s]"
     ]
    },
    {
     "name": "stdout",
     "output_type": "stream",
     "text": [
      "NUM TOKEN:  16\n",
      "NUM TOKEN:  143\n"
     ]
    },
    {
     "name": "stderr",
     "output_type": "stream",
     "text": [
      " 79%|█████████████████████████████████████████████████████████████▍                | 1190/1511 [06:25<01:57,  2.74it/s]"
     ]
    },
    {
     "name": "stdout",
     "output_type": "stream",
     "text": [
      "NUM TOKEN:  14\n",
      "NUM TOKEN:  26\n",
      "NUM TOKEN:  26\n",
      "NUM TOKEN:  25\n",
      "NUM TOKEN:  34\n"
     ]
    },
    {
     "name": "stderr",
     "output_type": "stream",
     "text": [
      " 79%|█████████████████████████████████████████████████████████████▋                | 1195/1511 [06:25<01:12,  4.39it/s]"
     ]
    },
    {
     "name": "stdout",
     "output_type": "stream",
     "text": [
      "NUM TOKEN:  27\n",
      "NUM TOKEN:  8\n",
      "NUM TOKEN:  13\n",
      "NUM TOKEN:  49\n"
     ]
    },
    {
     "name": "stderr",
     "output_type": "stream",
     "text": [
      " 79%|█████████████████████████████████████████████████████████████▉                | 1199/1511 [06:26<01:05,  4.79it/s]"
     ]
    },
    {
     "name": "stdout",
     "output_type": "stream",
     "text": [
      "NUM TOKEN:  286\n"
     ]
    },
    {
     "name": "stderr",
     "output_type": "stream",
     "text": [
      " 79%|█████████████████████████████████████████████████████████████▉                | 1200/1511 [06:27<01:39,  3.11it/s]"
     ]
    },
    {
     "name": "stdout",
     "output_type": "stream",
     "text": [
      "NUM TOKEN:  35\n"
     ]
    },
    {
     "name": "stderr",
     "output_type": "stream",
     "text": [
      " 79%|█████████████████████████████████████████████████████████████▉                | 1201/1511 [06:27<01:45,  2.93it/s]"
     ]
    },
    {
     "name": "stdout",
     "output_type": "stream",
     "text": [
      "NUM TOKEN:  64\n"
     ]
    },
    {
     "name": "stderr",
     "output_type": "stream",
     "text": [
      " 80%|██████████████████████████████████████████████████████████████                | 1202/1511 [06:28<02:17,  2.25it/s]"
     ]
    },
    {
     "name": "stdout",
     "output_type": "stream",
     "text": [
      "NUM TOKEN:  21\n",
      "NUM TOKEN:  94\n"
     ]
    },
    {
     "name": "stderr",
     "output_type": "stream",
     "text": [
      " 80%|██████████████████████████████████████████████████████████████▏               | 1204/1511 [06:29<02:07,  2.41it/s]"
     ]
    },
    {
     "name": "stdout",
     "output_type": "stream",
     "text": [
      "NUM TOKEN:  22\n",
      "NUM TOKEN:  8\n",
      "NUM TOKEN:  29\n",
      "NUM TOKEN:  71\n"
     ]
    },
    {
     "name": "stderr",
     "output_type": "stream",
     "text": [
      " 80%|██████████████████████████████████████████████████████████████▎               | 1208/1511 [06:30<01:27,  3.46it/s]"
     ]
    },
    {
     "name": "stdout",
     "output_type": "stream",
     "text": [
      "NUM TOKEN:  12\n",
      "NUM TOKEN:  39\n"
     ]
    },
    {
     "name": "stderr",
     "output_type": "stream",
     "text": [
      " 80%|██████████████████████████████████████████████████████████████▍               | 1210/1511 [06:30<01:26,  3.48it/s]"
     ]
    },
    {
     "name": "stdout",
     "output_type": "stream",
     "text": [
      "NUM TOKEN:  30\n",
      "NUM TOKEN:  114\n"
     ]
    },
    {
     "name": "stderr",
     "output_type": "stream",
     "text": [
      " 80%|██████████████████████████████████████████████████████████████▌               | 1212/1511 [06:31<01:29,  3.35it/s]"
     ]
    },
    {
     "name": "stdout",
     "output_type": "stream",
     "text": [
      "NUM TOKEN:  57\n"
     ]
    },
    {
     "name": "stderr",
     "output_type": "stream",
     "text": [
      " 80%|██████████████████████████████████████████████████████████████▌               | 1213/1511 [06:31<01:36,  3.07it/s]"
     ]
    },
    {
     "name": "stdout",
     "output_type": "stream",
     "text": [
      "NUM TOKEN:  17\n",
      "NUM TOKEN:  83\n"
     ]
    },
    {
     "name": "stderr",
     "output_type": "stream",
     "text": [
      " 80%|██████████████████████████████████████████████████████████████▋               | 1215/1511 [06:32<01:51,  2.65it/s]"
     ]
    },
    {
     "name": "stdout",
     "output_type": "stream",
     "text": [
      "NUM TOKEN:  112\n"
     ]
    },
    {
     "name": "stderr",
     "output_type": "stream",
     "text": [
      " 80%|██████████████████████████████████████████████████████████████▊               | 1216/1511 [06:33<02:20,  2.10it/s]"
     ]
    },
    {
     "name": "stdout",
     "output_type": "stream",
     "text": [
      "NUM TOKEN:  32\n"
     ]
    },
    {
     "name": "stderr",
     "output_type": "stream",
     "text": [
      " 81%|██████████████████████████████████████████████████████████████▊               | 1217/1511 [06:34<02:20,  2.10it/s]"
     ]
    },
    {
     "name": "stdout",
     "output_type": "stream",
     "text": [
      "NUM TOKEN:  83\n"
     ]
    },
    {
     "name": "stderr",
     "output_type": "stream",
     "text": [
      " 81%|██████████████████████████████████████████████████████████████▊               | 1218/1511 [06:35<03:07,  1.56it/s]"
     ]
    },
    {
     "name": "stdout",
     "output_type": "stream",
     "text": [
      "NUM TOKEN:  21\n",
      "NUM TOKEN:  100\n"
     ]
    },
    {
     "name": "stderr",
     "output_type": "stream",
     "text": [
      " 81%|██████████████████████████████████████████████████████████████▉               | 1220/1511 [06:36<02:41,  1.80it/s]"
     ]
    },
    {
     "name": "stdout",
     "output_type": "stream",
     "text": [
      "NUM TOKEN:  15\n",
      "NUM TOKEN:  267\n"
     ]
    },
    {
     "name": "stderr",
     "output_type": "stream",
     "text": [
      " 81%|███████████████████████████████████████████████████████████████               | 1222/1511 [06:37<02:44,  1.76it/s]"
     ]
    },
    {
     "name": "stdout",
     "output_type": "stream",
     "text": [
      "NUM TOKEN:  16\n",
      "NUM TOKEN:  8\n",
      "NUM TOKEN:  29\n",
      "NUM TOKEN:  15\n",
      "NUM TOKEN:  21\n",
      "NUM TOKEN:  34\n"
     ]
    },
    {
     "name": "stderr",
     "output_type": "stream",
     "text": [
      " 81%|███████████████████████████████████████████████████████████████▍              | 1228/1511 [06:37<01:17,  3.67it/s]"
     ]
    },
    {
     "name": "stdout",
     "output_type": "stream",
     "text": [
      "NUM TOKEN:  25\n",
      "NUM TOKEN:  77\n"
     ]
    },
    {
     "name": "stderr",
     "output_type": "stream",
     "text": [
      " 81%|███████████████████████████████████████████████████████████████▍              | 1230/1511 [06:38<01:16,  3.69it/s]"
     ]
    },
    {
     "name": "stdout",
     "output_type": "stream",
     "text": [
      "NUM TOKEN:  18\n",
      "NUM TOKEN:  56\n"
     ]
    },
    {
     "name": "stderr",
     "output_type": "stream",
     "text": [
      " 82%|███████████████████████████████████████████████████████████████▌              | 1232/1511 [06:39<01:18,  3.55it/s]"
     ]
    },
    {
     "name": "stdout",
     "output_type": "stream",
     "text": [
      "NUM TOKEN:  12\n",
      "NUM TOKEN:  12\n",
      "NUM TOKEN:  28\n",
      "NUM TOKEN:  116\n"
     ]
    },
    {
     "name": "stderr",
     "output_type": "stream",
     "text": [
      " 82%|███████████████████████████████████████████████████████████████▊              | 1236/1511 [06:40<01:16,  3.59it/s]"
     ]
    },
    {
     "name": "stdout",
     "output_type": "stream",
     "text": [
      "NUM TOKEN:  55\n"
     ]
    },
    {
     "name": "stderr",
     "output_type": "stream",
     "text": [
      " 82%|███████████████████████████████████████████████████████████████▊              | 1237/1511 [06:41<01:36,  2.85it/s]"
     ]
    },
    {
     "name": "stdout",
     "output_type": "stream",
     "text": [
      "NUM TOKEN:  85\n"
     ]
    },
    {
     "name": "stderr",
     "output_type": "stream",
     "text": [
      " 82%|███████████████████████████████████████████████████████████████▉              | 1238/1511 [06:42<02:03,  2.22it/s]"
     ]
    },
    {
     "name": "stdout",
     "output_type": "stream",
     "text": [
      "NUM TOKEN:  15\n",
      "NUM TOKEN:  29\n",
      "NUM TOKEN:  110\n"
     ]
    },
    {
     "name": "stderr",
     "output_type": "stream",
     "text": [
      " 82%|████████████████████████████████████████████████████████████████              | 1241/1511 [06:43<01:51,  2.43it/s]"
     ]
    },
    {
     "name": "stdout",
     "output_type": "stream",
     "text": [
      "NUM TOKEN:  9\n",
      "NUM TOKEN:  68\n"
     ]
    },
    {
     "name": "stderr",
     "output_type": "stream",
     "text": [
      " 82%|████████████████████████████████████████████████████████████████▏             | 1243/1511 [06:44<01:54,  2.34it/s]"
     ]
    },
    {
     "name": "stdout",
     "output_type": "stream",
     "text": [
      "NUM TOKEN:  34\n"
     ]
    },
    {
     "name": "stderr",
     "output_type": "stream",
     "text": [
      " 82%|████████████████████████████████████████████████████████████████▏             | 1244/1511 [06:44<01:54,  2.34it/s]"
     ]
    },
    {
     "name": "stdout",
     "output_type": "stream",
     "text": [
      "NUM TOKEN:  80\n"
     ]
    },
    {
     "name": "stderr",
     "output_type": "stream",
     "text": [
      " 82%|████████████████████████████████████████████████████████████████▎             | 1245/1511 [06:45<02:19,  1.90it/s]"
     ]
    },
    {
     "name": "stdout",
     "output_type": "stream",
     "text": [
      "NUM TOKEN:  30\n",
      "NUM TOKEN:  11\n",
      "NUM TOKEN:  25\n",
      "NUM TOKEN:  28\n",
      "NUM TOKEN:  13\n",
      "NUM TOKEN:  186\n"
     ]
    },
    {
     "name": "stderr",
     "output_type": "stream",
     "text": [
      " 83%|████████████████████████████████████████████████████████████████▌             | 1251/1511 [06:46<01:15,  3.44it/s]"
     ]
    },
    {
     "name": "stdout",
     "output_type": "stream",
     "text": [
      "NUM TOKEN:  45\n"
     ]
    },
    {
     "name": "stderr",
     "output_type": "stream",
     "text": [
      " 83%|████████████████████████████████████████████████████████████████▋             | 1252/1511 [06:46<01:27,  2.96it/s]"
     ]
    },
    {
     "name": "stdout",
     "output_type": "stream",
     "text": [
      "NUM TOKEN:  42\n"
     ]
    },
    {
     "name": "stderr",
     "output_type": "stream",
     "text": [
      " 83%|████████████████████████████████████████████████████████████████▋             | 1253/1511 [06:47<01:37,  2.63it/s]"
     ]
    },
    {
     "name": "stdout",
     "output_type": "stream",
     "text": [
      "NUM TOKEN:  365\n"
     ]
    },
    {
     "name": "stderr",
     "output_type": "stream",
     "text": [
      " 83%|████████████████████████████████████████████████████████████████▋             | 1254/1511 [06:49<02:40,  1.60it/s]"
     ]
    },
    {
     "name": "stdout",
     "output_type": "stream",
     "text": [
      "NUM TOKEN:  46\n"
     ]
    },
    {
     "name": "stderr",
     "output_type": "stream",
     "text": [
      " 83%|████████████████████████████████████████████████████████████████▊             | 1255/1511 [06:49<02:31,  1.69it/s]"
     ]
    },
    {
     "name": "stdout",
     "output_type": "stream",
     "text": [
      "NUM TOKEN:  11\n",
      "NUM TOKEN:  10\n",
      "NUM TOKEN:  16\n",
      "NUM TOKEN:  44\n"
     ]
    },
    {
     "name": "stderr",
     "output_type": "stream",
     "text": [
      " 83%|████████████████████████████████████████████████████████████████▉             | 1259/1511 [06:50<01:30,  2.79it/s]"
     ]
    },
    {
     "name": "stdout",
     "output_type": "stream",
     "text": [
      "NUM TOKEN:  26\n",
      "NUM TOKEN:  41\n"
     ]
    },
    {
     "name": "stderr",
     "output_type": "stream",
     "text": [
      " 83%|█████████████████████████████████████████████████████████████████             | 1261/1511 [06:50<01:25,  2.92it/s]"
     ]
    },
    {
     "name": "stdout",
     "output_type": "stream",
     "text": [
      "NUM TOKEN:  27\n",
      "NUM TOKEN:  32\n"
     ]
    },
    {
     "name": "stderr",
     "output_type": "stream",
     "text": [
      " 84%|█████████████████████████████████████████████████████████████████▏            | 1263/1511 [06:51<01:16,  3.23it/s]"
     ]
    },
    {
     "name": "stdout",
     "output_type": "stream",
     "text": [
      "NUM TOKEN:  31\n"
     ]
    },
    {
     "name": "stderr",
     "output_type": "stream",
     "text": [
      " 84%|█████████████████████████████████████████████████████████████████▏            | 1264/1511 [06:51<01:22,  2.99it/s]"
     ]
    },
    {
     "name": "stdout",
     "output_type": "stream",
     "text": [
      "NUM TOKEN:  27\n",
      "NUM TOKEN:  44\n"
     ]
    },
    {
     "name": "stderr",
     "output_type": "stream",
     "text": [
      " 84%|█████████████████████████████████████████████████████████████████▎            | 1266/1511 [06:52<01:15,  3.26it/s]"
     ]
    },
    {
     "name": "stdout",
     "output_type": "stream",
     "text": [
      "NUM TOKEN:  45\n"
     ]
    },
    {
     "name": "stderr",
     "output_type": "stream",
     "text": [
      " 84%|█████████████████████████████████████████████████████████████████▍            | 1267/1511 [06:53<01:31,  2.68it/s]"
     ]
    },
    {
     "name": "stdout",
     "output_type": "stream",
     "text": [
      "NUM TOKEN:  50\n"
     ]
    },
    {
     "name": "stderr",
     "output_type": "stream",
     "text": [
      " 84%|█████████████████████████████████████████████████████████████████▍            | 1268/1511 [06:53<01:31,  2.65it/s]"
     ]
    },
    {
     "name": "stdout",
     "output_type": "stream",
     "text": [
      "NUM TOKEN:  73\n"
     ]
    },
    {
     "name": "stderr",
     "output_type": "stream",
     "text": [
      " 84%|█████████████████████████████████████████████████████████████████▌            | 1269/1511 [06:54<02:12,  1.83it/s]"
     ]
    },
    {
     "name": "stdout",
     "output_type": "stream",
     "text": [
      "NUM TOKEN:  45\n"
     ]
    },
    {
     "name": "stderr",
     "output_type": "stream",
     "text": [
      " 84%|█████████████████████████████████████████████████████████████████▌            | 1270/1511 [06:55<02:16,  1.77it/s]"
     ]
    },
    {
     "name": "stdout",
     "output_type": "stream",
     "text": [
      "NUM TOKEN:  8\n",
      "NUM TOKEN:  33\n"
     ]
    },
    {
     "name": "stderr",
     "output_type": "stream",
     "text": [
      " 84%|█████████████████████████████████████████████████████████████████▋            | 1272/1511 [06:55<01:43,  2.31it/s]"
     ]
    },
    {
     "name": "stdout",
     "output_type": "stream",
     "text": [
      "NUM TOKEN:  26\n",
      "NUM TOKEN:  31\n"
     ]
    },
    {
     "name": "stderr",
     "output_type": "stream",
     "text": [
      " 84%|█████████████████████████████████████████████████████████████████▊            | 1274/1511 [06:55<01:16,  3.09it/s]"
     ]
    },
    {
     "name": "stdout",
     "output_type": "stream",
     "text": [
      "NUM TOKEN:  38\n"
     ]
    },
    {
     "name": "stderr",
     "output_type": "stream",
     "text": [
      " 84%|█████████████████████████████████████████████████████████████████▊            | 1275/1511 [06:56<01:25,  2.77it/s]"
     ]
    },
    {
     "name": "stdout",
     "output_type": "stream",
     "text": [
      "NUM TOKEN:  67\n"
     ]
    },
    {
     "name": "stderr",
     "output_type": "stream",
     "text": [
      " 84%|█████████████████████████████████████████████████████████████████▊            | 1276/1511 [06:57<01:36,  2.44it/s]"
     ]
    },
    {
     "name": "stdout",
     "output_type": "stream",
     "text": [
      "NUM TOKEN:  46\n"
     ]
    },
    {
     "name": "stderr",
     "output_type": "stream",
     "text": [
      " 85%|█████████████████████████████████████████████████████████████████▉            | 1277/1511 [06:57<01:51,  2.11it/s]"
     ]
    },
    {
     "name": "stdout",
     "output_type": "stream",
     "text": [
      "NUM TOKEN:  10\n",
      "NUM TOKEN:  55\n"
     ]
    },
    {
     "name": "stderr",
     "output_type": "stream",
     "text": [
      " 85%|██████████████████████████████████████████████████████████████████            | 1279/1511 [06:58<01:40,  2.31it/s]"
     ]
    },
    {
     "name": "stdout",
     "output_type": "stream",
     "text": [
      "NUM TOKEN:  34\n"
     ]
    },
    {
     "name": "stderr",
     "output_type": "stream",
     "text": [
      " 85%|██████████████████████████████████████████████████████████████████            | 1280/1511 [06:58<01:42,  2.25it/s]"
     ]
    },
    {
     "name": "stdout",
     "output_type": "stream",
     "text": [
      "NUM TOKEN:  49\n"
     ]
    },
    {
     "name": "stderr",
     "output_type": "stream",
     "text": [
      " 85%|██████████████████████████████████████████████████████████████████▏           | 1281/1511 [06:59<01:55,  1.99it/s]"
     ]
    },
    {
     "name": "stdout",
     "output_type": "stream",
     "text": [
      "NUM TOKEN:  17\n",
      "NUM TOKEN:  77\n"
     ]
    },
    {
     "name": "stderr",
     "output_type": "stream",
     "text": [
      " 85%|██████████████████████████████████████████████████████████████████▏           | 1283/1511 [07:00<01:46,  2.14it/s]"
     ]
    },
    {
     "name": "stdout",
     "output_type": "stream",
     "text": [
      "NUM TOKEN:  10\n",
      "NUM TOKEN:  26\n",
      "NUM TOKEN:  55\n"
     ]
    },
    {
     "name": "stderr",
     "output_type": "stream",
     "text": [
      " 85%|██████████████████████████████████████████████████████████████████▍           | 1286/1511 [07:01<01:17,  2.92it/s]"
     ]
    },
    {
     "name": "stdout",
     "output_type": "stream",
     "text": [
      "NUM TOKEN:  45\n"
     ]
    },
    {
     "name": "stderr",
     "output_type": "stream",
     "text": [
      " 85%|██████████████████████████████████████████████████████████████████▍           | 1287/1511 [07:01<01:29,  2.49it/s]"
     ]
    },
    {
     "name": "stdout",
     "output_type": "stream",
     "text": [
      "NUM TOKEN:  27\n",
      "NUM TOKEN:  21\n",
      "NUM TOKEN:  20\n",
      "NUM TOKEN:  40\n"
     ]
    },
    {
     "name": "stderr",
     "output_type": "stream",
     "text": [
      " 85%|██████████████████████████████████████████████████████████████████▋           | 1291/1511 [07:02<01:01,  3.57it/s]"
     ]
    },
    {
     "name": "stdout",
     "output_type": "stream",
     "text": [
      "NUM TOKEN:  30\n",
      "NUM TOKEN:  73\n"
     ]
    },
    {
     "name": "stderr",
     "output_type": "stream",
     "text": [
      " 86%|██████████████████████████████████████████████████████████████████▋           | 1293/1511 [07:03<01:05,  3.31it/s]"
     ]
    },
    {
     "name": "stdout",
     "output_type": "stream",
     "text": [
      "NUM TOKEN:  15\n",
      "NUM TOKEN:  72\n"
     ]
    },
    {
     "name": "stderr",
     "output_type": "stream",
     "text": [
      " 86%|██████████████████████████████████████████████████████████████████▊           | 1295/1511 [07:04<01:20,  2.70it/s]"
     ]
    },
    {
     "name": "stdout",
     "output_type": "stream",
     "text": [
      "NUM TOKEN:  52\n"
     ]
    },
    {
     "name": "stderr",
     "output_type": "stream",
     "text": [
      " 86%|██████████████████████████████████████████████████████████████████▉           | 1296/1511 [07:04<01:29,  2.41it/s]"
     ]
    },
    {
     "name": "stdout",
     "output_type": "stream",
     "text": [
      "NUM TOKEN:  13\n",
      "NUM TOKEN:  51\n"
     ]
    },
    {
     "name": "stderr",
     "output_type": "stream",
     "text": [
      " 86%|███████████████████████████████████████████████████████████████████           | 1298/1511 [07:05<01:21,  2.63it/s]"
     ]
    },
    {
     "name": "stdout",
     "output_type": "stream",
     "text": [
      "NUM TOKEN:  32\n"
     ]
    },
    {
     "name": "stderr",
     "output_type": "stream",
     "text": [
      " 86%|███████████████████████████████████████████████████████████████████           | 1299/1511 [07:05<01:25,  2.47it/s]"
     ]
    },
    {
     "name": "stdout",
     "output_type": "stream",
     "text": [
      "NUM TOKEN:  143\n"
     ]
    },
    {
     "name": "stderr",
     "output_type": "stream",
     "text": [
      " 86%|███████████████████████████████████████████████████████████████████           | 1300/1511 [07:06<01:43,  2.04it/s]"
     ]
    },
    {
     "name": "stdout",
     "output_type": "stream",
     "text": [
      "NUM TOKEN:  64\n"
     ]
    },
    {
     "name": "stderr",
     "output_type": "stream",
     "text": [
      " 86%|███████████████████████████████████████████████████████████████████▏          | 1301/1511 [07:07<01:46,  1.97it/s]"
     ]
    },
    {
     "name": "stdout",
     "output_type": "stream",
     "text": [
      "NUM TOKEN:  14\n",
      "NUM TOKEN:  44\n"
     ]
    },
    {
     "name": "stderr",
     "output_type": "stream",
     "text": [
      " 86%|███████████████████████████████████████████████████████████████████▎          | 1303/1511 [07:07<01:31,  2.27it/s]"
     ]
    },
    {
     "name": "stdout",
     "output_type": "stream",
     "text": [
      "NUM TOKEN:  16\n",
      "NUM TOKEN:  70\n"
     ]
    },
    {
     "name": "stderr",
     "output_type": "stream",
     "text": [
      " 86%|███████████████████████████████████████████████████████████████████▎          | 1305/1511 [07:08<01:33,  2.20it/s]"
     ]
    },
    {
     "name": "stdout",
     "output_type": "stream",
     "text": [
      "NUM TOKEN:  38\n"
     ]
    },
    {
     "name": "stderr",
     "output_type": "stream",
     "text": [
      " 86%|███████████████████████████████████████████████████████████████████▍          | 1306/1511 [07:09<01:36,  2.12it/s]"
     ]
    },
    {
     "name": "stdout",
     "output_type": "stream",
     "text": [
      "NUM TOKEN:  12\n",
      "NUM TOKEN:  15\n",
      "NUM TOKEN:  20\n",
      "NUM TOKEN:  22\n",
      "NUM TOKEN:  38\n"
     ]
    },
    {
     "name": "stderr",
     "output_type": "stream",
     "text": [
      " 87%|███████████████████████████████████████████████████████████████████▋          | 1311/1511 [07:10<00:52,  3.84it/s]"
     ]
    },
    {
     "name": "stdout",
     "output_type": "stream",
     "text": [
      "NUM TOKEN:  215\n"
     ]
    },
    {
     "name": "stderr",
     "output_type": "stream",
     "text": [
      " 87%|███████████████████████████████████████████████████████████████████▋          | 1312/1511 [07:11<01:17,  2.56it/s]"
     ]
    },
    {
     "name": "stdout",
     "output_type": "stream",
     "text": [
      "NUM TOKEN:  30\n",
      "NUM TOKEN:  15\n",
      "NUM TOKEN:  88\n"
     ]
    },
    {
     "name": "stderr",
     "output_type": "stream",
     "text": [
      " 87%|███████████████████████████████████████████████████████████████████▉          | 1315/1511 [07:12<01:07,  2.90it/s]"
     ]
    },
    {
     "name": "stdout",
     "output_type": "stream",
     "text": [
      "NUM TOKEN:  58\n"
     ]
    },
    {
     "name": "stderr",
     "output_type": "stream",
     "text": [
      " 87%|███████████████████████████████████████████████████████████████████▉          | 1316/1511 [07:12<01:14,  2.62it/s]"
     ]
    },
    {
     "name": "stdout",
     "output_type": "stream",
     "text": [
      "NUM TOKEN:  37\n"
     ]
    },
    {
     "name": "stderr",
     "output_type": "stream",
     "text": [
      " 87%|███████████████████████████████████████████████████████████████████▉          | 1317/1511 [07:13<01:19,  2.44it/s]"
     ]
    },
    {
     "name": "stdout",
     "output_type": "stream",
     "text": [
      "NUM TOKEN:  68\n"
     ]
    },
    {
     "name": "stderr",
     "output_type": "stream",
     "text": [
      " 87%|████████████████████████████████████████████████████████████████████          | 1318/1511 [07:13<01:24,  2.28it/s]"
     ]
    },
    {
     "name": "stdout",
     "output_type": "stream",
     "text": [
      "NUM TOKEN:  57\n"
     ]
    },
    {
     "name": "stderr",
     "output_type": "stream",
     "text": [
      " 87%|████████████████████████████████████████████████████████████████████          | 1319/1511 [07:14<01:40,  1.90it/s]"
     ]
    },
    {
     "name": "stdout",
     "output_type": "stream",
     "text": [
      "NUM TOKEN:  24\n",
      "NUM TOKEN:  44\n"
     ]
    },
    {
     "name": "stderr",
     "output_type": "stream",
     "text": [
      " 87%|████████████████████████████████████████████████████████████████████▏         | 1321/1511 [07:15<01:19,  2.38it/s]"
     ]
    },
    {
     "name": "stdout",
     "output_type": "stream",
     "text": [
      "NUM TOKEN:  90\n"
     ]
    },
    {
     "name": "stderr",
     "output_type": "stream",
     "text": [
      " 87%|████████████████████████████████████████████████████████████████████▏         | 1322/1511 [07:16<01:52,  1.68it/s]"
     ]
    },
    {
     "name": "stdout",
     "output_type": "stream",
     "text": [
      "NUM TOKEN:  10\n",
      "NUM TOKEN:  156\n"
     ]
    },
    {
     "name": "stderr",
     "output_type": "stream",
     "text": [
      " 88%|████████████████████████████████████████████████████████████████████▎         | 1324/1511 [07:17<01:41,  1.84it/s]"
     ]
    },
    {
     "name": "stdout",
     "output_type": "stream",
     "text": [
      "NUM TOKEN:  24\n",
      "NUM TOKEN:  14\n",
      "NUM TOKEN:  37\n"
     ]
    },
    {
     "name": "stderr",
     "output_type": "stream",
     "text": [
      " 88%|████████████████████████████████████████████████████████████████████▌         | 1327/1511 [07:17<01:09,  2.63it/s]"
     ]
    },
    {
     "name": "stdout",
     "output_type": "stream",
     "text": [
      "NUM TOKEN:  33\n"
     ]
    },
    {
     "name": "stderr",
     "output_type": "stream",
     "text": [
      " 88%|████████████████████████████████████████████████████████████████████▌         | 1328/1511 [07:18<01:12,  2.52it/s]"
     ]
    },
    {
     "name": "stdout",
     "output_type": "stream",
     "text": [
      "NUM TOKEN:  16\n",
      "NUM TOKEN:  66\n"
     ]
    },
    {
     "name": "stderr",
     "output_type": "stream",
     "text": [
      " 88%|████████████████████████████████████████████████████████████████████▋         | 1330/1511 [07:18<01:02,  2.87it/s]"
     ]
    },
    {
     "name": "stdout",
     "output_type": "stream",
     "text": [
      "NUM TOKEN:  30\n",
      "NUM TOKEN:  1\n",
      "NUM TOKEN:  14\n",
      "NUM TOKEN:  12\n",
      "NUM TOKEN:  13\n",
      "NUM TOKEN:  109\n"
     ]
    },
    {
     "name": "stderr",
     "output_type": "stream",
     "text": [
      " 88%|████████████████████████████████████████████████████████████████████▉         | 1336/1511 [07:19<00:37,  4.66it/s]"
     ]
    },
    {
     "name": "stdout",
     "output_type": "stream",
     "text": [
      "NUM TOKEN:  80\n"
     ]
    },
    {
     "name": "stderr",
     "output_type": "stream",
     "text": [
      " 88%|█████████████████████████████████████████████████████████████████████         | 1337/1511 [07:20<00:47,  3.69it/s]"
     ]
    },
    {
     "name": "stdout",
     "output_type": "stream",
     "text": [
      "NUM TOKEN:  45\n"
     ]
    },
    {
     "name": "stderr",
     "output_type": "stream",
     "text": [
      " 89%|█████████████████████████████████████████████████████████████████████         | 1338/1511 [07:20<00:55,  3.12it/s]"
     ]
    },
    {
     "name": "stdout",
     "output_type": "stream",
     "text": [
      "NUM TOKEN:  11\n",
      "NUM TOKEN:  42\n"
     ]
    },
    {
     "name": "stderr",
     "output_type": "stream",
     "text": [
      " 89%|█████████████████████████████████████████████████████████████████████▏        | 1340/1511 [07:21<00:52,  3.24it/s]"
     ]
    },
    {
     "name": "stdout",
     "output_type": "stream",
     "text": [
      "NUM TOKEN:  9\n",
      "NUM TOKEN:  22\n",
      "NUM TOKEN:  64\n"
     ]
    },
    {
     "name": "stderr",
     "output_type": "stream",
     "text": [
      " 89%|█████████████████████████████████████████████████████████████████████▎        | 1343/1511 [07:22<00:52,  3.20it/s]"
     ]
    },
    {
     "name": "stdout",
     "output_type": "stream",
     "text": [
      "NUM TOKEN:  21\n",
      "NUM TOKEN:  26\n",
      "NUM TOKEN:  32\n"
     ]
    },
    {
     "name": "stderr",
     "output_type": "stream",
     "text": [
      " 89%|█████████████████████████████████████████████████████████████████████▍        | 1346/1511 [07:22<00:42,  3.89it/s]"
     ]
    },
    {
     "name": "stdout",
     "output_type": "stream",
     "text": [
      "NUM TOKEN:  24\n",
      "NUM TOKEN:  83\n"
     ]
    },
    {
     "name": "stderr",
     "output_type": "stream",
     "text": [
      " 89%|█████████████████████████████████████████████████████████████████████▌        | 1348/1511 [07:23<00:50,  3.20it/s]"
     ]
    },
    {
     "name": "stdout",
     "output_type": "stream",
     "text": [
      "NUM TOKEN:  119\n"
     ]
    },
    {
     "name": "stderr",
     "output_type": "stream",
     "text": [
      " 89%|█████████████████████████████████████████████████████████████████████▋        | 1349/1511 [07:24<01:08,  2.35it/s]"
     ]
    },
    {
     "name": "stdout",
     "output_type": "stream",
     "text": [
      "NUM TOKEN:  113\n"
     ]
    },
    {
     "name": "stderr",
     "output_type": "stream",
     "text": [
      " 89%|█████████████████████████████████████████████████████████████████████▋        | 1350/1511 [07:25<01:27,  1.83it/s]"
     ]
    },
    {
     "name": "stdout",
     "output_type": "stream",
     "text": [
      "NUM TOKEN:  55\n"
     ]
    },
    {
     "name": "stderr",
     "output_type": "stream",
     "text": [
      " 89%|█████████████████████████████████████████████████████████████████████▋        | 1351/1511 [07:26<01:26,  1.85it/s]"
     ]
    },
    {
     "name": "stdout",
     "output_type": "stream",
     "text": [
      "NUM TOKEN:  74\n"
     ]
    },
    {
     "name": "stderr",
     "output_type": "stream",
     "text": [
      " 89%|█████████████████████████████████████████████████████████████████████▊        | 1352/1511 [07:26<01:26,  1.84it/s]"
     ]
    },
    {
     "name": "stdout",
     "output_type": "stream",
     "text": [
      "NUM TOKEN:  15\n",
      "NUM TOKEN:  15\n",
      "NUM TOKEN:  14\n",
      "NUM TOKEN:  18\n",
      "NUM TOKEN:  3\n",
      "NUM TOKEN:  71\n"
     ]
    },
    {
     "name": "stderr",
     "output_type": "stream",
     "text": [
      " 90%|██████████████████████████████████████████████████████████████████████        | 1358/1511 [07:27<00:41,  3.70it/s]"
     ]
    },
    {
     "name": "stdout",
     "output_type": "stream",
     "text": [
      "NUM TOKEN:  17\n",
      "NUM TOKEN:  29\n",
      "NUM TOKEN:  52\n"
     ]
    },
    {
     "name": "stderr",
     "output_type": "stream",
     "text": [
      " 90%|██████████████████████████████████████████████████████████████████████▎       | 1361/1511 [07:28<00:38,  3.94it/s]"
     ]
    },
    {
     "name": "stdout",
     "output_type": "stream",
     "text": [
      "NUM TOKEN:  26\n",
      "NUM TOKEN:  24\n",
      "NUM TOKEN:  39\n"
     ]
    },
    {
     "name": "stderr",
     "output_type": "stream",
     "text": [
      " 90%|██████████████████████████████████████████████████████████████████████▍       | 1364/1511 [07:28<00:33,  4.33it/s]"
     ]
    },
    {
     "name": "stdout",
     "output_type": "stream",
     "text": [
      "NUM TOKEN:  42\n"
     ]
    },
    {
     "name": "stderr",
     "output_type": "stream",
     "text": [
      " 90%|██████████████████████████████████████████████████████████████████████▍       | 1365/1511 [07:29<00:39,  3.67it/s]"
     ]
    },
    {
     "name": "stdout",
     "output_type": "stream",
     "text": [
      "NUM TOKEN:  47\n"
     ]
    },
    {
     "name": "stderr",
     "output_type": "stream",
     "text": [
      " 90%|██████████████████████████████████████████████████████████████████████▌       | 1366/1511 [07:30<00:49,  2.96it/s]"
     ]
    },
    {
     "name": "stdout",
     "output_type": "stream",
     "text": [
      "NUM TOKEN:  8\n",
      "NUM TOKEN:  66\n"
     ]
    },
    {
     "name": "stderr",
     "output_type": "stream",
     "text": [
      " 91%|██████████████████████████████████████████████████████████████████████▌       | 1368/1511 [07:30<00:53,  2.69it/s]"
     ]
    },
    {
     "name": "stdout",
     "output_type": "stream",
     "text": [
      "NUM TOKEN:  37\n"
     ]
    },
    {
     "name": "stderr",
     "output_type": "stream",
     "text": [
      " 91%|██████████████████████████████████████████████████████████████████████▋       | 1369/1511 [07:31<00:56,  2.50it/s]"
     ]
    },
    {
     "name": "stdout",
     "output_type": "stream",
     "text": [
      "NUM TOKEN:  8\n",
      "NUM TOKEN:  75\n"
     ]
    },
    {
     "name": "stderr",
     "output_type": "stream",
     "text": [
      " 91%|██████████████████████████████████████████████████████████████████████▊       | 1371/1511 [07:32<00:56,  2.49it/s]"
     ]
    },
    {
     "name": "stdout",
     "output_type": "stream",
     "text": [
      "NUM TOKEN:  91\n"
     ]
    },
    {
     "name": "stderr",
     "output_type": "stream",
     "text": [
      " 91%|██████████████████████████████████████████████████████████████████████▊       | 1372/1511 [07:33<01:07,  2.07it/s]"
     ]
    },
    {
     "name": "stdout",
     "output_type": "stream",
     "text": [
      "NUM TOKEN:  50\n"
     ]
    },
    {
     "name": "stderr",
     "output_type": "stream",
     "text": [
      " 91%|██████████████████████████████████████████████████████████████████████▉       | 1373/1511 [07:33<01:15,  1.84it/s]"
     ]
    },
    {
     "name": "stdout",
     "output_type": "stream",
     "text": [
      "NUM TOKEN:  19\n",
      "NUM TOKEN:  48\n"
     ]
    },
    {
     "name": "stderr",
     "output_type": "stream",
     "text": [
      " 91%|██████████████████████████████████████████████████████████████████████▉       | 1375/1511 [07:34<01:04,  2.12it/s]"
     ]
    },
    {
     "name": "stdout",
     "output_type": "stream",
     "text": [
      "NUM TOKEN:  160\n"
     ]
    },
    {
     "name": "stderr",
     "output_type": "stream",
     "text": [
      " 91%|███████████████████████████████████████████████████████████████████████       | 1376/1511 [07:35<01:14,  1.80it/s]"
     ]
    },
    {
     "name": "stdout",
     "output_type": "stream",
     "text": [
      "NUM TOKEN:  49\n"
     ]
    },
    {
     "name": "stderr",
     "output_type": "stream",
     "text": [
      " 91%|███████████████████████████████████████████████████████████████████████       | 1377/1511 [07:35<01:11,  1.87it/s]"
     ]
    },
    {
     "name": "stdout",
     "output_type": "stream",
     "text": [
      "NUM TOKEN:  76\n"
     ]
    },
    {
     "name": "stderr",
     "output_type": "stream",
     "text": [
      " 91%|███████████████████████████████████████████████████████████████████████▏      | 1378/1511 [07:36<01:10,  1.89it/s]"
     ]
    },
    {
     "name": "stdout",
     "output_type": "stream",
     "text": [
      "NUM TOKEN:  12\n",
      "NUM TOKEN:  24\n",
      "NUM TOKEN:  80\n"
     ]
    },
    {
     "name": "stderr",
     "output_type": "stream",
     "text": [
      " 91%|███████████████████████████████████████████████████████████████████████▎      | 1381/1511 [07:37<00:46,  2.81it/s]"
     ]
    },
    {
     "name": "stdout",
     "output_type": "stream",
     "text": [
      "NUM TOKEN:  68\n"
     ]
    },
    {
     "name": "stderr",
     "output_type": "stream",
     "text": [
      " 91%|███████████████████████████████████████████████████████████████████████▎      | 1382/1511 [07:37<00:57,  2.25it/s]"
     ]
    },
    {
     "name": "stdout",
     "output_type": "stream",
     "text": [
      "NUM TOKEN:  83\n"
     ]
    },
    {
     "name": "stderr",
     "output_type": "stream",
     "text": [
      " 92%|███████████████████████████████████████████████████████████████████████▍      | 1383/1511 [07:38<01:04,  1.98it/s]"
     ]
    },
    {
     "name": "stdout",
     "output_type": "stream",
     "text": [
      "NUM TOKEN:  34\n"
     ]
    },
    {
     "name": "stderr",
     "output_type": "stream",
     "text": [
      " 92%|███████████████████████████████████████████████████████████████████████▍      | 1384/1511 [07:39<01:03,  1.99it/s]"
     ]
    },
    {
     "name": "stdout",
     "output_type": "stream",
     "text": [
      "NUM TOKEN:  100\n"
     ]
    },
    {
     "name": "stderr",
     "output_type": "stream",
     "text": [
      " 92%|███████████████████████████████████████████████████████████████████████▍      | 1385/1511 [07:39<01:14,  1.69it/s]"
     ]
    },
    {
     "name": "stdout",
     "output_type": "stream",
     "text": [
      "NUM TOKEN:  19\n",
      "NUM TOKEN:  47\n"
     ]
    },
    {
     "name": "stderr",
     "output_type": "stream",
     "text": [
      " 92%|███████████████████████████████████████████████████████████████████████▌      | 1387/1511 [07:40<01:01,  2.03it/s]"
     ]
    },
    {
     "name": "stdout",
     "output_type": "stream",
     "text": [
      "NUM TOKEN:  65\n"
     ]
    },
    {
     "name": "stderr",
     "output_type": "stream",
     "text": [
      " 92%|███████████████████████████████████████████████████████████████████████▋      | 1388/1511 [07:41<01:03,  1.93it/s]"
     ]
    },
    {
     "name": "stdout",
     "output_type": "stream",
     "text": [
      "NUM TOKEN:  26\n",
      "NUM TOKEN:  49\n"
     ]
    },
    {
     "name": "stderr",
     "output_type": "stream",
     "text": [
      " 92%|███████████████████████████████████████████████████████████████████████▊      | 1390/1511 [07:41<00:55,  2.17it/s]"
     ]
    },
    {
     "name": "stdout",
     "output_type": "stream",
     "text": [
      "NUM TOKEN:  34\n"
     ]
    },
    {
     "name": "stderr",
     "output_type": "stream",
     "text": [
      " 92%|███████████████████████████████████████████████████████████████████████▊      | 1391/1511 [07:42<00:55,  2.15it/s]"
     ]
    },
    {
     "name": "stdout",
     "output_type": "stream",
     "text": [
      "NUM TOKEN:  46\n"
     ]
    },
    {
     "name": "stderr",
     "output_type": "stream",
     "text": [
      " 92%|███████████████████████████████████████████████████████████████████████▊      | 1392/1511 [07:43<01:01,  1.92it/s]"
     ]
    },
    {
     "name": "stdout",
     "output_type": "stream",
     "text": [
      "NUM TOKEN:  1\n",
      "NUM TOKEN:  30\n",
      "NUM TOKEN:  68\n"
     ]
    },
    {
     "name": "stderr",
     "output_type": "stream",
     "text": [
      " 92%|████████████████████████████████████████████████████████████████████████      | 1395/1511 [07:43<00:38,  3.02it/s]"
     ]
    },
    {
     "name": "stdout",
     "output_type": "stream",
     "text": [
      "NUM TOKEN:  118\n"
     ]
    },
    {
     "name": "stderr",
     "output_type": "stream",
     "text": [
      " 92%|████████████████████████████████████████████████████████████████████████      | 1396/1511 [07:44<00:48,  2.37it/s]"
     ]
    },
    {
     "name": "stdout",
     "output_type": "stream",
     "text": [
      "NUM TOKEN:  41\n"
     ]
    },
    {
     "name": "stderr",
     "output_type": "stream",
     "text": [
      " 92%|████████████████████████████████████████████████████████████████████████      | 1397/1511 [07:44<00:52,  2.17it/s]"
     ]
    },
    {
     "name": "stdout",
     "output_type": "stream",
     "text": [
      "NUM TOKEN:  30\n",
      "NUM TOKEN:  17\n",
      "NUM TOKEN:  38\n"
     ]
    },
    {
     "name": "stderr",
     "output_type": "stream",
     "text": [
      " 93%|████████████████████████████████████████████████████████████████████████▎     | 1400/1511 [07:45<00:35,  3.12it/s]"
     ]
    },
    {
     "name": "stdout",
     "output_type": "stream",
     "text": [
      "NUM TOKEN:  41\n"
     ]
    },
    {
     "name": "stderr",
     "output_type": "stream",
     "text": [
      " 93%|████████████████████████████████████████████████████████████████████████▎     | 1401/1511 [07:45<00:38,  2.85it/s]"
     ]
    },
    {
     "name": "stdout",
     "output_type": "stream",
     "text": [
      "NUM TOKEN:  17\n",
      "NUM TOKEN:  8\n",
      "NUM TOKEN:  53\n"
     ]
    },
    {
     "name": "stderr",
     "output_type": "stream",
     "text": [
      " 93%|████████████████████████████████████████████████████████████████████████▍     | 1404/1511 [07:46<00:31,  3.43it/s]"
     ]
    },
    {
     "name": "stdout",
     "output_type": "stream",
     "text": [
      "NUM TOKEN:  46\n"
     ]
    },
    {
     "name": "stderr",
     "output_type": "stream",
     "text": [
      " 93%|████████████████████████████████████████████████████████████████████████▌     | 1405/1511 [07:47<00:38,  2.75it/s]"
     ]
    },
    {
     "name": "stdout",
     "output_type": "stream",
     "text": [
      "NUM TOKEN:  109\n"
     ]
    },
    {
     "name": "stderr",
     "output_type": "stream",
     "text": [
      " 93%|████████████████████████████████████████████████████████████████████████▌     | 1406/1511 [07:48<00:46,  2.27it/s]"
     ]
    },
    {
     "name": "stdout",
     "output_type": "stream",
     "text": [
      "NUM TOKEN:  17\n",
      "NUM TOKEN:  37\n"
     ]
    },
    {
     "name": "stderr",
     "output_type": "stream",
     "text": [
      " 93%|████████████████████████████████████████████████████████████████████████▋     | 1408/1511 [07:48<00:37,  2.73it/s]"
     ]
    },
    {
     "name": "stdout",
     "output_type": "stream",
     "text": [
      "NUM TOKEN:  12\n",
      "NUM TOKEN:  94\n"
     ]
    },
    {
     "name": "stderr",
     "output_type": "stream",
     "text": [
      " 93%|████████████████████████████████████████████████████████████████████████▊     | 1410/1511 [07:49<00:34,  2.95it/s]"
     ]
    },
    {
     "name": "stdout",
     "output_type": "stream",
     "text": [
      "NUM TOKEN:  27\n",
      "NUM TOKEN:  74\n"
     ]
    },
    {
     "name": "stderr",
     "output_type": "stream",
     "text": [
      " 93%|████████████████████████████████████████████████████████████████████████▉     | 1412/1511 [07:50<00:36,  2.69it/s]"
     ]
    },
    {
     "name": "stdout",
     "output_type": "stream",
     "text": [
      "NUM TOKEN:  2\n",
      "NUM TOKEN:  54\n"
     ]
    },
    {
     "name": "stderr",
     "output_type": "stream",
     "text": [
      " 94%|████████████████████████████████████████████████████████████████████████▉     | 1414/1511 [07:50<00:31,  3.05it/s]"
     ]
    },
    {
     "name": "stdout",
     "output_type": "stream",
     "text": [
      "NUM TOKEN:  20\n",
      "NUM TOKEN:  24\n",
      "NUM TOKEN:  19\n",
      "NUM TOKEN:  79\n"
     ]
    },
    {
     "name": "stderr",
     "output_type": "stream",
     "text": [
      " 94%|█████████████████████████████████████████████████████████████████████████▏    | 1418/1511 [07:51<00:25,  3.66it/s]"
     ]
    },
    {
     "name": "stdout",
     "output_type": "stream",
     "text": [
      "NUM TOKEN:  14\n",
      "NUM TOKEN:  40\n"
     ]
    },
    {
     "name": "stderr",
     "output_type": "stream",
     "text": [
      " 94%|█████████████████████████████████████████████████████████████████████████▎    | 1420/1511 [07:51<00:25,  3.54it/s]"
     ]
    },
    {
     "name": "stdout",
     "output_type": "stream",
     "text": [
      "NUM TOKEN:  30\n",
      "NUM TOKEN:  36\n"
     ]
    },
    {
     "name": "stderr",
     "output_type": "stream",
     "text": [
      " 94%|█████████████████████████████████████████████████████████████████████████▍    | 1422/1511 [07:52<00:24,  3.58it/s]"
     ]
    },
    {
     "name": "stdout",
     "output_type": "stream",
     "text": [
      "NUM TOKEN:  12\n",
      "NUM TOKEN:  35\n"
     ]
    },
    {
     "name": "stderr",
     "output_type": "stream",
     "text": [
      " 94%|█████████████████████████████████████████████████████████████████████████▌    | 1424/1511 [07:52<00:22,  3.82it/s]"
     ]
    },
    {
     "name": "stdout",
     "output_type": "stream",
     "text": [
      "NUM TOKEN:  11\n",
      "NUM TOKEN:  54\n"
     ]
    },
    {
     "name": "stderr",
     "output_type": "stream",
     "text": [
      " 94%|█████████████████████████████████████████████████████████████████████████▌    | 1426/1511 [07:53<00:21,  3.90it/s]"
     ]
    },
    {
     "name": "stdout",
     "output_type": "stream",
     "text": [
      "NUM TOKEN:  31\n"
     ]
    },
    {
     "name": "stderr",
     "output_type": "stream",
     "text": [
      " 94%|█████████████████████████████████████████████████████████████████████████▋    | 1427/1511 [07:53<00:22,  3.66it/s]"
     ]
    },
    {
     "name": "stdout",
     "output_type": "stream",
     "text": [
      "NUM TOKEN:  19\n",
      "NUM TOKEN:  18\n",
      "NUM TOKEN:  26\n",
      "NUM TOKEN:  94\n"
     ]
    },
    {
     "name": "stderr",
     "output_type": "stream",
     "text": [
      " 95%|█████████████████████████████████████████████████████████████████████████▊    | 1431/1511 [07:54<00:19,  4.08it/s]"
     ]
    },
    {
     "name": "stdout",
     "output_type": "stream",
     "text": [
      "NUM TOKEN:  19\n",
      "NUM TOKEN:  66\n"
     ]
    },
    {
     "name": "stderr",
     "output_type": "stream",
     "text": [
      " 95%|█████████████████████████████████████████████████████████████████████████▉    | 1433/1511 [07:55<00:21,  3.62it/s]"
     ]
    },
    {
     "name": "stdout",
     "output_type": "stream",
     "text": [
      "NUM TOKEN:  473\n"
     ]
    },
    {
     "name": "stderr",
     "output_type": "stream",
     "text": [
      " 95%|██████████████████████████████████████████████████████████████████████████    | 1434/1511 [07:57<00:45,  1.69it/s]"
     ]
    },
    {
     "name": "stdout",
     "output_type": "stream",
     "text": [
      "NUM TOKEN:  177\n"
     ]
    },
    {
     "name": "stderr",
     "output_type": "stream",
     "text": [
      " 95%|██████████████████████████████████████████████████████████████████████████    | 1435/1511 [07:58<00:51,  1.47it/s]"
     ]
    },
    {
     "name": "stdout",
     "output_type": "stream",
     "text": [
      "NUM TOKEN:  51\n"
     ]
    },
    {
     "name": "stderr",
     "output_type": "stream",
     "text": [
      " 95%|██████████████████████████████████████████████████████████████████████████▏   | 1436/1511 [07:59<00:52,  1.43it/s]"
     ]
    },
    {
     "name": "stdout",
     "output_type": "stream",
     "text": [
      "NUM TOKEN:  14\n",
      "NUM TOKEN:  25\n",
      "NUM TOKEN:  26\n",
      "NUM TOKEN:  62\n"
     ]
    },
    {
     "name": "stderr",
     "output_type": "stream",
     "text": [
      " 95%|██████████████████████████████████████████████████████████████████████████▎   | 1440/1511 [08:00<00:29,  2.40it/s]"
     ]
    },
    {
     "name": "stdout",
     "output_type": "stream",
     "text": [
      "NUM TOKEN:  50\n"
     ]
    },
    {
     "name": "stderr",
     "output_type": "stream",
     "text": [
      " 95%|██████████████████████████████████████████████████████████████████████████▍   | 1441/1511 [08:00<00:32,  2.14it/s]"
     ]
    },
    {
     "name": "stdout",
     "output_type": "stream",
     "text": [
      "NUM TOKEN:  16\n",
      "NUM TOKEN:  25\n",
      "NUM TOKEN:  64\n"
     ]
    },
    {
     "name": "stderr",
     "output_type": "stream",
     "text": [
      " 96%|██████████████████████████████████████████████████████████████████████████▌   | 1444/1511 [08:01<00:23,  2.80it/s]"
     ]
    },
    {
     "name": "stdout",
     "output_type": "stream",
     "text": [
      "NUM TOKEN:  17\n",
      "NUM TOKEN:  80\n"
     ]
    },
    {
     "name": "stderr",
     "output_type": "stream",
     "text": [
      " 96%|██████████████████████████████████████████████████████████████████████████▋   | 1446/1511 [08:02<00:23,  2.71it/s]"
     ]
    },
    {
     "name": "stdout",
     "output_type": "stream",
     "text": [
      "NUM TOKEN:  12\n",
      "NUM TOKEN:  52\n"
     ]
    },
    {
     "name": "stderr",
     "output_type": "stream",
     "text": [
      " 96%|██████████████████████████████████████████████████████████████████████████▋   | 1448/1511 [08:02<00:22,  2.85it/s]"
     ]
    },
    {
     "name": "stdout",
     "output_type": "stream",
     "text": [
      "NUM TOKEN:  42\n"
     ]
    },
    {
     "name": "stderr",
     "output_type": "stream",
     "text": [
      " 96%|██████████████████████████████████████████████████████████████████████████▊   | 1449/1511 [08:03<00:24,  2.52it/s]"
     ]
    },
    {
     "name": "stdout",
     "output_type": "stream",
     "text": [
      "NUM TOKEN:  35\n"
     ]
    },
    {
     "name": "stderr",
     "output_type": "stream",
     "text": [
      " 96%|██████████████████████████████████████████████████████████████████████████▊   | 1450/1511 [08:04<00:24,  2.44it/s]"
     ]
    },
    {
     "name": "stdout",
     "output_type": "stream",
     "text": [
      "NUM TOKEN:  14\n",
      "NUM TOKEN:  31\n"
     ]
    },
    {
     "name": "stderr",
     "output_type": "stream",
     "text": [
      " 96%|██████████████████████████████████████████████████████████████████████████▉   | 1452/1511 [08:04<00:19,  2.95it/s]"
     ]
    },
    {
     "name": "stdout",
     "output_type": "stream",
     "text": [
      "NUM TOKEN:  31\n"
     ]
    },
    {
     "name": "stderr",
     "output_type": "stream",
     "text": [
      " 96%|███████████████████████████████████████████████████████████████████████████   | 1453/1511 [08:04<00:20,  2.77it/s]"
     ]
    },
    {
     "name": "stdout",
     "output_type": "stream",
     "text": [
      "NUM TOKEN:  11\n",
      "NUM TOKEN:  50\n"
     ]
    },
    {
     "name": "stderr",
     "output_type": "stream",
     "text": [
      " 96%|███████████████████████████████████████████████████████████████████████████   | 1455/1511 [08:05<00:18,  3.07it/s]"
     ]
    },
    {
     "name": "stdout",
     "output_type": "stream",
     "text": [
      "NUM TOKEN:  41\n"
     ]
    },
    {
     "name": "stderr",
     "output_type": "stream",
     "text": [
      " 96%|███████████████████████████████████████████████████████████████████████████▏  | 1456/1511 [08:06<00:21,  2.57it/s]"
     ]
    },
    {
     "name": "stdout",
     "output_type": "stream",
     "text": [
      "NUM TOKEN:  18\n",
      "NUM TOKEN:  64\n"
     ]
    },
    {
     "name": "stderr",
     "output_type": "stream",
     "text": [
      " 96%|███████████████████████████████████████████████████████████████████████████▎  | 1458/1511 [08:06<00:20,  2.55it/s]"
     ]
    },
    {
     "name": "stdout",
     "output_type": "stream",
     "text": [
      "NUM TOKEN:  45\n"
     ]
    },
    {
     "name": "stderr",
     "output_type": "stream",
     "text": [
      " 97%|███████████████████████████████████████████████████████████████████████████▎  | 1459/1511 [08:07<00:22,  2.27it/s]"
     ]
    },
    {
     "name": "stdout",
     "output_type": "stream",
     "text": [
      "NUM TOKEN:  46\n"
     ]
    },
    {
     "name": "stderr",
     "output_type": "stream",
     "text": [
      " 97%|███████████████████████████████████████████████████████████████████████████▎  | 1460/1511 [08:08<00:24,  2.04it/s]"
     ]
    },
    {
     "name": "stdout",
     "output_type": "stream",
     "text": [
      "NUM TOKEN:  84\n"
     ]
    },
    {
     "name": "stderr",
     "output_type": "stream",
     "text": [
      " 97%|███████████████████████████████████████████████████████████████████████████▍  | 1461/1511 [08:09<00:29,  1.67it/s]"
     ]
    },
    {
     "name": "stdout",
     "output_type": "stream",
     "text": [
      "NUM TOKEN:  32\n"
     ]
    },
    {
     "name": "stderr",
     "output_type": "stream",
     "text": [
      " 97%|███████████████████████████████████████████████████████████████████████████▍  | 1462/1511 [08:09<00:27,  1.77it/s]"
     ]
    },
    {
     "name": "stdout",
     "output_type": "stream",
     "text": [
      "NUM TOKEN:  69\n"
     ]
    },
    {
     "name": "stderr",
     "output_type": "stream",
     "text": [
      " 97%|███████████████████████████████████████████████████████████████████████████▌  | 1463/1511 [08:09<00:25,  1.87it/s]"
     ]
    },
    {
     "name": "stdout",
     "output_type": "stream",
     "text": [
      "NUM TOKEN:  105\n"
     ]
    },
    {
     "name": "stderr",
     "output_type": "stream",
     "text": [
      " 97%|███████████████████████████████████████████████████████████████████████████▌  | 1464/1511 [08:10<00:28,  1.63it/s]"
     ]
    },
    {
     "name": "stdout",
     "output_type": "stream",
     "text": [
      "NUM TOKEN:  12\n",
      "NUM TOKEN:  33\n"
     ]
    },
    {
     "name": "stderr",
     "output_type": "stream",
     "text": [
      " 97%|███████████████████████████████████████████████████████████████████████████▋  | 1466/1511 [08:11<00:18,  2.37it/s]"
     ]
    },
    {
     "name": "stdout",
     "output_type": "stream",
     "text": [
      "NUM TOKEN:  25\n",
      "NUM TOKEN:  18\n",
      "NUM TOKEN:  14\n",
      "NUM TOKEN:  16\n",
      "NUM TOKEN:  102\n"
     ]
    },
    {
     "name": "stderr",
     "output_type": "stream",
     "text": [
      " 97%|███████████████████████████████████████████████████████████████████████████▉  | 1471/1511 [08:12<00:10,  3.68it/s]"
     ]
    },
    {
     "name": "stdout",
     "output_type": "stream",
     "text": [
      "NUM TOKEN:  21\n",
      "NUM TOKEN:  34\n"
     ]
    },
    {
     "name": "stderr",
     "output_type": "stream",
     "text": [
      " 97%|████████████████████████████████████████████████████████████████████████████  | 1473/1511 [08:12<00:09,  3.98it/s]"
     ]
    },
    {
     "name": "stdout",
     "output_type": "stream",
     "text": [
      "NUM TOKEN:  9\n",
      "NUM TOKEN:  36\n"
     ]
    },
    {
     "name": "stderr",
     "output_type": "stream",
     "text": [
      " 98%|████████████████████████████████████████████████████████████████████████████▏ | 1475/1511 [08:12<00:08,  4.05it/s]"
     ]
    },
    {
     "name": "stdout",
     "output_type": "stream",
     "text": [
      "NUM TOKEN:  123\n"
     ]
    },
    {
     "name": "stderr",
     "output_type": "stream",
     "text": [
      " 98%|████████████████████████████████████████████████████████████████████████████▏ | 1476/1511 [08:13<00:12,  2.72it/s]"
     ]
    },
    {
     "name": "stdout",
     "output_type": "stream",
     "text": [
      "NUM TOKEN:  66\n"
     ]
    },
    {
     "name": "stderr",
     "output_type": "stream",
     "text": [
      " 98%|████████████████████████████████████████████████████████████████████████████▏ | 1477/1511 [08:14<00:16,  2.07it/s]"
     ]
    },
    {
     "name": "stdout",
     "output_type": "stream",
     "text": [
      "NUM TOKEN:  56\n"
     ]
    },
    {
     "name": "stderr",
     "output_type": "stream",
     "text": [
      " 98%|████████████████████████████████████████████████████████████████████████████▎ | 1478/1511 [08:15<00:15,  2.13it/s]"
     ]
    },
    {
     "name": "stdout",
     "output_type": "stream",
     "text": [
      "NUM TOKEN:  161\n"
     ]
    },
    {
     "name": "stderr",
     "output_type": "stream",
     "text": [
      " 98%|████████████████████████████████████████████████████████████████████████████▎ | 1479/1511 [08:16<00:19,  1.61it/s]"
     ]
    },
    {
     "name": "stdout",
     "output_type": "stream",
     "text": [
      "NUM TOKEN:  64\n"
     ]
    },
    {
     "name": "stderr",
     "output_type": "stream",
     "text": [
      " 98%|████████████████████████████████████████████████████████████████████████████▍ | 1480/1511 [08:17<00:21,  1.47it/s]"
     ]
    },
    {
     "name": "stdout",
     "output_type": "stream",
     "text": [
      "NUM TOKEN:  25\n",
      "NUM TOKEN:  73\n"
     ]
    },
    {
     "name": "stderr",
     "output_type": "stream",
     "text": [
      " 98%|████████████████████████████████████████████████████████████████████████████▌ | 1482/1511 [08:17<00:15,  1.89it/s]"
     ]
    },
    {
     "name": "stdout",
     "output_type": "stream",
     "text": [
      "NUM TOKEN:  140\n"
     ]
    },
    {
     "name": "stderr",
     "output_type": "stream",
     "text": [
      " 98%|████████████████████████████████████████████████████████████████████████████▌ | 1483/1511 [08:18<00:16,  1.72it/s]"
     ]
    },
    {
     "name": "stdout",
     "output_type": "stream",
     "text": [
      "NUM TOKEN:  72\n"
     ]
    },
    {
     "name": "stderr",
     "output_type": "stream",
     "text": [
      " 98%|████████████████████████████████████████████████████████████████████████████▌ | 1484/1511 [08:19<00:16,  1.60it/s]"
     ]
    },
    {
     "name": "stdout",
     "output_type": "stream",
     "text": [
      "NUM TOKEN:  64\n"
     ]
    },
    {
     "name": "stderr",
     "output_type": "stream",
     "text": [
      " 98%|████████████████████████████████████████████████████████████████████████████▋ | 1485/1511 [08:19<00:15,  1.65it/s]"
     ]
    },
    {
     "name": "stdout",
     "output_type": "stream",
     "text": [
      "NUM TOKEN:  88\n"
     ]
    },
    {
     "name": "stderr",
     "output_type": "stream",
     "text": [
      " 98%|████████████████████████████████████████████████████████████████████████████▋ | 1486/1511 [08:20<00:14,  1.70it/s]"
     ]
    },
    {
     "name": "stdout",
     "output_type": "stream",
     "text": [
      "NUM TOKEN:  31\n"
     ]
    },
    {
     "name": "stderr",
     "output_type": "stream",
     "text": [
      " 98%|████████████████████████████████████████████████████████████████████████████▊ | 1487/1511 [08:20<00:13,  1.81it/s]"
     ]
    },
    {
     "name": "stdout",
     "output_type": "stream",
     "text": [
      "NUM TOKEN:  40\n"
     ]
    },
    {
     "name": "stderr",
     "output_type": "stream",
     "text": [
      " 98%|████████████████████████████████████████████████████████████████████████████▊ | 1488/1511 [08:21<00:11,  1.92it/s]"
     ]
    },
    {
     "name": "stdout",
     "output_type": "stream",
     "text": [
      "NUM TOKEN:  45\n"
     ]
    },
    {
     "name": "stderr",
     "output_type": "stream",
     "text": [
      " 99%|████████████████████████████████████████████████████████████████████████████▊ | 1489/1511 [08:22<00:12,  1.78it/s]"
     ]
    },
    {
     "name": "stdout",
     "output_type": "stream",
     "text": [
      "NUM TOKEN:  89\n"
     ]
    },
    {
     "name": "stderr",
     "output_type": "stream",
     "text": [
      " 99%|████████████████████████████████████████████████████████████████████████████▉ | 1490/1511 [08:22<00:13,  1.53it/s]"
     ]
    },
    {
     "name": "stdout",
     "output_type": "stream",
     "text": [
      "NUM TOKEN:  73\n"
     ]
    },
    {
     "name": "stderr",
     "output_type": "stream",
     "text": [
      " 99%|████████████████████████████████████████████████████████████████████████████▉ | 1491/1511 [08:23<00:13,  1.43it/s]"
     ]
    },
    {
     "name": "stdout",
     "output_type": "stream",
     "text": [
      "NUM TOKEN:  32\n"
     ]
    },
    {
     "name": "stderr",
     "output_type": "stream",
     "text": [
      " 99%|█████████████████████████████████████████████████████████████████████████████ | 1492/1511 [08:24<00:11,  1.60it/s]"
     ]
    },
    {
     "name": "stdout",
     "output_type": "stream",
     "text": [
      "NUM TOKEN:  33\n"
     ]
    },
    {
     "name": "stderr",
     "output_type": "stream",
     "text": [
      " 99%|█████████████████████████████████████████████████████████████████████████████ | 1493/1511 [08:24<00:10,  1.71it/s]"
     ]
    },
    {
     "name": "stdout",
     "output_type": "stream",
     "text": [
      "NUM TOKEN:  71\n"
     ]
    },
    {
     "name": "stderr",
     "output_type": "stream",
     "text": [
      " 99%|█████████████████████████████████████████████████████████████████████████████ | 1494/1511 [08:25<00:08,  1.97it/s]"
     ]
    },
    {
     "name": "stdout",
     "output_type": "stream",
     "text": [
      "NUM TOKEN:  20\n",
      "NUM TOKEN:  33\n"
     ]
    },
    {
     "name": "stderr",
     "output_type": "stream",
     "text": [
      " 99%|█████████████████████████████████████████████████████████████████████████████▏| 1496/1511 [08:25<00:05,  2.91it/s]"
     ]
    },
    {
     "name": "stdout",
     "output_type": "stream",
     "text": [
      "NUM TOKEN:  74\n"
     ]
    },
    {
     "name": "stderr",
     "output_type": "stream",
     "text": [
      " 99%|█████████████████████████████████████████████████████████████████████████████▎| 1497/1511 [08:26<00:06,  2.00it/s]"
     ]
    },
    {
     "name": "stdout",
     "output_type": "stream",
     "text": [
      "NUM TOKEN:  28\n",
      "NUM TOKEN:  128\n"
     ]
    },
    {
     "name": "stderr",
     "output_type": "stream",
     "text": [
      " 99%|█████████████████████████████████████████████████████████████████████████████▍| 1499/1511 [08:27<00:05,  2.23it/s]"
     ]
    },
    {
     "name": "stdout",
     "output_type": "stream",
     "text": [
      "NUM TOKEN:  38\n"
     ]
    },
    {
     "name": "stderr",
     "output_type": "stream",
     "text": [
      " 99%|█████████████████████████████████████████████████████████████████████████████▍| 1500/1511 [08:27<00:05,  2.12it/s]"
     ]
    },
    {
     "name": "stdout",
     "output_type": "stream",
     "text": [
      "NUM TOKEN:  22\n",
      "NUM TOKEN:  11\n",
      "NUM TOKEN:  19\n",
      "NUM TOKEN:  8\n",
      "NUM TOKEN:  25\n",
      "NUM TOKEN:  17\n",
      "NUM TOKEN:  58\n"
     ]
    },
    {
     "name": "stderr",
     "output_type": "stream",
     "text": [
      "100%|█████████████████████████████████████████████████████████████████████████████▊| 1507/1511 [08:28<00:00,  5.23it/s]"
     ]
    },
    {
     "name": "stdout",
     "output_type": "stream",
     "text": [
      "NUM TOKEN:  35\n"
     ]
    },
    {
     "name": "stderr",
     "output_type": "stream",
     "text": [
      "100%|█████████████████████████████████████████████████████████████████████████████▊| 1508/1511 [08:28<00:00,  4.62it/s]"
     ]
    },
    {
     "name": "stdout",
     "output_type": "stream",
     "text": [
      "NUM TOKEN:  89\n"
     ]
    },
    {
     "name": "stderr",
     "output_type": "stream",
     "text": [
      "100%|█████████████████████████████████████████████████████████████████████████████▉| 1509/1511 [08:29<00:00,  3.01it/s]"
     ]
    },
    {
     "name": "stdout",
     "output_type": "stream",
     "text": [
      "NUM TOKEN:  14\n",
      "NUM TOKEN:  32\n"
     ]
    },
    {
     "name": "stderr",
     "output_type": "stream",
     "text": [
      "100%|██████████████████████████████████████████████████████████████████████████████| 1511/1511 [08:29<00:00,  2.96it/s]"
     ]
    },
    {
     "name": "stdout",
     "output_type": "stream",
     "text": [
      "NUM TOKEN:  12\n"
     ]
    },
    {
     "name": "stderr",
     "output_type": "stream",
     "text": [
      "\n"
     ]
    }
   ],
   "source": [
    "tqdm.pandas()\n",
    "# df['review_processed'] = df['review_processed'].progress_apply(lambda x: modelBertSum(f\"correct: {x}</s>\")[0]['summary_text'])\n",
    "df['review_processed'] = df['review_processed'].progress_apply(lambda x: process(x))"
   ]
  },
  {
   "cell_type": "markdown",
   "id": "69cc6fcf-435d-46ed-af51-c901bd51d207",
   "metadata": {},
   "source": [
    "# Save Data"
   ]
  },
  {
   "cell_type": "code",
   "execution_count": 20,
   "id": "e1c96d2e-651a-4bdd-952f-900894ddf59b",
   "metadata": {
    "scrolled": true
   },
   "outputs": [
    {
     "data": {
      "text/plain": [
       "{0: {'review_id': 0,\n",
       "  'review_time': '2024-11-28',\n",
       "  'like': 0,\n",
       "  'review': 'The cars design is like it came from a cartoon.',\n",
       "  'review_processed': 'The cars design is like it came from a cartoon.'},\n",
       " 1: {'review_id': 2,\n",
       "  'review_time': '2024-11-27',\n",
       "  'like': 0,\n",
       "  'review': 'Tankz u for being so honest.\\nMuch love and respect from trinidad',\n",
       "  'review_processed': 'Tankz u for being so honest.\\nMuch love and respect from trinidad'},\n",
       " 2: {'review_id': 3,\n",
       "  'review_time': '2024-11-26',\n",
       "  'like': 0,\n",
       "  'review': 'Amazing review your really good at this love watching you man I feel like you could review anything. Well done',\n",
       "  'review_processed': 'Amazing review your really good at this love watching you man I feel like you could review anything. Well done'},\n",
       " 3: {'review_id': 5,\n",
       "  'review_time': '2024-11-25',\n",
       "  'like': 0,\n",
       "  'review': 'Honestly, the Cybertruck might be the first car I’d ever put a sticker on if I owned one someday. Otherwise, I’d constantly worry about accidentally trying to get into someone else’s Cybertruck once production ramps up and they’re everywhere😂',\n",
       "  'review_processed': \"The Cybertruck might be the first car I've ever put a sticker on if I owned one someday. Otherwise, I constantly worry about accidentally trying to get into someone's car\"},\n",
       " 4: {'review_id': 6,\n",
       "  'review_time': '2024-11-25',\n",
       "  'like': 0,\n",
       "  'review': \"I will be buying one anytime soon add expensive truck weird looking not very practical when I had my Ford Ranger I have a lot of stuff in it total trailer in put a refrigerator a couch and a mattress I know people who had a PT Cruiser and it's spent most of the time in the shop😂😮\",\n",
       "  'review_processed': \"I will be buying one anytime soon. It's a very expensive truck. I have a lot of stuff in it.\"},\n",
       " 5: {'review_id': 12,\n",
       "  'review_time': '2024-11-20',\n",
       "  'like': 0,\n",
       "  'review': 'thanks for the view man, I have never even drove a car in my life because of poverty here in AFRICA. I  wish someone could give me an old car i will be the most happy person',\n",
       "  'review_processed': 'I have never even drove a car in my life because of poverty here in Africa. I wish someone could give me an old car, I will be the most happy person'},\n",
       " 6: {'review_id': 13,\n",
       "  'review_time': '2024-11-19',\n",
       "  'like': 0,\n",
       "  'review': 'The drive by wire was done by Toyota first.',\n",
       "  'review_processed': 'The drive by wire was done by Toyota first.'},\n",
       " 7: {'review_id': 15,\n",
       "  'review_time': '2024-11-16',\n",
       "  'like': 0,\n",
       "  'review': 'it\\'s bad at being a truck, it\\'s really bad at being just a regular car, you can pull it apart it your hands, and it\\'s not really great at offroading because the motor it uses for it\\'s air suspension is wack. but in my opinion, and I don\\'t think it get talked about enough, it\\'s biggest sin is that tesla claims it as a heavy duty pick up truck/tank/immortal entity, and they made the frame out of casted fucking aluminum. they made a HEAVY DUTY PICK UP TRUCK with an aluminum frame and a steel body. I\\'m all for \"thinking outside of the box\" but that\\'s just stupid.',\n",
       "  'review_processed': \"It's bad at being a truck, it's really bad at just being a regular car, and it's not really great at offroading because the motor it uses for it's air suspension is wack. It's biggest sin is that they made the frame out of casted aluminum, and they made a heavy duty pick up truck with an aluminum frame and a steel body.\"},\n",
       " 8: {'review_id': 16,\n",
       "  'review_time': '2024-11-15',\n",
       "  'like': 0,\n",
       "  'review': \"If this is iconic then so is the Fiat Multipla. It's not even roadworthy in most countries. You know, countries that actually take road safety seriously and where laws cannot be circumvented or amended by paying off corrupt politicians and bureaucrats.\",\n",
       "  'review_processed': \"If this is iconic, then so is the Fiat Multipla. It's not even roadworthy in most countries.\"},\n",
       " 9: {'review_id': 18,\n",
       "  'review_time': '2024-11-15',\n",
       "  'like': 0,\n",
       "  'review': 'This is the ugliest thing I have laid my eyes on. Wait until salt from winter roads gets its hands on the body. I think the exterior will be a complete POS in three years unless it sits in a garage 22 hours a day out of the sun, rain, snow',\n",
       "  'review_processed': 'Wait until salt from winter roads gets its hands on the body. I think the exterior will be a complete POS in three years unless it sits in a garage 22 hours a day out of the sun, rain, and snow.'},\n",
       " 10: {'review_id': 19,\n",
       "  'review_time': '2024-11-14',\n",
       "  'like': 0,\n",
       "  'review': 'There is only one iconic car - The Lotus Elise. The Elise was designed in honor of Bugatti.',\n",
       "  'review_processed': 'There is only one iconic car - The Lotus Elise. The Elise was designed in honor of Bugatti.'},\n",
       " 11: {'review_id': 21,\n",
       "  'review_time': '2024-11-13',\n",
       "  'like': 0,\n",
       "  'review': 'I hate stainless steel appliances because of the fingerprints and cleaning PITA.',\n",
       "  'review_processed': 'I hate stainless steel appliances because of the fingerprints and cleaning PITA.'},\n",
       " 12: {'review_id': 23,\n",
       "  'review_time': '2024-11-10',\n",
       "  'like': 0,\n",
       "  'review': 'If I get that thang, I might have to take it camping 🏕 😂',\n",
       "  'review_processed': 'If I get that thang, I might have to take it camping  '},\n",
       " 13: {'review_id': 24,\n",
       "  'review_time': '2024-11-09',\n",
       "  'like': 0,\n",
       "  'review': \"I talked to a dude today that didn't know Rogan interviewed Trump. I can now believe there are people that don't have a clue what that truck is. You would blow their mind if you told them about the Starship catch. The idea of a 90s mini-truck version of a Cyber Truck gives me a woody like I was back in high school again. SMH. Only in my dreams\",\n",
       "  'review_processed': \"I can't believe there are people that don't have a clue what that truck is. The idea of a 90s mini-truck version of a Cyber Truck gives me a woody like I was back in high school again.\"},\n",
       " 14: {'review_id': 26,\n",
       "  'review_time': '2024-11-09',\n",
       "  'like': 0,\n",
       "  'review': 'Nah, not for me.\\nA commercial refrigerator on wheels is a perfect description.',\n",
       "  'review_processed': 'Nah, not for me.\\nA commercial refrigerator on wheels is a perfect description.'},\n",
       " 15: {'review_id': 27,\n",
       "  'review_time': '2024-11-07',\n",
       "  'like': 0,\n",
       "  'review': 'There are not ever going to be \"50\" cybertrucks on the road in a person\\'s day.',\n",
       "  'review_processed': 'There are not ever going to be \"50\" cybertrucks on the road in a person\\'s day.'},\n",
       " 16: {'review_id': 31,\n",
       "  'review_time': '2024-11-04',\n",
       "  'like': 0,\n",
       "  'review': 'I actually like how it looks Imagine my surprise today when I saw learned people found it ugly?',\n",
       "  'review_processed': 'I actually like how it looks Imagine my surprise today when I saw learned people found it ugly?'},\n",
       " 17: {'review_id': 32,\n",
       "  'review_time': '2024-11-03',\n",
       "  'like': 0,\n",
       "  'review': \"It's absolutely hilarious that people hate Elon so much they will piss on or vandalize any cyber truck they see. I\\nId feel bad for the owners but if you're stupid enough to buy one, I find that difficult to defend you\",\n",
       "  'review_processed': \"I find it hilarious that people hate Elon so much they will piss on or vandalize any cyber truck they see. I feel bad for the owners, but if you're stupid enough to buy one, it's\"},\n",
       " 18: {'review_id': 33,\n",
       "  'review_time': '2024-11-03',\n",
       "  'like': 0,\n",
       "  'review': 'Why are you always so negative \\nAlmost all of your videos are saying negative and little positive of the product',\n",
       "  'review_processed': 'Why are you always so negative \\nAlmost all of your videos are saying negative and little positive of the product'},\n",
       " 19: {'review_id': 34,\n",
       "  'review_time': '2024-11-02',\n",
       "  'like': 0,\n",
       "  'review': '20:59 *roll and pitch* Yaw means turning left and right, pitch means tipping forwards and backwards.',\n",
       "  'review_processed': '20:59 *roll and pitch* Yaw means turning left and right, pitch means tipping forwards and backwards.'},\n",
       " 20: {'review_id': 35,\n",
       "  'review_time': '2024-11-02',\n",
       "  'like': 0,\n",
       "  'review': 'Honestly the hate comes from were the boss stands for, not the truck itself.\\n\\nIt is not something i would buy, there is better stuff in the market.\\n\\nThe screen for example is smacked on the dashboard. And with all things that run on software, software updates are sometimes a problem were functions give you a error and only software can fix it\\n\\nBut you get those nice double monitors curved like Hyundai have.',\n",
       "  'review_processed': 'It is not something I would buy, there is better stuff in the market. The screen for example is smacked on the dashboard.'},\n",
       " 21: {'review_id': 37,\n",
       "  'review_time': '2024-10-31',\n",
       "  'like': 0,\n",
       "  'review': 'You know, if you drive around in a parade float, people will react to it, too. A slab of stainless steel is not iconic. A vehicle that weighs that much has potentially volatile batteries, can accelerate well beyond any legal limit on any roadway, and has no physical controls available between the yoke and the wheels, and fanboys who think they can use autonomous driving make this really dangerous.',\n",
       "  'review_processed': 'You know, if you drive around in a parade float, people will react to it, too. A vehicle that weighs that much has potentially volatile batteries, can accelerate well beyond any legal limit, and has no physical controls available between the yoke and the wheels.'},\n",
       " 22: {'review_id': 38,\n",
       "  'review_time': '2024-10-30',\n",
       "  'like': 0,\n",
       "  'review': \"I have noticed a growing number of YouTubers giving unfavourable reviews about Tesla and SpaceX. It's almost feel like they've been activated.\",\n",
       "  'review_processed': \"I have noticed a growing number of YouTubers giving unfavourable reviews about Tesla and SpaceX. It's almost feel like they've been activated.\"},\n",
       " 23: {'review_id': 43,\n",
       "  'review_time': '2024-10-28',\n",
       "  'like': 0,\n",
       "  'review': '6 months later you need to do a follow up on the cyber truck.',\n",
       "  'review_processed': '6 months later you need to do a follow up on the cyber truck.'},\n",
       " 24: {'review_id': 44,\n",
       "  'review_time': '2024-10-28',\n",
       "  'like': 0,\n",
       "  'review': \"I've seen a few of these vehicles around my town. I didn't know it was a Tesla product. It looks like a prototype experiment that someone forgot to finish. I'm not a fan of the exterior. Looks like a big box on wheels with very sharp lines.  In the video you can see all the fingerprints around the doors. I would have been interested to see the interior and safety features. It did show a huge info screen......like someone's big screen home television. If I was an owner, I would get very tired of the look and novelty of this truck. It really is funny how these huge trucks (both gas and electric) are primarily used for just shopping around town or taking the kids to school. Oh well...to each his own.\",\n",
       "  'review_processed': \"I didn't know it was a Tesla product. It looks like a prototype experiment that someone forgot to finish. I'm not a fan of the exterior. It did show a huge info screen......like someone's big screen home television.\"},\n",
       " 25: {'review_id': 45,\n",
       "  'review_time': '2024-10-26',\n",
       "  'like': 0,\n",
       "  'review': 'That was a weird ass intro. Why would he start with “the most dangerous thing” ??\\n\\nI swear I should have his job. I would do 1 million things better.',\n",
       "  'review_processed': 'I swear I should have his job. I would do a million things better.'},\n",
       " 26: {'review_id': 46,\n",
       "  'review_time': '2024-10-25',\n",
       "  'like': 0,\n",
       "  'review': 'I wouldn’t buy a cyber truck cause having a truck means I want to tow something. That right there defeats the purpose of having a truck',\n",
       "  'review_processed': 'I wouldnt buy a cyber truck cause having a truck means I want to tow something. That right there defeats the purpose of having a truck'},\n",
       " 27: {'review_id': 47,\n",
       "  'review_time': '2024-10-24',\n",
       "  'like': 0,\n",
       "  'review': 'Disclaimer being European - the statement being \"bulletproof\" - wtf - a car \"bulletproof\" - is that a thing that sales?? Only crazy gun loving americans see this as an asset. And yes this \"car\" will never ever be allowed in the streets in Europe.',\n",
       "  'review_processed': 'Being European, the statement being \"bulletproof\" is ridiculous. Only crazy gun loving Americans see this as an asset. This \"car\" will never be allowed in the streets in Europe.'},\n",
       " 28: {'review_id': 48,\n",
       "  'review_time': '2024-10-24',\n",
       "  'like': 0,\n",
       "  'review': 'It looks like it’s stuck in the 80s. It’s revolting to look at.',\n",
       "  'review_processed': 'It looks like its stuck in the 80s. Its revolting to look at.'},\n",
       " 29: {'review_id': 49,\n",
       "  'review_time': '2024-10-22',\n",
       "  'like': 0,\n",
       "  'review': 'Rust Bucket! They are all starting to rust already',\n",
       "  'review_processed': 'Rust Bucket! They are all starting to rust already'},\n",
       " 30: {'review_id': 51,\n",
       "  'review_time': '2024-10-20',\n",
       "  'like': 0,\n",
       "  'review': '17:09 \"my child... I mean, the car\" 🤣🤣',\n",
       "  'review_processed': '17:09 \"my child... I mean, the car\" '},\n",
       " 31: {'review_id': 53,\n",
       "  'review_time': '2024-10-17',\n",
       "  'like': 0,\n",
       "  'review': \"You said it right it's how others feel about this car. Just about two weeks ago I was going for a walk and I saw this car park on the street where I was walking (i live in an affluent town) and I looked at it as though I saw a ghost 👻👻👻 It looked like a UFO car or something that you'd see in a James Bond movie. I turned around trying to figure out what that hell was that. I saw no logo of Tesla 🤭 so I had to google it to find out. I am not a car person as I drove my Honda Civic for 19 years and the only reason I decide to trade it in is because during winter my door froze and I was stuck inside the car until I kicked it open 😠 I got a whopping $700 for my trade in. ....Oh well two day ago this car was again parked outside a sandwich shop....so I have seen this car twice!!! Why is this called a truck? It sure looks like a car!\",\n",
       "  'review_processed': \"Two weeks ago I saw this car park on the street where I was walking and I looked at it as though I saw a ghost. It looked like a UFO car or something you'd see in a James Bond movie. I turned around trying to figure out what that hell was that. I saw no logo of Tesla, so I had to Google it to find out.\"},\n",
       " 32: {'review_id': 54,\n",
       "  'review_time': '2024-10-15',\n",
       "  'like': 1,\n",
       "  'review': '17:08 I would call it my child too',\n",
       "  'review_processed': '17:08 I would call it my child too'},\n",
       " 33: {'review_id': 56,\n",
       "  'review_time': '2024-10-15',\n",
       "  'like': 0,\n",
       "  'review': 'Miller Scott White Thomas Garcia Paul',\n",
       "  'review_processed': 'Miller Scott White Thomas Garcia Paul'},\n",
       " 34: {'review_id': 57,\n",
       "  'review_time': '2024-10-15',\n",
       "  'like': 0,\n",
       "  'review': 'An issue is if the truck door locks. And If someone in the river the people inside the car. They want to escape from car. Normally, People can break windows by hammer Or tools. However this truck window is stronger than regular. People are difficult to escape from the truck?',\n",
       "  'review_processed': 'An issue is if the truck door locks, and if someone in the river wants to escape from the car. Normally, people can break windows by hammer or tools, but this truck window is stronger than regular.'},\n",
       " 35: {'review_id': 59,\n",
       "  'review_time': '2024-10-15',\n",
       "  'like': 0,\n",
       "  'review': 'Did people like the DeLorean when it first came out? 80s enthusiasts, let us know bc that car is iconic! The Cybertruck is a futuristic car in a dystopian present. That\\'s why some of you don\\'t \"get it\".',\n",
       "  'review_processed': \"The Cybertruck is a futuristic car in a dystopian present. That's why some of you don't get it.\"},\n",
       " 36: {'review_id': 62,\n",
       "  'review_time': '2024-10-14',\n",
       "  'like': 0,\n",
       "  'review': 'Huel Lane',\n",
       "  'review_processed': 'Huel Lane'},\n",
       " 37: {'review_id': 63,\n",
       "  'review_time': '2024-10-14',\n",
       "  'like': 0,\n",
       "  'review': 'Taylor Margaret Martinez Brenda Clark John',\n",
       "  'review_processed': 'Taylor Margaret Martinez Brenda Clark John'},\n",
       " 38: {'review_id': 65,\n",
       "  'review_time': '2024-10-12',\n",
       "  'like': 1,\n",
       "  'review': \"12:45 This is what I like about Marques, he's honest, he bashed the flaws of the truck but also make fun of the people who make a storm about it.\",\n",
       "  'review_processed': \"This is what I like about Marques, he's honest, he bashed the flaws of the truck but also made fun of the people who\"},\n",
       " 39: {'review_id': 66,\n",
       "  'review_time': '2024-10-12',\n",
       "  'like': 0,\n",
       "  'review': 'Garcia Angela Davis Scott Allen Shirley',\n",
       "  'review_processed': 'Garcia Angela Davis Scott Allen Shirley'},\n",
       " 40: {'review_id': 69,\n",
       "  'review_time': '2024-10-10',\n",
       "  'like': 0,\n",
       "  'review': 'Martinez Lisa Lewis Charles Clark David',\n",
       "  'review_processed': 'Martinez Lisa Lewis Charles Clark David'},\n",
       " 41: {'review_id': 70,\n",
       "  'review_time': '2024-10-09',\n",
       "  'like': 0,\n",
       "  'review': 'Gonzalez Carol Wilson Laura Martin Angela',\n",
       "  'review_processed': 'Gonzalez Carol Wilson Laura Martin Angela'},\n",
       " 42: {'review_id': 72,\n",
       "  'review_time': '2024-10-07',\n",
       "  'like': 0,\n",
       "  'review': \"Looking different and that it's rare doesn't make it iconic. This is moronic and a death machine.\",\n",
       "  'review_processed': \"Looking different and that it's rare doesn't make it iconic. This is moronic and a death machine.\"},\n",
       " 43: {'review_id': 75,\n",
       "  'review_time': '2024-10-06',\n",
       "  'like': 0,\n",
       "  'review': 'Marques, if you could only drive one EV for five years, which one would you drive? Thanks and keep up the great work!',\n",
       "  'review_processed': 'Marques, if you could only drive one EV for five years, which one would you drive? Thanks and keep up the great work!'},\n",
       " 44: {'review_id': 77,\n",
       "  'review_time': '2024-10-06',\n",
       "  'like': 0,\n",
       "  'review': 'Taylor Donna Gonzalez Larry Hernandez Michelle',\n",
       "  'review_processed': 'Taylor Donna Gonzalez Larry Hernandez Michelle'},\n",
       " 45: {'review_id': 78,\n",
       "  'review_time': '2024-10-05',\n",
       "  'like': 0,\n",
       "  'review': \"It's definitely a cool truck but i'll take a 1970 Ford F-100 in good condition any day of the week.\",\n",
       "  'review_processed': \"It's definitely a cool truck but i'll take a 1970 Ford F-100 in good condition any day of the week.\"},\n",
       " 46: {'review_id': 81,\n",
       "  'review_time': '2024-10-01',\n",
       "  'like': 0,\n",
       "  'review': 'Lmao you can do the same with pretty much just about any piece of advanced technology like a moth to a flame',\n",
       "  'review_processed': 'Lmao you can do the same with pretty much just about any piece of advanced technology like a moth to a flame'},\n",
       " 47: {'review_id': 82,\n",
       "  'review_time': '2024-09-30',\n",
       "  'like': 0,\n",
       "  'review': 'It looks like a car homer simpson would make....you know that one episode where they pushed a whole load of cash into designing his own car and when it was complete it looked like a garbage can on wheels? 😂😂',\n",
       "  'review_processed': 'It looks like a car a homerimpson would make.'},\n",
       " 48: {'review_id': 84,\n",
       "  'review_time': '2024-09-27',\n",
       "  'like': 0,\n",
       "  'review': 'It’s cute, and looks fun.',\n",
       "  'review_processed': 'Its cute, and looks fun.'},\n",
       " 49: {'review_id': 85,\n",
       "  'review_time': '2024-09-27',\n",
       "  'like': 0,\n",
       "  'review': 'Fisher Skyway',\n",
       "  'review_processed': 'Fisher Skyway'},\n",
       " 50: {'review_id': 87,\n",
       "  'review_time': '2024-09-25',\n",
       "  'like': 1,\n",
       "  'review': 'its not iconic. all it does is let you know the person driving its is a tool',\n",
       "  'review_processed': 'its not iconic. all it does is let you know the person driving its is a tool'},\n",
       " 51: {'review_id': 88,\n",
       "  'review_time': '2024-09-24',\n",
       "  'like': 9,\n",
       "  'review': 'After so many struggles I now have a new house, and my family is happy once again. Everything is finally falling into place!!',\n",
       "  'review_processed': 'After so many struggles I now have a new house, and my family is happy once again. Everything is finally falling into place!!'},\n",
       " 52: {'review_id': 89,\n",
       "  'review_time': '2024-09-24',\n",
       "  'like': 0,\n",
       "  'review': 'Lewis Michelle Robinson John Davis Patricia',\n",
       "  'review_processed': 'Lewis Michelle Robinson John Davis Patricia'},\n",
       " 53: {'review_id': 90,\n",
       "  'review_time': '2024-09-24',\n",
       "  'like': 0,\n",
       "  'review': 'I think it looks great',\n",
       "  'review_processed': 'I think it looks great'},\n",
       " 54: {'review_id': 91,\n",
       "  'review_time': '2024-09-24',\n",
       "  'like': 0,\n",
       "  'review': 'I\\'m not entirely sure the term \"visually interesting\" applies to anything here...',\n",
       "  'review_processed': 'I\\'m not entirely sure the term \"visually interesting\" applies to anything here...'},\n",
       " 55: {'review_id': 94,\n",
       "  'review_time': '2024-09-22',\n",
       "  'like': 0,\n",
       "  'review': 'Jackson Jessica Walker David Clark Charles',\n",
       "  'review_processed': 'Jackson Jessica Walker David Clark Charles'},\n",
       " 56: {'review_id': 95,\n",
       "  'review_time': '2024-09-22',\n",
       "  'like': 0,\n",
       "  'review': 'Got to give credit for the rookies designers to go back to Stunts game and make an exact copy of the car in the game.',\n",
       "  'review_processed': 'Got to give credit for the rookies designers to go back to Stunts game and make an exact copy of the car in the game.'},\n",
       " 57: {'review_id': 96,\n",
       "  'review_time': '2024-09-22',\n",
       "  'like': 0,\n",
       "  'review': 'Johnson Carol Garcia Eric Wilson Mark',\n",
       "  'review_processed': 'Johnson Carol Garcia Eric Wilson Mark'},\n",
       " 58: {'review_id': 97,\n",
       "  'review_time': '2024-09-21',\n",
       "  'like': 0,\n",
       "  'review': 'They missed the ball with this one.',\n",
       "  'review_processed': 'They missed the ball with this one.'},\n",
       " 59: {'review_id': 98,\n",
       "  'review_time': '2024-09-21',\n",
       "  'like': 0,\n",
       "  'review': 'Garcia Maria Hernandez William Harris Anna',\n",
       "  'review_processed': 'Garcia Maria Hernandez William Harris Anna'},\n",
       " 60: {'review_id': 99,\n",
       "  'review_time': '2024-09-20',\n",
       "  'like': 0,\n",
       "  'review': 'Hermina Squares',\n",
       "  'review_processed': 'Hermina Squares'},\n",
       " 61: {'review_id': 100,\n",
       "  'review_time': '2024-09-20',\n",
       "  'like': 0,\n",
       "  'review': 'It is a piece of crap.',\n",
       "  'review_processed': 'It is a piece of crap.'},\n",
       " 62: {'review_id': 101,\n",
       "  'review_time': '2024-09-19',\n",
       "  'like': 0,\n",
       "  'review': 'White Brenda Davis Daniel Miller Anna',\n",
       "  'review_processed': 'White Brenda Davis Daniel Miller Anna'},\n",
       " 63: {'review_id': 102,\n",
       "  'review_time': '2024-09-19',\n",
       "  'like': 0,\n",
       "  'review': \"i live in fuckass nowhere texas and there is one (1) single cybertruck that drives around. i'm convinced its the same person because i refuse to accept the idea of multiple people owning a cybertruck in fuckass nowhere texas. it feels like a monster creeping up in me whenever i see it in my rearview\",\n",
       "  'review_processed': \"I live in nowhere texas and there is one (one) single cyberruck that drives around. I'm convinced it's the same person because I refuse to accept the idea of multiple people owning a cybertruck in that area.\"},\n",
       " 64: {'review_id': 103,\n",
       "  'review_time': '2024-09-19',\n",
       "  'like': 0,\n",
       "  'review': 'Davis Helen Martin Nancy Davis Sandra',\n",
       "  'review_processed': 'Davis Helen Martin Nancy Davis Sandra'},\n",
       " 65: {'review_id': 104,\n",
       "  'review_time': '2024-09-17',\n",
       "  'like': 0,\n",
       "  'review': 'Barney Groves',\n",
       "  'review_processed': 'Barney Groves'},\n",
       " 66: {'review_id': 106,\n",
       "  'review_time': '2024-09-15',\n",
       "  'like': 0,\n",
       "  'review': \"not to be hater on eletric cars but i would take any porsche over a cybertruck. that is one of ugliest cars I've ever seen.\",\n",
       "  'review_processed': \"not to be hater on eletric cars but i would take any porsche over a cybertruck. that is one of ugliest cars I've ever seen.\"},\n",
       " 67: {'review_id': 107,\n",
       "  'review_time': '2024-09-15',\n",
       "  'like': 0,\n",
       "  'review': 'True Story: Emerging from a Santana concert late night this summer to a large parking lot, not inebriated btw, I noticed a dumpster near where we had parked. As we  approached, we died laughing. It was the Cybertruck!',\n",
       "  'review_processed': 'As we approached a large parking lot this summer, I noticed a dumpster near where we had parked. It was the Cybertruck!'},\n",
       " 68: {'review_id': 108,\n",
       "  'review_time': '2024-09-15',\n",
       "  'like': 0,\n",
       "  'review': 'Berry Plain',\n",
       "  'review_processed': 'Berry Plain'},\n",
       " 69: {'review_id': 109,\n",
       "  'review_time': '2024-09-15',\n",
       "  'like': 0,\n",
       "  'review': 'Martinez Gary Wilson David Lopez Donna',\n",
       "  'review_processed': 'Martinez Gary Wilson David Lopez Donna'},\n",
       " 70: {'review_id': 111,\n",
       "  'review_time': '2024-09-14',\n",
       "  'like': 0,\n",
       "  'review': 'Walker Patricia Miller Richard Harris Amy',\n",
       "  'review_processed': 'Walker Patricia Miller Richard Harris Amy'},\n",
       " 71: {'review_id': 112,\n",
       "  'review_time': '2024-09-14',\n",
       "  'like': 0,\n",
       "  'review': 'Man, where did you take it?? On a tour of local trap houses??',\n",
       "  'review_processed': 'Man, where did you take it?? On a tour of local trap houses??'},\n",
       " 72: {'review_id': 113,\n",
       "  'review_time': '2024-09-13',\n",
       "  'like': 0,\n",
       "  'review': 'They should have just named it “The Douchemobile”.',\n",
       "  'review_processed': 'They should have just named it The Douchemobile.'},\n",
       " 73: {'review_id': 118,\n",
       "  'review_time': '2024-09-09',\n",
       "  'like': 0,\n",
       "  'review': 'Moore Melissa Miller Christopher Harris Larry',\n",
       "  'review_processed': 'Moore Melissa Miller Christopher Harris Larry'},\n",
       " 74: {'review_id': 119,\n",
       "  'review_time': '2024-09-09',\n",
       "  'like': 0,\n",
       "  'review': 'Allen Shirley Robinson Paul Harris Steven',\n",
       "  'review_processed': 'Allen Shirley Robinson Paul Harris Steven'},\n",
       " 75: {'review_id': 120,\n",
       "  'review_time': '2024-09-09',\n",
       "  'like': 1,\n",
       "  'review': 'I think bulletproof stainless steel up to 9mm rounds is a safety feature for american customers',\n",
       "  'review_processed': 'I think bulletproof stainless steel up to 9mm rounds is a safety feature for american customers'},\n",
       " 76: {'review_id': 122,\n",
       "  'review_time': '2024-09-09',\n",
       "  'like': 0,\n",
       "  'review': 'Robinson Sandra Gonzalez Angela Young Charles',\n",
       "  'review_processed': 'Robinson Sandra Gonzalez Angela Young Charles'},\n",
       " 77: {'review_id': 123,\n",
       "  'review_time': '2024-09-07',\n",
       "  'like': 0,\n",
       "  'review': 'Clark Donna Lewis Sandra Clark Frank',\n",
       "  'review_processed': 'Clark Donna Lewis Sandra Clark Frank'},\n",
       " 78: {'review_id': 125,\n",
       "  'review_time': '2024-09-07',\n",
       "  'like': 0,\n",
       "  'review': 'I drive a pos VW beetle. Every day someone takes a photo, and the worst thing is someone ALWAYS wants to talk about it. Kids punching each other. Not that big of a deal. With that being said, I saw a cybertruck once here in the middle of nowhere, they are not as bad looking in real life.',\n",
       "  'review_processed': 'Every day someone takes a photo, and the worst thing is someone always wants to talk about it. With that being said, I saw a cybertruck once here in the middle of nowhere, and they are not as bad looking in real life.'},\n",
       " 79: {'review_id': 126,\n",
       "  'review_time': '2024-09-06',\n",
       "  'like': 0,\n",
       "  'review': \"The thing is that I don't play lottery any body interested to donate me one lol\",\n",
       "  'review_processed': \"The thing is that I don't play lottery any body interested to donate me one lol\"},\n",
       " 80: {'review_id': 127,\n",
       "  'review_time': '2024-09-06',\n",
       "  'like': 0,\n",
       "  'review': 'If I won a lottery I would buy @ cybertruck I was impressed by its demo kuz before in car accidents the glass would cut and deform human face or body but with the demo we do see that it does get in breaking point but with less risk that the passenger gets disfigured',\n",
       "  'review_processed': 'I was impressed by its demo because in car accidents the glass would cut and deform human faces or bodies. With the demo we do see that it does get in breaking point but with less risk that the passenger gets disfigured.'},\n",
       " 81: {'review_id': 129,\n",
       "  'review_time': '2024-09-05',\n",
       "  'like': 0,\n",
       "  'review': 'Martinez Melissa Robinson Sarah Taylor Amy',\n",
       "  'review_processed': 'Martinez Melissa Robinson Sarah Taylor Amy'},\n",
       " 82: {'review_id': 130,\n",
       "  'review_time': '2024-09-05',\n",
       "  'like': 0,\n",
       "  'review': 'Moore George Martin Carol White Shirley',\n",
       "  'review_processed': 'Moore George Martin Carol White Shirley'},\n",
       " 83: {'review_id': 131,\n",
       "  'review_time': '2024-09-04',\n",
       "  'like': 0,\n",
       "  'review': \"It's a piece of garbage\",\n",
       "  'review_processed': \"It's a piece of garbage\"},\n",
       " 84: {'review_id': 132,\n",
       "  'review_time': '2024-09-04',\n",
       "  'like': 0,\n",
       "  'review': 'White Ruth Harris Edward White Margaret',\n",
       "  'review_processed': 'White Ruth Harris Edward White Margaret'},\n",
       " 85: {'review_id': 133,\n",
       "  'review_time': '2024-09-04',\n",
       "  'like': 0,\n",
       "  'review': '6209 Hadley Center',\n",
       "  'review_processed': '6209 Hadley Center'},\n",
       " 86: {'review_id': 134,\n",
       "  'review_time': '2024-09-03',\n",
       "  'like': 0,\n",
       "  'review': \"Hey Tesla, next time if you're going to make an extended battery, how about make it a whole flat bed battery as thin as you can and getting the same range step pack so it doesn't even look like a battery and it doesn't take up the space so you can't use it\",\n",
       "  'review_processed': \"Next time, make it a whole flat bed battery as thin as you can, and get the same range as the step pack, so it doesn't even look like a battery and doesn't take up the space.\"},\n",
       " 87: {'review_id': 136,\n",
       "  'review_time': '2024-09-02',\n",
       "  'like': 0,\n",
       "  'review': 'Ignacio Square',\n",
       "  'review_processed': 'Ignacio Square'},\n",
       " 88: {'review_id': 137,\n",
       "  'review_time': '2024-09-02',\n",
       "  'like': 0,\n",
       "  'review': 'I’ve driven the model X. Can’t wait to drive this. I’ve driven a Model Y as well. That’s my favorite I’ve driven, after the Model X',\n",
       "  'review_processed': 'Ive driven the model X. Cant wait to drive this. Ive driven a Model Y as well. Thats my favorite Ive driven, after the Model X'},\n",
       " 89: {'review_id': 138,\n",
       "  'review_time': '2024-09-02',\n",
       "  'like': 0,\n",
       "  'review': 'Personally I like the design of it.',\n",
       "  'review_processed': 'Personally I like the design of it.'},\n",
       " 90: {'review_id': 140,\n",
       "  'review_time': '2024-09-01',\n",
       "  'like': 0,\n",
       "  'review': 'This truck has been destroyed on durability tests.\\nTesla truly is the Apple of cars, shiny stuff, but horrible consumer practices, and unpractical and disposable products',\n",
       "  'review_processed': 'This truck has been destroyed on durability tests.\\nTesla truly is the Apple of cars, shiny stuff, but horrible consumer practices, and unpractical and disposable products'},\n",
       " 91: {'review_id': 141,\n",
       "  'review_time': '2024-09-01',\n",
       "  'like': 0,\n",
       "  'review': 'I respect them,  they are like a magic power up from supermario and no other car has been that unique with that durability and performance.',\n",
       "  'review_processed': 'I respect them,  they are like a magic power up from supermario and no other car has been that unique with that durability and performance.'},\n",
       " 92: {'review_id': 142,\n",
       "  'review_time': '2024-09-01',\n",
       "  'like': 0,\n",
       "  'review': 'Bro we all know Elon musk came back with this idea from the future',\n",
       "  'review_processed': 'Bro we all know Elon musk came back with this idea from the future'},\n",
       " 93: {'review_id': 145,\n",
       "  'review_time': '2024-08-30',\n",
       "  'like': 0,\n",
       "  'review': \"Didn't realize you were a Musk fanboy. This came across as very biased as you ignored so many issues the truck has.\",\n",
       "  'review_processed': \"Didn't realize you were a Musk fanboy. This came across as very biased as you ignored so many issues the truck has.\"},\n",
       " 94: {'review_id': 147,\n",
       "  'review_time': '2024-08-30',\n",
       "  'like': 0,\n",
       "  'review': 'Dude your ad placement is hilarious and I love it👏 way to keep us hooked😎😂',\n",
       "  'review_processed': 'Dude your ad placement is hilarious and I love it way to keep us hooked'},\n",
       " 95: {'review_id': 148,\n",
       "  'review_time': '2024-08-30',\n",
       "  'like': 0,\n",
       "  'review': 'Johnson Helen Allen Thomas White Laura',\n",
       "  'review_processed': 'Johnson Helen Allen Thomas White Laura'},\n",
       " 96: {'review_id': 151,\n",
       "  'review_time': '2024-08-30',\n",
       "  'like': 0,\n",
       "  'review': \"I don't know why people get the idea that hospital bills in the US are insane here inside this comment section. My mother uses Medicare and is absolutely fine (it is there for people who apply for it but people don't apply for it). I have insurance as well, which would have been paid by taxes anyways that I'd have to put into if we had your style of system. Are there issues with the healthcare system? Yes. Is Europe absolutely perfect with its healthcare, despite how much funding goes into it? No. It has many flaws. \\r\\n\\r\\nThese black and white blanket statements are rather silly. Every country has their pros and cons. Europeans don't understand that the US itself is ALMOST as large as all of Europe combined. Imagine driving from the top most point of Europe to the southern most point and see how long that would take you. We have far larger surface area to get to places and different issues because of it. One country has to deal with a very tiny amount of road space compared to the US. We have much larger roads so it can accommodate trucking because it is how we can best get inventory all across of the nation (think of trying to do that for all of Europe with our size comparison). \\r\\n\\r\\nWe also have a different culture and different interests. We have many, many different cultures within the US. You go one state over and you'll find a ton of differences in way of thinking and doing things. It would be better to compare the US by states like you do European countries because that is what it would be like for size comparison. You should compare healthcare by state to other EU countries healthcare. And not every EU healthcare is that great, let's be honest. And Europe has almost 2.5x the population as the United States with a lot more infrastructure built over thousands of years. How can you compare that to a country as young as the US. Let's be honest here.\\r\\n\\r\\nCrime rate? \\r\\n\\r\\nLuxembourg has a murder rate of 1.39 per 100,000 people.\\r\\nLatvia has a 4.05%.\\r\\nFinland has a 1.5%.\\r\\nTurkey has a 2.46%.\\r\\nEstonia has a 1.35%.\\r\\nLithuania is 2.21%.\\r\\n\\r\\nWhat about the US?\\r\\n\\r\\nMaine's murder rate is 1.03% WHAT?! No way! Lower than EU ?!\\r\\nNew Hampshire is 1.26%\\r\\nConnecticut is 1.5%\\r\\nMississippi is 2.45%\\r\\nKentucky is 2.14%\\r\\n\\r\\nIs the US generally less safe than Europe? Yes. We also have many things and rights that EU doesn't have or apparently want, which is fine. People will vote and choose to live how they want. If the US wants what they have then what right do you have to try and tell them otherwise. EU is far from perfect. Just as the US is far from perfect. Work on your own country and stop attacking others. Maybe you'll make your home a better place to live rather than typing random stuff on a video you probably should never have watched to begin with since it doesn't sell to you.\\r\\n\\r\\nI find many of these arguments very pointless. Countries are different and do things differently. Why you won't conform to the way the US does things the US won't conform to the way you do things. Just live your life in your culture and if you don't like the car, then don't buy it. I don't know why you'd be on this video if it isn't something you're invested in getting. It just feels like hate mobbing, throwing hatred at something you, as you say, never see where you're from. Why can't people just enjoy things that they enjoy? If people like the big truck and a place allows it and the voters are fine with it in that country, then let it be.\",\n",
       "  'review_processed': \"I don't know why people get the idea that hospital bills in the US are insane here inside this comment section. Europe has almost 2.5x the population as the United States with a lot more infrastructure built over thousands of years. The US also has many things and rights that EU doesn't have or apparently want, which is fine. If the US wants what they have, what right do you have to try and tell them otherwise? Just work on your own country and stop attacking others. I find many of these arguments very pointless and pointless because countries are different and do things differently. Just live your life in your culture and if you don't like the car, then don't buy it. What about the US? Maine's murder rate is 1.03%. What about EU? Latvia has a 4.05%; Finland has a 1.5; Turkey has a 2.46; Estonia has 1.35; Lithuania is 2.21; and Latvia has 2.20.\"},\n",
       " 97: {'review_id': 152,\n",
       "  'review_time': '2024-08-29',\n",
       "  'like': 0,\n",
       "  'review': 'I hate how much I love mine, in 37 vehicles it’s the best car I’ve ever owned.',\n",
       "  'review_processed': 'I hate how much I love mine, in 37 vehicles its the best car Ive ever owned.'},\n",
       " 98: {'review_id': 153,\n",
       "  'review_time': '2024-08-29',\n",
       "  'like': 0,\n",
       "  'review': 'bro knew what he was doing with that ad break when he took the hammer out',\n",
       "  'review_processed': 'bro knew what he was doing with that ad break when he took the hammer out'},\n",
       " 99: {'review_id': 155,\n",
       "  'review_time': '2024-08-28',\n",
       "  'like': 0,\n",
       "  'review': 'i absolutely love the look. I would prefer if it was satin stealth matte black. But it is very sci fi futuristic and the aesthetics are super cool. I feel like the online hate is largely due to Elons polarizing personality.',\n",
       "  'review_processed': \"I would prefer if it was satin stealthy, but it is very sci-fi futuristic and the aesthetics are super cool. I feel like the online hate is largely due to Elon's\"},\n",
       " 100: {'review_id': 157,\n",
       "  'review_time': '2024-08-28',\n",
       "  'like': 0,\n",
       "  'review': 'I dunno if it’s because of the way the sun reflects off the metal or if it’s CGI, but some of the vids don’t look real',\n",
       "  'review_processed': 'I dunno if its because of the way the sun reflects off the metal or if its CGI, but some of the vids dont look real'},\n",
       " 101: {'review_id': 158,\n",
       "  'review_time': '2024-08-28',\n",
       "  'like': 0,\n",
       "  'review': \"your money, your choice, remember Arnold driving his Humvee around LA that was quite a sight.  I sure hope this ain't the future.  For every solution addressed via innovation, there is a subsequent problem created.  I can't wait for the humanoid robot which I also think will be bullet proof against small caliber weapons.\",\n",
       "  'review_processed': \"For every solution addressed via innovation, there is a subsequent problem created. I can't wait for the humanoid robot which I also think will be bullet proof against small caliber weapons.\"},\n",
       " 102: {'review_id': 160,\n",
       "  'review_time': '2024-08-27',\n",
       "  'like': 1,\n",
       "  'review': \"I will never care about even the best of sound systems, accelaration, looks, steering in a car\\nif at the same time it is a safety disaster.\\nThis isn't a phone, your choice of vehicle can endanger your AND OTHER PEOPLE'S lifes.\\nCrumple zones are important. In a crash you won't win, your car will. It might not be totalled (at least from the outside) but you will be.\\nThis needs to be adressed.\",\n",
       "  'review_processed': \"I will never care about even the best of sound systems, accelaration, looks, or steering in a car if at the same time it is a safety disaster. In a crash you won't win, your car will. It might not be totalled, but you will be hurt.\"},\n",
       " 103: {'review_id': 161,\n",
       "  'review_time': '2024-08-27',\n",
       "  'like': 0,\n",
       "  'review': 'Please do not use the self-driving feature of your Tesla, thank you.',\n",
       "  'review_processed': 'Please do not use the self-driving feature of your Tesla, thank you.'},\n",
       " 104: {'review_id': 163,\n",
       "  'review_time': '2024-08-27',\n",
       "  'like': 0,\n",
       "  'review': '\"If someone hits you, you\\'ll be fine... *you\\'ll* be fine.\" Yep, you might be charged with manslaughter even though they might\\'ve survived if your truck was aluminium, but *you\\'ll* be fine.',\n",
       "  'review_processed': \"You might be charged with manslaughter even though they might've survived if your truck was aluminium, but you'll be fine.\"},\n",
       " 105: {'review_id': 164,\n",
       "  'review_time': '2024-08-26',\n",
       "  'like': 0,\n",
       "  'review': 'YES! The STEERING BY WIRE/ REAR WHEEL STEERING is wonderful!! As much as my CYBERBEAST cost I want everything perfect but I know I am a Beta Tester. So far my biggest complaint is that I have to drive 250 miles to get service!\\nI’m liking it a lot more than I did the first week or so, but if I had been able to have a test drive…I wouldn’t have bought it!\\nIt’s such a pain in the ASS to change what you are listening to. Definitely First World Problems. Poor Me!',\n",
       "  'review_processed': 'As much as my computer cost, I want everything perfect, but I know I am a Beta Tester. My biggest complaint is that I have to drive 250 miles to get service.'},\n",
       " 106: {'review_id': 166,\n",
       "  'review_time': '2024-08-25',\n",
       "  'like': 0,\n",
       "  'review': 'A true hallmark of failure. lol.',\n",
       "  'review_processed': 'A true hallmark of failure. lol.'},\n",
       " 107: {'review_id': 167,\n",
       "  'review_time': '2024-08-25',\n",
       "  'like': 0,\n",
       "  'review': 'Not gonna lie. I went crazy when i first seen one on the road',\n",
       "  'review_processed': 'Not gonna lie. I went crazy when i first seen one on the road'},\n",
       " 108: {'review_id': 171,\n",
       "  'review_time': '2024-08-24',\n",
       "  'like': 0,\n",
       "  'review': 'I like the look of it. It’s different and eye catching.',\n",
       "  'review_processed': 'I like the look of it. Its different and eye catching.'},\n",
       " 109: {'review_id': 172,\n",
       "  'review_time': '2024-08-24',\n",
       "  'like': 1,\n",
       "  'review': 'Oof... This is a cybertruck commercial. Not a review',\n",
       "  'review_processed': 'Oof... This is a cybertruck commercial. Not a review'},\n",
       " 110: {'review_id': 174,\n",
       "  'review_time': '2024-08-23',\n",
       "  'like': 0,\n",
       "  'review': 'Lmao, calling this a review is ridiculous.',\n",
       "  'review_processed': 'Lmao, calling this a review is ridiculous.'},\n",
       " 111: {'review_id': 176,\n",
       "  'review_time': '2024-08-22',\n",
       "  'like': 0,\n",
       "  'review': \"Wrong analogy. Same thought but this time imagine a VW beetle. You're too young to remember when they first hit the street. Same reactions as the cybertruck. Millions of them  on the road and that same feeling lingers....Very rare to obtain true icon status. Jury is still out on the Cybertruck.\",\n",
       "  'review_processed': \"You're too young to remember when they first hit the street. Millions of them on the road and that same feeling lingers.\"},\n",
       " 112: {'review_id': 177,\n",
       "  'review_time': '2024-08-21',\n",
       "  'like': 1,\n",
       "  'review': 'To some of y’all here: Stop complaining and move on if you’re so repelled by a frikin car. Seriously gtfoh and go to a video that bashes the cybertruck. It’s not a casual daily driver and is meant to be an outlandish “truck”.',\n",
       "  'review_processed': \"Stop complaining and move on if you're so repelled by a frikin car. It's not a casual daily driver and is meant to be an outlandish truck.\"},\n",
       " 113: {'review_id': 178,\n",
       "  'review_time': '2024-08-21',\n",
       "  'like': 0,\n",
       "  'review': 'Davis Nancy Lee David Martin Jeffrey',\n",
       "  'review_processed': 'Davis Nancy Lee David Martin Jeffrey'},\n",
       " 114: {'review_id': 179,\n",
       "  'review_time': '2024-08-20',\n",
       "  'like': 0,\n",
       "  'review': 'ARK II',\n",
       "  'review_processed': 'ARK II'},\n",
       " 115: {'review_id': 182,\n",
       "  'review_time': '2024-08-20',\n",
       "  'like': 1,\n",
       "  'review': \"Being iconic doesn't mean it's not crap. The Reliant Robin is incredibly famous and iconic because of its flaws, for example.\",\n",
       "  'review_processed': \"Being iconic doesn't mean it's not crap. The Reliant Robin is incredibly famous and iconic because of its flaws, for example.\"},\n",
       " 116: {'review_id': 183,\n",
       "  'review_time': '2024-08-19',\n",
       "  'like': 1,\n",
       "  'review': \"It's an iconic piece of crap. Stop being a Musk fanboy.\",\n",
       "  'review_processed': \"It's an iconic piece of crap. Stop being a Musk fanboy.\"},\n",
       " 117: {'review_id': 185,\n",
       "  'review_time': '2024-08-19',\n",
       "  'like': 0,\n",
       "  'review': 'White Nancy Jackson Betty Jackson Jason',\n",
       "  'review_processed': 'White Nancy Jackson Betty Jackson Jason'},\n",
       " 118: {'review_id': 186,\n",
       "  'review_time': '2024-08-19',\n",
       "  'like': 0,\n",
       "  'review': 'It’s very weird to me that Marques considers variable ratio steer by wire a good feature.\\n\\nThe tech equivalent would be to use mouse acceleration on a computer. Yuck.\\n\\nGordon’s T50 did it the correct way. Clutched in power steering at low speeds, not variable ratio.',\n",
       "  'review_processed': \"It's weird that Marques considers variable ratio steer by wire a good feature. The tech equivalent would be to use mouse acceleration on a computer.\"},\n",
       " 119: {'review_id': 187,\n",
       "  'review_time': '2024-08-18',\n",
       "  'like': 0,\n",
       "  'review': \"If someone hits you... you will not be fine... your car will... but you won't. There's a big reason why every car is designed to crumble in an accident\",\n",
       "  'review_processed': \"There's a big reason why every car is designed to crumble in an accident. You will not be fine; your car will, but you won't.\"},\n",
       " 120: {'review_id': 190,\n",
       "  'review_time': '2024-08-18',\n",
       "  'like': 0,\n",
       "  'review': 'The F150 is a conservative fashion statement.  You know, like \"I have small hands so I buy the biggest truck I can find to make up for my inadequacies, wasting 400 gallons of fuel annually!',\n",
       "  'review_processed': 'The F150 is a conservative fashion statement. You know, like \"I have small hands, so I buy the biggest truck I can find to make up for my inadequacies'},\n",
       " 121: {'review_id': 192,\n",
       "  'review_time': '2024-08-17',\n",
       "  'like': 0,\n",
       "  'review': 'They gave you steer by wire and four wheel steering, but you paid for drive automation it doesn’t have. Perhaps the two are related since a non variable steering column is programmed differently than the one the truck needs. But you paid for it.',\n",
       "  'review_processed': \"They gave you steer by wire and four wheel steering, but you paid for drive automation it doesn't have.\"},\n",
       " 122: {'review_id': 193,\n",
       "  'review_time': '2024-08-17',\n",
       "  'like': 0,\n",
       "  'review': 'The cybertruck is an icon of the dystopian future! A future that doesn’t work! A warning for anyone who might think of buying a Tesla!',\n",
       "  'review_processed': 'The cybertruck is an icon of the dystopian future! A future that doesnt work! A warning for anyone who might think of buying a Tesla!'},\n",
       " 123: {'review_id': 194,\n",
       "  'review_time': '2024-08-16',\n",
       "  'like': 0,\n",
       "  'review': 'Iconic?  Yes.  Good?  No.',\n",
       "  'review_processed': 'Iconic?  Yes.  Good?  No.'},\n",
       " 124: {'review_id': 197,\n",
       "  'review_time': '2024-08-16',\n",
       "  'like': 0,\n",
       "  'review': 'The Windows Are So Dope!!!',\n",
       "  'review_processed': 'The Windows Are So Dope!!!'},\n",
       " 125: {'review_id': 198,\n",
       "  'review_time': '2024-08-16',\n",
       "  'like': 0,\n",
       "  'review': 'Black man made the design way b4 this truck ever hit the market! We are looking @ a truck that already tried to get created but just now got the technology to bring it to life',\n",
       "  'review_processed': 'Black man made the design way before this truck ever hit the market! We are looking at a truck that already tried to get created but just now got the technology'},\n",
       " 126: {'review_id': 199,\n",
       "  'review_time': '2024-08-16',\n",
       "  'like': 0,\n",
       "  'review': 'Bro… Maybe I should do my research but how do you get all of this technology… I gotta get my game up though & for sure will invest soon!',\n",
       "  'review_processed': \"I should do my research but how do you get all this technology? I must get my game up; I'll invest soon\"},\n",
       " 127: {'review_id': 200,\n",
       "  'review_time': '2024-08-16',\n",
       "  'like': 0,\n",
       "  'review': 'Might take a couple years for people to not behave like that frfr',\n",
       "  'review_processed': 'Might take a couple years for people to not behave like that frfr'},\n",
       " 128: {'review_id': 201,\n",
       "  'review_time': '2024-08-15',\n",
       "  'like': 1,\n",
       "  'review': 'The winch on the back of the tesla cybertruck being strapped on by PLASTIC is a crime in istelf',\n",
       "  'review_processed': 'The winch on the back of the tesla cybertruck being strapped on by PLASTIC is a crime in istelf'},\n",
       " 129: {'review_id': 202,\n",
       "  'review_time': '2024-08-14',\n",
       "  'like': 1,\n",
       "  'review': 'I think you meant \"moronic\".',\n",
       "  'review_processed': 'I think you meant \"moronic\".'},\n",
       " 130: {'review_id': 203,\n",
       "  'review_time': '2024-08-14',\n",
       "  'like': 0,\n",
       "  'review': 'That is very smart thinking and I totally agree with that. Kinda sad that the brain must go burrr, get more ego horsepower. The Cybertruck,  Is the most American made truck on the planet and also the fastest truck.',\n",
       "  'review_processed': 'The Cybertruck is the most American made truck on the planet and also the fastest truck.'},\n",
       " 131: {'review_id': 204,\n",
       "  'review_time': '2024-08-14',\n",
       "  'like': 0,\n",
       "  'review': 'Being iconic is, A normal every day person recognizing you car instantly 50 year later. This will be the one of a few that will truly be “iconic”',\n",
       "  'review_processed': 'Being iconic is, A normal every day person recognizing you car instantly 50 year later. This will be the one of a few that will truly be iconic'},\n",
       " 132: {'review_id': 205,\n",
       "  'review_time': '2024-08-14',\n",
       "  'like': 0,\n",
       "  'review': 'This right here is the benchmark of PRODUCT REVIEWS just immaculate mkbhd',\n",
       "  'review_processed': 'This right here is the benchmark of PRODUCT REVIEWS just immaculate mkbhd'},\n",
       " 133: {'review_id': 206,\n",
       "  'review_time': '2024-08-14',\n",
       "  'like': 0,\n",
       "  'review': 'It looks like that robot from the movie,  THE DAY THE EARTH STOOD STILL. Thus makes it totally awesome.',\n",
       "  'review_processed': 'It looks like that robot from the movie,  THE DAY THE EARTH STOOD STILL. Thus makes it totally awesome.'},\n",
       " 134: {'review_id': 207,\n",
       "  'review_time': '2024-08-13',\n",
       "  'like': 0,\n",
       "  'review': 'Haha I\\'ll be laughing at people who want to get this truck because they want to be \"environmentally friendly.\" Trust me, there is nothing environmentally friendly about a big vehicle. Get a small gas-powered sedan instead if you want to help the environment.',\n",
       "  'review_processed': 'There is nothing environmentally friendly about a big vehicle. Get a small gas-powered sedan instead if you want to help the environment.'},\n",
       " 135: {'review_id': 208,\n",
       "  'review_time': '2024-08-13',\n",
       "  'like': 1,\n",
       "  'review': 'The Jar Jar Bonks of cars.',\n",
       "  'review_processed': 'The Jar Jar Bonks of cars.'},\n",
       " 136: {'review_id': 209,\n",
       "  'review_time': '2024-08-13',\n",
       "  'like': 0,\n",
       "  'review': 'one thing i want to say, the truck has steer by wire meaning if it gets stuck in mud it will be almost impossible to get out without the help of another truck or winch',\n",
       "  'review_processed': 'If the truck gets stuck in mud, it will be almost impossible to get out without the help of another truck or a winch.'},\n",
       " 137: {'review_id': 212,\n",
       "  'review_time': '2024-08-12',\n",
       "  'like': 0,\n",
       "  'review': \"Just keep one thing in mind, the cybertruck and like everything else in the world is not for everyone, I personally like it but wouldn't get one till at a later date when some of the issues do get fixed, looks and appearance do not matter to me just like with people I simply do not care what you look like, if it drives and it is suitable for me then I like it, simple as that. (This comment is aimed towards the viewers)\",\n",
       "  'review_processed': \"Like everything else in the world, the bicycle is not for everyone. I like it, but wouldn't get one until at a later date when some issues are fixed. I simply don't care what you look like, if it drives and it is suitable for me, I enjoy it, simple as that.\"},\n",
       " 138: {'review_id': 214,\n",
       "  'review_time': '2024-08-11',\n",
       "  'like': 0,\n",
       "  'review': 'Is robocop iconic? Because it looks like something out of robocop',\n",
       "  'review_processed': 'Is robocop iconic? Because it looks like something out of robocop'},\n",
       " 139: {'review_id': 215,\n",
       "  'review_time': '2024-08-11',\n",
       "  'like': 0,\n",
       "  'review': 'The Volkswagen bug is iconic and heavily mass produced.',\n",
       "  'review_processed': 'The Volkswagen bug is iconic and heavily mass produced.'},\n",
       " 140: {'review_id': 220,\n",
       "  'review_time': '2024-08-09',\n",
       "  'like': 0,\n",
       "  'review': 'Auto focus review has more views than this high production review : Ironic !',\n",
       "  'review_processed': 'Auto focus review has more views than this high production review : Ironic !'},\n",
       " 141: {'review_id': 221,\n",
       "  'review_time': '2024-08-08',\n",
       "  'like': 0,\n",
       "  'review': '7:30 I just don’t understand why you’d want a super duper sturdy exterior. If someone hits you, you’ll be fine, but if you run into a tree at high speed you’ll die. To go from idk 90 km/h to 0, something has to absorb the energy, and if it’s not the car, it’s your squishy self.',\n",
       "  'review_processed': \"I don't understand why you'd want a super duper sturdy exterior. To go from 90 km/h to 0, something has to absorb the energy, and if its not the car, it's your squishy self.\"},\n",
       " 142: {'review_id': 223,\n",
       "  'review_time': '2024-08-06',\n",
       "  'like': 0,\n",
       "  'review': 'Not me learning that its not available in Australia :(',\n",
       "  'review_processed': 'Not me learning that its not available in Australia :('},\n",
       " 143: {'review_id': 224,\n",
       "  'review_time': '2024-08-06',\n",
       "  'like': 0,\n",
       "  'review': 'Seeing the background made me notice it went through my hometown, while I was outside talking with locals. I saw a cyber truck pass by. Might have been this one lol',\n",
       "  'review_processed': 'I saw a cyber truck pass through my hometown while I was outside talking with locals.'},\n",
       " 144: {'review_id': 225,\n",
       "  'review_time': '2024-08-06',\n",
       "  'like': 0,\n",
       "  'review': 'Honestly the more I see them on the road the less impressive I get .. just not my taste for the grey/silver but that all black one 😏',\n",
       "  'review_processed': 'Honestly the more I see them on the road the less impressive I get .. just not my taste for the grey/silver but that all black one '},\n",
       " 145: {'review_id': 227,\n",
       "  'review_time': '2024-08-05',\n",
       "  'like': 1,\n",
       "  'review': \"Karmann Ghia. mass produced. you'll get more looks with that thing than a Lamborghini any day of the week.\",\n",
       "  'review_processed': \"Karmann Ghia. mass produced. you'll get more looks with that thing than a Lamborghini any day of the week.\"},\n",
       " 146: {'review_id': 228,\n",
       "  'review_time': '2024-08-05',\n",
       "  'like': 2,\n",
       "  'review': 'In 20 years, this car will be on a list of the worst cars ever. Its been a disaster',\n",
       "  'review_processed': 'In 20 years, this car will be on a list of the worst cars ever. Its been a disaster'},\n",
       " 147: {'review_id': 230,\n",
       "  'review_time': '2024-08-05',\n",
       "  'like': 0,\n",
       "  'review': 'the problem is thta the cybertruct is just a fun truck, is not about thing that an actual truck can do.  makes no sense. why would someone be racing on a cybetruck?',\n",
       "  'review_processed': 'The problem is that the structure is just a fun truck, is not about things that an actual truck can do. It makes no sense.'},\n",
       " 148: {'review_id': 231,\n",
       "  'review_time': '2024-08-04',\n",
       "  'like': 0,\n",
       "  'review': 'Iconic... for the wrong reasons.',\n",
       "  'review_processed': 'Iconic... for the wrong reasons.'},\n",
       " 149: {'review_id': 233,\n",
       "  'review_time': '2024-08-03',\n",
       "  'like': 0,\n",
       "  'review': 'Alright, now take it to a car wash',\n",
       "  'review_processed': 'Alright, now take it to a car wash'},\n",
       " 150: {'review_id': 234,\n",
       "  'review_time': '2024-08-03',\n",
       "  'like': 0,\n",
       "  'review': 'They are everywhere on every road here in Northern California 😅😅😅😅 No one pays attention to them as much as the owners which they did.',\n",
       "  'review_processed': 'They are everywhere on every road here in Northern California  No one pays attention to them as much as the owners which they did.'},\n",
       " 151: {'review_id': 235,\n",
       "  'review_time': '2024-08-03',\n",
       "  'like': 0,\n",
       "  'review': 'YOUR VISEOS ARE TOP NOTCH!  THANKS SO MUCH!',\n",
       "  'review_processed': 'YOUR VISEOS ARE TOP NOTCH!  THANKS SO MUCH!'},\n",
       " 152: {'review_id': 236,\n",
       "  'review_time': '2024-08-03',\n",
       "  'like': 1,\n",
       "  'review': 'This shit aint a review...',\n",
       "  'review_processed': 'This shit aint a review...'},\n",
       " 153: {'review_id': 238,\n",
       "  'review_time': '2024-08-02',\n",
       "  'like': 0,\n",
       "  'review': 'Tbf I think the exterior design is the best bit. It just look so cool ( in my opinion)',\n",
       "  'review_processed': 'Tbf I think the exterior design is the best bit. It just look so cool ( in my opinion)'},\n",
       " 154: {'review_id': 239,\n",
       "  'review_time': '2024-08-01',\n",
       "  'like': 0,\n",
       "  'review': \"Suprised MKBHD hasn't been canceled yet for not jumping on the elon hate\",\n",
       "  'review_processed': \"Suprised MKBHD hasn't been canceled yet for not jumping on the elon hate\"},\n",
       " 155: {'review_id': 241,\n",
       "  'review_time': '2024-07-31',\n",
       "  'like': 1,\n",
       "  'review': 'I like this video so much. If you dont mind, I would like to ask your permission to share this video to the other website in China for the embarrassing reason that you Youtbe is blocked from accessing in China. Of course, I will give sources of the original website. Thank you very much.',\n",
       "  'review_processed': 'I like this video so much. I would like to ask your permission to share it to the other website in China for the embarrassing reason that you are blocked from accessing in China. Of course, I will give sources of the original website.'},\n",
       " 156: {'review_id': 243,\n",
       "  'review_time': '2024-07-30',\n",
       "  'like': 0,\n",
       "  'review': 'Well my personal truck only gets used for towing a few times a year, but the invaluable part is just having an open ended bed. I use that all the time. Of course there are cheaper options for open ended beds, but an SUV is absolutely not the same use case.',\n",
       "  'review_processed': 'My personal truck only gets used for towing a few times a year, but the invaluable part is just having an open ended bed. I use that all the time.'},\n",
       " 157: {'review_id': 244,\n",
       "  'review_time': '2024-07-29',\n",
       "  'like': 2,\n",
       "  'review': 'i actually like the design. Very futuristic. And about damn time',\n",
       "  'review_processed': 'i actually like the design. Very futuristic. And about damn time'},\n",
       " 158: {'review_id': 245,\n",
       "  'review_time': '2024-07-29',\n",
       "  'like': 1,\n",
       "  'review': 'This was a really good fair review.',\n",
       "  'review_processed': 'This was a really good fair review.'},\n",
       " 159: {'review_id': 248,\n",
       "  'review_time': '2024-07-28',\n",
       "  'like': 0,\n",
       "  'review': \"Isn't the wheal add a risk of serious hazard ? What happen if, for a reason or another, teir is a dysfounction in the transmission of inputs ? \\n\\nYou crash while mechanicaly, everything is working ?\\n\\nBehind the cool first impression, sounds a really dumb idea to me\",\n",
       "  'review_processed': \"Behind the cool first impression, it sounds like a really dumb idea to me. Isn't the wheal adding a risk of serious hazard? What happens if there is a problem with the transmission of inputs?\"},\n",
       " 160: {'review_id': 250,\n",
       "  'review_time': '2024-07-27',\n",
       "  'like': 0,\n",
       "  'review': \"The first time is saw it when it was just being launched i was like that's the ugliest car I've ever seen.. now, i don't know maahn It's incredible how you can be easily influenced by Society.😂😂\",\n",
       "  'review_processed': \"The first time I saw it, I thought it was the ugliest car I'd ever seen. It's incredible how you can be easily influenced by society.\"},\n",
       " 161: {'review_id': 251,\n",
       "  'review_time': '2024-07-26',\n",
       "  'like': 0,\n",
       "  'review': 'I would pull my hoody over my head too when stepping out of a cyber truck.',\n",
       "  'review_processed': 'I would pull my hoody over my head too when stepping out of a cyber truck.'},\n",
       " 162: {'review_id': 252,\n",
       "  'review_time': '2024-07-25',\n",
       "  'like': 0,\n",
       "  'review': 'I literally expected marques to tear the cybertruck apart for how shitty it is but instead got suprised by the way he was glazing it',\n",
       "  'review_processed': 'I literally expected marques to tear the cybertruck apart for how shitty it is but instead got suprised by the way he was glazing it'},\n",
       " 163: {'review_id': 256,\n",
       "  'review_time': '2024-07-24',\n",
       "  'like': 1,\n",
       "  'review': 'Barley mentioned the interior or safety,.. very bad look marques',\n",
       "  'review_processed': 'Barley mentioned the interior or safety,.. very bad look marques'},\n",
       " 164: {'review_id': 258,\n",
       "  'review_time': '2024-07-23',\n",
       "  'like': 0,\n",
       "  'review': 'I would rather it in full mat black with some bigger OS rims',\n",
       "  'review_processed': 'I would rather it in full mat black with some bigger OS rims'},\n",
       " 165: {'review_id': 260,\n",
       "  'review_time': '2024-07-23',\n",
       "  'like': 0,\n",
       "  'review': 'Looks like a dumpster and that’s why eyeballs pop out',\n",
       "  'review_processed': 'Looks like a dumpster and thats why eyeballs pop out'},\n",
       " 166: {'review_id': 261,\n",
       "  'review_time': '2024-07-22',\n",
       "  'like': 0,\n",
       "  'review': 'Elon Musk loves back to the future.',\n",
       "  'review_processed': 'Elon Musk loves back to the future.'},\n",
       " 167: {'review_id': 263,\n",
       "  'review_time': '2024-07-22',\n",
       "  'like': 0,\n",
       "  'review': 'Are you... sure the most dangerous thing isn\\'t its lack of crumple zone?\\nI was really interested in your channel, from the buzz about your \"controversial\" review, but it feels incredibly disengenuous how much you gloss over really important problems with this vehicle.The highlights seem great, and I can agree with a lot of those innovative pieces of tech in the vehicle being useful, but did they need to be in a rigid body steel block, that you cannot see out the back of without taking your eyes completely off the road?',\n",
       "  'review_processed': \"Are you sure the most dangerous thing isn't its lack of a crumple zone? It feels disengaged how much you gloss over really important problems with this vehicle. I can agree with a lot of those innovative pieces of tech being useful, but did they need to be in a rigid body steel block, that you cannot see out the back of without taking your eyes completely off the road?\"},\n",
       " 168: {'review_id': 264,\n",
       "  'review_time': '2024-07-21',\n",
       "  'like': 0,\n",
       "  'review': 'I was invited to the second step and gave Tesla  another $1000. There’s something off though so let me know what you think:\\n1. I did the original preorder in June 2021. I figured I was somewhere between 150k-200k based on some articles I read at the time. The recent recalls where they are forced to publish figures suggest Tesla made some 12K trucks by July 2024. So, how did I get invited unless like 80-90% dropped out?!\\n2. I am looking on CarGurus now and the Cyberbeast, which is like 131k for the tag, is being sold in multiple states for 140k-143k which is a modest premium and is almost breakeven\\n\\nDoes this sound like what was advertised? I think I have another 2-3 months before they call me for the final payment and delivery but this is starting to look like a major flop and I might have to walk away since cheaper to let go of the deposits than pick up a car which could be depreciating like the rest of the Teslas. Where can I see reliable information on how many cars they made and how many preorders still exist?\\n\\nAlso, was considering renting it on Turo for like $350-400/day. Thoughts on the feasibility?',\n",
       "  'review_processed': 'I was invited to the second step and gave Tesla  another $1000. The Cyberbeast, which is like 131k for the tag, is being sold in multiple states for 140k-143k. I think I have another 2-3 months before they call me for the final payment and delivery. This is starting to look like a major flop and I might have to walk away.'},\n",
       " 169: {'review_id': 265,\n",
       "  'review_time': '2024-07-21',\n",
       "  'like': 1,\n",
       "  'review': 'Good ❤ Sound Quality on this Video. Great work here man! 👍',\n",
       "  'review_processed': 'Good  Sound Quality on this Video. Great work here man! '},\n",
       " 170: {'review_id': 266,\n",
       "  'review_time': '2024-07-20',\n",
       "  'like': 0,\n",
       "  'review': 'you also forget to mention the BIGGEST thing when towing your range gets at least cut in half or more, as a reviewer thats a critical thing you need to mention tbh',\n",
       "  'review_processed': 'You forgot to mention the biggest thing when towing your range gets at least cut in half or more.'},\n",
       " 171: {'review_id': 267,\n",
       "  'review_time': '2024-07-20',\n",
       "  'like': 0,\n",
       "  'review': \"honestly tech reviewers reviewing vehicles is just not a good idea tbh!, they don't i think truly understand what customers want especially in trucks, they focus on alot of the tech, that steering wheel thing really isn't special lets be real but he never reviews average joe cars\",\n",
       "  'review_processed': \"Tech reviewers reviewing vehicles is just not a good idea, honestly. They don't truly understand what customers want. They focus too much on the tech, and the steering wheel isn't special.\"},\n",
       " 172: {'review_id': 268,\n",
       "  'review_time': '2024-07-19',\n",
       "  'like': 0,\n",
       "  'review': \"Your 911 Turbo is an iconic design that's evolved over what, 60 years? And how many tens of thousands of them are on the roads?\",\n",
       "  'review_processed': \"Your 911 Turbo is an iconic design that's evolved over what, 60 years? And how many tens of thousands of them are on the roads?\"},\n",
       " 173: {'review_id': 270,\n",
       "  'review_time': '2024-07-18',\n",
       "  'like': 0,\n",
       "  'review': 'Can you get it lifted?',\n",
       "  'review_processed': 'Can you get it lifted?'},\n",
       " 174: {'review_id': 272,\n",
       "  'review_time': '2024-07-17',\n",
       "  'like': 0,\n",
       "  'review': '\"steer by wire\" or electric power steering exists even on Russian Ladas. Tesla are the new king of turning 50 year old technology into an innovative feature.',\n",
       "  'review_processed': 'Electric power steering exists even on Russian Ladas.'},\n",
       " 175: {'review_id': 273,\n",
       "  'review_time': '2024-07-17',\n",
       "  'like': 0,\n",
       "  'review': \"also like... is it fine? is it fine that you buy a fking massive truck that you can't see like half a metre in front of the dashboard and would literally flatten a cyclist on impact  just cos it looks cool... and not cos you need it to perform literally any of the functions it is SO BIG and dangerous to achieve?\",\n",
       "  'review_processed': \"Is it fine that you buy a massive truck that you can't see half a metre in front of the dashboard and would literally flatten a cyclist on impact just because it looks cool? And not because you need it to perform any of the functions it is SO big and dangerous to achieve?\"},\n",
       " 176: {'review_id': 274,\n",
       "  'review_time': '2024-07-17',\n",
       "  'like': 0,\n",
       "  'review': 'Very well researched, as usual.   Thx.  I think I will order mine.',\n",
       "  'review_processed': 'Very well researched, as usual.   Thx.  I think I will order mine.'},\n",
       " 177: {'review_id': 277,\n",
       "  'review_time': '2024-07-15',\n",
       "  'like': 0,\n",
       "  'review': 'Pavement princess',\n",
       "  'review_processed': 'Pavement princess'},\n",
       " 178: {'review_id': 279,\n",
       "  'review_time': '2024-07-14',\n",
       "  'like': 0,\n",
       "  'review': 'So one thing the steering mechanisem is soooo overrated because if get dirt over the sensors or the sensor are blocked from anything your gone so i think its pretty overrated',\n",
       "  'review_processed': \"The steering mechanism is so overrated because if you get dirt over the sensors or the sensors are blocked from anything, you're\"},\n",
       " 179: {'review_id': 280,\n",
       "  'review_time': '2024-07-13',\n",
       "  'like': 0,\n",
       "  'review': 'you got the best presentation skill in the world.',\n",
       "  'review_processed': 'you got the best presentation skill in the world.'},\n",
       " 180: {'review_id': 282,\n",
       "  'review_time': '2024-07-12',\n",
       "  'like': 0,\n",
       "  'review': 'It’s ugly and beautiful at the same time. Brilliant! ✨',\n",
       "  'review_processed': 'Its ugly and beautiful at the same time. Brilliant! '},\n",
       " 181: {'review_id': 285,\n",
       "  'review_time': '2024-07-11',\n",
       "  'like': 1,\n",
       "  'review': 'I look at it because Im still shocked at the lack of creativity that went into the design by the team at the local kindergarten.',\n",
       "  'review_processed': 'I look at it because Im still shocked at the lack of creativity that went into the design by the team at the local kindergarten.'},\n",
       " 182: {'review_id': 286,\n",
       "  'review_time': '2024-07-11',\n",
       "  'like': 0,\n",
       "  'review': '...the intro was so cool I got whiplash to the panning of the actual truck because I forgot how stupid it looked.',\n",
       "  'review_processed': '...the intro was so cool I got whiplash to the panning of the actual truck because I forgot how stupid it looked.'},\n",
       " 183: {'review_id': 287,\n",
       "  'review_time': '2024-07-11',\n",
       "  'like': 0,\n",
       "  'review': 'I am old enough to remember the PT cruiser and yes- thought the design was super cool. But then I drove it and it was a DOG. Not just bad, terrible. Cyber Truck? I wasn’t crazy about the design but after driving it?? Sweet! ❤',\n",
       "  'review_processed': \"I thought the design was super cool, but then I drove it and it was a dog. Not just bad, terrible. I wasn't crazy about the design, but after driving it, it was sweet!\"},\n",
       " 184: {'review_id': 289,\n",
       "  'review_time': '2024-07-10',\n",
       "  'like': 0,\n",
       "  'review': 'Tesla has been Suckering these people. That Tin Can looks Horrendous. The Interior literally has an Ipad as a Dashboard 😅.',\n",
       "  'review_processed': 'Tesla has been Suckering these people. That Tin Can looks Horrendous. The Interior literally has an Ipad as a Dashboard .'},\n",
       " 185: {'review_id': 292,\n",
       "  'review_time': '2024-07-10',\n",
       "  'like': 0,\n",
       "  'review': 'I heard its a 💩.',\n",
       "  'review_processed': 'I heard its a .'},\n",
       " 186: {'review_id': 293,\n",
       "  'review_time': '2024-07-10',\n",
       "  'like': 0,\n",
       "  'review': 'Jeeze did I like that video. One of the best review ever made by Marquee. So informative while being entertaining.',\n",
       "  'review_processed': 'Jeeze did I like that video. One of the best review ever made by Marquee. So informative while being entertaining.'},\n",
       " 187: {'review_id': 294,\n",
       "  'review_time': '2024-07-09',\n",
       "  'like': 1,\n",
       "  'review': 'being iconic means a historic distance to begin with. further it has to put a mark on an era, to become its symbol. this monstrosity is a testament of times it was created in at best: purposeless, impotent, ugly... fake.',\n",
       "  'review_processed': \"Being iconic means a historic distance to begin with. It has to put a mark on an era, to become its symbol. This monstrosity is a testament of times it was created in at best. It's purpose\"},\n",
       " 188: {'review_id': 295,\n",
       "  'review_time': '2024-07-09',\n",
       "  'like': 0,\n",
       "  'review': 'I cant even imagine what it would cost to repair these trucks after a mild accident. I think its safe to say most body shops have no experience fixing stainless steel body panels. You cant just fill with bondo and color match the paint..',\n",
       "  'review_processed': \"I can't imagine what it would cost to repair these trucks after a mild accident. Most body shops have no experience fixing stainless steel body panels. You can't just fill with bondo and color match the paint\"},\n",
       " 189: {'review_id': 296,\n",
       "  'review_time': '2024-07-09',\n",
       "  'like': 0,\n",
       "  'review': 'I don\\'t think the wacky design will wear off on people when it\\'s mass produced. I see goofy cars like the Nissan Cube all the time and I still always think \"why would you buy that?\" Dodge Rams are also getting very popular where I live (I see them almost daily now) and I think the same thing. When cars stick out like a sore thumb, I don\\'t think people will be desensitised.',\n",
       "  'review_processed': 'I don\\'t think the wacky design will wear off on people when it\\'s mass produced. I see goofy cars like the Nissan Cube all the time and I always think \"why would you buy that?\" Dodge Rams are also getting very popular where I live and I think the same thing.'},\n",
       " 190: {'review_id': 298,\n",
       "  'review_time': '2024-07-06',\n",
       "  'like': 0,\n",
       "  'review': \"I'm so happy this is a topic for a MBL video because the rubber necking trend around certain vehicles can be extremely dangerous, and its interesting to see it brought to the ultimate level here.\",\n",
       "  'review_processed': \"I'm so happy this is a topic for a MBL video because the rubber necking trend around certain vehicles can be extremely dangerous.\"},\n",
       " 191: {'review_id': 299,\n",
       "  'review_time': '2024-07-06',\n",
       "  'like': 0,\n",
       "  'review': 'Damn i never thought there would be uglier car coming from the usa.',\n",
       "  'review_processed': 'Damn i never thought there would be uglier car coming from the usa.'},\n",
       " 192: {'review_id': 300,\n",
       "  'review_time': '2024-07-06',\n",
       "  'like': 0,\n",
       "  'review': 'Wow. This is gonna be a W garbage can upgrade 🔥🔥🔥🔥',\n",
       "  'review_processed': 'Wow. This is gonna be a W garbage can upgrade '},\n",
       " 193: {'review_id': 302,\n",
       "  'review_time': '2024-07-04',\n",
       "  'like': 0,\n",
       "  'review': 'I’ll never forget in middle school everyone picked on me for being awkward!\\n\\nNow that I’m older and rich everyone from high school that went to College still think I’m AWKWARD…\\nBut worth more 😊',\n",
       "  'review_processed': \"In middle school, everyone picked on me for being awkward. Now that I'm older and richer, everyone from high school that went to college still\"},\n",
       " 194: {'review_id': 304,\n",
       "  'review_time': '2024-07-03',\n",
       "  'like': 0,\n",
       "  'review': 'the VW was also mass produced but still iconic.',\n",
       "  'review_processed': 'the VW was also mass produced but still iconic.'},\n",
       " 195: {'review_id': 309,\n",
       "  'review_time': '2024-07-02',\n",
       "  'like': 0,\n",
       "  'review': \"Maaaan, he's so nervous he's gonna say the wrong thing. If he comes out as an Elon bootlicker, it's over . If he pisses off Elon bootlickers, it's over. I swear he was clenching his asshole so tight the microphone picked up the sound :D\",\n",
       "  'review_processed': \"He's so nervous he's gonna say the wrong thing. If he comes out as an Elon bootlicker, it's over. I swear he was clenching his ass so tight the microphone picked up the sound.\"},\n",
       " 196: {'review_id': 310,\n",
       "  'review_time': '2024-07-01',\n",
       "  'like': 19,\n",
       "  'review': 'You come across as a fan boy ofvthis product and not an unbiased reviewer.  You failed to mention any of the safety issues with this vehicle.  The less than stellar brakes, the aharp edges, the failure to consider the damage to other people if this hits them.  Pump the 0 to 60 but whats the 60 to 0.  Fail to mention this vehicle has no independent crash test data.  I could go on.  I have seen you review many other products with a more critical eye.',\n",
       "  'review_processed': 'You come across as a fan boy of this product and not an unbiased reviewer. You failed to mention any of the safety issues with this vehicle. The less than stellar brakes, the aharp edges, the failure to consider the damage to other people if this hits them.'},\n",
       " 197: {'review_id': 313,\n",
       "  'review_time': '2024-07-01',\n",
       "  'like': 0,\n",
       "  'review': 'Giving a lot of leeway to tesla, that you dont give to other mfg.',\n",
       "  'review_processed': 'Giving a lot of leeway to tesla, that you dont give to other mfg.'},\n",
       " 198: {'review_id': 316,\n",
       "  'review_time': '2024-07-01',\n",
       "  'like': 0,\n",
       "  'review': \"The steering you completely ignore the fact that there's almost a full second delay at high speed and because you don't have any road feel feeding back into that steering wheel it's going to lead people to oversteer and overcompensate.  Other reviews have shown suburbans having as good or better turn radius.\",\n",
       "  'review_processed': \"You ignore the fact that there's almost a full second delay at high speed, and because you don't have any road feel feeding back into that steering wheel, it's going to lead people to oversteer and overcompensate.\"},\n",
       " 199: {'review_id': 319,\n",
       "  'review_time': '2024-06-29',\n",
       "  'like': 0,\n",
       "  'review': 'The most dangerous thing is the hundreds of thousands of men, women, and children in the Congo crammed into industrial cobalt mines to get the resources for vain luxuries such as this that we seem to take such pleasure in flaunting.',\n",
       "  'review_processed': 'The most dangerous thing is the hundreds of thousands of people crammed into industrial cobalt mines to get the resources for vain luxuries.'},\n",
       " 200: {'review_id': 321,\n",
       "  'review_time': '2024-06-29',\n",
       "  'like': 0,\n",
       "  'review': 'So you are here to just endorse the cybertruck 💰? This is not a review !',\n",
       "  'review_processed': 'So you are here to just endorse the cybertruck ? This is not a review !'},\n",
       " 201: {'review_id': 322,\n",
       "  'review_time': '2024-06-29',\n",
       "  'like': 0,\n",
       "  'review': \"Looks like a stealth lunar rover.  When they reach end of life, we can load them all onto Elon's SpaceX rockets and decorate the moon with them.  All those stainless steel mirrors will reflect a lot more moonlight onto the earth at night, so we'll be able to save some electricity at night.\",\n",
       "  'review_processed': \"When they reach end of life, we can load them all onto Elon's SpaceX rockets and decorate the moon with them. Those stainless steel mirrors will reflect a lot more moonlight onto the earth at night, so we'll be able to save some electricity at night.\"},\n",
       " 202: {'review_id': 324,\n",
       "  'review_time': '2024-06-28',\n",
       "  'like': 0,\n",
       "  'review': 'I suppose the Elephant Man got alot of stares as well, is his look iconic?',\n",
       "  'review_processed': 'I suppose the Elephant Man got alot of stares as well, is his look iconic?'},\n",
       " 203: {'review_id': 326,\n",
       "  'review_time': '2024-06-28',\n",
       "  'like': 1,\n",
       "  'review': \"I think one of the most impressive aspects of the truck is how they've managed to remove the risk of anybody keying your car. Now all you need to do is run your finger across the body, and you've fcked it up well enough.\",\n",
       "  'review_processed': \"I think one of the most impressive aspects of the truck is how they've managed to remove the risk of anybody keying your car. Now all you need to do is run your finger across the body, and you've f\"},\n",
       " 204: {'review_id': 329,\n",
       "  'review_time': '2024-06-27',\n",
       "  'like': 0,\n",
       "  'review': 'Looks like a mac on wheels. Im surprised thats not apple that owns it.',\n",
       "  'review_processed': 'Looks like a mac on wheels. Im surprised thats not apple that owns it.'},\n",
       " 205: {'review_id': 330,\n",
       "  'review_time': '2024-06-27',\n",
       "  'like': 0,\n",
       "  'review': 'So when a steering sensor fails then what? Is there some other way to control the vehicle?',\n",
       "  'review_processed': 'So when a steering sensor fails then what? Is there some other way to control the vehicle?'},\n",
       " 206: {'review_id': 331,\n",
       "  'review_time': '2024-06-27',\n",
       "  'like': 0,\n",
       "  'review': 'It’s hardly iconic. It’s already been proven to be an unreliable POS disaster. Tesla should be utterly embarrassed by their lack of quality control and care in craftsmanship. In a few years independent used car lots will be selling these for $15K.',\n",
       "  'review_processed': 'In a few years, independent used car lots will be selling these for $15K.'},\n",
       " 207: {'review_id': 332,\n",
       "  'review_time': '2024-06-26',\n",
       "  'like': 0,\n",
       "  'review': \"pretty sure the biker gave you the thumbs down because he understands that if he gets in an accident with a cyber truck he's dead\",\n",
       "  'review_processed': \"pretty sure the biker gave you the thumbs down because he understands that if he gets in an accident with a cyber truck he's dead\"},\n",
       " 208: {'review_id': 333,\n",
       "  'review_time': '2024-06-25',\n",
       "  'like': 0,\n",
       "  'review': 'Ohhhh its iconic already. Probably not for the reason youd like. A cool vehicle does not illict the urge to point and laugh at it when it passes.',\n",
       "  'review_processed': 'A cool vehicle does not give the urge to point and laugh at it when it passes.'},\n",
       " 209: {'review_id': 336,\n",
       "  'review_time': '2024-06-24',\n",
       "  'like': 0,\n",
       "  'review': 'What happens when you get into a accident are there crumple zone to protect your body from the effects of the impact?  The skin does not seem to allow that if it’s “ indestructible”',\n",
       "  'review_processed': 'What happens when you get into an accident are there crumple zones to protect your body from the effects of the impact? The skin does not seem'},\n",
       " 210: {'review_id': 337,\n",
       "  'review_time': '2024-06-24',\n",
       "  'like': 0,\n",
       "  'review': 'Bullet proof stainless steel overrated 🤓 real MF’s realizing that tupac would still be alive rn if he was in the “overrated stainless steel cybertruck',\n",
       "  'review_processed': 'Bullet proof stainless steel overrated  real MFs realizing that tupac would still be alive rn if he was in the overrated stainless steel cybertruck'},\n",
       " 211: {'review_id': 338,\n",
       "  'review_time': '2024-06-23',\n",
       "  'like': 0,\n",
       "  'review': 'I’ll get one when I retire in a few years',\n",
       "  'review_processed': 'Ill get one when I retire in a few years'},\n",
       " 212: {'review_id': 342,\n",
       "  'review_time': '2024-06-21',\n",
       "  'like': 0,\n",
       "  'review': 'Bunch of Tanks rolling around the streets , will look like foreigner country where everyone is forced to look and drive the same thing. Hilarious and when the government decides to shut you down you wont be able to drive your car or worst there is an issue with Electricity and your dead in the water because you cant charge',\n",
       "  'review_processed': \"Bunch of tanks rolling around the streets will look like a foreign country where everyone is forced to look and drive the same thing. When the government decides to shut you down, you won't be able to drive your car or there is an issue with electricity and you're dead in\"},\n",
       " 213: {'review_id': 343,\n",
       "  'review_time': '2024-06-21',\n",
       "  'like': 0,\n",
       "  'review': 'I never knew so many people cared about the safety of others until I read the comments in this video.',\n",
       "  'review_processed': 'I never knew so many people cared about the safety of others until I read the comments in this video.'},\n",
       " 214: {'review_id': 346,\n",
       "  'review_time': '2024-06-20',\n",
       "  'like': 1,\n",
       "  'review': \"The straight line speed has always been a bit ridiculous considering you'd bin the car into the ditch at the slightest curve in the road...\",\n",
       "  'review_processed': \"The straight line speed has always been a bit ridiculous considering you'd bin the car into the ditch at the slightest curve in the road...\"},\n",
       " 215: {'review_id': 347,\n",
       "  'review_time': '2024-06-19',\n",
       "  'like': 0,\n",
       "  'review': \"The cybertruck isn't the first car with ss body panels.  The delorean was SS as well.\",\n",
       "  'review_processed': \"The cybertruck isn't the first car with ss body panels.  The delorean was SS as well.\"},\n",
       " 216: {'review_id': 348,\n",
       "  'review_time': '2024-06-19',\n",
       "  'like': 0,\n",
       "  'review': 'This gotta be the most iconic intro ever !',\n",
       "  'review_processed': 'This gotta be the most iconic intro ever !'},\n",
       " 217: {'review_id': 350,\n",
       "  'review_time': '2024-06-18',\n",
       "  'like': 1,\n",
       "  'review': \"I'm just glad that this thing is not legal in the civilized world.\",\n",
       "  'review_processed': \"I'm just glad that this thing is not legal in the civilized world.\"},\n",
       " 218: {'review_id': 351,\n",
       "  'review_time': '2024-06-18',\n",
       "  'like': 0,\n",
       "  'review': 'Dude, once the price drops at the end of the year, nobody is going to be looking anymore. Stick to the actual features',\n",
       "  'review_processed': 'Dude, once the price drops at the end of the year, nobody is going to be looking anymore. Stick to the actual features'},\n",
       " 219: {'review_id': 352,\n",
       "  'review_time': '2024-06-18',\n",
       "  'like': 0,\n",
       "  'review': \"I think it looks decently cool. For a pickup truck, it's good. The issue is that Tesla's testing and QC is garbage. They're basically killing people\",\n",
       "  'review_processed': \"I think it looks decently cool. For a pickup truck, it's good. The issue is that Tesla's testing and QC is garbage.\"},\n",
       " 220: {'review_id': 355,\n",
       "  'review_time': '2024-06-17',\n",
       "  'like': 0,\n",
       "  'review': 'I live on the island of Hawaii. My husband and I just saw this vehicle on our street. Our first impression was, “WOW! That looks like an alien car🤦🏽\\u200d♀️! Maybe it is a movie prop.”',\n",
       "  'review_processed': 'My husband and I just saw this vehicle on our street. Our first impression was, WOW! That looks like an alien car! Maybe it is a movie prop.'},\n",
       " 221: {'review_id': 356,\n",
       "  'review_time': '2024-06-16',\n",
       "  'like': 1,\n",
       "  'review': 'It’s ugly and stupid. End of review.',\n",
       "  'review_processed': 'Its ugly and stupid. End of review.'},\n",
       " 222: {'review_id': 359,\n",
       "  'review_time': '2024-06-15',\n",
       "  'like': 1,\n",
       "  'review': \"This video is a perfect summation of why I don't like this guy's content.  It's a review of hype that's both too vague and far too narrow.\",\n",
       "  'review_processed': \"This video is a perfect summation of why I don't like this guy's content. It's a review of hype that's both too vague\"},\n",
       " 223: {'review_id': 360,\n",
       "  'review_time': '2024-06-15',\n",
       "  'like': 0,\n",
       "  'review': \"✋unbelievable , company like tesla is making such worst design, as it looks like just thy have to launch the vehicle they have launched, secondly it's reflection during day will hamper the other car driver.\",\n",
       "  'review_processed': \"It looks like they have to launch the vehicle they have launched. It's reflection during the day will hamper the other car driver.\"},\n",
       " 224: {'review_id': 363,\n",
       "  'review_time': '2024-06-13',\n",
       "  'like': 0,\n",
       "  'review': 'An entire 30 minute \"review\" and not a single negative thing mentioned. I never lost so much respect for Marques as I did watching this.',\n",
       "  'review_processed': 'An entire 30 minute \"review\" and not a single negative thing mentioned. I never lost so much respect for Marques as I did watching this.'},\n",
       " 225: {'review_id': 365,\n",
       "  'review_time': '2024-06-12',\n",
       "  'like': 0,\n",
       "  'review': \"The design looks like it was inspired by a razor blade and sharks and I'm here for it. Coolest thing on the road!\",\n",
       "  'review_processed': \"The design looks like it was inspired by a razor blade and sharks and I'm here for it. Coolest thing on the road!\"},\n",
       " 226: {'review_id': 366,\n",
       "  'review_time': '2024-06-12',\n",
       "  'like': 0,\n",
       "  'review': \"I remember someone has a video where they mentioned that the Cybertruck is basically Musk's brain child and it basically encompasses what's wrong with his mindset\\nThe truck is fast and cool looking sure, but also hugely impractical and is basically an engineer's nightmare. \\n\\nThe product wouldn't have been mass produced had it not been for Musk throwing money at it.\",\n",
       "  'review_processed': \"The Cybertruck is basically Musk's brainchild and it encompasses what's wrong with his mindset. It's fast and cool looking, but hugely impractical and is basically an engineer's nightmare.\"},\n",
       " 227: {'review_id': 368,\n",
       "  'review_time': '2024-06-12',\n",
       "  'like': 0,\n",
       "  'review': 'Looks like something from Total Recall… the original movie with Arnold.. not that crapstain remake',\n",
       "  'review_processed': 'Looks like something from Total Recall the original movie with Arnold.. not that crapstain remake'},\n",
       " 228: {'review_id': 369,\n",
       "  'review_time': '2024-06-12',\n",
       "  'like': 0,\n",
       "  'review': 'Piece of unprotected steel, hence the \"truck\" with the smallest trunk. Idk what\\'s iconic about this car, besides the looks.',\n",
       "  'review_processed': 'Piece of unprotected steel, hence the \"truck\" with the smallest trunk. Idk what\\'s iconic about this car, besides the looks.'},\n",
       " 229: {'review_id': 373,\n",
       "  'review_time': '2024-06-11',\n",
       "  'like': 85,\n",
       "  'review': \"Was this just a product placement video?  No mention of the rapid rusting?  Or the user manual that states you shouldn't wash it in sunlight, or leave it out in the rain? No mention of the reliability issues and the panels falling off?\\n🤔\",\n",
       "  'review_processed': \"No mention of the rapid rusting. Or the user manual that states you shouldn't wash it in sunlight, or leave it out in the rain.\"},\n",
       " 230: {'review_id': 374,\n",
       "  'review_time': '2024-06-10',\n",
       "  'like': 1,\n",
       "  'review': 'Yeah Marques I\\'m gonna be honest I\\'ve been kinda falling out of love with your reviews the last few years and I think this was the final nail in the coffin. Too many reviews where you fall over yourself to manufacture an enthusiasm about something that is obviously very flawed, to the point of glossing over and sometimes outright ignoring a lot of glaring issues. From the beginning I already couldn\\'t take this video seriously, the montage of people taking pictures just made me roll my eyes so hard, especially with the hindsight that most of those folks were almost certainly taking pictures to make fun of it to their friends later. And to call that the \"most dangerous thing about the Cybertruck\" while speeding past it\\'s more minor, well-known issues and then not addressing any of the other more serious problems that make this hunk of junk as unsafe as it is. This review has already aged very poorly in just a few months, but that into is gonna mean less than nothing in like four months when the novelty of seeing one in the wild has worn off and the general public has gotten bored or tired of seeing it. Hell, if anything the more real \"danger\" is that I\\'d be willing to bet a significant amount of drivers will be nastier to and more inclined to drive aggressively around a Cybertruck than other vehicles. \\n\\nI just kinda feel like if you\\'re not gonna take a product review seriously and be honest and real about it, why do the review at all?\\n\\nHaven\\'t seen the video you did about it for your car review channel, hoping that one is better but I\\'m not holding my breath. Tbh I might just skip it.',\n",
       "  'review_processed': \"I can't take this video seriously; the montage of people taking pictures just made me roll my eyes so hard. This review has already aged very poorly in just a few months, but that into is gonna mean less than nothing in like four months when the novelty of seeing one in the wild has worn off and the general public has gotten bored or tired of seeing it. I just kinda feel like if you're not gonna take a product review seriously and be honest and real about it, why do the review at all?\"},\n",
       " 231: {'review_id': 378,\n",
       "  'review_time': '2024-06-10',\n",
       "  'like': 0,\n",
       "  'review': 'Marques, this video throws your credibility out the fken window. If this is how you gloss over all the problems and ignore most of the complaints, then I imagine a lot of your videos are just as bad, but hard to notice unless your very well versed in the tech...',\n",
       "  'review_processed': \"This video throws your credibility out the window. If this is how you gloss over all the problems and ignore most of the complaints, then I imagine a lot of your videos are just as bad, but hard to notice unless you're very well versed in\"},\n",
       " 232: {'review_id': 379,\n",
       "  'review_time': '2024-06-09',\n",
       "  'like': 0,\n",
       "  'review': \"As for guessing the price, I think it's not surprising people guess way over, it's kinda like guessing a woman's age, you want to go safely complementary if you have any social awareness about you.\",\n",
       "  'review_processed': \"As for guessing the price, I think it's not surprising people guess way over. It's like guessing a woman's age; you want to go safely if you have any social\"},\n",
       " 233: {'review_id': 380,\n",
       "  'review_time': '2024-06-09',\n",
       "  'like': 0,\n",
       "  'review': \"Who did the intro? It's fantastic.\",\n",
       "  'review_processed': \"Who did the intro? It's fantastic.\"},\n",
       " 234: {'review_id': 382,\n",
       "  'review_time': '2024-06-08',\n",
       "  'like': 0,\n",
       "  'review': 'woww',\n",
       "  'review_processed': 'woww'},\n",
       " 235: {'review_id': 383,\n",
       "  'review_time': '2024-06-08',\n",
       "  'like': 0,\n",
       "  'review': \"I mean, I get what he's saying regarding the towing issue, but...what about the other 37% of people who DO want towing? That's still, like, millions of people, right?\\n\\nI think he also missed another aspect that people use trucks for and that is a large bed to transport large things. Plywood, gravel, tools, furniture... I think the average truck owner probably *does* use this feature at least somewhat regularly. And the cybertruck's bed just isn't all that large.\\n\\nIf you actually needed that functionality and wanted an ev, the cybertruck is just nowhere near a viable option...\",\n",
       "  'review_processed': \"I get what he's saying regarding the towing issue, but what about the other 37% of people who DO want towing? That's still millions of people, right? I think he also missed another aspect that people use trucks for and that is a large bed to transport large things. And the cybertruck's bed just isn't all that large.\"},\n",
       " 236: {'review_id': 384,\n",
       "  'review_time': '2024-06-08',\n",
       "  'like': 0,\n",
       "  'review': \"I think it won't be the same fate as the PT cruiser, because while one is typecast as being the one bought used by normal people with not a lot of money, this will always be the marker of a tool with more money than sense.\",\n",
       "  'review_processed': \"I think it won't have the same fate as the PT cruiser, because while one is typecast as being the one bought used by normal people with not a lot of money, this will always be the marker of a\"},\n",
       " 237: {'review_id': 385,\n",
       "  'review_time': '2024-06-07',\n",
       "  'like': 0,\n",
       "  'review': 'I feel like the Cybertruck is only iconic because of how ugly it is. It catches your eye because it stands out like a sore thumb.',\n",
       "  'review_processed': 'I feel like the Cybertruck is only iconic because of how ugly it is. It catches your eye because it stands out like a sore thumb.'},\n",
       " 238: {'review_id': 386,\n",
       "  'review_time': '2024-06-07',\n",
       "  'like': 0,\n",
       "  'review': 'Why not talk about the safety concerns regarding driving around in a bullet proof tin can. No such thing as a bullet proof crumple zone',\n",
       "  'review_processed': 'Why not talk about the safety concerns regarding driving around in a bullet proof tin can. No such thing as a bullet proof crumple zone'},\n",
       " 239: {'review_id': 387,\n",
       "  'review_time': '2024-06-07',\n",
       "  'like': 0,\n",
       "  'review': \"Didn't learn anything new about the ugly tuck, but certainly learned not to listen to this fanboy\",\n",
       "  'review_processed': \"Didn't learn anything new about the ugly tuck, but certainly learned not to listen to this fanboy\"},\n",
       " 240: {'review_id': 388,\n",
       "  'review_time': '2024-06-07',\n",
       "  'like': 1,\n",
       "  'review': 'Honestly saw In real and it looks amazing so unique.. I love it personally',\n",
       "  'review_processed': 'Honestly saw In real and it looks amazing so unique.. I love it personally'},\n",
       " 241: {'review_id': 390,\n",
       "  'review_time': '2024-06-07',\n",
       "  'like': 0,\n",
       "  'review': \"C'mon... really???\\nIt's an updated Delorean!\",\n",
       "  'review_processed': \"C'mon... really???\\nIt's an updated Delorean!\"},\n",
       " 242: {'review_id': 391,\n",
       "  'review_time': '2024-06-06',\n",
       "  'like': 0,\n",
       "  'review': \"I didn't know about cybertruck before the reviews started coming.\\nAnd I'm very online though not on social media like facebook or reddit and I'm not into cars at all.\",\n",
       "  'review_processed': \"I didn't know about cybertruck before the reviews started coming. I'm very online, but not on social media like Facebook or Reddit, and\"},\n",
       " 243: {'review_id': 392,\n",
       "  'review_time': '2024-06-06',\n",
       "  'like': 1,\n",
       "  'review': \"Its ugly, over priced and we already know that Tesla Employees have abused the Camera System on Teslas to Spy on people in their own homes (garage) in the past. There is Also the MAJOR ISSUE OF BATTERY RECYCLING THAT EVERYONE IGNORES (LACK OF).\\n\\nSo the only staring that you'd get from me is the in disbelief someone wasted their money yet again.\\n\\nAnyone remember how many miles the Tesla Semi is supposed to go before it breaks down (Garaunteed by Elon)? Wasn't it a million miles?  Hahaha snake oil salesman.\\n\\nGuess GM is just as bad, selling your info to insurance companies and data brokers etc...\\n\\nEver thought of covering those real world issues? Or NO, might hurt the wallet too much?\",\n",
       "  'review_processed': \"The only thing you'd get from me is the disbelief that someone wasted their money yet again. Anyone remember how many miles the Tesla Semi is supposed to go before it breaks down? Wasn't it a million miles? Hahaha. I guess GM is just as bad, selling your info to insurance companies and data brokers.\"},\n",
       " 244: {'review_id': 395,\n",
       "  'review_time': '2024-06-05',\n",
       "  'like': 0,\n",
       "  'review': 'Does anyone know what kind of hoodie Marques is wearing?',\n",
       "  'review_processed': 'Does anyone know what kind of hoodie Marques is wearing?'},\n",
       " 245: {'review_id': 396,\n",
       "  'review_time': '2024-06-04',\n",
       "  'like': 0,\n",
       "  'review': \"Its iconically shitty that's for sure.\",\n",
       "  'review_processed': \"Its iconically shitty that's for sure.\"},\n",
       " 246: {'review_id': 402,\n",
       "  'review_time': '2024-06-04',\n",
       "  'like': 0,\n",
       "  'review': \"Steer by wire is overrated. Prove is that you hadn't yet realized that most cars you were driving for the past ten years have steer by wire.\\nJudging by how you rate it I assume the steering calibration and drive train od the cybertruck is underrated.\",\n",
       "  'review_processed': \"Steer by wire is overrated. Prove is that you hadn't yet realized that most cars you were driving for the past ten years have steered by wire.\"},\n",
       " 247: {'review_id': 403,\n",
       "  'review_time': '2024-06-04',\n",
       "  'like': 0,\n",
       "  'review': 'People stop making EM filthy rich.  He is smart at fooling people to buy his crap.  He is another Enron in the making.  Burn your $$ instead of giving to him.',\n",
       "  'review_processed': 'He is smart at fooling people to buy his crap. He is another Enron in the making. Burn your money instead of giving to him.'},\n",
       " 248: {'review_id': 405,\n",
       "  'review_time': '2024-06-04',\n",
       "  'like': 1,\n",
       "  'review': \"was in santa barbara last week for vacation and saw a surprising number of them, or the same one over and over, cant tell coz they are all the same 'colour'!\",\n",
       "  'review_processed': \"I was in Santa Barbara last week for vacation and saw a surprising number of people, or the same one over and over. I can't tell\"},\n",
       " 249: {'review_id': 406,\n",
       "  'review_time': '2024-06-03',\n",
       "  'like': 0,\n",
       "  'review': '\"They had to get creative\" that\\'s a funny way to describe misleading advertisements.',\n",
       "  'review_processed': '\"They had to get creative\" that\\'s a funny way to describe misleading advertisements.'},\n",
       " 250: {'review_id': 408,\n",
       "  'review_time': '2024-06-03',\n",
       "  'like': 1,\n",
       "  'review': 'He completely brushes off pedestrian safety. This is almost like a paid for endorsement.',\n",
       "  'review_processed': 'He completely brushes off pedestrian safety. This is almost like a paid for endorsement.'},\n",
       " 251: {'review_id': 409,\n",
       "  'review_time': '2024-06-03',\n",
       "  'like': 0,\n",
       "  'review': \"I'm unhappy that this vehicle was released to the public with the frunk's original issue of potentially breaking off a finger if caught in the side while closing (yes, Tesla has since fixed this) or the other issue of potentially lacerating your face or losing an eye while the frunk lid is open (or the back corner of the bed). I see this as extremely dangerous and yet the governing bodies decided this was not enough of a public safety issue to care. What's the point of safety regulations if they're ignored? I guess now we wait for the potential lawsuits from injuries due to the Cybertruck being designed the way it was.\",\n",
       "  'review_processed': \"I'm unhappy that this vehicle was released to the public with the frunk's original issue of potentially breaking off a finger if caught in the side while closing. I see this as extremely dangerous and yet the governing bodies decided this was not enough of a public safety issue to care. I guess now we wait for the potential lawsuits from injuries due to the Cybertruck being designed the way it was.\"},\n",
       " 252: {'review_id': 410,\n",
       "  'review_time': '2024-06-03',\n",
       "  'like': 0,\n",
       "  'review': 'they are not pointing becuase they think its a cool car bro, hate to break it to you but they are making fun of you, the only reason its \"iconic\" is becuase there is finally a car worse than the ford pinto',\n",
       "  'review_processed': 'They are not pointing because they think it\\'s a cool car, but because they are making fun of you. The only reason it\\'s \"iconic\" is because there is finally a car worse than'},\n",
       " 253: {'review_id': 411,\n",
       "  'review_time': '2024-06-03',\n",
       "  'like': 0,\n",
       "  'review': \"26:30 NOOOO!!!!!!  The prowler is what's your name...\\n\\nnote... Where are those PT cruisers at now?\\n They were pieces of junk!\",\n",
       "  'review_processed': \"The prowler is what's your name? Where are those PT cruisers at now? They were pieces of junk!\"},\n",
       " 254: {'review_id': 413,\n",
       "  'review_time': '2024-06-03',\n",
       "  'like': 0,\n",
       "  'review': \"I didn't want to buy this truck until watching this video.\\n yep I don't want to buy this truck.\\n give me a mega cab dully Cummins\",\n",
       "  'review_processed': \"I didn't want to buy this truck until watching this video.\\n yep I don't want to buy this truck.\\n give me a mega cab dully Cummins\"},\n",
       " 255: {'review_id': 414,\n",
       "  'review_time': '2024-06-03',\n",
       "  'like': 0,\n",
       "  'review': 'Bit of a Tesla fanboy, so far your only flaw. Not this video. But in general.',\n",
       "  'review_processed': 'Bit of a Tesla fanboy, so far your only flaw. Not this video. But in general.'},\n",
       " 256: {'review_id': 415,\n",
       "  'review_time': '2024-06-03',\n",
       "  'like': 0,\n",
       "  'review': 'as time goes on, video games look better. from polygon ps2 games to hyper realistic ps5 games\\nas time goes on, cars does the oposit. from stylish normal cars, to ps2 polygon unrendered cars',\n",
       "  'review_processed': 'As time goes on, video games look better. From polygon ps2 games to hyper realistic ps5 games, cars do the opposite.'},\n",
       " 257: {'review_id': 416,\n",
       "  'review_time': '2024-06-03',\n",
       "  'like': 0,\n",
       "  'review': \"Do you not know how to drag race do don't start from idle when the light drops the car should already be up in the rpm especially for a turbo\",\n",
       "  'review_processed': \"Do you know how to drag race? Don't start from idle when the light drops; the car should already be up in the rpm\"},\n",
       " 258: {'review_id': 417,\n",
       "  'review_time': '2024-06-02',\n",
       "  'like': 0,\n",
       "  'review': \"There are a lot of things that have been said about the review and such, but one thing is the comparison to the size of an F-150;  It's shorter, but it's about the length of a mid-sized F-150 model and is considerably wider.  What gives?\",\n",
       "  'review_processed': \"It's shorter, but it's about the length of a mid-sized F-150 model and is considerably wider. What gives?\"},\n",
       " 259: {'review_id': 418,\n",
       "  'review_time': '2024-06-02',\n",
       "  'like': 0,\n",
       "  'review': 'one of the ugliest vehicles ever. looks like a lazy design',\n",
       "  'review_processed': 'one of the ugliest vehicles ever. looks like a lazy design'},\n",
       " 260: {'review_id': 419,\n",
       "  'review_time': '2024-06-02',\n",
       "  'like': 0,\n",
       "  'review': '😂it looks like a refrigerator on wheels',\n",
       "  'review_processed': 'it looks like a refrigerator on wheels'},\n",
       " 261: {'review_id': 420,\n",
       "  'review_time': '2024-06-02',\n",
       "  'like': 0,\n",
       "  'review': \"I think it's time to talk about of CEO of the Company your channel covers.  I strongly feel that he's undermining the institutions of our country pushing false conspiracy theories.  He is on the phone reportedly with the former President several times a month now and this person was recently convicted of 34 felonies by a jury of his peers, and his corporation was recently convicted of 17 felonies as well.  Elon is claiming without evidence that the trial was politically motivated and not fair.  Not only that, but Elon is selling cars allegedly to help reduce carbon dioxide emissions, but has joined forces with a political party that has worked to prevent any Climate legislation for 40 years.  I've been following the Tesla development and brand for many years, but I feel the time has come now that we can't separate this CEO and this company from what it's CEO is working to do, which I feel is trying to destroy this great nation we live in.   Please consider this.  Thank you.\",\n",
       "  'review_processed': \"I think it's time to talk about the CEO of the company your channel covers. I strongly feel that he's undermining the institutions of our country pushing false conspiracy theories. He is on the phone reportedly with the former President several times a month now, and this person was recently convicted of 34 felonies.\"},\n",
       " 262: {'review_id': 422,\n",
       "  'review_time': '2024-06-02',\n",
       "  'like': 0,\n",
       "  'review': 'I heard there are bad blind spots.  True or false?',\n",
       "  'review_processed': 'I heard there are bad blind spots.  True or false?'},\n",
       " 263: {'review_id': 423,\n",
       "  'review_time': '2024-06-02',\n",
       "  'like': 0,\n",
       "  'review': 'You are brilliant.  You were enjoyable to watch.  :)',\n",
       "  'review_processed': 'You are brilliant.  You were enjoyable to watch.  :)'},\n",
       " 264: {'review_id': 425,\n",
       "  'review_time': '2024-06-02',\n",
       "  'like': 0,\n",
       "  'review': \"And why does nobody talk about the visibility... with the A-pillar where it is, and literally zero visibility out the back and in blind spots. Super unsafe and frustrating driving experience compared to a traditional truck design, which has existed for something like a century for a reason. If it ain't broke, it don't need fixin!\",\n",
       "  'review_processed': \"With the A-pillar where it is, and literally zero visibility out the back and in blind spots, it's super unsafe and frustrating driving experience compared to a traditional truck design.\"},\n",
       " 265: {'review_id': 426,\n",
       "  'review_time': '2024-06-02',\n",
       "  'like': 0,\n",
       "  'review': 'Cybertruck is like that episode of Seinfeld where the girl looked great in one kind of light, and like a ghoul in another type of light. It can look good from certain angles... but I watched one drive past today and, I mean, really.... it looks terrible',\n",
       "  'review_processed': 'Cybertruck is like that episode of Seinfeld where the girl looked great in one kind of light, and like a ghoul in another type of light. It can look good from certain angles, but I watched one drive past today and,'},\n",
       " 266: {'review_id': 427,\n",
       "  'review_time': '2024-06-02',\n",
       "  'like': 0,\n",
       "  'review': 'C’mon man! This thing is iconically terrible. No need for a 9mm round, just take an ice pick to the side panel.',\n",
       "  'review_processed': 'Cmon man! This thing is iconically terrible. No need for a 9mm round, just take an ice pick to the side panel.'},\n",
       " 267: {'review_id': 429,\n",
       "  'review_time': '2024-06-01',\n",
       "  'like': 0,\n",
       "  'review': \"This BS is peak late stage capitalism. There is no actual valid reason for this 'truck' to exist. Why does it exist? Because there are tons of people with lots of money who don't an ounce of common sense and Elon decided he can make a quick buck from them. But is it necessary, no. As resources dwindle, commiting vast resources into useless impractical stuff like this vehicle should be discouraged or even regulated.\",\n",
       "  'review_processed': \"There is no actual valid reason for this 'truck' to exist. There are tons of people with lots of money who don't have any common sense, and Elon decided he can make a quick buck from them.\"},\n",
       " 268: {'review_id': 430,\n",
       "  'review_time': '2024-06-01',\n",
       "  'like': 0,\n",
       "  'review': 'It is a very impractical vehicle. It is not a practical truck and the only reason to buy this monstrosity is as a gaudy attention grabber vehicle like Hummer H2/ H3. The only advantage it has is it being an EV but Rivian and Ford have much better EV trucks.',\n",
       "  'review_processed': 'It is not a practical truck and the only reason to buy it is as an attention grabber like the Hummer H2 and H3. The only advantage it has is it being an EV, but Rivian and Ford have much better'},\n",
       " 269: {'review_id': 431,\n",
       "  'review_time': '2024-06-01',\n",
       "  'like': 2,\n",
       "  'review': 'cybertruck review: \"ignore all the problems guys they\\'ll fix it in future\"\\n\\nhumane pin and fisker review: \"never trust companies on what they promise for the future, judge the the product at hand not what they say they will do in future\"\\n\\ni see what\\'s happening here',\n",
       "  'review_processed': '\"Never trust companies on what they promise for the future\" \"Judge the product at hand, not what they say they will do in future\"'},\n",
       " 270: {'review_id': 432,\n",
       "  'review_time': '2024-06-01',\n",
       "  'like': 1,\n",
       "  'review': 'How much did Elon pay for this???',\n",
       "  'review_processed': 'How much did Elon pay for this???'},\n",
       " 271: {'review_id': 433,\n",
       "  'review_time': '2024-06-01',\n",
       "  'like': 0,\n",
       "  'review': \"So when you're using the truck on set do you park it out of the sun and clean it with the special products to prevent it instantly rusting or ... ?\",\n",
       "  'review_processed': \"When you're using the truck on set, do you park it out of the sun and clean it with the special products to prevent it\"},\n",
       " 272: {'review_id': 434,\n",
       "  'review_time': '2024-06-01',\n",
       "  'like': 0,\n",
       "  'review': 'If Kanye can have the ppl wear expensive homeless clothes surely musk can have ppl drive an experience refrigerator around to look cool😂🤣',\n",
       "  'review_processed': 'If Kanye can have the ppl wear expensive homeless clothes surely musk can have ppl drive an experience refrigerator around to look cool'},\n",
       " 273: {'review_id': 435,\n",
       "  'review_time': '2024-06-01',\n",
       "  'like': 0,\n",
       "  'review': 'CyberCrap💩',\n",
       "  'review_processed': 'CyberCrap'},\n",
       " 274: {'review_id': 436,\n",
       "  'review_time': '2024-05-31',\n",
       "  'like': 0,\n",
       "  'review': 'Teste is subjective. \\nTo me the thing is  Iconically UGLY looking Car',\n",
       "  'review_processed': 'Teste is subjective. \\nTo me the thing is  Iconically UGLY looking Car'},\n",
       " 275: {'review_id': 438,\n",
       "  'review_time': '2024-05-31',\n",
       "  'like': 0,\n",
       "  'review': \"Aren't cars supposed to absorb the impact when in an accident to keep the people inside safe? And not just be a huge block of metal that could  potentially crush other normal cars??? Am I missing something here?\",\n",
       "  'review_processed': 'Are cars supposed to absorb the impact when in an accident to keep the people inside safe? And not just be a huge block of metal that could potentially crush other normal cars? Am I missing something here'},\n",
       " 276: {'review_id': 439,\n",
       "  'review_time': '2024-05-31',\n",
       "  'like': 1,\n",
       "  'review': 'Cybertruck buyers, I got just one question:\\nHow stupid do you feel? Now that you know what you gotten into.\\n\\nAlso, black and stainless are for appliances. Be real.',\n",
       "  'review_processed': \"I have just one question for you: How stupid do you feel? Now that you know what you've gotten into, how did you get into it\"},\n",
       " 277: {'review_id': 441,\n",
       "  'review_time': '2024-05-31',\n",
       "  'like': 0,\n",
       "  'review': 'i want this to be in transformers form',\n",
       "  'review_processed': 'i want this to be in transformers form'},\n",
       " 278: {'review_id': 442,\n",
       "  'review_time': '2024-05-31',\n",
       "  'like': 0,\n",
       "  'review': 'i love your review, quite insightful, good Job',\n",
       "  'review_processed': 'i love your review, quite insightful, good Job'},\n",
       " 279: {'review_id': 444,\n",
       "  'review_time': '2024-05-30',\n",
       "  'like': 0,\n",
       "  'review': \"16:54 :  'physics just takes over' might imply that physics was dormant during the race. Yet, physics was at play right from the onset for both cars, evident as the motor's induction generated instantaneous torque.\",\n",
       "  'review_processed': \"'Physics just takes over' might imply that physics was dormant during the race. Yet, physics was at play right from the onset for both cars, evident as the motor's induction\"},\n",
       " 280: {'review_id': 445,\n",
       "  'review_time': '2024-05-30',\n",
       "  'like': 0,\n",
       "  'review': 'Im here because i want to see the inside of it.',\n",
       "  'review_processed': 'Im here because i want to see the inside of it.'},\n",
       " 281: {'review_id': 446,\n",
       "  'review_time': '2024-05-29',\n",
       "  'like': 0,\n",
       "  'review': \"It's iconic, like the Edsel is, or the Microsoft Zune.\",\n",
       "  'review_processed': \"It's iconic, like the Edsel is, or the Microsoft Zune.\"},\n",
       " 282: {'review_id': 447,\n",
       "  'review_time': '2024-05-29',\n",
       "  'like': 1,\n",
       "  'review': \"While Marques is one of the most respectable tech youtubers, it's quite painful to watch this.\",\n",
       "  'review_processed': \"While Marques is one of the most respectable tech youtubers, it's quite painful to watch this.\"},\n",
       " 283: {'review_id': 448,\n",
       "  'review_time': '2024-05-29',\n",
       "  'like': 1,\n",
       "  'review': \"Having had the elecronics in a car shut down randomly with the dealer and mechanic having NO IDEA what happened, I'm sorry but I will NEVER trust a computer to proxy my steering no matter how high the benefits. And yes, I know that airplanes use the tech.\",\n",
       "  'review_processed': 'I will never trust a computer to proxy my steering, no matter how high the benefits. I know that airplanes use the tech.'},\n",
       " 284: {'review_id': 449,\n",
       "  'review_time': '2024-05-29',\n",
       "  'like': 8,\n",
       "  'review': \"This might turn out to be one of the worst lemons of all time.  I have never heard of a car having this many commonly-experienced issues, from ones that can render the vehicle un-driveable(red screen of death for indeterminate reasons, don't take it through a car wash) to ones that cause damage to it(the windshield wiper can catastrophically fail leading to scratching the windshield, setting suspension height to maximum can cause it to damage itself), to ones that are just unfortunate(rusting?  Tonneau cover seals getting jammed up?  Windshield wiper motors burning out?).  It's hard to keep up with the myriad array of issues that are *common* to this truck, and it's hardly been on the road a few months!  As they get driven more the issues just pile up, with people now reporting on the CT forums that their side mirrors are rattling/shaking, and a couple of people even reporting that their entire drivers-side door is shaking at speed.  It sounds like they're literally falling apart.\",\n",
       "  'review_processed': \"I have never heard of a car having this many commonly experienced issues. It's hard to keep up with the myriad array of issues that are common to this truck, and it's hardly been on the road a few months! As they get driven more the issues just pile up.\"},\n",
       " 285: {'review_id': 451,\n",
       "  'review_time': '2024-05-29',\n",
       "  'like': 0,\n",
       "  'review': 'PT Cruiser would have been cool if it had been a good car.  Mechanically it really was horrible. The ones I had the misfortune  to drive anyway.\\n\\nThe Cyber Truck sounds like a decent machine but its practicality is questionable. Throwing anything into the bed frkm the side looks impossible.  As does ladder racks and utility beds. You know, work stuff!',\n",
       "  'review_processed': 'The Cyber Truck sounds like a decent machine, but its practicality is questionable. Throwing anything into the bed from the side looks impossible.'},\n",
       " 286: {'review_id': 452,\n",
       "  'review_time': '2024-05-29',\n",
       "  'like': 3,\n",
       "  'review': 'I finally had a chance to see one of these up close and test drive one. It also had giant panel gaps all over and it’s build quality was also extremely poor outside AND in. The tires were damaged from the wheel covers, the dash panel was warped for some reason, and the bedcover was crooked. Also, I found out from the owner that this thing is so dangerous it can’t pass European safety standards. The leeway given in these reviews by Marques, saying future builds will fix all of these issues, is mind blowing to me. Especially, given the inconsistency in his criticism compared to other product reviews… Tearing other products apart for not launching in the condition for which they were promised by the company before launch, but in this video he just makes excuses again and again for all of the glaring problems and missing features when it comes to this literally poorly made steel death machine. It’s kind of astounding. Personally, I did find the drive by wire steering to be the best thing about the cybertruck after driving it. But they could have put that technology in anything else that wasn’t just poorly designed and poorly manufactured in so many other respects. I honestly question Marques’ ethical principles as a reviewer after watching these cybertruck reviews in comparison to his other reviews. Just disappointing.',\n",
       "  'review_processed': 'I found the drive by wire steering to be the best thing about the cybertruck after driving it. It also had giant panel gaps all over and its build quality was extremely poor outside and in. The leeway given in these reviews by Marques, saying future builds will fix all of these issues, is mind blowing to me given the inconsistency in his criticism compared to other product reviews.'},\n",
       " 287: {'review_id': 454,\n",
       "  'review_time': '2024-05-28',\n",
       "  'like': 0,\n",
       "  'review': 'I will always come back for more if you keep being as honest a reviewer as you have been thus far. Congrats',\n",
       "  'review_processed': 'I will always come back for more if you keep being as honest a reviewer as you have been thus far. Congrats'},\n",
       " 288: {'review_id': 456,\n",
       "  'review_time': '2024-05-28',\n",
       "  'like': 0,\n",
       "  'review': \"I'm sure someone else has said it, but it's roll and *pitch* (not yaw).\\n\\nAwesome review man. Really appreciate the real world insights 👍\",\n",
       "  'review_processed': \"I'm sure someone has said it before, but it's roll and pitch (not yaw). I appreciate the real world insights\"},\n",
       " 289: {'review_id': 458,\n",
       "  'review_time': '2024-05-28',\n",
       "  'like': 0,\n",
       "  'review': 'Anyone seen the crash test results? That its not published tells you it cant be good.',\n",
       "  'review_processed': 'Anyone seen the crash test results? That its not published tells you it cant be good.'},\n",
       " 290: {'review_id': 460,\n",
       "  'review_time': '2024-05-28',\n",
       "  'like': 1,\n",
       "  'review': 'sorry this was a propaganda clip; poor all the bicyclists and pedestrians or small cars which will be harmed by this needless truck (and indeed all SUVs and pickup trucks; the stat noted in this clip speaks for itself: hardly any pickup owner uses it for what it was designed and instead pickup trucks are used to be a bully on the road; pickup trucks have gotten so large that cannot fit into a standard home garage; so much for using an electric vehicle to be environmentally \"friendly\" (which would mean to be more cognizant of others on the road or living) and all that b/s about 0 to 60 or bulletproof windshield or body, gee,  image a braindead w/ AR who just shot-up a school and now wants to get away with a bullet proof Cybertruck; what has our society came down to) (almost everything the host said is wrong now, just about 2 months after the clip was published: Tesla making money on everything it does, I do not think so; keeping people employed, I do not think so; Tesla being innovative, I do not think so; Cybertruck be mass produced, I do not think so) (when do you suppose Cybertruck be sold in Europe: hum, not in my life time, because it does not meet pedestrian safety, to say the least)',\n",
       "  'review_processed': 'This was a propaganda clip; poor all the bicyclists and pedestrians who will be harmed by this needless truck. Almost everything the host said is wrong now, just about 2 months after the clip was published. So much for using an electric vehicle to be environmentally \"friendly\"; and all that b/s about 0 to 60 or bulletproof windshield or body; what has our society came down to?'},\n",
       " 291: {'review_id': 461,\n",
       "  'review_time': '2024-05-28',\n",
       "  'like': 0,\n",
       "  'review': '24\"27 Ameribros, what is a \"product person\"?',\n",
       "  'review_processed': '24\"27 Ameribros, what is a \"product person\"?'},\n",
       " 292: {'review_id': 462,\n",
       "  'review_time': '2024-05-28',\n",
       "  'like': 0,\n",
       "  'review': 'Who the hell thinks this thing looks cool? It looks incredibly stupid right out of the Jetsons or the 1982 Worlds Fair as \"the car of the future.\"',\n",
       "  'review_processed': 'Who the hell thinks this thing looks cool? It looks incredibly stupid right out of the Jetsons or the 1982 Worlds Fair as \"the'},\n",
       " 293: {'review_id': 463,\n",
       "  'review_time': '2024-05-27',\n",
       "  'like': 2,\n",
       "  'review': \"man, this video is not going to age well when you're calling this thing iconic while not engaging seriously with the information about safety issues, deceptive marketing and, and low standards that your peers have been very vocal about. This vehicle is everything wrong with western materialism.\",\n",
       "  'review_processed': \"This video is not going to age well when you're calling it iconic while not engaging seriously with the information about safety issues, deceptive marketing, and low standards. This vehicle is everything wrong with western materialism.\"},\n",
       " 294: {'review_id': 465,\n",
       "  'review_time': '2024-05-27',\n",
       "  'like': 0,\n",
       "  'review': 'This vehicle breaks more often than a 7th grade relationship. Not to mention, the people who buy these are lame as hell. Tesla is a terrible company run by a terrible person.',\n",
       "  'review_processed': 'This vehicle breaks more often than a 7th grade relationship. Not to mention, the people who buy these are lame as hell.'},\n",
       " 295: {'review_id': 468,\n",
       "  'review_time': '2024-05-27',\n",
       "  'like': 0,\n",
       "  'review': \"sweet, a truck that'll match the graphics on my N64. :P\",\n",
       "  'review_processed': \"sweet, a truck that'll match the graphics on my N64. :P\"},\n",
       " 296: {'review_id': 469,\n",
       "  'review_time': '2024-05-26',\n",
       "  'like': 0,\n",
       "  'review': 'This review is so nauseating. You can\\'t just say that the thing sucks at towing and offroading, you also have to defend it with \"oh you shouldn\\'t be taking this thing off road anyway\", even though it\\'s literally been advertised or at least heavily implied in advertisements that it\\'s an off road vehicle and has an off road mode. Defending the build quality when it shows atrocious QC, and believing Musk when he says that only 15 vehicles have been found with this fault, and somehow 2 out of those 15 made it to high profile reviewers? Yeah right. It\\'s actually gross, can you kiss Elon\\'s ass crack any harder?',\n",
       "  'review_processed': 'You can\\'t just say that the thing sucks at towing and offroading, you also have to defend it with \"oh you shouldn\\'t be taking this thing off road anyway\" It\\'s actually gross, can you kiss Elon\\'s ass any harder?'},\n",
       " 297: {'review_id': 471,\n",
       "  'review_time': '2024-05-26',\n",
       "  'like': 0,\n",
       "  'review': \"I actually don't think it's fine that people will use these just because it looks cool. Same with all of the giant SUVs and lifted pickups on the road nowadays. This shit is not safe for my baby corolla to get hit by.\",\n",
       "  'review_processed': \"I don't think it's fine that people will use these just because it looks cool. Same with all of the giant SUVs and lifted pickups on the road nowadays. This shit is not safe for my baby corolla\"},\n",
       " 298: {'review_id': 472,\n",
       "  'review_time': '2024-05-26',\n",
       "  'like': 3,\n",
       "  'review': 'Lol if the only positive thing you can think of is ‘people talk about it’ you’re not being real',\n",
       "  'review_processed': 'Lol if the only positive thing you can think of is people talk about it youre not being real'},\n",
       " 299: {'review_id': 474,\n",
       "  'review_time': '2024-05-26',\n",
       "  'like': 0,\n",
       "  'review': 'Cyberscam',\n",
       "  'review_processed': 'Cyberscam'},\n",
       " 300: {'review_id': 475,\n",
       "  'review_time': '2024-05-26',\n",
       "  'like': 1,\n",
       "  'review': 'I can get the same looks and interactions in my car from the 50’s. And an added bonus of old people sharing stories from back when they were my age and riding around in one. Sweet old people are the best.',\n",
       "  'review_processed': 'I can get the same looks and interactions in my car from the 50s. And an added bonus of old people sharing stories from back when they were my age and riding around in one.'},\n",
       " 301: {'review_id': 476,\n",
       "  'review_time': '2024-05-26',\n",
       "  'like': 0,\n",
       "  'review': \"I don't know why they didn't build the doors to open like a Delorean.\",\n",
       "  'review_processed': \"I don't know why they didn't build the doors to open like a Delorean.\"},\n",
       " 302: {'review_id': 477,\n",
       "  'review_time': '2024-05-25',\n",
       "  'like': 1,\n",
       "  'review': \"I think it's funny that the worst things about the cyber truck are elon related. The insistence on the design. The cutting corners and quality control. Even people assuming you're an asshole if you drive one is almost entirely down to musk\\n\\nthe engineering stuff underneath actually seem pretty cool. Wish they'd take the guts to make a more conventional truck that uses more competent design\",\n",
       "  'review_processed': \"I think it's funny that the worst things about the cyber truck are Elon related. The insistence on the design. The cutting corners and quality control. Even people assuming you're an asshole if you drive one.\"},\n",
       " 303: {'review_id': 478,\n",
       "  'review_time': '2024-05-25',\n",
       "  'like': 0,\n",
       "  'review': 'I always thought they looked dumb until I saw one in person and it made me smile. They are growing on me for sure.',\n",
       "  'review_processed': 'I always thought they looked dumb until I saw one in person and it made me smile. They are growing on me for sure.'},\n",
       " 304: {'review_id': 479,\n",
       "  'review_time': '2024-05-25',\n",
       "  'like': 0,\n",
       "  'review': 'Your entros are just INSANE!!!!!!!!!',\n",
       "  'review_processed': 'Your entros are just INSANE!!!!!!!!!'},\n",
       " 305: {'review_id': 482,\n",
       "  'review_time': '2024-05-24',\n",
       "  'like': 0,\n",
       "  'review': 'The Hummer EV is so heavy that when they ship it, they have to leave parts off of it to qualify it as light duty for shipping purposes.',\n",
       "  'review_processed': 'The Hummer EV is so heavy that when they ship it, they have to leave parts off of it to qualify it as light duty for shipping purposes.'},\n",
       " 306: {'review_id': 485,\n",
       "  'review_time': '2024-05-24',\n",
       "  'like': 0,\n",
       "  'review': 'L',\n",
       "  'review_processed': 'L'},\n",
       " 307: {'review_id': 487,\n",
       "  'review_time': '2024-05-24',\n",
       "  'like': 1,\n",
       "  'review': 'Not one review discusses if the seats are comfortable for long distance. I have owned 2 teslas (X & S) and don’t find the seats comfortable for long distance driving.',\n",
       "  'review_processed': \"I have owned two Teslas and don't find the seats comfortable for long distance driving.\"},\n",
       " 308: {'review_id': 488,\n",
       "  'review_time': '2024-05-23',\n",
       "  'like': 0,\n",
       "  'review': 'It is a useless bulletproof truck, which nobody will use as a truck nor will anyone drive it into a warzone. Nothing can be iconic when it doesn’t do perfect what it is perfectly designed for. The VW Bus and Beetle, the Mustang, the Citroen Deux Chevaux, the Rolls Royces, the Audi TT were all brilliant in what they were designed for. This truck will become a icon of our decadent times, but can by lack of functional perfection, never become an iconic cardesign.',\n",
       "  'review_processed': \"It is a useless bulletproof truck, which nobody will use as a truck, nor will anyone drive it into a warzone. Nothing can be iconic when it doesn't do what it is perfectly designed for.\"},\n",
       " 309: {'review_id': 489,\n",
       "  'review_time': '2024-05-23',\n",
       "  'like': 1,\n",
       "  'review': \"INSTEAD OF LYING COULDN'T THEY HAVE JUST SAID IT BEATS THE PORSCHE OFF THE LINE WHILE TOWING ONE! THAT TO ME IS IMPRESSIVE ENOUGH.. THE FACT THEY LIED JUST KILLS IT..... YOU GUYS LIED. AND YOU DIDN'T HAVE TO 😂😂😂\",\n",
       "  'review_processed': 'In addition to lying, could not they have just said it beats the Porsche off the line while driving? That to me is impressive enough. The fact they lied just kills it.'},\n",
       " 310: {'review_id': 490,\n",
       "  'review_time': '2024-05-23',\n",
       "  'like': 0,\n",
       "  'review': 'The word I’d go with ends ‘onic’ but has ‘moron’ at the start.',\n",
       "  'review_processed': 'The word Id go with ends onic but has moron at the start.'},\n",
       " 311: {'review_id': 494,\n",
       "  'review_time': '2024-05-23',\n",
       "  'like': 0,\n",
       "  'review': \"I'm pissed he didn't even tell us how much it cost 😂\",\n",
       "  'review_processed': \"I'm pissed he didn't even tell us how much it cost \"},\n",
       " 312: {'review_id': 497,\n",
       "  'review_time': '2024-05-22',\n",
       "  'like': 2,\n",
       "  'review': 'YOU CALL IT GETTING CREATIVE AND I CALL IT LYING\\n\\nITS OBVIOUS THAT WASNT A QUARTER MILE... WTF...',\n",
       "  'review_processed': 'YOU CALL IT GETTING CREATIVE AND I CALL IT LYING\\n\\nITS OBVIOUS THAT WASNT A QUARTER MILE... WTF...'},\n",
       " 313: {'review_id': 498,\n",
       "  'review_time': '2024-05-22',\n",
       "  'like': 0,\n",
       "  'review': 'LOOK AT THOSE DANGEROUS, CRAZY PEOPLE TAKING VIDEOS!!\\n0:30                \\n* LITERALLY SLOWS DOWN TO TAKE MULTIPLE VIDEOS OF THE PEOPLE *\\n😆🤣😆',\n",
       "  'review_processed': 'LOOK AT THOSE DANGEROUS, CRAZY PEOPLE TAKING VIDEOS!!\\n0:30                \\n* LITERALLY SLOWS DOWN TO TAKE MULTIPLE VIDEOS OF THE PEOPLE *\\n'},\n",
       " 314: {'review_id': 499,\n",
       "  'review_time': '2024-05-22',\n",
       "  'like': 1,\n",
       "  'review': 'I have a Cybertruck. And this is absolutely TRUE. The peoples reaction is beyond entertainment 😅😅😅',\n",
       "  'review_processed': 'I have a Cybertruck. And this is absolutely TRUE. The peoples reaction is beyond entertainment '},\n",
       " 315: {'review_id': 500,\n",
       "  'review_time': '2024-05-22',\n",
       "  'like': 0,\n",
       "  'review': 'Cybertruck is badass but it\\'s just not practical fo most people. I love my budget rivian (Ford Maverick hybrid 😂) until I can afford a real Rivian. I hope Tesla decides to compete with the adventure-style electric truck in the future after they are done with their \"statement piece\".',\n",
       "  'review_processed': 'I love my budget Rivian (Ford Maverick hybrid) until I can afford a real Rivian. I hope Tesla decides to compete with the adventure-style electric truck in the future after they are done with their statement piece.'},\n",
       " 316: {'review_id': 501,\n",
       "  'review_time': '2024-05-22',\n",
       "  'like': 0,\n",
       "  'review': 'Bro I need the stainless steel so I don’t get damaged if I accidentally scratch a pole, or idk get PIT maneuvered by a cop',\n",
       "  'review_processed': 'Bro I need the stainless steel so I dont get damaged if I accidentally scratch a pole, or idk get PIT maneuvered by a cop'},\n",
       " 317: {'review_id': 503,\n",
       "  'review_time': '2024-05-22',\n",
       "  'like': 0,\n",
       "  'review': 'Iconic design Marq..???? Just wait a few days...(in Teslas case the \"days\" is going to be a few moths...according to their productions numbers...!!!!!) after u see  a few of these every day...the novelty is gone...and its just UGLY... Also..that \"Iconic\" design means they\\'re not able to sell them in Europe....!!!!!! What a brilliant business decision\\nWhat should I think about people willing to pay upfront for something you MIGHT get sometime along the road...Moronic IMAO',\n",
       "  'review_processed': 'Just wait a few days; after seeing a few of these every day, the novelty is gone, and it\\'s just ugly. \"Iconic\" design means they\\'re not able to sell them in Europe. What a brilliant business decision.'},\n",
       " 318: {'review_id': 506,\n",
       "  'review_time': '2024-05-22',\n",
       "  'like': 0,\n",
       "  'review': \"All you fenomems doing reviews-why don't you put 3 children from age 3-9 in front of this cyber bumpster and explain what would happen if it hit one of them-Do you know they cannot be sold in all of Europe because of the pedestrian law? Do you know the US does not have this law? Do you know this is not tecnically a TRUCK? Do you know this is the biggest industrial scam of them all and in 2 years time Tesla will be Chinese owned and Electric  X Jesus will be broke...Yoy might as well review hair growing oil and grass that instantly grows in the desert-They are far more likely to succeed.\",\n",
       "  'review_processed': \"Why don't you put 3 children from age 3-9 in front of this cyber bumpster and explain what would happen if it hit one of them? Do you know they cannot be sold in all of Europe because of the pedestrian law? The US does not have this law. This is the biggest industrial scam of them all, and in 2 years time Tesla will be Chinese owned and Electric X Jesus will be broke.\"},\n",
       " 319: {'review_id': 509,\n",
       "  'review_time': '2024-05-22',\n",
       "  'like': 1,\n",
       "  'review': 'Most hideous design..my kid can draw a better design than this',\n",
       "  'review_processed': 'Most hideous design..my kid can draw a better design than this'},\n",
       " 320: {'review_id': 512,\n",
       "  'review_time': '2024-05-21',\n",
       "  'like': 1,\n",
       "  'review': \"Im not sure if you would be safe if you get into a car crash tbh..\\nI could be wrong, but I think this car is not safe, it doesn't absorb the force at all, the more a car crumples, the safer it gets, but I don't think its the case for this car...\",\n",
       "  'review_processed': \"I'm not sure if you would be safe if you got into a car crash, but I think this car is not safe. It doesn't absorb the force at all. The more a car crumples, the safer it gets, but that's not the case for this car\"},\n",
       " 321: {'review_id': 513,\n",
       "  'review_time': '2024-05-21',\n",
       "  'like': 0,\n",
       "  'review': 'do all the straight lines make it cheaper to produce? i hope so',\n",
       "  'review_processed': 'do all the straight lines make it cheaper to produce? i hope so'},\n",
       " 322: {'review_id': 515,\n",
       "  'review_time': '2024-05-21',\n",
       "  'like': 2,\n",
       "  'review': \"People hating hard on this are just those who hate Tesla for existing. It is a cool design which is turning heads and getting reactions out of people whether positive or negative. I'd get one if I had the money but then again, if it's true this can get stuck in snow, that's not good....That's really REALLY BAD.\",\n",
       "  'review_processed': \"It is a cool design which is turning heads and getting reactions from people, whether positive or negative. I'd get one if I had the money, but then again, if it's true this can get stuck in snow, that's not good.\"},\n",
       " 323: {'review_id': 516,\n",
       "  'review_time': '2024-05-21',\n",
       "  'like': 0,\n",
       "  'review': 'Why don’t you make a video about how all ev’s prices are dropping specially in the used market ?',\n",
       "  'review_processed': 'Why dont you make a video about how all evs prices are dropping specially in the used market ?'},\n",
       " 324: {'review_id': 517,\n",
       "  'review_time': '2024-05-20',\n",
       "  'like': 1,\n",
       "  'review': \"This is a car for sociopaths. It will NEVER be for sale in Europe for the simple fact that it is a fatal menace to others on the road. Build quality is shit.  Design is shit. Tesla launched it in a shroud of lies and deceptions. Marques, you're a preternaturally talented product reviewer, but before you make the transition from  electronic gear to cars, please do your homework.\",\n",
       "  'review_processed': 'This is a car for sociopaths. It will never be for sale in Europe because it is a fatal menace to others on the road.'},\n",
       " 325: {'review_id': 518,\n",
       "  'review_time': '2024-05-20',\n",
       "  'like': 18,\n",
       "  'review': 'Some basic information missing from this review: 1) Keeping the vehicle clean is a major issue, and putting it through a regular car wash is definitely not recommended. 2) There are issues with the vehicle rusting. 3) The panel edges are dangerously put together, such that people risk losing their fingers when closing the doors and trunk.',\n",
       "  'review_processed': 'Keeping the vehicle clean is a major issue, and putting it through a regular car wash is definitely not recommended. The panel edges are dangerously put together, such that people risk losing their fingers when closing the doors and trunk.'},\n",
       " 326: {'review_id': 519,\n",
       "  'review_time': '2024-05-20',\n",
       "  'like': 0,\n",
       "  'review': 'Truck? THAT bed doesn’t look like it does much of any truck stuff… especially if you want a spare tire.',\n",
       "  'review_processed': 'Truck? THAT bed doesnt look like it does much of any truck stuff especially if you want a spare tire.'},\n",
       " 327: {'review_id': 521,\n",
       "  'review_time': '2024-05-20',\n",
       "  'like': 0,\n",
       "  'review': 'Bruh.. You won\\'t be fine in an accident with cold rolled steel... That thing has 0% crumble zone because of the material. The \"truck\" will be fine... You will get whiplashed to hell.',\n",
       "  'review_processed': \"You won't be fine in an accident with cold rolled steel. That thing has 0% crumble zone because of the material. You will get whiplash to hell.\"},\n",
       " 328: {'review_id': 525,\n",
       "  'review_time': '2024-05-19',\n",
       "  'like': 1,\n",
       "  'review': \"I wouldn't say iconic, more like polarizing. Personally don't like the complete de-badging. They should have left the Tesla badges on the front, back and steering wheel\\nAlso, you can tell from the design that they really wanted it to look like a cross between the DeLorean and the armored vehicle from Aliens.\",\n",
       "  'review_processed': \"I don't like the complete de-badging. They should have left the Tesla badges on the front, back and steering wheel. You can tell they wanted it to look like a cross between the DeLorean and the armored vehicle from Aliens.\"},\n",
       " 329: {'review_id': 526,\n",
       "  'review_time': '2024-05-19',\n",
       "  'like': 1,\n",
       "  'review': \"People are already selling these for $150,000, used. lol. That's the price of a house.\",\n",
       "  'review_processed': \"People are already selling these for $150,000, used. lol. That's the price of a house.\"},\n",
       " 330: {'review_id': 527,\n",
       "  'review_time': '2024-05-19',\n",
       "  'like': 4,\n",
       "  'review': \"The thing about this review is I feel that you are mainly reviewing modern American culture rather than the truck. You start to talk about towing -but shift to talk about how most people don't tow. You start to talk about off-road performance, but shift to talk about most people not going off-road. What is the actual towing or off-road capability of the Cybertruck? You didn't say, but instead essentially invalidated the question, telling us we don't care. You say it steers well, which is an actual car review thing, but never talk about the size of the bed of the truck, or the comfort of the backseats. As has been mentioned the most iconic car design has always been the Volkswagen Beetle - affordable and everywhere for decades.  The Cybertruck may be iconic in the way the PT Cruiser is iconic - a full-sized toy of limited use for people desperate to impress people they pass on the street but don't know.\",\n",
       "  'review_processed': \"I feel that you are mainly reviewing modern American culture rather than the truck. What is the actual towing or off-road capability of the Cybertruck? You didn't say, but instead essentially invalidated the question, telling us we don't care. You say it steers well, which is an actual car review thing, but never talk about the size of the bed, or the comfort of the backseats.\"},\n",
       " 331: {'review_id': 528,\n",
       "  'review_time': '2024-05-19',\n",
       "  'like': 0,\n",
       "  'review': \"I'm only angry that I have seen absolutely nothing on that cool ATV Elon had in the back of the cyber truck for the unveiling. I thought every truck came with a matching ATV I was so excited! Lol\",\n",
       "  'review_processed': \"I'm angry that I have seen nothing on that cool ATV Elon had in the back of the cyber truck for the unveiling. I thought every truck came with a matching ATV\"},\n",
       " 332: {'review_id': 532,\n",
       "  'review_time': '2024-05-18',\n",
       "  'like': 0,\n",
       "  'review': \"The trouble with iconic is that it doesn't age well. When VW bought back the New Beetle it did very well, but very briefly, and soon it becomes just last years shtick. So you really will have to live with the car after the styling has ceased to be a part of the equation.\",\n",
       "  'review_processed': 'When VW bought back the New Beetle it did very well, but very briefly, and soon it becomes just last years shtick.'},\n",
       " 333: {'review_id': 533,\n",
       "  'review_time': '2024-05-18',\n",
       "  'like': 0,\n",
       "  'review': \"Hey Marques. I watched this video and it's awesome ! My question is can you do one on Honda Prologue?\",\n",
       "  'review_processed': \"Hey Marques. I watched this video and it's awesome ! My question is can you do one on Honda Prologue?\"},\n",
       " 334: {'review_id': 534,\n",
       "  'review_time': '2024-05-17',\n",
       "  'like': 4,\n",
       "  'review': \"the way you can tell the Cybertruk is an absolute joke of a vehicle is that it literally cannot be sold in Europe because it's completely unsafe.\",\n",
       "  'review_processed': \"the way you can tell the Cybertruk is an absolute joke of a vehicle is that it literally cannot be sold in Europe because it's completely unsafe.\"},\n",
       " 335: {'review_id': 535,\n",
       "  'review_time': '2024-05-17',\n",
       "  'like': 1,\n",
       "  'review': '\"...while my child, I mean the car...\" it\\'s so subtle but perfect.',\n",
       "  'review_processed': '\"...while my child, I mean the car...\" it\\'s so subtle but perfect.'},\n",
       " 336: {'review_id': 536,\n",
       "  'review_time': '2024-05-17',\n",
       "  'like': 0,\n",
       "  'review': \"I'm from Malawi 🇲🇼, Africa. I love the cybertruck n EVs. I hope one day I'm gonna afford one.❤\",\n",
       "  'review_processed': \"I'm from Malawi , Africa. I love the cybertruck n EVs. I hope one day I'm gonna afford one.\"},\n",
       " 337: {'review_id': 537,\n",
       "  'review_time': '2024-05-17',\n",
       "  'like': 0,\n",
       "  'review': 'Really nice to watch and very informative video , thank you very much !',\n",
       "  'review_processed': 'Really nice to watch and very informative video , thank you very much !'},\n",
       " 338: {'review_id': 538,\n",
       "  'review_time': '2024-05-17',\n",
       "  'like': 0,\n",
       "  'review': 'Cybertruck is the love child of the Pontiac Aztek and a Delorean.',\n",
       "  'review_processed': 'Cybertruck is the love child of the Pontiac Aztek and a Delorean.'},\n",
       " 339: {'review_id': 539,\n",
       "  'review_time': '2024-05-17',\n",
       "  'like': 0,\n",
       "  'review': 'Different times and different vehicles but reminds me of the Hummer H2 craze back in the day,  that it would turn head everywhere you would drive it.',\n",
       "  'review_processed': 'Different times and different vehicles but reminds me of the Hummer H2 craze back in the day,  that it would turn head everywhere you would drive it.'},\n",
       " 340: {'review_id': 540,\n",
       "  'review_time': '2024-05-16',\n",
       "  'like': 0,\n",
       "  'review': 'The cybertruck copied the original hummer in some ways. its a ridiculous vehicle and represents excess. it will end up the same way. a symbol of excess.',\n",
       "  'review_processed': \"The cybertruck copied the original hummer in some ways. It's a ridiculous vehicle and represents excess. It will end up the\"},\n",
       " 341: {'review_id': 541,\n",
       "  'review_time': '2024-05-16',\n",
       "  'like': 0,\n",
       "  'review': 'this reminds me to the Lancia Stratos Zero with that weird simple blocky looking',\n",
       "  'review_processed': 'this reminds me to the Lancia Stratos Zero with that weird simple blocky looking'},\n",
       " 342: {'review_id': 542,\n",
       "  'review_time': '2024-05-16',\n",
       "  'like': 0,\n",
       "  'review': \"Ignoramuses never understood Van Gogh's art when they first came out! Now some of them are worth hundreds of millions of dollars and only well established museums could afford to own them!\",\n",
       "  'review_processed': \"Some of Van Gogh's works are worth hundreds of millions of dollars, and only well established museums can afford to own them.\"},\n",
       " 343: {'review_id': 543,\n",
       "  'review_time': '2024-05-16',\n",
       "  'like': 1,\n",
       "  'review': 'Tf is that pile of metal?!😅',\n",
       "  'review_processed': 'Tf is that pile of metal?!'},\n",
       " 344: {'review_id': 544,\n",
       "  'review_time': '2024-05-16',\n",
       "  'like': 3,\n",
       "  'review': 'Tesla will no doubt get credit for \"inventing\" steer by wire, while Lexus introduced it in 2022, likewise the four wheel steering is already available for years with Cadillac, GMC, Lamborghini, Mercedes-Benz, Acura, BMW, Rolls-Royce and Porsche.',\n",
       "  'review_processed': 'Tesla will get credit for inventing steer by wire, while Lexus introduced it in 2022. Four wheel steering is already available for years with Cadillac, GMC, Lamborghini, Mercedes-Benz, Acura,'},\n",
       " 345: {'review_id': 545,\n",
       "  'review_time': '2024-05-15',\n",
       "  'like': 1,\n",
       "  'review': 'Cool graphics in this review :)',\n",
       "  'review_processed': 'Cool graphics in this review :)'},\n",
       " 346: {'review_id': 546,\n",
       "  'review_time': '2024-05-15',\n",
       "  'like': 0,\n",
       "  'review': 'After this genuine review, I’m a little disappointed because, I WANT ONE!!',\n",
       "  'review_processed': 'After this genuine review, Im a little disappointed because, I WANT ONE!!'},\n",
       " 347: {'review_id': 547,\n",
       "  'review_time': '2024-05-15',\n",
       "  'like': 0,\n",
       "  'review': 'Looks like old tomb raider graphics. If you know, you know.',\n",
       "  'review_processed': 'Looks like old tomb raider graphics. If you know, you know.'},\n",
       " 348: {'review_id': 549,\n",
       "  'review_time': '2024-05-15',\n",
       "  'like': 0,\n",
       "  'review': '\"you will be fine in a collision\" Yeah\\nNot the other guy tho. There is a reason why cars are designed to be turned into pieces that only a petty narcissist billionare will ever ignore',\n",
       "  'review_processed': 'There is a reason cars are designed to be turned into pieces that only a petty narcissist will ever ignore.'},\n",
       " 349: {'review_id': 550,\n",
       "  'review_time': '2024-05-15',\n",
       "  'like': 1,\n",
       "  'review': \"The man on the bike that gave you the thumb down, most likely replies that way to every single tesla or Electric car. I can imagine biking must be better for the environment than the manufacturing of tesla's or any other electric vehicle (in the eyes of those who strive to be such).  Anyone who can appreciate cars, or are enthusiast for the combination of both tech and cars, would react, much like the happy faces that rolled down the windows.\",\n",
       "  'review_processed': \"The man on the bike that gave you the thumb down, most likely replies that way to every single Tesla or Electric car. I can imagine biking must be better for the environment than the manufacturing of tesla's or any other electric vehicles.\"},\n",
       " 350: {'review_id': 554,\n",
       "  'review_time': '2024-05-14',\n",
       "  'like': 0,\n",
       "  'review': \"Wondering when they're going to start bringing these to AFRICA 😎gotta drive this round my village💣💥🤟Elon☠\",\n",
       "  'review_processed': \"Wondering when they're going to start bringing these to AFRICA gotta drive this round my villageElon\"},\n",
       " 351: {'review_id': 555,\n",
       "  'review_time': '2024-05-14',\n",
       "  'like': 0,\n",
       "  'review': \"Marq  I'm sorry. But I think if the people got a WONDERFUL LIFE, they would be complacent enough for U.S. to not prosper, but be proud and happy to produce for us gods. (Being cheeky sir)\",\n",
       "  'review_processed': 'I think if the people got a wonderful life, they would be complacent enough for the U.S. to not prosper, but be proud and happy to produce for us.'},\n",
       " 352: {'review_id': 556,\n",
       "  'review_time': '2024-05-14',\n",
       "  'like': 0,\n",
       "  'review': 'Idk. 47yrs old. I remember steel cars with WAY more delicate design. Elon needed new tech to create the bare minimum, MARQUES/ELON \"the people is not slow.\"😊',\n",
       "  'review_processed': 'I remember steel cars with far more delicate design. Elon needed new tech to create the bare minimum, and the people are not slow.'},\n",
       " 353: {'review_id': 557,\n",
       "  'review_time': '2024-05-14',\n",
       "  'like': 1,\n",
       "  'review': \"That video didn't aged well... 😮 So many problems at Tesla and now the recall. Elon doing begging videos to shareholders for his 55 billion bonus. Super charger employees layed off. MKHD seams to have received an optimal special crafted Cybertruck for the reviewers cuz most Cyber Truck users have received lemons.\",\n",
       "  'review_processed': 'So many problems at Tesla and now the recall. Elon doing begging videos to shareholders for his 55 billion bonus. Super charger employees lay off.'},\n",
       " 354: {'review_id': 558,\n",
       "  'review_time': '2024-05-14',\n",
       "  'like': 0,\n",
       "  'review': 'You really skipped the truck stuff. So its not a truck for working. Just a truckie shape. Hard pass. Can you even put stuff in the back? At least you showed it towing something. You coulda sell the bullet proof shell better cause trucks get beat up all the time and that would be great. Like to see how much stuff you can carry in the back.      Would wait for future model. Keep the bulletproof shell. Underrated.',\n",
       "  'review_processed': \"You skipped the truck stuff. It's not a truck for working. At least you showed it towing something. You coulda sold the bulletproof shell better.\"},\n",
       " 355: {'review_id': 559,\n",
       "  'review_time': '2024-05-14',\n",
       "  'like': 0,\n",
       "  'review': 'To think that there\\'s a ton of science people that deal with automobile shapes in order to actively reduce the damage a car would do to a human in case of an accident.... \\n\\nTesla: \"Yeah... We\\'re not doing that\"\\n\\nTesla fan-boys: \"Who cares if my car kills people?\"\\n\\nReviewers: \"Yeah, no idea what you\\'re talking about\".',\n",
       "  'review_processed': \"To think that there's a ton of science people that deal with automobile shapes in order to actively reduce the damage a car would do to a human in case of an accident is ridiculous.\"},\n",
       " 356: {'review_id': 560,\n",
       "  'review_time': '2024-05-14',\n",
       "  'like': 0,\n",
       "  'review': 'WHAT IS THE RADIATION LEVELS LIKE IN THAT EV MONSTER??',\n",
       "  'review_processed': 'WHAT IS THE RADIATION LEVELS LIKE IN THAT EV MONSTER??'},\n",
       " 357: {'review_id': 562,\n",
       "  'review_time': '2024-05-14',\n",
       "  'like': 0,\n",
       "  'review': 'I will matt wrap it as soon as this this thing is on my driveway.',\n",
       "  'review_processed': 'I will matt wrap it as soon as this this thing is on my driveway.'},\n",
       " 358: {'review_id': 564,\n",
       "  'review_time': '2024-05-14',\n",
       "  'like': 0,\n",
       "  'review': 'This is now the worst vehicle he has reviewed....makes the Fisker look like a spaceship',\n",
       "  'review_processed': 'This is now the worst vehicle he has reviewed....makes the Fisker look like a spaceship'},\n",
       " 359: {'review_id': 566,\n",
       "  'review_time': '2024-05-13',\n",
       "  'like': 0,\n",
       "  'review': 'THE MOST DANGEROUS THING IS DESIGN AND MRCHANICS, UNBELIEVEABLE YOU JUST CHOOSE TO IGNORE THAT. \\nLOVE MAKES YOU BLIND',\n",
       "  'review_processed': 'THE MOST DANGEROUS THING IS DESIGN AND MRCHANICS, UNBELIEVEABLE YOU JUST CHOOSE TO IGNORE THAT. \\nLOVE MAKES YOU BLIND'},\n",
       " 360: {'review_id': 576,\n",
       "  'review_time': '2024-05-12',\n",
       "  'like': 0,\n",
       "  'review': \"people stare at this and wonder 'why anyone would buy this' not as some status symbol. I wouldn't want this shit box even for free.\",\n",
       "  'review_processed': \"people stare at this and wonder 'why anyone would buy this' not as some status symbol. I wouldn't want this shit box even for free.\"},\n",
       " 361: {'review_id': 577,\n",
       "  'review_time': '2024-05-12',\n",
       "  'like': 0,\n",
       "  'review': 'This guy is the sole reason for 2000 of the 4000 cyber trucks sold so far.',\n",
       "  'review_processed': 'This guy is the sole reason for 2000 of the 4000 cyber trucks sold so far.'},\n",
       " 362: {'review_id': 580,\n",
       "  'review_time': '2024-05-12',\n",
       "  'like': 0,\n",
       "  'review': \"Don't have an accident....stainless steel panel are do hard to work on.....I worked for dealership that sold DeLoreans, it's a different thing, those ss panels. Also not wishing you to have accident,  be safe❤\",\n",
       "  'review_processed': \"Don't have an accident. Stainless steel panels are hard to work on. I worked for a dealership that sold DeLorean, it's a different thing.\"},\n",
       " 363: {'review_id': 581,\n",
       "  'review_time': '2024-05-11',\n",
       "  'like': 0,\n",
       "  'review': 'Repurpose the steel, fix the windscreen and truck bed, opt for better build quality of the body so it doesn’t fall apart in water, etc.',\n",
       "  'review_processed': 'Repurpose the steel, fix the windscreen and truck bed, opt for better build quality of the body so it doesnt fall apart in water, etc.'},\n",
       " 364: {'review_id': 582,\n",
       "  'review_time': '2024-05-11',\n",
       "  'like': 1,\n",
       "  'review': \"Remember, this is the same guy who didn't like the Fisker because the remote didn't work. This is a vehicle that has been universally trashed by anyone who has used it.\\nAnd they spew word salads about credibility. Someone wants to keep being invited to Musk's sermons.\",\n",
       "  'review_processed': \"This is the same guy who didn't like the Fisker because the remote didn't work. The vehicle has been universally trashed by anyone who has used it.\"},\n",
       " 365: {'review_id': 583,\n",
       "  'review_time': '2024-05-10',\n",
       "  'like': 1,\n",
       "  'review': 'I really hope we don\\'t end up with \"millions\" of these on the road. Sure, they are cool, hilarious, and fun. But they are also a tangible reminder that rich humans will spend money on things they don\\'t need while others that don\\'t have enough grind themselves into oblivion.',\n",
       "  'review_processed': \"I hope we don't end up with millions of these on the road. They are a tangible reminder that rich humans will spend money on things they don't need, while others that don't have enough grind themselves into oblivion.\"},\n",
       " 366: {'review_id': 585,\n",
       "  'review_time': '2024-05-10',\n",
       "  'like': 0,\n",
       "  'review': \"Wait a minute. You did a review of it before and it wasn't the best. According to you! Now, you're saying positive things about this truck. You've been MUSKED!! How much did he pay you? 🤡🤡🤡🤡🤡🤡🤡🤡🤡🤡\",\n",
       "  'review_processed': \"You did a review of it before and it wasn't the best, according to you. Now, you're saying positive things about this truck. You've been muscled! How much did he pay you?\"},\n",
       " 367: {'review_id': 586,\n",
       "  'review_time': '2024-05-10',\n",
       "  'like': 1,\n",
       "  'review': 'As time goes on I just keep getting more disappointed in you. Making excuses for Elon still is depressing.',\n",
       "  'review_processed': 'As time goes on I just keep getting more disappointed in you. Making excuses for Elon still is depressing.'},\n",
       " 368: {'review_id': 587,\n",
       "  'review_time': '2024-05-10',\n",
       "  'like': 0,\n",
       "  'review': \"I wonder, why did you (appropriately) buried Fisks's Ocean but are being so easy on a vehicle ridden with problems, like the CT?\",\n",
       "  'review_processed': \"I wonder, why did you (appropriately) buried Fisks's Ocean but are being so easy on a vehicle ridden with problems, like the CT?\"},\n",
       " 369: {'review_id': 588,\n",
       "  'review_time': '2024-05-10',\n",
       "  'like': 1,\n",
       "  'review': 'not true I live in LA seen 100000 of these already no one gives a crap or is impressed with cars over here. This is coming from a car guy too lol',\n",
       "  'review_processed': 'I live in LA and have seen 100,000 of these already; no one gives a crap or is impressed with cars there.'},\n",
       " 370: {'review_id': 589,\n",
       "  'review_time': '2024-05-10',\n",
       "  'like': 0,\n",
       "  'review': 'Already iconic?\\n\\nAlready recalled you mean 😂😂😂',\n",
       "  'review_processed': 'Already iconic?\\n\\nAlready recalled you mean '},\n",
       " 371: {'review_id': 591,\n",
       "  'review_time': '2024-05-10',\n",
       "  'like': 1,\n",
       "  'review': 'If anyone wondering the music in the drag racing section is called \"Hypercrypto - Oomie\"',\n",
       "  'review_processed': 'If anyone wondering the music in the drag racing section is called \"Hypercrypto - Oomie\"'},\n",
       " 372: {'review_id': 592,\n",
       "  'review_time': '2024-05-10',\n",
       "  'like': 0,\n",
       "  'review': \"I've seen a ton of drag races all over youtube with this thing... but what about the agility course, or at least race track with some tight turns? off-the-line performance is clearly it's strong suit, not speed; there's nothing else really to learn from drag races. What I want to know is, can that 4 corner steer-by-wire system actually make up for the extra weight when it *really* counts, or does the Porche win on a winding road, too?\",\n",
       "  'review_processed': \"I've seen a lot of drag races all over YouTube with this thing, but what about the agility course, or at least race track with some tight turns? There's nothing else really to learn from drag races. What I want to know is, can that 4 corner steer-by-wire system actually make up for the extra weight when it really counts, or does the Porche win on a winding road, too?\"},\n",
       " 373: {'review_id': 595,\n",
       "  'review_time': '2024-05-09',\n",
       "  'like': 0,\n",
       "  'review': 'Elon Musk is trying to tell us something. This car is suppose to be a fortress on wheels. It is not quite there yet, but it will be… perhaps just in time.',\n",
       "  'review_processed': 'This car is meant to be a fortress on wheels. It is not quite there yet, but it will be perhaps just in time.'},\n",
       " 374: {'review_id': 599,\n",
       "  'review_time': '2024-05-09',\n",
       "  'like': 0,\n",
       "  'review': '*Would be interesting to see how it looks after a crash and if you are protected*',\n",
       "  'review_processed': '*Would be interesting to see how it looks after a crash and if you are protected*'},\n",
       " 375: {'review_id': 600,\n",
       "  'review_time': '2024-05-09',\n",
       "  'like': 0,\n",
       "  'review': 'PT Cruisers were popular, Cher bought a PT cruiser for her kid. Everyone thought it was so cool. Now I think of it as a questionable car bought by questionable owners that typically drive them in a questionable manner.',\n",
       "  'review_processed': 'Cher bought a PT cruiser for her kid; everyone thought it was so cool. Now I think of it as a questionable car bought by questionable owners that typically drive it in a questionable manner'},\n",
       " 376: {'review_id': 601,\n",
       "  'review_time': '2024-05-09',\n",
       "  'like': 1,\n",
       "  'review': 'The truck is not attractive at all and it seems like this truck is designed for some sort of preparation for what’s to come in the near future or even a social experiment.',\n",
       "  'review_processed': \"It seems like this truck is designed for some sort of preparation for what's coming in the near future or even a social experiment.\"},\n",
       " 377: {'review_id': 602,\n",
       "  'review_time': '2024-05-09',\n",
       "  'like': 0,\n",
       "  'review': \"It's hideous. I saw one speeding towards me on the freeway, and my reaction was WTF does one want one of those abomination?\",\n",
       "  'review_processed': \"It's hideous. I saw one speeding towards me on the freeway, and my reaction was WTF does one want one of those abomination?\"},\n",
       " 378: {'review_id': 603,\n",
       "  'review_time': '2024-05-09',\n",
       "  'like': 0,\n",
       "  'review': \"Bulletproof skin was a side effect of the chosen material, not a feature that was planned for and added. They didn't sit in a room together and decide if making it bullet proof was worth the time to make it from that steel..... Why pretend like it was a feature to be over or under rated?\",\n",
       "  'review_processed': \"Bulletproof skin was a side effect of the chosen material, not a feature that was planned for and added. They didn't sit in a room together and decide if making it bullet proof was worth the time to make it from that steel.\"},\n",
       " 379: {'review_id': 605,\n",
       "  'review_time': '2024-05-08',\n",
       "  'like': 0,\n",
       "  'review': 'I think I’m the only one that thinks that’s a beautiful truck for the 21st-century',\n",
       "  'review_processed': 'I think Im the only one that thinks thats a beautiful truck for the 21st-century'},\n",
       " 380: {'review_id': 606,\n",
       "  'review_time': '2024-05-08',\n",
       "  'like': 0,\n",
       "  'review': \"once you park it next to a dumpster, you see the similarities and you can't unsee it. I thought they would try to give truck drivers truck features, but other than it has a bed, it really has a lot of limitations. most truck people want to power their power tools, not really charge another ev (that is a good feature, but it's not great for a truck driver). not confident in the drive by wire feature, why? fsd and how it behaves.\",\n",
       "  'review_processed': \"I thought they would try to give truck drivers truck features, but other than it has a bed, it really has a lot of limitations. Most truck people want to power their power tools, not really charge another. I'm not confident in the drive by wire feature, why? It's not great for a truck driver.\"},\n",
       " 381: {'review_id': 608,\n",
       "  'review_time': '2024-05-08',\n",
       "  'like': 0,\n",
       "  'review': 'i want to live in it',\n",
       "  'review_processed': 'i want to live in it'},\n",
       " 382: {'review_id': 609,\n",
       "  'review_time': '2024-05-07',\n",
       "  'like': 55,\n",
       "  'review': \"It's funny how you say at 7:30 that people inside of the truck will be fine in an accident, when it's now known that the lack of crumple zones actually puts passengers in more danger.\",\n",
       "  'review_processed': \"It's funny how you say at 7:30 that people inside the truck will be fine in an accident, but it's now known that the lack of crumple\"},\n",
       " 383: {'review_id': 612,\n",
       "  'review_time': '2024-05-07',\n",
       "  'like': 0,\n",
       "  'review': 'I don\\'t comment very often, but man, that\\'s a stupid \"truck\".',\n",
       "  'review_processed': 'I don\\'t comment very often, but man, that\\'s a stupid \"truck\".'},\n",
       " 384: {'review_id': 613,\n",
       "  'review_time': '2024-05-06',\n",
       "  'like': 1,\n",
       "  'review': \"What a complete waste of materials? The vehicle should be built out of recycled sham. At 3 tonnes, it is a complete road menace to other road users. The 'A' pillar goes even further into dynamic blind spot creation, and its true utility is questionable, to the point of being inutile.\",\n",
       "  'review_processed': 'At 3 tonnes, it is a complete road menace to other road users. The vehicle should be built out of recycled materials.'},\n",
       " 385: {'review_id': 615,\n",
       "  'review_time': '2024-05-06',\n",
       "  'like': 0,\n",
       "  'review': 'Lol idk about looking like a refrigerator. To me it looks like a door stop.',\n",
       "  'review_processed': 'Lol idk about looking like a refrigerator. To me it looks like a door stop.'},\n",
       " 386: {'review_id': 616,\n",
       "  'review_time': '2024-05-06',\n",
       "  'like': 1,\n",
       "  'review': 'this dude is a a mercenary. its incredible how people take this dude serious.. what a Prosti',\n",
       "  'review_processed': 'this dude is a a mercenary. its incredible how people take this dude serious.. what a Prosti'},\n",
       " 387: {'review_id': 617,\n",
       "  'review_time': '2024-05-06',\n",
       "  'like': 0,\n",
       "  'review': \"You're bad at reviewing cars/cybertruck. You don't know how to review a car. I wanted to know about cybertruck but you made such a long video that I am leaving it in the middle and disliking your video. 👎🏻👎🏻\\nImprove your car review skill. ✅\",\n",
       "  'review_processed': \"You're bad at reviewing cars and you don't know how to review a car. I wanted to know about cybertruck but you made such a long video that I am leaving it in the middle and disliking your\"},\n",
       " 388: {'review_id': 618,\n",
       "  'review_time': '2024-05-06',\n",
       "  'like': 0,\n",
       "  'review': 'VERY-GOOD EXPLANATION VIDEO :)\\nTHANK YOU FOR SHARING :)\\n\\nTHANK YOU FROM ISRAEL :)',\n",
       "  'review_processed': 'VERY-GOOD EXPLANATION VIDEO :)\\nTHANK YOU FOR SHARING :)\\n\\nTHANK YOU FROM ISRAEL :)'},\n",
       " 389: {'review_id': 620,\n",
       "  'review_time': '2024-05-05',\n",
       "  'like': 0,\n",
       "  'review': \"I really hate how Tesla just doesn't care for pedestrians nor the driver of the truck. It's so unsafe for literally everyone\",\n",
       "  'review_processed': \"I really hate how Tesla just doesn't care for pedestrians nor the driver of the truck. It's so unsafe for literally everyone\"},\n",
       " 390: {'review_id': 623,\n",
       "  'review_time': '2024-05-05',\n",
       "  'like': 0,\n",
       "  'review': 'INFAMOUS, not iconic.',\n",
       "  'review_processed': 'INFAMOUS, not iconic.'},\n",
       " 391: {'review_id': 624,\n",
       "  'review_time': '2024-05-05',\n",
       "  'like': 0,\n",
       "  'review': \"Marques you're iconic.... the one in billions who has such a great approach on products! You never disappoint!\",\n",
       "  'review_processed': \"Marques you're iconic.... the one in billions who has such a great approach on products! You never disappoint!\"},\n",
       " 392: {'review_id': 629,\n",
       "  'review_time': '2024-05-05',\n",
       "  'like': 0,\n",
       "  'review': 'everybody looks at it and they say damn that thing is super ugly',\n",
       "  'review_processed': 'everybody looks at it and they say damn that thing is super ugly'},\n",
       " 393: {'review_id': 633,\n",
       "  'review_time': '2024-05-04',\n",
       "  'like': 1,\n",
       "  'review': 'Wow, a truck that has less storage than most modern truck, any older truck, most suvs vans or even sedans, hell even a cargo bike is comparbale. A truck that is more dangerous to everyone around it AND the people inside it compared top most vehicles on the road, that has horrific quality control issues, rusts if you look at it funny, AND it blinds people nearby thanks to it being a glare magnet.\\n\\nI mean it is iconic, for being an absloute disaster.\\n\\nAlso its not surprising that a tech channel didnt even touch on how dangerous sharp angles are to pedestrians, but it is dissapointing. Cars are a massive killer and making one of the deadliest types of car (pickup trucks) even deadlier for looks especially when most pickup truck owners dont need to own one. Most of the need is better served by vans and for the bit where a pickup truck is needed, the bedspace of modern (especially teslas) pickup trucks is bs. \\n\\nOh also bulletproof steel? its bullet resistence is far overstated. \\n\\nPersonal vehicles dont exist in a vacuum and glossing over its myriad of flaws is promoting a vehicle that is unnecessarily dangerous just because, and it is not fine because it looks good, it makes streets mroe dangeorus, it makes congestion worse, it does mroe damage to roads, and for what, it looking cooler?',\n",
       "  'review_processed': 'A truck that has less storage than most modern trucks, any older truck, most suvs, vans, and even sedans. It has horrific quality control issues, rusts if you look at it funny, and blinds people nearby thanks to it being a glare magnet. It is unnecessarily dangerous just because, and it is not fine because it looks good. It makes streets more dangerous, it makes congestion worse, it does damage to roads, and for what, it looking cooler?'},\n",
       " 394: {'review_id': 634,\n",
       "  'review_time': '2024-05-04',\n",
       "  'like': 0,\n",
       "  'review': \"I swear you can't see any of the indicators from the outside, theyre all tiny bars that sunlight wil easily obscure\",\n",
       "  'review_processed': \"I swear you can't see any of the indicators from the outside, theyre all tiny bars that sunlight wil easily obscure\"},\n",
       " 395: {'review_id': 635,\n",
       "  'review_time': '2024-05-04',\n",
       "  'like': 0,\n",
       "  'review': 'One of the best made videos on youtube i have ever watched',\n",
       "  'review_processed': 'One of the best made videos on youtube i have ever watched'},\n",
       " 396: {'review_id': 637,\n",
       "  'review_time': '2024-05-04',\n",
       "  'like': 1,\n",
       "  'review': 'I think you mean ironic.',\n",
       "  'review_processed': 'I think you mean ironic.'},\n",
       " 397: {'review_id': 639,\n",
       "  'review_time': '2024-05-04',\n",
       "  'like': 0,\n",
       "  'review': 'Other than its unique appearance, why would you ever want all those large flat reflective surfaces? Why not a flat finish? Will Tesla be willing to evolve the body in future or is this the \"iconic generator\" of its current appearance?',\n",
       "  'review_processed': 'Why would you want all those large flat reflective surfaces? Why not a flat finish? Will Tesla be willing to evolve the body in future or is this the \"iconic generator\" of its current appearance?'},\n",
       " 398: {'review_id': 640,\n",
       "  'review_time': '2024-05-04',\n",
       "  'like': 0,\n",
       "  'review': 'Horrible',\n",
       "  'review_processed': 'Horrible'},\n",
       " 399: {'review_id': 641,\n",
       "  'review_time': '2024-05-04',\n",
       "  'like': 0,\n",
       "  'review': \"There are two safety things that really concern me, the bullet proof steel may protect the people inside, but make everything far more dangerous for everyone else on the road, particularly if the protection makes the driver feel more comfortable with speeding or too quickly accelerating. \\n\\nAnother issue I have is the lack of physical buttons. Touch screens are hard and distracting to navigate, we all know that, it's why we are not supposed to be using our phones while driving. I am well aware that these problems are in know way unique to tesla or the cyber truck, but they are things I worry about.\",\n",
       "  'review_processed': \"Bulletproof steel may protect the people inside, but make everything far more dangerous for everyone else on the road. Touch screens are hard and distracting to navigate; it's why we are not supposed to use our phones while driving.\"},\n",
       " 400: {'review_id': 642,\n",
       "  'review_time': '2024-05-04',\n",
       "  'like': 0,\n",
       "  'review': \"I do not feel like this review is as honest as it should be. With a lot of your other reviews, it appears way more honest, but there are MAJOR glaring issues that aren't discussed in this video. Major safety issues. Grossly negligent safety issues. I get it, you're a tech guy, and just saying that comes with a HUGE disconnect for what a car guy review would be.\",\n",
       "  'review_processed': \"I do not feel like this review is as honest as it should be. With a lot of your other reviews, it appears way more honest, but there are major glaring issues that aren't discussed in this video.\"},\n",
       " 401: {'review_id': 643,\n",
       "  'review_time': '2024-05-04',\n",
       "  'like': 0,\n",
       "  'review': \"it's not just a cybertruck thing, but I can't get over the lack of physical controls... like, wtf do I have to go through a settings menu to do EVERYTHING!? Much like the wire-steering, it feels disingenuous to tout the software being in control as strictly beneficial, when in a lot of cases it's just to make production cheaper.\",\n",
       "  'review_processed': \"It's not just a cybertruck thing, but I can't get over the lack of physical controls. It feels disingenuous to tout the software being in control as strictly beneficial, when in a lot of cases it's just to make production cheaper.\"},\n",
       " 402: {'review_id': 646,\n",
       "  'review_time': '2024-05-04',\n",
       "  'like': 0,\n",
       "  'review': 'The only features it is missing to make this truck perfect for me are Heads up display, a dong for towing and has the ability to consume gas or charge \"just in case\"',\n",
       "  'review_processed': 'The only features it is missing to make this truck perfect for me are a heads up display, a dong for towing, and the ability to consume gas'},\n",
       " 403: {'review_id': 649,\n",
       "  'review_time': '2024-05-04',\n",
       "  'like': 0,\n",
       "  'review': 'As a tech-skeptical person, who plans on never buying a car made after 2014, the idea of relying on software and updates scares the hell out of me lmfao. I’ll stick to my cars that won’t fall apart if there is a flaw in the coding',\n",
       "  'review_processed': \"As a tech-skeptical person, I plan on never buying a car made after 2014. The idea of relying on software and updates scares the hell out of me. I'll stick to cars that won't fall apart\"},\n",
       " 404: {'review_id': 651,\n",
       "  'review_time': '2024-05-03',\n",
       "  'like': 1,\n",
       "  'review': 'I like your work, but I find your review of the cybertruck uncharacteristically uncritical. Glossing over all the well--publicized fallings of the cybertruck with \"what do you expect in beta testing\" and \"trucks have been known to get stuck in snow\", and calling the plainly misleading advertising by Tesla \"getting clever\" is disappointing. Also, \"iconic cars\" don\\'t rust after two weeks.',\n",
       "  'review_processed': 'I find your review of the cybertruck uncharacteristically uncritical. Glossing over all the well-publicized fallings of the Cybertruck with \"what do you expect in beta testing?\" and \"trucks have been known to get stuck in snow\" is disappointing.'},\n",
       " 405: {'review_id': 653,\n",
       "  'review_time': '2024-05-03',\n",
       "  'like': 0,\n",
       "  'review': \"I'm afraid the goofy design is going to set the precedence. Vehicle designs have been slowly going downhill since the 80s\",\n",
       "  'review_processed': \"I'm afraid the goofy design is going to set the precedence. Vehicle designs have been slowly going downhill since the 80s\"},\n",
       " 406: {'review_id': 655,\n",
       "  'review_time': '2024-05-03',\n",
       "  'like': 0,\n",
       "  'review': \"If I'd bother giving a thumbs down, the main reason wouldn't be because it's a Cybertruck, but the evolution of cars getting bigger and bigger and less safe for everyone besides the people inside of them.\",\n",
       "  'review_processed': \"If I'd give a thumbs down, the main reason wouldn't be because it's a Cybertruck, but the evolution of cars getting bigger and bigger and less safe for everyone\"},\n",
       " 407: {'review_id': 657,\n",
       "  'review_time': '2024-05-03',\n",
       "  'like': 1,\n",
       "  'review': 'MB look like a huge tesla fanboy. There is nothing \"safe\" about that steering wheel, there is no \"override\" or mechanical control. My old car, had a stupid hydrolic issues, and it was hard to steer. Now immagine that your car decide to randomly steer when it feel. Then, you have a tesla. You are alive by chance. \\n\\n\"The pivot wheel\" is another weakness the thing have. Then I close to video.',\n",
       "  'review_processed': 'There is nothing \"safe\" about that steering wheel. There is no \"override\" or mechanical control. My old car, had a lot of hydrolic issues, and it was hard to steer.'},\n",
       " 408: {'review_id': 659,\n",
       "  'review_time': '2024-05-03',\n",
       "  'like': 0,\n",
       "  'review': \"Just gotta say, that top-down drone shot of the dragstrip is amazing. I can't believe this is the first time I'm seeing the perfect angle to view a drag race.\",\n",
       "  'review_processed': \"I can't believe this is the first time I'm seeing the perfect angle to view a drag race.\"},\n",
       " 409: {'review_id': 660,\n",
       "  'review_time': '2024-05-03',\n",
       "  'like': 0,\n",
       "  'review': 'i love the way it looks',\n",
       "  'review_processed': 'i love the way it looks'},\n",
       " 410: {'review_id': 661,\n",
       "  'review_time': '2024-05-03',\n",
       "  'like': 0,\n",
       "  'review': 'why is mkbhd wearing a shirt of something german frisbee related? i under the frisbee part but why the german flag?',\n",
       "  'review_processed': 'why is mkbhd wearing a shirt of something german frisbee related? i under the frisbee part but why the german flag?'},\n",
       " 411: {'review_id': 662,\n",
       "  'review_time': '2024-05-03',\n",
       "  'like': 0,\n",
       "  'review': \"It's ugly. Overpriced. Impractical. Pointless.\",\n",
       "  'review_processed': \"It's ugly. Overpriced. Impractical. Pointless.\"},\n",
       " 412: {'review_id': 663,\n",
       "  'review_time': '2024-05-03',\n",
       "  'like': 2,\n",
       "  'review': \"I'm surprised nothing was mentioned about safety.  Cybertruck has not been approved for traffic in the European Union\",\n",
       "  'review_processed': \"I'm surprised nothing was mentioned about safety.  Cybertruck has not been approved for traffic in the European Union\"},\n",
       " 413: {'review_id': 664,\n",
       "  'review_time': '2024-05-03',\n",
       "  'like': 7,\n",
       "  'review': 'It seems as if the cheapest Chinese manufacturer made a mix of glass and fake metal sandwich.',\n",
       "  'review_processed': 'It seems as if the cheapest Chinese manufacturer made a mix of glass and fake metal sandwich.'},\n",
       " 414: {'review_id': 666,\n",
       "  'review_time': '2024-05-03',\n",
       "  'like': 3,\n",
       "  'review': 'I love your honesty in your reviews, but you also leave a lot of stuff out like what other people go through.',\n",
       "  'review_processed': 'I love your honesty in your reviews, but you also leave a lot of stuff out like what other people go through.'},\n",
       " 415: {'review_id': 667,\n",
       "  'review_time': '2024-05-03',\n",
       "  'like': 0,\n",
       "  'review': \"3:05 I am one those online people yet I only found out about this like last week\\n(Granted I do really give a shit about tesla or cars in general so it's probably just my lack of interest)\",\n",
       "  'review_processed': \"I am one of those online people yet I only found out about this like last week. I don't give a shit about cars or trucks, so it's probably just my lack of\"},\n",
       " 416: {'review_id': 668,\n",
       "  'review_time': '2024-05-02',\n",
       "  'like': 0,\n",
       "  'review': \"The thing i would worry about is mfs coming up when drunk or sum while ur at dinner or some shit and spending 30 minutes trying to dent it cuz they saw online its dent proof. Odds are they couldn't, until u get a big boy with a hammer.\",\n",
       "  'review_processed': \"I worry about people coming up drunk or while at dinner and spending 30 minutes trying to dent it because they saw online it's dent proof. Odds are they couldn't, until you get a big boy with a hammer.\"},\n",
       " 417: {'review_id': 671,\n",
       "  'review_time': '2024-05-02',\n",
       "  'like': 1,\n",
       "  'review': 'how tf is this a review lmfao',\n",
       "  'review_processed': 'how tf is this a review lmfao'},\n",
       " 418: {'review_id': 672,\n",
       "  'review_time': '2024-05-02',\n",
       "  'like': 0,\n",
       "  'review': \"Really interested in the potential for these to turn into like budget/entry ameteur storm chaser setups. Not that I think it's a good idea.\",\n",
       "  'review_processed': \"Really interested in the potential for these to turn into like budget/entry ameteur storm chaser setups. Not that I think it's a good idea.\"},\n",
       " 419: {'review_id': 673,\n",
       "  'review_time': '2024-05-02',\n",
       "  'like': 0,\n",
       "  'review': 'These things are everywhere these days and I just ignore them! Make it safer for them.',\n",
       "  'review_processed': 'These things are everywhere these days and I just ignore them! Make it safer for them.'},\n",
       " 420: {'review_id': 674,\n",
       "  'review_time': '2024-05-02',\n",
       "  'like': 2,\n",
       "  'review': \"How can you review a vehicle and not mention safety like... *at all*? You reviewed it like it's a cool new phone or gaming gadget. It's a 3 ton movable object that's gonna encounter kids on their way to school and bikers commuting in the city (like the one that gave you the thumbs down)\",\n",
       "  'review_processed': \"How can you review a vehicle and not mention safety like it's a cool new phone or gaming gadget? It's a 3 ton movable object that's gonna encounter kids on their way to school and bikers commuting in the city.\"},\n",
       " 421: {'review_id': 675,\n",
       "  'review_time': '2024-05-02',\n",
       "  'like': 1,\n",
       "  'review': 'When it comes to producing Tesla content, you should have your staff take the lead.  Your takes will not age well.',\n",
       "  'review_processed': 'When it comes to producing Tesla content, you should have your staff take the lead.  Your takes will not age well.'},\n",
       " 422: {'review_id': 676,\n",
       "  'review_time': '2024-05-02',\n",
       "  'like': 0,\n",
       "  'review': 'The most overused word today is \"iconic\". This is not iconic. This is a failure.',\n",
       "  'review_processed': 'The most overused word today is \"iconic\". This is not iconic. This is a failure.'},\n",
       " 423: {'review_id': 679,\n",
       "  'review_time': '2024-05-02',\n",
       "  'like': 1,\n",
       "  'review': 'Clever instead of deceitful... Nice one Marq. You are so sold...\\nYeah... Snake in the garden was clever...',\n",
       "  'review_processed': 'Clever instead of deceitful... Nice one Marq. You are so sold...\\nYeah... Snake in the garden was clever...'},\n",
       " 424: {'review_id': 680,\n",
       "  'review_time': '2024-05-02',\n",
       "  'like': 2,\n",
       "  'review': 'So in short... Perfect car for those who know nothing about cars, and those who want a clout.\\nIf you like cars... keep scrolling...',\n",
       "  'review_processed': 'So in short... Perfect car for those who know nothing about cars, and those who want a clout.\\nIf you like cars... keep scrolling...'},\n",
       " 425: {'review_id': 682,\n",
       "  'review_time': '2024-05-02',\n",
       "  'like': 0,\n",
       "  'review': 'Damn I work at the studio they shot this at',\n",
       "  'review_processed': 'Damn I work at the studio they shot this at'},\n",
       " 426: {'review_id': 683,\n",
       "  'review_time': '2024-05-02',\n",
       "  'like': 2,\n",
       "  'review': 'tell me you got this car for free in exchange for a biased  review without telling me you got this truck for free in exchange for a biased review .',\n",
       "  'review_processed': 'tell me you got this car for free in exchange for a biased  review without telling me you got this truck for free in exchange for a biased review .'},\n",
       " 427: {'review_id': 688,\n",
       "  'review_time': '2024-05-02',\n",
       "  'like': 1,\n",
       "  'review': '“Is it ugly?”\\n“Yes”',\n",
       "  'review_processed': 'Is it ugly?\\nYes'},\n",
       " 428: {'review_id': 689,\n",
       "  'review_time': '2024-05-02',\n",
       "  'like': 3,\n",
       "  'review': 'Disappointed that the truck having the worst internal and external safety design and extreme environmental and infrastructural impact is barely mentioned. \\n\\nThe safety aspects have already been mentioned in other comments (to add to that though: I don’t think this will ever be approved for EU sale with anything resembling the current design). \\n\\nThe impact on environment and infrastructure is arguably even worse though. The sheer mass of this thing makes it so insanely bad. \\n\\nThis thing is basically two Teslas stuffed into a one to achieve pretty much nothing except literally exponentially more impact on the tires and asphalt. \\n\\nThis not only increases maintenance cost of both private and public parties by a very significant factor but also a once again a literal exponential increase in microplastics from the tire wear which is already the literal largest contributor to microplastics in the world.',\n",
       "  'review_processed': \"The truck has the worst internal and external safety design and extreme environmental and infrastructure impact. The sheer mass of this thing makes it so insanely bad. The safety aspects have already been mentioned in other comments. I don't think this will ever be approved for EU sale with anything resembling the current design.\"},\n",
       " 429: {'review_id': 690,\n",
       "  'review_time': '2024-05-02',\n",
       "  'like': 0,\n",
       "  'review': 'Thank you soo much for that top view of the drag race. It was soo satisfying to finally see someone show the race in one shot instead of cutting out the whole time. And from the top, no less. Thank you =)',\n",
       "  'review_processed': 'It was so satisfying to finally see someone show the race in one shot instead of cutting out the whole time.'},\n",
       " 430: {'review_id': 692,\n",
       "  'review_time': '2024-05-02',\n",
       "  'like': 2,\n",
       "  'review': 'I think it’s really disappointing seeing you have a cybertruck. Elon is a horrible person and you are willing giving him money to do more horrible stuff.',\n",
       "  'review_processed': 'I think its really disappointing seeing you have a cybertruck. Elon is a horrible person and you are willing giving him money to do more horrible stuff.'},\n",
       " 431: {'review_id': 693,\n",
       "  'review_time': '2024-05-02',\n",
       "  'like': 0,\n",
       "  'review': \"What's the intro music song name?\",\n",
       "  'review_processed': \"What's the intro music song name?\"},\n",
       " 432: {'review_id': 694,\n",
       "  'review_time': '2024-05-02',\n",
       "  'like': 1,\n",
       "  'review': '2:04 gyat',\n",
       "  'review_processed': '2:04 gyat'},\n",
       " 433: {'review_id': 696,\n",
       "  'review_time': '2024-05-02',\n",
       "  'like': 2,\n",
       "  'review': 'I think you are looking for \"moronic\", not iconic. You are welcome. Its a clown mobile',\n",
       "  'review_processed': 'I think you are looking for \"moronic\", not iconic. You are welcome. Its a clown mobile'},\n",
       " 434: {'review_id': 699,\n",
       "  'review_time': '2024-05-02',\n",
       "  'like': 0,\n",
       "  'review': \"The cyclist will have given a thumbs down because the cyber truck requires large amounts of energy, aluminum and mined materials to build. And as said in the video, most people simply don't need such a vehicle, or it's simply not good for what trucks were once made for.\",\n",
       "  'review_processed': \"Cyclist will have given a thumbs down because the cyber truck requires large amounts of energy, aluminum and mined materials to build. Most people simply don't need such a vehicle, or it's simply not good for what trucks were once made for.\"},\n",
       " 435: {'review_id': 701,\n",
       "  'review_time': '2024-05-01',\n",
       "  'like': 0,\n",
       "  'review': 'i think it looks dope but at the same time i think its an abomination',\n",
       "  'review_processed': 'i think it looks dope but at the same time i think its an abomination'},\n",
       " 436: {'review_id': 702,\n",
       "  'review_time': '2024-05-01',\n",
       "  'like': 2,\n",
       "  'review': 'was expecting a \"the worst car I have ever reviewed, for now\" very suspicious',\n",
       "  'review_processed': 'was expecting a \"the worst car I have ever reviewed, for now\" very suspicious'},\n",
       " 437: {'review_id': 703,\n",
       "  'review_time': '2024-05-01',\n",
       "  'like': 3,\n",
       "  'review': 'A few things you left out in this video: \\n1 The bulletproof exterior isn\\'t just overrated, its dangerous. Cars are made to crumple so that the kinetic energy, the force of the crash goes through the car itself instead of your body. Whiplash at best and seriously injured at worst from a simple crash. \\n2 You did not mention the \"Car wash mode\" at all. They did not make the seals to the power points well enough to keep water out so they made that mode to close those parts and protect the car. But if you have adhd like me or just having a stressful/busy day, you will forget and brick your \\'truck\\'. Not to mention I\\'ve seen posts about this happening and it will void the warranty so you\\'re screwed. \\n3 You did mention that the windows are stronger than normal but, specifically they are meant to be shatterproof. Sure this is great if you live in a high crime area but, what would happen if you went off a bridge? I can\\'t say ive seen one submerged so i don\\'t know exactly how it would go, but normal procedure is, unbuckle, grab something for breaking the window and bust out the back windshield. How are you going to do that with this? \\n4 You didn\\'t mention a common problem with Tesla cars in general, that the doors are completely powered by the battery. ( Some may be different, i don\\'t know ) And there are many reports of their battery dying for one reason or not, and becoming unable to get in or out of the car. If this \\'truck\\' were to have this problem, how would you get out/back in? You can\\'t get out the windows thats for sure, and tow companys are going to have a hell of a time getting it to a shop of its stuck in park.\\nI can understand if maybe you didn\\'t want to include these because they specifically weren\\'t your experience, but they should atleast have a footnote in the video instead of completely ignored. (These issues are just from a couple other videos I\\'ve seen and im sure there will be more.)',\n",
       "  'review_processed': \"A few things you left out in this video: The bulletproof exterior isn't just overrated, it's dangerous. The windows are stronger than normal, but they are meant to be shatterproof. You didn't mention a common problem with Tesla cars in general, that the doors are completely powered by the battery. If this 'truck' were to have this problem, how would you get out/back in? You can't get out the windows, and tow companies are going to have a hell of a time getting it to a shop of its stuck in park.\"},\n",
       " 438: {'review_id': 705,\n",
       "  'review_time': '2024-05-01',\n",
       "  'like': 1,\n",
       "  'review': \"There's lot of safety concerns with a car like this. The esign is iconic in the way that no one makes cars like this, but there's a reason for that. If the exterior of the car doesn't budge on impact, all the strength of the hit ill go to launching you forwards, making it way more likely that you'll get hurt or worse. An the same goes for any other car you carsh with, the cyber truck absorbs no force in said impact compared to normal cars. That, and wind resistance is also a factor in efficiency as you said. The point is, no one is making them like that because they're smarter than tat. An being iconic in exchange for being less safe, not worth it. Also, it's iconic, but ugly, that's just that.\",\n",
       "  'review_processed': \"There's a lot of safety concerns with a car like this. The cyber truck absorbs no force in impact compared to normal cars. It's iconic, but ugly, that's just that.\"},\n",
       " 439: {'review_id': 707,\n",
       "  'review_time': '2024-05-01',\n",
       "  'like': 0,\n",
       "  'review': 'I saw one yesterday. It looks weird and pitiful. It reminds me of the overated Hummer H2 when it first came out.',\n",
       "  'review_processed': 'I saw one yesterday. It looks weird and pitiful. It reminds me of the overated Hummer H2 when it first came out.'},\n",
       " 440: {'review_id': 710,\n",
       "  'review_time': '2024-05-01',\n",
       "  'like': 0,\n",
       "  'review': 'It would be great if you did a video strictly about the towing capabilities, also the bed storage and how big it is. What kind of strap hooks does it have. Great video!',\n",
       "  'review_processed': 'It would be great if you did a video strictly about the towing capabilities, also the bed storage and how big it is. What kind of strap hooks'},\n",
       " 441: {'review_id': 711,\n",
       "  'review_time': '2024-05-01',\n",
       "  'like': 0,\n",
       "  'review': 'I could totally see this truck becoming the new standard police cruiser specifically because of the innate bullet resistance.',\n",
       "  'review_processed': 'I could totally see this truck becoming the new standard police cruiser specifically because of the innate bullet resistance.'},\n",
       " 442: {'review_id': 712,\n",
       "  'review_time': '2024-05-01',\n",
       "  'like': 0,\n",
       "  'review': 'its actually illegal in egrmany, cause its not good enough',\n",
       "  'review_processed': 'its actually illegal in egrmany, cause its not good enough'},\n",
       " 443: {'review_id': 713,\n",
       "  'review_time': '2024-05-01',\n",
       "  'like': 0,\n",
       "  'review': \"the reasoning that the cybertruck being bad at truck stuff, is not a problem because most people who buy trucks don't use it for truck stuff, is more an argument against buying a truck, than it is an argument for buying this tesla\",\n",
       "  'review_processed': \"The reasoning that the cybertruck is bad at truck stuff is not a problem because most people don't use it for truck stuff, is more an argument against buying a truck, than it is an argument\"},\n",
       " 444: {'review_id': 714,\n",
       "  'review_time': '2024-05-01',\n",
       "  'like': 0,\n",
       "  'review': \"It being indestructible stainless steel is itself a problem. At 7:30 you say that the driver will be fine but thata not true. In fact thats why modern cars are designed to be 'flimsy'. The crumple reduces the force of a crash by having it absorb the kinetic energy of the crash.  If the truck stays rigid and you get into a high speed collision, the other person is dead and you'll still carry the inertia of the truck at a full stop. You'll be flung into the windshield so hard itd be a miracle if you came out uninjured or alive.\",\n",
       "  'review_processed': \"At 7:30 you say the driver will be fine, but that's not true. In fact, modern cars are designed to be 'flimsy' The crumple reduces the force of a crash by having it absorb the kinetic energy of the crash.\"},\n",
       " 445: {'review_id': 715,\n",
       "  'review_time': '2024-05-01',\n",
       "  'like': 0,\n",
       "  'review': '10:30  it sounds quite inside while you are talking to us.',\n",
       "  'review_processed': '10:30  it sounds quite inside while you are talking to us.'},\n",
       " 446: {'review_id': 717,\n",
       "  'review_time': '2024-05-01',\n",
       "  'like': 0,\n",
       "  'review': '7:24 💀',\n",
       "  'review_processed': '7:24 '},\n",
       " 447: {'review_id': 718,\n",
       "  'review_time': '2024-05-01',\n",
       "  'like': 0,\n",
       "  'review': 'This is an ugly car. No doubt about that. When you have to convince yourself about the looks, you know it is ugly.',\n",
       "  'review_processed': 'This is an ugly car. No doubt about that. When you have to convince yourself about the looks, you know it is ugly.'},\n",
       " 448: {'review_id': 719,\n",
       "  'review_time': '2024-05-01',\n",
       "  'like': 3,\n",
       "  'review': 'Dude I love all your videos but the top down drone view of the drag race is one of the coolest things I’ve ever seen. Killer production on this video!',\n",
       "  'review_processed': \"I love all your videos, but the top down drone view of the drag race is one of the coolest things I've ever seen\"},\n",
       " 449: {'review_id': 723,\n",
       "  'review_time': '2024-05-01',\n",
       "  'like': 0,\n",
       "  'review': \"From a design standpoint, it will never share the same design language as the PT Cruiser because it embodies a stronger sense of modernity. So, what it will become is a benchmark for future design languages that seek to incorporate the Cybertruck's form into new automotive expressions. Will it ultimately achieve this? Who knows—but the design suggests a frontier that could indeed prove successful. Why? Because its design serves as a testament to other carmakers that such innovation is possible, given the positive reception it has received, despite the millions of pre-orders that have yet to be fulfilled.\",\n",
       "  'review_processed': \"From a design standpoint, it will never share the same design language as the PT Cruiser because it embodies a stronger sense of modernity. What it will become is a benchmark for future design languages that seek to incorporate the Cybertruck's form into new automotive expressions.\"},\n",
       " 450: {'review_id': 725,\n",
       "  'review_time': '2024-05-01',\n",
       "  'like': 2,\n",
       "  'review': 'It’s not okay when Fisker releases a car missing features on launch but it’s ICONIC when Tesla does it. Not sure about that one. Cars should all be held at the same standard',\n",
       "  'review_processed': \"It's not okay when Fisker releases a car missing features on launch, but it's unique when Tesla does it. Cars should all be held\"},\n",
       " 451: {'review_id': 726,\n",
       "  'review_time': '2024-05-01',\n",
       "  'like': 2,\n",
       "  'review': 'tell me you are an elon fanboy without telling me you are \\nan elon fanboy',\n",
       "  'review_processed': 'tell me you are an elon fanboy without telling me you are \\nan elon fanboy'},\n",
       " 452: {'review_id': 727,\n",
       "  'review_time': '2024-05-01',\n",
       "  'like': 0,\n",
       "  'review': 'I heard it rusts and how was the laughable size of the bed not mentioned?',\n",
       "  'review_processed': 'I heard it rusts and how was the laughable size of the bed not mentioned?'},\n",
       " 453: {'review_id': 728,\n",
       "  'review_time': '2024-05-01',\n",
       "  'like': 0,\n",
       "  'review': 'Can i put solar panels on it?\\nCan I sleep in it? \\nCan It drive it self when im sleeping?',\n",
       "  'review_processed': 'Can i put solar panels on it?\\nCan I sleep in it? \\nCan It drive it self when im sleeping?'},\n",
       " 454: {'review_id': 729,\n",
       "  'review_time': '2024-05-01',\n",
       "  'like': 0,\n",
       "  'review': 'There are lots of mass produced \"iconic\" cars; 1970 Charger, 93 Supra, Citroen SM, E-Type Jag, Gullwing Mercedes, Ford GT.....\\nThe list is immense & I\\'m sure you\\'ll agree, those cars lost none of their allure despite copious production runs. Give the truck a chance.',\n",
       "  'review_processed': 'There are lots of mass produced \"iconic\" cars; 1970 Charger, 93 Supra, Citroen SM, E-Type Jag, Gullwing Mercedes, Ford GT.'},\n",
       " 455: {'review_id': 731,\n",
       "  'review_time': '2024-05-01',\n",
       "  'like': 261,\n",
       "  'review': 'Here’s some food for thought: if the car gets into an accident, what crumples? Something has to, so if the car isn’t taking the hit, the only one crumpling will be the occupant inside. Not a pretty image. Also, how have people genuinely cut their fingers trying to open the door? It’s confusing and sad how many are convinced that this is the future. The future has incredibly low standards.',\n",
       "  'review_processed': \"If the car gets into an accident, what crumples? Something has to, so if the car is not taking the hit, the only one crumpling will be the occupant inside. It's confusing and sad how many are convinced that this is the future.\"},\n",
       " 456: {'review_id': 734,\n",
       "  'review_time': '2024-05-01',\n",
       "  'like': 2,\n",
       "  'review': 'My very first time watching your channel and can i say , yes imma new fan liker and subscriber, i enjoyed your video, the way you speak, the clearness to really understand all that you say, how informing it was along with the many not expected cool points, the content made me pay my full attention, and just over all straight out liked it, so im here im locked in now and you can say you have a new excited fan here fa more, so thanks , i forgot your name but im sure ill know it in no time...from me thanks ...😊',\n",
       "  'review_processed': 'I enjoyed your video, the way you speak, the clearness to understand all that you say, and how informing it was. The content made me pay my full attention, and just over all I straight out liked it. You can say you have a new excited fan here, and I will know it in no time.'},\n",
       " 457: {'review_id': 735,\n",
       "  'review_time': '2024-05-01',\n",
       "  'like': 0,\n",
       "  'review': 'Thought mah boi was about to pull out the blammer for a sec',\n",
       "  'review_processed': 'Thought mah boi was about to pull out the blammer for a sec'},\n",
       " 458: {'review_id': 736,\n",
       "  'review_time': '2024-05-01',\n",
       "  'like': 2,\n",
       "  'review': 'Everything that is wrong with the car industry, joined with everything that is wrong with the tech industry.',\n",
       "  'review_processed': 'Everything that is wrong with the car industry, joined with everything that is wrong with the tech industry.'},\n",
       " 459: {'review_id': 737,\n",
       "  'review_time': '2024-05-01',\n",
       "  'like': 0,\n",
       "  'review': 'it looks like a lowpoly prius lol',\n",
       "  'review_processed': 'it looks like a lowpoly prius lol'},\n",
       " 460: {'review_id': 739,\n",
       "  'review_time': '2024-04-30',\n",
       "  'like': 1,\n",
       "  'review': 'crazy how much of this review is mostly an add. After watching a 5 min section of it, now i know that it can race an sport car but the fact that the rearside mirror does not work was not even mentioned in passing. I had to check Drew Gooden´s video to get some actual information on the car and its surrounding context',\n",
       "  'review_processed': \"I know it can race an sport car, but the fact that the rear mirror doesn't work was not mentioned in passing. I had to check Drew Gooden's video to get some actual information on the car and its surrounding context.\"},\n",
       " 461: {'review_id': 740,\n",
       "  'review_time': '2024-04-30',\n",
       "  'like': 0,\n",
       "  'review': \"Don't panic people,  Tesla Cyberjunk isn't for everyone it's for the Koolaid drinkers. It'll end up collecting dust on lots  just like all the other overpriced, oversized junk. This vehicle will be another Hummer H1 and will suffer the same fate.\",\n",
       "  'review_processed': 'This vehicle will be another Hummer H1 and will suffer the same fate. It will end up collecting dust on lots just like all the other overpriced, oversized junk.'},\n",
       " 462: {'review_id': 741,\n",
       "  'review_time': '2024-04-30',\n",
       "  'like': 0,\n",
       "  'review': \"it isn't a truck though. its a giant car.\\nYou can move the contents of a house with a truck; show me you doing that in the cyberCar\",\n",
       "  'review_processed': 'You can move the contents of a house with a truck; show me you doing that in the cyberCar.'},\n",
       " 463: {'review_id': 743,\n",
       "  'review_time': '2024-04-30',\n",
       "  'like': 1,\n",
       "  'review': 'Go watch Drew Gooden\\'s recent \"Cars are getting dumber\" video. You\\'ll see a deeper look into the baffling cost-cutting decisions Tesla have made, especially like the touch screen controls for adjusting the air vents, which MKBHD only gives 2 seconds at 22:05.\\nThere\\'s a literal 4-step touch screen process to \\'shut down\\' your cybertruck. This is an incredibly soft review, and I think the \\'typical tesla\\' design decisions warrant much more criticism',\n",
       "  'review_processed': \"There's a literal 4-step process to 'shut down' your car. This is an incredibly soft review, and I think the 'typical tesla' design decisions warrant much more criticism.\"},\n",
       " 464: {'review_id': 744,\n",
       "  'review_time': '2024-04-30',\n",
       "  'like': 1,\n",
       "  'review': \"The Volkswagen Beetle is still iconic... cheapest, mass-produced car ever made... \\n\\nBeing mass-produced doesn't necessarily deminish its status. \\n\\nSpecially if its intention wasn't to be some posh toy only for the hyper rich to show off like the Veyron.\",\n",
       "  'review_processed': \"Being mass-produced doesn't necessarily deminish its status. The Volkswagen Beetle is still iconic.\"},\n",
       " 465: {'review_id': 746,\n",
       "  'review_time': '2024-04-30',\n",
       "  'like': 0,\n",
       "  'review': \"This steering thing sounds incredible, it's a shame I hate everything else about the Cybertruck. Here's hoping we get a practical vehicle that has 4 wheel steering in the future. EDIT: 4 wheel steering existed in 1988. 💀\",\n",
       "  'review_processed': \"It's a shame I hate everything else about the Cybertruck. Here's hoping we get a practical vehicle that has 4 wheel steering in the future.\"},\n",
       " 466: {'review_id': 748,\n",
       "  'review_time': '2024-04-30',\n",
       "  'like': 0,\n",
       "  'review': 'I thnk it is more unique rather than iconic.',\n",
       "  'review_processed': 'I thnk it is more unique rather than iconic.'},\n",
       " 467: {'review_id': 749,\n",
       "  'review_time': '2024-04-30',\n",
       "  'like': 0,\n",
       "  'review': \"it reminds me of interstellar.. I love it, but i'm not gonna get one until most/all of the bugs and issues are fixed on it. And obviously when I get the sort of money for it. I think this style would look awesome on a sport/hyper car tbh\",\n",
       "  'review_processed': \"I love it, but I'm not gonna get one until most/all of the bugs and issues are fixed on it. I think this style would look awesome on a sports car, and when I get the money for it.\"},\n",
       " 468: {'review_id': 753,\n",
       "  'review_time': '2024-04-30',\n",
       "  'like': 0,\n",
       "  'review': 'And here I thought the most dangerous thing is it‘s rigidity and lack of crumple zone',\n",
       "  'review_processed': 'And here I thought the most dangerous thing is its rigidity and lack of crumple zone'},\n",
       " 469: {'review_id': 754,\n",
       "  'review_time': '2024-04-30',\n",
       "  'like': 0,\n",
       "  'review': 'This thing is a beast... Love it.',\n",
       "  'review_processed': 'This thing is a beast... Love it.'},\n",
       " 470: {'review_id': 755,\n",
       "  'review_time': '2024-04-30',\n",
       "  'like': 0,\n",
       "  'review': 'You know who this car is for? Divorced, middle aged men trying to impress their daughters underage best friend. Tbf thats probably the reason the F150 etc. exist as well.',\n",
       "  'review_processed': 'You know who this car is for? Divorced, middle aged men trying to impress their daughters underage best friend.'},\n",
       " 471: {'review_id': 757,\n",
       "  'review_time': '2024-04-30',\n",
       "  'like': 0,\n",
       "  'review': \"It gives you EYE CANCER! It starts rusting the minute you use it on the road. It may  cut off your fingers if you're not super-careful. It's a disaster on wheels.\",\n",
       "  'review_processed': \"It gives you eye cancer! It starts rusting the minute you use it on the road. It may cut off your fingers if you're not careful.\"},\n",
       " 472: {'review_id': 758,\n",
       "  'review_time': '2024-04-30',\n",
       "  'like': 2,\n",
       "  'review': \"Really disappointed and concerned you didn't mention the safety of this thing\",\n",
       "  'review_processed': \"Really disappointed and concerned you didn't mention the safety of this thing\"},\n",
       " 473: {'review_id': 759,\n",
       "  'review_time': '2024-04-30',\n",
       "  'like': 0,\n",
       "  'review': 'I’d say it accomplishes its desired design very well but I don’t like the design they picked',\n",
       "  'review_processed': 'Id say it accomplishes its desired design very well but I dont like the design they picked'},\n",
       " 474: {'review_id': 760,\n",
       "  'review_time': '2024-04-30',\n",
       "  'like': 0,\n",
       "  'review': 'The first two years of owning the reissued VW Beetle in 2000 was annoying. EVERYONE wanted to talk about it. I got so sick of people talking about the car. I remember driving down the strip in Las Vegas and people were taking pictures of my car. Right behind them the Bellagio fountains were going off and they were taking pics of my car... By 2002, it had died down. I would never do that again. It WAS easy to find in a parking lot, though...',\n",
       "  'review_processed': 'The first two years of owning the reissued VW Beetle in 2000 was annoying. I got so sick of people talking about the car. It was easy to find in a parking lot, though.'},\n",
       " 475: {'review_id': 761,\n",
       "  'review_time': '2024-04-30',\n",
       "  'like': 2,\n",
       "  'review': 'Watching some of your other videos are the whole pin debacle.\\n\\nThis felt like a paid advert in comparison.',\n",
       "  'review_processed': 'Watching some of your other videos are the whole pin debacle.\\n\\nThis felt like a paid advert in comparison.'},\n",
       " 476: {'review_id': 762,\n",
       "  'review_time': '2024-04-30',\n",
       "  'like': 0,\n",
       "  'review': 'You have a good speech dude! So auditive 🤤',\n",
       "  'review_processed': 'You have a good speech dude! So auditive '},\n",
       " 477: {'review_id': 764,\n",
       "  'review_time': '2024-04-30',\n",
       "  'like': 0,\n",
       "  'review': 'This stupid soda can is not worth one Dirty Dime😂😂😂 👉 Elon Musk stop making Useless overpriced crap✅️ OVERRATED!!!',\n",
       "  'review_processed': 'This stupid soda can is not worth one Dirty Dime  Elon Musk stop making Useless overpriced crap OVERRATED!!!'},\n",
       " 478: {'review_id': 766,\n",
       "  'review_time': '2024-04-30',\n",
       "  'like': 0,\n",
       "  'review': 'The most iconic part about this car is getting humbled off-road by a little Subaru that costs 1/5 as much. The subaru is safer, too.',\n",
       "  'review_processed': 'The most iconic part about this car is getting humbled off-road by a little Subaru that costs 1/5 as much. The subaru is safer, too.'},\n",
       " 479: {'review_id': 767,\n",
       "  'review_time': '2024-04-30',\n",
       "  'like': 0,\n",
       "  'review': \"The PT Cruiser also retailed for around 25k brand new, I can't see a whole lot of people getting a Cybertruck being as they start at 60k, just sayin'.\",\n",
       "  'review_processed': \"The PT Cruiser also retailed for around 25k brand new, and I can't see a lot of people getting a Cybertruck being\"},\n",
       " 480: {'review_id': 768,\n",
       "  'review_time': '2024-04-30',\n",
       "  'like': 9,\n",
       "  'review': 'Wasnt there a crash recently where the cybertruck was fine but the occupant was badly injured while the occupant of the other written-off car was fine?',\n",
       "  'review_processed': 'Wasnt there a crash recently where the cybertruck was fine but the occupant was badly injured while the occupant of the other written-off car was fine?'},\n",
       " 481: {'review_id': 769,\n",
       "  'review_time': '2024-04-30',\n",
       "  'like': 1,\n",
       "  'review': 'Well this didn’t age well, did it?  🤣',\n",
       "  'review_processed': 'Well this didnt age well, did it?  '},\n",
       " 482: {'review_id': 771,\n",
       "  'review_time': '2024-04-30',\n",
       "  'like': 0,\n",
       "  'review': \"I am so glad these aren't in Australia yet\",\n",
       "  'review_processed': \"I am so glad these aren't in Australia yet\"},\n",
       " 483: {'review_id': 773,\n",
       "  'review_time': '2024-04-30',\n",
       "  'like': 0,\n",
       "  'review': 'I think it looks rad.  Esp with the wraps like the Black Wrap is sweeeet!  Straight up cyberpunk.',\n",
       "  'review_processed': 'I think it looks rad.  Esp with the wraps like the Black Wrap is sweeeet!  Straight up cyberpunk.'},\n",
       " 484: {'review_id': 774,\n",
       "  'review_time': '2024-04-30',\n",
       "  'like': 0,\n",
       "  'review': 'In my opinion I wouldn’t call it a truck. I’d call it an over glamorized hatchback, but I do respect Elon for being unique.',\n",
       "  'review_processed': 'In my opinion I wouldnt call it a truck. Id call it an over glamorized hatchback, but I do respect Elon for being unique.'},\n",
       " 485: {'review_id': 775,\n",
       "  'review_time': '2024-04-30',\n",
       "  'like': 1,\n",
       "  'review': '\"If someone hits you, you\\'ll be fine.\" You are just wrong. The energy will not be absorbed by crumple zones as in a normal safe vehicle, so it has to go elsewhere. Namely, your body. Having a seat belt and air bags will help a little but they don\\'t really absorb energy, they redirect it, into you. You won\\'t fly out the windshield but you will be hit by a giant hammer which will snap bone and crush organs.',\n",
       "  'review_processed': \"The energy will not be absorbed by crumple zones as in a normal safe vehicle, so it has to go elsewhere. You won't fly out the windshield, but you will be hit by a giant hammer which will snap bone and crush organs.\"},\n",
       " 486: {'review_id': 776,\n",
       "  'review_time': '2024-04-29',\n",
       "  'like': 0,\n",
       "  'review': 'Ahh shit, he brought the 911 out! Lol',\n",
       "  'review_processed': 'Ahh shit, he brought the 911 out! Lol'},\n",
       " 487: {'review_id': 778,\n",
       "  'review_time': '2024-04-29',\n",
       "  'like': 0,\n",
       "  'review': 'Dude never seen you before. \\nVery objective, friendly and honest.\\nGood stuff',\n",
       "  'review_processed': 'Dude never seen you before. \\nVery objective, friendly and honest.\\nGood stuff'},\n",
       " 488: {'review_id': 779,\n",
       "  'review_time': '2024-04-29',\n",
       "  'like': 0,\n",
       "  'review': 'it is really iconic like something humanity should never done again.',\n",
       "  'review_processed': 'it is really iconic like something humanity should never done again.'},\n",
       " 489: {'review_id': 780,\n",
       "  'review_time': '2024-04-29',\n",
       "  'like': 0,\n",
       "  'review': 'A car that can’t crumple or release energy in a head on collision is more dangerous than anything in the road',\n",
       "  'review_processed': 'A car that cant crumple or release energy in a head on collision is more dangerous than anything in the road'},\n",
       " 490: {'review_id': 782,\n",
       "  'review_time': '2024-04-29',\n",
       "  'like': 0,\n",
       "  'review': 'iconic for being a strange and nonpractical piece of rust',\n",
       "  'review_processed': 'iconic for being a strange and nonpractical piece of rust'},\n",
       " 491: {'review_id': 783,\n",
       "  'review_time': '2024-04-29',\n",
       "  'like': 0,\n",
       "  'review': 'every feature listed as a plus for this vehicle ONLY EXIST FOR COST CUTTING PURPOSES\\n🚫DO NOT BUY THESE DEATHTRAPS🚫\\n\\ni just watched a breakdown of the steering system and its \"redundancies\" and i am thoroughly unimpressed\\n\\nthis is a reckless endangerment machine, not a car',\n",
       "  'review_processed': 'Every feature listed as a plus for this vehicle only exists for cost-cutting purposes. This is a reckless endangerment machine, not a car.'},\n",
       " 492: {'review_id': 785,\n",
       "  'review_time': '2024-04-29',\n",
       "  'like': 0,\n",
       "  'review': 'People that thought that piece of shit was worth 300k are also the same people that think a red Camaro is a Ferrari.',\n",
       "  'review_processed': 'People that thought that piece of shit was worth 300k are also the same people that think a red Camaro is a Ferrari.'},\n",
       " 493: {'review_id': 786,\n",
       "  'review_time': '2024-04-29',\n",
       "  'like': 2,\n",
       "  'review': \"You spent so much time talking about a truck going faster than a sports car. Why?  Like, i like apples, but i don't need an apple that does my taxes.  A truck has no business going that fast besides nerds durtling in a lab and showing off to their tech bros.   Why do we need a 7,000 lbs steel brick travelling that fast just to go to costco/soccer practice and back?  It's going to kill people with it's no-crumble-zone frame.\",\n",
       "  'review_processed': \"You spent so much time talking about a truck going faster than a sports car. Why? Like, I like apples, but I don't need an apple that does my taxes. A truck has no business going that fast besides nerds in a lab and showing off to their tech friends.\"},\n",
       " 494: {'review_id': 787,\n",
       "  'review_time': '2024-04-29',\n",
       "  'like': 0,\n",
       "  'review': 'What an incredible review. Loved the production. Don’t care about the car but still stayed until the end.',\n",
       "  'review_processed': 'What an incredible review. Loved the production. Dont care about the car but still stayed until the end.'},\n",
       " 495: {'review_id': 788,\n",
       "  'review_time': '2024-04-29',\n",
       "  'like': 0,\n",
       "  'review': \"How's it iconic?? Just looks like some old 1970s design for the future??\\nBasically trying too hard\",\n",
       "  'review_processed': \"How's it iconic?? Just looks like some old 1970s design for the future??\\nBasically trying too hard\"},\n",
       " 496: {'review_id': 790,\n",
       "  'review_time': '2024-04-29',\n",
       "  'like': 0,\n",
       "  'review': \"Imagine crashing one into a solid object. 100% of the energy will be transferred directly into the occupant and accelerate through the windscreen. Nobody is talking about the obvious safety issues of using steel body panels. It's not just pedestrians who will suffer more if you hit them. Without crumple zones and deliberately designed energy transferring body panels the Cybertruck stands to act as a death trap for the drivers and passengers inside. It's unbelievable that higher safety standards don't already exist in the USA which would have prevented the current Cybertruck design from ever being allowed on a public road.\",\n",
       "  'review_processed': 'Cybertruck stands to act as a death trap for drivers and passengers inside. 100% of the energy will be transferred directly into the occupant and accelerate through the windscreen.'},\n",
       " 497: {'review_id': 793,\n",
       "  'review_time': '2024-04-29',\n",
       "  'like': 1,\n",
       "  'review': 'The real reason most people buy trucks is to boost their fragile egos and bring a false sense of meaning to their lives. I pitty truck owners.',\n",
       "  'review_processed': 'The real reason most people buy trucks is to boost their fragile egos and bring a false sense of meaning to their lives. I pitty truck owners.'},\n",
       " 498: {'review_id': 794,\n",
       "  'review_time': '2024-04-29',\n",
       "  'like': 1,\n",
       "  'review': 'oh god... people really do be living in a capitalist hellscape',\n",
       "  'review_processed': 'oh god... people really do be living in a capitalist hellscape'},\n",
       " 499: {'review_id': 795,\n",
       "  'review_time': '2024-04-29',\n",
       "  'like': 1,\n",
       "  'review': \"After watching this cybertruck ad disguised a s a 'review', people should go watch Drew Gooden's video about how dumb cars have become (and how the cybertruck is the posterchild of this trend)\",\n",
       "  'review_processed': \"After watching this cybertruck ad disguised as a review, people should go watch Drew Gooden's video about how dumb cars have become.\"},\n",
       " 500: {'review_id': 801,\n",
       "  'review_time': '2024-04-28',\n",
       "  'like': 0,\n",
       "  'review': \"Watching this after having watched Drew Gooden's car video makes me feel a little deceived since you glossed over all of the problems with the cybertruck\",\n",
       "  'review_processed': \"Watching this after having watched Drew Gooden's car video makes me feel a little deceived since you glossed over all of the problems with the cybertruck\"},\n",
       " 501: {'review_id': 802,\n",
       "  'review_time': '2024-04-28',\n",
       "  'like': 1,\n",
       "  'review': \"If I was Fisker rn I'd be suing the shit out of this guy. Leaving a massively negative review of the competition while getting free cyber trucks directly from tesla? Basically making an advertisement for the horrible cybertruck while tanking the competition's company?\",\n",
       "  'review_processed': \"If I were Fisker, I'd be suing the shit out of this guy. Leaving a massively negative review of the competition while getting free cyber trucks directly from the company? Basically making an advertisement for the horrible\"},\n",
       " 502: {'review_id': 803,\n",
       "  'review_time': '2024-04-28',\n",
       "  'like': 0,\n",
       "  'review': \"How bias is this guy. Look at the ugly truck and he can't decide if it's good looking or not. No objectivity. 😂😂\",\n",
       "  'review_processed': \"How bias is this guy. Look at the ugly truck and he can't decide if it's good looking or not. No objectivity. \"},\n",
       " 503: {'review_id': 805,\n",
       "  'review_time': '2024-04-28',\n",
       "  'like': 0,\n",
       "  'review': 'Turdmobile',\n",
       "  'review_processed': 'Turdmobile'},\n",
       " 504: {'review_id': 807,\n",
       "  'review_time': '2024-04-28',\n",
       "  'like': 0,\n",
       "  'review': '4:49 No, Lexus was the first.',\n",
       "  'review_processed': '4:49 No, Lexus was the first.'},\n",
       " 505: {'review_id': 808,\n",
       "  'review_time': '2024-04-28',\n",
       "  'like': 0,\n",
       "  'review': \"if this looked more like a 73' skyline and was cheaper i would be totally sold. for the aesthetic and for its size\",\n",
       "  'review_processed': \"if this looked more like a 73' skyline and was cheaper i would be totally sold. for the aesthetic and for its size\"},\n",
       " 506: {'review_id': 809,\n",
       "  'review_time': '2024-04-28',\n",
       "  'like': 3,\n",
       "  'review': 'Designed by a 7 year old with a ruler and #2 pencil.',\n",
       "  'review_processed': 'Designed by a 7 year old with a ruler and #2 pencil.'},\n",
       " 507: {'review_id': 810,\n",
       "  'review_time': '2024-04-28',\n",
       "  'like': 0,\n",
       "  'review': 'What about the new water ingress issues with the infotainment system? Maybe an update?',\n",
       "  'review_processed': 'What about the new water ingress issues with the infotainment system? Maybe an update?'},\n",
       " 508: {'review_id': 811,\n",
       "  'review_time': '2024-04-28',\n",
       "  'like': 0,\n",
       "  'review': 'I had a hire car in the USA in 2001, a Pontiac Aztek, and just as many people approached me back then, even shouting \"I love your car!\" at the traffic lights. Everything that is extraordinary (whether new, old, rare or custom) attracts attention. \"\\'Towing\\', \\'transporting\\' and \\'off-roading\\' (...)\" - This is a sobering assessment of how useful a car like this really is, which will probably only be used as a means of transport by the millions of pre-orderers. \"And that\\'s ok.\" Why criticise when there\\'s actually nothing to criticise? A big truck with a trailer is also not suitable for picking up your child from school or driving to the supermarket to do the shopping, but it\\'s OK! Of course \\'freedom\\' is ok and the fascination of possibilities, but if you also consider other \\'iconic\\' features as a selling point (shockproof, bulletproof), do US-Americans have to survive everywhere like in \\'Escape from New York\\'?! Also no crumple zone - so me first even if I\\'m at fault in an accident, even then - that can really hurt.\\nDon\\'t get me wrong, I think it\\'s cool and I\\'d love to drive and own one, but it\\'s just nonsensical. For at least 99% of buyers, there is no real reason to own this car. Innovation or not. I know it\\'s difficult to communicate this to US-Americans...',\n",
       "  'review_processed': \"I had a hire car in the USA in 2001, a Pontiac Aztek, and just as many people approached me, shouting 'I love your car!' at the traffic lights. For at least 99% of buyers, there is no real reason to own this car. I think it's cool and I'd love to drive and own one, but it's just nonsensical.\"},\n",
       " 509: {'review_id': 812,\n",
       "  'review_time': '2024-04-28',\n",
       "  'like': 2,\n",
       "  'review': \"Everyone's excessive hate of this vehicle online is just so odd. It's just a vehicle. I don't know if I like it or not, but I'm not going to judge a vehicle before I even drive it. And as far as truck stuff everyone shopping these knows it's not good for full size gas powered truck stuff, or at least I hope so.\",\n",
       "  'review_processed': \"I don't know if I like it or not, but I'm not going to judge a vehicle before I even drive it. It's just a vehicle.\"},\n",
       " 510: {'review_id': 814,\n",
       "  'review_time': '2024-04-28',\n",
       "  'like': 0,\n",
       "  'review': \"If you bought a cybertruck and wrapped it in vinyl to promote your brand that would be some relatively cheap and effective marketing. I live in LA and I've had maybe half a dozen sightings over the last couple months but nobody has thought of that??\",\n",
       "  'review_processed': \"I live in LA and I've had maybe half a dozen sightings over the last couple months, but nobody has thought of that idea.\"},\n",
       " 511: {'review_id': 815,\n",
       "  'review_time': '2024-04-27',\n",
       "  'like': 0,\n",
       "  'review': 'For we in Europe will be really rare for a long time! (They don’t sell it here)',\n",
       "  'review_processed': 'For we in Europe will be really rare for a long time! (They dont sell it here)'},\n",
       " 512: {'review_id': 817,\n",
       "  'review_time': '2024-04-27',\n",
       "  'like': 1,\n",
       "  'review': '\"If you can, from stoplight to stoplight, be just as quick as basically any other  car in a 7,000 pound truck,  that\\'s incredible, that\\'s hilarious, that\\'s really fun.\"\\nNo, that\\'s terrifying, that\\'s dangerous, and that\\'s really stupid. A joke on wheels turning heads doesn\\'t make it \"iconic.\" Look, I\\'ve only just recently come across this channel, but this video has me hitting the \"don\\'t recommend this channel\" button.',\n",
       "  'review_processed': 'A joke on wheels turning heads doesn\\'t make it \"iconic\" The video has me hitting the \"don\\'t recommend this channel\" button.'},\n",
       " 513: {'review_id': 820,\n",
       "  'review_time': '2024-04-27',\n",
       "  'like': 0,\n",
       "  'review': 'Great review, in depth and well done. Agree with @kugelblitz2001!',\n",
       "  'review_processed': 'Great review, in depth and well done. Agree with @kugelblitz2001!'},\n",
       " 514: {'review_id': 826,\n",
       "  'review_time': '2024-04-27',\n",
       "  'like': 1,\n",
       "  'review': 'im not a fan of tesla but as a cyclist im happy about every person not driving a gas fueled car, with exhaust fumes that are killing me while cycling in the city.',\n",
       "  'review_processed': \"I'm not a fan of tesla, but as a cyclist I'm happy about every person not driving a gas fueled car with exhaust fumes\"},\n",
       " 515: {'review_id': 827,\n",
       "  'review_time': '2024-04-27',\n",
       "  'like': 3,\n",
       "  'review': \"Based on several other reviews on this thing you were way to easy on it. You almost completely ignored its safety issues and despite your statistics showing most people that buy trucks don't use them for truck stuff, that shouldn't give it a pass in how terrible it is for truck stuff. This thing has been shown to be horrible for towing or hauling over even moderate distances and only comes in a bed variation so small you can fit almost nothing in it. I'm glad you pointed out some of the problems that come from the lack of physical controls in vehicles however, that trend is absolutely horrible and a major safety problem.\",\n",
       "  'review_processed': \"You were way too easy on this vehicle. It's poor for towing or hauling over even moderate distances. It only comes in a bed variation so small you can fit almost nothing in it.\"},\n",
       " 516: {'review_id': 828,\n",
       "  'review_time': '2024-04-27',\n",
       "  'like': 55,\n",
       "  'review': 'Marques, I love your videos and I’ve grown up watching them! The writing, the music, and the cinematography is amazing. \\nBut I can’t help but notice your avoidance to talk about the real safety issues of the Cyber truck, in more detail.  To claim that people’s reaction or how they drive around you is the real safety hazard seems a little tone deaf. I also wonder at what point it is large creator’s responsibility to talk about the large civic injustice that occur for our technology to be made? You may have talked about this in other videos but, all I could think of while watching this was the cobalt miners in Congo who work in unsafe conditions, to create cool tech we own and review.',\n",
       "  'review_processed': \"I love your videos and have grown up watching them. The writing, the music, and the cinematography is amazing. But I can't help but notice your avoidance to talk about the real safety issues of the Cyber truck, in more detail.\"},\n",
       " 517: {'review_id': 831,\n",
       "  'review_time': '2024-04-27',\n",
       "  'like': 0,\n",
       "  'review': \"Yeah the way it makes other people behave has nothing to do with how it blinds them. Or all the other issues, that we can see it has very bad viewer angles.\\nThat we know many big cars SUV has huge issues with outward vision area. And this car even more.\\nI don't know what it is but this seems a Amway to again trying to shift the blame away from a very ill designed car with a huge amount of hazardous errors and bad design.\\n\\nNo its all the other drivers.\\nAlso here is another thought.\\nThe amount of many design flaws , ACCUMULATES to make it much much worse.\\nThe way you've start you carelessly redirects from the flaws as if they can be dismissed one by one.\\nShowing you have no concept or idea or what makes something bad or Ill designed or many other things.\\n\\nAgain excuses for Tesla and seemingly anything Elon Musk works on, when repeatedly the my make mistakes in a large number of things that are well-known within car design and construction knowledge and shouldn't happen so frequently and in so many numbers.\\nAll companies will make errors and almost all cars will have some flaws that could have been avoided.\\nBut the sheer size and amount that Tesla does is staggering, and we have a tech section that again and again comes with justifications and excuses, and when they do that they make our roads more unsafe , and let them off the hook.\",\n",
       "  'review_processed': \"I don't know what it is, but this seems like an effort to shift the blame away from a very ill designed car with a huge amount of hazardous errors and bad design. The way it makes other people behave has nothing to do with how it blinds them. The amount of many design flaws, accumulated to make it much much worse, shows you have no concept or idea of what makes something bad.\"},\n",
       " 518: {'review_id': 832,\n",
       "  'review_time': '2024-04-27',\n",
       "  'like': 1,\n",
       "  'review': \"First video in a long time that I hit that dislike button on. Marques is trying so hard not to mention negatives, dance around previously mentioned points and doing his best to stay on course. Course being a promotion of this absurd, badly manufactured, unsafe vehicle.\\nIconic doesn't mean rare. Iconic also doesn't mean good. This is a bad car.\",\n",
       "  'review_processed': 'Marques is trying so hard not to mention negatives, dance around previously mentioned points, and do his best to stay on course.'},\n",
       " 519: {'review_id': 833,\n",
       "  'review_time': '2024-04-27',\n",
       "  'like': 0,\n",
       "  'review': 'Being iconic doesn\\'t mean being good. This car is a bad joke in almost all aspects. As a EU guy I can only watch, and laugh in disbelief, how America is becoming more and more absurd. This poor excuse of a car is legal to own? Remember US banning pop-up headlights because of \"pedestrian safety\"? Yeah.\\nQuo vadis \\'Murica?',\n",
       "  'review_processed': 'This poor excuse of a car is legal to own? Remember US banning pop-up headlights because of \"pedestrian safety\"? Yeah. This car is a bad joke in almost all aspects.'},\n",
       " 520: {'review_id': 835,\n",
       "  'review_time': '2024-04-27',\n",
       "  'like': 0,\n",
       "  'review': \"so, no mentioning that the body of the car being of a harder, non-bending metal actually makes the shockwaves of impact propagate directly to the occupants without any dampening, making collisions way riskier to the life of who's inside?\\nEDIT: of course not, you even lie a little bit. hope the youtube adsense + tesla money transfer are  enough to pay your priest for forgiveness\",\n",
       "  'review_processed': \"The body of the car being of a harder, non-bending metal makes the shockwaves of impact propagate directly to the occupants without any dampening, making collisions way riskier to the life of who's inside.\"},\n",
       " 521: {'review_id': 836,\n",
       "  'review_time': '2024-04-27',\n",
       "  'like': 0,\n",
       "  'review': 'I posted a comment on his new video \"There is something ingenuine about Disney and Marquez that makes this collaboration complete\" but can say this about him and Tesla too. Does Elon pay well to be a Tesla fanboy?',\n",
       "  'review_processed': 'There is something genuine about Disney and Marquez that makes this collaboration complete. I can say this about him and Tesla too. Does Elon pay well to be a Tesla fanboy?'},\n",
       " 522: {'review_id': 837,\n",
       "  'review_time': '2024-04-27',\n",
       "  'like': 0,\n",
       "  'review': 'All the pedestrians getting sliced in half by this thing are gonna be hella iconic',\n",
       "  'review_processed': 'All the pedestrians getting sliced in half by this thing are gonna be hella iconic'},\n",
       " 523: {'review_id': 839,\n",
       "  'review_time': '2024-04-27',\n",
       "  'like': 0,\n",
       "  'review': \"I just can't get past this thing not having door handles.  This is a huge security risk if someone ever slipped off the road into a body of water, right?  How would anyone rescue you?\",\n",
       "  'review_processed': \"I can't get past this thing not having door handles. It's a huge security risk if someone ever slips off the road into a body of water. How would anyone rescue you\"},\n",
       " 524: {'review_id': 840,\n",
       "  'review_time': '2024-04-27',\n",
       "  'like': 5,\n",
       "  'review': 'The only opinion that matters is yours.',\n",
       "  'review_processed': 'The only opinion that matters is yours.'},\n",
       " 525: {'review_id': 841,\n",
       "  'review_time': '2024-04-27',\n",
       "  'like': 2,\n",
       "  'review': 'Some people probably love it. There is literally nothing that appeals to me about it. But more than that...if I wanted a truck...an actual truck...to do truck things with, this would be the last thing I would consider.',\n",
       "  'review_processed': 'If I wanted a truck, this would be the last thing I would consider. There is literally nothing that appeals to me about it.'},\n",
       " 526: {'review_id': 842,\n",
       "  'review_time': '2024-04-27',\n",
       "  'like': 1,\n",
       "  'review': 'This truck is like the new hummer. Garbage vehicle that’s too expensive, but douchebags will still get it so they can run you off the road.',\n",
       "  'review_processed': 'This truck is like the new hummer. Garbage vehicle thats too expensive, but douchebags will still get it so they can run you off the road.'},\n",
       " 527: {'review_id': 844,\n",
       "  'review_time': '2024-04-26',\n",
       "  'like': 0,\n",
       "  'review': 'It is definitely an SUV. The word \"truck\" is just a marketing thing. It is amazing how you can get people to imagine things that aren\\'t there. F150, I still love you :).',\n",
       "  'review_processed': 'It is definitely an SUV. The word \"truck\" is just a marketing thing. It is amazing how you can get people to imagine things that aren\\'t there.'},\n",
       " 528: {'review_id': 845,\n",
       "  'review_time': '2024-04-26',\n",
       "  'like': 1,\n",
       "  'review': 'I live in a area with a lot of rich ppl, I’m not excited for my schools parking lot to have some of these 😭 some kid already drives a ev hummer and has almost ran me over twice. I drive my tiny Hyundai accent and am terrified of these massive cars.',\n",
       "  'review_processed': \"I live in an area with a lot of rich people, and I'm not excited for my schools parking lot to have some of these. Some kid already drives a hummer and has almost run me over twice. I drive a tiny Hyundai and\"},\n",
       " 529: {'review_id': 846,\n",
       "  'review_time': '2024-04-26',\n",
       "  'like': 0,\n",
       "  'review': 'It is sci-fi and and yes, downright futuristic and amazing. It is like Mad Max X type of thing. I also feel it would pop out wings and fly off the road:0. Of course, that is just me. Or maybe not ...?',\n",
       "  'review_processed': 'It is sci-fi and and yes, downright futuristic and amazing. It is like Mad Max X type of thing. I also feel it would pop out wings and fly off the road.'},\n",
       " 530: {'review_id': 848,\n",
       "  'review_time': '2024-04-26',\n",
       "  'like': 0,\n",
       "  'review': 'LEGO',\n",
       "  'review_processed': 'LEGO'},\n",
       " 531: {'review_id': 850,\n",
       "  'review_time': '2024-04-26',\n",
       "  'like': 0,\n",
       "  'review': 'Seen it in person and definitely was not impressed.',\n",
       "  'review_processed': 'Seen it in person and definitely was not impressed.'},\n",
       " 532: {'review_id': 851,\n",
       "  'review_time': '2024-04-26',\n",
       "  'like': 0,\n",
       "  'review': 'Thank you for the explanation on the quick vs fast, hope more people will understand the difference.',\n",
       "  'review_processed': 'Thank you for the explanation on the quick vs fast, hope more people will understand the difference.'},\n",
       " 533: {'review_id': 852,\n",
       "  'review_time': '2024-04-26',\n",
       "  'like': 0,\n",
       "  'review': \"So many issues with this vehicle. It is not even a truck. It gets beat by a suburb off roading. Rust on panels already. It's a joke.\",\n",
       "  'review_processed': \"It is not even a truck. It gets beat by a suburb off roading already. It's a joke.\"},\n",
       " 534: {'review_id': 853,\n",
       "  'review_time': '2024-04-26',\n",
       "  'like': 0,\n",
       "  'review': '8.7% Dislikes on this video with 3.2M Views...wonder what that means?',\n",
       "  'review_processed': '8.7% Dislikes on this video with 3.2M Views...wonder what that means?'},\n",
       " 535: {'review_id': 854,\n",
       "  'review_time': '2024-04-26',\n",
       "  'like': 0,\n",
       "  'review': 'The finish is so so bad.',\n",
       "  'review_processed': 'The finish is so so bad.'},\n",
       " 536: {'review_id': 855,\n",
       "  'review_time': '2024-04-26',\n",
       "  'like': 0,\n",
       "  'review': \"Iconic, like Trump's hair. \\nDoesn't mean it's a good thing.\",\n",
       "  'review_processed': \"Iconic, like Trump's hair. \\nDoesn't mean it's a good thing.\"},\n",
       " 537: {'review_id': 856,\n",
       "  'review_time': '2024-04-26',\n",
       "  'like': 0,\n",
       "  'review': 'Okay, how smart is this guy?🔥🔥',\n",
       "  'review_processed': 'Okay, how smart is this guy?'},\n",
       " 538: {'review_id': 857,\n",
       "  'review_time': '2024-04-26',\n",
       "  'like': 0,\n",
       "  'review': \"I had the first Rivian in my state (literally) and the amount of people who would speed up, block me in, take pictures/videos while driving a hwy speeds, swerve into my lane, and overall just act dumb around the truck was insane. It's not just the cybertruck, its any unique looking vehicle. This would also happen early in the Model S and X lifecycle when I had those.\",\n",
       "  'review_processed': \"I had the first Rivian in my state, and the amount of people who would speed up, block me in, take pictures, and just act dumb around the truck was insane. It's not just the cybertruck, its any unique looking vehicle.\"},\n",
       " 539: {'review_id': 858,\n",
       "  'review_time': '2024-04-26',\n",
       "  'like': 2,\n",
       "  'review': \"Can't believe he went with the Back To The Future Guitar Solo argument to defend this meme on wheels.\",\n",
       "  'review_processed': \"Can't believe he went with the Back To The Future Guitar Solo argument to defend this meme on wheels.\"},\n",
       " 540: {'review_id': 859,\n",
       "  'review_time': '2024-04-26',\n",
       "  'like': 0,\n",
       "  'review': 'Waiting for MKBHD to make it Matte Black.',\n",
       "  'review_processed': 'Waiting for MKBHD to make it Matte Black.'},\n",
       " 541: {'review_id': 861,\n",
       "  'review_time': '2024-04-26',\n",
       "  'like': 0,\n",
       "  'review': 'The fact that if you want to wash the truck and you forget to put it in \"car wash\" mode it completely destroys the truck and isn\\'t covered by the warranty is beyond laughable',\n",
       "  'review_processed': 'If you want to wash the truck and you forget to put it in \"car wash\" mode, it completely destroys the vehicle and isn\\'t covered by the warranty'},\n",
       " 542: {'review_id': 863,\n",
       "  'review_time': '2024-04-26',\n",
       "  'like': 2,\n",
       "  'review': \"I'm sorry but what is the fuction of a review like this, just seems like part flex, part hey I'm the tech guy and this tech is cool, sorta? It sucks as a car, it sucks as a truck. There's no reason for most people to have this. It's unsafe for other drivers and pedestrians, especially since its a very fast and rigid structure. It's way overpriced. Also, you're filling the pockets of a white-supremacist. Don't think iconic is the correct word, more like infamous.\",\n",
       "  'review_processed': \"There's no reason for most people to have this. It's unsafe for other drivers and pedestrians, especially since it's a very fast and rigid structure. Also, you're filling the pockets of a white supremacist.\"},\n",
       " 543: {'review_id': 864,\n",
       "  'review_time': '2024-04-26',\n",
       "  'like': 1,\n",
       "  'review': \"I'm having trouble deciding if it's more or less responsible to review the Cybertruck with or without discussing Elon Musk's problematic socio-political issues. Like the increase of hate speech on Twitter and his denial of it, his friendly relations w/ white supremecists, or his near unlimited entanglement w/ the Chinese Communist Party. Speaking from the perspective of somebody who USED TO BE a fan of Elon Musk, I feel I should point out that the reason I would give a thumbs down to a Cybertruck isn't that its not interesting or even good looking, but that I can't support a man like Elon Musk. When I see a cyber truck on the street, I assume it belongs to a Musk fanboy, who likes supporting the man who made it, and the things he stands for.\",\n",
       "  'review_processed': \"I'm having trouble deciding if it's more or less responsible to review the Cybertruck with or without discussing Elon Musk's problematic socio-political issues. The reason I would give a thumbs down to a Cyber truck isn't that it's not interesting or even good looking, but that I can't support a man like Elon Musk.\"},\n",
       " 544: {'review_id': 865,\n",
       "  'review_time': '2024-04-26',\n",
       "  'like': 2,\n",
       "  'review': 'its a bad and dangerous car, no idea how this is legal in the US. This video seems not complete, what about the rust issues, gaspedal issue, truck not working after couple of miles? Why not try to go offroad (never seen a video where the cybertruck works ANY better than a normal car offroad)',\n",
       "  'review_processed': 'I have no idea how this is legal in the US. What about the rust issues, gas issues, and the truck not working after a few miles? Why not try to go offroad?'},\n",
       " 545: {'review_id': 866,\n",
       "  'review_time': '2024-04-26',\n",
       "  'like': 44,\n",
       "  'review': 'I found it a bit problematic, that you looked at it more one sighted. The interior is in a very low quality style, the steal gets dirty and rusty very easily and buyers have a lot of restrictions with how to clean it and how often. There are examples, that already show problems with the steal after 11 days. Furthermore i would have liked if you could have showed the dangers of the car (sensors of trunk dont work, means that if fingers are in they are off; the edges at the doors are very sharp; if you run over someone they are most likely dead). Still good video, thanks for the content.❤',\n",
       "  'review_processed': 'I found it a bit problematic, that you looked at it more one sighted. The interior is in a very low quality style, the steal gets dirty and rusty very easily, and buyers have a lot of restrictions with how to clean it and how often.'},\n",
       " 546: {'review_id': 867,\n",
       "  'review_time': '2024-04-26',\n",
       "  'like': 0,\n",
       "  'review': \"Iconic in a sense that the design stands out, yes. But I think for all the wrong reasons. Its a SUV in a shape of a truck (because its bad at everything that a truck should do), it has shoddy build quality (just look at the discolered doors - that can't be intentional), almost all controls are on the touch screen making it very distracing for the driver to use. And thats all aside from the design, which is controverial and I peronally don't like it, but I can see how somebody else can like it, even if its just for the novelty.\\nSo I all you want is essentially a SUV with a extravagant design and care more about how you are seen on the road than what the car actually does for you, its the car for you.\",\n",
       "  'review_processed': \"The design stands out, but for all the wrong reasons. It's an SUV in a shape of a truck, it's bad at everything that a truck should do, it has shoddy build quality, almost all controls are on the touch screen making it very distracing for the driver.\"},\n",
       " 547: {'review_id': 869,\n",
       "  'review_time': '2024-04-26',\n",
       "  'like': 1,\n",
       "  'review': \"These have proven to be unreliable, crappy build quality, low resale value,  un-practical and poorly made machines with lots of problems. Iconic!! My son's drawing would then be a master piece. Why is he promoting this shit again an again!\",\n",
       "  'review_processed': \"These have proven to be unreliable, crappy build quality, low resale value, un-practical and poorly made machines with lots of problems. My son's drawing would then be a master piece.\"},\n",
       " 548: {'review_id': 870,\n",
       "  'review_time': '2024-04-26',\n",
       "  'like': 2,\n",
       "  'review': 'Iconic for being the worst “ truck” ever built? Sure and that’s about it, but glad to see you are still selling out for checks.',\n",
       "  'review_processed': 'Iconic for being the worst  truck ever built? Sure and thats about it, but glad to see you are still selling out for checks.'},\n",
       " 549: {'review_id': 871,\n",
       "  'review_time': '2024-04-26',\n",
       "  'like': 1,\n",
       "  'review': 'This tells me everything about the state of marques now. What a complete sellout.',\n",
       "  'review_processed': 'This tells me everything about the state of marques now. What a complete sellout.'},\n",
       " 550: {'review_id': 873,\n",
       "  'review_time': '2024-04-26',\n",
       "  'like': 1,\n",
       "  'review': 'That’s just the copium. It’ll wear off. But no, it’s not iconic, unless it becomes iconic for kluges.',\n",
       "  'review_processed': 'Thats just the copium. Itll wear off. But no, its not iconic, unless it becomes iconic for kluges.'},\n",
       " 551: {'review_id': 874,\n",
       "  'review_time': '2024-04-26',\n",
       "  'like': 2,\n",
       "  'review': 'For a channel that\\'s recently under fire for being \"too critical\" of a product, this review seems oddly... biased?',\n",
       "  'review_processed': 'For a channel that\\'s recently under fire for being \"too critical\" of a product, this review seems oddly... biased?'},\n",
       " 552: {'review_id': 875,\n",
       "  'review_time': '2024-04-26',\n",
       "  'like': 1,\n",
       "  'review': 'Why are you wasting time talking about this stupid thing ? Can you imagine the  damage these things are doing to the environment? Why do people need a truck for normal every day use? How stupid must one be to even think of buying this ?',\n",
       "  'review_processed': 'Can you imagine the damage these things are doing to the environment? Why do people need a truck for normal every day use? How stupid must one be to even think of buying this?'},\n",
       " 553: {'review_id': 876,\n",
       "  'review_time': '2024-04-26',\n",
       "  'like': 0,\n",
       "  'review': \"This additide of willing beta tester is really messed up. It's a car. Its a massive peice of steel traveling at high speeds, from the testing thats out and the recall thats in it shouldn't of been legal. That self closeing trunk could easily remove fingers or a hand, and the gas pedal was held on by a plastic clip. You cannot beta test on the general public with a car.\",\n",
       "  'review_processed': \"From the testing that's out and the recall that's in it shouldn't have been legal. You cannot beta test on the general public with a car.\"},\n",
       " 554: {'review_id': 877,\n",
       "  'review_time': '2024-04-25',\n",
       "  'like': 0,\n",
       "  'review': \"One of the biggest things it has going for it in terms of actual utility and tangible capabilities that differentiate it from other vehicles is actually the bed and cover so I'm disappointed to see that omitted.\",\n",
       "  'review_processed': \"One of the biggest things it has going for it in terms of actual utility and tangible capabilities is actually the bed and cover, so I'm disappointed to see that omitted.\"},\n",
       " 555: {'review_id': 880,\n",
       "  'review_time': '2024-04-25',\n",
       "  'like': 1,\n",
       "  'review': 'Look, I am really sorry: If I wanna have stainless steel, black plastic I would buy a DeLorean.',\n",
       "  'review_processed': 'Look, I am really sorry: If I wanna have stainless steel, black plastic I would buy a DeLorean.'},\n",
       " 556: {'review_id': 882,\n",
       "  'review_time': '2024-04-25',\n",
       "  'like': 7,\n",
       "  'review': 'he said it had low headlights that arent in peoples eyes but i swear i literally watched a video yesterday bringing up how they shine in everyones eyes at night',\n",
       "  'review_processed': 'he said it had low headlights that arent in peoples eyes but i swear i literally watched a video yesterday bringing up how they shine in everyones eyes at night'},\n",
       " 557: {'review_id': 886,\n",
       "  'review_time': '2024-04-25',\n",
       "  'like': 0,\n",
       "  'review': 'I am happy its not allowed in EU.\\nIts not really save (sharp edges & no crumple area if a accident happens)\\nand I fear you get blinded because its stainless steel  an reflect lights.',\n",
       "  'review_processed': \"I am happy its not allowed in the EU because it's sharp edges and no crumple area if an accident happens. I fear you get blinded because its stainless steel\"},\n",
       " 558: {'review_id': 887,\n",
       "  'review_time': '2024-04-25',\n",
       "  'like': 0,\n",
       "  'review': 'Last week I was IN the Truck. NYC 6.  Av. Creazy. 🥰\\nGreetings from Germany/ Porscheland 😎',\n",
       "  'review_processed': 'Last week I was IN the Truck. NYC 6.  Av. Creazy. \\nGreetings from Germany/ Porscheland '},\n",
       " 559: {'review_id': 888,\n",
       "  'review_time': '2024-04-25',\n",
       "  'like': 0,\n",
       "  'review': 'Its still not gonna be common because most people can’t afford even a $30k new car including myself. This things $80k plus.',\n",
       "  'review_processed': 'Its still not gonna be common because most people cant afford even a $30k new car including myself. This things $80k plus.'},\n",
       " 560: {'review_id': 890,\n",
       "  'review_time': '2024-04-25',\n",
       "  'like': 0,\n",
       "  'review': 'Anyone else getting a some anxiety when he was closing the door? That steel could REALLY mess up someone’s fingers if they get slammed on.',\n",
       "  'review_processed': 'Anyone else getting a some anxiety when he was closing the door? That steel could REALLY mess up someones fingers if they get slammed on.'},\n",
       " 561: {'review_id': 891,\n",
       "  'review_time': '2024-04-25',\n",
       "  'like': 0,\n",
       "  'review': 'Of all the trucks / SUVs  on the road this has got to be one of the ugliest looking designs out there.',\n",
       "  'review_processed': 'Of all the trucks / SUVs  on the road this has got to be one of the ugliest looking designs out there.'},\n",
       " 562: {'review_id': 894,\n",
       "  'review_time': '2024-04-25',\n",
       "  'like': 0,\n",
       "  'review': 'At least you still have all your fingers.',\n",
       "  'review_processed': 'At least you still have all your fingers.'},\n",
       " 563: {'review_id': 896,\n",
       "  'review_time': '2024-04-25',\n",
       "  'like': 0,\n",
       "  'review': \"I stopped when the door broke. If you can't make a door right I won't trust my life inside this car.\",\n",
       "  'review_processed': \"I stopped when the door broke. If you can't make a door right I won't trust my life inside this car.\"},\n",
       " 564: {'review_id': 897,\n",
       "  'review_time': '2024-04-25',\n",
       "  'like': 0,\n",
       "  'review': \"I don't hate the back, and I don't not like the front, but the side is weird to me.  The way that line is closer to the front wheel arch than the back just looks odd to me.\\n\\nAlso I know that Tesla know who they are selling to, but you'll never see one of these with a cherry picker boom arm in the back, and you'll never see one in the frozen areas of the planet because touch screens don't work with thick gloves\",\n",
       "  'review_processed': \"I don't hate the back, and I don't not like the front, but the side is weird to me. The way that line is closer to the front wheel arch than the back just looks odd to me; also, you'll never see one of these with a cherry picker boom arm in the back; and you won't see one in the frozen areas of the planet because they don't work with thick gloves.\"},\n",
       " 565: {'review_id': 904,\n",
       "  'review_time': '2024-04-25',\n",
       "  'like': 0,\n",
       "  'review': '14:36 Any reason you took so long off the mark, MKBHD? Is this your way of making things \"interesting\"? By taking what looks like a few hundred milliseconds AFTER the Cybertruck before accelerating from a STOP?',\n",
       "  'review_processed': 'Any reason you took so long off the mark, MKBHD? Is this your way of making things interesting? By taking a few milliseconds after the Cybertruck before accelerating from a'},\n",
       " 566: {'review_id': 905,\n",
       "  'review_time': '2024-04-25',\n",
       "  'like': 1,\n",
       "  'review': '8:54 You called the Fisker the worst car you\\'ve ever reviewed but here show that Tesla, one of the most famous/infamous car companies in the world, screwed up the door latch? Did anything about the Fisker start falling apart there, Marques? \"Already Iconic\"? Yeah, of Elon Musk, his arrogance, and his inability to come up with the goods. I hope you keep this video up, MKBHD. When these over-priced loser-mobiles look like they belong in a post-apocalyptic trash heap, you may be the worst-reviewed reviewer that people ever heard of. Congratulations!',\n",
       "  'review_processed': \"You called the Fisker the worst car you've ever reviewed, but here show that Tesla screwed up the door latch. I hope you keep this video up, because when these over-priced loser-mobiles look like they belong in a post-apocalyptic trash heap, you may be the worst-reviewed reviewer that people have ever heard of.\"},\n",
       " 567: {'review_id': 906,\n",
       "  'review_time': '2024-04-25',\n",
       "  'like': 0,\n",
       "  'review': \"It changes your steering based on your speed? That sounds DANGEROUS. The steering responsiveness or the ratio of steering wheel to steering the wheels should NOT change. Does it change the braking too? How about the accelerator? Maybe the headlights auto-adjust, too. I think Musk/Tesla is trying too hard to automate things BEFORE they can be automated RESPONSIBLY. This isn't a phone or a new way of making fruit smoothies. Cars and trucks are HEAVY MACHINERY, and if they don't respond PREDICTABLY, someone could get seriously hurt or die.\",\n",
       "  'review_processed': \"It changes your steering based on your speed? That sounds dangerous. This isn't a phone or a new way of making fruit smoothies. Cars and trucks are heavy machines, and if they don't respond properly, someone could get seriously hurt or die.\"},\n",
       " 568: {'review_id': 907,\n",
       "  'review_time': '2024-04-25',\n",
       "  'like': 0,\n",
       "  'review': \"This... thing... is iconic of Elon Musk's arrogance and how much it's going to cost Tesla forever. Are you really boosting this cheesy rustbucket? It looks like something they had to throw out after making some stupid sci-fi.\",\n",
       "  'review_processed': \"This is iconic of Elon Musk's arrogance and how much it's going to cost Tesla forever. It looks like something they had to throw out after making some stupid sci-fi.\"},\n",
       " 569: {'review_id': 908,\n",
       "  'review_time': '2024-04-25',\n",
       "  'like': 0,\n",
       "  'review': 'Just saw one of these in Saint Louis and was so confused at what I saw lmao',\n",
       "  'review_processed': 'Just saw one of these in Saint Louis and was so confused at what I saw lmao'},\n",
       " 570: {'review_id': 909,\n",
       "  'review_time': '2024-04-25',\n",
       "  'like': 10,\n",
       "  'review': \"The stark contrast between this review and Fisker's review is kinda sus. Very curious how a review of BYD would pan out on this channel\",\n",
       "  'review_processed': \"The stark contrast between this review and Fisker's review is kinda sus. Very curious how a review of BYD would pan out on this channel\"},\n",
       " 571: {'review_id': 910,\n",
       "  'review_time': '2024-04-25',\n",
       "  'like': 0,\n",
       "  'review': \"What that person said about the TP Loser is ABSOLUTELY FALSE. If they were talking about the Prowler, that would be true. The Prowler looks like an alien spaceship still today. Hell, a 1998 Viper still turns heads. But the PT Snoozer? Never on its best day would anyone EVER take a beat to acknowledge its presence. That person's opinion is factually incorrect.\",\n",
       "  'review_processed': 'What that person said about the TP Loser is absolutely untrue. The Prowler looks like an alien spaceship still today. Never on its best day would anyone take a beat to acknowledge its presence.'},\n",
       " 572: {'review_id': 913,\n",
       "  'review_time': '2024-04-24',\n",
       "  'like': 0,\n",
       "  'review': \"I'd never buy this, and overall if someone wants to buy it I also don't care. It's actually great, because it tells me a lot about that person. So if for example I have a friend who buys one, I now know to never lend them money, because they have poor financial literacy.\",\n",
       "  'review_processed': \"I'd never buy this, and overall if someone wants to buy it, I don't care. It's actually great, because it tells me a lot about that person. I now know to never lend them money, because they have poor financial literacy.\"},\n",
       " 573: {'review_id': 914,\n",
       "  'review_time': '2024-04-24',\n",
       "  'like': 0,\n",
       "  'review': 'Damn these videos, so good.',\n",
       "  'review_processed': 'Damn these videos, so good.'},\n",
       " 574: {'review_id': 916,\n",
       "  'review_time': '2024-04-24',\n",
       "  'like': 0,\n",
       "  'review': \"It's so true that this thing gets attention. I have seen a Cybertruck exactly once and sure enough, I ogled it at the gas station and ended up having a conversation with the owner and taking photos with my family.\",\n",
       "  'review_processed': 'I have seen a Cybertruck exactly once, and sure enough, I ogled it at the gas station and ended up having a conversation with the owner and taking photos with my family.'},\n",
       " 575: {'review_id': 917,\n",
       "  'review_time': '2024-04-24',\n",
       "  'like': 0,\n",
       "  'review': 'Okay.. so what happens to other people you hit? They just die?',\n",
       "  'review_processed': 'Okay.. so what happens to other people you hit? They just die?'},\n",
       " 576: {'review_id': 920,\n",
       "  'review_time': '2024-04-24',\n",
       "  'like': 0,\n",
       "  'review': \"The Cybertruck even being in the ballpark of a 911 is insane considering its size and weight. But it BEATS the 911 at 0-60, the speeds that matter to typical drivers on typical roads. That's underrated performance. Losing to a 911 at 80+ mph is irrelevant.\",\n",
       "  'review_processed': 'The Cybertruck even being in the ballpark of a 911 is insane considering its size and weight. But it beats the 911 at 0-60, the speeds that matter to typical drivers on typical roads.'},\n",
       " 577: {'review_id': 921,\n",
       "  'review_time': '2024-04-24',\n",
       "  'like': 128,\n",
       "  'review': 'This is more of an advertisement than an unbiased review.',\n",
       "  'review_processed': 'This is more of an advertisement than an unbiased review.'},\n",
       " 578: {'review_id': 922,\n",
       "  'review_time': '2024-04-24',\n",
       "  'like': 0,\n",
       "  'review': 'I feel like people who like this truck dont realize how bad it will be for people walking in cities. When he brings up one person vs 4 people being unhappy to happy, hes not recognizing the context of people who dont have to worry about the car vs people who are in a box of steel. I wont budge in thinking high speed+high traction is terrible. That will eat through our already damaged road and nkt to mention people being destracted by a screen in a 3 ton vehicle is literally a recipe for disaster.  Genuinely hate this truck as someone who already has to deal with trucks that cant see above my 6\\'3\" head',\n",
       "  'review_processed': \"I feel like people who like this truck don't realize how bad it will be for people walking in cities. When he brings up one person vs four people being unhappy to happy, he isn't recognizing the context of people who don't have to worry about the car vs people who are in a box of steel.\"},\n",
       " 579: {'review_id': 923,\n",
       "  'review_time': '2024-04-24',\n",
       "  'like': 0,\n",
       "  'review': 'I still think ZZ Top made the PT Cruiser as popular as it became. Not that they endorsed the car in any way, it was just how iconic their own logo with that vehicle style was. Had a mobster, 30s 40s feel to it that was the initial attraction. Should have had suicide doors, imo.',\n",
       "  'review_processed': 'I still think ZZ Top made the PT Cruiser as popular as it became. Not that they endorsed the car in any way, it was just how iconic their own logo with that vehicle style was.'},\n",
       " 580: {'review_id': 925,\n",
       "  'review_time': '2024-04-24',\n",
       "  'like': 0,\n",
       "  'review': 'Holy shit, is that The Stig?',\n",
       "  'review_processed': 'Holy shit, is that The Stig?'},\n",
       " 581: {'review_id': 927,\n",
       "  'review_time': '2024-04-24',\n",
       "  'like': 0,\n",
       "  'review': \"Interesting how this guy is OK with all the bugs and negatives about the cyber truck including a safety recall for all of them.  But he basically destroyed Fisker in their infancy over software bugs.  How much was he paid?  Hmmmm.  We'll never know.\",\n",
       "  'review_processed': \"He's OK with all the bugs and negatives about the cyber truck including a safety recall for all of them. But he basically destroyed Fisker in their infancy over software bugs. How much was he paid? We'll never know\"},\n",
       " 582: {'review_id': 928,\n",
       "  'review_time': '2024-04-24',\n",
       "  'like': 0,\n",
       "  'review': \"Wait so - after a year if you have a negative kWh credit - it just..... vanishes into the aether? You get paid our nothing? You function like a tiny power plant for the company but you don't get paid the overproduction. (Clearly not at the price they are selling you a kwh but say at 30% of the hour) \\nThat sucks. Cause that's a thing here in Austria.\",\n",
       "  'review_processed': \"After a year if you have a negative kWh credit, it just vanishes into the ether. You function like a tiny power plant for the company, but you don't get paid the overproduction.\"},\n",
       " 583: {'review_id': 931,\n",
       "  'review_time': '2024-04-24',\n",
       "  'like': 0,\n",
       "  'review': \"the fact that safety concerns weren't brough up about poor crumple zones, doors that can maim you, how much momentum it carries, so that anyone hit by the truck would suffer much more damage than a standard truck?\",\n",
       "  'review_processed': \"Safety concerns weren't brought up about poor crumple zones, doors that can maim you, or how much momentum it carries, so that anyone hit by the truck would suffer much more damage\"},\n",
       " 584: {'review_id': 932,\n",
       "  'review_time': '2024-04-24',\n",
       "  'like': 0,\n",
       "  'review': '5:00 Wait, so half a turn of the steering wheel will result in different reaction at low speeds vs high speeds?\\nAm I understanding this correctly?\\nBecause it sounds really, REALLY fucking stupid.',\n",
       "  'review_processed': 'Wait, so half a turn of the steering wheel will result in different reaction at low speeds vs high speeds? Am I understanding this correctly? Because it sounds really'},\n",
       " 585: {'review_id': 933,\n",
       "  'review_time': '2024-04-24',\n",
       "  'like': 0,\n",
       "  'review': \"Let's not forget that a real vehicle..  or any other NOT EV vehicle.... In 5 years it will still work perfectly fine ..... Damn!!.. There are car from the 1940's that even today work fine...... now this battery toy??.. In 5 years it will have 50% battery capacity if you are lucky....... or your tell me.. your 5 year old cell phone or lithium battery drill still holds full charge in his battery???... and by the way most of us.. in 5 years we will be still paying for the damn car..\",\n",
       "  'review_processed': \"A real vehicle, or any other not electric vehicle, will still work perfectly fine in five years. There are cars from the 1940's that even today work perfectly; now this battery toy? In 5 years it will have 50% battery capacity if you are lucky; or your 5 year old cell phone or lithium battery drill still holds full charge in his battery?\"},\n",
       " 586: {'review_id': 938,\n",
       "  'review_time': '2024-04-24',\n",
       "  'like': 0,\n",
       "  'review': 'They left a lot of room for improvement. Watch every few months as new trucks come on the market. I’m expecting a year from now you get a substantially different truck. Two years from now, who knows? Sky is the limit. \\n\\nYou are right, a mass produced vehicle will look different when they are everywhere. They might start to look like clones in those science fiction flicks. But . . . I have the feeling it won’t go this way with the Cybertruck. Or Tesla cars generally. Enough will be customized with wraps and accessories they won’t blend in like a bison in a herd numbered in the millions. But speculating is part of the journey.',\n",
       "  'review_processed': \"A mass produced vehicle will look different when they are everywhere. They might start to look like clones in those science fiction flicks. I have the feeling it won't go this way with the Cybertruck.\"},\n",
       " 587: {'review_id': 939,\n",
       "  'review_time': '2024-04-24',\n",
       "  'like': 0,\n",
       "  'review': 'The stainless steel. You’re right it’s overrated having bulletproof panels, bulletproof glass. But  Navigators and other vehicles do get upgraded to bulletproof (for a big fee) by custom shops. And in one of the Munro Live videos shared how they started with 3mm thick body panels, then switched to thinner metal, saying they changed the alloy so they had the same durability that weighs and costs less. But I’m sure they didn’t mind slightly lowering the bulletproof-ness. It makes no sense to invite people to shoot at your truck.',\n",
       "  'review_processed': \"You're right it's overrated having bulletproof panels, but some vehicles are upgraded to bulletproof by custom shops. It makes no sense to invite people to shoot at your truck.\"},\n",
       " 588: {'review_id': 943,\n",
       "  'review_time': '2024-04-24',\n",
       "  'like': 0,\n",
       "  'review': '6:44 Brownlee is not a small guy. But the Cybertruck sure makes him look like one. Wow.',\n",
       "  'review_processed': '6:44 Brownlee is not a small guy. But the Cybertruck sure makes him look like one. Wow.'},\n",
       " 589: {'review_id': 944,\n",
       "  'review_time': '2024-04-24',\n",
       "  'like': 0,\n",
       "  'review': 'The guy who thumbed down you probably irrationally hates Elon. Most people who hate him literally have no reason, are misinformed, and are irrational. Elon could create nuclear fission and take us to the moon and Mars, and there would still be people shit-talking him and irrationally hating him.',\n",
       "  'review_processed': 'Most people who hate Elon have no reason, are misinformed, and are irrational. Elon could create nuclear fission and take us to the moon and Mars, and there would still be people shit-talking him and irrationally hating him.'},\n",
       " 590: {'review_id': 945,\n",
       "  'review_time': '2024-04-24',\n",
       "  'like': 0,\n",
       "  'review': \"A car you love but you think you can't buy because you don't want to be robbed.\",\n",
       "  'review_processed': \"A car you love but you think you can't buy because you don't want to be robbed.\"},\n",
       " 591: {'review_id': 946,\n",
       "  'review_time': '2024-04-24',\n",
       "  'like': 0,\n",
       "  'review': 'My question is where the fuck are my pop up headlights in new cars? They obviously didn\\'t actually think the \"sharp\" corners that pop up headlights create were dangerous since this piece of shit exists. So whats the real reason they are gone.\\n\\nAlso i like Ev\\'s, I\\'m all for ev\\'s, the hummer ev is the coolest shit imo even tho i acknoledge it\\'s a waste of resources, i have wanted a toyota prius since i was like 9 so 11 years ago at this point. I don\\'t mind tesla at all. Its literally just this truck is god awful.',\n",
       "  'review_processed': \"I like the hummer, but it's a waste of resources. I have wanted a Toyota since I was 9, and I don't like it at all.\"},\n",
       " 592: {'review_id': 947,\n",
       "  'review_time': '2024-04-24',\n",
       "  'like': 207,\n",
       "  'review': 'You can tell Marquise isn’t really a car guy. History is littered with iconic, mass-produced cars: Mustang, Beetle, Audi TT, 911, 356 to name just a few',\n",
       "  'review_processed': 'You can tell that Marquise is not really a car guy. History is littered with iconic, mass-produced cars.'},\n",
       " 593: {'review_id': 949,\n",
       "  'review_time': '2024-04-23',\n",
       "  'like': 0,\n",
       "  'review': 'if the icon is of a shallow human with dispensable income, then yes, yes it is iconic',\n",
       "  'review_processed': 'if the icon is of a shallow human with dispensable income, then yes, yes it is iconic'},\n",
       " 594: {'review_id': 951,\n",
       "  'review_time': '2024-04-23',\n",
       "  'like': 0,\n",
       "  'review': 'Minecraft the car - best features are the recall; and car wash mode or bust.',\n",
       "  'review_processed': 'Minecraft the car - best features are the recall; and car wash mode or bust.'},\n",
       " 595: {'review_id': 955,\n",
       "  'review_time': '2024-04-23',\n",
       "  'like': 0,\n",
       "  'review': \"it won't look so great when it rusts in less than 30 days because they don't treat the steel\",\n",
       "  'review_processed': \"it won't look so great when it rusts in less than 30 days because they don't treat the steel\"},\n",
       " 596: {'review_id': 957,\n",
       "  'review_time': '2024-04-23',\n",
       "  'like': 0,\n",
       "  'review': 'Awesome, You was at Island dragway, NJ',\n",
       "  'review_processed': 'Awesome, You was at Island dragway, NJ'},\n",
       " 597: {'review_id': 960,\n",
       "  'review_time': '2024-04-23',\n",
       "  'like': 1,\n",
       "  'review': \"It's literally a meme car for YouTubers and other people with more money than sense. Nobody who actually cares about value for money would buy it. \\nIt not even likely to be street legal in large parts of the world.\",\n",
       "  'review_processed': \"It's literally a meme car for YouTubers and people with more money than sense. Nobody who actually cares about value for money would buy it. It's not even likely to be street\"},\n",
       " 598: {'review_id': 964,\n",
       "  'review_time': '2024-04-23',\n",
       "  'like': 0,\n",
       "  'review': 'Maybe being a YouTuber with 19 million subs affects how people look at you.\\n\\nJust a little.',\n",
       "  'review_processed': 'Maybe being a YouTuber with 19 million subs affects how people look at you.\\n\\nJust a little.'},\n",
       " 599: {'review_id': 965,\n",
       "  'review_time': '2024-04-23',\n",
       "  'like': 2,\n",
       "  'review': 'Most iconic thing about this vehicle is steering failing just after 14 days of delivery. What a POS.',\n",
       "  'review_processed': 'Most iconic thing about this vehicle is steering failing just after 14 days of delivery. What a POS.'},\n",
       " 600: {'review_id': 966,\n",
       "  'review_time': '2024-04-23',\n",
       "  'like': 0,\n",
       "  'review': \"What's iconic about it the truck doesn't do anything they said it would do and if you do wanted to do that you gotta pay extra the truck isn't really bulletproof in order to be bulletproof you have to be able to stop a 45 caliber and cannot do that it goes through-and-through both doors the truck isn't anything it claimed to be\",\n",
       "  'review_processed': \"The truck doesn't do anything they said it would do, and if you wanted to do that, you'd have to pay extra. The truck isn't really bulletproof; it goes through-and-through both doors.\"},\n",
       " 601: {'review_id': 967,\n",
       "  'review_time': '2024-04-23',\n",
       "  'like': 1,\n",
       "  'review': 'iconic? yes, iconically dumb, iconically unpractical, iconically bad.',\n",
       "  'review_processed': 'iconic? yes, iconically dumb, iconically unpractical, iconically bad.'},\n",
       " 602: {'review_id': 968,\n",
       "  'review_time': '2024-04-23',\n",
       "  'like': 0,\n",
       "  'review': 'I am still so incredibly sceptical about steer by wire. Sure, I love the variable steering rates and the haptic feedback, but what happens when the car is old and it fails. Are you just going to suddenly lose all steering, is the car going to think you’re doing 20 down the highway and adjust the steering accordingly? At least with a mechanical steering wheel, any failure is likely to be a progressive failure that will give you forewarning.',\n",
       "  'review_processed': 'I love the variable steering rates and the haptic feedback, but what happens when the car is old and it fails? At least with a mechanical steering wheel, any failure is likely to be a progressive failure that will give you forewarning.'},\n",
       " 603: {'review_id': 969,\n",
       "  'review_time': '2024-04-23',\n",
       "  'like': 0,\n",
       "  'review': 'I disagree about you being fine if you’re hit. Cars that crumple absorb the energy of the crash. A hard material means the energy is transferred into the passenger.',\n",
       "  'review_processed': 'Cars that crumple absorb the energy of the crash. A hard material means the energy is transferred into the passenger.'},\n",
       " 604: {'review_id': 971,\n",
       "  'review_time': '2024-04-23',\n",
       "  'like': 0,\n",
       "  'review': 'It’s like the shudder you get with a tequila shot. So wrong, but somehow so right.',\n",
       "  'review_processed': 'Its like the shudder you get with a tequila shot. So wrong, but somehow so right.'},\n",
       " 605: {'review_id': 973,\n",
       "  'review_time': '2024-04-23',\n",
       "  'like': 0,\n",
       "  'review': 'Thumbs up for the review (24:10) watched all 27:23 mins of this. I am a bit late (3 weeks later) watching this, but it would be a big surprise to see a Cybertruck on the streets of Jakarta, Indonesia nevertheless I would not rule this out.',\n",
       "  'review_processed': 'It would be a big surprise to see a Cybertruck on the streets of Jakarta, Indonesia, but I would not rule it out.'},\n",
       " 606: {'review_id': 974,\n",
       "  'review_time': '2024-04-23',\n",
       "  'like': 0,\n",
       "  'review': \"Seems like all I see online (including this comment section, jeeze) is hate for this thing and frankly most EVs... But I think it's cool and innovative. Obviously not for everyone and that's ok, no car is for everyone. I had the pleasure of being taken for a short joy ride in one by a friend of mine who works for Tesla, and holy crap it was cool 😎\",\n",
       "  'review_processed': \"I had the pleasure of being taken for a short joy ride in one by a friend of mine who works for Tesla, and holy crap it was cool. Obviously not for everyone and that's ok, no car is for everyone.\"},\n",
       " 607: {'review_id': 975,\n",
       "  'review_time': '2024-04-23',\n",
       "  'like': 0,\n",
       "  'review': \"People calling the Cybertruck ugly has bias against it. People who don't know a thing about Elon, Tesla, and EVs simply find it interesting, like something out of a sci-fi movie. I showed a picture of it to some of my old folks and 4/7 asked if it was a new Batmobile. 😅\\nNot a fan of it myself as I'm more of a Subaru guy but if I see one on the streets, I'd probably take a picture and tell my friend about it. Some folks be hating on other people's cars is stupid.\",\n",
       "  'review_processed': \"People calling the Cybertruck ugly has bias against it. People who don't know a thing about Elon, Tesla, and EVs simply find it interesting, like something out of a sci-fi movie.\"},\n",
       " 608: {'review_id': 978,\n",
       "  'review_time': '2024-04-23',\n",
       "  'like': 0,\n",
       "  'review': 'With the amount of gun violence in america, the bullet proof is actually under rated',\n",
       "  'review_processed': 'With the amount of gun violence in america, the bullet proof is actually under rated'},\n",
       " 609: {'review_id': 981,\n",
       "  'review_time': '2024-04-23',\n",
       "  'like': 3,\n",
       "  'review': 'This aged like milk. Can we still trust any of your reviews ? Are you just a paid shill for terrible and dysfunctional products ?',\n",
       "  'review_processed': 'This aged like milk. Can we still trust any of your reviews ? Are you just a paid shill for terrible and dysfunctional products ?'},\n",
       " 610: {'review_id': 982,\n",
       "  'review_time': '2024-04-23',\n",
       "  'like': 13,\n",
       "  'review': 'Thought you were going to say the accelerator pedal at the beginning.',\n",
       "  'review_processed': 'Thought you were going to say the accelerator pedal at the beginning.'},\n",
       " 611: {'review_id': 985,\n",
       "  'review_time': '2024-04-23',\n",
       "  'like': 2,\n",
       "  'review': \"It's possible to be iconic and mass-produced. The Mini, the VW Golf, even the F150 are all iconic.\",\n",
       "  'review_processed': \"It's possible to be iconic and mass-produced. The Mini, the VW Golf, even the F150 are all iconic.\"},\n",
       " 612: {'review_id': 986,\n",
       "  'review_time': '2024-04-22',\n",
       "  'like': 0,\n",
       "  'review': \"After all these years of getting calls from people asking if my refrigerator is running... \\n\\nYes, yes it's running and it's quick AF down the 1/4mi ;)\",\n",
       "  'review_processed': \"After all these years of getting calls from people asking if my refrigerator is running, it's running and it's quick AF down the 1/\"},\n",
       " 613: {'review_id': 989,\n",
       "  'review_time': '2024-04-22',\n",
       "  'like': 0,\n",
       "  'review': 'Ok, but i will wait for a NotJustBikes review on the Cybertruck.',\n",
       "  'review_processed': 'Ok, but i will wait for a NotJustBikes review on the Cybertruck.'},\n",
       " 614: {'review_id': 990,\n",
       "  'review_time': '2024-04-22',\n",
       "  'like': 0,\n",
       "  'review': 'never once in my life i want to take pictures of other people vehicle😂i would just look at it,admired it and moved on',\n",
       "  'review_processed': 'never once in my life i want to take pictures of other people vehiclei would just look at it,admired it and moved on'},\n",
       " 615: {'review_id': 991,\n",
       "  'review_time': '2024-04-22',\n",
       "  'like': 49,\n",
       "  'review': 'Idk Mk there\\'s a lot of things that you left out of this review or at least could have mentioned that make it feel like you were intentionally going soft of Tesla for one reason or another:\\n1. The stainless steel panels rust very easily (anything from dead bugs to bird droppings can lead to rusting) and the panels will start to change colour if exposed to water whilst in the sun (something like the second CT at 26:01).\\n2. To avoid the rusting problem Tesla charges 5k to put a protective coating on the panels which they should have put on it in the first place\\n3. The panels are not fucking bulletproof\\n4. Drag racing it is pretty dumb if you are not going to be towing stuff either. One could argue that the people who buy the CT are more likely to tow something than ever be in any form of race with it.\\n5. For a truck it has a very tiny bay, no bigger than the average Suzuki light truck, this is a very important bit of information considering how that bay size dictates how much you can potentially carry. You didn\\'t at all dwell on this part and only briefly touched on it by saying you and your crew use it to move your equipment but exactly how much equipment was that bro? Surely you caould have taken 2 or 3 minutes to just show how many grocery bags or suitcases can fit in the bay and taken 2 or 3 less minutes glazing the \"iconic design\" \\n6. For health and safety reasons it is entirely irresponsible to not accurately communicate how much of a bruising and cutting hazard the sharp steel edges of the doors actually are, I have seen videos of carrots getting sliced and chopped against the edges of the door, they\\'re like fucking katanas 😂.\\nAnyway, I hope in a year or so we can get a more well rounded review from you tackling the issues I\\'ve just highlighted, especially number 6 because if anyone who owns a toddler has designs on buying this dumb truck, they should at least know that it comes with the possibility of leaving their toddler devoid of a finger or two.',\n",
       "  'review_processed': \"There's a lot of things that you left out of this review that make it feel like you were intentionally going soft of Tesla for one reason or another. The stainless steel panels rust very easily and the panels will start to change colour if exposed to water whilst in the sun. For a truck it has a very tiny bay, no bigger than the average Suzuki light truck. For health and safety reasons it is irresponsible to not accurately communicate how much of a bruising and cutting hazard the sharp steel edges of the doors are.\"},\n",
       " 616: {'review_id': 992,\n",
       "  'review_time': '2024-04-22',\n",
       "  'like': 0,\n",
       "  'review': \"This thing is dangerous, ugly, and overall unnecessary as it doesn't bring anything new to any market. It's just a funny looking wannabe tank. I understand that you're all about fair reviews and you're looking at the product separate from the manufacturer, but this doesn't need or deserve positive recognition\",\n",
       "  'review_processed': \"This thing is dangerous, ugly, and unnecessary. It doesn't bring anything new to any market. It's just a funny looking wannabe tank.\"},\n",
       " 617: {'review_id': 994,\n",
       "  'review_time': '2024-04-22',\n",
       "  'like': 0,\n",
       "  'review': 'I\\'ll be the next cyclist giving you a thumbs down. This truck and others in its class further endanger pedestrians and cyclists, all for \"the design.\" It\\'s disappointing seeing someone I look up to praise a trend like this.',\n",
       "  'review_processed': 'I\\'ll be the next cyclist giving you a thumbs down. This truck and others in its class further endanger pedestrians and cyclists, all for \"the design.\" It\\'s disappointing seeing someone I look up to praise a trend'},\n",
       " 618: {'review_id': 995,\n",
       "  'review_time': '2024-04-22',\n",
       "  'like': 0,\n",
       "  'review': \"It is iconic, in that it's a marketing gimmick. Unmistakable look that's very eye-catching. To me it honestly just looks like free advertising on four wheels.\\n\\nBut good on them for releasing a concept car into the wild, I'd like to see that more often.\",\n",
       "  'review_processed': \"It is iconic, in that it's a marketing gimmick. It honestly just looks like free advertising on four wheels. But good on them for releasing a concept car into the wild. I'd like to see that more often.\"},\n",
       " 619: {'review_id': 996,\n",
       "  'review_time': '2024-04-22',\n",
       "  'like': 0,\n",
       "  'review': 'Shout out to the graph in the middle of the video. Finally have something to show the die hard truck buyers when they say im lying about people rarely using a truck for its original intended purpose.',\n",
       "  'review_processed': \"I have something to show the die hard truck buyers when they say I'm lying about people rarely using a truck for its intended purpose.\"},\n",
       " 620: {'review_id': 997,\n",
       "  'review_time': '2024-04-22',\n",
       "  'like': 0,\n",
       "  'review': 'I replayed that intro way too many times. Felt like I was watching an NFS cinematic',\n",
       "  'review_processed': 'I replayed that intro way too many times. Felt like I was watching an NFS cinematic'},\n",
       " 621: {'review_id': 999,\n",
       "  'review_time': '2024-04-22',\n",
       "  'like': 30,\n",
       "  'review': 'People reporting that they got 2 hours, 2 months, who-knows out of this thing before random problems with the digital electronics bricked it. Starts getting mini-rust stains after a couple hours in rain. No thanks. What a waste.',\n",
       "  'review_processed': 'People reporting that they got 2 hours, 2 months, or who knows how many hours out of this thing before random problems with the digital electronics bricked it.'},\n",
       " 622: {'review_id': 1000,\n",
       "  'review_time': '2024-04-22',\n",
       "  'like': 0,\n",
       "  'review': 'Iconic they are already on the recall list, iconic more like ironic.',\n",
       "  'review_processed': 'Iconic they are already on the recall list, iconic more like ironic.'},\n",
       " 623: {'review_id': 1001,\n",
       "  'review_time': '2024-04-22',\n",
       "  'like': 2,\n",
       "  'review': 'I am sad to say I have had to stop watching MKBHDs stuff, I feel he is sadly very out of touch with day to day people along with our horrible economy. And reading the comments, it seems like he was very positive to a ..concerning degree in this video. This truck has an immense amount of problems. I am disappointed.',\n",
       "  'review_processed': 'I am sad to say I have had to stop watching MKHD because he is sadly very out of touch with day to day people. And reading the comments, it seems like he was very positive to a concerning degree in this video. This truck has an immense amount of problems.'},\n",
       " 624: {'review_id': 1003,\n",
       "  'review_time': '2024-04-22',\n",
       "  'like': 1,\n",
       "  'review': 'I love when you comment on how finger-printy something is. Such a 1st world non-issue to come from years of reviewing cell phones.',\n",
       "  'review_processed': 'I love when you comment on how finger-printy something is. Such a 1st world non-issue to come from years of reviewing cell phones.'},\n",
       " 625: {'review_id': 1005,\n",
       "  'review_time': '2024-04-22',\n",
       "  'like': 0,\n",
       "  'review': 'A YouTuber complaining that they get talked to by strangers. Sure. I think most people would welcome the attention.\\n\\nEdit: Sry. Not complaining. Mkbhd is too good a dude to do that (publicly?).',\n",
       "  'review_processed': 'A YouTuber complaining that they get talked to by strangers. Sure. Most people would welcome the attention.'},\n",
       " 626: {'review_id': 1006,\n",
       "  'review_time': '2024-04-22',\n",
       "  'like': 0,\n",
       "  'review': '1. I think the majority of people taking pictures of the cyber truck does it - not because they think it’s cool - but because it stands out.\\n\\n2. I think it’s the same reason people overestimate the price. They think it’s a limited run car - which it is because Tesla hasn’t been able to make more than 4k of them. \\n\\nBoth of these things will therefore stop happening if the car ever reaches a wider adoption.',\n",
       "  'review_processed': \"I think the majority of people taking pictures of the cyber truck does it because they think it's cool, but also because it stands out. I think its the same reason people overestimate the price. They think its a limited run car, which it is because Tesla has not been able to make more than 4k of them.\"},\n",
       " 627: {'review_id': 1007,\n",
       "  'review_time': '2024-04-22',\n",
       "  'like': 0,\n",
       "  'review': \"if I had a Cybertrk, first thing I'd do is take it to a shop to have it wrapped in that bedliner shit lmao\",\n",
       "  'review_processed': \"if I had a Cybertrk, first thing I'd do is take it to a shop to have it wrapped in that bedliner shit lmao\"},\n",
       " 628: {'review_id': 1009,\n",
       "  'review_time': '2024-04-22',\n",
       "  'like': 4,\n",
       "  'review': \"The Cybertruck will be a collector's item by early 2025 when everyone cancels their orders because it's a $100K disaster.\",\n",
       "  'review_processed': \"The Cybertruck will be a collector's item by early 2025 when everyone cancels their orders because it's a $100K disaster.\"},\n",
       " 629: {'review_id': 1011,\n",
       "  'review_time': '2024-04-22',\n",
       "  'like': 229,\n",
       "  'review': \"That biker giving you the thumbs down is because they saw the culmination of all the years of 'bigger is better' car designs making the roads less and less safe. I'll take my old VW sedan design any day. There's already too many SUVs around here and it's honestly becoming a problem on the road and in parking lots.\\nFinal verdict on the car is that it's not safe for others and I don't want to see one. The tech and design to make it functional is cool though.\",\n",
       "  'review_processed': \"There's already too many SUVs around here and it's honestly becoming a problem on the road and in parking lots. The tech and design to make it functional is cool, but I don't want to see one.\"},\n",
       " 630: {'review_id': 1014,\n",
       "  'review_time': '2024-04-22',\n",
       "  'like': 1,\n",
       "  'review': 'Here is the thing that nobody gets: The Cybertruck is a tech demo. Not for consumers but for manufacturing. The Cybertruck is to Model 2 what Model 2 was for Model 3. A more expensive first iteration.',\n",
       "  'review_processed': \"The Cybertruck is a tech demo, not for consumers but for manufacturing. It's to Model 2 what Model 2 was for Model 3.\"},\n",
       " 631: {'review_id': 1015,\n",
       "  'review_time': '2024-04-22',\n",
       "  'like': 2,\n",
       "  'review': '\"Tesla Cybertruck Review: Already Iconic?\"\\n\\nFisker: \"This is the worst car i have ever reviewed\"\\n\\nNo wonder people think you are bias. Imagine thinking Magna Styer produces shittier build quality cars than Tesla. \\n\\nStick to tech dude, this isn\\'t your space.',\n",
       "  'review_processed': 'Fisker: \"This is the worst car I have ever reviewed.\"'},\n",
       " 632: {'review_id': 1016,\n",
       "  'review_time': '2024-04-22',\n",
       "  'like': 0,\n",
       "  'review': 'I’d give it a higher score if it didn’t have that horrible minimalistic interior 😝.  I still find them interesting to see them in the wild. And yeah, Same feeling as the PT Cruiser when I was 12.',\n",
       "  'review_processed': 'I still find them interesting to see them in the wild. Same feeling as the PT Cruiser I had when I was 12.'},\n",
       " 633: {'review_id': 1017,\n",
       "  'review_time': '2024-04-22',\n",
       "  'like': 85,\n",
       "  'review': '\"Millions of people\" will end up with this eventually you say? The recall of every single Cybertruck FORCED Tesla to reveal how many they delivered to date: about 3.5k.  IN TOTAL. So they just need to increase deliveries by a factor of a thousand to reach that number lmao.',\n",
       "  'review_processed': 'The recall of every single Cybertruck forced Tesla to reveal how many they have delivered to date: about 3.5k.'},\n",
       " 634: {'review_id': 1018,\n",
       "  'review_time': '2024-04-22',\n",
       "  'like': 1,\n",
       "  'review': 'Thank you for not pandering, but telling it like you experience it. These tech companies consider your input on future updates. keep speaking the good word, Marques!',\n",
       "  'review_processed': 'Thank you for not pandering, but telling it like you experience it. These tech companies consider your input on future updates.'},\n",
       " 635: {'review_id': 1019,\n",
       "  'review_time': '2024-04-22',\n",
       "  'like': 3,\n",
       "  'review': 'A massive bulking truck made of steel which is faster than some sports cars and it about to be in the hands of millions of people who have never driven a truck before... sounds like alot of people are going to die.',\n",
       "  'review_processed': \"A massive bulking truck made of steel is faster than some sports cars. It's about to be in the hands of millions of people who have never driven a truck before. It sounds like a lot\"},\n",
       " 636: {'review_id': 1021,\n",
       "  'review_time': '2024-04-22',\n",
       "  'like': 0,\n",
       "  'review': 'Wanker thst u had to raise the issue of the striker.',\n",
       "  'review_processed': 'Wanker thst u had to raise the issue of the striker.'},\n",
       " 637: {'review_id': 1022,\n",
       "  'review_time': '2024-04-22',\n",
       "  'like': 4,\n",
       "  'review': '\"If someone hits you, you\\'ll be fine.\" No, the truck will be fine, but you\\'ll probably have lots of broken bones.',\n",
       "  'review_processed': '\"If someone hits you, you\\'ll be fine.\" No, the truck will be fine, but you\\'ll probably have lots of broken bones.'},\n",
       " 638: {'review_id': 1025,\n",
       "  'review_time': '2024-04-22',\n",
       "  'like': 0,\n",
       "  'review': 'Iconic? Yes. \\n\\nUgly ? Also yes.',\n",
       "  'review_processed': 'Iconic? Yes. \\n\\nUgly ? Also yes.'},\n",
       " 639: {'review_id': 1026,\n",
       "  'review_time': '2024-04-22',\n",
       "  'like': 0,\n",
       "  'review': 'The Cybertruck is a joke.  It is not really functional AS A REAL PICKUP TRUCK.  It is just a SUV with a weird compartment for a TRUNK (for storage).  I think it will be discontinued within five years.',\n",
       "  'review_processed': \"The Cybertruck is a joke. It is not really functional as a pickup truck. It's just an SUV with a weird compartment for a backpack. I think it will be discontinued within five years\"},\n",
       " 640: {'review_id': 1027,\n",
       "  'review_time': '2024-04-22',\n",
       "  'like': 11,\n",
       "  'review': \"i think the biker used a thumbs down bc he didn't like the thought of being sliced in half by a cybertruck\",\n",
       "  'review_processed': \"i think the biker used a thumbs down bc he didn't like the thought of being sliced in half by a cybertruck\"},\n",
       " 641: {'review_id': 1028,\n",
       "  'review_time': '2024-04-22',\n",
       "  'like': 350,\n",
       "  'review': 'I am an ER nurse and bike rider.  I PRAY FOR CYCLISTS.  :(',\n",
       "  'review_processed': 'I am an ER nurse and bike rider.  I PRAY FOR CYCLISTS.  :('},\n",
       " 642: {'review_id': 1030,\n",
       "  'review_time': '2024-04-22',\n",
       "  'like': 0,\n",
       "  'review': \"I don't think the Tesla ad was a cyber truck vs a TURBO Porsche am I wrong? Wasn't it vs a base 911?\",\n",
       "  'review_processed': \"I don't think the Tesla ad was a cyber truck vs a TURBO Porsche am I wrong? Wasn't it vs a base 911?\"},\n",
       " 643: {'review_id': 1031,\n",
       "  'review_time': '2024-04-22',\n",
       "  'like': 108,\n",
       "  'review': 'Arent cars supposed to crumble on impact to have the car take the force and not the human?  THat seems dangerous with major collisions.',\n",
       "  'review_processed': 'Arent cars supposed to crumble on impact to have the car take the force and not the human?  THat seems dangerous with major collisions.'},\n",
       " 644: {'review_id': 1033,\n",
       "  'review_time': '2024-04-21',\n",
       "  'like': 0,\n",
       "  'review': 'I only have one consumption. If the truck flip-over, and Driver lost his motivation. How could others help open the door. BECAUSE THERE HAD NO HANDLE.',\n",
       "  'review_processed': 'I only have one consumption. If the truck flips over, and the driver loses his motivation, how could others help open the'},\n",
       " 645: {'review_id': 1036,\n",
       "  'review_time': '2024-04-21',\n",
       "  'like': 2,\n",
       "  'review': \"Um, that's not a truck. This looks like bad origami.\",\n",
       "  'review_processed': \"Um, that's not a truck. This looks like bad origami.\"},\n",
       " 646: {'review_id': 1037,\n",
       "  'review_time': '2024-04-21',\n",
       "  'like': 1,\n",
       "  'review': \"Just don't wash it on a sunny day....\",\n",
       "  'review_processed': \"Just don't wash it on a sunny day....\"},\n",
       " 647: {'review_id': 1039,\n",
       "  'review_time': '2024-04-21',\n",
       "  'like': 2,\n",
       "  'review': 'iconic for just how bad it is lol',\n",
       "  'review_processed': 'iconic for just how bad it is lol'},\n",
       " 648: {'review_id': 1040,\n",
       "  'review_time': '2024-04-21',\n",
       "  'like': 0,\n",
       "  'review': 'This video seems to be a paid commercial 🤔',\n",
       "  'review_processed': 'This video seems to be a paid commercial '},\n",
       " 649: {'review_id': 1043,\n",
       "  'review_time': '2024-04-21',\n",
       "  'like': 0,\n",
       "  'review': 'Gaff tape holding your $100k car door on is insane and I can’t believe the video didn’t stop there. Are you driving on public roads with your driver’s side door taped closed??',\n",
       "  'review_processed': \"Gaff tape holding your $100k car door on is insane. I can't believe the video didn't stop there. Are you driving on public roads with\"},\n",
       " 650: {'review_id': 1045,\n",
       "  'review_time': '2024-04-21',\n",
       "  'like': 1,\n",
       "  'review': 'It is a unique truck. But it costs twice the price of a Ford Lightning and offers less functionality.',\n",
       "  'review_processed': 'It is a unique truck. But it costs twice the price of a Ford Lightning and offers less functionality.'},\n",
       " 651: {'review_id': 1046,\n",
       "  'review_time': '2024-04-21',\n",
       "  'like': 0,\n",
       "  'review': \"It's a neat vehicle with all manner of interesting features, but it's not a truck. Having a bed alone doesn't qualify it. It's more of an open air station wagon\",\n",
       "  'review_processed': \"It's a neat vehicle with interesting features, but it's not a truck. It's more of an open air station wagon.\"},\n",
       " 652: {'review_id': 1048,\n",
       "  'review_time': '2024-04-21',\n",
       "  'like': 1,\n",
       "  'review': \"Should have included a section on how musk has become a divisive figure in society and that's probably where the thumbs downs are coming from. Personally i would never buy a tesla product, purely because of my thoughts about elon. Enjoyed the review\",\n",
       "  'review_processed': 'I would never buy a tesla product because of my thoughts about Elon.'},\n",
       " 653: {'review_id': 1049,\n",
       "  'review_time': '2024-04-21',\n",
       "  'like': 0,\n",
       "  'review': 'You know looking at that truck from the side it kind of looks like it was like a B2 or some kind of stealth vehicle trying to create a low profile or something',\n",
       "  'review_processed': 'You know looking at that truck from the side it kind of looks like it was like a B2 or some kind of stealth vehicle trying to create'},\n",
       " 654: {'review_id': 1051,\n",
       "  'review_time': '2024-04-21',\n",
       "  'like': 2,\n",
       "  'review': \"There's something gross, almost sinister about promoting impractical vehicles like this that are deadly to pedestrians, weigh a ton (wearing down roads at taxpayer expense and requiring bigger batteries made of rare materials), and take a huge amount of space on our streets in an era of climate crisis and cities trying to be more human friendly. It's supposed to be a truck, but (like a lot of trucks in the US) seems mainly to to be used for grocery shopping by insecure men living in the suburbs. What the hell is the point of very high acceleration in a truck? Are people competing in drag races with these? If not why even talk about stuff like this? What an idiotic, uniquely American vehicle.\",\n",
       "  'review_processed': 'What the hell is the point of very high acceleration in a truck? Are people competing in drag races with these? If not, why even talk about stuff like this? What an idiotic, uniquely American vehicle.'},\n",
       " 655: {'review_id': 1053,\n",
       "  'review_time': '2024-04-21',\n",
       "  'like': 0,\n",
       "  'review': \"The PT was and is Crysler Crap. Ask any mechanic. Lol.\\n\\nCybertruck has already had a couple reliability and safety incidents so we will know if this CyberTonkaTruck is Elon's folly or the new benchmark. Hopefully the gaps and pedals can be addressed as it opens the field for competition as wel😢l.\",\n",
       "  'review_processed': 'Cybertruck has already had a couple reliability and safety incidents. Hopefully the gaps and pedals can be addressed as it opens the field for competition.'},\n",
       " 656: {'review_id': 1055,\n",
       "  'review_time': '2024-04-21',\n",
       "  'like': 0,\n",
       "  'review': \"I don't know if you can really say people's reactions are still the most dangerous thing about the Cyber Truck anymore.\",\n",
       "  'review_processed': \"I don't know if you can really say people's reactions are still the most dangerous thing about the Cyber Truck anymore.\"},\n",
       " 657: {'review_id': 1056,\n",
       "  'review_time': '2024-04-21',\n",
       "  'like': 0,\n",
       "  'review': 'I just got a new crosstrek wilderness and the other day a lady at a red light rolled her window down and pointed her phone camera at my car. I was like ‘yeah you get a good shot of this’.',\n",
       "  'review_processed': 'I just got a new Crosstrek and the other day a lady at a red light rolled her window down and pointed her phone camera at my car. I was like yeah you get a'},\n",
       " 658: {'review_id': 1057,\n",
       "  'review_time': '2024-04-21',\n",
       "  'like': 0,\n",
       "  'review': \"It's robust, it's definitely ultra cool\",\n",
       "  'review_processed': \"It's robust, it's definitely ultra cool\"},\n",
       " 659: {'review_id': 1058,\n",
       "  'review_time': '2024-04-21',\n",
       "  'like': 0,\n",
       "  'review': \"When it comes to Iconic, I ask myself if people are going to fall in love with the vehicle. Not what it represents, but the look of the vehicle itself. For me I think the answer is No. Strip away the novelty of the angles and profiles, and no one 20 years down the line is going to call out the shape of that rear end as their inspiration for a new vehicle. No kid's gonna carry around stats for the Cybertruck in their head. The classics are cars that kids today still long for and dream about when they've seen them. A Countach could come out today and very little about it would be considered behind the times. A Cybertruck is going to look dated fairly quickly imo.\\n\\nIt's gonna be sitting in collections as an oddity for sure, but I have to wonder if all the compromises in the way it's built will mean very many of them are even running 25 years from now.\",\n",
       "  'review_processed': \"I ask myself if people are going to fall in love with the vehicle, not what it represents, but the look of the vehicle itself. Strip away the novelty of the angles and profiles, and no one will call out the shape of that rear end as their inspiration for a new vehicle. The classics are cars that kids today still long for and dream about when they've seen them.\"},\n",
       " 660: {'review_id': 1059,\n",
       "  'review_time': '2024-04-21',\n",
       "  'like': 0,\n",
       "  'review': 'Its iconic in the same way the poop emoji is an iconic way to illustrate human shit',\n",
       "  'review_processed': 'Its iconic in the same way the poop emoji is an iconic way to illustrate human shit'},\n",
       " 661: {'review_id': 1060,\n",
       "  'review_time': '2024-04-21',\n",
       "  'like': 0,\n",
       "  'review': 'NaICe',\n",
       "  'review_processed': 'NaICe'},\n",
       " 662: {'review_id': 1061,\n",
       "  'review_time': '2024-04-21',\n",
       "  'like': 359,\n",
       "  'review': '“And all the redundancies to make it safe” citation needed',\n",
       "  'review_processed': 'And all the redundancies to make it safe citation needed'},\n",
       " 663: {'review_id': 1062,\n",
       "  'review_time': '2024-04-29',\n",
       "  'like': 2,\n",
       "  'review': '\"Already Iconic?\" Yes. They\\'re iconic because, it is the only milk float, sorry car, that has had all of its production recalled or as Mr Brownlee would have you believe.\\nIt’s just an aesthetic inconvenience...nothing to see here, move along..plebs.',\n",
       "  'review_processed': 'It is the only milk float, sorry car, that has had all of its production recalled. It is just an aesthetic inconvenience. Nothing to see here, move along.'},\n",
       " 664: {'review_id': 1068,\n",
       "  'review_time': '2024-04-21',\n",
       "  'like': 0,\n",
       "  'review': 'Sorry...people need their heads read to want one of these.',\n",
       "  'review_processed': 'Sorry...people need their heads read to want one of these.'},\n",
       " 665: {'review_id': 1069,\n",
       "  'review_time': '2024-04-21',\n",
       "  'like': 0,\n",
       "  'review': '@8:08 What do you mean \"one or two years down the road they\\'re making millions of the thing\" ? Don\\'t tell me they hope to attract more than a few Tesla enthusiasts who are rich enough to waste their money on this vehicle.\\n@7:27 I guess (and fear) that this \"You\\'ll fine\" (bis) means that the person who hit you (or whom you hit) will not be fine. The safety features of a vehicle are here to minimise damages (to other vehicles and to human beings).\\n@13:24 \"Next category: performance.\" Then, proceed to talk about one specific type of performance : pure speed and acceleration. What about road handling abilities, car range, etc... ? Speed is seriously the least of my concerns as a driver.',\n",
       "  'review_processed': 'I fear that this \"You\\'ll be fine\" means the person who hit you will not be. Safety features of a vehicle are here to minimise damages to other vehicles and to human beings.'},\n",
       " 666: {'review_id': 1071,\n",
       "  'review_time': '2024-04-21',\n",
       "  'like': 1,\n",
       "  'review': 'Comparing that Tesla thing to a PT Cruiser (Dodge Neon underpinnings) with a $16K base price to a \"Cybertruck\" @ $60K to $100K is a bit of a stretch when comparing potential mass sales.  The biggest potential problem is the owner of the company.  Nothing that man says can be trusted.  The vehicle may have some fetching features BUT latching hardware falling off?  Not good.  Recall of 100% of these trucks due to accelerator pedal experiencing rapid unscheduled disassembly (thankfully unlike the SpaceX RUD it truck doesn\\'t blow up it just falls apart).  Marques, you didn\\'t mention the rusty \"stainless\".  How long will you wait to get these damn things repaired?  In the past the wait was horrendous.  Marques, I hope you enjoy carefree miles in your new ride but I think you have been too kind to a problematic manufacturer.\\n\\nBefore you attribute this to \"teething problems\", German Teslas were experiencing much higher that typical failure to pass inspection just three years after purchase.  Good luck to anybody that buys a Tesla.',\n",
       "  'review_processed': 'Comparing that Tesla thing to a PT Cruiser with a $16K base price is a stretch. Nothing that man says can be trusted. The vehicle may have some fetching features but latching hardware falling off? Not good. Recall of 100% of these trucks due to accelerator pedal experiencing rapid unscheduled disassembly.'},\n",
       " 667: {'review_id': 1072,\n",
       "  'review_time': '2024-04-21',\n",
       "  'like': 0,\n",
       "  'review': 'There is so much he brings to the review that just a review',\n",
       "  'review_processed': 'There is so much he brings to the review that just a review'},\n",
       " 668: {'review_id': 1073,\n",
       "  'review_time': '2024-04-21',\n",
       "  'like': 0,\n",
       "  'review': \"I've seen one in Dallas. It is hideous and ridiculous. I want to how much Elon paid you for this video because NO...... I didn't stare at it and I didn't take a picture of it.  I laughed and said a fool parted with his money.\",\n",
       "  'review_processed': \"I've seen one in Dallas. It is hideous and ridiculous. I want to know how much Elon paid you for this video because I didn't stare at it.\"},\n",
       " 669: {'review_id': 1075,\n",
       "  'review_time': '2024-04-21',\n",
       "  'like': 0,\n",
       "  'review': \"And omg, yaw isn't what you think it is. We can't be taking a tech influencer as a car reviewer now\",\n",
       "  'review_processed': \"And omg, yaw isn't what you think it is. We can't be taking a tech influencer as a car reviewer now\"},\n",
       " 670: {'review_id': 1076,\n",
       "  'review_time': '2024-04-21',\n",
       "  'like': 2,\n",
       "  'review': 'Is this an ad ?',\n",
       "  'review_processed': 'Is this an ad ?'},\n",
       " 671: {'review_id': 1077,\n",
       "  'review_time': '2024-04-21',\n",
       "  'like': 0,\n",
       "  'review': \"So much for objectivity, lol. You just made a clarification video about humane and Fisker, there's a marked personal bias in favor and occasionally against brands that contradicts that video. Don't call yourself a reviewer please, be the influencer you are.\",\n",
       "  'review_processed': \"There's a marked personal bias in favor and occasionally against brands that contradicts that video. Don't call yourself a reviewer please, be the influencer you are.\"},\n",
       " 672: {'review_id': 1079,\n",
       "  'review_time': '2024-04-21',\n",
       "  'like': 1,\n",
       "  'review': 'Im pretty sure most people that see that like myself go holy fuck thats ugly i cant believe somebody bought one of those. Is that even a real cybertruck that shit looks like a knockoff . Imma take a picture.',\n",
       "  'review_processed': \"I can't believe somebody bought one of those. Is that even a real cybertruck? It looks like a knockoff. I'll take a picture.\"},\n",
       " 673: {'review_id': 1084,\n",
       "  'review_time': '2024-04-20',\n",
       "  'like': 0,\n",
       "  'review': 'Nothing wrong with just driving your truck on the street. Don’t let anyone tell you otherwise.',\n",
       "  'review_processed': 'Nothing wrong with just driving your truck on the street. Dont let anyone tell you otherwise.'},\n",
       " 674: {'review_id': 1085,\n",
       "  'review_time': '2024-04-20',\n",
       "  'like': 0,\n",
       "  'review': 'Honestly I forget that truck exists until I see them every once in a while. But it does remind me of the the El Camino. Aside from that I don’t have much else to say, tho it is huge.',\n",
       "  'review_processed': \"I forget that truck exists until I see them every once in a while. It does remind me of the El Camino. Aside from that, I don't have much to say,\"},\n",
       " 675: {'review_id': 1087,\n",
       "  'review_time': '2024-04-20',\n",
       "  'like': 0,\n",
       "  'review': 'I genuinely like the look. \\n\\nWhat I don’t like is the truck not “working” and the right way and issues. Like come on it shouldn’t have taken this long for a truck to be made with all the tech we have.',\n",
       "  'review_processed': \"I like the look, but I don't like the truck not working and the right way and issues. It should not have taken this long for a truck to be made with all the tech we\"},\n",
       " 676: {'review_id': 1088,\n",
       "  'review_time': '2024-04-20',\n",
       "  'like': 0,\n",
       "  'review': 'With that wonky accelerator it’s probably not wise to drive and film / keep looking at the camera. You’ll be safe — encased in steel — but maybe not the other driver / pedestrian  in the accident.',\n",
       "  'review_processed': \"With that wonky accelerator, it's probably not wise to drive and film. You'll be safe encased in steel, but maybe not the other driver or\"},\n",
       " 677: {'review_id': 1089,\n",
       "  'review_time': '2024-04-20',\n",
       "  'like': 3,\n",
       "  'review': \"Usually, I can understand people shilling for corporation and billionaires. Easy money, and you don't have to do anything besides latching onto them like a parasite. But supporting anything that Elon Musk does is like supporting Ted Faro from Horizon games... detrimental to everyone in a long term. I was at least expecting neutral-adjacent review, not a promo for this useless shoddily built toy pretending to a truck.\",\n",
       "  'review_processed': 'I can understand people shilling for corporations and billionaires, but supporting anything that Elon Musk does is like supporting Ted Faro from Horizon games. I was at least expecting neutral-adjacent review, not a promo for this useless shoddily built toy pretending to be a truck.'},\n",
       " 678: {'review_id': 1092,\n",
       "  'review_time': '2024-04-20',\n",
       "  'like': 0,\n",
       "  'review': 'Am i the only one who notice the German Frisbeesport Association shirt at 17:17?',\n",
       "  'review_processed': 'Am i the only one who notice the German Frisbeesport Association shirt at 17:17?'},\n",
       " 679: {'review_id': 1094,\n",
       "  'review_time': '2024-04-20',\n",
       "  'like': 0,\n",
       "  'review': 'suck suck',\n",
       "  'review_processed': 'suck suck'},\n",
       " 680: {'review_id': 1095,\n",
       "  'review_time': '2024-04-20',\n",
       "  'like': 0,\n",
       "  'review': '13:38 the 911 isn’t the fastest Porsche though lol. Let’s see it go up against a GT3/RS 🖕',\n",
       "  'review_processed': '13:38 the 911 isnt the fastest Porsche though lol. Lets see it go up against a GT3/RS '},\n",
       " 681: {'review_id': 1097,\n",
       "  'review_time': '2024-04-20',\n",
       "  'like': 0,\n",
       "  'review': \"The design is futuristic for a 1982 cyberpunk artist. It's not futuristic now. It's nostalgia for kids from the 70s and 80s. I think once that initial wave of nostalgia passes and it just exists for a while, the dropoff will be sharp.\",\n",
       "  'review_processed': \"The design is futuristic for a 1982 cyberpunk artist, but it's not futuristic now. It's nostalgia for kids from the 70s and 80s.\"},\n",
       " 682: {'review_id': 1099,\n",
       "  'review_time': '2024-04-20',\n",
       "  'like': 0,\n",
       "  'review': 'The Cybertruck did the impossible. It made the Honda Ridgeline look more like a truck.',\n",
       "  'review_processed': 'The Cybertruck did the impossible. It made the Honda Ridgeline look more like a truck.'},\n",
       " 683: {'review_id': 1102,\n",
       "  'review_time': '2024-04-20',\n",
       "  'like': 1,\n",
       "  'review': \"I think he glossed over the safety a bit too fast. I have seen the crash test video, and I don't think you, the driver, will be fine either. And since the people outside definitely won't be fine also, you may want to be extra insured.\",\n",
       "  'review_processed': \"I think he glossed over the safety a bit too quickly. I don't think you, the driver, will be fine either. And since the people outside won't be either, you may want to be extra insured.\"},\n",
       " 684: {'review_id': 1103,\n",
       "  'review_time': '2024-04-20',\n",
       "  'like': 0,\n",
       "  'review': 'So how rusty is it with all the steel around?',\n",
       "  'review_processed': 'So how rusty is it with all the steel around?'},\n",
       " 685: {'review_id': 1109,\n",
       "  'review_time': '2024-04-20',\n",
       "  'like': 1,\n",
       "  'review': 'Said it once I’ll say it twice… iconic…for its flaws… you are too charitable to this brand…',\n",
       "  'review_processed': 'Said it once Ill say it twice iconicfor its flaws you are too charitable to this brand'},\n",
       " 686: {'review_id': 1110,\n",
       "  'review_time': '2024-04-20',\n",
       "  'like': 0,\n",
       "  'review': \"I feel compelled to say: That's a SUPERB video, my friend. Not to put down anything you'd ever done, but compared to the many electronics vids I watched way back, this is WOW!  Everything from audio quality to image composition, script, creativity, e.g. the clever guessing game - over or under-rated? - the race, and its unexpected curveball - almost hijack - introduction, all captivating. I intended to watch something else, but instead sat forward, glued to every second of this piece. Proves how a YT video can be valuable, informative, entertainment. Thanks a million, I'm so glad I've subscribed.\",\n",
       "  'review_processed': \"I feel compelled to say that's a superb video, my friend. Everything from audio quality to image composition, script, creativity, and the race are all captivating. I intended to watch something else, but instead sat forward, glued to every second of this piece.\"},\n",
       " 687: {'review_id': 1113,\n",
       "  'review_time': '2024-04-20',\n",
       "  'like': 1,\n",
       "  'review': 'understood his level of commitment to tesla when he said tesla might be first to give steer by wire. Steer by wire exist long before even he or me was born and tesla isn’t the first to implement even google can tell this. I like your honest reviews about products but this video seems to be contradict.',\n",
       "  'review_processed': \"I don't understand his level of commitment to tesla when he said he might be first to give steer by wire. Steer by wire existed long before even he or me was born.\"},\n",
       " 688: {'review_id': 1116,\n",
       "  'review_time': '2024-04-20',\n",
       "  'like': 1,\n",
       "  'review': \"HA I definitely saw you out in the city the other day drove straight pass me. An I couldn't believe how BIG this truck was ! It was amazingly futuristic !\",\n",
       "  'review_processed': \"I definitely saw you out in the city the other day drove straight passed me. I couldn't believe how big this truck was. It was amazingly\"},\n",
       " 689: {'review_id': 1118,\n",
       "  'review_time': '2024-04-19',\n",
       "  'like': 3,\n",
       "  'review': \"Eh, I disagree with the whole ethos of driving oversized, overpowered vehicles just because one can. If that thing hits my little Chevy Bolt, I and my kid are probably dead, or wishing we were. Essentially we're creating a vehicular arms race where buying a bigger car is as much a self defense consideration as it is anything else. Not great for the environment, if that's one's reason for buying an EV (which it very well may not be, I'm not naive...).\",\n",
       "  'review_processed': \"If that thing hits my little Chevy Bolt, I and my kid are probably dead, or wishing we were. We're creating a vehicular arms race where buying a bigger car is as much a self defense consideration as it is anything else.\"},\n",
       " 690: {'review_id': 1121,\n",
       "  'review_time': '2024-04-19',\n",
       "  'like': 1,\n",
       "  'review': \"Marques, my man, you're using gaff tape on a 100k car. Stop coping. Lost my respect sorry.\",\n",
       "  'review_processed': \"Marques, my man, you're using gaff tape on a 100k car. Stop coping. Lost my respect sorry.\"},\n",
       " 691: {'review_id': 1123,\n",
       "  'review_time': '2024-04-19',\n",
       "  'like': 0,\n",
       "  'review': 'Great review! Love your content Marques. Keep up the good work!',\n",
       "  'review_processed': 'Great review! Love your content Marques. Keep up the good work!'},\n",
       " 692: {'review_id': 1124,\n",
       "  'review_time': '2024-04-19',\n",
       "  'like': 3,\n",
       "  'review': 'So 4.5 months since its launch and they don’t even have 4000 “trucks” on the road. Thats a massive failure for Elon. Either they can’t make them or people are not buying them. Either way way they are losing money for a production line that can only produce 1/2 of Tacomas sold in 1 months. Think about that. Toyota sells 8000 Tacomas in 1 month and it took 4.5 months for Tesla to get 3787 cybertrucks out the door. That’s a massive failure that he created. 🤦\\u200d♂️🤦\\u200d♂️🤦\\u200d♂️',\n",
       "  'review_processed': \"It took 4.5 months for Tesla to get 3,787 cars out the door. Either they can't make them, or people are not buying them. Either way, they are losing money for a production line that can only produce 1/2 of Tacomas sold in 1 months.\"},\n",
       " 693: {'review_id': 1125,\n",
       "  'review_time': '2024-04-19',\n",
       "  'like': 0,\n",
       "  'review': 'Quick: from Old English cƿic - alive, live, living, and intelligent, mentally agile, keen. \"The quick and the dead.\"',\n",
       "  'review_processed': 'Quick: from Old English cic - alive, live, living, and intelligent, mentally agile, keen. \"The quick and the dead.\"'},\n",
       " 694: {'review_id': 1128,\n",
       "  'review_time': '2024-04-19',\n",
       "  'like': 1030,\n",
       "  'review': 'I never thought I’d see a car that would give me flashbacks of the greasy sink I used to wash dishes in as a teenager working at Taco Bell in the 1980s.',\n",
       "  'review_processed': \"I never thought I'd see a car that would give me flashbacks of the greasy sink I used to wash dishes in as a teenager\"},\n",
       " 695: {'review_id': 1132,\n",
       "  'review_time': '2024-04-19',\n",
       "  'like': 0,\n",
       "  'review': 'Can a Cyber truck beat a 911 on Willow Springs?... probably note... Silverstone? Probably not. De la Sarthe? Probably not but certainly not in a 24 hr race.',\n",
       "  'review_processed': 'Can a Cyber truck beat a 911 on Willow Springs? Probably not, but certainly not in a 24-hour race.'},\n",
       " 696: {'review_id': 1133,\n",
       "  'review_time': '2024-04-19',\n",
       "  'like': 0,\n",
       "  'review': \"I cant get over the feeling this is just a gimmicky looking, shoddily put together toaster. To me it's iconic for all the wrong reasons.\",\n",
       "  'review_processed': \"I cant get over the feeling this is just a gimmicky looking, shoddily put together toaster. To me it's iconic for all the wrong reasons.\"},\n",
       " 697: {'review_id': 1134,\n",
       "  'review_time': '2024-04-19',\n",
       "  'like': 0,\n",
       "  'review': 'I think the cybertruck will get reactions regardless of production. People still freak out when I open my falcon wing door on my X.',\n",
       "  'review_processed': 'I think the cybertruck will get reactions regardless of production. People still freak out when I open my falcon wing door on my X.'},\n",
       " 698: {'review_id': 1138,\n",
       "  'review_time': '2024-04-19',\n",
       "  'like': 0,\n",
       "  'review': \"Saw one of these in person a couple weeks ago, they're fucking hideous lmao\",\n",
       "  'review_processed': \"Saw one of these in person a couple weeks ago, they're fucking hideous lmao\"},\n",
       " 699: {'review_id': 1139,\n",
       "  'review_time': '2024-04-19',\n",
       "  'like': 0,\n",
       "  'review': 'I just saw two of these in Long Beach and people (myself included) were definitely rubbernecking to catch it. It’s just so bizarre and hyped up. Honestly amazed it came to market',\n",
       "  'review_processed': \"I just saw two of these in Long Beach and people were definitely rubbernecking to catch it. It's just so bizarre and hyped up.\"},\n",
       " 700: {'review_id': 1141,\n",
       "  'review_time': '2024-04-19',\n",
       "  'like': 0,\n",
       "  'review': 'I already see so many tesla’s on the road now, the cybertruck will just be yet another tesla. I’ve also started to notice the newer tesla’s that look a little different at the back. Probably a facelift',\n",
       "  'review_processed': \"I already see so many teslas on the road now, the cybertruck will just be yet another one. I've also started to notice the newer tesas that\"},\n",
       " 701: {'review_id': 1143,\n",
       "  'review_time': '2024-04-19',\n",
       "  'like': 2,\n",
       "  'review': 'Now, you can add a stuck accelerator pedal, which has prompted a recall of over 3,500 vehicles. This is a novelty now, but it will cause an accident due to the distraction it causes others. This car is UGLY and has no practicality.',\n",
       "  'review_processed': 'A stuck accelerator pedal has prompted a recall of over 3,500 vehicles. This is a novelty now, but it will cause an accident due to the distraction it causes others.'},\n",
       " 702: {'review_id': 1145,\n",
       "  'review_time': '2024-04-19',\n",
       "  'like': 0,\n",
       "  'review': \"It's the most stupic car design ever, like a kid drew it. It does not work as a truck because you can hardly use the bed, it does not work off road and it has serious build issues. And It won't be allowed into in most countries outside the US because of the sharp edges.\",\n",
       "  'review_processed': \"It's the most stupid car design ever, like a kid drew it. It doesn't work as a truck because you can hardly use the bed, it does not work off road and it has serious build issues. It won't be allowed into most countries outside the US because of the sharp\"},\n",
       " 703: {'review_id': 1147,\n",
       "  'review_time': '2024-04-19',\n",
       "  'like': 0,\n",
       "  'review': 'Elite vid, thanks. \\nGot my order in...who knows when they will land in Australia? 2026?',\n",
       "  'review_processed': 'Elite vid, thanks. \\nGot my order in...who knows when they will land in Australia? 2026?'},\n",
       " 704: {'review_id': 1148,\n",
       "  'review_time': '2024-04-19',\n",
       "  'like': 1,\n",
       "  'review': \"Sunk cost fallacy getting to Marques is a sad thing to see.\\n\\nA truck that isn't suited to actually use as a work truck, sad.\\nA truck that is overpriced\\nA truck that isn't safe for anyone inside or outside if you actually have a serious crash\\nA truck that IS NOT bulletproof.\\nWindows that are to strong to be broken in times of need but that aren't bullet proof\\nA truck that has built in hazards for kids or the clumsy\\nA truck that has a car wash mode because without using it you void your warranty if you take it to a car wash\\nA truck that can't deal with rain, bird poop, tree juice, dust\\nand the list goes on and one\\n\\nand ... that's not counting the features that aren't on it even although they are on the other Tesla's\",\n",
       "  'review_processed': \"A truck that isn't suited to actually use as a work truck is sad. A truck that has built in hazards for kids or the clumsy is dangerous. Without using it, you void your warranty if you take it to the car wash.\"},\n",
       " 705: {'review_id': 1151,\n",
       "  'review_time': '2024-04-19',\n",
       "  'like': 2,\n",
       "  'review': 'The most dangerous thing about this truck is the petal getting stuck. AND its NOT A TRUCK!',\n",
       "  'review_processed': 'The most dangerous thing about this truck is the petal getting stuck. AND its NOT A TRUCK!'},\n",
       " 706: {'review_id': 1155,\n",
       "  'review_time': '2024-04-19',\n",
       "  'like': 0,\n",
       "  'review': 'Iconic like a Delorean but not cool...all the gushing and like major design flaws, 100k junk.  Why do people fall for the lies',\n",
       "  'review_processed': 'Iconic like a Delorean but not cool...all the gushing and like major design flaws, 100k junk.  Why do people fall for the lies'},\n",
       " 707: {'review_id': 1157,\n",
       "  'review_time': '2024-04-19',\n",
       "  'like': 1,\n",
       "  'review': 'As an European citizen I think who have decided to buy this truck it’s just insane and very probably an asshole. It would be perfect to create law that limits the dimension of cars for who have to go only to the grocery store. Less waste, less danger, less space needed, but no, America it’s about freedom! Same for guns and single housing system. \\nBtw I love many things about America, but for these reasons and many others I’m happy to be European.',\n",
       "  'review_processed': 'It would be perfect to create law that limits the dimension of cars for those who have to go only to the grocery store, but no, America is about freedom! Same for guns and single housing system.'},\n",
       " 708: {'review_id': 1158,\n",
       "  'review_time': '2024-04-19',\n",
       "  'like': 2,\n",
       "  'review': 'No offence dude, but this was not good. You ignored all the major issues and brushed off a bunch of others.\\n\\nI only recently found your channel and was thinking “woah, this guy is really honest and trustworthy with his reviews!”. \\n\\nHowever, now I’ve seen this, I am questioning if I can trust everything you said in your other reviews…\\n\\nDo you really want to ruin your reputation as an honest reviewer over this thing?',\n",
       "  'review_processed': 'I only recently found your channel and was thinking this guy is really honest and trustworthy with his reviews. However, now I am questioning if I can trust everything you said in your other reviews. Do you really want to ruin your reputation as an honest reviewer over this thing?'},\n",
       " 709: {'review_id': 1160,\n",
       "  'review_time': '2024-04-19',\n",
       "  'like': 0,\n",
       "  'review': '\"Cybertruck: A bold leap into the future or a design misstep? While some hail its innovative approach, others question its practicality and aesthetics. Love it or hate it, Tesla\\'s Cybertruck has certainly sparked conversation about the future of automotive design.\"',\n",
       "  'review_processed': 'Some hail its innovative approach, but others question its practicality and aesthetics.'},\n",
       " 710: {'review_id': 1161,\n",
       "  'review_time': '2024-04-19',\n",
       "  'like': 0,\n",
       "  'review': 'Thank god that this dangerous monstrosity will never be sold outside the US.',\n",
       "  'review_processed': 'Thank god that this dangerous monstrosity will never be sold outside the US.'},\n",
       " 711: {'review_id': 1162,\n",
       "  'review_time': '2024-04-19',\n",
       "  'like': 0,\n",
       "  'review': 'Few points - it’s not that practical, quality severely is lacking, certain design choices are absolutely mind boggling. And it’s not cheap at all. Those “qualities” will prevail so as production ramps up and won’t be unique anymore price will plummet no doubt. I would think second hand owner market is much more sensible and chooses based on those qualities not some temporal celebrity fad. This car will age terribly, and maintenance will be very costly. It’s like owning used Range Rover - you know it’ll break, you know it’ll be costly but at least you get luxury. Cybertruck? Don’t think so.',\n",
       "  'review_processed': \"Its not that practical, quality severely is lacking, and it's not cheap at all. It will age terribly, and maintenance will be very costly. It's like owning a used Range Rover - you know it'll break, but at least you get luxury.\"},\n",
       " 712: {'review_id': 1165,\n",
       "  'review_time': '2024-04-19',\n",
       "  'like': 0,\n",
       "  'review': \"It's been 3 weeks away from release, the novelty is gone. You're sitting at a red light. You try to convince yourself that it's fine, but the gaps in the doors look off + the rust on the front of the car won't go away.\\n\\nYou think you saw a group of teenagers make fun of you earlier that day. You're now 100 000 dollars in debt for a meme, and you feel... Nothing.\",\n",
       "  'review_processed': \"It's been three weeks since release, the novelty is gone. You're sitting at a red light, and the gaps in the doors look off, but the rust on the front of the car won't go away. You think you saw a group of teenagers make fun of you earlier that day, and you're now 100,000 dollars in debt for a meme.\"},\n",
       " 713: {'review_id': 1167,\n",
       "  'review_time': '2024-04-19',\n",
       "  'like': 0,\n",
       "  'review': 'Bro I have seen 10 in the last week 🫥',\n",
       "  'review_processed': 'Bro I have seen 10 in the last week '},\n",
       " 714: {'review_id': 1168,\n",
       "  'review_time': '2024-04-19',\n",
       "  'like': 0,\n",
       "  'review': 'Seen a few. This is the dumbest looking piece of metal on the road. I’ll be glad when they are gone.',\n",
       "  'review_processed': 'Seen a few. This is the dumbest looking piece of metal on the road. Ill be glad when they are gone.'},\n",
       " 715: {'review_id': 1170,\n",
       "  'review_time': '2024-04-19',\n",
       "  'like': 0,\n",
       "  'review': 'Knowing how Elon runs his businesses I would never trust that steering wheel, one minor bug in the sensors/code that thing uses and a lane change at 70mph could turn into you doing a 90 degree turn and flipping',\n",
       "  'review_processed': 'Knowing how Elon runs his businesses, I would never trust that steering wheel. One minor bug in the sensors and codes that it uses could turn into you doing a 90 degree turn'},\n",
       " 716: {'review_id': 1171,\n",
       "  'review_time': '2024-04-19',\n",
       "  'like': 0,\n",
       "  'review': 'I’ve seen one a few times where I live in FL. Head turning, but I won’t give up my 99’ 7.3 for one. Salute to Elon Musk. It may be ugly but dude is changing the world all because of his imagination.',\n",
       "  'review_processed': \"I've seen one a few times where I live in Florida, but I won't give up my 99.3 for one. Salute to Elon Musk. It may be ugly, but dude is changing the\"},\n",
       " 717: {'review_id': 1172,\n",
       "  'review_time': '2024-04-19',\n",
       "  'like': 0,\n",
       "  'review': 'As someone learning to drive as an adult having only ever driven cars in video games, I wish that every car had a steer-by-wire system like this. Having to crank the wheel around multiple times just to turn at low speeds feels like the most unintuitive goddamn thing ever.',\n",
       "  'review_processed': 'I wish every car had a steer-by-wire system like this. Having to crank the wheel around multiple times just to turn at low speeds feels like the most unintuitive thing ever.'},\n",
       " 718: {'review_id': 1173,\n",
       "  'review_time': '2024-04-19',\n",
       "  'like': 1,\n",
       "  'review': 'Bro that truck is beautiful. I thought it was crappy at first but after seeing it in real life and sitting in the driver seat it’s a god damn space ship.',\n",
       "  'review_processed': \"I thought it was crappy at first, but after seeing it in real life and sitting in the driver seat, it's a god damn space ship\"},\n",
       " 719: {'review_id': 1175,\n",
       "  'review_time': '2024-04-19',\n",
       "  'like': 0,\n",
       "  'review': 'Im just loving the visual of this video. Really an awesome review as well, as per usual!',\n",
       "  'review_processed': 'Im just loving the visual of this video. Really an awesome review as well, as per usual!'},\n",
       " 720: {'review_id': 1176,\n",
       "  'review_time': '2024-04-19',\n",
       "  'like': 0,\n",
       "  'review': 'yap yap',\n",
       "  'review_processed': 'yap yap'},\n",
       " 721: {'review_id': 1178,\n",
       "  'review_time': '2024-04-18',\n",
       "  'like': 0,\n",
       "  'review': 'Do iconic items rust when left out in the rain?',\n",
       "  'review_processed': 'Do iconic items rust when left out in the rain?'},\n",
       " 722: {'review_id': 1182,\n",
       "  'review_time': '2024-04-18',\n",
       "  'like': 0,\n",
       "  'review': '12:33 can someone explain to my why people should air down the tires?',\n",
       "  'review_processed': '12:33 can someone explain to my why people should air down the tires?'},\n",
       " 723: {'review_id': 1186,\n",
       "  'review_time': '2024-04-18',\n",
       "  'like': 0,\n",
       "  'review': 'I like it manly it reminds me of Total recall from the 1990 !',\n",
       "  'review_processed': 'I like it manly it reminds me of Total recall from the 1990 !'},\n",
       " 724: {'review_id': 1187,\n",
       "  'review_time': '2024-04-18',\n",
       "  'like': 0,\n",
       "  'review': \"After seeing it a few times in public. I believe it is pretty ugly. It is like the DeLorean 2.0 at this point though, so yeah, it is iconic, but it isn't pretty. It has a lot of hype behind it, so it will probably sell well despite its questionable look.\",\n",
       "  'review_processed': \"I believe it is pretty ugly. It is like the DeLorean 2.0 at this point, so yeah, it is iconic, but it isn't pretty. It has a lot of hype behind it, so it will probably sell well despite its questionable look.\"},\n",
       " 725: {'review_id': 1189,\n",
       "  'review_time': '2024-04-18',\n",
       "  'like': 0,\n",
       "  'review': 'The only people that aren\\'t morons buying this car are rich people. For everyone else the cybertruck would be a monumentally moronic purchasing decision. Imagine trying to get anything repaired on this car. No one will want to touch it. You\\'re stuck with your \"dealer\" Tesla every single time. Insurance must cost an arm and a leg as well.',\n",
       "  'review_processed': \"The only people that aren't morons buying this car are rich people. Imagine trying to get anything repaired on this car. No one will want to touch it.\"},\n",
       " 726: {'review_id': 1192,\n",
       "  'review_time': '2024-04-18',\n",
       "  'like': 0,\n",
       "  'review': \"Tesla's designs and QA just don't do it for me. Really hoping Toyota/Lexus pull the trigger on their electric line up. Their electric sports cars they revealed a while back looked amazing!\",\n",
       "  'review_processed': \"I'm really hoping Toyota and Lexus pull the trigger on their electric line up. Their electric sports cars they revealed a while back looked amazing!\"},\n",
       " 727: {'review_id': 1193,\n",
       "  'review_time': '2024-04-18',\n",
       "  'like': 1,\n",
       "  'review': 'You selling chevron hoodies and getting free 991 just sold yourself on being a propaganda machine for big oils. Your review loses credibility.⚠️⚠️⚠️',\n",
       "  'review_processed': 'You selling chevron hoodies and getting free 991 just sold yourself on being a propaganda machine for big oils. Your review loses credibility.'},\n",
       " 728: {'review_id': 1194,\n",
       "  'review_time': '2024-04-18',\n",
       "  'like': 0,\n",
       "  'review': 'This is so called a beauty at the second sight. The more I look at it, the more I like it.',\n",
       "  'review_processed': 'This is so called a beauty at the second sight. The more I look at it, the more I like it.'},\n",
       " 729: {'review_id': 1195,\n",
       "  'review_time': '2024-04-18',\n",
       "  'like': 1,\n",
       "  'review': 'Marques is bought and paid for by Tesla. I am saying this as a Tesla owner myself , but the Cybertruck is a POS.',\n",
       "  'review_processed': 'Marques is bought and paid for by Tesla. I am saying this as a Tesla owner myself , but the Cybertruck is a POS.'},\n",
       " 730: {'review_id': 1200,\n",
       "  'review_time': '2024-04-18',\n",
       "  'like': 0,\n",
       "  'review': '13:55 Ok that was pretty epic lol. The kinda things reviewers should do if they have money to flex.',\n",
       "  'review_processed': '13:55 Ok that was pretty epic lol. The kinda things reviewers should do if they have money to flex.'},\n",
       " 731: {'review_id': 1201,\n",
       "  'review_time': '2024-04-18',\n",
       "  'like': 0,\n",
       "  'review': \"Marques' attempt to remain fair and balanced while reviewing Tesla products is really frustrating. Sure, it may be a decent product, but it seems like 95% of people who ordered one, haven't gotten one or haven't gotten what they ordered. Let's not bring the Roadster into this either. And let's not forget the ever-growing number of issues that Tesla seem to experience.\",\n",
       "  'review_processed': \"It seems like 95% of people who ordered one, haven't gotten one or haven't received what they ordered. Let's not bring the Roadster into this either.\"},\n",
       " 732: {'review_id': 1203,\n",
       "  'review_time': '2024-04-18',\n",
       "  'like': 0,\n",
       "  'review': 'I personally like the PS1 graphics of the cybertruck',\n",
       "  'review_processed': 'I personally like the PS1 graphics of the cybertruck'},\n",
       " 733: {'review_id': 1205,\n",
       "  'review_time': '2024-04-18',\n",
       "  'like': 0,\n",
       "  'review': 'If I had one, I would paint it black.',\n",
       "  'review_processed': 'If I had one, I would paint it black.'},\n",
       " 734: {'review_id': 1209,\n",
       "  'review_time': '2024-04-18',\n",
       "  'like': 0,\n",
       "  'review': 'I have definitely seen at least 10-15 cybertrucks in the last month. No Veyrons or Countachs lol.',\n",
       "  'review_processed': 'I have definitely seen at least 10-15 cybertrucks in the last month. No Veyrons or Countachs lol.'},\n",
       " 735: {'review_id': 1212,\n",
       "  'review_time': '2024-04-18',\n",
       "  'like': 0,\n",
       "  'review': 'So a review of a stainless steel truck from a guy who can afford to have some slave wage labourers spot cleaning it for him after every drive seems, welp, kinda irrelevant to my life, to be honest.  Don’t know about all you giga chads, but yeah, just saying…',\n",
       "  'review_processed': 'A review of a stainless steel truck from a guy who can afford to have some slave wage labourers cleaning it after every drive seems, welp, kinda irrelevant to my life, to be honest.'},\n",
       " 736: {'review_id': 1213,\n",
       "  'review_time': '2024-04-18',\n",
       "  'like': 0,\n",
       "  'review': 'Lexus was the first to get steer by wire right. Not Tesla.',\n",
       "  'review_processed': 'Lexus was the first to get steer by wire right. Not Tesla.'},\n",
       " 737: {'review_id': 1217,\n",
       "  'review_time': '2024-04-18',\n",
       "  'like': 0,\n",
       "  'review': 'Give me a Porsche GT3RS, Targa 4S, or Turbo S over Tesla’s garbage ANYDAY.  \\n\\nMarques, did you test out the Targa 4S when you got your Turbo S? I know it’s cold out here in NJ, but I’m just curious.',\n",
       "  'review_processed': \"Give me a Porsche GT3RS, Targa 4S, or Turbo S over Teslas every day. I know it's cold outside, but I'm just curious.\"},\n",
       " 738: {'review_id': 1218,\n",
       "  'review_time': '2024-04-18',\n",
       "  'like': 1,\n",
       "  'review': 'I wonder how much MKB got paid for this ad.',\n",
       "  'review_processed': 'I wonder how much MKB got paid for this ad.'},\n",
       " 739: {'review_id': 1219,\n",
       "  'review_time': '2024-04-18',\n",
       "  'like': 1,\n",
       "  'review': 'I am wondering if this is a paid ad directly from Elon. This video is worth at least $5 million. MKB throws in some downsides to sound objective.',\n",
       "  'review_processed': 'I am wondering if this is a paid ad directly from Elon. This video is worth at least $5 million.'},\n",
       " 740: {'review_id': 1222,\n",
       "  'review_time': '2024-04-18',\n",
       "  'like': 0,\n",
       "  'review': \"I'm disappointed in this review man.\",\n",
       "  'review_processed': \"I'm disappointed in this review man.\"},\n",
       " 741: {'review_id': 1223,\n",
       "  'review_time': '2024-04-18',\n",
       "  'like': 0,\n",
       "  'review': \"if the $700 AI pin was made by Tesla, Brownlee wouldn't have said it was the worst product he has ever reviewed.\\n\\nelon has him in his pocket.\",\n",
       "  'review_processed': \"If the $700 AI pin was made by Tesla, Brownlee wouldn't have said it was the worst product he has ever reviewed.\"},\n",
       " 742: {'review_id': 1224,\n",
       "  'review_time': '2024-04-18',\n",
       "  'like': 0,\n",
       "  'review': 'As a seasoned industrial designer (product, manufacturing, plastics) I can tell you this is just a genX fever dream. Dieter Rams enlists 10 design principles of which one of them is \"Good Design is as little design as posible\", now you could say it is all flats surfaces so, \"little desgin was used so therefore is good\" but you are completely forgetting the other 9 points (google them). Pedestrians or other cars... fuck them lets place a sharp battering ram on super fast motors and lets make it heavy AF just beacuse we can and we will add (now deadly) autopilot because fuck you and if you cant get away from this death trap fuck you some more for being a poor AF bastard. Humanity is done people, collect your chips now, make that trip, fuck that bitch, own that shit.',\n",
       "  'review_processed': 'As an experienced industrial designer, I can tell you this is just a gen X fever dream. Dieter Rams enlists 10 design principles, one of which is \"Good Design is as little design as possible\" Pedestrians or other cars: Let\\'s place a sharp battering ram on super fast motors and make it heavy AF just because we can, and we\\'ll add (now deadly) autopilot because we\\'re invincible.'},\n",
       " 743: {'review_id': 1225,\n",
       "  'review_time': '2024-04-18',\n",
       "  'like': 0,\n",
       "  'review': 'This guy is simping hard for Elon. He was probably paid for this good review. I refuse to believe he truly thinks this truck is worth 100k with all of the bad programming, build design flaws, and plastic accelerator / break pedal covers that pop off and get stuck under said pedals.',\n",
       "  'review_processed': 'I refuse to believe he truly thinks this truck is worth 100k with all of the bad programming, build design flaws, and plastic accelerator / break pedal covers that pop off and get stuck under the pedals.'},\n",
       " 744: {'review_id': 1231,\n",
       "  'review_time': '2024-04-18',\n",
       "  'like': 0,\n",
       "  'review': \"Wouldn't its exterior being as strong as it cause more concerns for the person inside the car? Since there is less overall shock absorption.\",\n",
       "  'review_processed': \"Wouldn't its exterior being as strong as it cause more concerns for the person inside the car? Since there is less overall shock absorption.\"},\n",
       " 745: {'review_id': 1232,\n",
       "  'review_time': '2024-04-18',\n",
       "  'like': 4,\n",
       "  'review': 'lmao just because hes buddy buddy with Elon, suddenly Cybertruck review gets a \"Iconic\" tag in the video title',\n",
       "  'review_processed': 'lmao just because hes buddy buddy with Elon, suddenly Cybertruck review gets a \"Iconic\" tag in the video title'},\n",
       " 746: {'review_id': 1233,\n",
       "  'review_time': '2024-04-18',\n",
       "  'like': 0,\n",
       "  'review': \"While lots of people love to hate on the PT Cruiser it was probably the first really successful modern car to have retro styling, and sadly I'd say probably still one of the best.\",\n",
       "  'review_processed': \"The PT Cruiser was probably the first successful modern car to have retro styling. It's still one of the best.\"},\n",
       " 747: {'review_id': 1235,\n",
       "  'review_time': '2024-04-17',\n",
       "  'like': 2,\n",
       "  'review': 'More like a Volkswagon Beatle than a PT Cruiser. The Beatle was always an interesting design, even when there were millions of them - and they were very minimalistic. At the end of the day the Cybertruck is highly engineered, if imperfect, while the PT Cruiser was low tech and meh quality, while having a nice retro appeal that wore off when reality settled in. The Cybertruck provides a lot of go with its show, so it should remain \"iconic\" a lot longer. The VW Beatle is a better comparison.',\n",
       "  'review_processed': 'The Cybertruck provides a lot of go with its show, so it should remain \"iconic\" a lot longer. The VW Beatle is a better comparison.'},\n",
       " 748: {'review_id': 1240,\n",
       "  'review_time': '2024-04-17',\n",
       "  'like': 0,\n",
       "  'review': 'I just want to say sorry to all the people I stopped in traffic to stare at this truck even after I had already watched this video. 🤦\\u200d♂️',\n",
       "  'review_processed': 'I just want to say sorry to all the people I stopped in traffic to stare at this truck even after I had already watched this video. '},\n",
       " 749: {'review_id': 1242,\n",
       "  'review_time': '2024-04-17',\n",
       "  'like': 0,\n",
       "  'review': 'Can you store a bike in its tray?',\n",
       "  'review_processed': 'Can you store a bike in its tray?'},\n",
       " 750: {'review_id': 1243,\n",
       "  'review_time': '2024-04-17',\n",
       "  'like': 0,\n",
       "  'review': \"After watching jerryrigs review of the Rivian I wouldn't touch this thing with a ten foot pole\",\n",
       "  'review_processed': \"After watching jerryrigs review of the Rivian I wouldn't touch this thing with a ten foot pole\"},\n",
       " 751: {'review_id': 1244,\n",
       "  'review_time': '2024-04-17',\n",
       "  'like': 0,\n",
       "  'review': 'The way things are going in west coast cities, bullet proof for 9mm sounds like a great idea.\\nAlso, not worrying about rust is killer. If you actually USE a truck, you know that real life damages paint. The stainless is a big middle finger to that problem.',\n",
       "  'review_processed': 'The way things are going in west coast cities, bulletproof for 9mm sounds like a great idea. Not worrying about rust is killer. If you actually use a truck, you know that real life damages paint.'},\n",
       " 752: {'review_id': 1245,\n",
       "  'review_time': '2024-04-17',\n",
       "  'like': 0,\n",
       "  'review': 'This has got to be the most embarrassing car of all time, only the Hummer might challenge it in that respect. Stepping out of this car would be like being hauled to a busy street in a bathtub, and having to step out of it naked. At least that is how Europeans feel. Perhaps this is classy to Americans?',\n",
       "  'review_processed': 'Stepping out of this car would be like being hauled to a busy street in a bathtub, and having to step out of it naked. At least that is how Europeans feel.'},\n",
       " 753: {'review_id': 1246,\n",
       "  'review_time': '2024-04-17',\n",
       "  'like': 1,\n",
       "  'review': 'Iconic failure. It’s up there with the DeLorean but not as cool.',\n",
       "  'review_processed': 'Iconic failure. Its up there with the DeLorean but not as cool.'},\n",
       " 754: {'review_id': 1247,\n",
       "  'review_time': '2024-04-17',\n",
       "  'like': 0,\n",
       "  'review': 'So many of these on the roads around San Diego at this point, definitely eye-catching for its novelty. \\nIt strikes me as more of a marketing effort than a consumer-driven product... like a commercial on wheels.',\n",
       "  'review_processed': 'So many of these on the roads around San Diego at this point, definitely eye-catching for its novelty. It strikes me as more of a marketing effort than a consumer'},\n",
       " 755: {'review_id': 1248,\n",
       "  'review_time': '2024-04-17',\n",
       "  'like': 0,\n",
       "  'review': 'That is NOT a \"truck! A truck has an open bed with cargo capability. I\\'ll call it a cybercar. Ridiculous!',\n",
       "  'review_processed': 'That is NOT a \"truck! A truck has an open bed with cargo capability. I\\'ll call it a cybercar. Ridiculous!'},\n",
       " 756: {'review_id': 1253,\n",
       "  'review_time': '2024-04-17',\n",
       "  'like': 4,\n",
       "  'review': 'The original concept looked good, but the real thing is comparatively underwhelming.',\n",
       "  'review_processed': 'The original concept looked good, but the real thing is comparatively underwhelming.'},\n",
       " 757: {'review_id': 1254,\n",
       "  'review_time': '2024-04-17',\n",
       "  'like': 0,\n",
       "  'review': 'I live here in Mesa AZ and I’ve seen a ton of guys using the cybertruck to tow their boat out to the lake. I think that’s about the only towing use case where the cybertruck excels given it’s about 40-50miles round trip. That and the flex of “using” the cybertruck',\n",
       "  'review_processed': \"I live in Mesa, Arizona, and I've seen a lot of people using the cybertruck to tow their boats to the lake. I think that's about the only towing use case where the Cybertruck excels.\"},\n",
       " 758: {'review_id': 1256,\n",
       "  'review_time': '2024-04-17',\n",
       "  'like': 0,\n",
       "  'review': 'The pace of this video was really fun. IDK why I enjoyed it so much, but thanks for the entertainment and information.',\n",
       "  'review_processed': 'The pace of this video was really fun. IDK why I enjoyed it so much, but thanks for the entertainment and information.'},\n",
       " 759: {'review_id': 1257,\n",
       "  'review_time': '2024-04-17',\n",
       "  'like': 0,\n",
       "  'review': \"Owning (or wanting to own) a Cybertruck is the new Mid-Life Crisis cry for help/desperate bid to be relevant. It's like a 2006 Honda Ridgeline drawn by a 4 year old made by a company whose grifter CEO acts like a 5 year old. Tesla was already the epitome of 'Form over Function' due to prioritizing aesthetics and high profit margins (for example, by removing radar and ultrasonic sensors for cheaper optical cameras), but this model takes that to a new low by having a hideous form. I've seen several in person (both standard and ones with wraps), and they're hideous and ridiculous. The production quality is predictably horrible (the production issues as addressed in the video are inexcusable for such a tiny run of *luxury* vehicles), repairs are absurdly expensive, and the brake lights don't work properly. The actual utility of it (as mentioned in the video) is laughable because it has low towing power,  you can't fit much in the truck bed, it has difficulty going up inclines that over vehicles climb with ease, the range is significantly less than advertised, the battery compartment is only half full, and it needs to be cleaned off shortly after getting wet. Tesla even says you shouldn't take it through a car wash! It's not bulletproof except against a small percentage of handguns, and the height and design of the vehicle makes it difficult to see pedestrians in front of you. Yoke steering wheels are also a known safety hazard. But hey, you do you I guess.\\n\\nAnother fun fact is that working at Tesla is dangerous because the company is infamous for ignoring safety best practices in their factories because Musk hates the color yellow, doesn't like safety signs, and doesn't like beeping noises. Not sure why he even cares what the factories look like, since he's not an engineer, he apparently doesn't care about the condition Tesla vehicles leave the factories in, and he's on Twitter all the time anyway.\",\n",
       "  'review_processed': \"The Cybertruck is the new Mid-Life Crisis cry for help and desperate bid to be relevant. It's like a 2006 Honda Ridgeline drawn by a 4 year old made by a company whose grifter CEO acts like a 5 year old. The actual utility of it is laughable because it has low towing power, you can't fit much in the bed, it has difficulty going up inclines that climb with ease, the range is significantly less than advertised, and it needs to be cleaned off shortly after getting wet.\"},\n",
       " 760: {'review_id': 1260,\n",
       "  'review_time': '2024-04-17',\n",
       "  'like': 0,\n",
       "  'review': '\"Already iconic\" No, it is not because tesla is doing child labor. They use kids and adults to mine for cobalt, gold, lithium and other materials used in electronics and they pay them with nothing. Companies like apple, google and other tech giants do the same thing which is disturbing and upsetting',\n",
       "  'review_processed': 'Tesla is not doing child labor. They use kids and adults to mine for cobalt, gold, and other materials used in electronics. They pay them with nothing. Companies like apple, Google and other tech giants do the same thing.'},\n",
       " 761: {'review_id': 1261,\n",
       "  'review_time': '2024-04-17',\n",
       "  'like': 1,\n",
       "  'review': 'Musk is a terrible CEO and an even worse human. As a Tesla owner myself, I hope the CT helps pull his company under.',\n",
       "  'review_processed': 'Musk is a terrible CEO and an even worse human. As a Tesla owner myself, I hope the CT helps pull his company under.'},\n",
       " 762: {'review_id': 1262,\n",
       "  'review_time': '2024-04-17',\n",
       "  'like': 0,\n",
       "  'review': \"Regarding your second point, steel alloy, the question I ask myself, how does this fare in a crash. This car doesn't seem to have a crumple zone.\",\n",
       "  'review_processed': \"This car doesn't seem to have a crumple zone. How does this fare in a crash?\"},\n",
       " 763: {'review_id': 1265,\n",
       "  'review_time': '2024-04-17',\n",
       "  'like': 1,\n",
       "  'review': 'Haha please don’t mention a countach or veyron in the same sentence, bro, that’s a joke! 😂😂',\n",
       "  'review_processed': 'Haha please dont mention a countach or veyron in the same sentence, bro, thats a joke! '},\n",
       " 764: {'review_id': 1267,\n",
       "  'review_time': '2024-04-17',\n",
       "  'like': 0,\n",
       "  'review': '13:32 A show called \"Head 2 Head\" did that race with a Model X towing an Alpha Romeo while racing an Alpha Romeo. The car being towed beat the car being driven.',\n",
       "  'review_processed': 'A show did a race with a Model X towing an Alpha Romeo while racing an Alpha. The car being towed beat the car being driven.'},\n",
       " 765: {'review_id': 1272,\n",
       "  'review_time': '2024-04-17',\n",
       "  'like': 0,\n",
       "  'review': \"People who don't know much about drag strips (including me) wouldn't know that it was actually a 1/8 mile race. I like Tesla because they are good products imo but they don't need to resort to false marketing.\",\n",
       "  'review_processed': \"People who don't know much about drag strips wouldn't know that it was actually a 1/8 mile race. I like Tesla because they are good products, but they don't need to resort to false\"},\n",
       " 766: {'review_id': 1273,\n",
       "  'review_time': '2024-04-17',\n",
       "  'like': 0,\n",
       "  'review': 'With them saying it’s bullet proof I’d be more worried about people taking pot shots for fun. 😂',\n",
       "  'review_processed': 'With them saying its bullet proof Id be more worried about people taking pot shots for fun. '},\n",
       " 767: {'review_id': 1275,\n",
       "  'review_time': '2024-04-17',\n",
       "  'like': 3,\n",
       "  'review': 'Unfortunately you are a fan boy.\\nThis is dangerous to everyone else…',\n",
       "  'review_processed': 'Unfortunately you are a fan boy.\\nThis is dangerous to everyone else'},\n",
       " 768: {'review_id': 1277,\n",
       "  'review_time': '2024-04-17',\n",
       "  'like': 0,\n",
       "  'review': 'Sorry, it’s a case of the emperor has no clothes. That’s why people stare. It’s ugly, impractical, really not a truck, people can buy trucks and just take kids to school. But if you buy a truck to even lightly use as a truck. You’ve purchased the wrong vehicle. Some people ( influencers, not just Instagram ) said it was cool so people started to like it.',\n",
       "  'review_processed': \"It's ugly, impractical, and really not a truck. Some people said it was cool, so people started to like it.\"},\n",
       " 769: {'review_id': 1278,\n",
       "  'review_time': '2024-04-17',\n",
       "  'like': 4,\n",
       "  'review': 'Listening to this video, I’m 04:20 in, and I just saw my first Cyber truck on the road. I busted out laughing at the irony.',\n",
       "  'review_processed': 'Listening to this video, Im 04:20 in, and I just saw my first Cyber truck on the road. I busted out laughing at the irony.'},\n",
       " 770: {'review_id': 1279,\n",
       "  'review_time': '2024-04-17',\n",
       "  'like': 0,\n",
       "  'review': 'I am curious as well to know the price of repairing the truck. Due to the massive single panels that would mean any damage would require the whole panel of steel to be replaced. That can’t be cheap',\n",
       "  'review_processed': 'I am curious as to know the price of repairing the truck. Due to the massive single panels, any damage would require the whole panel of steel to be replaced.'},\n",
       " 771: {'review_id': 1280,\n",
       "  'review_time': '2024-04-17',\n",
       "  'like': 0,\n",
       "  'review': 'I gotta give you props for the timing of the ads',\n",
       "  'review_processed': 'I gotta give you props for the timing of the ads'},\n",
       " 772: {'review_id': 1281,\n",
       "  'review_time': '2024-04-17',\n",
       "  'like': 2,\n",
       "  'review': 'I don’t know if I love the variable steering. I understand why it’s there but do you still have the ability to make a sharp turn? Like in the event a semi dropped something on the road and I had to swerve to avoid it could it do that or would it just lightly merge',\n",
       "  'review_processed': \"I don't know if I love the variable steering. I understand why it's there, but do you still have the ability to make a sharp turn? Like in the event a semi dropped something on the road and I had to swerve to avoid it,\"},\n",
       " 773: {'review_id': 1282,\n",
       "  'review_time': '2024-04-17',\n",
       "  'like': 0,\n",
       "  'review': 'Team America would love this truck. Truck by name. F*^ked by nature. Now hearing about the acceleration pad sliding and wedging into the footbed. Cheap cheap potential death causing nonsense.',\n",
       "  'review_processed': 'The acceleration pad is sliding and wedging into the footbed. Team America would love this truck by name.'},\n",
       " 774: {'review_id': 1283,\n",
       "  'review_time': '2024-04-17',\n",
       "  'like': 0,\n",
       "  'review': 'You all bought the prop truck from the video for “California Love”.',\n",
       "  'review_processed': 'You all bought the prop truck from the video for California Love.'},\n",
       " 775: {'review_id': 1284,\n",
       "  'review_time': '2024-04-17',\n",
       "  'like': 0,\n",
       "  'review': 'since he didnt mention it for whatever reason, the starting price for a cyber truck is only 81,000 dollars. cheaper than a LOT of ultra beefy trucks ive seen, and guys this thing is not very big. if you watched the video he compared it to a regular truck and most trucks are larger in every direction than the cyber truck. we will have to see if its worth buying once it starts being mass produced',\n",
       "  'review_processed': \"The starting price for a cyber truck is only 81,000 dollars. It's cheaper than a lot of ultra beefy trucks I've seen, and it's not very big.\"},\n",
       " 776: {'review_id': 1286,\n",
       "  'review_time': '2024-04-17',\n",
       "  'like': 0,\n",
       "  'review': 'Back when the Model S first came to Europe everyone had to take pictures of it and it was definitely its own celebrity just like the cyber truck is today.',\n",
       "  'review_processed': 'When the Model S first came to Europe, everyone had to take pictures of it. It was definitely its own celebrity, just like the'},\n",
       " 777: {'review_id': 1287,\n",
       "  'review_time': '2024-04-17',\n",
       "  'like': 0,\n",
       "  'review': 'I imagine it will do the same as a other teslas, People in awe of my future tech when I had my M3P in 2018  and asking for rides when going thru a drive thru, to normal everyday car like an impala these days',\n",
       "  'review_processed': 'I imagine it will do the same as other Teslas. People were in awe of my future tech when I had my M3P in 2018, and asking for rides when going through the drive thru.'},\n",
       " 778: {'review_id': 1290,\n",
       "  'review_time': '2024-04-17',\n",
       "  'like': 0,\n",
       "  'review': \"If companies don't want a bad review, just make a good product. It's not that complicated\",\n",
       "  'review_processed': \"If companies don't want a bad review, just make a good product. It's not that complicated\"},\n",
       " 779: {'review_id': 1292,\n",
       "  'review_time': '2024-04-17',\n",
       "  'like': 0,\n",
       "  'review': \"It is another DeLorean - Sure people will think these are cool.  But wait 5 years.   I don't think many will be wanting one. Cause it is an Electric car and people will look at the price of the battery's when they have to replace them and be like Hell No.. Sorry.\",\n",
       "  'review_processed': \"It is another DeLorean. Sure people will think these are cool, but wait five years. Cause it is an Electric car and people will look at the price of the battery's when they have to replace them and be like Hell No.\"},\n",
       " 780: {'review_id': 1296,\n",
       "  'review_time': '2024-04-17',\n",
       "  'like': 0,\n",
       "  'review': 'In the current age of mass information - nothing material can be iconic. There is nothing that is unbelievable or not seen before. The social networks made the sharing of ideas available for absolutely every person in the world. The inventions became just trends, the misteries became debunked in the comments, the heroes became influencers in order to monetize their status. And that is fine - just this is the product of the reality, that we live in. If there was Instagram during the Trojan War, Achilles would be a viral star and he will leave Hector alive, so can make a podcast with him later on youtube. Last week I was exploring Milano. During one of the evenings I was waiting the metro to arrive and there were multiple screens on the walls of the station. They were showing the Pope reading statesments about the situation in Israel. And on the bottom there was a banner with a brief information. On the left it was written \"PAPA\", which is Pope in italian. But not \"the Pope\" (Il Papa), not Pope Francis, but just \"PAPA\". There were around 50 people around. May be I was the only one who was watching the broadcast with the Pope. Nobody was interested at all and this is in Italy. Can you imagine in 15 or 16th Century, what it would be to see and listen to the pope. One of a kind experience in your life, almost like a devine moment. Now some influencers who give money if you are the last one leaving a red circle on the ground, are more important for the people than the pope. But here is the difference. Nobody is interested in Mr Beast as a human, or even as a YouTube genius. 99% are interested in his money and his exposure. You need him either to earn easy money, or to receive gigantic advertising, hence again earn a lot of money. When the legend has a price it turns to a bestseller. Mr Beast is not and he will never be an icon. The CyberTruck is not and it will never be an icon. Not in the Today\\'s world. It is impossible. The money are the God of Internet and \"in GOD we TRUST\" (TRUST not Believe). The Saint halo is a \"Verified\" badge. That is what you need to see in order to be sure that this is the real \"devine\" person. There is this show on NG \"The best of the decades\"... and they show the icons of each DECADE. Icon for a decade? Some of the saints are icons for 2000 years.  This is what happens when you bind the virtues with money. The future of the human kind doesn\\'t rely on how popular we are, it relies on how sustainable we are as a society. The real science knowledge, the real art and the real life virtues brought us to the 21st Century. Only if you are considered a true genius in those 3 life aspects, you can become a true icon. The Cybertruck will be just a cool truck with a cool story in 10 years, but Elon Musk will be considered as a genius even after 100 years. Elon is the Icon, not the Cybertruck. Nobody remembers who was a millionaire in Salzburg in the times of Mozart, but Mozart is still considered one of the greatest geniuses of the Music for all times. Nobody speaks about the wealthy nobles who ordered Da Vinci to paint for them. But Da Vinci is still considered as a science and an art genius for almost 500 years already. And that is their purpose - to give the human kind a good future, or we will extinct. The human kind exists for around a million years, and our modern world and society exists only for two Centuries. We are frighteningly close to reverse the process. The idea to make the people good hearted and educated, the society to be sustainable, is what keeps the ICONS alive. Everything other lives shortly and will be forgotten.',\n",
       "  'review_processed': 'In the age of mass information, nothing material can be iconic. Only if you are considered a true genius in those 3 life aspects, you can become a true icon. The future of the human kind doesn\\'t rely on how popular we are, it relies on how sustainable we are as a society. The idea to make the people good hearted and educated, the society to be sustainable, is what keeps the ICONS alive. Everything other lives quickly and will be forgotten within a few decades or centuries. The Cybertruck will be just a cool truck with a cool story in 10 years, but Elon Musk will be considered as a genius even after 100 years. It is impossible. The money are the God of the Internet and \"in GOD we TRUST\" (TRUST not Believe). The Saint halo is a verified badge. That is what you need to see in order to be sure that this is the real \"devine\" person.'},\n",
       " 781: {'review_id': 1298,\n",
       "  'review_time': '2024-04-17',\n",
       "  'like': 0,\n",
       "  'review': \"Someone will make tires.  If the truck wasn't limited, it might win the race.  I would shoot the hell out of my cybertruck...SS not overrated. Cyberbeast can tow.  If you cut the back side panel and make it flat like a traditional bed, the truck would look amazing.  A flat tonneau is fine.  You can tarp anything else.   I agree the back lights could be a different scale.  Can't wait to see the mods on this thing.\",\n",
       "  'review_processed': \"If the truck wasn't limited, it might win the race. I agree the back lights could be a different scale. Can't wait to see the mods on this thing.\"},\n",
       " 782: {'review_id': 1299,\n",
       "  'review_time': '2024-04-17',\n",
       "  'like': 0,\n",
       "  'review': 'The Cybertruck needs a turret like the m577 APC from aliens.',\n",
       "  'review_processed': 'The Cybertruck needs a turret like the m577 APC from aliens.'},\n",
       " 783: {'review_id': 1300,\n",
       "  'review_time': '2024-04-17',\n",
       "  'like': 51,\n",
       "  'review': \"Why didn't you mention the rusting issues?\",\n",
       "  'review_processed': \"Why didn't you mention the rusting issues?\"},\n",
       " 784: {'review_id': 1301,\n",
       "  'review_time': '2024-04-17',\n",
       "  'like': 3,\n",
       "  'review': 'The Cybertruck is absolutely one of the worst vehicles the world has ever seen. It is hideous. I mean a face only a mother would love. And it can\\'t be sold in the vast majority of the planet because it does not meet safety standards. Not that Elon would care. He apparently likes the general public to crash test their poorly built vehicles, and certainly does not care about pedestrians. He is an idiot despot, and the \"truck\" is pure crap. The US media is fawning over it, of course, but that just shows their own bias.',\n",
       "  'review_processed': \"The Cybertruck is absolutely one of the worst vehicles the world has ever seen. It is hideous. It can't be sold in the vast majority of the planet because it does not meet safety standards.\"},\n",
       " 785: {'review_id': 1302,\n",
       "  'review_time': '2024-04-17',\n",
       "  'like': 1,\n",
       "  'review': \"This thing is going to have such a high body count by the time it's finally outlawed, if the same witless zeal for consuming that made it possible in the first place ever allows the wheels of government to turn in a manner functional enough to outlaw it. Iconic, yes, iconic of just how much control we have handed over to sociopaths.\",\n",
       "  'review_processed': \"This thing is going to have such a high body count by the time it's finally outlawed, if the same witless zeal for consuming that made it possible in the first place ever allows the wheels of government to turn in a manner functional enough to outlaw it.\"},\n",
       " 786: {'review_id': 1303,\n",
       "  'review_time': '2024-04-17',\n",
       "  'like': 0,\n",
       "  'review': '2:31 I was \"If they get this anchor here and move it above with a nice easing transition - that would look awesome and I will hit the like button \" ... and that is what exactly happened.',\n",
       "  'review_processed': 'I was thinking that if they get this anchor here and move it above with a nice easing transition, that would look awesome and I will hit the like button. ... and that'},\n",
       " 787: {'review_id': 1306,\n",
       "  'review_time': '2024-04-17',\n",
       "  'like': 1,\n",
       "  'review': 'Charging $100,000 for a vehicle, spending almost 5 years on development, and making claims like Elon did (King of fake promises at this point) removes all allowance for \"early adopter issues\". When you guys had to use duct-tape to fix the door? That\\'s when the car should have been back at the dealer and a check in your pocket to repay it.\\nNot to mention the tires ruining themselves with the hubcap and the things that were promised on the car and not (not even getting into the \\'tent\\' thing).\\n\\nI wanted this car, but I\\'ll want until another dealer makes it.',\n",
       "  'review_processed': 'Charging $100,000 for a vehicle, spending almost 5 years on development, and making claims like Elon did removes all allowance for \"early adopter issues\". When you guys had to use duct-tape to fix the door, the car should have been back at the dealer and a check in your pocket to repay it.'},\n",
       " 788: {'review_id': 1307,\n",
       "  'review_time': '2024-04-17',\n",
       "  'like': 0,\n",
       "  'review': 'Im so tired of people crying about the CyberTruck online, ITS A COOL CAR!\\nAnd lmao yeah the statistic about people owning trucks and never using them to tow anything is so accurate, I have never met a single person irl who had a truck that actually used it for anything practical lmao',\n",
       "  'review_processed': \"I'm so tired of people crying about the CyberTruck online, it's a cool car! I have never met a single person who had a truck that actually used it for anything practical.\"},\n",
       " 789: {'review_id': 1308,\n",
       "  'review_time': '2024-04-17',\n",
       "  'like': 1,\n",
       "  'review': '19:23 As a raptor owner that one particularly stung just a bit 😂 \\n\\nI will say I won’t ever buy an EV, but damn id love to try this thing out, it’s ugly, but it’s different and that’s why I think it’s awesome! And yeah … it’s QUICK',\n",
       "  'review_processed': \"I won't buy an EV, but I'd love to try this thing out. It's ugly, but it's different, and that's why I think it's awesome!\"},\n",
       " 790: {'review_id': 1310,\n",
       "  'review_time': '2024-04-17',\n",
       "  'like': 2,\n",
       "  'review': \"HIs review of this thing is so much nicer than the Humane AI pin. He can't hide his Tesla fanboyism, as much as he tries. It's so painfully obivous, so you'd never get a fully honest review about anything Tesla related. You want that, you gotta go to Rich Rebuilds.\",\n",
       "  'review_processed': \"He can't hide his Tesla fanboyism, as much as he tries. It's so painfully obivous, so you'd never get a fully honest review about anything Tesla related.\"},\n",
       " 791: {'review_id': 1311,\n",
       "  'review_time': '2024-04-17',\n",
       "  'like': 0,\n",
       "  'review': 'I can tell you in car enthusiast areas, this thing is never the topic of conversation. Also variable steering ratios have been around for awhile. Honda uses it, BMW uses, lots of companies use it.',\n",
       "  'review_processed': 'I can tell you in car enthusiast areas, this thing is never the topic of conversation. Also variable steering ratios have been around for awhile.'},\n",
       " 792: {'review_id': 1314,\n",
       "  'review_time': '2024-04-17',\n",
       "  'like': 0,\n",
       "  'review': 'Being \"iconic\" doesn\\'t require it to be an actually good vehicle.  All it means is that it\\'s easily recognizable, and since I actually saw one on the road, you can recognize that POS from a mile away.  lol.  Also - being mass produced.... that\\'s a bit of a leap.  These things are being rushed so quickly out the door that the glue hasn\\'t even had enough time to dry yet... and as of yesterday, deliveries of the cybertruck are being halted due to faulty gas pedals...  I don\\'t blame people for liking the concept.  it\\'s different, weird, and shiny, and people like shiny new objects, even if they\\'re garbage.  :/',\n",
       "  'review_processed': \"Since I saw one on the road, you can recognize that POS from a mile away. These things are being rushed so quickly out the door that the glue hasn't even had enough time to dry yet.\"},\n",
       " 793: {'review_id': 1316,\n",
       "  'review_time': '2024-04-17',\n",
       "  'like': 1,\n",
       "  'review': \"This video aged poorly. Literally right before the steering and gas pedal issues came out. lol I guess I'm glad yours don't have those problems.\",\n",
       "  'review_processed': \"This video aged poorly. Literally right before the steering and gas pedal issues came out. lol I guess I'm glad yours don't have those problems.\"},\n",
       " 794: {'review_id': 1320,\n",
       "  'review_time': '2024-04-16',\n",
       "  'like': 0,\n",
       "  'review': 'Tesla is pulling one of Apple moves here. They dont care if everyone has the same product. The Truck basically screams for a wrap or “skin”. And so they will be customized.',\n",
       "  'review_processed': \"Tesla is pulling one of Apple's moves here. They don't care if everyone has the same product. The Truck basically screams for a wrap or a\"},\n",
       " 795: {'review_id': 1322,\n",
       "  'review_time': '2024-04-16',\n",
       "  'like': 2,\n",
       "  'review': 'i mean, it sure is iconic... not for the right reasons!',\n",
       "  'review_processed': 'i mean, it sure is iconic... not for the right reasons!'},\n",
       " 796: {'review_id': 1323,\n",
       "  'review_time': '2024-04-16',\n",
       "  'like': 1,\n",
       "  'review': 'Marques is hands down the best reviewer in the world.',\n",
       "  'review_processed': 'Marques is hands down the best reviewer in the world.'},\n",
       " 797: {'review_id': 1324,\n",
       "  'review_time': '2024-04-16',\n",
       "  'like': 0,\n",
       "  'review': \"That's a great point - there're gonna be a lot of first time truck owners, and outright oopsie girls, that have unrealistic expectations about what any truck can do, and get it in embarrassing situations.\",\n",
       "  'review_processed': \"There's gonna be a lot of first time truck owners and outright oopsie girls that have unrealistic expectations about what any truck can do, and get it in embarrassing situations.\"},\n",
       " 798: {'review_id': 1325,\n",
       "  'review_time': '2024-04-16',\n",
       "  'like': 0,\n",
       "  'review': 'Bro you have been payed to do a promotion.',\n",
       "  'review_processed': 'Bro you have been payed to do a promotion.'},\n",
       " 799: {'review_id': 1329,\n",
       "  'review_time': '2024-04-16',\n",
       "  'like': 0,\n",
       "  'review': 'of course the biker hates it, trucks are some of the most dangerous vehicles on the road and the cybertruck is the most dangerous out of them, especially for bikers who are on the road a lot',\n",
       "  'review_processed': 'Bikers hate trucks; they are some of the most dangerous vehicles on the road. The cybertruck is most dangerous out of them, especially for bikers who'},\n",
       " 800: {'review_id': 1331,\n",
       "  'review_time': '2024-04-16',\n",
       "  'like': 1,\n",
       "  'review': 'Just say it sucks and will end up landfill, we prefer the truth and reality, The emperors new clothes was a great story.',\n",
       "  'review_processed': 'Just say it sucks and will end up landfill, we prefer the truth and reality, The emperors new clothes was a great story.'},\n",
       " 801: {'review_id': 1333,\n",
       "  'review_time': '2024-04-16',\n",
       "  'like': 0,\n",
       "  'review': 'I like the Space Balls plug in there lol',\n",
       "  'review_processed': 'I like the Space Balls plug in there lol'},\n",
       " 802: {'review_id': 1337,\n",
       "  'review_time': '2024-04-16',\n",
       "  'like': 0,\n",
       "  'review': 'umm what kinda porsche is this? If u compare to a Porsche use a 911 GT2 RS and none of these toy versions that have no power and are just cheap versions of the real thing that is actually the fasted street legal car one can buy. so thank u for clarifying',\n",
       "  'review_processed': 'What kind of Porsche is this? If you want to compare to a Porsche, use a 911 GT2 RS. These toy versions have no power and are just cheap versions of the real thing that is actually the fastest street legal car one'},\n",
       " 803: {'review_id': 1338,\n",
       "  'review_time': '2024-04-16',\n",
       "  'like': 1,\n",
       "  'review': \"Everyone still stares when a DeLorean drives by. Definitely an iconic movie star of a car. . Still didn't stop it from being one of the biggest financial disasters in motoring history. I see a repeat. \\nAt least DeLorean was legal to drive in every country.\",\n",
       "  'review_processed': \"Everyone still stares when a DeLorean drives by. It's an iconic movie star of a car. Still didn't stop it from being one of the biggest financial disasters in motoring history.\"},\n",
       " 804: {'review_id': 1339,\n",
       "  'review_time': '2024-04-16',\n",
       "  'like': 0,\n",
       "  'review': \"There's a reason most trucks look the same - the design works. The cybertruck has horrible bed space, it's not safe in an accident, and it has issues with reliability and frame rusting.\",\n",
       "  'review_processed': \"There's a reason most trucks look the same - the design works. The cybertruck has horrible bed space, it's not safe in an accident, and it has issues\"},\n",
       " 805: {'review_id': 1341,\n",
       "  'review_time': '2024-04-16',\n",
       "  'like': 0,\n",
       "  'review': \"I have to be honest. It's one of the ugliest vehicles I've ever seen.\",\n",
       "  'review_processed': \"I have to be honest. It's one of the ugliest vehicles I've ever seen.\"},\n",
       " 806: {'review_id': 1342,\n",
       "  'review_time': '2024-04-16',\n",
       "  'like': 3,\n",
       "  'review': \"A lot of people forget that there's actually 2 different towing workloads - long distance towing and short distance towing. The sort of towing that these types of vehicles are theoretically best suited to is very much short range towing and EVs are fantastic for short range towing (eg tradesmen towing equipment in a trailer to a jobsite)\",\n",
       "  'review_processed': ' aimed at long distance towing and short range towing are very different.'},\n",
       " 807: {'review_id': 1346,\n",
       "  'review_time': '2024-04-16',\n",
       "  'like': 0,\n",
       "  'review': 'Naaaaa not buying it. Is advertised by Tesla with all the capabilities that is supposed to be better at. You’re getting paid by Tesla for this content and this video is an excuse for Tesla and a coverup about all the shortcomings of the truck. Sorry but no. Is not a review nor isn’t iconic. Is an electric truck that is not a truck at all.',\n",
       "  'review_processed': 'This video is an excuse for Tesla and a coverup about all the shortcomings of the truck. It is not a review nor is it iconic.'},\n",
       " 808: {'review_id': 1347,\n",
       "  'review_time': '2024-04-16',\n",
       "  'like': 0,\n",
       "  'review': 'Having no outside door handles? you pull on the edge of the door to open and push on the side of the door to close it? They pushed this truck out unfinished because it was taking too long. Also no tailgate step?',\n",
       "  'review_processed': 'Having no outside door handles, you pull on the edge of the door to open and push on the side to close it. They pushed this truck out unfinished because it was taking too long.'},\n",
       " 809: {'review_id': 1348,\n",
       "  'review_time': '2024-04-16',\n",
       "  'like': 1,\n",
       "  'review': 'Sorry, I don’t care about any of the other shit. A massive LCD screen in the center console that forces you to take your eyes off the road for every slight adjustment is a disaster and should be flat out illegal.',\n",
       "  'review_processed': 'A massive LCD screen in the center console that forces you to take your eyes off the road for every slight adjustment is a disaster and should be illegal.'},\n",
       " 810: {'review_id': 1350,\n",
       "  'review_time': '2024-04-16',\n",
       "  'like': 0,\n",
       "  'review': \"The people that don't like its looks is because it's not conventional looking.  I think getting it painted would be a good idea because bare metal will rust and  corrode, no matter if it's stainless or not.\",\n",
       "  'review_processed': \"I think getting it painted would be a good idea because bare metal will rust and corrode, no matter if it's stainless or not.\"},\n",
       " 811: {'review_id': 1351,\n",
       "  'review_time': '2024-04-15',\n",
       "  'like': 2,\n",
       "  'review': 'this shit screams \"brand deal\" the cybertruck chops off people\\'s fingers, isnt rust proof, the glass breaks easy, and is just something a grown child on drugs named elon drew in 15 seconds on a napkin before some actual poor souls had to make it a real vehicle\\n\\nlet Tesla die like call of duty',\n",
       "  'review_processed': 'This shit screams \"brand deal\" The cybertruck chops off people\\'s fingers, is not rust-proof, the glass breaks easily, and is just something a grown child on drugs named Elon drew in 15 seconds on a napkin.'},\n",
       " 812: {'review_id': 1358,\n",
       "  'review_time': '2024-04-15',\n",
       "  'like': 0,\n",
       "  'review': 'tbh i think the way the gas pedal can get stuck all the way to the floor if the cover slips is the most dangerous thing',\n",
       "  'review_processed': 'tbh i think the way the gas pedal can get stuck all the way to the floor if the cover slips is the most dangerous thing'},\n",
       " 813: {'review_id': 1360,\n",
       "  'review_time': '2024-04-15',\n",
       "  'like': 1,\n",
       "  'review': 'In the US you have no norms for pedestrian etc? This will never be seen in the EU. It is a coffin on wheels.',\n",
       "  'review_processed': 'In the US you have no norms for pedestrian etc? This will never be seen in the EU. It is a coffin on wheels.'},\n",
       " 814: {'review_id': 1361,\n",
       "  'review_time': '2024-04-15',\n",
       "  'like': 0,\n",
       "  'review': '\"No it\\'s not stock\" Oh yea that\\'s your baby for real',\n",
       "  'review_processed': '\"No it\\'s not stock\" Oh yea that\\'s your baby for real'},\n",
       " 815: {'review_id': 1363,\n",
       "  'review_time': '2024-04-15',\n",
       "  'like': 0,\n",
       "  'review': '...Not adressing the lack of crumple?',\n",
       "  'review_processed': '...Not adressing the lack of crumple?'},\n",
       " 816: {'review_id': 1364,\n",
       "  'review_time': '2024-04-15',\n",
       "  'like': 3,\n",
       "  'review': 'Cinematography on display here in this video is off the chain. Huge respect for the production quality. What types of lenses/cameras do you use to film? Is there a video on your channel about this already? \\n\\nEdit: Saw the link in the description of some of your equipment, but would love to hear a breakdown of your process for achieving the \"iconic\" MKBHD look and feel that is present in your videos.\\n\\nEdit 2: I just found \"The Studio\" channel with all the BTS from MKBHD. Exactly what I wanted. Incredible.',\n",
       "  'review_processed': 'What types of lenses and cameras do you use to film? Is there a video on your channel about this already? I would love to hear a breakdown of your process for achieving the \"iconic\" look and feel that is present in your videos.'},\n",
       " 817: {'review_id': 1366,\n",
       "  'review_time': '2024-04-15',\n",
       "  'like': 0,\n",
       "  'review': 'Dude im typically a pedestrian and this would like kill me',\n",
       "  'review_processed': 'Dude im typically a pedestrian and this would like kill me'},\n",
       " 818: {'review_id': 1369,\n",
       "  'review_time': '2024-04-15',\n",
       "  'like': 67,\n",
       "  'review': '12:46 be real man, very few trucks have the CEO of the company saying unrealistic stuff like “you will be able to use it as a boat briefly”',\n",
       "  'review_processed': '12:46 be real man, very few trucks have the CEO of the company saying unrealistic stuff like you will be able to use it as a boat briefly'},\n",
       " 819: {'review_id': 1371,\n",
       "  'review_time': '2024-04-15',\n",
       "  'like': 0,\n",
       "  'review': \"Wow, a 3000 KG box of sharp, rigid metal going 911 speeds spotlight to spotlight. Yeah that sounds fun and safe 💀 \\nI've seen way smaller cars collapse brick walls on avenues given enough speed. Imagine what a three metric ton steel brick on wheels would do to plaster and drywall buildings. And I fully expect the average Tesla owner to be that careless.\",\n",
       "  'review_processed': \"I've seen smaller cars collapse brick walls on avenues given enough speed. Imagine what a three metric ton steel brick on wheels would do to plaster and drywall buildings.\"},\n",
       " 820: {'review_id': 1375,\n",
       "  'review_time': '2024-04-15',\n",
       "  'like': 1,\n",
       "  'review': 'It seems like he’s trying really, really hard to rationalize liking something that he just really doesn’t like.',\n",
       "  'review_processed': 'It seems like hes trying really, really hard to rationalize liking something that he just really doesnt like.'},\n",
       " 821: {'review_id': 1376,\n",
       "  'review_time': '2024-04-15',\n",
       "  'like': 1,\n",
       "  'review': \"It's iconic for all the wrong reasons\",\n",
       "  'review_processed': \"It's iconic for all the wrong reasons\"},\n",
       " 822: {'review_id': 1377,\n",
       "  'review_time': '2024-04-15',\n",
       "  'like': 1,\n",
       "  'review': 'I think, as Elon continues to alienate more and more people with his handling of twitter, Tesla faces a branding struggle of their own. More and more people are going to have negative reactions to seeing Tesla vehicles over time, and owning one is increasingly going to be seen as supporting his personal views.',\n",
       "  'review_processed': 'I think as Elon continues to alienate more and more people with his handling of Twitter, Tesla faces a branding struggle of their own. More people are going to have negative reactions to seeing Tesla vehicles over time, and owning one is increasingly going to be seen as supporting'},\n",
       " 823: {'review_id': 1380,\n",
       "  'review_time': '2024-04-15',\n",
       "  'like': 0,\n",
       "  'review': 'The most dangerous thing about the truck is indeed its pointy edges, the exact reason why you can’t sell it in the EU. But okay whatever you say 😅 this is all hype, bad design and poor manufacturing.',\n",
       "  'review_processed': \"The most dangerous thing about the truck is indeed its pointy edges, the exact reason why you can't sell it in the EU.\"},\n",
       " 824: {'review_id': 1384,\n",
       "  'review_time': '2024-04-15',\n",
       "  'like': 1,\n",
       "  'review': \"The sequence on the drag race had me like:\\n*MKBHD steps out into what looks like a track*\\n\\nMe: wait he's not about to whip out his 911 to test the Cybertruck ad is he\\n\\n*First frame of his 911 and music starts*\\n\\nMe: NOW WE'RE TALKING HECK YEAH\\n\\nBig smile on my face there lol\",\n",
       "  'review_processed': 'The sequence on the drag race had me like: \"What the heck? We\\'re talking! I\\'m so excited!\"'},\n",
       " 825: {'review_id': 1386,\n",
       "  'review_time': '2024-04-15',\n",
       "  'like': 0,\n",
       "  'review': \"The worst thing about this vehicle is that you get associated with Edgelord (synonym for Elon) and that's something that doesn't fly in my country. It's like wearing a swastika in Germany.\",\n",
       "  'review_processed': \"The worst thing about this vehicle is that you get associated with Edel, and that's something that doesn't fly in my country. It's like wearing a swastika in\"},\n",
       " 826: {'review_id': 1387,\n",
       "  'review_time': '2024-04-15',\n",
       "  'like': 0,\n",
       "  'review': 'Marques is a shameless Elon Musk fanboy so his objectivity is questionable. There are many other reviews that show how awful this monstrosity really is. Cheap interior (a Tesla signature), poor fitting panels and almost instant body rust to name a few.',\n",
       "  'review_processed': 'There are many other reviews that show how awful this monstrosity really is. Cheap interior, poor fitting panels and almost instant body rust are just a few.'},\n",
       " 827: {'review_id': 1389,\n",
       "  'review_time': '2024-04-15',\n",
       "  'like': 0,\n",
       "  'review': 'Have you ever considered why the biker gave you a thumbs down?',\n",
       "  'review_processed': 'Have you ever considered why the biker gave you a thumbs down?'},\n",
       " 828: {'review_id': 1390,\n",
       "  'review_time': '2024-04-15',\n",
       "  'like': 0,\n",
       "  'review': 'left-liberals hate it with a passion, everyone else loves it.',\n",
       "  'review_processed': 'left-liberals hate it with a passion, everyone else loves it.'},\n",
       " 829: {'review_id': 1391,\n",
       "  'review_time': '2024-04-15',\n",
       "  'like': 0,\n",
       "  'review': 'I remember the PT Cruiser, and that car is definitely iconic. Almost everyone wanted one. The Cybertruck though? Nope. Absurd to call something iconic that almost no one wants.',\n",
       "  'review_processed': 'I remember the PT Cruiser, and that car is definitely iconic. Almost everyone wanted one. The Cybertruck though? Nope.'},\n",
       " 830: {'review_id': 1393,\n",
       "  'review_time': '2024-04-15',\n",
       "  'like': 0,\n",
       "  'review': \"I feel like the PT Cruiser was getting laughed at the day it was born because it looked like what Grandpa thought was cool when he was a kid. This will never be lame like that because it looks futuristic, and it's not hard to imagine Zoomers in them.\",\n",
       "  'review_processed': \"I feel like the PT Cruiser was getting laughed at the day it was born because it looked like what Grandpa thought was cool when he was a kid. This will never be lame like that because it looks futuristic, and it's not hard to\"},\n",
       " 831: {'review_id': 1398,\n",
       "  'review_time': '2024-04-15',\n",
       "  'like': 1037,\n",
       "  'review': 'He thinks they\\'re filming like \"Look! A Cybertruck!\" but really they\\'re like \"Look! It\\'s MKBHD!!\"',\n",
       "  'review_processed': 'He thinks they\\'re filming like \"Look! A Cybertruck!\" but really they\\'re like \"Look! It\\'s MKBHD!!\"'},\n",
       " 832: {'review_id': 1403,\n",
       "  'review_time': '2024-04-15',\n",
       "  'like': 0,\n",
       "  'review': \"Update: Tesla has halted all Cybertruck deliveries around the same time a buyer crashed his truck after the inputs on the breaks stopped working and the car accelerated into a traffic poll, the airbags did not deploy but thankfully the driver didn't die.\",\n",
       "  'review_processed': \"A buyer crashed his truck after the inputs on the breaks stopped working and the car accelerated into a traffic lane. The airbags did not deploy, but the driver didn't die.\"},\n",
       " 833: {'review_id': 1405,\n",
       "  'review_time': '2024-04-14',\n",
       "  'like': 0,\n",
       "  'review': 'Note to America: he used the Chinese cellphone market landscape to identify a more competitive capitalistic ideal.',\n",
       "  'review_processed': 'Note to America: he used the Chinese cellphone market landscape to identify a more competitive capitalistic ideal.'},\n",
       " 834: {'review_id': 1408,\n",
       "  'review_time': '2024-04-14',\n",
       "  'like': 0,\n",
       "  'review': \"Ive only seen one on the road, it was cool, I like it. And for 4 wheeling, not having the diff's and axles, the whole drivetrain, in the way is a game changer. Maybe they are keeping the moon in mind with the design? Easier to operate if you're in a space suit, and large flat surfaces for solar recharge on the moon. These could be customized to be heavy equipment tools like dozers, excavators, cranes etc on the moon. He said we are going to have a permanent base on the moon, we are going to need some heavy equipment to build it, I bet we see this thing on the moon.\",\n",
       "  'review_processed': \"I've seen one on the road, it was cool, I like it. Easier to operate if you're in a space suit, and large flat surfaces for solar recharge on the moon. These could be customized to be heavy equipment tools like dozers, excavators, cranes, etc.\"},\n",
       " 835: {'review_id': 1412,\n",
       "  'review_time': '2024-04-14',\n",
       "  'like': 0,\n",
       "  'review': 'i thought the initial renders of it looked cool, but seeing videos of it in person changed my mind.',\n",
       "  'review_processed': 'i thought the initial renders of it looked cool, but seeing videos of it in person changed my mind.'},\n",
       " 836: {'review_id': 1416,\n",
       "  'review_time': '2024-04-14',\n",
       "  'like': 0,\n",
       "  'review': 'More like emblematic of idiocy and hatred for value.',\n",
       "  'review_processed': 'More like emblematic of idiocy and hatred for value.'},\n",
       " 837: {'review_id': 1417,\n",
       "  'review_time': '2024-04-14',\n",
       "  'like': 0,\n",
       "  'review': 'The shape and design looks a bit stupid and desperate',\n",
       "  'review_processed': 'The shape and design looks a bit stupid and desperate'},\n",
       " 838: {'review_id': 1424,\n",
       "  'review_time': '2024-04-13',\n",
       "  'like': 1,\n",
       "  'review': 'Its a big, shiny, futuristic piece of a turd. \\n\\nA big fail. A shame to any professional engineer.',\n",
       "  'review_processed': 'Its a big, shiny, futuristic piece of a turd. \\n\\nA big fail. A shame to any professional engineer.'},\n",
       " 839: {'review_id': 1425,\n",
       "  'review_time': '2024-04-13',\n",
       "  'like': 1,\n",
       "  'review': 'I use to respect Marques as a reviewer but now he is just a tesla stan. Wont acknowledge the real issues that plauge Tesla.',\n",
       "  'review_processed': 'I use to respect Marques as a reviewer but now he is just a tesla stan. Wont acknowledge the real issues that plauge Tesla.'},\n",
       " 840: {'review_id': 1428,\n",
       "  'review_time': '2024-04-13',\n",
       "  'like': 0,\n",
       "  'review': 'Usually i am not leaving negative comment on your vid, but this \"review\" is kinda you shilling or fan boying over Tesla/Elon. \\nYou view this from the perspective of a tech nerd, not from a perspective of a driver. \\n\\nMany review i watched say cyber truck is shit as car. It is good as conversation starter, but that\\'s it.\\nIt rust. Not as strong as it claims to be. Have awful truck bed capacity. Not safe at all (really a speedometer in the middle? Making you turn head when driving?). \"You are safe when you crash\" but you kill the other people in that Prius. It reflect sunlight so you can blind other driver. \\n\\nThis video does not paint you in goodlight man',\n",
       "  'review_processed': \"You view this from the perspective of a tech nerd, not from a driver's perspective. It is good as a conversation starter, but that's it. It's not as strong as it claims to be, and it's not safe at all.\"},\n",
       " 841: {'review_id': 1432,\n",
       "  'review_time': '2024-04-13',\n",
       "  'like': 0,\n",
       "  'review': \"Yeah it's an iconic turd.\",\n",
       "  'review_processed': \"Yeah it's an iconic turd.\"},\n",
       " 842: {'review_id': 1434,\n",
       "  'review_time': '2024-04-13',\n",
       "  'like': 0,\n",
       "  'review': \"It's important to note that the base 911 Carrera t is the Porche variant that is closest in price to the top end CyberTruck.\",\n",
       "  'review_processed': \"It's important to note that the base 911 Carrera t is the Porche variant that is closest in price to the top end CyberTruck.\"},\n",
       " 843: {'review_id': 1435,\n",
       "  'review_time': '2024-04-13',\n",
       "  'like': 0,\n",
       "  'review': \"I love your channel!  Thanks so much for sharing your experiences.  We'll be getting ours sometime next year. 😊\",\n",
       "  'review_processed': \"I love your channel!  Thanks so much for sharing your experiences.  We'll be getting ours sometime next year. \"},\n",
       " 844: {'review_id': 1436,\n",
       "  'review_time': '2024-04-13',\n",
       "  'like': 0,\n",
       "  'review': 'I need one. My order has been in queue. Patiently waiting.',\n",
       "  'review_processed': 'I need one. My order has been in queue. Patiently waiting.'},\n",
       " 845: {'review_id': 1438,\n",
       "  'review_time': '2024-04-13',\n",
       "  'like': 0,\n",
       "  'review': \"You seem unfamiliar with who specifically identified with and adopted the PT Cruiser as their icon. Not that there's anything wrong with that.\\n\\nCybertruck is big, dumb, and ugly, but there's some great engineering there that I look forward to seeing wrapped up in a more practical package.\",\n",
       "  'review_processed': \"You seem unfamiliar with who specifically identified with and adopted the PT Cruiser as their icon. Cybertruck is big, dumb, and ugly, but there's some great engineering there that I look forward to seeing wrapped up in a more practical package.\"},\n",
       " 846: {'review_id': 1439,\n",
       "  'review_time': '2024-04-13',\n",
       "  'like': 0,\n",
       "  'review': 'ppl saying bad stuff but I could swear this came out in like 2018 or 2019 or was that just when it was an idea',\n",
       "  'review_processed': 'ppl saying bad stuff but I could swear this came out in like 2018 or 2019 or was that just when it was an idea'},\n",
       " 847: {'review_id': 1442,\n",
       "  'review_time': '2024-04-13',\n",
       "  'like': 0,\n",
       "  'review': \"My daughter drew this. I know you wouldn't believe it, but yes she did.\",\n",
       "  'review_processed': \"My daughter drew this. I know you wouldn't believe it, but yes she did.\"},\n",
       " 848: {'review_id': 1444,\n",
       "  'review_time': '2024-04-13',\n",
       "  'like': 2,\n",
       "  'review': 'Its not iconic, its a mess.  You have car drivers reviewing a car that will never be a truck.   The high sides on the bed and weird angled sides ...ask a person who uses a truck and they will laugh this channel off youtube.  So not authentic',\n",
       "  'review_processed': 'You have car drivers reviewing a car that will never be a truck. The high sides on the bed and weird angled sides are ridiculous. Ask a person who uses a truck and they will laugh this channel off the air.'},\n",
       " 849: {'review_id': 1446,\n",
       "  'review_time': '2024-04-13',\n",
       "  'like': 2,\n",
       "  'review': 'So lame, this guy must be gettin paid.  Its cheap parts, back is really ugly and youre at the mercy of another liar who makes simple complicated.   And also makes tunnels ...wow is that  old tech',\n",
       "  'review_processed': \"This guy must be getting paid. Its cheap parts, back is ugly, and you're at the mercy of another liar who makes simple complicated.\"},\n",
       " 850: {'review_id': 1449,\n",
       "  'review_time': '2024-04-13',\n",
       "  'like': 1,\n",
       "  'review': '“If someone hits you, you’ll be fine” \\n\\nCorrection: Your *truck* will be fine, you be smeared across the windshield. Cars have crumple zones for a reason.',\n",
       "  'review_processed': \"If someone hits you, you'll be fine, but you will be smeared across the windshield. Cars have crumple zones for\"},\n",
       " 851: {'review_id': 1453,\n",
       "  'review_time': '2024-04-12',\n",
       "  'like': 1,\n",
       "  'review': \"Folks just can't realistically look past the fact that buying a Tesla equates to supporting an organization led by a homophobic, anti-semitic, modern day robber baron.\",\n",
       "  'review_processed': \"Folks just can't realistically look past the fact that buying a Tesla equates to supporting an organization led by a homophobic, anti-semitic, modern day robber baron.\"},\n",
       " 852: {'review_id': 1454,\n",
       "  'review_time': '2024-04-12',\n",
       "  'like': 0,\n",
       "  'review': \"It's the ugliest vehicle I have ever seen. I thought it couldn't be any uglier in person than in pictures. I was wrong. It is even uglier in person.\\n\\nMarques makes a good point about how reflective it is. I've already been blinded on the freeway but the reflections off the body.\",\n",
       "  'review_processed': \"I thought it couldn't be any uglier in person than in pictures, but I was wrong. It is even ugler in person.\"},\n",
       " 853: {'review_id': 1456,\n",
       "  'review_time': '2024-04-12',\n",
       "  'like': 1,\n",
       "  'review': 'Wank Panzer         or         InCel Camino?\\n\\nJust a pathetic scrapmetal statue to male ego.',\n",
       "  'review_processed': 'Wank Panzer         or         InCel Camino?\\n\\nJust a pathetic scrapmetal statue to male ego.'},\n",
       " 854: {'review_id': 1460,\n",
       "  'review_time': '2024-04-12',\n",
       "  'like': 0,\n",
       "  'review': '@mkbhd when are you visiting China to review Xiaomi SU7 ❤',\n",
       "  'review_processed': '@mkbhd when are you visiting China to review Xiaomi SU7 '},\n",
       " 855: {'review_id': 1461,\n",
       "  'review_time': '2024-04-12',\n",
       "  'like': 0,\n",
       "  'review': '19:52 My brain went \"this, This, THIS IS MY PRODUCT! This is MY recipe; it\\'s MINE!\"',\n",
       "  'review_processed': '19:52 My brain went \"this, This, THIS IS MY PRODUCT! This is MY recipe; it\\'s MINE!\"'},\n",
       " 856: {'review_id': 1464,\n",
       "  'review_time': '2024-04-12',\n",
       "  'like': 0,\n",
       "  'review': 'Just saw the best name EVER for a cybertruck.... Behold the Wankpanzer.',\n",
       "  'review_processed': 'Just saw the best name EVER for a cybertruck.... Behold the Wankpanzer.'},\n",
       " 857: {'review_id': 1465,\n",
       "  'review_time': '2024-04-12',\n",
       "  'like': 0,\n",
       "  'review': '\"The most iconic profile is the side\" nice one',\n",
       "  'review_processed': '\"The most iconic profile is the side\" nice one'},\n",
       " 858: {'review_id': 1466,\n",
       "  'review_time': '2024-04-12',\n",
       "  'like': 1,\n",
       "  'review': 'Mkbhd has 0 credibility as a vehicle reviewer as he tends to treat most if not all electric vehicles as a piece of tech and not an actual vehicle. The cybertruck is a failure of a truck and a piece of tech. Stick to actual tech reviews.',\n",
       "  'review_processed': 'The cybertruck is a failure of a truck and a piece of tech. Stick to actual tech reviews.'},\n",
       " 859: {'review_id': 1468,\n",
       "  'review_time': '2024-04-12',\n",
       "  'like': 0,\n",
       "  'review': \"no. its a pile of garbage. won't even give this video a complete view.\",\n",
       "  'review_processed': \"no. its a pile of garbage. won't even give this video a complete view.\"},\n",
       " 860: {'review_id': 1469,\n",
       "  'review_time': '2024-04-12',\n",
       "  'like': 0,\n",
       "  'review': \"Electric Car Company Loses over $500m after Customers Reviews.\\n\\nA YouTuber, Marques Brownlee using the MKBHD handled reviewed an electric car called Fisker and on his YouTube channel, shared his damning observations of the car. \\n\\nHe did this despite the car company asking him to wait for the software update that they said was coming to the vehicle.\\n \\nAccording to MKBHD, he is reviewing it because the company had made the product public and was actually selling to customers.\\n\\nFollowing his review where he called it the worst car he has ever reviewed, which had over 4 million views and other inefficiencies of the car company, Fisker has now recorded a net loss of over $500m. There are mutterings that the company may go bankrupt.\\n\\nIt happened that his review was reechoed by the users of the car with less platform.\\n\\nAnd where is MKBHD today, surprisingly, he is still a free man with the right to call any product crap with his reasons in so far as he bought it and is sharing his honest perspective as a user.\\n\\nNigerians are struggling to relate to this because if MKBHD was in Nigeria, he will be arrested first and fellow citizens will defend it because MKBHD does not know what it takes to build a business.\\n\\n*********************\\nNote: The car company lied about some features that are not there. An integrity issue. They also sold a product that was not ready not minding the risks this poses for their customers. Nigerians want to wait until people died before they do Quality Assurance.\\n\\nGot this from Ayo Ademokoya's wall.\",\n",
       "  'review_processed': 'Electric Car Company Loses over $500m after Customers Reviews. A YouTuber, Marques Brownlee, reviewed an electric car called Fisker and on his YouTube channel, shared his damning observations of the car. He did this despite the car company asking him to wait for the software update that they said was coming to the vehicle. There are mutterings that the company may go bankrupt.'},\n",
       " 861: {'review_id': 1473,\n",
       "  'review_time': '2024-04-12',\n",
       "  'like': 0,\n",
       "  'review': \"Iconic? From all the rust I've seen more like ionic.\",\n",
       "  'review_processed': \"Iconic? From all the rust I've seen more like ionic.\"},\n",
       " 862: {'review_id': 1474,\n",
       "  'review_time': '2024-04-12',\n",
       "  'like': 0,\n",
       "  'review': 'It’s so weird seeing the city I live in and roads I drive on daily in the background of all your shots. Very cool!',\n",
       "  'review_processed': 'Its so weird seeing the city I live in and roads I drive on daily in the background of all your shots. Very cool!'},\n",
       " 863: {'review_id': 1477,\n",
       "  'review_time': '2024-04-12',\n",
       "  'like': 0,\n",
       "  'review': 'Is it just me or is the \"sss\" sounds when Marques speaks is strangely super sharp and loud in this video?',\n",
       "  'review_processed': 'Is it just me or is the \"sss\" sounds when Marques speaks is strangely super sharp and loud in this video?'},\n",
       " 864: {'review_id': 1479,\n",
       "  'review_time': '2024-04-12',\n",
       "  'like': 0,\n",
       "  'review': 'Have you noticed that the attention you crave is gradually being replaced with laughter and derision?',\n",
       "  'review_processed': 'Have you noticed that the attention you crave is gradually being replaced with laughter and derision?'},\n",
       " 865: {'review_id': 1484,\n",
       "  'review_time': '2024-04-11',\n",
       "  'like': 0,\n",
       "  'review': '\"You\\'ll be fine\"\\n\\nNo, you won\\'t. And that\\'s a ridiculous statement. I can\\'t really talk about safety, cause I don\\'t know anything about it, so I\\'ll just stick to common sense: cars are heavy as fuck. The difference between this and a regular car panel will be negligible when you\\'re talking in terms on tonnes. The inside bits, the actual structure of the car, matters more. And I\\'ll leave that to NCAP tests etc. Stainless steel changes nothing.\\n\\nAnd when it comes to fender bender... well, again; the difference will be negligible when you\\'re talking in terms on tonnes. Any collision that would result in a dent on a normal car will dent this. The only pro is that it isn\\'t painted, but that\\'s not actually a pro, cause it will rust... It won\\'t even be worth its weight in scrap 10 years from now. And who know how much they\\'re gonna sell spare panels for.\\n\\nAnd this may be an unpopular opinion (j/k), but something COSTING $60.000 SHOULD NOT HAVE AN OPEN BETA! It\\'s not a video game, it\\'s the real world. Ridiculous.\\n\\nThis thing is an iPhone with none of the quality.',\n",
       "  'review_processed': \"Any collision that would result in a dent on a normal car will dent this. It won't even be worth its weight in scrap 10 years from now. It's not a video game, it's the real world. The inside bits, the actual structure of the car, matters more, and I'll leave that to NCAP tests.\"},\n",
       " 866: {'review_id': 1486,\n",
       "  'review_time': '2024-04-11',\n",
       "  'like': 0,\n",
       "  'review': \"u couldn't just tighten 2 bolts for the latch lol... probably spent more time on duct taping it.. not to mention how unsafe it is.. geez..\",\n",
       "  'review_processed': \"I couldn't just tighten 2 bolts for the latch. I spent more time on duct taping it. Not to mention how\"},\n",
       " 867: {'review_id': 1487,\n",
       "  'review_time': '2024-04-11',\n",
       "  'like': 0,\n",
       "  'review': \"its iconic. just like with computers a macbook is iconic. it's mass produced and everyone has seen one, yet with all the cheap PCs out there, it will still always be iconic. it brings a certain pride in ownership that most computers don't and the first time your friend gets one, you say ok, very nice. But after a while you get used to it, and yet it somehow stays iconic, and every time you see a dell you think why would anyone ever...\",\n",
       "  'review_processed': \"With all the cheap PCs out there, the Mac will always be iconic. It brings a certain pride in ownership that most computers don't. After a while you get used to it, and yet it somehow stays iconic.\"},\n",
       " 868: {'review_id': 1488,\n",
       "  'review_time': '2024-04-11',\n",
       "  'like': 0,\n",
       "  'review': 'This guy has drank the kool-aid. The cybertrucks designs is not \"iconic\", it is novel. \\nAsk a kid to draw a microphone and they\\'ll draw a Shure sm58 without knowing what an sm58 is, that is iconic. Its the image that represents the general concept of a microphone for generations. Ask a kid to draw a pick-up truck, they\\'ll draw a Ford f150, it is the image and shape conjured when picturing a truck. That is iconic.',\n",
       "  'review_processed': 'This guy has drunk the kool-aid. The cybertrucks designs is not \"iconic\", it is novel.'},\n",
       " 869: {'review_id': 1490,\n",
       "  'review_time': '2024-04-11',\n",
       "  'like': 1,\n",
       "  'review': 'The cybertruck has deeply concerning flaws, I was hoping for an objective review and this was not that. I’m disappointed.',\n",
       "  'review_processed': 'The cybertruck has deeply concerning flaws, I was hoping for an objective review and this was not that. Im disappointed.'},\n",
       " 870: {'review_id': 1493,\n",
       "  'review_time': '2024-04-11',\n",
       "  'like': 0,\n",
       "  'review': 'It’s a mistake to conflate some missing options like tires and software features when only the first few thousand are being made with somehow this being a choice that Tesla is going to impose on all 2mm preorders as if it will stay this way. These options will come for sure.',\n",
       "  'review_processed': \"It's a mistake to conflate some missing options like tires and software features when only the first few thousand are being made. This is a choice Tesla is going to impose on all 2mm preorders as if it will stay this way.\"},\n",
       " 871: {'review_id': 1494,\n",
       "  'review_time': '2024-04-11',\n",
       "  'like': 0,\n",
       "  'review': 'keen to see what the narrative will be in 5 years. awesome content',\n",
       "  'review_processed': 'keen to see what the narrative will be in 5 years. awesome content'},\n",
       " 872: {'review_id': 1497,\n",
       "  'review_time': '2024-04-11',\n",
       "  'like': 0,\n",
       "  'review': \"It is, without doubt, an eye-catcher. Taste is very subjective, so whether I feel it looks ugly is irrelevant. The thing that gets me is that stainless steel body which isn't stainless. Bird shit, road salt etc. all have to be removed immediately, otherwise you'll have permanent stains on the metal surface. The interior is simply boring. Minimalism in it's most extreme sense. My opinion on Musk as a conspiracy theorist is also irrelevant.\",\n",
       "  'review_processed': 'It is without doubt an eye-catcher, but taste is subjective, so whether I feel it looks ugly is irrelevant. The interior is simply boring.'},\n",
       " 873: {'review_id': 1498,\n",
       "  'review_time': '2024-04-11',\n",
       "  'like': 0,\n",
       "  'review': 'That’s funny, Marcus it’s like you’re describing Matt Ralph’s chin.\\nOh my god that takes me back when I was 18 years old and purchased a brand new 2003 Chrysler PT Cruiser in Inferno red metallic with a five speed manual and all disc brakes.  Everything you’re describing about the cyber truck was reaction. I was receiving with this Chrysler PT Cruiser other people loved it or hated it. That same summer I drove my grandmother and grandfather back to Chihuahua México in order to pick up my grandmother‘s diabetes prescription. I wish I had a dash cam too show the amount of attention we received in Chihuahua Mexico. Obviously the PT cruiser ended up as a design exercise for Chrysler at the time and now no one cares about this little vehicle. But at the time we felt like celebrities driving this unique vehicle in the early 2000s.',\n",
       "  'review_processed': 'At the time we felt like celebrities driving this unique vehicle in the early 2000s. I wish I had a dash cam to show the amount of attention we received in Chihuahua Mexico.'},\n",
       " 874: {'review_id': 1499,\n",
       "  'review_time': '2024-04-11',\n",
       "  'like': 0,\n",
       "  'review': '\"Iconic\"... I guess that\\'s one way you can put it...  an iconic pile of',\n",
       "  'review_processed': '\"Iconic\"... I guess that\\'s one way you can put it...  an iconic pile of'},\n",
       " 875: {'review_id': 1500,\n",
       "  'review_time': '2024-04-11',\n",
       "  'like': 0,\n",
       "  'review': '😂 My favorite reaction is \"Intro timestamp 0:36\"  The facial expressions as the child was putting on jacket.',\n",
       "  'review_processed': ' My favorite reaction is \"Intro timestamp 0:36\"  The facial expressions as the child was putting on jacket.'},\n",
       " 876: {'review_id': 1501,\n",
       "  'review_time': '2024-04-11',\n",
       "  'like': 0,\n",
       "  'review': '....Driving efficiency. Which, thanks to the aerodynamics of a  refrigerator, is not great.😂😂😂',\n",
       "  'review_processed': '....Driving efficiency. Which, thanks to the aerodynamics of a  refrigerator, is not great.'},\n",
       " 877: {'review_id': 1502,\n",
       "  'review_time': '2024-04-11',\n",
       "  'like': 0,\n",
       "  'review': \"So he'll justify this piece of extortionist junk but then throws a tantrum about a mean Tweet by DBrand.\\nI guess ethics are totally dependent on whether you get a free car at the end of it, huh?\",\n",
       "  'review_processed': \"He'll justify this piece of extortionist junk but then throw a tantrum about a mean Tweet by DBrand. I guess ethics are totally dependent on whether you get a free car\"},\n",
       " 878: {'review_id': 1503,\n",
       "  'review_time': '2024-04-11',\n",
       "  'like': 0,\n",
       "  'review': 'Modern cars are generally designed to have crumple zones in case of a high impact accident. Something tells me the cyber the truck was neither engineered with that particular safety feature in mind..',\n",
       "  'review_processed': 'Modern cars are generally designed to have crumple zones in case of a high impact accident. Something tells me the cyber the truck was not designed with'},\n",
       " 879: {'review_id': 1505,\n",
       "  'review_time': '2024-04-11',\n",
       "  'like': 1,\n",
       "  'review': \"It's not a truck, but I think a better example of an iconic mass produced vehicle is an Airstream. Originally built in the 1930’s, the design has changed very little, they still turn heads, people stop and comment, and I've never heard of anyone disliking them so much, they give them a thumbs down.\",\n",
       "  'review_processed': \"I think a better example of an iconic mass produced vehicle is an Airstream. Originally built in the 1930s, the design has changed very little. They still turn heads, people stop and comment, and I've never heard of anyone disliking them so much, they give them a\"},\n",
       " 880: {'review_id': 1507,\n",
       "  'review_time': '2024-04-11',\n",
       "  'like': 0,\n",
       "  'review': 'The vehicle is completely \"un\"engineered from being convenient, to trendy. A horrible vehicle design.',\n",
       "  'review_processed': 'The vehicle is completely \"un\"engineered from being convenient, to trendy. A horrible vehicle design.'},\n",
       " 881: {'review_id': 1510,\n",
       "  'review_time': '2024-04-11',\n",
       "  'like': 0,\n",
       "  'review': '@mkbhd where is your mic? It sounds like you are speaking right into a studio mic but I don’t see any mic on your body',\n",
       "  'review_processed': '@mkbhd where is your mic? It sounds like you are speaking right into a studio mic but I dont see any mic on your body'},\n",
       " 882: {'review_id': 1511,\n",
       "  'review_time': '2024-04-11',\n",
       "  'like': 0,\n",
       "  'review': 'Someone parked their cyber truck next to a restaurant I was at last weekend and it took like 10 min for someone passing by to write “I ❤ BIG DICKS” in the dust on the back of it',\n",
       "  'review_processed': \"Someone parked their cyber truck next to a restaurant I was at last weekend, and it took like 10 minutes for someone passing by to write I'm big\\xa0\"},\n",
       " 883: {'review_id': 1515,\n",
       "  'review_time': '2024-04-10',\n",
       "  'like': 0,\n",
       "  'review': 'As I immerse myself in storytelling and video creativity, VideoGPT quietly works its magic, transforming my content into captivating pieces of art.',\n",
       "  'review_processed': 'As I immerse myself in storytelling and video creativity, VideoGPT quietly works its magic, transforming my content into captivating pieces of art.'},\n",
       " 884: {'review_id': 1516,\n",
       "  'review_time': '2024-04-10',\n",
       "  'like': 0,\n",
       "  'review': 'Half the space in the battery compartment is empty. Why?',\n",
       "  'review_processed': 'Half the space in the battery compartment is empty. Why?'},\n",
       " 885: {'review_id': 1517,\n",
       "  'review_time': '2024-04-10',\n",
       "  'like': 0,\n",
       "  'review': \"I am not a hater but that's a Pedestrian 9000 killer right there. Also if you hit 130km another car god damn it nothing will survive while you can drink and continue driving.\",\n",
       "  'review_processed': \"I am not a hater, but that's a pedestrian killer right there. Also, if you hit another car, nothing will survive while you can drink and\"},\n",
       " 886: {'review_id': 1519,\n",
       "  'review_time': '2024-04-10',\n",
       "  'like': 36,\n",
       "  'review': 'Why does this video have like the most crazy camera work and editing and they are just chilling with it',\n",
       "  'review_processed': 'Why does this video have like the most crazy camera work and editing and they are just chilling with it'},\n",
       " 887: {'review_id': 1521,\n",
       "  'review_time': '2024-04-10',\n",
       "  'like': 0,\n",
       "  'review': \"I drive a Model 3 Performance myself, but I'm really glad that cybertrucks are banned in the EU. For all other road users, an accident involving a cybertruck can quickly become fatal. There's a reason why they don't build cars with stainless steel.\",\n",
       "  'review_processed': \"I drive a Model 3, but I'm really glad that cybertrucks are banned in the EU. For all other road users, an accident involving a cybertruck can quickly become fatal.\"},\n",
       " 888: {'review_id': 1523,\n",
       "  'review_time': '2024-04-10',\n",
       "  'like': 0,\n",
       "  'review': \"I'm positive sure these will be collectable for a number of reasons and soon it's a possibility it will stop production in suggest all cyber truck owners hold on to them they will be the next hunmer h1 one sort mistake on design is the missing door handles would have been better if they were hidden or as option just leave it out\",\n",
       "  'review_processed': \"I'm positive these will be collectable for a number of reasons, and soon it's a possibility it will stop production. I suggest all cyber truck owners hold on to them; they will be the next generation.\"},\n",
       " 889: {'review_id': 1524,\n",
       "  'review_time': '2024-04-10',\n",
       "  'like': 0,\n",
       "  'review': \"It's hard to say what's the worst thing about them, but EVs are dumber than dirt, and truck EV is even more absurd.\",\n",
       "  'review_processed': \"It's hard to say what's the worst thing about them, but EVs are dumber than dirt, and truck EV is even more absurd.\"},\n",
       " 890: {'review_id': 1527,\n",
       "  'review_time': '2024-04-10',\n",
       "  'like': 4,\n",
       "  'review': 'Iconic != unique look. \\n\\nReminds me more of the Chrysler Prowler or the Saturn Sky when I first saw them. Just an interesting looking vehicle that everyone who saw it assumed it was expensive, but I hadn’t thought about in 20 years.',\n",
       "  'review_processed': 'It reminds me more of the Chrysler Prowler or the Saturn Sky when I first saw them. Just an interesting looking vehicle that everyone who saw it assumed it was expensive.'},\n",
       " 891: {'review_id': 1528,\n",
       "  'review_time': '2024-04-10',\n",
       "  'like': 0,\n",
       "  'review': \"I like the look. Ppl think it's hilarious but I find most cars hilarious..your average car just look like a bun bread. The cyber truck looks clean sleek. Problem is if it's so reflective then it's so bad for road safety. Need to somehow make it more matt I guess. I feel like it'll make a nice camping car. Haha\",\n",
       "  'review_processed': \"I like the look of the cyber truck, but it's too reflective for road safety. I feel like it'll make a nice camping car.\"},\n",
       " 892: {'review_id': 1531,\n",
       "  'review_time': '2024-04-10',\n",
       "  'like': 0,\n",
       "  'review': 'Not mentioning the lack of crumple zone SPECIFICALLY when talking about “the most dangerous part of the Cybertruck” is a bad choice',\n",
       "  'review_processed': 'Not mentioning the lack of crumple zone SPECIFICALLY when talking about the most dangerous part of the Cybertruck is a bad choice'},\n",
       " 893: {'review_id': 1536,\n",
       "  'review_time': '2024-04-10',\n",
       "  'like': 0,\n",
       "  'review': 'One of my main personal reasons for disliking the car is because the design looks immature and I don’t like Elon Musk.',\n",
       "  'review_processed': 'One of my main personal reasons for disliking the car is because the design looks immature and I dont like Elon Musk.'},\n",
       " 894: {'review_id': 1538,\n",
       "  'review_time': '2024-04-10',\n",
       "  'like': 0,\n",
       "  'review': 'Cars already feel hostile. The cybertruck is American automotive hostility refined to a point, literally.',\n",
       "  'review_processed': 'Cars already feel hostile. The cybertruck is American automotive hostility refined to a point, literally.'},\n",
       " 895: {'review_id': 1542,\n",
       "  'review_time': '2024-04-10',\n",
       "  'like': 0,\n",
       "  'review': \"The Edsel was iconic too. And Ford Prefect was given his name from Douglas Adams on much the same reason American's laugh at the Edsel.\",\n",
       "  'review_processed': \"The Edsel was iconic too. And Ford Prefect was given his name from Douglas Adams on much the same reason American's laugh at the Edsel.\"},\n",
       " 896: {'review_id': 1543,\n",
       "  'review_time': '2024-04-10',\n",
       "  'like': 0,\n",
       "  'review': \"Iconic like Yeezy's... from stupidly overpriced aftermarket value to everyday and even below retail MSRP value.\",\n",
       "  'review_processed': \"Iconic like Yeezy's... from stupidly overpriced aftermarket value to everyday and even below retail MSRP value.\"},\n",
       " 897: {'review_id': 1544,\n",
       "  'review_time': '2024-04-10',\n",
       "  'like': 0,\n",
       "  'review': 'I must be the only one who looks at it with abject disgust on my face.',\n",
       "  'review_processed': 'I must be the only one who looks at it with abject disgust on my face.'},\n",
       " 898: {'review_id': 1547,\n",
       "  'review_time': '2024-04-09',\n",
       "  'like': 0,\n",
       "  'review': \"I've seen like 3 of these in South Beach. These things are fucking hideous.\",\n",
       "  'review_processed': \"I've seen like 3 of these in South Beach. These things are fucking hideous.\"},\n",
       " 899: {'review_id': 1548,\n",
       "  'review_time': '2024-04-09',\n",
       "  'like': 0,\n",
       "  'review': 'My ultimate issue with the Cybertruck is honestly more of an issue with Tesla and this new wave of \"techie\" vehicles overall: longevity. All the software and touchscreens replacing perfectly functional features (such as doorhandles!) seems to me a hundred more ways a car can break. If I buy a car I hope it will last me at least the better part of a decade. With Teslas, I can\\'t see it lasting more than a few years before they shut down the software, or worse, something breaks and is no longer supported, and then I have to buy a new car again. It\\'s all just a vanity purchase rather than a practical vehicle.',\n",
       "  'review_processed': 'My ultimate issue with the Cybertruck is honestly more of an issue with Tesla and this new wave of \"techie\" vehicles overall. All the software and touchscreens replacing perfectly functional features seems to me a hundred more ways a car can break. It\\'s all just a vanity purchase rather than a practical vehicle.'},\n",
       " 900: {'review_id': 1549,\n",
       "  'review_time': '2024-04-09',\n",
       "  'like': 0,\n",
       "  'review': 'I love this thing because it’s different. To that point, F150s, RAMs, Silverados and Sierras are god awfully ugly and dated. Some of the trims on those trucks are cool but you’re going to spend high five figures to upwards of 6 figures for those trims.',\n",
       "  'review_processed': \"I love this vehicle because it's different. F150s, RAMs, Silverados and Sierras are ugly and dated. Some of the trims on those trucks are cool, but you're going to spend high five figures to\"},\n",
       " 901: {'review_id': 1550,\n",
       "  'review_time': '2024-04-09',\n",
       "  'like': 0,\n",
       "  'review': 'The irony of a black man praising a Tesla vehicle. If you know, you know',\n",
       "  'review_processed': 'The irony of a black man praising a Tesla vehicle. If you know, you know'},\n",
       " 902: {'review_id': 1555,\n",
       "  'review_time': '2024-04-09',\n",
       "  'like': 0,\n",
       "  'review': 'I don’t blame the people for recording the cybertruck. If I saw a refrigerator that had wheels I would to.',\n",
       "  'review_processed': 'I dont blame the people for recording the cybertruck. If I saw a refrigerator that had wheels I would to.'},\n",
       " 903: {'review_id': 1556,\n",
       "  'review_time': '2024-04-09',\n",
       "  'like': 0,\n",
       "  'review': 'Instead of being honest about Cybertruck, Marques is worried about what Lunatic Musk will say about him or it will jeopardize his future with Tesla reviews. Selling your soul to the devil for money. Cybertruck is overhyped, overpriced , under delivered and rushed out the door rust bucket. Don’t forget to kiss Lunatic Musk ass on the way out.',\n",
       "  'review_processed': 'Instead of being honest about Cybertruck, Marques is worried about what Lunatic Musk will say about him or it will jeopardize his future with Tesla reviews. Cyberruck is overhyped, overpriced, under delivered and rushed out the door.'},\n",
       " 904: {'review_id': 1557,\n",
       "  'review_time': '2024-04-09',\n",
       "  'like': 0,\n",
       "  'review': \"The VW Beetle, Nissan Skyline,  Mercedes SL are some examples of iconic mass produced cars. So it can happen. \\n\\nBut the cybertruck will need many more years till there is consensus it's an icon. But for now it looks an iconic design so far. Great vid!\",\n",
       "  'review_processed': \"The VW Beetle, Nissan Skyline, and Mercedes SL are some examples of iconic mass produced cars. But the cybertruck will need many more years before there is consensus it's an icon.\"},\n",
       " 905: {'review_id': 1558,\n",
       "  'review_time': '2024-04-09',\n",
       "  'like': 0,\n",
       "  'review': 'I think a vehicle to compare it to when you say \"Iconic\" would be the Hummer. I remember when it first came out it was a big deal, than kinda calmed down over the years. I think the Cybertruck is gonna be very similar.',\n",
       "  'review_processed': 'I think a vehicle to compare it to when you say \"iconic\" would be the Hummer. I remember when it first came out it was a big deal, but it\\'s calmed down over the years. I think the Cy'},\n",
       " 906: {'review_id': 1562,\n",
       "  'review_time': '2024-04-09',\n",
       "  'like': 0,\n",
       "  'review': \"i mean, it's so ugly you can't look away\",\n",
       "  'review_processed': \"i mean, it's so ugly you can't look away\"},\n",
       " 907: {'review_id': 1563,\n",
       "  'review_time': '2024-04-09',\n",
       "  'like': 0,\n",
       "  'review': \"it's ugly asf but i. like it i think\",\n",
       "  'review_processed': \"it's ugly asf but i. like it i think\"},\n",
       " 908: {'review_id': 1564,\n",
       "  'review_time': '2024-04-09',\n",
       "  'like': 0,\n",
       "  'review': 'So you’re saying that €60 Mike Tyson can still go toe to toe with a 20 year old boxer he just might not win in the long run but the fact that he’s 60 years old and still can hold his own is impressive',\n",
       "  'review_processed': \"You're saying that 60 Mike Tyson can go toe to toe with a 20-year-old boxer, but he just might not win in the long run. The fact that he's 60\"},\n",
       " 909: {'review_id': 1565,\n",
       "  'review_time': '2024-04-09',\n",
       "  'like': 0,\n",
       "  'review': 'Thank you so much for sharing much appreciated indeed.\\n\\nCybertruck comes to give a boost into a pick up trucks market in reference on style..dynamic..Safety plus the different kind of tech which with the years to come will become even Better….what persons called competition is a just a weak word because no matter what all companies could share with Tesla Cybertruck much more powerful quality on the way…Everyone Could Win…\\n\\nWalk and Drive in Beauty….',\n",
       "  'review_processed': 'Cybertruck comes to give a boost into the pick up truck market in terms of style, style, and dynamic. With the years to come, the truck will become even better.'},\n",
       " 910: {'review_id': 1566,\n",
       "  'review_time': '2024-04-09',\n",
       "  'like': 0,\n",
       "  'review': 'I think the Cybertruck is something like a G-Wagon. In theory it could go offroad but no one does it. You buy it because its cool.',\n",
       "  'review_processed': 'I think the Cybertruck is something like a G-Wagon. In theory it could go offroad but no one does it. You buy it because its cool.'},\n",
       " 911: {'review_id': 1568,\n",
       "  'review_time': '2024-04-09',\n",
       "  'like': 0,\n",
       "  'review': 'Imagine gaslighting yourself into thinking the Cybertruck is a good looking truck. . .',\n",
       "  'review_processed': 'Imagine gaslighting yourself into thinking the Cybertruck is a good looking truck. . .'},\n",
       " 912: {'review_id': 1569,\n",
       "  'review_time': '2024-04-09',\n",
       "  'like': 0,\n",
       "  'review': 'I can’t believe you still live in Newark NJ area bro.',\n",
       "  'review_processed': 'I cant believe you still live in Newark NJ area bro.'},\n",
       " 913: {'review_id': 1570,\n",
       "  'review_time': '2024-04-09',\n",
       "  'like': 0,\n",
       "  'review': \"It's not good looking lol. Don't kid yourself.\",\n",
       "  'review_processed': \"It's not good looking lol. Don't kid yourself.\"},\n",
       " 914: {'review_id': 1575,\n",
       "  'review_time': '2024-04-09',\n",
       "  'like': 0,\n",
       "  'review': \"Fact of the matter is, this is a truck that sucks at towing long range, going off road- basically all the things a truck should do. Oh, and you'll have to wait a long time to get one after paying. Rather get a Ram TRX.\",\n",
       "  'review_processed': \"This is a truck that sucks at towing long range and going off road. You'll have to wait a long time to get one after paying. Rather get a Ram TRX.\"},\n",
       " 915: {'review_id': 1576,\n",
       "  'review_time': '2024-04-09',\n",
       "  'like': 0,\n",
       "  'review': 'I will help you out.  The cybertruck looks horrible.  Maybe spend some time looking at classic cars from different eras to gain some insight as to how shit it really is.  For a start I suggest looking at the various streamlined cars inspired by the art deco movement.  There are steam locomotives that are 1000 times more aesthetically pleasing than the cybertruck.',\n",
       "  'review_processed': 'I will help you out. The cybertruck looks horrible. Maybe spend some time looking at classic cars from different eras to gain some insight as to how shit it really is.'},\n",
       " 916: {'review_id': 1578,\n",
       "  'review_time': '2024-04-09',\n",
       "  'like': 0,\n",
       "  'review': \"Very thankful, that in Germany it's not allowed. As a pedestrian and bike driver I would feel and probably be even more unsecure than next to a classical medium sized SUV...\",\n",
       "  'review_processed': 'As a pedestrian and bike driver, I would feel even more unsecure next to a large, medium sized SUV.'},\n",
       " 917: {'review_id': 1580,\n",
       "  'review_time': '2024-04-09',\n",
       "  'like': 0,\n",
       "  'review': 'Waiting for someone to put refrigerator magnets on it!',\n",
       "  'review_processed': 'Waiting for someone to put refrigerator magnets on it!'},\n",
       " 918: {'review_id': 1581,\n",
       "  'review_time': '2024-04-09',\n",
       "  'like': 0,\n",
       "  'review': 'Didja see the video of someone smash and grabbing a Cybertruck?  Dude couldn’t cut thru the glass. Cybertruck is smash/grab proof.',\n",
       "  'review_processed': 'Didja see the video of someone smash and grabbing a Cybertruck?  Dude couldnt cut thru the glass. Cybertruck is smash/grab proof.'},\n",
       " 919: {'review_id': 1582,\n",
       "  'review_time': '2024-04-09',\n",
       "  'like': 0,\n",
       "  'review': '🤔Hummmmm…Toyota did a the iconic look already… with the 1984 Toyota Previa…my grandfather bought the very first model…and…I remember back then…we were always stopped by police…just for them…to ask about the van…because…it was a shape and look…at the time…that no one has very seen…😅',\n",
       "  'review_processed': 'I remember back then we were always stopped by police just for them to ask about the van because it was a shape and because no one had seen it before.'},\n",
       " 920: {'review_id': 1584,\n",
       "  'review_time': '2024-04-09',\n",
       "  'like': 0,\n",
       "  'review': \"In a few years, these refrigerators are likely to become e-waste after the initial novelty fades and the social media algorithm shifts to the next product.  It's too early to call this iconic...\",\n",
       "  'review_processed': 'In a few years, these refrigerators are likely to become e-waste after the initial novelty fades and the social media algorithm shifts to the next product.'},\n",
       " 921: {'review_id': 1587,\n",
       "  'review_time': '2024-04-08',\n",
       "  'like': 0,\n",
       "  'review': 'Beautiful Video- we get ours in a week. How have you been keeping yours clean?  Im OCD with fingerprints!!',\n",
       "  'review_processed': 'Beautiful Video- we get ours in a week. How have you been keeping yours clean?  Im OCD with fingerprints!!'},\n",
       " 922: {'review_id': 1594,\n",
       "  'review_time': '2024-04-08',\n",
       "  'like': 0,\n",
       "  'review': 'this car should be cheaper than prius.  look at these cheapeast materials. cheapest plastic on bumpers, sheets of aluminium , look at the lack of complexity of stop lights; they are just the cheapest components from chinese market. there is literally nothing is the interior. and they trying to pump hype into it and sell it for premium price. I imagine a german car designer looking at this garbage',\n",
       "  'review_processed': 'This car should be cheaper than prius. Cheaper plastic on bumpers, sheets of aluminium, lack of complexity of stop lights. They are just the cheapest components from the Chinese market.'},\n",
       " 923: {'review_id': 1595,\n",
       "  'review_time': '2024-04-08',\n",
       "  'like': 0,\n",
       "  'review': 'The best way to clean stainless steel,.... ZERO WATER,... it\\'s the minerals that make stainless steel look \"fingerprenty\",... use ZERO WATER,... work great on a stainless steel fridge as well.',\n",
       "  'review_processed': 'The best way to clean stainless steel is to use zero water. It\\'s the minerals that make stainless steel look \"fingerprenty\"'},\n",
       " 924: {'review_id': 1596,\n",
       "  'review_time': '2024-04-08',\n",
       "  'like': 0,\n",
       "  'review': \"Iconic? Sure. Dont think you'll like what it's iconic of.\",\n",
       "  'review_processed': \"Iconic? Sure. Dont think you'll like what it's iconic of.\"},\n",
       " 925: {'review_id': 1597,\n",
       "  'review_time': '2024-04-08',\n",
       "  'like': 0,\n",
       "  'review': \"I've had an F-250, F-350 and currently looking forward to getting rid of my F-450 for the CT. EVs are not bad at towing, their basic higher efficiency just makes it look that way.\",\n",
       "  'review_processed': \"I've had an F-250, F-350, and I'm looking forward to getting rid of my F-450 for the CT. EVs are not bad at\"},\n",
       " 926: {'review_id': 1600,\n",
       "  'review_time': '2024-04-08',\n",
       "  'like': 0,\n",
       "  'review': 'Iconic looking??? \\nIronic looking more like it.',\n",
       "  'review_processed': 'Iconic looking??? \\nIronic looking more like it.'},\n",
       " 927: {'review_id': 1601,\n",
       "  'review_time': '2024-04-08',\n",
       "  'like': 0,\n",
       "  'review': \"ICONIC. No, I don't think it's going to take the same path as the PT Cruiser. The difference is that the PT Cruiser was actually a piece of junk, sharing the same platform as the Neon. The Cybertruck is not.\",\n",
       "  'review_processed': \"I don't think it's going to take the same path as the PT Cruiser. The difference is that the PT was actually a piece of junk, sharing the same platform as the Neon.\"},\n",
       " 928: {'review_id': 1604,\n",
       "  'review_time': '2024-04-08',\n",
       "  'like': 0,\n",
       "  'review': 'I’ve seen 3 of these in the last week did they just sell a bunch of these cause I feel like that’s not normal 😂',\n",
       "  'review_processed': 'Ive seen 3 of these in the last week did they just sell a bunch of these cause I feel like thats not normal '},\n",
       " 929: {'review_id': 1605,\n",
       "  'review_time': '2024-04-08',\n",
       "  'like': 1061,\n",
       "  'review': 'I love how all the Cybertruck reviews dance around the fact that it sucks at being a \"truck\" doing actual truck things.',\n",
       "  'review_processed': 'I love how all the Cybertruck reviews dance around the fact that it sucks at being a \"truck\" doing actual truck things.'},\n",
       " 930: {'review_id': 1606,\n",
       "  'review_time': '2024-04-08',\n",
       "  'like': 0,\n",
       "  'review': 'pt cruiser is the ugliest \"car\" on the planet(along with pontiac aztec)...The comparison here with Tesla as iconic and pt cruiser is a little stupid...',\n",
       "  'review_processed': 'The comparison here with Tesla as iconic and pt cruiser as ugly is a little stupid.'},\n",
       " 931: {'review_id': 1609,\n",
       "  'review_time': '2024-04-08',\n",
       "  'like': 0,\n",
       "  'review': 'I love this video, really high quality, good points and feels complete in a way; Only downside is that yes they choose to race it against the \"weakest\" porsche, but also it\\'s the most similar for pricetag to go against, so it doesn\\'t feel that unfair. Of course the fact they beat it only for half race it\\'s a bit of a cheating but yes, it\\'s to make a point, not to assume you should go to track with it',\n",
       "  'review_processed': 'I love this video, it\\'s really high quality, good points and feels complete in a way. Yes, they choose to race it against the \"weakest\" Porsche, but it\\'s the most similar for price to go against, so it doesn\\'t feel unfair.'},\n",
       " 932: {'review_id': 1610,\n",
       "  'review_time': '2024-04-08',\n",
       "  'like': 1,\n",
       "  'review': \"That thing looks like an Aliexpress novelty PC case made from recycled scrap metal. Ironically I would bet that it will eventually end up in a Chinese metal and electronics recycling facility. Industrial dishwashers are made from higher grade stainless steel than the body of that truck. Anyone with knowledge of metal compositions can tell you that stainless steel has several grades and anything other than 316 grade stainless steel which is the highest grade, 316 grade stainless steel is actually mandatory grade for work surfaces that must be used for any commercial or industrial kitchens in many regions, since it doesn't corrode or rust so it can be used for food prep and not become rusty when exposed to salt and water which are the most common kitchen ingredients but also what will make exposed steel or cheap stainless steel to rust. The cybertruck body is made from 300 grade stainless, which will definitely rust when driven in the rust belt during the winter, especially if taken on salted highways in the winter. The choice to use 300 grade stainless maybe because of cost or weight, but the same process is used to fabricate and cut panels to shape 300 grade stainless and it wouldnt be any more difficult to create the body from 316 stainless steel which is actually rust resistant, also easier to clean, and 300 grade stainless is only slightly more durable than just a standard sheet metal. I have a garbage can thats made of higher grade stainless steel than the Cybertruck.\",\n",
       "  'review_processed': 'It looks like an Aliexpress novelty PC case made from recycled scrap metal. I would bet it will eventually end up in a Chinese metal and electronics recycling facility. The Cybertruck body is made from 300 grade stainless, which will definitely rust when driven in the rust belt during the winter, especially if taken on salted highways in the winter.'},\n",
       " 933: {'review_id': 1615,\n",
       "  'review_time': '2024-04-08',\n",
       "  'like': 2,\n",
       "  'review': 'This is one of the best videos you have ever done dude. Wonderfully executed',\n",
       "  'review_processed': 'This is one of the best videos you have ever done dude. Wonderfully executed'},\n",
       " 934: {'review_id': 1617,\n",
       "  'review_time': '2024-04-08',\n",
       "  'like': 1,\n",
       "  'review': 'That\\'s not a truck. That\\'s a bastardization of a useful vehicle. As with all Teslas, the powertrain and battery are top of the line. But the cabin and exterior are Fisher-Price potato chip quality garbage. It\\'s a modern day DeLorean. And it\\'s Tesla\\'s first version of a vehicle that will eventually go out of style. \"Cyber\" is already out of style. Tesla is doing the same thing GM does with it\\'s own brands that have died Pontiac, Buick, Oldsmobile, Saturn, Hummer, Geo, etc. Tesla will have to discontinue the CT when people stop buying it. It took Tesla WAY TOO long to come to market after it\\'s announcement.',\n",
       "  'review_processed': \"As with all Teslas, the powertrain and battery are top of the line, but the cabin and exterior are Fisher-Price potato chip quality garbage. It's Tesla's first version of a vehicle that will eventually go out of style.\"},\n",
       " 935: {'review_id': 1619,\n",
       "  'review_time': '2024-04-08',\n",
       "  'like': 5,\n",
       "  'review': '17:08 “my child” got me…must be nice my guy, hopefully I’ll have a child like that one day! 😂',\n",
       "  'review_processed': '17:08 my child got memust be nice my guy, hopefully Ill have a child like that one day! '},\n",
       " 936: {'review_id': 1622,\n",
       "  'review_time': '2024-04-07',\n",
       "  'like': 0,\n",
       "  'review': 'I think we need more tech like the cybertruck, or even ideas like it. Dare to do things radically different come what may.',\n",
       "  'review_processed': 'I think we need more tech like the cybertruck, or even ideas like it. Dare to do things radically different come what may.'},\n",
       " 937: {'review_id': 1624,\n",
       "  'review_time': '2024-04-07',\n",
       "  'like': 0,\n",
       "  'review': 'I just really hope that if this thing comes the the EU, it wont start a truck culture here, we dont loke trucks at the moment and thats a good thing, makes our roads safer, but frankly, I dont want the cybertruck to even come here at all',\n",
       "  'review_processed': \"I hope that if this thing comes to the EU, it won't start a truck culture here. We don't have any trucks at the moment, and that's a good thing, but I don't want the cybertruck to\"},\n",
       " 938: {'review_id': 1625,\n",
       "  'review_time': '2024-04-07',\n",
       "  'like': 0,\n",
       "  'review': 'am i the only one who notice that someone writes \"CT1\" on the window????',\n",
       "  'review_processed': 'am i the only one who notice that someone writes \"CT1\" on the window????'},\n",
       " 939: {'review_id': 1627,\n",
       "  'review_time': '2024-04-07',\n",
       "  'like': 0,\n",
       "  'review': 'It was a similar feeling when the 3/Y were released.\\nYou saw one and you were thought \"OMG it\\'s the new Tesla\"\\nNow you might see it and think \"it\\'s a Tesla\" but it\\'s less of a wow\" and more of a \"that\\'s cool\"',\n",
       "  'review_processed': 'It was a similar feeling when the 3/Y were released. You saw one and you thought it was the new Tesla, but now you might see it and think \"it\\'s a Tesla\" but it\\'s less of a wow and more of a'},\n",
       " 940: {'review_id': 1628,\n",
       "  'review_time': '2024-04-07',\n",
       "  'like': 2,\n",
       "  'review': 'Great review super well put together, your team and you constantly keep striving for bette, here for it!',\n",
       "  'review_processed': 'Great review super well put together, your team and you constantly keep striving for bette, here for it!'},\n",
       " 941: {'review_id': 1631,\n",
       "  'review_time': '2024-04-07',\n",
       "  'like': 0,\n",
       "  'review': 'Iconic is such an overused term these days, half of Huckberry’s inventory is “iconic”.',\n",
       "  'review_processed': 'Iconic is such an overused term these days, half of Huckberrys inventory is iconic.'},\n",
       " 942: {'review_id': 1633,\n",
       "  'review_time': '2024-04-07',\n",
       "  'like': 0,\n",
       "  'review': 'Are you F’ing kidding me?! Tesla creates a truck that accelerates faster than most half a million dollar super cars built for racing and you’re calling the performance of this thing overrated? I’d hate to be in a relationship with you. Impossible to impress apparently.',\n",
       "  'review_processed': \"Are you kidding me?! Tesla creates a truck that accelerates faster than most half a million dollar super cars built for racing and you're calling the performance of this thing overrated? Id hate to be in a relationship with you\"},\n",
       " 943: {'review_id': 1634,\n",
       "  'review_time': '2024-04-07',\n",
       "  'like': 0,\n",
       "  'review': 'Why I feel I have watched this video like long time ago already',\n",
       "  'review_processed': 'Why I feel I have watched this video like long time ago already'},\n",
       " 944: {'review_id': 1640,\n",
       "  'review_time': '2024-04-07',\n",
       "  'like': 0,\n",
       "  'review': '16:20 Is the Cybertruck limited at top speed by software? What does the Cybertruck torque curve look like compared to the 911? 17:05 \"...electronically limited top speed...\". Where did it hit that limit. One reason electric motors don\\'t need gears is because of their torque curve. ICE needs gears to \"get out of the hole\" (i.e. to get started). They have little low-end torque.',\n",
       "  'review_processed': 'Electric motors don\\'t need gears because of their low torque curve. ICE needs gears to \"get out of the hole\"'},\n",
       " 945: {'review_id': 1641,\n",
       "  'review_time': '2024-04-07',\n",
       "  'like': 0,\n",
       "  'review': \"12:00 The percentage of commercial and industrial trucks used for hauling has to be near 100%. Try  to find one without a hitch. That goes for the yard guys all over the place pulling their mower trailer, and the ones that need it just occasionally to pull a load of lumber, drywall, rental equipment, etc. Also, these would likely not be bothered too much by range. They're seldom going more than 100 miles per day. Hauling is a non-issue... unless you're in the FUD business.\",\n",
       "  'review_processed': 'The percentage of commercial and industrial trucks used for hauling has to be near 100%. Try to find one without a hitch. The yard guys all over the place are pulling their mower trailers.'},\n",
       " 946: {'review_id': 1642,\n",
       "  'review_time': '2024-04-07',\n",
       "  'like': 0,\n",
       "  'review': '10:40 Headlights are problematic in snow. The snow packs over them and they\\'re not heated. Ask anyone who has driven one in a blizzard. You \"have\" to get out and clean them off periodically.',\n",
       "  'review_processed': \"Headlights are problematic in snow because the snow packs over them and they're not heated. You have to get out and clean them off periodically.\"},\n",
       " 947: {'review_id': 1643,\n",
       "  'review_time': '2024-04-07',\n",
       "  'like': 0,\n",
       "  'review': \"6:30 Stainless steel is not only overrated, it's undesirable (because of weight). I would have favored aluminum sheet (even if a little thicker) than stainless sheet. I expect in the future the stainless will be abandoned... and the styling changes aluminum will offer will be leveraged.\",\n",
       "  'review_processed': \"Stainless steel is not only overrated, it's undesirable because of its weight. I expect in the future the stainless will be abandoned, and the styling changes aluminum will offer will be leveraged.\"},\n",
       " 948: {'review_id': 1644,\n",
       "  'review_time': '2024-04-07',\n",
       "  'like': 0,\n",
       "  'review': '5:40 At high speeds the steering actually \"crabs\" when changing lanes. The back wheels and front wheels turn the same amount in the same direction.',\n",
       "  'review_processed': '5:40 At high speeds the steering actually \"crabs\" when changing lanes. The back wheels and front wheels turn the same amount in the same direction.'},\n",
       " 949: {'review_id': 1645,\n",
       "  'review_time': '2024-04-07',\n",
       "  'like': 1,\n",
       "  'review': 'The most dangeroues thing is that you were paid to make this video u shill 😂😂😂😂',\n",
       "  'review_processed': 'The most dangeroues thing is that you were paid to make this video u shill '},\n",
       " 950: {'review_id': 1649,\n",
       "  'review_time': '2024-04-07',\n",
       "  'like': 0,\n",
       "  'review': \"People love toys, and this is a toy. Let's see how long it takes for the kids to get bored with this one. (from a Tesla owner)\",\n",
       "  'review_processed': \"Let's see how long it takes for the kids to get bored with this one.\"},\n",
       " 951: {'review_id': 1651,\n",
       "  'review_time': '2024-04-07',\n",
       "  'like': 0,\n",
       "  'review': 'Ok now i think the social problem you mentioned it happening because a celeb youtuber is inside the car lol',\n",
       "  'review_processed': 'Ok now i think the social problem you mentioned it happening because a celeb youtuber is inside the car lol'},\n",
       " 952: {'review_id': 1654,\n",
       "  'review_time': '2024-04-07',\n",
       "  'like': 653,\n",
       "  'review': \"Is it a paid promo?\\nThe amount of effort Marques put on this video is out of the world.\\nHe tried hard not to contradict much with original thoughts on the previous video and still sound to be an ad for the Truck.\\nHe didnt mention a single negative without trying to sound it as a positive. (Including the price,boollet proof, performance etc.)\\nHe didn't even review the truck apart from hand picking few positives and white washing the negatives he said last time.\\nThis video is not in his AF channel but his main channel for much much bigger audience.\",\n",
       "  'review_processed': \"He didn't mention a single negative without trying to sound it as a positive. He didn't even review the truck apart from hand picking a few positives and white washing the negatives he said last time.\"},\n",
       " 953: {'review_id': 1656,\n",
       "  'review_time': '2024-04-07',\n",
       "  'like': 0,\n",
       "  'review': \"Driving a Porsche on a drag strip is such an american thing to do !  Porsche belongs to a proper race track with turns - and Nordschleife is it's home ground. What a waste of a perfectly good Porsche ;-)\",\n",
       "  'review_processed': \"Driving a Porsche on a drag strip is such an American thing to do. Porsche belongs to a proper race track with turns, and the Nordschleife is it's home ground.\"},\n",
       " 954: {'review_id': 1657,\n",
       "  'review_time': '2024-04-07',\n",
       "  'like': 0,\n",
       "  'review': 'Actually REE has been producing the steer by wire truck chasis for a while. But is going for a different market.',\n",
       "  'review_processed': 'Actually REE has been producing the steer by wire truck chasis for a while. But is going for a different market.'},\n",
       " 955: {'review_id': 1658,\n",
       "  'review_time': '2024-04-07',\n",
       "  'like': 0,\n",
       "  'review': 'I think it is stupid, because the stainless steel is going to mark and rust, the tray is too small to be useful. All the other features are cool.',\n",
       "  'review_processed': 'I think it is stupid because the stainless steel is going to mark and rust, and the tray is too small to be useful.'},\n",
       " 956: {'review_id': 1659,\n",
       "  'review_time': '2024-04-07',\n",
       "  'like': 0,\n",
       "  'review': 'Thanks for the great insights @mkbhd it was well informative and you are truly the best Point, Blank, Period! ❤',\n",
       "  'review_processed': 'Thanks for the great insights @mkbhd it was well informative and you are truly the best Point, Blank, Period! '},\n",
       " 957: {'review_id': 1660,\n",
       "  'review_time': '2024-04-07',\n",
       "  'like': 0,\n",
       "  'review': 'The most genius aspect of the cybertruck bodywork is that Tesla has convinced the world that no design is the best and coolest design. Way easier for production and cost purposes. Tesla is saving a ton of money on stamping out these boring shapeless body panels.',\n",
       "  'review_processed': \"Tesla has convinced the world that no design is the best and coolest design. It's easier for production and cost purposes.\"},\n",
       " 958: {'review_id': 1667,\n",
       "  'review_time': '2024-04-07',\n",
       "  'like': 2,\n",
       "  'review': \"I'm disappointed. I've lost so must trust in mkbhd and this video is the perfect example of why. It feels so disconnected, and soft on serious life-threatening issues that plague this car. What other issues have you glossed over, minimized, or covered up in your other videos about phones I might have actually wanted to buy?\",\n",
       "  'review_processed': \"I'm disappointed. I've lost so much trust in the company, and this video is the perfect example of why. It feels disconnected, and soft on serious life-threatening issues that plague this car. What other issues have you glossed over, minimized, or covered up in your other videos\"},\n",
       " 959: {'review_id': 1668,\n",
       "  'review_time': '2024-04-07',\n",
       "  'like': 0,\n",
       "  'review': 'OK, that opening, graphic, sequences, boss!',\n",
       "  'review_processed': 'OK, that opening, graphic, sequences, boss!'},\n",
       " 960: {'review_id': 1670,\n",
       "  'review_time': '2024-04-07',\n",
       "  'like': 0,\n",
       "  'review': 'I saw a red cybertruck on the highway, and yeah, it was a site to see.',\n",
       "  'review_processed': 'I saw a red cybertruck on the highway, and yeah, it was a site to see.'},\n",
       " 961: {'review_id': 1671,\n",
       "  'review_time': '2024-04-07',\n",
       "  'like': 0,\n",
       "  'review': 'One can usually tell when someone is sitting between two cars no matter the size of the portion visible. At 23:40 (ICONIC) its like you are sitting between two pieces of furniture 🤣',\n",
       "  'review_processed': \"At 23:40, it's like you are sitting between two pieces of furniture.\"},\n",
       " 962: {'review_id': 1674,\n",
       "  'review_time': '2024-04-07',\n",
       "  'like': 0,\n",
       "  'review': 'Can you make a video on the Zune 30GB?',\n",
       "  'review_processed': 'Can you make a video on the Zune 30GB?'},\n",
       " 963: {'review_id': 1675,\n",
       "  'review_time': '2024-04-07',\n",
       "  'like': 1,\n",
       "  'review': \"If you liked the rear view of the Pontiac Aztek, you'll love the rear view of the Cybertruck.\",\n",
       "  'review_processed': \"If you liked the rear view of the Pontiac Aztek, you'll love the rear view of the Cybertruck.\"},\n",
       " 964: {'review_id': 1676,\n",
       "  'review_time': '2024-04-07',\n",
       "  'like': 0,\n",
       "  'review': 'When he said “don’t go getting any ideas it’s invincible…” I halfway expected the title card to pop up.\\nIykyk',\n",
       "  'review_processed': 'When he said dont go getting any ideas its invincible I halfway expected the title card to pop up.\\nIykyk'},\n",
       " 965: {'review_id': 1677,\n",
       "  'review_time': '2024-04-06',\n",
       "  'like': 0,\n",
       "  'review': \"Yeah I was wondering about the DAC and AMP quality that is built in to this truck and what's the speakers type and quality and resistance in ohms? And is it a surround system or just stereo?\",\n",
       "  'review_processed': \"I was wondering about the DAC and AMP quality that is built in to this truck. What's the speakers type and quality and resistance in ohms? And is it a surround\"},\n",
       " 966: {'review_id': 1680,\n",
       "  'review_time': '2024-04-06',\n",
       "  'like': 0,\n",
       "  'review': 'Love your videos, “keeping it real”!',\n",
       "  'review_processed': 'Love your videos, keeping it real!'},\n",
       " 967: {'review_id': 1682,\n",
       "  'review_time': '2024-04-06',\n",
       "  'like': 1,\n",
       "  'review': '@6:39 😳 I was ready for him to pull a 9mm out🎯',\n",
       "  'review_processed': '@6:39  I was ready for him to pull a 9mm out'},\n",
       " 968: {'review_id': 1685,\n",
       "  'review_time': '2024-04-06',\n",
       "  'like': 0,\n",
       "  'review': \"Hey I've always wondered if Best Buy's open box items are worth it or reliable. What are your thoughts on them?\",\n",
       "  'review_processed': \"Hey I've always wondered if Best Buy's open box items are worth it or reliable. What are your thoughts on them?\"},\n",
       " 969: {'review_id': 1686,\n",
       "  'review_time': '2024-04-06',\n",
       "  'like': 0,\n",
       "  'review': 'While I don’t like the cybertruck, however I think you did a fair job with this video. 👍',\n",
       "  'review_processed': 'While I dont like the cybertruck, however I think you did a fair job with this video. '},\n",
       " 970: {'review_id': 1689,\n",
       "  'review_time': '2024-04-06',\n",
       "  'like': 0,\n",
       "  'review': \"Franz Von Holzhausen once again proving he's a terrible designer. None of his vehicles look exceptional for the price, the roadster is very difficult to screw up but very generic.  He's basically a Mazda guy who lucked out and got in early with Tesla.\",\n",
       "  'review_processed': \"Franz Von Holzhausen once again proves he's a terrible designer. None of his vehicles look exceptional for the price. He's basically a Mazda guy who lucked out and got in early with Tesla.\"},\n",
       " 971: {'review_id': 1691,\n",
       "  'review_time': '2024-04-06',\n",
       "  'like': 0,\n",
       "  'review': \"I'm not a Tesla fan at all, mainly because i don't really like the design of any of their cars (don't particularly like Musk, either). However, i do think the designer(s) of this hulking piece of metal have been very lazy. It's like they've just binge-watched hours of Robocop-type shows and come up with this. The 6000 SUX is something i vaguely remember.\",\n",
       "  'review_processed': \"I'm not a Tesla fan because I don't like the design of any of their cars. However, I do think the designers of this hulking piece of metal have been very lazy. It's like they've just binge-watched hours of Robocop-type shows and come up with this.\"},\n",
       " 972: {'review_id': 1692,\n",
       "  'review_time': '2024-04-06',\n",
       "  'like': 5,\n",
       "  'review': 'That truck is utter trash the design is so horrible on original just something out a 1984 sci-fi movie. It’s brand new and already looks outdated 😂',\n",
       "  'review_processed': 'That truck is utter trash the design is so horrible on original just something out a 1984 sci-fi movie. Its brand new and already looks outdated '},\n",
       " 973: {'review_id': 1694,\n",
       "  'review_time': '2024-04-06',\n",
       "  'like': 0,\n",
       "  'review': 'i can listen you all day Marquees\\n\\ngreat video as always',\n",
       "  'review_processed': 'i can listen you all day Marquees\\n\\ngreat video as always'},\n",
       " 974: {'review_id': 1696,\n",
       "  'review_time': '2024-04-06',\n",
       "  'like': 0,\n",
       "  'review': \"I don't know about you guys in the US but here in Europe this thing won't even be sold (which I don't really care about - most cities are too narrow for trucks anyways) because of safety regulations, especially for pedestrians. Is that a concern for you?\",\n",
       "  'review_processed': \"I don't know about you guys in the US, but here in Europe this thing won't even be sold because of safety regulations, especially for pedestrians. Most cities are too narrow for trucks. Is that a concern for you?\"},\n",
       " 975: {'review_id': 1697,\n",
       "  'review_time': '2024-04-06',\n",
       "  'like': 0,\n",
       "  'review': \"i think the reason people think it's more expensive is because it looks like a dumb modern art project, and dumb modern art projects are overly expensive\",\n",
       "  'review_processed': \"i think the reason people think it's more expensive is because it looks like a dumb modern art project, and dumb modern art projects are overly expensive\"},\n",
       " 976: {'review_id': 1700,\n",
       "  'review_time': '2024-04-06',\n",
       "  'like': 0,\n",
       "  'review': 'Lol, 80-20 happy to angry ratio, my ass. This car is a midlife crisis mobile for people who are desperate for attention. \\n\\nA lot of people are making pictures of it, just like they would gather at an accident to gawk at the carnage.',\n",
       "  'review_processed': 'A lot of people are making pictures of it, just like they would gather at an accident to gawk at the carnage. This car is a midlife crisis mobile for people who are desperate for attention.'},\n",
       " 977: {'review_id': 1701,\n",
       "  'review_time': '2024-04-06',\n",
       "  'like': 1,\n",
       "  'review': 'Whoever did that intro graphic, you KILLED it',\n",
       "  'review_processed': 'Whoever did that intro graphic, you KILLED it'},\n",
       " 978: {'review_id': 1704,\n",
       "  'review_time': '2024-04-06',\n",
       "  'like': 0,\n",
       "  'review': 'This video is ICONIC. Fire man, as always.',\n",
       "  'review_processed': 'This video is ICONIC. Fire man, as always.'},\n",
       " 979: {'review_id': 1705,\n",
       "  'review_time': '2024-04-06',\n",
       "  'like': 0,\n",
       "  'review': \"I'm waiting to see what you want to say about iphone se4 and pixel 8a 🤔\",\n",
       "  'review_processed': \"I'm waiting to see what you want to say about iphone se4 and pixel 8a \"},\n",
       " 980: {'review_id': 1706,\n",
       "  'review_time': '2024-04-06',\n",
       "  'like': 0,\n",
       "  'review': 'Well, Air Jordans are still inconic and everyone wears them. I don’t think the rarity will matter. This is a revolutionary design.',\n",
       "  'review_processed': 'Well, Air Jordans are still inconic and everyone wears them. I dont think the rarity will matter. This is a revolutionary design.'},\n",
       " 981: {'review_id': 1707,\n",
       "  'review_time': '2024-04-06',\n",
       "  'like': 0,\n",
       "  'review': 'This is an unexpectedly positive review with very few mentions of any criticisms other reviews have been levying at the car. Where’s the discussion on the safety of this car, both for the driver and for others on the road? Or the build of materials degrading after only 500 miles for many drivers? Or why are so many passes given for unfinished features for this practically six figure vehicle? It’s a very well produced video but it doesn’t really feel like a review at all.',\n",
       "  'review_processed': \"This is an unexpectedly positive review with very few mentions of any criticisms other reviews have been levitating at the car. It's a very well produced video, but it doesn't really feel like a review at all.\"},\n",
       " 982: {'review_id': 1708,\n",
       "  'review_time': '2024-04-06',\n",
       "  'like': 0,\n",
       "  'review': \"People who don't like your truck are less likely to go up to you and tell you. Kyle from Out of Spec channel tried to make the same point as you but off screen his girlfriend broke in and told him about how much more often she heard people complaining about the truck because they didn't know she was with Kyle.\",\n",
       "  'review_processed': \"People who don't like your truck are less likely to go up to you and tell you. Kyle from Out of Spec tried to make the same point as you, but his girlfriend broke in and told him how often she heard people complaining about the truck because they didn't know she was with Kyle\"},\n",
       " 983: {'review_id': 1710,\n",
       "  'review_time': '2024-04-06',\n",
       "  'like': 1,\n",
       "  'review': 'Iconic??? The Lo-Res car, and the process that led to it, was/is iconic! The Lo-Res pickup truck is just an embarrassing imitation!!',\n",
       "  'review_processed': 'Iconic??? The Lo-Res car, and the process that led to it, was/is iconic! The Lo-Res pickup truck is just an embarrassing imitation!!'},\n",
       " 984: {'review_id': 1712,\n",
       "  'review_time': '2024-04-06',\n",
       "  'like': 0,\n",
       "  'review': \"Hay Marques, can you make an in-depth review of the new Xiaomi 14. Think it's a killer phone for the price !\",\n",
       "  'review_processed': \"Hay Marques, can you make an in-depth review of the new Xiaomi 14. Think it's a killer phone for the price !\"},\n",
       " 985: {'review_id': 1714,\n",
       "  'review_time': '2024-04-06',\n",
       "  'like': 0,\n",
       "  'review': 'Am I wrong in thinking the only reason the steel is \"safe\" is because it weighs 3 tons? If it gets hit by another 3 ton vehicle, whoever is inside is going to get rocked. Why have we allowed this trend in vehicles?',\n",
       "  'review_processed': 'The only reason the steel is \"safe\" is because it weighs 3 tons. If it gets hit by another 3 ton vehicle, whoever is inside is going to get rocked.'},\n",
       " 986: {'review_id': 1715,\n",
       "  'review_time': '2024-04-06',\n",
       "  'like': 0,\n",
       "  'review': \"Marques... Bro... This is the third video on this and you try so hard to mitigate how much of a shit show this car is... You sure you're not being paid\",\n",
       "  'review_processed': \"This is the third video on this, and you're trying so hard to mitigate how much of a shit show this car is. You're not being paid\"},\n",
       " 987: {'review_id': 1717,\n",
       "  'review_time': '2024-04-06',\n",
       "  'like': 0,\n",
       "  'review': \"Just as well it's not coming to the UK - people wouldn't be able to stop laughing - not good when we're supposed to be concentrating on all those pot holes that we're trying to avoid.\",\n",
       "  'review_processed': \"Just as well it's not coming to the UK - people wouldn't be able to stop laughing. Not good when we're supposed to be concentrating on all those pot holes we're\"},\n",
       " 988: {'review_id': 1718,\n",
       "  'review_time': '2024-04-06',\n",
       "  'like': 3,\n",
       "  'review': 'Lmao, this review is a joke. Then again, what to expect from this guy?',\n",
       "  'review_processed': 'Lmao, this review is a joke. Then again, what to expect from this guy?'},\n",
       " 989: {'review_id': 1721,\n",
       "  'review_time': '2024-04-06',\n",
       "  'like': 1,\n",
       "  'review': 'Really thought for a second that he is going to pull out a Gun 6:45',\n",
       "  'review_processed': 'Really thought for a second that he is going to pull out a Gun 6:45'},\n",
       " 990: {'review_id': 1722,\n",
       "  'review_time': '2024-04-06',\n",
       "  'like': 0,\n",
       "  'review': 'Yeah, but Countach is beautiful; Cybertruck and  Veryron are weird looking.',\n",
       "  'review_processed': 'Yeah, but Countach is beautiful; Cybertruck and  Veryron are weird looking.'},\n",
       " 991: {'review_id': 1725,\n",
       "  'review_time': '2024-04-06',\n",
       "  'like': 1,\n",
       "  'review': 'First 30 seconds of talking was crap. The car is a junkheap pushed by a man with the mentality of a 10 year old and a very bad drug habit. This thing rusts like mad and is very poorly designed. It is NOT iconic.',\n",
       "  'review_processed': 'The car is a junkheap pushed by a man with the mentality of a 10-year-old and a very bad drug habit. It rusts like mad and is very poorly designed. It is NOT iconic.'},\n",
       " 992: {'review_id': 1732,\n",
       "  'review_time': '2024-04-06',\n",
       "  'like': 1,\n",
       "  'review': \"It's the face mask of the iron man. It is a crap car.\",\n",
       "  'review_processed': \"It's the face mask of the iron man. It is a crap car.\"},\n",
       " 993: {'review_id': 1733,\n",
       "  'review_time': '2024-04-06',\n",
       "  'like': 5,\n",
       "  'review': \"Tesla understands social media marketing. They could have made a completely fair, honest, reasonable video about how quick the cybertruck is, and it would have gotten no attention. Instead, they made a video that was intentionally misleading but still impressive, and now it's being replayed to massive audiences in reviews all over social media, for free.\",\n",
       "  'review_processed': \"Tesla understands social media marketing. They could have made a completely fair, honest, reasonable video about how quick the cybertruck is, and it would have gotten no attention. Instead, they made a video that was intentionally misleading but still impressive, and now it's being replayed to massive audiences all over social\"},\n",
       " 994: {'review_id': 1736,\n",
       "  'review_time': '2024-04-06',\n",
       "  'like': 33,\n",
       "  'review': 'This is not a review. This is an ad. How is visibility? Range? How long is the tray? You didnt mention a single negative without trying to spin it as a positive?',\n",
       "  'review_processed': \"This is not a review. This is an ad. How is visibility? Range? How long is the tray? You didn't mention a single negative without trying to spin\"},\n",
       " 995: {'review_id': 1737,\n",
       "  'review_time': '2024-04-06',\n",
       "  'like': 0,\n",
       "  'review': '12:04 short list of trucks for towing, none of them are electric\" according to Rivian and Ford both the RT1 and Lightening can tow, i didn\\'t check the Hummer or Wrangler if you want to consider those electric trucks but would be surprised if they had 0 towing capacity.',\n",
       "  'review_processed': \"According to Rivian and Ford, both the RT1 and Lightening can tow. I didn't check the Hummer or Wrangler, but would be surprised if they had any towing capacity.\"},\n",
       " 996: {'review_id': 1738,\n",
       "  'review_time': '2024-04-06',\n",
       "  'like': 0,\n",
       "  'review': 'I think I was just tricked into watching a twenty-eight minute long Cybertruck commercial. \\nI feel cybercukt.',\n",
       "  'review_processed': 'I think I was just tricked into watching a twenty-eight minute long Cybertruck commercial. \\nI feel cybercukt.'},\n",
       " 997: {'review_id': 1739,\n",
       "  'review_time': '2024-04-06',\n",
       "  'like': 1,\n",
       "  'review': 'This is the best MKBHD video I’ve ever seen. Forget the fact that it’s about the cyber truck I’m talking about the writing, cinematography, the editing, and those transitions 👌🏻\\n\\nThe crew at the studio absolutely killed it!\\n\\nI want to see more videos like this. I loved all the walking and moving camera shots outside. \\n\\nI don’t know what you would call this type of video but I think you should do more videos in this style!',\n",
       "  'review_processed': \"This is the best MKBHD video I've ever seen. Forget the fact that its about the cyber truck. I'm talking about the writing, cinematography, the editing, and those transitions.\"},\n",
       " 998: {'review_id': 1741,\n",
       "  'review_time': '2024-04-06',\n",
       "  'like': 0,\n",
       "  'review': 'I’m not hating, but you can see where this truck is sort of like the back to the future car and a few other sci-fi trucks from the 80s',\n",
       "  'review_processed': 'Im not hating, but you can see where this truck is sort of like the back to the future car and a few other sci-fi trucks from the 80s'},\n",
       " 999: {'review_id': 1742,\n",
       "  'review_time': '2024-04-06',\n",
       "  'like': 0,\n",
       "  'review': 'Depending on where you live, Teslas are still pretty uncommon. I always notice them on the road because they’re not common and they’re unlikely to ever be unless you live in LA.',\n",
       "  'review_processed': \"I always notice Teslas on the road because they're not common, and they're unlikely to ever be unless you live in LA.\"},\n",
       " ...}"
      ]
     },
     "execution_count": 20,
     "metadata": {},
     "output_type": "execute_result"
    }
   ],
   "source": [
    "result = df[['review_id', 'review_time', 'like', 'review', 'review_processed']].to_dict('index')\n",
    "result"
   ]
  },
  {
   "cell_type": "code",
   "execution_count": 21,
   "id": "673d6672-7784-4fd7-8434-08b4345d27ad",
   "metadata": {},
   "outputs": [],
   "source": [
    "with open(\"temp/temp-1.json\", \"w\") as file:\n",
    "    json.dump(result, file, indent=4)"
   ]
  },
  {
   "cell_type": "code",
   "execution_count": 22,
   "id": "f8a78aa0-ddbf-4146-b847-f1c8fffd4640",
   "metadata": {},
   "outputs": [],
   "source": [
    "# df.to_csv(\"preprocessed-mcd.csv\", index=False)"
   ]
  },
  {
   "cell_type": "code",
   "execution_count": 23,
   "id": "6257d599-c564-4a9d-aeca-e7d17955a15b",
   "metadata": {},
   "outputs": [],
   "source": [
    "torch.cuda.reset_peak_memory_stats()  # Reset peak stats for debugging\n",
    "torch.cuda.empty_cache()  # Clear cache\n"
   ]
  },
  {
   "cell_type": "code",
   "execution_count": 24,
   "id": "fc84e275-3649-4844-8af4-53883aa2352d",
   "metadata": {},
   "outputs": [],
   "source": [
    "with open(\"temp/review-processed.json\", 'w', encoding='utf-8') as file:\n",
    "    json.dump(list(df['review_processed'].values), file, indent=4)"
   ]
  },
  {
   "cell_type": "code",
   "execution_count": null,
   "id": "b3ed828f-102f-44b4-8496-581331817f39",
   "metadata": {},
   "outputs": [],
   "source": []
  }
 ],
 "metadata": {
  "kernelspec": {
   "display_name": "transformers_env",
   "language": "python",
   "name": "transformers_env"
  },
  "language_info": {
   "codemirror_mode": {
    "name": "ipython",
    "version": 3
   },
   "file_extension": ".py",
   "mimetype": "text/x-python",
   "name": "python",
   "nbconvert_exporter": "python",
   "pygments_lexer": "ipython3",
   "version": "3.11.1"
  }
 },
 "nbformat": 4,
 "nbformat_minor": 5
}
