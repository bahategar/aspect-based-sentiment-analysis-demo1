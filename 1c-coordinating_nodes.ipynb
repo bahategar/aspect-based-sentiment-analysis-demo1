{
 "cells": [
  {
   "cell_type": "code",
   "execution_count": 1,
   "id": "6fb0646c",
   "metadata": {},
   "outputs": [
    {
     "name": "stderr",
     "output_type": "stream",
     "text": [
      "C:\\Users\\Baha Tegar\\anaconda3\\Lib\\site-packages\\pandas\\core\\arrays\\masked.py:60: UserWarning: Pandas requires version '1.3.6' or newer of 'bottleneck' (version '1.3.5' currently installed).\n",
      "  from pandas.core import (\n"
     ]
    }
   ],
   "source": [
    "import pandas as pd\n",
    "import numpy as np\n",
    "import matplotlib.pyplot as plt\n",
    "\n",
    "import networkx as nx\n",
    "\n",
    "from tqdm import tqdm"
   ]
  },
  {
   "cell_type": "code",
   "execution_count": 2,
   "id": "8ac8263c",
   "metadata": {},
   "outputs": [
    {
     "name": "stdout",
     "output_type": "stream",
     "text": [
      "<class 'pandas.core.frame.DataFrame'>\n",
      "RangeIndex: 500 entries, 0 to 499\n",
      "Data columns (total 3 columns):\n",
      " #   Column        Non-Null Count  Dtype \n",
      "---  ------        --------------  ----- \n",
      " 0   node_id       500 non-null    int64 \n",
      " 1   first_cycle   500 non-null    object\n",
      " 2   second_cycle  500 non-null    object\n",
      "dtypes: int64(1), object(2)\n",
      "memory usage: 11.8+ KB\n",
      "None\n"
     ]
    },
    {
     "data": {
      "text/html": [
       "<div>\n",
       "<style scoped>\n",
       "    .dataframe tbody tr th:only-of-type {\n",
       "        vertical-align: middle;\n",
       "    }\n",
       "\n",
       "    .dataframe tbody tr th {\n",
       "        vertical-align: top;\n",
       "    }\n",
       "\n",
       "    .dataframe thead th {\n",
       "        text-align: right;\n",
       "    }\n",
       "</style>\n",
       "<table border=\"1\" class=\"dataframe\">\n",
       "  <thead>\n",
       "    <tr style=\"text-align: right;\">\n",
       "      <th></th>\n",
       "      <th>node_id</th>\n",
       "      <th>first_cycle</th>\n",
       "      <th>second_cycle</th>\n",
       "    </tr>\n",
       "  </thead>\n",
       "  <tbody>\n",
       "    <tr>\n",
       "      <th>0</th>\n",
       "      <td>0</td>\n",
       "      <td>normal</td>\n",
       "      <td>situation</td>\n",
       "    </tr>\n",
       "    <tr>\n",
       "      <th>1</th>\n",
       "      <td>1</td>\n",
       "      <td>other</td>\n",
       "      <td>drink</td>\n",
       "    </tr>\n",
       "    <tr>\n",
       "      <th>2</th>\n",
       "      <td>2</td>\n",
       "      <td>mcdonalds</td>\n",
       "      <td>place</td>\n",
       "    </tr>\n",
       "    <tr>\n",
       "      <th>3</th>\n",
       "      <td>3</td>\n",
       "      <td>other</td>\n",
       "      <td>place</td>\n",
       "    </tr>\n",
       "    <tr>\n",
       "      <th>4</th>\n",
       "      <td>4</td>\n",
       "      <td>food</td>\n",
       "      <td>food</td>\n",
       "    </tr>\n",
       "  </tbody>\n",
       "</table>\n",
       "</div>"
      ],
      "text/plain": [
       "   node_id first_cycle second_cycle\n",
       "0        0      normal    situation\n",
       "1        1       other        drink\n",
       "2        2   mcdonalds        place\n",
       "3        3       other        place\n",
       "4        4        food         food"
      ]
     },
     "execution_count": 2,
     "metadata": {},
     "output_type": "execute_result"
    }
   ],
   "source": [
    "df = pd.read_csv(\"./mcd_result/nodes_mcd.csv\")\n",
    "# df = df.drop('reviewer_id', axis=1)\n",
    "df = df.drop(['reviewer_id', 'category'], axis=1)\n",
    "print(df.info())\n",
    "df.head()"
   ]
  },
  {
   "cell_type": "code",
   "execution_count": 3,
   "id": "6844e0e7",
   "metadata": {},
   "outputs": [],
   "source": [
    "# edges = []\n",
    "\n",
    "# for idx, row in df.iterrows():\n",
    "#     edges.append((row['first_cycle'], row['second_cycle']))\n",
    "#     edges.append((row['second_cycle'], row['category']))\n",
    "    \n",
    "# edges = np.array(edges)"
   ]
  },
  {
   "cell_type": "code",
   "execution_count": 4,
   "id": "87e8720a",
   "metadata": {},
   "outputs": [
    {
     "data": {
      "text/plain": [
       "{'normal': array([-0.47966803,  0.89174446]),\n",
       " 'situation': array([-0.34496698,  0.60891552]),\n",
       " 'other': array([ 0.08637971, -0.03358255]),\n",
       " 'drink': array([0.5691117 , 0.06937888]),\n",
       " 'mcdonalds': array([-0.31348921, -0.86430789]),\n",
       " 'place': array([-0.15328288, -0.62638046]),\n",
       " 'food': array([0.70892054, 0.33831963]),\n",
       " 'staff': array([-0.93758849, -0.0622506 ]),\n",
       " 'service': array([-0.64700347, -0.13517825]),\n",
       " 'line': array([-0.55012001,  0.61859334]),\n",
       " 'order': array([1.        , 0.44849705]),\n",
       " 'sandwich': array([0.79578426, 0.59910092]),\n",
       " 'chicken': array([0.70748264, 0.58633853]),\n",
       " 'customer': array([-0.79795853, -0.24969503]),\n",
       " 'fry': array([0.84879745, 0.49108337]),\n",
       " 'large': array([-0.38316188,  0.92908863]),\n",
       " 'meal': array([0.97051127, 0.37521953]),\n",
       " 'job': array([-0.04577962, -0.16518272]),\n",
       " 'long': array([-0.21048683,  0.8424752 ]),\n",
       " 'new': array([ 0.18157659, -0.25336508]),\n",
       " 'regular': array([-0.53186334,  0.2574763 ]),\n",
       " 'location': array([-0.42846529, -0.42145739]),\n",
       " 'coffee': array([ 8.24603853e-01, -1.07536865e-04]),\n",
       " 'cup': array([ 0.75781681, -0.07304338]),\n",
       " 'extra': array([-0.08827447, -0.04166586]),\n",
       " 'lady': array([-0.8113568 ,  0.02140433]),\n",
       " 'time': array([-0.88149238, -0.18266068]),\n",
       " 'nugget': array([0.98315343, 0.29381919]),\n",
       " 'restaurant': array([-0.22542437, -0.82675648]),\n",
       " 'best': array([ 0.79527414, -0.62755463]),\n",
       " 'emotion': array([ 0.53133168, -0.54179834]),\n",
       " 'people': array([-0.55041181,  0.84377904]),\n",
       " 'mcdonald': array([-0.01975259, -0.86009029]),\n",
       " 'item': array([0.77485271, 0.150186  ]),\n",
       " 'car': array([-0.3347429 , -0.76999384]),\n",
       " 'wait': array([-0.47452692,  0.73826471]),\n",
       " 'hour': array([-0.57616007,  0.76518235]),\n",
       " 'crew': array([-0.94183877, -0.25272592]),\n",
       " 'night': array([-0.19200049,  0.74325494]),\n",
       " 'experience': array([-0.96672773, -0.14996659]),\n",
       " 'lid': array([0.03116203, 0.15375899]),\n",
       " 'burger': array([0.88904696, 0.58399981]),\n",
       " 'wrong': array([-0.31200797,  0.78508344]),\n",
       " 'minute': array([-0.62042236,  0.69525659]),\n",
       " 'strawberry': array([0.67888178, 0.22264453]),\n",
       " 'cream': array([0.75980938, 0.21182684]),\n",
       " 'bag': array([0.2206079 , 0.10099666]),\n",
       " 'ice': array([0.56914119, 0.24072411]),\n",
       " 'taste': array([0.13585416, 0.17044966]),\n",
       " 'lot': array([ 0.16095807, -0.15831044]),\n",
       " 'bad': array([ 0.6208622 , -0.81813706]),\n",
       " 'great': array([ 0.76202094, -0.7057175 ]),\n",
       " 'manager': array([-0.82772316, -0.09046168]),\n",
       " 'next': array([ 0.26823161, -0.01427434]),\n",
       " 'horrible': array([ 0.74634747, -0.56155535]),\n",
       " 'employee': array([-0.81294628, -0.36629273]),\n",
       " 'price': array([-0.88799544, -0.32438395]),\n",
       " 'pickle': array([0.94068369, 0.50334743]),\n",
       " 'window': array([-0.11692656, -0.90843098]),\n",
       " 'store': array([-0.20926244, -0.91978734]),\n",
       " '3rd': array([-0.05759084,  0.08384701]),\n",
       " 'drive': array([-0.09231651, -0.80556496]),\n",
       " 'good': array([ 0.71685121, -0.78018695]),\n",
       " 'management': array([-0.7239665 , -0.38426989]),\n",
       " 'mess': array([-0.40386187,  0.8350556 ]),\n",
       " 'attitude': array([-0.89510709,  0.02355652]),\n",
       " 'day': array([-0.28914228,  0.89814249]),\n",
       " 'happy': array([ 0.63641366, -0.71530271]),\n",
       " 'phone': array([ 0.27834483, -0.1408467 ]),\n",
       " 'work': array([-0.72162799,  0.04327373]),\n",
       " 'rude': array([ 0.52730805, -0.78553206]),\n",
       " 'one': array([ 0.049214  , -0.24338549]),\n",
       " 'issue': array([-0.66989478, -0.30388167])}"
      ]
     },
     "execution_count": 4,
     "metadata": {},
     "output_type": "execute_result"
    }
   ],
   "source": [
    "edges = df[['first_cycle', 'second_cycle']].values\n",
    "Q = nx.Graph()\n",
    "Q.add_edges_from(edges)\n",
    "coordinates = nx.spring_layout(Q)\n",
    "\n",
    "coordinates"
   ]
  },
  {
   "cell_type": "code",
   "execution_count": 5,
   "id": "074bdac8",
   "metadata": {},
   "outputs": [
    {
     "name": "stdout",
     "output_type": "stream",
     "text": [
      "<class 'pandas.core.frame.DataFrame'>\n",
      "RangeIndex: 73 entries, 0 to 72\n",
      "Data columns (total 3 columns):\n",
      " #   Column    Non-Null Count  Dtype  \n",
      "---  ------    --------------  -----  \n",
      " 0   NodeName  73 non-null     object \n",
      " 1   X         73 non-null     float64\n",
      " 2   Y         73 non-null     float64\n",
      "dtypes: float64(2), object(1)\n",
      "memory usage: 1.8+ KB\n",
      "None\n"
     ]
    },
    {
     "data": {
      "text/html": [
       "<div>\n",
       "<style scoped>\n",
       "    .dataframe tbody tr th:only-of-type {\n",
       "        vertical-align: middle;\n",
       "    }\n",
       "\n",
       "    .dataframe tbody tr th {\n",
       "        vertical-align: top;\n",
       "    }\n",
       "\n",
       "    .dataframe thead th {\n",
       "        text-align: right;\n",
       "    }\n",
       "</style>\n",
       "<table border=\"1\" class=\"dataframe\">\n",
       "  <thead>\n",
       "    <tr style=\"text-align: right;\">\n",
       "      <th></th>\n",
       "      <th>NodeName</th>\n",
       "      <th>X</th>\n",
       "      <th>Y</th>\n",
       "    </tr>\n",
       "  </thead>\n",
       "  <tbody>\n",
       "    <tr>\n",
       "      <th>0</th>\n",
       "      <td>normal</td>\n",
       "      <td>-0.479668</td>\n",
       "      <td>0.891744</td>\n",
       "    </tr>\n",
       "    <tr>\n",
       "      <th>1</th>\n",
       "      <td>situation</td>\n",
       "      <td>-0.344967</td>\n",
       "      <td>0.608916</td>\n",
       "    </tr>\n",
       "    <tr>\n",
       "      <th>2</th>\n",
       "      <td>other</td>\n",
       "      <td>0.086380</td>\n",
       "      <td>-0.033583</td>\n",
       "    </tr>\n",
       "    <tr>\n",
       "      <th>3</th>\n",
       "      <td>drink</td>\n",
       "      <td>0.569112</td>\n",
       "      <td>0.069379</td>\n",
       "    </tr>\n",
       "    <tr>\n",
       "      <th>4</th>\n",
       "      <td>mcdonalds</td>\n",
       "      <td>-0.313489</td>\n",
       "      <td>-0.864308</td>\n",
       "    </tr>\n",
       "  </tbody>\n",
       "</table>\n",
       "</div>"
      ],
      "text/plain": [
       "    NodeName         X         Y\n",
       "0     normal -0.479668  0.891744\n",
       "1  situation -0.344967  0.608916\n",
       "2      other  0.086380 -0.033583\n",
       "3      drink  0.569112  0.069379\n",
       "4  mcdonalds -0.313489 -0.864308"
      ]
     },
     "execution_count": 5,
     "metadata": {},
     "output_type": "execute_result"
    }
   ],
   "source": [
    "df_coor = pd.DataFrame\\\n",
    "            .from_dict(coordinates).T\\\n",
    "            .rename(columns={0: 'X', 1: 'Y'})\\\n",
    "            .reset_index()\\\n",
    "            .rename(columns={'index': 'NodeName'})\n",
    "\n",
    "print(df_coor.info())\n",
    "df_coor.head()"
   ]
  },
  {
   "cell_type": "code",
   "execution_count": 6,
   "id": "92f7b6e4",
   "metadata": {},
   "outputs": [],
   "source": [
    "# Create connection bridge dataframe\n",
    "\n",
    "temp_1 = df[['node_id', 'first_cycle']].rename(columns={'first_cycle': 'NodeName'})\n",
    "temp_2 = df[['node_id', 'second_cycle']].rename(columns={'second_cycle':'NodeName'})\n",
    "\n",
    "df_connection = pd.concat([temp_1, temp_2], axis=0).sort_values(by='node_id')"
   ]
  },
  {
   "cell_type": "code",
   "execution_count": 7,
   "id": "e7ed28d1",
   "metadata": {},
   "outputs": [],
   "source": [
    "# # Create connection bridge\n",
    "# edges = edges.reshape(-1)\n",
    "# print(edges.shape)\n",
    "\n",
    "# df_connector = pd.DataFrame(edges, columns=['NodeName'])\n",
    "\n",
    "# array_idx = []\n",
    "# for i in range(1, len(edges) + 1):\n",
    "#     array_idx.append((i + 1) // 2)\n",
    "\n",
    "\n",
    "# print(len(array_idx))\n",
    "# df_connector['c_index'] = array_idx\n",
    "# df_connector.head()"
   ]
  },
  {
   "cell_type": "code",
   "execution_count": 8,
   "id": "74232b6a",
   "metadata": {},
   "outputs": [],
   "source": [
    "df_coor.to_csv(\"./mcd_result/coordinate_nodes_mcd.csv\", index=False)\n",
    "df_connection.to_csv(\"./mcd_result/connection_nodes_mcd.csv\", index=False)"
   ]
  },
  {
   "cell_type": "code",
   "execution_count": null,
   "id": "0feec095",
   "metadata": {},
   "outputs": [],
   "source": []
  }
 ],
 "metadata": {
  "kernelspec": {
   "display_name": "Python 3 (ipykernel)",
   "language": "python",
   "name": "python3"
  },
  "language_info": {
   "codemirror_mode": {
    "name": "ipython",
    "version": 3
   },
   "file_extension": ".py",
   "mimetype": "text/x-python",
   "name": "python",
   "nbconvert_exporter": "python",
   "pygments_lexer": "ipython3",
   "version": "3.11.4"
  }
 },
 "nbformat": 4,
 "nbformat_minor": 5
}
