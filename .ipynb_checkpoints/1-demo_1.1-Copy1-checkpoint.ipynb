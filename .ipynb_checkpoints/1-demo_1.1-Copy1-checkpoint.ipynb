{
 "cells": [
  {
   "cell_type": "code",
   "execution_count": 1,
   "id": "3b6c5e4c-9a3d-4507-b8a1-e797cd0ddebb",
   "metadata": {},
   "outputs": [],
   "source": [
    "# Utility: Preparation text\n",
    "\n",
    "from contractions import CONTRACTION_MAP\n",
    "\n",
    "##========== PREPARATION TEXT ===========##\n",
    "\n",
    "# Contraction\n",
    "def expand_contractions(sentence, contraction_mapping=CONTRACTION_MAP):\n",
    "    \"\"\"\n",
    "    Expand the contractions in a sentence. For example don't => do not.\n",
    "    \n",
    "    Paramters:\n",
    "    sentence (str): The input sentence to clean.\n",
    "    contraction_mapping (dict): A dictionary for mapping contractions.\n",
    "    \n",
    "    \n",
    "    Returns:\n",
    "    str: The expanded contraction sentence.\n",
    "    \"\"\"\n",
    "    \n",
    "    contractions_pattern = re.compile('({})'.format('|'.join(contraction_mapping.keys())),\n",
    "                                      flags=re.IGNORECASE|re.DOTALL)\n",
    "    \n",
    "    def expanded_match(contraction):\n",
    "        \"\"\"\n",
    "        Filter for expanding the matched contraction.\n",
    "        \n",
    "        Parameters:\n",
    "        contraction (str): The input of contraction\n",
    "        \n",
    "        Returns:\n",
    "        str: The expanded contraction.\n",
    "        \"\"\"\n",
    "        match = contraction.group(0)\n",
    "        first_char = match[0]\n",
    "        expanded_contraction = contraction_mapping.get(match) if contraction_mapping.get(match) else contraction_mapping.get(match.lower())\n",
    "        \n",
    "        expanded_contraction = first_char + expanded_contraction[1:]\n",
    "        return expanded_contraction\n",
    "    \n",
    "    expanded_sentence = contractions_pattern.sub(expanded_match, sentence)\n",
    "    return expanded_sentence\n",
    "\n",
    "\n",
    "def remove_extra_spaces(sentence):\n",
    "    # Use regex to replace multiple spaces with a single space\n",
    "    return re.sub(r'\\s+', ' ', sentence).strip()\n",
    "\n",
    "\n",
    "def remove_non_ascii(text):\n",
    "    \"\"\"\n",
    "    Remove all non-ASCII characters from the text.\n",
    "\n",
    "    Parameters:\n",
    "    text (str): The input text to clean.\n",
    "\n",
    "    Returns:\n",
    "    str: The cleaned text with only ASCII characters.\n",
    "    \n",
    "    \"\"\"\n",
    "    \n",
    "    return ''.join([char for char in text if ord(char) < 128])"
   ]
  },
  {
   "cell_type": "code",
   "execution_count": null,
   "id": "ee1cfb35-f59b-47ed-a421-25dfa7afb95a",
   "metadata": {},
   "outputs": [],
   "source": []
  },
  {
   "cell_type": "code",
   "execution_count": 22,
   "id": "a967275c-6b93-4e1c-9af7-d980ebabd3ef",
   "metadata": {},
   "outputs": [],
   "source": [
    "import pandas as pd\n",
    "import numpy as np\n",
    "import matplotlib.pyplot as plt\n",
    "\n",
    "from datetime import datetime\n",
    "\n",
    "import re\n",
    "import json\n",
    "\n",
    "from nltk.tokenize import word_tokenize\n",
    "\n",
    "import torch\n",
    "import torch.nn.functional as F\n",
    "from transformers import BertTokenizer\n",
    "\n",
    "from tqdm import tqdm"
   ]
  },
  {
   "cell_type": "code",
   "execution_count": 3,
   "id": "34c0dfd9-5d81-4e65-b33d-2c9b422c54e5",
   "metadata": {},
   "outputs": [],
   "source": [
    "from transformers import pipeline"
   ]
  },
  {
   "cell_type": "markdown",
   "id": "feb7ee98-d4d3-4bd6-8c3f-a61ebb609162",
   "metadata": {},
   "source": [
    "# Load Model"
   ]
  },
  {
   "cell_type": "markdown",
   "id": "36388cc0-619a-4e01-a353-6f07e34f994a",
   "metadata": {},
   "source": [
    "**Summarization**"
   ]
  },
  {
   "cell_type": "code",
   "execution_count": 4,
   "id": "470e7f80-4c98-4cd6-94b8-281ec41fee0f",
   "metadata": {},
   "outputs": [
    {
     "name": "stderr",
     "output_type": "stream",
     "text": [
      "C:\\Users\\Baha Tegar\\Desktop\\Preparation\\Transformers\\.venv\\Lib\\site-packages\\transformers\\models\\bart\\configuration_bart.py:176: UserWarning: Please make sure the config includes `forced_bos_token_id=0` in future versions. The config can simply be saved and uploaded again to be fixed.\n",
      "  warnings.warn(\n"
     ]
    },
    {
     "data": {
      "text/plain": [
       "<transformers.pipelines.text2text_generation.SummarizationPipeline at 0x20f6cef1e50>"
      ]
     },
     "execution_count": 4,
     "metadata": {},
     "output_type": "execute_result"
    }
   ],
   "source": [
    "modelBertSum = pipeline('summarization', model='model/summarization-0', device=0)\n",
    "modelBertSum"
   ]
  },
  {
   "cell_type": "markdown",
   "id": "ab9a6235-2404-4276-abb1-fe4e5c82cbac",
   "metadata": {},
   "source": [
    "# Load Dataset"
   ]
  },
  {
   "cell_type": "code",
   "execution_count": 8,
   "id": "01c86714-007e-4ca3-8c44-8bddfb32fe31",
   "metadata": {},
   "outputs": [
    {
     "data": {
      "text/plain": [
       "1511"
      ]
     },
     "execution_count": 8,
     "metadata": {},
     "output_type": "execute_result"
    }
   ],
   "source": [
    "with open('temp/representation.json', 'r', encoding='utf-8') as f:\n",
    "    data = json.load(f)\n",
    "\n",
    "len(data)"
   ]
  },
  {
   "cell_type": "code",
   "execution_count": 9,
   "id": "b4fe02b9-3530-44fc-a139-a7fc4d763bcc",
   "metadata": {},
   "outputs": [
    {
     "name": "stdout",
     "output_type": "stream",
     "text": [
      "<class 'pandas.core.frame.DataFrame'>\n",
      "RangeIndex: 1511 entries, 0 to 1510\n",
      "Data columns (total 4 columns):\n",
      " #   Column       Non-Null Count  Dtype \n",
      "---  ------       --------------  ----- \n",
      " 0   review_id    1511 non-null   int64 \n",
      " 1   review_time  1511 non-null   object\n",
      " 2   review       1511 non-null   object\n",
      " 3   like         1511 non-null   int64 \n",
      "dtypes: int64(2), object(2)\n",
      "memory usage: 47.3+ KB\n",
      "None\n"
     ]
    },
    {
     "data": {
      "text/html": [
       "<div>\n",
       "<style scoped>\n",
       "    .dataframe tbody tr th:only-of-type {\n",
       "        vertical-align: middle;\n",
       "    }\n",
       "\n",
       "    .dataframe tbody tr th {\n",
       "        vertical-align: top;\n",
       "    }\n",
       "\n",
       "    .dataframe thead th {\n",
       "        text-align: right;\n",
       "    }\n",
       "</style>\n",
       "<table border=\"1\" class=\"dataframe\">\n",
       "  <thead>\n",
       "    <tr style=\"text-align: right;\">\n",
       "      <th></th>\n",
       "      <th>review_id</th>\n",
       "      <th>review_time</th>\n",
       "      <th>review</th>\n",
       "      <th>like</th>\n",
       "    </tr>\n",
       "  </thead>\n",
       "  <tbody>\n",
       "    <tr>\n",
       "      <th>0</th>\n",
       "      <td>0</td>\n",
       "      <td>2024-11-28T13:41:44Z</td>\n",
       "      <td>The cars design is like it came from a cartoon.</td>\n",
       "      <td>0</td>\n",
       "    </tr>\n",
       "    <tr>\n",
       "      <th>1</th>\n",
       "      <td>2</td>\n",
       "      <td>2024-11-27T01:56:33Z</td>\n",
       "      <td>Tankz u for being so honest.\\nMuch love and re...</td>\n",
       "      <td>0</td>\n",
       "    </tr>\n",
       "    <tr>\n",
       "      <th>2</th>\n",
       "      <td>3</td>\n",
       "      <td>2024-11-26T18:27:21Z</td>\n",
       "      <td>Amazing review your really good at this love w...</td>\n",
       "      <td>0</td>\n",
       "    </tr>\n",
       "    <tr>\n",
       "      <th>3</th>\n",
       "      <td>5</td>\n",
       "      <td>2024-11-25T18:09:24Z</td>\n",
       "      <td>Honestly, the Cybertruck might be the first ca...</td>\n",
       "      <td>0</td>\n",
       "    </tr>\n",
       "    <tr>\n",
       "      <th>4</th>\n",
       "      <td>6</td>\n",
       "      <td>2024-11-25T03:55:09Z</td>\n",
       "      <td>I will be buying one anytime soon add expensiv...</td>\n",
       "      <td>0</td>\n",
       "    </tr>\n",
       "  </tbody>\n",
       "</table>\n",
       "</div>"
      ],
      "text/plain": [
       "   review_id           review_time  \\\n",
       "0          0  2024-11-28T13:41:44Z   \n",
       "1          2  2024-11-27T01:56:33Z   \n",
       "2          3  2024-11-26T18:27:21Z   \n",
       "3          5  2024-11-25T18:09:24Z   \n",
       "4          6  2024-11-25T03:55:09Z   \n",
       "\n",
       "                                              review  like  \n",
       "0    The cars design is like it came from a cartoon.     0  \n",
       "1  Tankz u for being so honest.\\nMuch love and re...     0  \n",
       "2  Amazing review your really good at this love w...     0  \n",
       "3  Honestly, the Cybertruck might be the first ca...     0  \n",
       "4  I will be buying one anytime soon add expensiv...     0  "
      ]
     },
     "execution_count": 9,
     "metadata": {},
     "output_type": "execute_result"
    }
   ],
   "source": [
    "df = pd.DataFrame.from_dict(data)\n",
    "df = df[['review_id', 'review_time', 'review', 'like']].copy()\n",
    "print(df.info())\n",
    "df.head()"
   ]
  },
  {
   "cell_type": "code",
   "execution_count": 10,
   "id": "97aff7a5-305c-4ecd-9d4b-3f3e3373ab80",
   "metadata": {},
   "outputs": [],
   "source": [
    "# # df = pd.read_csv('sample-mcd.csv', encoding='latin1')\n",
    "# df = pd.read_csv('McDonald_s_Reviews.csv', encoding='latin1')\n",
    "# df = df[['reviewer_id', 'review_time', 'review', 'rating']].copy()\n",
    "# print(df.info())\n",
    "# df.head()"
   ]
  },
  {
   "cell_type": "code",
   "execution_count": 11,
   "id": "2c36308f-124f-4f20-ad8e-1b62a8c664f4",
   "metadata": {},
   "outputs": [
    {
     "data": {
      "text/html": [
       "<div>\n",
       "<style scoped>\n",
       "    .dataframe tbody tr th:only-of-type {\n",
       "        vertical-align: middle;\n",
       "    }\n",
       "\n",
       "    .dataframe tbody tr th {\n",
       "        vertical-align: top;\n",
       "    }\n",
       "\n",
       "    .dataframe thead th {\n",
       "        text-align: right;\n",
       "    }\n",
       "</style>\n",
       "<table border=\"1\" class=\"dataframe\">\n",
       "  <thead>\n",
       "    <tr style=\"text-align: right;\">\n",
       "      <th></th>\n",
       "      <th>review_id</th>\n",
       "      <th>review_time</th>\n",
       "      <th>review</th>\n",
       "      <th>like</th>\n",
       "      <th>review_processed</th>\n",
       "    </tr>\n",
       "  </thead>\n",
       "  <tbody>\n",
       "    <tr>\n",
       "      <th>0</th>\n",
       "      <td>0</td>\n",
       "      <td>2024-11-28T13:41:44Z</td>\n",
       "      <td>The cars design is like it came from a cartoon.</td>\n",
       "      <td>0</td>\n",
       "      <td>The cars design is like it came from a cartoon.</td>\n",
       "    </tr>\n",
       "    <tr>\n",
       "      <th>1</th>\n",
       "      <td>2</td>\n",
       "      <td>2024-11-27T01:56:33Z</td>\n",
       "      <td>Tankz u for being so honest.\\nMuch love and re...</td>\n",
       "      <td>0</td>\n",
       "      <td>Tankz u for being so honest.\\nMuch love and re...</td>\n",
       "    </tr>\n",
       "    <tr>\n",
       "      <th>2</th>\n",
       "      <td>3</td>\n",
       "      <td>2024-11-26T18:27:21Z</td>\n",
       "      <td>Amazing review your really good at this love w...</td>\n",
       "      <td>0</td>\n",
       "      <td>Amazing review your really good at this love w...</td>\n",
       "    </tr>\n",
       "    <tr>\n",
       "      <th>3</th>\n",
       "      <td>5</td>\n",
       "      <td>2024-11-25T18:09:24Z</td>\n",
       "      <td>Honestly, the Cybertruck might be the first ca...</td>\n",
       "      <td>0</td>\n",
       "      <td>Honestly, the Cybertruck might be the first ca...</td>\n",
       "    </tr>\n",
       "    <tr>\n",
       "      <th>4</th>\n",
       "      <td>6</td>\n",
       "      <td>2024-11-25T03:55:09Z</td>\n",
       "      <td>I will be buying one anytime soon add expensiv...</td>\n",
       "      <td>0</td>\n",
       "      <td>I will be buying one anytime soon add expensiv...</td>\n",
       "    </tr>\n",
       "  </tbody>\n",
       "</table>\n",
       "</div>"
      ],
      "text/plain": [
       "   review_id           review_time  \\\n",
       "0          0  2024-11-28T13:41:44Z   \n",
       "1          2  2024-11-27T01:56:33Z   \n",
       "2          3  2024-11-26T18:27:21Z   \n",
       "3          5  2024-11-25T18:09:24Z   \n",
       "4          6  2024-11-25T03:55:09Z   \n",
       "\n",
       "                                              review  like  \\\n",
       "0    The cars design is like it came from a cartoon.     0   \n",
       "1  Tankz u for being so honest.\\nMuch love and re...     0   \n",
       "2  Amazing review your really good at this love w...     0   \n",
       "3  Honestly, the Cybertruck might be the first ca...     0   \n",
       "4  I will be buying one anytime soon add expensiv...     0   \n",
       "\n",
       "                                    review_processed  \n",
       "0    The cars design is like it came from a cartoon.  \n",
       "1  Tankz u for being so honest.\\nMuch love and re...  \n",
       "2  Amazing review your really good at this love w...  \n",
       "3  Honestly, the Cybertruck might be the first ca...  \n",
       "4  I will be buying one anytime soon add expensiv...  "
      ]
     },
     "execution_count": 11,
     "metadata": {},
     "output_type": "execute_result"
    }
   ],
   "source": [
    "# Apply extraction\n",
    "\n",
    "def process_text(x):\n",
    "    # Prepare sentence\n",
    "    texts = expand_contractions(x)\n",
    "    texts = remove_extra_spaces(x)\n",
    "    texts = remove_non_ascii(x)\n",
    "    \n",
    "    return texts\n",
    "\n",
    "df['review_processed'] = df['review'].apply(process_text)\n",
    "df.head()"
   ]
  },
  {
   "cell_type": "markdown",
   "id": "6c1d1004-6df2-4389-8d1c-daf125b8dc38",
   "metadata": {},
   "source": [
    "# Preprocessing"
   ]
  },
  {
   "cell_type": "code",
   "execution_count": 12,
   "id": "3d580e1c-4f6c-42b1-9768-f2651f5643fb",
   "metadata": {},
   "outputs": [],
   "source": [
    "def is_only_number(text):\n",
    "    \n",
    "    pattern = r'^\\d+$'\n",
    "    \n",
    "    if re.search(pattern, text, re.IGNORECASE):\n",
    "        return True\n",
    "    return False"
   ]
  },
  {
   "cell_type": "code",
   "execution_count": 13,
   "id": "d2d70093-af7e-4e85-8985-eb734cd39e6d",
   "metadata": {},
   "outputs": [],
   "source": [
    "# def extract_date(x):\n",
    "#     # Get current date\n",
    "#     current_date = pd.to_datetime(\"today\").date()\n",
    "\n",
    "#     offset, period, _ = x.split(\" \")\n",
    "#     if is_only_number(offset):\n",
    "#         offset = int(offset)\n",
    "#     else:\n",
    "#         offset = 1\n",
    "\n",
    "#     if \"year\" in period:\n",
    "#         offset = pd.DateOffset(years=offset)\n",
    "#     elif \"month\" in period:\n",
    "#         offset = pd.DateOffset(months=offset)\n",
    "#     else:\n",
    "#         offset = pd.DateOffset(days=offset)\n",
    "\n",
    "#     return (current_date - offset).date().strftime('%Y-%m-%d')"
   ]
  },
  {
   "cell_type": "code",
   "execution_count": 24,
   "id": "e8f8181f-5c03-4fdf-a3ba-07b3057e5717",
   "metadata": {},
   "outputs": [],
   "source": [
    "def extract_date(x):\n",
    "    # Convert to datetime\n",
    "    datetime_obj = datetime.strptime(x, '%Y-%m-%dT%H:%M:%SZ')\n",
    "\n",
    "    return str(datetime_obj.date())"
   ]
  },
  {
   "cell_type": "code",
   "execution_count": 25,
   "id": "4d89f976-04d2-49a7-b7ce-9c7e7815eb61",
   "metadata": {},
   "outputs": [],
   "source": [
    "def extract_rating(x):\n",
    "    score = x.split(\" \")[0]\n",
    "    return int(score)"
   ]
  },
  {
   "cell_type": "code",
   "execution_count": 26,
   "id": "dabdc188-e48b-41d2-9ad8-1b6e700ea8b5",
   "metadata": {},
   "outputs": [],
   "source": [
    "df['review_time'] = df['review_time'].apply(extract_date)"
   ]
  },
  {
   "cell_type": "code",
   "execution_count": 27,
   "id": "4344d187-d7bc-40dd-a454-9715a2e0555b",
   "metadata": {},
   "outputs": [],
   "source": [
    "# df['rating'] = df['rating'].apply(extract_rating)"
   ]
  },
  {
   "cell_type": "code",
   "execution_count": 28,
   "id": "fbb772bc-acb4-43dc-a776-a8dfab8b88fb",
   "metadata": {},
   "outputs": [
    {
     "name": "stdout",
     "output_type": "stream",
     "text": [
      "<class 'pandas.core.frame.DataFrame'>\n",
      "RangeIndex: 1511 entries, 0 to 1510\n",
      "Data columns (total 5 columns):\n",
      " #   Column            Non-Null Count  Dtype \n",
      "---  ------            --------------  ----- \n",
      " 0   review_id         1511 non-null   int64 \n",
      " 1   review_time       1511 non-null   object\n",
      " 2   review            1511 non-null   object\n",
      " 3   like              1511 non-null   int64 \n",
      " 4   review_processed  1511 non-null   object\n",
      "dtypes: int64(2), object(3)\n",
      "memory usage: 59.1+ KB\n",
      "None\n"
     ]
    },
    {
     "data": {
      "text/html": [
       "<div>\n",
       "<style scoped>\n",
       "    .dataframe tbody tr th:only-of-type {\n",
       "        vertical-align: middle;\n",
       "    }\n",
       "\n",
       "    .dataframe tbody tr th {\n",
       "        vertical-align: top;\n",
       "    }\n",
       "\n",
       "    .dataframe thead th {\n",
       "        text-align: right;\n",
       "    }\n",
       "</style>\n",
       "<table border=\"1\" class=\"dataframe\">\n",
       "  <thead>\n",
       "    <tr style=\"text-align: right;\">\n",
       "      <th></th>\n",
       "      <th>review_id</th>\n",
       "      <th>review_time</th>\n",
       "      <th>review</th>\n",
       "      <th>like</th>\n",
       "      <th>review_processed</th>\n",
       "    </tr>\n",
       "  </thead>\n",
       "  <tbody>\n",
       "    <tr>\n",
       "      <th>0</th>\n",
       "      <td>0</td>\n",
       "      <td>2024-11-28</td>\n",
       "      <td>The cars design is like it came from a cartoon.</td>\n",
       "      <td>0</td>\n",
       "      <td>The cars design is like it came from a cartoon.</td>\n",
       "    </tr>\n",
       "    <tr>\n",
       "      <th>1</th>\n",
       "      <td>2</td>\n",
       "      <td>2024-11-27</td>\n",
       "      <td>Tankz u for being so honest.\\nMuch love and re...</td>\n",
       "      <td>0</td>\n",
       "      <td>Tankz u for being so honest.\\nMuch love and re...</td>\n",
       "    </tr>\n",
       "    <tr>\n",
       "      <th>2</th>\n",
       "      <td>3</td>\n",
       "      <td>2024-11-26</td>\n",
       "      <td>Amazing review your really good at this love w...</td>\n",
       "      <td>0</td>\n",
       "      <td>Amazing review your really good at this love w...</td>\n",
       "    </tr>\n",
       "    <tr>\n",
       "      <th>3</th>\n",
       "      <td>5</td>\n",
       "      <td>2024-11-25</td>\n",
       "      <td>Honestly, the Cybertruck might be the first ca...</td>\n",
       "      <td>0</td>\n",
       "      <td>Honestly, the Cybertruck might be the first ca...</td>\n",
       "    </tr>\n",
       "    <tr>\n",
       "      <th>4</th>\n",
       "      <td>6</td>\n",
       "      <td>2024-11-25</td>\n",
       "      <td>I will be buying one anytime soon add expensiv...</td>\n",
       "      <td>0</td>\n",
       "      <td>I will be buying one anytime soon add expensiv...</td>\n",
       "    </tr>\n",
       "  </tbody>\n",
       "</table>\n",
       "</div>"
      ],
      "text/plain": [
       "   review_id review_time                                             review  \\\n",
       "0          0  2024-11-28    The cars design is like it came from a cartoon.   \n",
       "1          2  2024-11-27  Tankz u for being so honest.\\nMuch love and re...   \n",
       "2          3  2024-11-26  Amazing review your really good at this love w...   \n",
       "3          5  2024-11-25  Honestly, the Cybertruck might be the first ca...   \n",
       "4          6  2024-11-25  I will be buying one anytime soon add expensiv...   \n",
       "\n",
       "   like                                   review_processed  \n",
       "0     0    The cars design is like it came from a cartoon.  \n",
       "1     0  Tankz u for being so honest.\\nMuch love and re...  \n",
       "2     0  Amazing review your really good at this love w...  \n",
       "3     0  Honestly, the Cybertruck might be the first ca...  \n",
       "4     0  I will be buying one anytime soon add expensiv...  "
      ]
     },
     "execution_count": 28,
     "metadata": {},
     "output_type": "execute_result"
    }
   ],
   "source": [
    "print(df.info())\n",
    "df.head()"
   ]
  },
  {
   "cell_type": "markdown",
   "id": "595e0469-7235-41c8-ab8c-e1965a96319b",
   "metadata": {},
   "source": [
    "# Paraphrasing"
   ]
  },
  {
   "cell_type": "code",
   "execution_count": 29,
   "id": "916a8db0-7889-4f5f-bde8-1c3794813b9f",
   "metadata": {},
   "outputs": [],
   "source": [
    "def process(x):\n",
    "    tokens = word_tokenize(x)\n",
    "    print(\"NUM TOKEN: \", len(tokens))\n",
    "    if len(tokens) > 30:\n",
    "        set_max = int(0.99 * len(tokens))\n",
    "        set_min = int(0.25 * len(tokens))\n",
    "    \n",
    "        return modelBertSum(f\"correct:{x} </s>\", min_length=set_min, max_length=set_max)[0]['summary_text']\n",
    "    return x"
   ]
  },
  {
   "cell_type": "code",
   "execution_count": 30,
   "id": "df750dd9-516e-4c80-9a3a-57e3840e6c2a",
   "metadata": {},
   "outputs": [],
   "source": [
    "# Testing\n",
    "# for i in range(0, 30):\n",
    "#     sample = df['review_processed'].iloc[i]\n",
    "#     print(f\"{i}. \", sample)\n",
    "\n",
    "#     print(\"SUMMARIZE: \")\n",
    "#     print(process(sample))\n",
    "#     print()"
   ]
  },
  {
   "cell_type": "code",
   "execution_count": null,
   "id": "1152b49d-4c0d-4a88-b0c8-b11b2c48a85d",
   "metadata": {},
   "outputs": [
    {
     "name": "stderr",
     "output_type": "stream",
     "text": [
      "  0%|                                                                                         | 0/1511 [00:00<?, ?it/s]"
     ]
    },
    {
     "name": "stdout",
     "output_type": "stream",
     "text": [
      "NUM TOKEN:  11\n",
      "NUM TOKEN:  13\n",
      "NUM TOKEN:  21\n",
      "NUM TOKEN:  42\n"
     ]
    },
    {
     "name": "stderr",
     "output_type": "stream",
     "text": [
      "  0%|▎                                                                                | 5/1511 [00:04<20:45,  1.21it/s]"
     ]
    },
    {
     "name": "stdout",
     "output_type": "stream",
     "text": [
      "NUM TOKEN:  59\n"
     ]
    },
    {
     "name": "stderr",
     "output_type": "stream",
     "text": [
      "  0%|▎                                                                                | 6/1511 [00:05<22:33,  1.11it/s]"
     ]
    },
    {
     "name": "stdout",
     "output_type": "stream",
     "text": [
      "NUM TOKEN:  39\n"
     ]
    },
    {
     "name": "stderr",
     "output_type": "stream",
     "text": [
      "  0%|▍                                                                                | 7/1511 [00:06<27:02,  1.08s/it]"
     ]
    },
    {
     "name": "stdout",
     "output_type": "stream",
     "text": [
      "NUM TOKEN:  10\n",
      "NUM TOKEN:  128\n"
     ]
    },
    {
     "name": "stderr",
     "output_type": "stream",
     "text": [
      "  1%|▍                                                                                | 9/1511 [00:10<34:44,  1.39s/it]"
     ]
    },
    {
     "name": "stdout",
     "output_type": "stream",
     "text": [
      "NUM TOKEN:  47\n"
     ]
    },
    {
     "name": "stderr",
     "output_type": "stream",
     "text": [
      "  1%|▌                                                                               | 10/1511 [00:11<33:54,  1.36s/it]"
     ]
    },
    {
     "name": "stdout",
     "output_type": "stream",
     "text": [
      "NUM TOKEN:  55\n"
     ]
    },
    {
     "name": "stderr",
     "output_type": "stream",
     "text": [
      "  1%|▌                                                                               | 11/1511 [00:14<39:05,  1.56s/it]"
     ]
    },
    {
     "name": "stdout",
     "output_type": "stream",
     "text": [
      "NUM TOKEN:  20\n",
      "NUM TOKEN:  13\n",
      "NUM TOKEN:  13\n",
      "NUM TOKEN:  76\n"
     ]
    },
    {
     "name": "stderr",
     "output_type": "stream",
     "text": [
      "  1%|▊                                                                               | 15/1511 [00:16<24:13,  1.03it/s]"
     ]
    },
    {
     "name": "stdout",
     "output_type": "stream",
     "text": [
      "NUM TOKEN:  16\n",
      "NUM TOKEN:  20\n",
      "NUM TOKEN:  19\n",
      "NUM TOKEN:  46\n"
     ]
    }
   ],
   "source": [
    "tqdm.pandas()\n",
    "# df['review_processed'] = df['review_processed'].progress_apply(lambda x: modelBertSum(f\"correct: {x}</s>\")[0]['summary_text'])\n",
    "df['review_processed'] = df['review_processed'].progress_apply(lambda x: process(x))"
   ]
  },
  {
   "cell_type": "markdown",
   "id": "69cc6fcf-435d-46ed-af51-c901bd51d207",
   "metadata": {},
   "source": [
    "# Save Data"
   ]
  },
  {
   "cell_type": "code",
   "execution_count": null,
   "id": "e1c96d2e-651a-4bdd-952f-900894ddf59b",
   "metadata": {
    "scrolled": true
   },
   "outputs": [],
   "source": [
    "result = df[['review_id', 'review_time', 'like', 'review', 'review_processed']].to_dict('index')\n",
    "result"
   ]
  },
  {
   "cell_type": "code",
   "execution_count": 54,
   "id": "673d6672-7784-4fd7-8434-08b4345d27ad",
   "metadata": {},
   "outputs": [],
   "source": [
    "with open(\"temp-1.json\", \"w\") as file:\n",
    "    json.dump(result, file, indent=4)"
   ]
  },
  {
   "cell_type": "code",
   "execution_count": 55,
   "id": "f8a78aa0-ddbf-4146-b847-f1c8fffd4640",
   "metadata": {},
   "outputs": [],
   "source": [
    "# df.to_csv(\"preprocessed-mcd.csv\", index=False)"
   ]
  },
  {
   "cell_type": "code",
   "execution_count": 56,
   "id": "6257d599-c564-4a9d-aeca-e7d17955a15b",
   "metadata": {},
   "outputs": [],
   "source": [
    "torch.cuda.reset_peak_memory_stats()  # Reset peak stats for debugging\n",
    "torch.cuda.empty_cache()  # Clear cache\n"
   ]
  },
  {
   "cell_type": "code",
   "execution_count": null,
   "id": "fc84e275-3649-4844-8af4-53883aa2352d",
   "metadata": {},
   "outputs": [],
   "source": []
  }
 ],
 "metadata": {
  "kernelspec": {
   "display_name": "transformers_env",
   "language": "python",
   "name": "transformers_env"
  },
  "language_info": {
   "codemirror_mode": {
    "name": "ipython",
    "version": 3
   },
   "file_extension": ".py",
   "mimetype": "text/x-python",
   "name": "python",
   "nbconvert_exporter": "python",
   "pygments_lexer": "ipython3",
   "version": "3.11.1"
  }
 },
 "nbformat": 4,
 "nbformat_minor": 5
}
