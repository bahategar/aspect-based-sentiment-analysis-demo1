{
 "cells": [
  {
   "cell_type": "code",
   "execution_count": 54,
   "id": "3b6c5e4c-9a3d-4507-b8a1-e797cd0ddebb",
   "metadata": {},
   "outputs": [],
   "source": [
    "# Utility: Preparation text\n",
    "\n",
    "from contractions import CONTRACTION_MAP\n",
    "\n",
    "##========== PREPARATION TEXT ===========##\n",
    "\n",
    "# Contraction\n",
    "def expand_contractions(sentence, contraction_mapping=CONTRACTION_MAP):\n",
    "    \"\"\"\n",
    "    Expand the contractions in a sentence. For example don't => do not.\n",
    "    \n",
    "    Paramters:\n",
    "    sentence (str): The input sentence to clean.\n",
    "    contraction_mapping (dict): A dictionary for mapping contractions.\n",
    "    \n",
    "    \n",
    "    Returns:\n",
    "    str: The expanded contraction sentence.\n",
    "    \"\"\"\n",
    "    \n",
    "    contractions_pattern = re.compile('({})'.format('|'.join(contraction_mapping.keys())),\n",
    "                                      flags=re.IGNORECASE|re.DOTALL)\n",
    "    \n",
    "    def expanded_match(contraction):\n",
    "        \"\"\"\n",
    "        Filter for expanding the matched contraction.\n",
    "        \n",
    "        Parameters:\n",
    "        contraction (str): The input of contraction\n",
    "        \n",
    "        Returns:\n",
    "        str: The expanded contraction.\n",
    "        \"\"\"\n",
    "        match = contraction.group(0)\n",
    "        first_char = match[0]\n",
    "        expanded_contraction = contraction_mapping.get(match) if contraction_mapping.get(match) else contraction_mapping.get(match.lower())\n",
    "        \n",
    "        expanded_contraction = first_char + expanded_contraction[1:]\n",
    "        return expanded_contraction\n",
    "    \n",
    "    expanded_sentence = contractions_pattern.sub(expanded_match, sentence)\n",
    "    return expanded_sentence\n",
    "\n",
    "\n",
    "def remove_extra_spaces(sentence):\n",
    "    # Use regex to replace multiple spaces with a single space\n",
    "    return re.sub(r'\\s+', ' ', sentence).strip()\n",
    "\n",
    "\n",
    "def remove_non_ascii(text):\n",
    "    \"\"\"\n",
    "    Remove all non-ASCII characters from the text.\n",
    "\n",
    "    Parameters:\n",
    "    text (str): The input text to clean.\n",
    "\n",
    "    Returns:\n",
    "    str: The cleaned text with only ASCII characters.\n",
    "    \n",
    "    \"\"\"\n",
    "    \n",
    "    return ''.join([char for char in text if ord(char) < 128])"
   ]
  },
  {
   "cell_type": "code",
   "execution_count": null,
   "id": "ee1cfb35-f59b-47ed-a421-25dfa7afb95a",
   "metadata": {},
   "outputs": [],
   "source": []
  },
  {
   "cell_type": "code",
   "execution_count": 55,
   "id": "a967275c-6b93-4e1c-9af7-d980ebabd3ef",
   "metadata": {},
   "outputs": [],
   "source": [
    "import pandas as pd\n",
    "import numpy as np\n",
    "import matplotlib.pyplot as plt\n",
    "\n",
    "import re\n",
    "import json\n",
    "\n",
    "from nltk.tokenize import word_tokenize\n",
    "\n",
    "import torch\n",
    "import torch.nn.functional as F\n",
    "from transformers import BertTokenizer\n",
    "\n",
    "from tqdm import tqdm"
   ]
  },
  {
   "cell_type": "code",
   "execution_count": 56,
   "id": "34c0dfd9-5d81-4e65-b33d-2c9b422c54e5",
   "metadata": {},
   "outputs": [],
   "source": [
    "from transformers import pipeline"
   ]
  },
  {
   "cell_type": "markdown",
   "id": "feb7ee98-d4d3-4bd6-8c3f-a61ebb609162",
   "metadata": {},
   "source": [
    "# Load Model"
   ]
  },
  {
   "cell_type": "markdown",
   "id": "36388cc0-619a-4e01-a353-6f07e34f994a",
   "metadata": {},
   "source": [
    "**Summarization**"
   ]
  },
  {
   "cell_type": "code",
   "execution_count": 57,
   "id": "470e7f80-4c98-4cd6-94b8-281ec41fee0f",
   "metadata": {},
   "outputs": [
    {
     "name": "stderr",
     "output_type": "stream",
     "text": [
      "C:\\Users\\Baha Tegar\\Desktop\\Preparation\\Transformers\\.venv\\Lib\\site-packages\\transformers\\models\\bart\\configuration_bart.py:176: UserWarning: Please make sure the config includes `forced_bos_token_id=0` in future versions. The config can simply be saved and uploaded again to be fixed.\n",
      "  warnings.warn(\n"
     ]
    },
    {
     "data": {
      "text/plain": [
       "<transformers.pipelines.text2text_generation.SummarizationPipeline at 0x299dc322d10>"
      ]
     },
     "execution_count": 57,
     "metadata": {},
     "output_type": "execute_result"
    }
   ],
   "source": [
    "modelBertSum = pipeline('summarization', model='model/summarization-0', device=0)\n",
    "modelBertSum"
   ]
  },
  {
   "cell_type": "markdown",
   "id": "ab9a6235-2404-4276-abb1-fe4e5c82cbac",
   "metadata": {},
   "source": [
    "# Load Dataset"
   ]
  },
  {
   "cell_type": "code",
   "execution_count": 58,
   "id": "97aff7a5-305c-4ecd-9d4b-3f3e3373ab80",
   "metadata": {},
   "outputs": [
    {
     "name": "stdout",
     "output_type": "stream",
     "text": [
      "<class 'pandas.core.frame.DataFrame'>\n",
      "RangeIndex: 100 entries, 0 to 99\n",
      "Data columns (total 4 columns):\n",
      " #   Column       Non-Null Count  Dtype \n",
      "---  ------       --------------  ----- \n",
      " 0   reviewer_id  100 non-null    int64 \n",
      " 1   review_time  100 non-null    object\n",
      " 2   review       100 non-null    object\n",
      " 3   rating       100 non-null    object\n",
      "dtypes: int64(1), object(3)\n",
      "memory usage: 3.2+ KB\n",
      "None\n"
     ]
    },
    {
     "data": {
      "text/html": [
       "<div>\n",
       "<style scoped>\n",
       "    .dataframe tbody tr th:only-of-type {\n",
       "        vertical-align: middle;\n",
       "    }\n",
       "\n",
       "    .dataframe tbody tr th {\n",
       "        vertical-align: top;\n",
       "    }\n",
       "\n",
       "    .dataframe thead th {\n",
       "        text-align: right;\n",
       "    }\n",
       "</style>\n",
       "<table border=\"1\" class=\"dataframe\">\n",
       "  <thead>\n",
       "    <tr style=\"text-align: right;\">\n",
       "      <th></th>\n",
       "      <th>reviewer_id</th>\n",
       "      <th>review_time</th>\n",
       "      <th>review</th>\n",
       "      <th>rating</th>\n",
       "    </tr>\n",
       "  </thead>\n",
       "  <tbody>\n",
       "    <tr>\n",
       "      <th>0</th>\n",
       "      <td>1</td>\n",
       "      <td>3 months ago</td>\n",
       "      <td>Why does it look like someone spit on my food?...</td>\n",
       "      <td>1 star</td>\n",
       "    </tr>\n",
       "    <tr>\n",
       "      <th>1</th>\n",
       "      <td>2</td>\n",
       "      <td>5 days ago</td>\n",
       "      <td>It'd McDonalds. It is what it is as far as the...</td>\n",
       "      <td>4 stars</td>\n",
       "    </tr>\n",
       "    <tr>\n",
       "      <th>2</th>\n",
       "      <td>3</td>\n",
       "      <td>5 days ago</td>\n",
       "      <td>Made a mobile order got to the speaker and che...</td>\n",
       "      <td>1 star</td>\n",
       "    </tr>\n",
       "    <tr>\n",
       "      <th>3</th>\n",
       "      <td>4</td>\n",
       "      <td>a month ago</td>\n",
       "      <td>My mc. Crispy chicken sandwich was ÃÂ¯ÃÂ¿ÃÂ...</td>\n",
       "      <td>5 stars</td>\n",
       "    </tr>\n",
       "    <tr>\n",
       "      <th>4</th>\n",
       "      <td>5</td>\n",
       "      <td>2 months ago</td>\n",
       "      <td>I repeat my order 3 times in the drive thru, a...</td>\n",
       "      <td>1 star</td>\n",
       "    </tr>\n",
       "  </tbody>\n",
       "</table>\n",
       "</div>"
      ],
      "text/plain": [
       "   reviewer_id   review_time  \\\n",
       "0            1  3 months ago   \n",
       "1            2    5 days ago   \n",
       "2            3    5 days ago   \n",
       "3            4   a month ago   \n",
       "4            5  2 months ago   \n",
       "\n",
       "                                              review   rating  \n",
       "0  Why does it look like someone spit on my food?...   1 star  \n",
       "1  It'd McDonalds. It is what it is as far as the...  4 stars  \n",
       "2  Made a mobile order got to the speaker and che...   1 star  \n",
       "3  My mc. Crispy chicken sandwich was ÃÂ¯ÃÂ¿ÃÂ...  5 stars  \n",
       "4  I repeat my order 3 times in the drive thru, a...   1 star  "
      ]
     },
     "execution_count": 58,
     "metadata": {},
     "output_type": "execute_result"
    }
   ],
   "source": [
    "# df = pd.read_csv('sample-mcd.csv', encoding='latin1')\n",
    "df = pd.read_csv('McDonald_s_Reviews.csv', encoding='latin1')\n",
    "df = df[['reviewer_id', 'review_time', 'review', 'rating']].copy()\n",
    "print(df.info())\n",
    "df.head()"
   ]
  },
  {
   "cell_type": "code",
   "execution_count": 59,
   "id": "2c36308f-124f-4f20-ad8e-1b62a8c664f4",
   "metadata": {},
   "outputs": [
    {
     "data": {
      "text/html": [
       "<div>\n",
       "<style scoped>\n",
       "    .dataframe tbody tr th:only-of-type {\n",
       "        vertical-align: middle;\n",
       "    }\n",
       "\n",
       "    .dataframe tbody tr th {\n",
       "        vertical-align: top;\n",
       "    }\n",
       "\n",
       "    .dataframe thead th {\n",
       "        text-align: right;\n",
       "    }\n",
       "</style>\n",
       "<table border=\"1\" class=\"dataframe\">\n",
       "  <thead>\n",
       "    <tr style=\"text-align: right;\">\n",
       "      <th></th>\n",
       "      <th>reviewer_id</th>\n",
       "      <th>review_time</th>\n",
       "      <th>review</th>\n",
       "      <th>rating</th>\n",
       "      <th>review_processed</th>\n",
       "    </tr>\n",
       "  </thead>\n",
       "  <tbody>\n",
       "    <tr>\n",
       "      <th>0</th>\n",
       "      <td>1</td>\n",
       "      <td>3 months ago</td>\n",
       "      <td>Why does it look like someone spit on my food?...</td>\n",
       "      <td>1 star</td>\n",
       "      <td>Why does it look like someone spit on my food?...</td>\n",
       "    </tr>\n",
       "    <tr>\n",
       "      <th>1</th>\n",
       "      <td>2</td>\n",
       "      <td>5 days ago</td>\n",
       "      <td>It'd McDonalds. It is what it is as far as the...</td>\n",
       "      <td>4 stars</td>\n",
       "      <td>It'd McDonalds. It is what it is as far as the...</td>\n",
       "    </tr>\n",
       "    <tr>\n",
       "      <th>2</th>\n",
       "      <td>3</td>\n",
       "      <td>5 days ago</td>\n",
       "      <td>Made a mobile order got to the speaker and che...</td>\n",
       "      <td>1 star</td>\n",
       "      <td>Made a mobile order got to the speaker and che...</td>\n",
       "    </tr>\n",
       "    <tr>\n",
       "      <th>3</th>\n",
       "      <td>4</td>\n",
       "      <td>a month ago</td>\n",
       "      <td>My mc. Crispy chicken sandwich was ÃÂ¯ÃÂ¿ÃÂ...</td>\n",
       "      <td>5 stars</td>\n",
       "      <td>My mc. Crispy chicken sandwich was  customer s...</td>\n",
       "    </tr>\n",
       "    <tr>\n",
       "      <th>4</th>\n",
       "      <td>5</td>\n",
       "      <td>2 months ago</td>\n",
       "      <td>I repeat my order 3 times in the drive thru, a...</td>\n",
       "      <td>1 star</td>\n",
       "      <td>I repeat my order 3 times in the drive thru, a...</td>\n",
       "    </tr>\n",
       "  </tbody>\n",
       "</table>\n",
       "</div>"
      ],
      "text/plain": [
       "   reviewer_id   review_time  \\\n",
       "0            1  3 months ago   \n",
       "1            2    5 days ago   \n",
       "2            3    5 days ago   \n",
       "3            4   a month ago   \n",
       "4            5  2 months ago   \n",
       "\n",
       "                                              review   rating  \\\n",
       "0  Why does it look like someone spit on my food?...   1 star   \n",
       "1  It'd McDonalds. It is what it is as far as the...  4 stars   \n",
       "2  Made a mobile order got to the speaker and che...   1 star   \n",
       "3  My mc. Crispy chicken sandwich was ÃÂ¯ÃÂ¿ÃÂ...  5 stars   \n",
       "4  I repeat my order 3 times in the drive thru, a...   1 star   \n",
       "\n",
       "                                    review_processed  \n",
       "0  Why does it look like someone spit on my food?...  \n",
       "1  It'd McDonalds. It is what it is as far as the...  \n",
       "2  Made a mobile order got to the speaker and che...  \n",
       "3  My mc. Crispy chicken sandwich was  customer s...  \n",
       "4  I repeat my order 3 times in the drive thru, a...  "
      ]
     },
     "execution_count": 59,
     "metadata": {},
     "output_type": "execute_result"
    }
   ],
   "source": [
    "# Apply extraction\n",
    "\n",
    "def process_text(x):\n",
    "    # Prepare sentence\n",
    "    texts = expand_contractions(x)\n",
    "    texts = remove_extra_spaces(x)\n",
    "    texts = remove_non_ascii(x)\n",
    "    \n",
    "    return texts\n",
    "\n",
    "df['review_processed'] = df['review'].apply(process_text)\n",
    "df.head()"
   ]
  },
  {
   "cell_type": "code",
   "execution_count": 60,
   "id": "1f4718f7-5b9f-4389-a1d3-06dd22c41f03",
   "metadata": {},
   "outputs": [
    {
     "name": "stdout",
     "output_type": "stream",
     "text": [
      "ACTUAL\n",
      "Why does it look like someone spit on my food?\n",
      "I had a normal transaction,  everyone was chill and polite, but now i dont want to eat this. Im trying not to think about what this milky white/clear substance is all over my food, i d*** sure am not coming back.\n",
      "PROCESSED\n",
      "Why does it look like someone spit on my food?\n",
      "I had a normal transaction,  everyone was chill and polite, but now i dont want to eat this. Im trying not to think about what this milky white/clear substance is all over my food, i d*** sure am not coming back.\n"
     ]
    }
   ],
   "source": [
    "sample = df['review_processed'].iloc[0]\n",
    "actual = df['review'].iloc[0]\n",
    "\n",
    "print(\"ACTUAL\")\n",
    "print(actual)\n",
    "print(\"PROCESSED\")\n",
    "print(sample)"
   ]
  },
  {
   "cell_type": "markdown",
   "id": "6c1d1004-6df2-4389-8d1c-daf125b8dc38",
   "metadata": {},
   "source": [
    "# Preprocessing"
   ]
  },
  {
   "cell_type": "code",
   "execution_count": 61,
   "id": "3d580e1c-4f6c-42b1-9768-f2651f5643fb",
   "metadata": {},
   "outputs": [],
   "source": [
    "def is_only_number(text):\n",
    "    \n",
    "    pattern = r'^\\d+$'\n",
    "    \n",
    "    if re.search(pattern, text, re.IGNORECASE):\n",
    "        return True\n",
    "    return False"
   ]
  },
  {
   "cell_type": "code",
   "execution_count": 62,
   "id": "d2d70093-af7e-4e85-8985-eb734cd39e6d",
   "metadata": {},
   "outputs": [],
   "source": [
    "def extract_date(x):\n",
    "    # Get current date\n",
    "    current_date = pd.to_datetime(\"today\").date()\n",
    "\n",
    "    offset, period, _ = x.split(\" \")\n",
    "    if is_only_number(offset):\n",
    "        offset = int(offset)\n",
    "    else:\n",
    "        offset = 1\n",
    "\n",
    "    if \"year\" in period:\n",
    "        offset = pd.DateOffset(years=offset)\n",
    "    elif \"month\" in period:\n",
    "        offset = pd.DateOffset(months=offset)\n",
    "    else:\n",
    "        offset = pd.DateOffset(days=offset)\n",
    "\n",
    "    return (current_date - offset).date().strftime('%Y-%m-%d')"
   ]
  },
  {
   "cell_type": "code",
   "execution_count": 63,
   "id": "4d89f976-04d2-49a7-b7ce-9c7e7815eb61",
   "metadata": {},
   "outputs": [],
   "source": [
    "def extract_rating(x):\n",
    "    score = x.split(\" \")[0]\n",
    "    return int(score)"
   ]
  },
  {
   "cell_type": "code",
   "execution_count": 64,
   "id": "dabdc188-e48b-41d2-9ad8-1b6e700ea8b5",
   "metadata": {},
   "outputs": [],
   "source": [
    "df['review_time'] = df['review_time'].apply(extract_date)"
   ]
  },
  {
   "cell_type": "code",
   "execution_count": 65,
   "id": "4344d187-d7bc-40dd-a454-9715a2e0555b",
   "metadata": {},
   "outputs": [],
   "source": [
    "df['rating'] = df['rating'].apply(extract_rating)"
   ]
  },
  {
   "cell_type": "code",
   "execution_count": 66,
   "id": "fbb772bc-acb4-43dc-a776-a8dfab8b88fb",
   "metadata": {},
   "outputs": [
    {
     "name": "stdout",
     "output_type": "stream",
     "text": [
      "<class 'pandas.core.frame.DataFrame'>\n",
      "RangeIndex: 100 entries, 0 to 99\n",
      "Data columns (total 5 columns):\n",
      " #   Column            Non-Null Count  Dtype \n",
      "---  ------            --------------  ----- \n",
      " 0   reviewer_id       100 non-null    int64 \n",
      " 1   review_time       100 non-null    object\n",
      " 2   review            100 non-null    object\n",
      " 3   rating            100 non-null    int64 \n",
      " 4   review_processed  100 non-null    object\n",
      "dtypes: int64(2), object(3)\n",
      "memory usage: 4.0+ KB\n",
      "None\n"
     ]
    },
    {
     "data": {
      "text/html": [
       "<div>\n",
       "<style scoped>\n",
       "    .dataframe tbody tr th:only-of-type {\n",
       "        vertical-align: middle;\n",
       "    }\n",
       "\n",
       "    .dataframe tbody tr th {\n",
       "        vertical-align: top;\n",
       "    }\n",
       "\n",
       "    .dataframe thead th {\n",
       "        text-align: right;\n",
       "    }\n",
       "</style>\n",
       "<table border=\"1\" class=\"dataframe\">\n",
       "  <thead>\n",
       "    <tr style=\"text-align: right;\">\n",
       "      <th></th>\n",
       "      <th>reviewer_id</th>\n",
       "      <th>review_time</th>\n",
       "      <th>review</th>\n",
       "      <th>rating</th>\n",
       "      <th>review_processed</th>\n",
       "    </tr>\n",
       "  </thead>\n",
       "  <tbody>\n",
       "    <tr>\n",
       "      <th>0</th>\n",
       "      <td>1</td>\n",
       "      <td>2024-09-20</td>\n",
       "      <td>Why does it look like someone spit on my food?...</td>\n",
       "      <td>1</td>\n",
       "      <td>Why does it look like someone spit on my food?...</td>\n",
       "    </tr>\n",
       "    <tr>\n",
       "      <th>1</th>\n",
       "      <td>2</td>\n",
       "      <td>2024-12-15</td>\n",
       "      <td>It'd McDonalds. It is what it is as far as the...</td>\n",
       "      <td>4</td>\n",
       "      <td>It'd McDonalds. It is what it is as far as the...</td>\n",
       "    </tr>\n",
       "    <tr>\n",
       "      <th>2</th>\n",
       "      <td>3</td>\n",
       "      <td>2024-12-15</td>\n",
       "      <td>Made a mobile order got to the speaker and che...</td>\n",
       "      <td>1</td>\n",
       "      <td>Made a mobile order got to the speaker and che...</td>\n",
       "    </tr>\n",
       "    <tr>\n",
       "      <th>3</th>\n",
       "      <td>4</td>\n",
       "      <td>2024-11-20</td>\n",
       "      <td>My mc. Crispy chicken sandwich was ÃÂ¯ÃÂ¿ÃÂ...</td>\n",
       "      <td>5</td>\n",
       "      <td>My mc. Crispy chicken sandwich was  customer s...</td>\n",
       "    </tr>\n",
       "    <tr>\n",
       "      <th>4</th>\n",
       "      <td>5</td>\n",
       "      <td>2024-10-20</td>\n",
       "      <td>I repeat my order 3 times in the drive thru, a...</td>\n",
       "      <td>1</td>\n",
       "      <td>I repeat my order 3 times in the drive thru, a...</td>\n",
       "    </tr>\n",
       "  </tbody>\n",
       "</table>\n",
       "</div>"
      ],
      "text/plain": [
       "   reviewer_id review_time                                             review  \\\n",
       "0            1  2024-09-20  Why does it look like someone spit on my food?...   \n",
       "1            2  2024-12-15  It'd McDonalds. It is what it is as far as the...   \n",
       "2            3  2024-12-15  Made a mobile order got to the speaker and che...   \n",
       "3            4  2024-11-20  My mc. Crispy chicken sandwich was ÃÂ¯ÃÂ¿ÃÂ...   \n",
       "4            5  2024-10-20  I repeat my order 3 times in the drive thru, a...   \n",
       "\n",
       "   rating                                   review_processed  \n",
       "0       1  Why does it look like someone spit on my food?...  \n",
       "1       4  It'd McDonalds. It is what it is as far as the...  \n",
       "2       1  Made a mobile order got to the speaker and che...  \n",
       "3       5  My mc. Crispy chicken sandwich was  customer s...  \n",
       "4       1  I repeat my order 3 times in the drive thru, a...  "
      ]
     },
     "execution_count": 66,
     "metadata": {},
     "output_type": "execute_result"
    }
   ],
   "source": [
    "print(df.info())\n",
    "df.head()"
   ]
  },
  {
   "cell_type": "markdown",
   "id": "595e0469-7235-41c8-ab8c-e1965a96319b",
   "metadata": {},
   "source": [
    "# Paraphrasing"
   ]
  },
  {
   "cell_type": "code",
   "execution_count": 67,
   "id": "916a8db0-7889-4f5f-bde8-1c3794813b9f",
   "metadata": {},
   "outputs": [],
   "source": [
    "def process(x):\n",
    "    tokens = word_tokenize(x)\n",
    "    print(\"NUM TOKEN: \", len(tokens))\n",
    "    if len(tokens) > 30:\n",
    "        set_max = int(0.99 * len(tokens))\n",
    "        set_min = int(0.25 * len(tokens))\n",
    "    \n",
    "        return modelBertSum(f\"correct:{x} </s>\", min_length=set_min, max_length=set_max)[0]['summary_text']\n",
    "    return x"
   ]
  },
  {
   "cell_type": "code",
   "execution_count": 68,
   "id": "df750dd9-516e-4c80-9a3a-57e3840e6c2a",
   "metadata": {},
   "outputs": [],
   "source": [
    "# Testing\n",
    "# for i in range(0, 30):\n",
    "#     sample = df['review_processed'].iloc[i]\n",
    "#     print(f\"{i}. \", sample)\n",
    "\n",
    "#     print(\"SUMMARIZE: \")\n",
    "#     print(process(sample))\n",
    "#     print()"
   ]
  },
  {
   "cell_type": "code",
   "execution_count": 69,
   "id": "1152b49d-4c0d-4a88-b0c8-b11b2c48a85d",
   "metadata": {},
   "outputs": [
    {
     "name": "stderr",
     "output_type": "stream",
     "text": [
      "  0%|                                                                                          | 0/100 [00:00<?, ?it/s]"
     ]
    },
    {
     "name": "stdout",
     "output_type": "stream",
     "text": [
      "NUM TOKEN:  60\n"
     ]
    },
    {
     "name": "stderr",
     "output_type": "stream",
     "text": [
      "  2%|█▋                                                                                | 2/100 [00:02<02:22,  1.45s/it]"
     ]
    },
    {
     "name": "stdout",
     "output_type": "stream",
     "text": [
      "NUM TOKEN:  49\n"
     ]
    },
    {
     "name": "stderr",
     "output_type": "stream",
     "text": [
      "  3%|██▍                                                                               | 3/100 [00:04<02:19,  1.44s/it]"
     ]
    },
    {
     "name": "stdout",
     "output_type": "stream",
     "text": [
      "NUM TOKEN:  74\n"
     ]
    },
    {
     "name": "stderr",
     "output_type": "stream",
     "text": [
      "  4%|███▎                                                                              | 4/100 [00:07<03:21,  2.10s/it]"
     ]
    },
    {
     "name": "stdout",
     "output_type": "stream",
     "text": [
      "NUM TOKEN:  13\n",
      "NUM TOKEN:  69\n"
     ]
    },
    {
     "name": "stderr",
     "output_type": "stream",
     "text": [
      "  6%|████▉                                                                             | 6/100 [00:10<02:55,  1.87s/it]"
     ]
    },
    {
     "name": "stdout",
     "output_type": "stream",
     "text": [
      "NUM TOKEN:  47\n"
     ]
    },
    {
     "name": "stderr",
     "output_type": "stream",
     "text": [
      "  7%|█████▋                                                                            | 7/100 [00:12<02:57,  1.91s/it]"
     ]
    },
    {
     "name": "stdout",
     "output_type": "stream",
     "text": [
      "NUM TOKEN:  193\n"
     ]
    },
    {
     "name": "stderr",
     "output_type": "stream",
     "text": [
      "  8%|██████▌                                                                           | 8/100 [00:15<03:12,  2.09s/it]"
     ]
    },
    {
     "name": "stdout",
     "output_type": "stream",
     "text": [
      "NUM TOKEN:  70\n"
     ]
    },
    {
     "name": "stderr",
     "output_type": "stream",
     "text": [
      "  9%|███████▍                                                                          | 9/100 [00:17<03:00,  1.98s/it]"
     ]
    },
    {
     "name": "stdout",
     "output_type": "stream",
     "text": [
      "NUM TOKEN:  38\n"
     ]
    },
    {
     "name": "stderr",
     "output_type": "stream",
     "text": [
      " 10%|████████                                                                         | 10/100 [00:18<02:35,  1.72s/it]"
     ]
    },
    {
     "name": "stdout",
     "output_type": "stream",
     "text": [
      "NUM TOKEN:  121\n"
     ]
    },
    {
     "name": "stderr",
     "output_type": "stream",
     "text": [
      " 11%|████████▉                                                                        | 11/100 [00:19<02:31,  1.70s/it]"
     ]
    },
    {
     "name": "stdout",
     "output_type": "stream",
     "text": [
      "NUM TOKEN:  2\n",
      "NUM TOKEN:  75\n"
     ]
    },
    {
     "name": "stderr",
     "output_type": "stream",
     "text": [
      " 13%|██████████▌                                                                      | 13/100 [00:22<02:05,  1.44s/it]"
     ]
    },
    {
     "name": "stdout",
     "output_type": "stream",
     "text": [
      "NUM TOKEN:  85\n"
     ]
    },
    {
     "name": "stderr",
     "output_type": "stream",
     "text": [
      " 14%|███████████▎                                                                     | 14/100 [00:24<02:14,  1.56s/it]"
     ]
    },
    {
     "name": "stdout",
     "output_type": "stream",
     "text": [
      "NUM TOKEN:  67\n"
     ]
    },
    {
     "name": "stderr",
     "output_type": "stream",
     "text": [
      " 15%|████████████▏                                                                    | 15/100 [00:26<02:38,  1.87s/it]"
     ]
    },
    {
     "name": "stdout",
     "output_type": "stream",
     "text": [
      "NUM TOKEN:  37\n"
     ]
    },
    {
     "name": "stderr",
     "output_type": "stream",
     "text": [
      " 16%|████████████▉                                                                    | 16/100 [00:28<02:22,  1.70s/it]"
     ]
    },
    {
     "name": "stdout",
     "output_type": "stream",
     "text": [
      "NUM TOKEN:  29\n",
      "NUM TOKEN:  58\n"
     ]
    },
    {
     "name": "stderr",
     "output_type": "stream",
     "text": [
      " 18%|██████████████▌                                                                  | 18/100 [00:30<01:59,  1.46s/it]"
     ]
    },
    {
     "name": "stdout",
     "output_type": "stream",
     "text": [
      "NUM TOKEN:  32\n"
     ]
    },
    {
     "name": "stderr",
     "output_type": "stream",
     "text": [
      " 19%|███████████████▍                                                                 | 19/100 [00:31<01:58,  1.46s/it]"
     ]
    },
    {
     "name": "stdout",
     "output_type": "stream",
     "text": [
      "NUM TOKEN:  81\n"
     ]
    },
    {
     "name": "stderr",
     "output_type": "stream",
     "text": [
      " 20%|████████████████▏                                                                | 20/100 [00:34<02:27,  1.84s/it]"
     ]
    },
    {
     "name": "stdout",
     "output_type": "stream",
     "text": [
      "NUM TOKEN:  43\n"
     ]
    },
    {
     "name": "stderr",
     "output_type": "stream",
     "text": [
      " 21%|█████████████████                                                                | 21/100 [00:36<02:25,  1.84s/it]"
     ]
    },
    {
     "name": "stdout",
     "output_type": "stream",
     "text": [
      "NUM TOKEN:  224\n"
     ]
    },
    {
     "name": "stderr",
     "output_type": "stream",
     "text": [
      " 22%|█████████████████▊                                                               | 22/100 [00:39<02:44,  2.12s/it]"
     ]
    },
    {
     "name": "stdout",
     "output_type": "stream",
     "text": [
      "NUM TOKEN:  284\n"
     ]
    },
    {
     "name": "stderr",
     "output_type": "stream",
     "text": [
      " 23%|██████████████████▋                                                              | 23/100 [00:43<03:22,  2.63s/it]"
     ]
    },
    {
     "name": "stdout",
     "output_type": "stream",
     "text": [
      "NUM TOKEN:  22\n",
      "NUM TOKEN:  58\n"
     ]
    },
    {
     "name": "stderr",
     "output_type": "stream",
     "text": [
      " 25%|████████████████████▎                                                            | 25/100 [00:45<02:31,  2.02s/it]"
     ]
    },
    {
     "name": "stdout",
     "output_type": "stream",
     "text": [
      "NUM TOKEN:  6\n",
      "NUM TOKEN:  31\n"
     ]
    },
    {
     "name": "stderr",
     "output_type": "stream",
     "text": [
      " 27%|█████████████████████▊                                                           | 27/100 [00:46<01:44,  1.43s/it]"
     ]
    },
    {
     "name": "stdout",
     "output_type": "stream",
     "text": [
      "NUM TOKEN:  12\n",
      "NUM TOKEN:  1\n",
      "NUM TOKEN:  23\n",
      "NUM TOKEN:  32\n"
     ]
    },
    {
     "name": "stderr",
     "output_type": "stream",
     "text": [
      " 31%|█████████████████████████                                                        | 31/100 [00:48<01:00,  1.14it/s]"
     ]
    },
    {
     "name": "stdout",
     "output_type": "stream",
     "text": [
      "NUM TOKEN:  31\n"
     ]
    },
    {
     "name": "stderr",
     "output_type": "stream",
     "text": [
      " 32%|█████████████████████████▉                                                       | 32/100 [00:49<01:06,  1.02it/s]"
     ]
    },
    {
     "name": "stdout",
     "output_type": "stream",
     "text": [
      "NUM TOKEN:  98\n"
     ]
    },
    {
     "name": "stderr",
     "output_type": "stream",
     "text": [
      " 33%|██████████████████████████▋                                                      | 33/100 [00:53<01:41,  1.51s/it]"
     ]
    },
    {
     "name": "stdout",
     "output_type": "stream",
     "text": [
      "NUM TOKEN:  13\n",
      "NUM TOKEN:  104\n"
     ]
    },
    {
     "name": "stderr",
     "output_type": "stream",
     "text": [
      " 35%|████████████████████████████▎                                                    | 35/100 [00:55<01:27,  1.35s/it]"
     ]
    },
    {
     "name": "stdout",
     "output_type": "stream",
     "text": [
      "NUM TOKEN:  28\n",
      "NUM TOKEN:  45\n"
     ]
    },
    {
     "name": "stderr",
     "output_type": "stream",
     "text": [
      " 37%|█████████████████████████████▉                                                   | 37/100 [00:57<01:15,  1.20s/it]"
     ]
    },
    {
     "name": "stdout",
     "output_type": "stream",
     "text": [
      "NUM TOKEN:  7\n",
      "NUM TOKEN:  11\n",
      "NUM TOKEN:  8\n",
      "NUM TOKEN:  76\n"
     ]
    },
    {
     "name": "stderr",
     "output_type": "stream",
     "text": [
      " 41%|█████████████████████████████████▏                                               | 41/100 [00:59<00:51,  1.16it/s]"
     ]
    },
    {
     "name": "stdout",
     "output_type": "stream",
     "text": [
      "NUM TOKEN:  25\n",
      "NUM TOKEN:  126\n"
     ]
    },
    {
     "name": "stderr",
     "output_type": "stream",
     "text": [
      " 43%|██████████████████████████████████▊                                              | 43/100 [01:03<01:02,  1.10s/it]"
     ]
    },
    {
     "name": "stdout",
     "output_type": "stream",
     "text": [
      "NUM TOKEN:  45\n"
     ]
    },
    {
     "name": "stderr",
     "output_type": "stream",
     "text": [
      " 44%|███████████████████████████████████▋                                             | 44/100 [01:04<01:03,  1.14s/it]"
     ]
    },
    {
     "name": "stdout",
     "output_type": "stream",
     "text": [
      "NUM TOKEN:  26\n",
      "NUM TOKEN:  19\n",
      "NUM TOKEN:  101\n"
     ]
    },
    {
     "name": "stderr",
     "output_type": "stream",
     "text": [
      " 47%|██████████████████████████████████████                                           | 47/100 [01:06<00:52,  1.01it/s]"
     ]
    },
    {
     "name": "stdout",
     "output_type": "stream",
     "text": [
      "NUM TOKEN:  15\n",
      "NUM TOKEN:  75\n"
     ]
    },
    {
     "name": "stderr",
     "output_type": "stream",
     "text": [
      " 49%|███████████████████████████████████████▋                                         | 49/100 [01:09<00:52,  1.02s/it]"
     ]
    },
    {
     "name": "stdout",
     "output_type": "stream",
     "text": [
      "NUM TOKEN:  62\n"
     ]
    },
    {
     "name": "stderr",
     "output_type": "stream",
     "text": [
      " 50%|████████████████████████████████████████▌                                        | 50/100 [01:11<01:01,  1.22s/it]"
     ]
    },
    {
     "name": "stdout",
     "output_type": "stream",
     "text": [
      "NUM TOKEN:  228\n"
     ]
    },
    {
     "name": "stderr",
     "output_type": "stream",
     "text": [
      " 51%|█████████████████████████████████████████▎                                       | 51/100 [01:14<01:20,  1.64s/it]"
     ]
    },
    {
     "name": "stdout",
     "output_type": "stream",
     "text": [
      "NUM TOKEN:  32\n"
     ]
    },
    {
     "name": "stderr",
     "output_type": "stream",
     "text": [
      " 52%|██████████████████████████████████████████                                       | 52/100 [01:16<01:15,  1.57s/it]"
     ]
    },
    {
     "name": "stdout",
     "output_type": "stream",
     "text": [
      "NUM TOKEN:  56\n"
     ]
    },
    {
     "name": "stderr",
     "output_type": "stream",
     "text": [
      " 53%|██████████████████████████████████████████▉                                      | 53/100 [01:17<01:11,  1.52s/it]"
     ]
    },
    {
     "name": "stdout",
     "output_type": "stream",
     "text": [
      "NUM TOKEN:  40\n"
     ]
    },
    {
     "name": "stderr",
     "output_type": "stream",
     "text": [
      " 54%|███████████████████████████████████████████▋                                     | 54/100 [01:19<01:10,  1.53s/it]"
     ]
    },
    {
     "name": "stdout",
     "output_type": "stream",
     "text": [
      "NUM TOKEN:  49\n"
     ]
    },
    {
     "name": "stderr",
     "output_type": "stream",
     "text": [
      " 55%|████████████████████████████████████████████▌                                    | 55/100 [01:20<01:03,  1.41s/it]"
     ]
    },
    {
     "name": "stdout",
     "output_type": "stream",
     "text": [
      "NUM TOKEN:  15\n",
      "NUM TOKEN:  4\n",
      "NUM TOKEN:  67\n"
     ]
    },
    {
     "name": "stderr",
     "output_type": "stream",
     "text": [
      " 58%|██████████████████████████████████████████████▉                                  | 58/100 [01:22<00:43,  1.02s/it]"
     ]
    },
    {
     "name": "stdout",
     "output_type": "stream",
     "text": [
      "NUM TOKEN:  95\n"
     ]
    },
    {
     "name": "stderr",
     "output_type": "stream",
     "text": [
      " 59%|███████████████████████████████████████████████▊                                 | 59/100 [01:24<00:51,  1.24s/it]"
     ]
    },
    {
     "name": "stdout",
     "output_type": "stream",
     "text": [
      "NUM TOKEN:  95\n"
     ]
    },
    {
     "name": "stderr",
     "output_type": "stream",
     "text": [
      " 60%|████████████████████████████████████████████████▌                                | 60/100 [01:27<01:04,  1.61s/it]"
     ]
    },
    {
     "name": "stdout",
     "output_type": "stream",
     "text": [
      "NUM TOKEN:  16\n",
      "NUM TOKEN:  74\n"
     ]
    },
    {
     "name": "stderr",
     "output_type": "stream",
     "text": [
      " 62%|██████████████████████████████████████████████████▏                              | 62/100 [01:29<00:52,  1.38s/it]"
     ]
    },
    {
     "name": "stdout",
     "output_type": "stream",
     "text": [
      "NUM TOKEN:  54\n"
     ]
    },
    {
     "name": "stderr",
     "output_type": "stream",
     "text": [
      " 63%|███████████████████████████████████████████████████                              | 63/100 [01:31<00:57,  1.56s/it]"
     ]
    },
    {
     "name": "stdout",
     "output_type": "stream",
     "text": [
      "NUM TOKEN:  198\n"
     ]
    },
    {
     "name": "stderr",
     "output_type": "stream",
     "text": [
      " 64%|███████████████████████████████████████████████████▊                             | 64/100 [01:34<01:07,  1.86s/it]"
     ]
    },
    {
     "name": "stdout",
     "output_type": "stream",
     "text": [
      "NUM TOKEN:  43\n"
     ]
    },
    {
     "name": "stderr",
     "output_type": "stream",
     "text": [
      " 65%|████████████████████████████████████████████████████▋                            | 65/100 [01:35<01:02,  1.80s/it]"
     ]
    },
    {
     "name": "stdout",
     "output_type": "stream",
     "text": [
      "NUM TOKEN:  50\n"
     ]
    },
    {
     "name": "stderr",
     "output_type": "stream",
     "text": [
      " 66%|█████████████████████████████████████████████████████▍                           | 66/100 [01:38<01:04,  1.89s/it]"
     ]
    },
    {
     "name": "stdout",
     "output_type": "stream",
     "text": [
      "NUM TOKEN:  161\n"
     ]
    },
    {
     "name": "stderr",
     "output_type": "stream",
     "text": [
      " 67%|██████████████████████████████████████████████████████▎                          | 67/100 [01:40<01:05,  2.00s/it]"
     ]
    },
    {
     "name": "stdout",
     "output_type": "stream",
     "text": [
      "NUM TOKEN:  3\n",
      "NUM TOKEN:  64\n"
     ]
    },
    {
     "name": "stderr",
     "output_type": "stream",
     "text": [
      " 69%|███████████████████████████████████████████████████████▉                         | 69/100 [01:41<00:44,  1.45s/it]"
     ]
    },
    {
     "name": "stdout",
     "output_type": "stream",
     "text": [
      "NUM TOKEN:  85\n"
     ]
    },
    {
     "name": "stderr",
     "output_type": "stream",
     "text": [
      " 70%|████████████████████████████████████████████████████████▋                        | 70/100 [01:43<00:45,  1.51s/it]"
     ]
    },
    {
     "name": "stdout",
     "output_type": "stream",
     "text": [
      "NUM TOKEN:  61\n"
     ]
    },
    {
     "name": "stderr",
     "output_type": "stream",
     "text": [
      " 71%|█████████████████████████████████████████████████████████▌                       | 71/100 [01:46<00:52,  1.82s/it]"
     ]
    },
    {
     "name": "stdout",
     "output_type": "stream",
     "text": [
      "NUM TOKEN:  58\n"
     ]
    },
    {
     "name": "stderr",
     "output_type": "stream",
     "text": [
      " 72%|██████████████████████████████████████████████████████████▎                      | 72/100 [01:48<00:55,  2.00s/it]"
     ]
    },
    {
     "name": "stdout",
     "output_type": "stream",
     "text": [
      "NUM TOKEN:  54\n"
     ]
    },
    {
     "name": "stderr",
     "output_type": "stream",
     "text": [
      " 73%|███████████████████████████████████████████████████████████▏                     | 73/100 [01:51<00:58,  2.17s/it]"
     ]
    },
    {
     "name": "stdout",
     "output_type": "stream",
     "text": [
      "NUM TOKEN:  92\n"
     ]
    },
    {
     "name": "stderr",
     "output_type": "stream",
     "text": [
      " 74%|███████████████████████████████████████████████████████████▉                     | 74/100 [01:54<01:00,  2.34s/it]"
     ]
    },
    {
     "name": "stdout",
     "output_type": "stream",
     "text": [
      "NUM TOKEN:  90\n"
     ]
    },
    {
     "name": "stderr",
     "output_type": "stream",
     "text": [
      " 75%|████████████████████████████████████████████████████████████▊                    | 75/100 [01:55<00:53,  2.15s/it]"
     ]
    },
    {
     "name": "stdout",
     "output_type": "stream",
     "text": [
      "NUM TOKEN:  59\n"
     ]
    },
    {
     "name": "stderr",
     "output_type": "stream",
     "text": [
      " 76%|█████████████████████████████████████████████████████████████▌                   | 76/100 [01:58<00:53,  2.23s/it]"
     ]
    },
    {
     "name": "stdout",
     "output_type": "stream",
     "text": [
      "NUM TOKEN:  97\n"
     ]
    },
    {
     "name": "stderr",
     "output_type": "stream",
     "text": [
      " 77%|██████████████████████████████████████████████████████████████▎                  | 77/100 [02:00<00:49,  2.15s/it]"
     ]
    },
    {
     "name": "stdout",
     "output_type": "stream",
     "text": [
      "NUM TOKEN:  40\n"
     ]
    },
    {
     "name": "stderr",
     "output_type": "stream",
     "text": [
      " 78%|███████████████████████████████████████████████████████████████▏                 | 78/100 [02:01<00:44,  2.04s/it]"
     ]
    },
    {
     "name": "stdout",
     "output_type": "stream",
     "text": [
      "NUM TOKEN:  21\n",
      "NUM TOKEN:  22\n",
      "NUM TOKEN:  22\n",
      "NUM TOKEN:  112\n"
     ]
    },
    {
     "name": "stderr",
     "output_type": "stream",
     "text": [
      " 82%|██████████████████████████████████████████████████████████████████▍              | 82/100 [02:04<00:20,  1.16s/it]"
     ]
    },
    {
     "name": "stdout",
     "output_type": "stream",
     "text": [
      "NUM TOKEN:  49\n"
     ]
    },
    {
     "name": "stderr",
     "output_type": "stream",
     "text": [
      " 83%|███████████████████████████████████████████████████████████████████▏             | 83/100 [02:06<00:21,  1.28s/it]"
     ]
    },
    {
     "name": "stdout",
     "output_type": "stream",
     "text": [
      "NUM TOKEN:  60\n"
     ]
    },
    {
     "name": "stderr",
     "output_type": "stream",
     "text": [
      " 84%|████████████████████████████████████████████████████████████████████             | 84/100 [02:08<00:22,  1.38s/it]"
     ]
    },
    {
     "name": "stdout",
     "output_type": "stream",
     "text": [
      "NUM TOKEN:  62\n"
     ]
    },
    {
     "name": "stderr",
     "output_type": "stream",
     "text": [
      " 85%|████████████████████████████████████████████████████████████████████▊            | 85/100 [02:10<00:22,  1.52s/it]"
     ]
    },
    {
     "name": "stdout",
     "output_type": "stream",
     "text": [
      "NUM TOKEN:  26\n",
      "NUM TOKEN:  89\n"
     ]
    },
    {
     "name": "stderr",
     "output_type": "stream",
     "text": [
      " 87%|██████████████████████████████████████████████████████████████████████▍          | 87/100 [02:13<00:20,  1.56s/it]"
     ]
    },
    {
     "name": "stdout",
     "output_type": "stream",
     "text": [
      "NUM TOKEN:  27\n",
      "NUM TOKEN:  42\n"
     ]
    },
    {
     "name": "stderr",
     "output_type": "stream",
     "text": [
      " 89%|████████████████████████████████████████████████████████████████████████         | 89/100 [02:15<00:14,  1.32s/it]"
     ]
    },
    {
     "name": "stdout",
     "output_type": "stream",
     "text": [
      "NUM TOKEN:  84\n"
     ]
    },
    {
     "name": "stderr",
     "output_type": "stream",
     "text": [
      " 90%|████████████████████████████████████████████████████████████████████████▉        | 90/100 [02:17<00:16,  1.61s/it]"
     ]
    },
    {
     "name": "stdout",
     "output_type": "stream",
     "text": [
      "NUM TOKEN:  87\n"
     ]
    },
    {
     "name": "stderr",
     "output_type": "stream",
     "text": [
      " 91%|█████████████████████████████████████████████████████████████████████████▋       | 91/100 [02:20<00:16,  1.83s/it]"
     ]
    },
    {
     "name": "stdout",
     "output_type": "stream",
     "text": [
      "NUM TOKEN:  72\n"
     ]
    },
    {
     "name": "stderr",
     "output_type": "stream",
     "text": [
      " 92%|██████████████████████████████████████████████████████████████████████████▌      | 92/100 [02:23<00:17,  2.13s/it]"
     ]
    },
    {
     "name": "stdout",
     "output_type": "stream",
     "text": [
      "NUM TOKEN:  164\n"
     ]
    },
    {
     "name": "stderr",
     "output_type": "stream",
     "text": [
      " 93%|███████████████████████████████████████████████████████████████████████████▎     | 93/100 [02:25<00:15,  2.19s/it]"
     ]
    },
    {
     "name": "stdout",
     "output_type": "stream",
     "text": [
      "NUM TOKEN:  79\n"
     ]
    },
    {
     "name": "stderr",
     "output_type": "stream",
     "text": [
      " 94%|████████████████████████████████████████████████████████████████████████████▏    | 94/100 [02:27<00:12,  2.08s/it]"
     ]
    },
    {
     "name": "stdout",
     "output_type": "stream",
     "text": [
      "NUM TOKEN:  86\n"
     ]
    },
    {
     "name": "stderr",
     "output_type": "stream",
     "text": [
      " 95%|████████████████████████████████████████████████████████████████████████████▉    | 95/100 [02:30<00:10,  2.19s/it]"
     ]
    },
    {
     "name": "stdout",
     "output_type": "stream",
     "text": [
      "NUM TOKEN:  67\n"
     ]
    },
    {
     "name": "stderr",
     "output_type": "stream",
     "text": [
      " 96%|█████████████████████████████████████████████████████████████████████████████▊   | 96/100 [02:32<00:09,  2.26s/it]"
     ]
    },
    {
     "name": "stdout",
     "output_type": "stream",
     "text": [
      "NUM TOKEN:  177\n"
     ]
    },
    {
     "name": "stderr",
     "output_type": "stream",
     "text": [
      " 97%|██████████████████████████████████████████████████████████████████████████████▌  | 97/100 [02:34<00:06,  2.25s/it]"
     ]
    },
    {
     "name": "stdout",
     "output_type": "stream",
     "text": [
      "NUM TOKEN:  64\n"
     ]
    },
    {
     "name": "stderr",
     "output_type": "stream",
     "text": [
      " 98%|███████████████████████████████████████████████████████████████████████████████▍ | 98/100 [02:36<00:04,  2.13s/it]"
     ]
    },
    {
     "name": "stdout",
     "output_type": "stream",
     "text": [
      "NUM TOKEN:  30\n",
      "NUM TOKEN:  12\n",
      "NUM TOKEN:  49\n"
     ]
    },
    {
     "name": "stderr",
     "output_type": "stream",
     "text": [
      "100%|████████████████████████████████████████████████████████████████████████████████| 100/100 [02:38<00:00,  1.59s/it]\n"
     ]
    }
   ],
   "source": [
    "tqdm.pandas()\n",
    "# df['review_processed'] = df['review_processed'].progress_apply(lambda x: modelBertSum(f\"correct: {x}</s>\")[0]['summary_text'])\n",
    "df['review_processed'] = df['review_processed'].progress_apply(lambda x: process(x))"
   ]
  },
  {
   "cell_type": "markdown",
   "id": "69cc6fcf-435d-46ed-af51-c901bd51d207",
   "metadata": {},
   "source": [
    "# Save Data"
   ]
  },
  {
   "cell_type": "code",
   "execution_count": 73,
   "id": "e1c96d2e-651a-4bdd-952f-900894ddf59b",
   "metadata": {
    "scrolled": true
   },
   "outputs": [
    {
     "data": {
      "text/plain": [
       "{0: {'reviewer_id': 1,\n",
       "  'review_time': '2024-09-20',\n",
       "  'rating': 1,\n",
       "  'review': 'Why does it look like someone spit on my food?\\nI had a normal transaction,  everyone was chill and polite, but now i dont want to eat this. Im trying not to think about what this milky white/clear substance is all over my food, i d*** sure am not coming back.',\n",
       "  'review_processed': \"I had a normal transaction, but now I don't want to eat this. I'm trying not to think about what this milky white/clear substance is all over my food, and I'm sure I'm not coming back.\"},\n",
       " 1: {'reviewer_id': 2,\n",
       "  'review_time': '2024-12-15',\n",
       "  'rating': 4,\n",
       "  'review': \"It'd McDonalds. It is what it is as far as the food and atmosphere go. The staff here does make a difference. They are all friendly, accommodating and always smiling. Makes for a more pleasant experience than many other fast food places.\",\n",
       "  'review_processed': \"It's what it is as far as the food and atmosphere go. The staff are friendly, accommodating, and always smiling.\"},\n",
       " 2: {'reviewer_id': 3,\n",
       "  'review_time': '2024-12-15',\n",
       "  'rating': 1,\n",
       "  'review': 'Made a mobile order got to the speaker and checked it in.\\nLine was not moving so I had to leave otherwise IÃ\\x83Â¯Ã\\x82Â¿Ã\\x82Â½Ã\\x83Â¯Ã\\x82Â¿Ã\\x82Â½Ã\\x83Â¯Ã\\x82Â¿Ã\\x82Â½Ã\\x83Â¯Ã\\x82Â¿Ã\\x82Â½Ã\\x83Â¯Ã\\x82Â¿Ã\\x82Â½Ã\\x83Â¯Ã\\x82Â¿Ã\\x82Â½Ã\\x83Â¯Ã\\x82Â¿Ã\\x82Â½Ã\\x83Â¯Ã\\x82Â¿Ã\\x82Â½Ã\\x83Â¯Ã\\x82Â¿Ã\\x82Â½Ã\\x83Â¯Ã\\x82Â¿Ã\\x82Â½Ã\\x83Â¯Ã\\x82Â¿Ã\\x82Â½Ã\\x83Â¯Ã\\x82Â¿Ã\\x82Â½Ã\\x83Â¯Ã\\x82Â¿Ã\\x82Â½Ã\\x83Â¯Ã\\x82Â¿Ã\\x82Â½Ã\\x83Â¯Ã\\x82Â¿Ã\\x82Â½Ã\\x83Â¯Ã\\x82Â¿Ã\\x82Â½Ã\\x83Â¯Ã\\x82Â¿Ã\\x82Â½Ã\\x83Â¯Ã\\x82Â¿Ã\\x82Â½Ã\\x83Â¯Ã\\x82Â¿Ã\\x82Â½Ã\\x83Â¯Ã\\x82Â¿Ã\\x82Â½Ã\\x83Â¯Ã\\x82Â¿Ã\\x82Â½Ã\\x83Â¯Ã\\x82Â¿Ã\\x82Â½Ã\\x83Â¯Ã\\x82Â¿Ã\\x82Â½Ã\\x83Â¯Ã\\x82Â¿Ã\\x82Â½Ã\\x83Â¯Ã\\x82Â¿Ã\\x82Â½Ã\\x83Â¯Ã\\x82Â¿Ã\\x82Â½Ã\\x83Â¯Ã\\x82Â¿Ã\\x82Â½d be late for work.\\nNever got the refund in the app.\\nI called them and they said I could only get my money back in person because it was stuck in the system.\\nWent there in person the next day  and the manager told me she wasnÃ\\x83Â¯Ã\\x82Â¿',\n",
       "  'review_processed': 'I made a mobile order got to the speaker and checked it in, but the line was not moving, so I had to leave. I never got the refund in the app. I called them and they said I could only get my money back in person because it was stuck in the system.'},\n",
       " 3: {'reviewer_id': 4,\n",
       "  'review_time': '2024-11-20',\n",
       "  'rating': 5,\n",
       "  'review': 'My mc. Crispy chicken sandwich was Ã\\x83Â¯Ã\\x82Â¿Ã\\x82Â½Ã\\x83Â¯Ã\\x82Â¿Ã\\x82Â½Ã\\x83Â¯Ã\\x82Â¿Ã\\x82Â½Ã\\x83Â¯Ã\\x82Â¿Ã\\x82Â½Ã\\x83Â¯Ã\\x82Â¿Ã\\x82Â½Ã\\x83Â¯Ã\\x82Â¿Ã\\x82Â½Ã\\x83Â¯Ã\\x82Â¿Ã\\x82Â½Ã\\x83Â¯Ã\\x82Â¿Ã\\x82Â½Ã\\x83Â¯Ã\\x82Â¿Ã\\x82Â½Ã\\x83Â¯Ã\\x82Â¿Ã\\x82Â½Ã\\x83Â¯Ã\\x82Â¿Ã\\x82Â½Ã\\x83Â¯Ã\\x82Â¿Ã\\x82Â½Ã\\x83Â¯Ã\\x82Â¿Ã\\x82Â½Ã\\x83Â¯Ã\\x82Â¿Ã\\x82Â½Ã\\x83Â¯Ã\\x82Â¿Ã\\x82Â½Ã\\x83Â¯Ã\\x82Â¿Ã\\x82Â½Ã\\x83Â¯Ã\\x82Â¿Ã\\x82Â½Ã\\x83Â¯Ã\\x82Â¿Ã\\x82Â½Ã\\x83Â¯Ã\\x82Â¿Ã\\x82Â½Ã\\x83Â¯Ã\\x82Â¿Ã\\x82Â½Ã\\x83Â¯Ã\\x82Â¿Ã\\x82Â½Ã\\x83Â¯Ã\\x82Â¿Ã\\x82Â½Ã\\x83Â¯Ã\\x82Â¿Ã\\x82Â½Ã\\x83Â¯Ã\\x82Â¿Ã\\x82Â½Ã\\x83Â¯Ã\\x82Â¿Ã\\x82Â½Ã\\x83Â¯Ã\\x82Â¿Ã\\x82Â½Ã\\x83Â¯Ã\\x82Â¿Ã\\x82Â½Ã\\x83Â¯Ã\\x82Â¿Ã\\x82Â½Ã\\x83Â¯Ã\\x82Â¿Ã\\x82Â½Ã\\x83Â¯Ã\\x82Â¿Ã\\x82Â½Ã\\x83Â¯Ã\\x82Â¿Ã\\x82Â½Ã\\x83Â¯Ã\\x82Â¿Ã\\x82Â½Ã\\x83Â¯Ã\\x82Â¿Ã\\x82Â½Ã\\x83Â¯Ã\\x82Â¿Ã\\x82Â½Ã\\x83Â¯Ã\\x82Â¿Ã\\x82Â½Ã\\x83Â¯Ã\\x82Â¿Ã\\x82Â½ customer service was quick and p',\n",
       "  'review_processed': 'My mc. Crispy chicken sandwich was  customer service was quick and p'},\n",
       " 4: {'reviewer_id': 5,\n",
       "  'review_time': '2024-10-20',\n",
       "  'rating': 1,\n",
       "  'review': 'I repeat my order 3 times in the drive thru, and she still manage to mess it up , it was suppose to be a large meal double filet of fish with large fries , no cheese . It was all wrong , they either need to pay close attention to the order being made , understand English or they need not to work at a drive thru',\n",
       "  'review_processed': 'I repeat my order three times in the drive thru, and she still manages to mess it up. It was suppose to be a large meal double filet of fish with large fries, but it was all wrong. They either need to pay close attention to the order being made, or they need not to work at a drive'},\n",
       " 5: {'reviewer_id': 6,\n",
       "  'review_time': '2024-12-17',\n",
       "  'rating': 1,\n",
       "  'review': \"I work for door dash and they locked us all out to wait in a long line for no reason at 10. I tried to beg them to open it because I'm door dash and they refused.  Covid is over get a new job\",\n",
       "  'review_processed': \"I work for door dash and they locked us all out to wait in a long line for no reason at 10. I tried to beg them to open it because I'm door dash, but they refused.\"},\n",
       " 6: {'reviewer_id': 7,\n",
       "  'review_time': '2024-09-20',\n",
       "  'rating': 1,\n",
       "  'review': 'If I  could give this location a zero on customer service, I  would. Pulled into drive through at 8:07 and placed a simple order. I order a regular hamburg and cookies. Once I paid and pulled up to the window to pick up, I  was told to pull up to the #1 space. I sat there and sat there and.........25 minutes later, no order. I  went in and no one was at the counter. I yelled \"hello\" three times. A young lady came up asking who was handling the front counter. A young girl appeared. To make this complaint shorter, I  showed my receipt and another 5 minutes later I got my order. There was another order with a drink sitting on the counter that never got to the person who ordered it. After getting home, I  had no regular hamburg but had cookies. Everyone, don\\'t even bother going to this location again. It\\'s a horrible experience every time as you can see by other reviews.',\n",
       "  'review_processed': \"If I could give this location a zero on customer service, I would. It's a horrible experience every time as you can see by other reviews. After getting home, I had no regular hamburg but had cookies. Don't even bother going to this location again.\"},\n",
       " 7: {'reviewer_id': 8,\n",
       "  'review_time': '2023-12-20',\n",
       "  'rating': 1,\n",
       "  'review': 'Came in and ordered a Large coffee w/no ice. They handed me a cup that was less than half way full. I asked the employee, Flor, if they could give me a Large coffee w/no ice and she said no. I was willing to pay more to get a full cup of coffee. I always get a large sweet tea w/no ice and itÃ\\x83Â¯Ã\\x82Â¿Ã\\x82Â½Ã\\x83Â¯Ã\\x82Â¿Ã\\x82Â½Ã\\x83Â¯Ã\\x82Â¿Ã\\x82Â½Ã\\x83Â¯Ã\\x82Â¿Ã\\x82Â½Ã\\x83Â¯Ã\\x82Â¿Ã\\x82Â½Ã\\x83Â¯Ã\\x82Â¿Ã\\x82Â½Ã\\x83Â¯Ã\\x82Â¿Ã\\x82Â½',\n",
       "  'review_processed': 'I asked the employee if they could give me a Large coffee w/no ice and she said no. I always get a large sweet tea with no ice and it always tastes good.'},\n",
       " 8: {'reviewer_id': 9,\n",
       "  'review_time': '2024-09-20',\n",
       "  'rating': 1,\n",
       "  'review': 'Went thru drive thru. Ordered. Getting home noticed my 10 piece nuggets where missing. Tried calling the restaurant and nothing. The lady gave me a hard time about extra sauce. Very unhappy .....',\n",
       "  'review_processed': 'My 10 pieces of chicken were missing. The restaurant gave me a hard time about extra sauce.'},\n",
       " 9: {'reviewer_id': 10,\n",
       "  'review_time': '2024-09-20',\n",
       "  'rating': 4,\n",
       "  'review': \"I'm not really a huge fan of fast food, but I have 2 teenage daughter's who enjoy McDs. The staff here is always friendly and ALWAYS get their orders correct. By far one of the best McDs I have ever been to. I always enjoy and appreciate quality service from quality people... and you'll definitely find it here. At least from the evening crew. Haven't been here during the day. My girls joke that I go here so often to get them food, that the staff is going to end up knowing me and having their order ready to go. Lmao Great people and excellent service. Ã\\x83Â¯Ã\\x82Â¿Ã\\x82Â½Ã\\x83Â¯\",\n",
       "  'review_processed': \"I'm not a huge fan of fast food, but I have two teenage daughters who enjoy McDonald's. The staff at McD's are always friendly and always get their orders correct.\"},\n",
       " 10: {'reviewer_id': 11,\n",
       "  'review_time': '2024-09-20',\n",
       "  'rating': 1,\n",
       "  'review': 'Worst McDonaldÃ\\x83Â¯Ã\\x82Â¿Ã\\x82Â½Ã\\x83Â¯Ã\\x82Â¿Ã\\x82Â½Ã\\x83Â¯Ã\\x82Â¿Ã\\x82Â½Ã\\x83Â¯Ã\\x82Â¿Ã\\x82Â½Ã\\x83Â¯Ã\\x82Â¿Ã\\x82Â½Ã\\x83Â¯Ã\\x82Â¿Ã\\x82Â½Ã\\x83Â¯Ã\\x82Â¿Ã\\x82Â½Ã\\x83Â¯Ã\\x82Â¿Ã\\x82Â½Ã\\x83Â¯Ã\\x82Â¿Ã\\x82Â½Ã\\x83Â¯Ã\\x82Â¿Ã\\x82Â½Ã\\x83Â¯Ã\\x82Â¿Ã\\x82Â½Ã\\x83Â¯Ã\\x82Â¿Ã\\x82Â½Ã\\x83Â¯Ã\\x82Â¿Ã\\x82Â½Ã\\x83Â¯Ã\\x82Â¿Ã\\x82Â½Ã\\x83Â¯Ã\\x82Â¿Ã\\x82Â½Ã\\x83Â¯Ã\\x82Â¿Ã\\x82Â½Ã\\x83Â¯Ã\\x82Â¿Ã\\x82Â½Ã\\x83Â¯Ã\\x82Â¿Ã\\x82Â½Ã\\x83Â¯Ã\\x82Â¿Ã\\x82Â½Ã\\x83Â¯Ã\\x82Â¿Ã\\x82Â½Ã\\x83Â¯Ã\\x82Â¿Ã\\x82Â½Ã\\x83Â¯Ã\\x82Â¿Ã\\x82Â½Ã\\x83Â¯Ã\\x82Â¿',\n",
       "  'review_processed': 'Worst McDonald'},\n",
       " 11: {'reviewer_id': 12,\n",
       "  'review_time': '2024-06-20',\n",
       "  'rating': 2,\n",
       "  'review': 'We stopped by for a quick breakfast.  It was not crowded inside, but there was a pretty long drive thru.\\n\\nOur order was supposed to have 3 food items and 2 drinks. They missed a food item. The lady ignored me when I told her.\\n\\nMy husband went to get it, she finished her task then handed it to him without a word or smile or anything.',\n",
       "  'review_processed': 'Our order was supposed to have 3 food items and 2 drinks, but they missed a food item. The lady ignored me when I told her. My husband went to get it, she finished her task then handed it to him without a word or a smile.'},\n",
       " 12: {'reviewer_id': 13,\n",
       "  'review_time': '2024-06-20',\n",
       "  'rating': 1,\n",
       "  'review': \"The morning crew seems fast and efficient. Night crew is a whole different experience, lines down the street, hour long waits. If this was a one time occurrence it wouldn't be so bad but this is a nightly problem. Beyond this the staff is so highly rude you leave wanting to crash your car through the building. Don't forget they will mistake your order almost every single time as well and serve it to you cold.\",\n",
       "  'review_processed': 'The morning crew seems fast and efficient. Night crew is a whole different experience, lines down the street, and hour long waits. The staff is so highly rude you leave wanting to crash your car through the building.'},\n",
       " 13: {'reviewer_id': 14,\n",
       "  'review_time': '2023-12-20',\n",
       "  'rating': 3,\n",
       "  'review': 'Today, i was disappointed in that restaurant #11853 did not get me my FULL order, meaning I did not receive my condiments for my big breakfast with hot cakes. No butter, no syrup, and no utensils. Luckily this was a hiccup and not a regular thing. Oh, and the egg was half the size of the sausage.',\n",
       "  'review_processed': 'I was disappointed that the restaurant did not get me my full order, meaning I did not receive my condiments for my big breakfast with hot cakes. No butter, no syrup, and no utensils. Oh, and the egg was half the size of the sausage.'},\n",
       " 14: {'reviewer_id': 15,\n",
       "  'review_time': '2024-07-20',\n",
       "  'rating': 1,\n",
       "  'review': 'Ordered food burger wrong and left out part of the order also. One of the drink cup lid not fattened. Poor service girl handing order at window on January 7, 2023 at 1pm.',\n",
       "  'review_processed': 'Ordered food wrong and left out part of the order also. One of the drink cups were not filled properly.'},\n",
       " 15: {'reviewer_id': 16,\n",
       "  'review_time': '2024-10-20',\n",
       "  'rating': 2,\n",
       "  'review': 'This was a dine in experience. The tables were all dirty & we did not get our food after waiting 35 minutes. Chicken sandwich was burnt.',\n",
       "  'review_processed': 'This was a dine in experience. The tables were all dirty & we did not get our food after waiting 35 minutes. Chicken sandwich was burnt.'},\n",
       " 16: {'reviewer_id': 17,\n",
       "  'review_time': '2023-12-20',\n",
       "  'rating': 4,\n",
       "  'review': 'The line wS extremely big and was moving very slowly, plus they were out of apple pies and strawberry cream pies, but they gave me substitute cinnabun, the staff was very apologetic for being slow & they were out of pies, but it was middle of the night and they were extremely under-staffed.',\n",
       "  'review_processed': 'The line was extremely big and was moving very slowly, plus they were out of apples and strawberries, but they gave me a substitute cookie. The staff were very apologetic for being slow and understaffed.'},\n",
       " 17: {'reviewer_id': 18,\n",
       "  'review_time': '2024-10-20',\n",
       "  'rating': 1,\n",
       "  'review': 'The boy who attended me made me wait and when he saw that the drink was wrong he threw the bag of food at me with a grimace. So disappointed!',\n",
       "  'review_processed': 'The boy who attended me made me wait, and when he saw that the drink was wrong he threw the bag of food at me with a'},\n",
       " 18: {'reviewer_id': 19,\n",
       "  'review_time': '2024-05-20',\n",
       "  'rating': 1,\n",
       "  'review': 'I am not happy at all today I went and bought 4 Strawberry Banana smoothies and and 2 hash browns and my smoothies tasted like straight ice and water smh. And I am very disappointed in there service my smoothie should never taste like that never especially the fact I bought it for not only me but my kids. I need someone to contact me from corporate or something. I am not happy at all waste of moneyÃ\\x83Â¯Ã\\x82Â¿Ã\\x82Â½',\n",
       "  'review_processed': 'I went and bought 4 Strawberry Banana smoothies and and 2 hash browns and my smoothies tasted like straight ice and water. I am very disappointed in there service my smoothie should never taste like that never especially the fact I bought it for not only me but my kids. I need someone to contact me from corporate or something.'},\n",
       " 19: {'reviewer_id': 20,\n",
       "  'review_time': '2024-05-20',\n",
       "  'rating': 4,\n",
       "  'review': 'The staff seems to always be different which makes ordering sometimes a little difficult because they are in a state of perpetual learning which can also lead to waiting a bit longer but the lobby is always clean as well as the bathrooms',\n",
       "  'review_processed': 'The staff seems to always be different, which makes ordering sometimes a little difficult because they are in a state of perpetual learning. The lobby is always clean as well as the bathrooms.'},\n",
       " 20: {'reviewer_id': 21,\n",
       "  'review_time': '2024-02-20',\n",
       "  'rating': 1,\n",
       "  'review': \"Can't believe experience with order taker. Went from drive thru and employee directly asks what do you want. He keeps rushing while taking order with no other cars placing order. We wanted to add one more item and asked for a minute. He keeps asking what else. When I said we are ready - no response. There were no other car placing order that time either. I told again we are ready. responded after a pause. Again what do you want... excuse me.. who talks to customers like this ??\\nI asked for his name to put a review and he flat out denied. I asked for receipt before handing my credit card. He swipes it and returns back my card. I m waiting for a receipt with my family in the car. He starts inputing another order on his tablet. Waited for sometime and then I waive my hand several times. He opens window and said you can get receipt from next window. Excuse me ??\\nWent to next window - picked up food, asked for Manager and got his name JAMAR. My receipt states 08/06/2022 7:20pm Order 05\\nI didn't want to complain but this was intolerable.\",\n",
       "  'review_processed': \"Can't believe experience with order taker. Went from drive thru and employee directly asked what do you want. He kept rushing while taking order with no other cars placing order. I asked for his name to put a review and he flat out denied. I didn't want to complain but this was intolerable.\"},\n",
       " 21: {'reviewer_id': 22,\n",
       "  'review_time': '2020-12-20',\n",
       "  'rating': 1,\n",
       "  'review': \"Meh.. just meh. When I finally get the correct order, it is generally tasty. I'm a picky eater, and have found ways to navigate the menu to get items I like. Worked in the service industry for years as a server, bartender, and trainer. Taking and fulfilling orders is NOT hard, tedious at times though. I only go here when I see they are not busy, in hope that my order is correct when I go to leave. In the 10 times that I have been here in the past past year, I have only had 1 order that was perfectly correct. Just ONE, not an exaggeration. That one order was just 2 large fries and nothing else. Though I will mention that when I got home and pulled them out of the bag, they were hardly what you'd call filled, (nor did I enjoy any on the 3 minute drive home) so little so that I even sent a picture and post to McDonald's on Facebook, at least the few were hot. The evening staff is very pleasant, but the morning staff leaves a lot to be desired, as well as thinking that they can talk negatively about people in Spanish out in the open which, being a light skinned Puerto Rican, I understand perfectly. I have submitted several complaints and NEVER received a call or email back. I just don't go here anymore to avoid the stress of paying money for something that is most likely wrong.\",\n",
       "  'review_processed': \"I only go here when they are not busy, in hope that my order is correct when I go to leave. In the 10 times that I have been here in the past past year, I have only had one order that was perfectly correct. I have submitted several complaints and never received a call or email back. I just don't go here anymore to avoid the stress of paying money for something that is most likely wrong.\"},\n",
       " 22: {'reviewer_id': 23,\n",
       "  'review_time': '2024-11-20',\n",
       "  'rating': 2,\n",
       "  'review': 'Just needed caffeine. The staff at the drive thru just shoved the drink in my hands. Not very professional.',\n",
       "  'review_processed': 'Just needed caffeine. The staff at the drive thru just shoved the drink in my hands. Not very professional.'},\n",
       " 23: {'reviewer_id': 24,\n",
       "  'review_time': '2024-04-20',\n",
       "  'rating': 1,\n",
       "  'review': 'This is consistently the worst meal you will pay for. Microwaved nuggets, cold fries and a 30 minute wait. What more can you ask for? Dont go here ever! Your better off going hungry or giving the meal you payed for to the homeless by the donation box behind the drive thru.',\n",
       "  'review_processed': \"Microwaved nuggets, cold fries and a 30 minute wait? What more can you ask for? Don't go there ever! Your better off going hungry or giving the meal you paid for to the homeless by the donation box behind the drive thru.\"},\n",
       " 24: {'reviewer_id': 25,\n",
       "  'review_time': '2024-08-20',\n",
       "  'rating': 1,\n",
       "  'review': 'DidnÃ\\x83Â¯Ã\\x82Â¿Ã\\x82Â½Ã\\x83Â¯Ã\\x82Â¿Ã\\x82Â½Ã\\x83Â¯Ã\\x82Â¿Ã\\x82Â½Ã\\x83Â¯Ã\\x82Â¿Ã\\x82Â½Ã\\x83Â¯Ã\\x82Â¿Ã\\x82Â½Ã\\x83Â¯Ã\\x82Â¿Ã\\x82Â½Ã\\x83Â¯Ã\\x82Â¿Ã\\x82Â½Ã\\x83Â¯Ã\\x82Â¿Ã\\x82Â½Ã\\x83Â¯Ã\\x82Â¿Ã\\x82Â½Ã\\x83Â¯Ã\\x82Â¿Ã\\x82Â½Ã\\x83Â¯Ã\\x82Â¿Ã\\x82Â½Ã\\x83Â¯Ã\\x82Â¿Ã\\x82Â½Ã\\x83Â¯Ã\\x82Â¿Ã\\x82Â½Ã\\x83Â¯Ã\\x82Â¿Ã\\x82Â½Ã\\x83Â¯Ã\\x82Â¿Ã\\x82Â½Ã\\x83Â¯Ã\\x82Â¿Ã\\x82Â½Ã\\x83Â¯Ã\\x82Â¿Ã\\x82Â½Ã\\x83Â¯Ã\\x82Â¿Ã\\x82Â½Ã\\x83Â¯Ã\\x82Â¿Ã\\x82Â½Ã\\x83Â¯Ã\\x82Â¿Ã\\x82Â½Ã\\x83Â¯Ã\\x82Â¿Ã\\x82Â½Ã\\x83Â¯Ã\\x82Â¿Ã\\x82Â½Ã\\x83Â¯Ã\\x82Â¿Ã\\x82Â½Ã\\x83Â¯Ã\\x82Â¿Ã\\x82Â½Ã\\x83Â¯Ã\\x82Â¿Ã\\x82Â½Ã\\x83Â¯Ã\\x82Â¿Ã\\x82Â½Ã\\x83Â¯Ã\\x82Â¿Ã\\x82Â½t take card. But didnÃ\\x83Â¯Ã\\x82Â¿Ã\\x82Â½Ã\\x83Â¯Ã\\x82Â¿Ã\\x82Â½Ã\\x83Â¯Ã\\x82Â¿Ã\\x82Â½Ã\\x83Â¯Ã\\x82Â¿Ã\\x82Â½Ã\\x83Â¯Ã\\x82Â¿Ã\\x82Â½Ã\\x83Â¯Ã\\x82Â¿Ã\\x82Â½Ã\\x83Â¯Ã\\x82Â¿Ã\\x82Â½Ã\\x83Â¯Ã\\x82Â¿Ã\\x82Â½Ã\\x83Â¯Ã\\x82Â¿Ã\\x82Â½Ã\\x83Â¯Ã\\x82Â¿',\n",
       "  'review_processed': 'Didnt take card. But didn'},\n",
       " 25: {'reviewer_id': 26,\n",
       "  'review_time': '2024-06-20',\n",
       "  'rating': 1,\n",
       "  'review': 'McDonaldÃ\\x83Â¯Ã\\x82Â¿Ã\\x82Â½Ã\\x83Â¯Ã\\x82Â¿Ã\\x82Â½Ã\\x83Â¯Ã\\x82Â¿Ã\\x82Â½Ã\\x83Â¯Ã\\x82Â¿Ã\\x82Â½Ã\\x83Â¯Ã\\x82Â¿Ã\\x82Â½Ã\\x83Â¯Ã\\x82Â¿Ã\\x82Â½Ã\\x83Â¯Ã\\x82Â¿Ã\\x82Â½Ã\\x83Â¯Ã\\x82Â¿Ã\\x82Â½Ã\\x83Â¯Ã\\x82Â¿Ã\\x82Â½Ã\\x83Â¯Ã\\x82Â¿Ã\\x82Â½Ã\\x83Â¯Ã\\x82Â¿Ã\\x82Â½Ã\\x83Â¯Ã\\x82Â¿Ã\\x82Â½Ã\\x83Â¯Ã\\x82Â¿Ã\\x82Â½Ã\\x83Â¯Ã\\x82Â¿Ã\\x82Â½Ã\\x83Â¯Ã\\x82Â¿Ã\\x82Â½Ã\\x83Â¯Ã\\x82Â¿Ã\\x82Â½Ã\\x83Â¯Ã\\x82Â¿Ã\\x82Â½Ã\\x83Â¯Ã\\x82Â¿Ã\\x82Â½Ã\\x83Â¯Ã\\x82Â¿Ã\\x82Â½Ã\\x83Â¯Ã\\x82Â¿Ã\\x82Â½Ã\\x83Â¯Ã\\x82Â¿Ã\\x82Â½Ã\\x83Â¯Ã\\x82Â¿Ã\\x82Â½Ã\\x83Â¯Ã\\x82Â¿Ã\\x82Â½Ã\\x83Â¯Ã\\x82Â¿Ã\\x82Â½Ã\\x83Â¯Ã\\x82Â¿Ã\\x82Â½Ã\\x83Â¯Ã\\x82Â¿Ã\\x82Â½Ã\\x83Â¯Ã\\x82Â¿Ã\\x82Â½s is proud to own the most broken ice cream machines on the planet. When I asked at the drive through if they had ice cream the lady replied Ã\\x83Â¯Ã\\x82Â¿Ã\\x82Â½Ã\\x83Â¯Ã\\x82Â¿Ã\\x82Â½Ã\\x83Â¯Ã\\x82Â¿Ã\\x82Â½Ã\\x83Â¯Ã\\x82Â¿Ã\\x82Â½Ã\\x83Â¯Ã\\x82Â¿Ã\\x82Â½Ã\\x83Â¯Ã\\x82Â¿Ã\\x82Â½Ã\\x83Â¯Ã\\x82Â¿Ã\\x82Â½Ã\\x83Â¯Ã\\x82Â¿Ã\\x82Â½Ã\\x83Â¯Ã\\x82Â¿Ã\\x82Â½Ã\\x83Â¯Ã\\x82Â¿Ã\\x82Â½Ã\\x83Â¯Ã\\x82Â¿Ã\\x82Â½Ã\\x83Â¯Ã\\x82Â¿Ã\\x82Â½Ã\\x83Â¯Ã\\x82Â¿Ã\\x82Â½Ã\\x83Â¯Ã\\x82Â¿Ã\\x82Â½Ã\\x83Â¯Ã\\x82Â¿Ã\\x82Â½Ã\\x83Â¯Ã\\x82Â¿Ã\\x82Â½Ã\\x83Â¯Ã\\x82Â¿Ã\\x82Â½Ã\\x83Â¯Ã\\x82Â¿Ã\\x82Â½Ã\\x83Â¯Ã\\x82Â¿Ã\\x82Â½Ã\\x83Â¯Ã\\x82Â¿Ã\\x82Â½Ã\\x83Â¯Ã\\x82Â¿Ã\\x82Â½Ã\\x83Â¯Ã\\x82Â¿Ã\\x82Â½Ã\\x83Â¯Ã\\x82Â¿Ã\\x82Â½Ã\\x83Â¯Ã\\x82Â¿Ã\\x82Â½Ã\\x83Â¯Ã\\x82Â¿Ã\\x82Â½Ã\\x83Â¯Ã\\x82Â¿Ã\\x82Â½Ã\\x83Â¯Ã\\x82Â¿Ã\\x82Â½naÃ\\x83Â¯Ã\\x82Â¿Ã\\x82Â½Ã\\x83Â¯Ã\\x82Â¿Ã\\x82Â½Ã\\x83Â¯Ã\\x82Â¿Ã\\x82Â½Ã\\x83Â¯Ã\\x82Â¿Ã\\x82Â½Ã\\x83Â¯Ã\\x82Â¿Ã\\x82Â½Ã\\x83Â¯Ã\\x82Â¿Ã\\x82Â½Ã\\x83Â¯Ã\\x82Â¿Ã\\x82Â½Ã\\x83Â¯Ã\\x82Â¿Ã\\x82Â½Ã\\x83Â¯Ã\\x82Â¿Ã\\x82Â½Ã\\x83Â¯Ã\\x82Â¿Ã\\x82Â½Ã\\x83Â¯Ã\\x82Â¿Ã\\x82Â½Ã\\x83Â¯Ã\\x82Â¿Ã\\x82Â½Ã\\x83Â¯Ã\\x82Â¿Ã\\x82Â½Ã\\x83Â¯Ã\\x82Â¿Ã\\x82Â½Ã\\x83Â¯Ã\\x82Â¿Ã\\x82Â½Ã\\x83Â¯Ã\\x82Â¿Ã\\x82Â½Ã\\x83Â¯Ã\\x82Â¿Ã\\x82Â½Ã\\x83Â¯',\n",
       "  'review_processed': \"McDonald's is proud to own the most broken ice cream machines on the planet.\"},\n",
       " 26: {'reviewer_id': 27,\n",
       "  'review_time': '2024-11-20',\n",
       "  'rating': 4,\n",
       "  'review': 'With all the new upgrades everything looks great and clean great staff',\n",
       "  'review_processed': 'With all the new upgrades everything looks great and clean great staff'},\n",
       " 27: {'reviewer_id': 28,\n",
       "  'review_time': '2024-11-20',\n",
       "  'rating': 2,\n",
       "  'review': 'DoesnÃ\\x83Â¯Ã\\x82Â¿Ã\\x82Â½Ã\\x83Â¯Ã\\x82Â¿Ã\\x82Â½Ã\\x83Â¯Ã\\x82Â¿Ã\\x82Â½Ã\\x83Â¯Ã\\x82Â¿Ã\\x82Â½Ã\\x83Â¯Ã\\x82Â¿Ã\\x82Â½Ã\\x83Â¯Ã\\x82Â¿Ã\\x82Â½Ã\\x83Â¯Ã\\x82Â¿Ã\\x82Â½Ã\\x83Â¯Ã\\x82Â¿Ã\\x82Â½Ã\\x83Â¯Ã\\x82Â¿Ã\\x82Â½Ã\\x83Â¯Ã\\x82Â¿Ã\\x82Â½Ã\\x83Â¯Ã\\x82Â¿Ã\\x82Â½Ã\\x83Â¯Ã\\x82Â¿Ã\\x82Â½Ã\\x83Â¯Ã\\x82Â¿Ã\\x82Â½Ã\\x83Â¯Ã\\x82Â¿Ã\\x82Â½Ã\\x83Â¯Ã\\x82Â¿Ã\\x82Â½Ã\\x83Â¯Ã\\x82Â¿Ã\\x82Â½Ã\\x83Â¯Ã\\x82Â¿Ã\\x82Â½Ã\\x83Â¯Ã\\x82Â¿Ã\\x82Â½Ã\\x83Â¯Ã\\x82Â¿Ã\\x82Â½Ã\\x83Â¯Ã\\x82Â¿Ã\\x82Â½Ã\\x83Â¯Ã\\x82Â¿Ã\\x82Â½Ã\\x83Â¯Ã\\x82Â¿Ã\\x82Â½Ã\\x83Â¯Ã\\x82Â¿Ã\\x82Â½Ã\\x83Â¯Ã\\x82Â¿',\n",
       "  'review_processed': 'Doesn'},\n",
       " 28: {'reviewer_id': 29,\n",
       "  'review_time': '2024-09-20',\n",
       "  'rating': 1,\n",
       "  'review': \"Yet another McDonald's with horrible service and lazy employees. I mean c'mon do they intentionally hire unqualified people???\",\n",
       "  'review_processed': \"Yet another McDonald's with horrible service and lazy employees. I mean c'mon do they intentionally hire unqualified people???\"},\n",
       " 29: {'reviewer_id': 30,\n",
       "  'review_time': '2021-12-20',\n",
       "  'rating': 1,\n",
       "  'review': 'First and last time I go to this location. Look at my receipt and what I got. ThatÃ\\x83Â¯Ã\\x82Â¿Ã\\x82Â½Ã\\x83Â¯Ã\\x82Â¿Ã\\x82Â½Ã\\x83Â¯Ã\\x82Â¿Ã\\x82Â½Ã\\x83Â¯Ã\\x82Â¿Ã\\x82Â½Ã\\x83Â¯Ã\\x82Â¿Ã\\x82Â½Ã\\x83Â¯Ã\\x82Â¿Ã\\x82Â½Ã\\x83Â¯Ã\\x82Â¿Ã\\x82Â½Ã\\x83Â¯Ã\\x82Â¿Ã\\x82Â½Ã\\x83Â¯Ã\\x82Â¿Ã\\x82Â½Ã\\x83Â¯Ã\\x82Â¿Ã\\x82Â½Ã\\x83Â¯Ã\\x82Â¿Ã\\x82Â½Ã\\x83Â¯Ã\\x82Â¿Ã\\x82Â½Ã\\x83Â¯Ã\\x82Â¿Ã\\x82Â½Ã\\x83Â¯Ã\\x82Â¿Ã\\x82Â½Ã\\x83Â¯Ã\\x82Â¿Ã\\x82Â½Ã\\x83Â¯Ã\\x82Â¿Ã\\x82Â½Ã\\x83Â¯Ã\\x82Â¿Ã\\x82Â½Ã\\x83Â¯Ã\\x82Â¿Ã\\x82Â½Ã\\x83Â¯Ã\\x82Â¿Ã\\x82Â½Ã\\x83Â¯Ã\\x82Â¿Ã\\x82Â½Ã\\x83Â¯Ã\\x82Â¿Ã\\x82Â½Ã\\x83Â¯Ã\\x82Â¿Ã\\x82Â½Ã\\x83Â¯Ã\\x82Â¿Ã\\x82Â½Ã\\x83Â¯Ã\\x82Â¿Ã\\x82Â½Ã\\x83Â¯Ã\\x82Â¿Ã\\x82Â½Ã\\x83Â¯Ã\\x82Â¿Ã\\x82Â½Ã\\x83Â¯Ã\\x82Â¿Ã\\x82Â½s a plain sausage biscuit plus a double quarter pounder. I didnÃ\\x83Â¯Ã\\x82Â¿Ã\\x82Â½Ã\\x83Â¯Ã\\x82Â¿Ã\\x82Â½Ã\\x83Â¯Ã\\x82Â¿Ã\\x82Â½Ã\\x83Â¯Ã\\x82Â¿Ã\\x82Â½Ã\\x83Â¯Ã\\x82Â¿Ã\\x82Â½Ã\\x83Â¯Ã\\x82Â¿Ã\\x82Â½Ã\\x83Â¯Ã\\x82Â¿Ã\\x82Â½Ã\\x83Â¯Ã\\x82Â¿Ã\\x82Â½Ã\\x83Â¯Ã\\x82Â¿Ã\\x82Â½Ã\\x83Â¯Ã\\x82Â¿Ã\\x82Â½Ã\\x83Â¯Ã\\x82Â¿Ã\\x82Â½Ã\\x83Â¯Ã\\x82Â¿Ã\\x82Â½Ã\\x83Â¯Ã\\x82Â¿Ã\\x82Â½Ã\\x83Â¯Ã\\x82Â¿Ã\\x82Â½Ã\\x83Â¯Ã\\x82Â¿Ã\\x82Â½Ã\\x83Â¯Ã\\x82Â¿Ã\\x82Â½Ã\\x83Â¯Ã\\x82Â¿Ã\\x82Â½',\n",
       "  'review_processed': \"First and last time I went to this location. Look at my receipt and what I got. That's a plain sausage biscuit\"},\n",
       " 30: {'reviewer_id': 31,\n",
       "  'review_time': '2022-12-20',\n",
       "  'rating': 1,\n",
       "  'review': '(Sarcasm) this was exactly what I ordered! A 20 minute wait in the drive through for a room temperature caramel mocha that was less than 2/3 full!',\n",
       "  'review_processed': 'A 20 minute wait in the drive through for a room temperature caramel mocha that was less than 2/3 full!'},\n",
       " 31: {'reviewer_id': 32,\n",
       "  'review_time': '2024-03-20',\n",
       "  'rating': 2,\n",
       "  'review': \"This location is wack.\\nThey will literally stop taking orders and make people sit in the parking lot for like 12 minutes until 3:00 a.m. so that they don't get to order dinner food anymore.\\nWe have gone multiple times right after leaving the pinballz arcade just to sit in the parking lot in the Drive-Thru line waiting while they do nothing but wait for the order menu to change over.\\nLook McDonald's if I wanted a breakfast deluxe I wouldn't have shown up at 2:30 in the morning thank you.\",\n",
       "  'review_processed': \"They will stop taking orders and make people sit in the parking lot for 12 minutes until 3 a.m. so that they don't get to order dinner. We have gone multiple times right after leaving the pinball arcade just to wait in the drive-thru line waiting while they do nothing but wait for the order menu to change.\"},\n",
       " 32: {'reviewer_id': 33,\n",
       "  'review_time': '2023-12-20',\n",
       "  'rating': 1,\n",
       "  'review': 'They did not honor there advertised price. This is extra pickles.',\n",
       "  'review_processed': 'They did not honor there advertised price. This is extra pickles.'},\n",
       " 33: {'reviewer_id': 34,\n",
       "  'review_time': '2023-12-20',\n",
       "  'rating': 1,\n",
       "  'review': \"Just spent 10 minutes waiting at this McDonald's . According to Google they're open 24/7. Finally we pull up to the window to see if anyone was there, sure enough one employee seated in the lobby and another at the window. She told me they were closed. Whoever these two are they need to be replaced. Get it together McDonald's. You're a corporate power house and you have a reputation to keep. One of the most unprofessional experiences I've ever had with fast food. 0/10 would not recomend this location.\",\n",
       "  'review_processed': \"Just spent 10 minutes waiting at this McDonald's. According to Google they're open 24/7. One employee seated in the lobby and another at the window. Whoever these two are, they need to be replaced.\"},\n",
       " 34: {'reviewer_id': 35,\n",
       "  'review_time': '2024-02-20',\n",
       "  'rating': 2,\n",
       "  'review': 'We hit it off pretty good in the beginning everything was great but that didnÃ\\x83Â¯Ã\\x82Â¿Ã\\x82Â½Ã\\x83Â¯Ã\\x82Â¿Ã\\x82Â½Ã\\x83Â¯Ã\\x82Â¿Ã\\x82Â½Ã\\x83Â¯Ã\\x82Â¿Ã\\x82Â½Ã\\x83Â¯Ã\\x82Â¿Ã\\x82Â½Ã\\x83Â¯Ã\\x82Â¿Ã\\x82Â½Ã\\x83Â¯Ã\\x82Â¿Ã\\x82Â½Ã\\x83Â¯Ã\\x82Â¿Ã\\x82Â½Ã\\x83Â¯Ã\\x82Â¿Ã\\x82Â½Ã\\x83Â¯Ã\\x82Â¿Ã\\x82Â½Ã\\x83Â¯Ã\\x82Â¿Ã\\x82Â½Ã\\x83Â¯Ã\\x82Â¿Ã\\x82Â½Ã\\x83Â¯Ã\\x82Â¿Ã\\x82Â½Ã\\x83Â¯Ã\\x82Â¿Ã\\x82Â½Ã\\x83Â¯Ã\\x82Â¿Ã\\x82Â½Ã\\x83Â¯Ã\\x82Â¿Ã\\x82Â½Ã\\x83Â¯Ã\\x82Â¿Ã\\x82Â½Ã\\x83Â¯Ã\\x82Â¿Ã\\x82Â½Ã\\x83Â¯Ã\\x82Â¿Ã\\x82Â½Ã\\x83Â¯Ã\\x82Â¿Ã\\x82Â½Ã\\x83Â¯Ã\\x82Â¿Ã\\x82Â½Ã\\x83Â¯Ã\\x82Â¿Ã\\x82Â½Ã\\x83Â¯Ã\\x82Â¿Ã\\x82Â½Ã\\x83Â¯Ã\\x82Â¿Ã\\x82Â½Ã\\x83Â¯Ã\\x82Â¿Ã\\x82Â½Ã\\x83Â¯Ã\\x82Â¿Ã\\x82Â½Ã\\x83Â¯Ã\\x82Â¿Ã\\x82Â½t last long. I mean the service is fast but with attitude an',\n",
       "  'review_processed': 'We hit it off pretty good in the beginning everything was great but that didnt last long. I mean the service is fast but with attitude an'},\n",
       " 35: {'reviewer_id': 36,\n",
       "  'review_time': '2023-12-20',\n",
       "  'rating': 1,\n",
       "  'review': 'This location is a horrible store to work for. The General Manger Omar Delgado  doesnÃ\\x83Â¯Ã\\x82Â¿Ã\\x82Â½Ã\\x83Â¯Ã\\x82Â¿Ã\\x82Â½Ã\\x83Â¯Ã\\x82Â¿Ã\\x82Â½Ã\\x83Â¯Ã\\x82Â¿Ã\\x82Â½Ã\\x83Â¯Ã\\x82Â¿Ã\\x82Â½Ã\\x83Â¯Ã\\x82Â¿Ã\\x82Â½Ã\\x83Â¯Ã\\x82Â¿Ã\\x82Â½Ã\\x83Â¯Ã\\x82Â¿Ã\\x82Â½Ã\\x83Â¯Ã\\x82Â¿Ã\\x82Â½Ã\\x83Â¯Ã\\x82Â¿Ã\\x82Â½Ã\\x83Â¯Ã\\x82Â¿Ã\\x82Â½Ã\\x83Â¯Ã\\x82Â¿Ã\\x82Â½Ã\\x83Â¯Ã\\x82Â¿Ã\\x82Â½Ã\\x83Â¯Ã\\x82Â¿Ã\\x82Â½Ã\\x83Â¯Ã\\x82Â¿Ã\\x82Â½Ã\\x83Â¯Ã\\x82Â¿Ã\\x82Â½Ã\\x83Â¯Ã\\x82Â¿Ã\\x82Â½Ã\\x83Â¯Ã\\x82Â¿Ã\\x82Â½Ã\\x83Â¯Ã\\x82Â¿Ã\\x82Â½Ã\\x83Â¯Ã\\x82Â¿Ã\\x82Â½Ã\\x83Â¯Ã\\x82Â¿Ã\\x82Â½Ã\\x83Â¯Ã\\x82Â¿Ã\\x82Â½Ã\\x83Â¯Ã\\x82Â¿Ã\\x82Â½Ã\\x83Â¯Ã\\x82Â¿Ã\\x82Â½Ã\\x83Â¯Ã\\x82Â¿Ã\\x82Â½Ã\\x83Â¯Ã\\x82Â¿Ã\\x82Â½Ã\\x83Â¯Ã\\x82Â¿Ã\\x82Â½t know how to run a store efficiently. The Supervisor, Eduardo doesnÃ\\x83Â¯Ã\\x82Â¿Ã\\x82Â½Ã\\x83Â¯Ã\\x82Â¿Ã\\x82Â½Ã\\x83Â¯Ã\\x82Â¿Ã\\x82Â½Ã\\x83Â¯Ã\\x82Â¿Ã\\x82Â½Ã\\x83Â¯Ã\\x82Â¿Ã\\x82Â½Ã\\x83Â¯Ã\\x82Â¿Ã\\x82Â½Ã\\x83Â¯Ã\\x82Â¿Ã\\x82Â½Ã\\x83Â¯Ã\\x82Â¿Ã\\x82Â½Ã\\x83Â¯Ã\\x82Â¿Ã\\x82Â½Ã\\x83Â¯Ã\\x82Â¿Ã\\x82Â½Ã\\x83Â¯Ã\\x82Â¿Ã\\x82Â½Ã\\x83Â¯Ã\\x82Â¿Ã\\x82Â½Ã\\x83Â¯Ã\\x82Â¿Ã\\x82Â½Ã\\x83Â¯Ã\\x82Â¿Ã\\x82Â½Ã\\x83Â¯Ã\\x82Â¿Ã\\x82Â½Ã\\x83Â¯Ã\\x82Â¿Ã\\x82Â½Ã\\x83Â¯Ã\\x82Â¿Ã\\x82Â½Ã\\x83Â¯Ã\\x82Â¿Ã\\x82Â½Ã\\x83Â¯Ã\\x82Â¿Ã\\x82Â½Ã\\x83Â¯Ã\\x82Â¿Ã\\x82Â½Ã\\x83Â¯Ã\\x82Â¿Ã\\x82Â½Ã\\x83Â¯Ã\\x82Â¿Ã\\x82Â½Ã\\x83Â¯Ã\\x82Â¿Ã\\x82Â½Ã\\x83Â¯Ã\\x82Â¿Ã\\x82Â½Ã\\x83Â¯Ã\\x82Â¿Ã\\x82Â½Ã\\x83Â¯Ã\\x82Â¿Ã\\x82Â½Ã\\x83Â¯Ã\\x82Â¿Ã\\x82Â½t care how itÃ\\x83Â¯Ã\\x82Â¿Ã\\x82Â½Ã\\x83Â¯Ã\\x82Â¿Ã\\x82Â½Ã\\x83Â¯Ã\\x82Â¿Ã\\x82Â½Ã\\x83Â¯Ã\\x82Â¿Ã\\x82Â½Ã\\x83Â¯Ã\\x82Â¿Ã\\x82Â½Ã\\x83Â¯Ã\\x82Â¿Ã\\x82Â½Ã\\x83Â¯Ã\\x82Â¿Ã\\x82Â½Ã\\x83Â¯Ã\\x82Â¿Ã\\x82Â½Ã\\x83Â¯Ã\\x82Â¿Ã\\x82Â½Ã\\x83Â¯Ã\\x82Â¿Ã\\x82Â½Ã\\x83Â¯Ã\\x82Â¿Ã\\x82Â½Ã\\x83Â¯Ã\\x82Â¿Ã\\x82Â½Ã\\x83Â¯Ã\\x82Â¿Ã\\x82Â½Ã\\x83Â¯Ã\\x82Â¿Ã\\x82Â½Ã\\x83Â¯Ã\\x82Â¿Ã\\x82Â½Ã\\x83Â¯Ã\\x82Â¿Ã\\x82Â½Ã\\x83Â¯Ã\\x82Â¿Ã\\x82Â½Ã\\x83Â¯Ã\\x82Â¿Ã\\x82Â½Ã\\x83Â¯Ã\\x82Â¿Ã\\x82Â½Ã\\x83Â¯Ã\\x82Â¿Ã\\x82Â½Ã\\x83Â¯Ã\\x82Â¿Ã\\x82Â½Ã\\x83Â¯Ã\\x82Â¿Ã\\x82Â½Ã\\x83Â¯Ã\\x82Â¿Ã\\x82Â½Ã\\x83Â¯Ã\\x82Â¿Ã\\x82Â½Ã\\x83Â¯Ã\\x82Â¿Ã\\x82Â½Ã\\x83Â¯Ã\\x82Â¿Ã\\x82Â½Ã\\x83Â¯Ã\\x82Â¿Ã\\x82Â½s ran either.  As someone who used to work here at the Manger ',\n",
       "  'review_processed': \"This location is a horrible store to work for. The General Manger doesn't know how to run a store efficiently. The Supervisor, Eduardo, doesn't care how its ran either.\"},\n",
       " 36: {'reviewer_id': 37,\n",
       "  'review_time': '2024-05-20',\n",
       "  'rating': 1,\n",
       "  'review': 'This is 3rd time I got this Ã\\x83Â¯Ã\\x82Â¿Ã\\x82Â½Ã\\x83Â¯Ã\\x82Â¿Ã\\x82Â½Ã\\x83Â¯Ã\\x82Â¿Ã\\x82Â½Ã\\x83Â¯Ã\\x82Â¿Ã\\x82Â½Ã\\x83Â¯Ã\\x82Â¿Ã\\x82Â½Ã\\x83Â¯Ã\\x82Â¿Ã\\x82Â½Ã\\x83Â¯Ã\\x82Â¿Ã\\x82Â½Ã\\x83Â¯Ã\\x82Â¿Ã\\x82Â½Ã\\x83Â¯Ã\\x82Â¿Ã\\x82Â½Ã\\x83Â¯Ã\\x82Â¿Ã\\x82Â½Ã\\x83Â¯Ã\\x82Â¿Ã\\x82Â½Ã\\x83Â¯Ã\\x82Â¿Ã\\x82Â½Ã\\x83Â¯Ã\\x82Â¿Ã\\x82Â½Ã\\x83Â¯',\n",
       "  'review_processed': 'This is 3rd time I got this '},\n",
       " 37: {'reviewer_id': 38,\n",
       "  'review_time': '2024-08-20',\n",
       "  'rating': 5,\n",
       "  'review': 'The staff are very friendly and they do their job perfectly',\n",
       "  'review_processed': 'The staff are very friendly and they do their job perfectly'},\n",
       " 38: {'reviewer_id': 39,\n",
       "  'review_time': '2024-09-20',\n",
       "  'rating': 5,\n",
       "  'review': 'Awesome service! Food hot!  Best ever',\n",
       "  'review_processed': 'Awesome service! Food hot!  Best ever'},\n",
       " 39: {'reviewer_id': 40,\n",
       "  'review_time': '2024-03-20',\n",
       "  'rating': 1,\n",
       "  'review': 'Went through the drive through ordered a large fry and two chicken deluxe sandwiches\\nGot to the pay window and the read it back as two spicey chicken sandwiches\\nI restated that I wanted the deluxe crispy chicken sandwich\\nThey said they would fix it after having to pay a second time for the lettuce and tomatoÃ\\x83Â¯Ã\\x82Â¿Ã\\x82Â½Ã\\x83Â¯Ã\\x82Â¿Ã\\x82Â½Ã\\x83Â¯Ã\\x82Â¿Ã\\x82Â½Ã\\x83Â¯Ã\\x82Â¿Ã\\x82Â½Ã\\x83Â¯Ã\\x82Â¿Ã\\x82Â½Ã\\x83Â¯Ã\\x82Â¿Ã\\x82Â½Ã\\x83Â¯Ã\\x82Â¿Ã\\x82Â½Ã\\x83Â¯Ã\\x82Â¿Ã\\x82Â½Ã\\x83Â¯Ã\\x82Â¿Ã\\x82Â½Ã\\x83Â¯Ã\\x82Â¿Ã\\x82Â½Ã\\x83Â¯Ã\\x82Â¿Ã\\x82Â½Ã\\x83Â¯Ã\\x82Â¿Ã\\x82Â½Ã\\x83Â¯Ã\\x82Â¿Ã\\x82Â½Ã\\x83Â¯Ã\\x82Â¿Ã\\x82Â½Ã\\x83Â¯Ã\\x82Â¿Ã\\x82Â½Ã\\x83Â¯Ã\\x82Â¿Ã\\x82Â½Ã\\x83Â¯Ã\\x82Â¿Ã\\x82Â½Ã\\x83Â¯Ã\\x82Â¿Ã\\x82Â½Ã\\x83Â¯Ã\\x82Â¿Ã\\x82Â½Ã\\x83Â¯Ã\\x82Â¿Ã\\x82Â½Ã\\x83Â¯Ã\\x82Â¿Ã\\x82Â½Ã\\x83Â¯Ã\\x82Â¿Ã\\x82Â½Ã\\x83Â¯Ã\\x82Â¿Ã\\x82Â½Ã\\x83Â¯Ã\\x82Â¿Ã\\x82Â½Ã\\x83Â¯Ã\\x82Â¿Ã\\x82Â½Ã\\x83Â¯Ã\\x82Â¿Ã\\x82Â½Ã\\x83Â¯Ã\\x82Â¿Ã\\x82Â½ then when I got the order it was still a spicey chicken sandwich INSIDE a deluxe crispy chicken b',\n",
       "  'review_processed': 'I ordered a large fry and two chicken sandwiches, but they read it back as two spicey chicken sandwiches. They said they would fix it after having to pay a second time for the lettuce and tomato.'},\n",
       " 40: {'reviewer_id': 41,\n",
       "  'review_time': '2024-01-20',\n",
       "  'rating': 1,\n",
       "  'review': 'If you didnÃ\\x83Â¯Ã\\x82Â¿Ã\\x82Â½Ã\\x83Â¯Ã\\x82Â¿Ã\\x82Â½Ã\\x83Â¯Ã\\x82Â¿Ã\\x82Â½Ã\\x83Â¯Ã\\x82Â¿Ã\\x82Â½Ã\\x83Â¯Ã\\x82Â¿Ã\\x82Â½Ã\\x83Â¯Ã\\x82Â¿Ã\\x82Â½Ã\\x83Â¯Ã\\x82Â¿Ã\\x82Â½Ã\\x83Â¯Ã\\x82Â¿Ã\\x82Â½Ã\\x83Â¯Ã\\x82Â¿Ã\\x82Â½Ã\\x83Â¯Ã\\x82Â¿Ã\\x82Â½Ã\\x83Â¯Ã\\x82Â¿Ã\\x82Â½Ã\\x83Â¯Ã\\x82Â¿Ã\\x82Â½Ã\\x83Â¯Ã\\x82Â¿Ã\\x82Â½Ã\\x83Â¯Ã\\x82Â¿Ã\\x82Â½Ã\\x83Â¯Ã\\x82Â¿Ã\\x82Â½Ã\\x83Â¯Ã\\x82Â¿Ã\\x82Â½Ã\\x83Â¯Ã\\x82Â¿Ã\\x82Â½Ã\\x83Â¯Ã\\x82Â¿Ã\\x82Â½Ã\\x83Â¯Ã\\x82Â¿Ã\\x82Â½Ã\\x83Â¯Ã\\x82Â¿Ã\\x82Â½Ã\\x83Â¯Ã\\x82Â¿Ã\\x82Â½Ã\\x83Â¯Ã\\x82Â¿Ã\\x82Â½Ã\\x83Â¯Ã\\x82Â¿Ã\\x82Â½Ã\\x83Â¯Ã\\x82Â¿Ã\\x82Â½Ã\\x83Â¯Ã\\x82Â¿Ã\\x82Â½Ã\\x83Â¯Ã\\x82Â¿Ã\\x82Â½Ã\\x83Â¯Ã\\x82Â¿Ã\\x82Â½t take 15 minutes to take a few orders IÃ\\x83Â¯Ã\\x82Â¿Ã\\x82Â½Ã\\x83Â¯Ã\\x82Â¿Ã\\x82Â½Ã\\x83Â¯Ã\\x82Â¿Ã\\x82Â½Ã\\x83Â¯Ã\\x82Â¿Ã\\x82Â½Ã\\x83Â¯Ã\\x82Â¿Ã\\x82Â½Ã\\x83Â¯Ã\\x82Â¿Ã\\x82Â½Ã\\x83Â¯Ã\\x82Â¿Ã\\x82Â½Ã\\x83Â¯Ã\\x82Â¿Ã\\x82Â½Ã\\x83Â¯Ã\\x82Â¿Ã\\x82Â½Ã\\x83Â¯Ã\\x82Â¿Ã\\x82Â½Ã\\x83Â¯Ã\\x82Â¿Ã\\x82Â½Ã\\x83Â¯Ã\\x82Â¿Ã\\x82Â½Ã\\x83Â¯Ã\\x82Â¿Ã\\x82Â½Ã\\x83Â¯Ã\\x82Â¿Ã\\x82Â½Ã\\x83Â¯Ã\\x82Â¿Ã\\x82Â½Ã\\x83Â¯Ã\\x82Â¿Ã\\x82Â½Ã\\x83Â¯Ã\\x82Â¿Ã\\x82Â½Ã\\x83Â¯Ã\\x82Â¿Ã\\x82Â½Ã\\x83Â¯Ã\\x82Â¿Ã\\x82Â½Ã\\x83Â¯Ã\\x82Â¿Ã\\x82Â½Ã\\x83Â¯Ã\\x82Â¿Ã\\x82Â½Ã\\x83Â¯Ã\\x82Â¿Ã\\x82Â½Ã\\x83Â¯Ã\\x82Â¿Ã\\x82Â½Ã\\x83Â¯Ã\\x82Â¿Ã\\x82Â½Ã\\x83Â¯Ã\\x82Â¿Ã\\x82Â½Ã\\x83Â¯Ã\\x82Â¿Ã\\x82Â½Ã\\x83Â¯Ã\\x82Â¿Ã\\x82Â½d be able to order off your normal menu instead of the disgusting br',\n",
       "  'review_processed': 'If you didnt take 15 minutes to take a few orders Id be able to order off your normal menu instead of the disgusting br'},\n",
       " 41: {'reviewer_id': 42,\n",
       "  'review_time': '2023-12-20',\n",
       "  'rating': 1,\n",
       "  'review': \"This is the WORST McDonald's EVER, I don't come here often because when I do my order is wrong EVERY TIME.  Today 2/25/22 1130am 1 the drive thru person could barely hear me and I was almost yelling 2 I get to the next window after paying and I'm asked what did you order?? I tell them at the end of me repeating my order I now have your entire staff looking CONFUSED AS HELL like I just dropped outta the sky now I'm being asked did I pay? Are you sure you ordered at the speaker? Now all of ya'll wear head sets except for the cooks the worst leadership I've ever seen\",\n",
       "  'review_processed': \"I don't come to McDonald's often because when I do, my order is wrong every time. Today, the drive thru person could barely hear me, and I was almost yelling. When I get to the next window after paying, I'm asked what did you order? I now have your entire staff looking confused as if I just dropped out of the sky.\"},\n",
       " 42: {'reviewer_id': 43,\n",
       "  'review_time': '2023-12-20',\n",
       "  'rating': 3,\n",
       "  'review': \"Me and my girlfriend came tonight to pick up our food after 11pm for a mobile order, they need a better system if you are walking on foot. The food tasted great, loved the McDonald's deal ordering from the app.\",\n",
       "  'review_processed': \"They need a better system if you are walking on foot. The food tasted great, loved the McDonald's deal ordering from the app.\"},\n",
       " 43: {'reviewer_id': 44,\n",
       "  'review_time': '2024-05-20',\n",
       "  'rating': 5,\n",
       "  'review': 'Been frequenting this location for a few years.Morning,mid-day and night,the food is always hot,fresh and served with a smile.',\n",
       "  'review_processed': 'Been frequenting this location for a few years.Morning,mid-day and night,the food is always hot,fresh and served with a smile.'},\n",
       " 44: {'reviewer_id': 45,\n",
       "  'review_time': '2024-08-20',\n",
       "  'rating': 1,\n",
       "  'review': 'The drinks were watered down and the employee was downright rude when asked to replace the drinks.!!',\n",
       "  'review_processed': 'The drinks were watered down and the employee was downright rude when asked to replace the drinks.!!'},\n",
       " 45: {'reviewer_id': 46,\n",
       "  'review_time': '2023-12-20',\n",
       "  'rating': 2,\n",
       "  'review': 'I ordered a Large fry buy after arriving to my destination I saw they did not fill the carton up.  They gave me a small portion for what I paid for.  This is not right and management needs to correct this.  Stealing from customers is plain wrong.  When ordering a large, they expect to get what should come in a large.  I noticed after my bad experience that your reviews are low.  In order order to create a good business, giving people an exceptional experience should be your goal not the opposite.',\n",
       "  'review_processed': 'I ordered a large fry, but when I arrived at my destination, they did not fill the carton up. They gave me a small portion for what I paid for. This is not right and management needs to correct this.'},\n",
       " 46: {'reviewer_id': 47,\n",
       "  'review_time': '2024-07-20',\n",
       "  'rating': 1,\n",
       "  'review': 'Will not answer my call. Messed up my order 4times in and hour!',\n",
       "  'review_processed': 'Will not answer my call. Messed up my order 4times in and hour!'},\n",
       " 47: {'reviewer_id': 48,\n",
       "  'review_time': '2023-12-20',\n",
       "  'rating': 1,\n",
       "  'review': \"Slow always have wait for my food and have to go back in to get it fixed.  No one ever iles or has a none fake smile. No welcome to McDonald's or have a great day especially in drive through . And if you do say something's wrong you get a major attitude especially from the shift manager guy tall black guy .  ( Sorry don't know his name )\",\n",
       "  'review_processed': \"No one ever smiles or has a fake smile at McDonald's. No welcome to McDonald's or have a great day especially in drive through. If you say something's wrong, you get a major attitude from the shift manager.\"},\n",
       " 48: {'reviewer_id': 49,\n",
       "  'review_time': '2023-12-20',\n",
       "  'rating': 1,\n",
       "  'review': 'Horrible service worker with a stank attitude for no reason working at the window mute with an attitude mad because she is miserable at work . They mess up the order and then donÃ\\x83Â¯Ã\\x82Â¿Ã\\x82Â½Ã\\x83Â¯Ã\\x82Â¿Ã\\x82Â½Ã\\x83Â¯Ã\\x82Â¿Ã\\x82Â½Ã\\x83Â¯Ã\\x82Â¿Ã\\x82Â½Ã\\x83Â¯Ã\\x82Â¿Ã\\x82Â½Ã\\x83Â¯Ã\\x82Â¿Ã\\x82Â½Ã\\x83Â¯Ã\\x82Â¿Ã\\x82Â½Ã\\x83Â¯Ã\\x82Â¿Ã\\x82Â½Ã\\x83Â¯Ã\\x82Â¿Ã\\x82Â½Ã\\x83Â¯Ã\\x82Â¿Ã\\x82Â½Ã\\x83Â¯Ã\\x82Â¿Ã\\x82Â½Ã\\x83Â¯Ã\\x82Â¿Ã\\x82Â½Ã\\x83Â¯Ã\\x82Â¿Ã\\x82Â½Ã\\x83Â¯Ã\\x82Â¿Ã\\x82Â½Ã\\x83Â¯Ã\\x82Â¿Ã\\x82Â½Ã\\x83Â¯Ã\\x82Â¿Ã\\x82Â½Ã\\x83Â¯Ã\\x82Â¿Ã\\x82Â½Ã\\x83Â¯Ã\\x82Â¿Ã\\x82Â½Ã\\x83Â¯Ã\\x82Â¿Ã\\x82Â½Ã\\x83Â¯Ã\\x82Â¿Ã\\x82Â½Ã\\x83Â¯Ã\\x82Â¿Ã\\x82Â½Ã\\x83Â¯Ã\\x82Â¿Ã\\x82Â½Ã\\x83Â¯Ã\\x82Â¿Ã\\x82Â½Ã\\x83Â¯Ã\\x82Â¿Ã\\x82Â½Ã\\x83Â¯Ã\\x82Â¿Ã\\x82Â½Ã\\x83Â¯Ã\\x82Â¿Ã\\x82Â½Ã\\x83Â¯Ã\\x82Â¿Ã\\x82Â½t answer the phone itÃ\\x83Â¯Ã\\x82Â¿Ã\\x82Â½Ã\\x83Â¯Ã\\x82Â¿Ã\\x82Â½Ã\\x83Â¯Ã\\x82Â¿Ã\\x82Â½Ã\\x83Â¯Ã\\x82Â¿Ã\\x82Â½Ã\\x83Â¯Ã\\x82Â¿Ã\\x82Â½Ã\\x83Â¯Ã\\x82Â¿Ã\\x82Â½Ã\\x83Â¯Ã\\x82Â¿Ã\\x82Â½Ã\\x83Â¯Ã\\x82Â¿Ã\\x82Â½Ã\\x83Â¯Ã\\x82Â¿Ã\\x82Â½Ã\\x83Â¯Ã\\x82Â¿Ã\\x82Â½Ã\\x83Â¯Ã\\x82Â¿Ã\\x82Â½Ã\\x83Â¯Ã\\x82Â¿Ã\\x82Â½Ã\\x83Â¯Ã\\x82Â¿Ã\\x82Â½Ã\\x83Â¯Ã\\x82Â¿Ã\\x82Â½Ã\\x83Â¯Ã\\x82Â¿Ã\\x82Â½Ã\\x83Â¯Ã\\x82Â¿Ã\\x82Â½Ã\\x83Â¯Ã\\x82Â¿Ã\\x82Â½Ã\\x83Â¯Ã\\x82Â¿Ã\\x82Â½Ã\\x83Â¯Ã\\x82Â¿Ã\\x82Â½Ã\\x83Â¯Ã\\x82Â¿Ã\\x82Â½Ã\\x83Â¯Ã\\x82Â¿Ã\\x82Â½Ã\\x83Â¯Ã\\x82Â¿Ã\\x82Â½Ã\\x83Â¯Ã\\x82Â¿Ã\\x82Â½Ã\\x83Â¯Ã\\x82Â¿Ã\\x82Â½Ã\\x83Â¯Ã\\x82Â¿Ã\\x82Â½Ã\\x83Â¯Ã\\x82Â¿Ã\\x82Â½Ã\\x83Â¯Ã\\x82Â¿Ã\\x82Â½s ridiculous. Found a long hair in my daughters happy meal fries and then the extra fry was missing from her meal and t',\n",
       "  'review_processed': \"A terrible service worker with a stank attitude for no reason is working at the window. She is mad because she is miserable at work. They mess up the order and then don't answer the phone. It's ridiculous.\"},\n",
       " 49: {'reviewer_id': 50,\n",
       "  'review_time': '2023-12-20',\n",
       "  'rating': 1,\n",
       "  'review': 'Normally this location does pretty good, but last night was absolutely ridiculous. I sat in the drive thru for almost an hour waiting to get my order taken, the line was wrapped almost TWICE around the building, and finally I gave up and tried driving up to the window to give them my order since i was next in line. When i got to the window, they told me they couldn\\'t take it and I\\'d have to go back around. I told them I\\'d like to put in my order here since I\\'ve been waiting all this time, and they proceeded to still refuse and that it\\'s my fault for waiting in the second lane that they claimed was closed and had a sign out. The second lane was open, and the \"sign\" they were talking about was a wet floor sign they had placed right next to the drive-thru menu. I told them the lane looked open from our side and they still proceeded to argue with me, and then slammed the drive thru window shut. I\\'ve never received such deplorable customer service in my life, and if any managers are reading this, I highly suggest firing the two workers from last night.',\n",
       "  'review_processed': \"I sat in the drive thru for almost an hour waiting to get my order taken. The line was wrapped almost twice around the building. When I got to the window, they told me they couldn't take it and I'd have to go back around. I've never received such deplorable customer service in my life.\"},\n",
       " 50: {'reviewer_id': 51,\n",
       "  'review_time': '2024-02-20',\n",
       "  'rating': 1,\n",
       "  'review': 'I went to this location tonight to see if they could give me the Oreo Mcflurry that a different McDonaldÃ\\x83Â¯Ã\\x82Â¿Ã\\x82Â½Ã\\x83Â¯Ã\\x82Â¿Ã\\x82Â½Ã\\x83Â¯Ã\\x82Â¿Ã\\x82Â½Ã\\x83Â¯Ã\\x82Â¿Ã\\x82Â½Ã\\x83Â¯Ã\\x82Â¿Ã\\x82Â½Ã\\x83Â¯Ã\\x82Â¿Ã\\x82Â½Ã\\x83Â¯Ã\\x82Â¿Ã\\x82Â½Ã\\x83Â¯Ã\\x82Â¿Ã\\x82Â½Ã\\x83Â¯Ã\\x82Â¿Ã\\x82Â½Ã\\x83Â¯Ã\\x82Â¿Ã\\x82Â½Ã\\x83Â¯Ã\\x82Â¿Ã\\x82Â½Ã\\x83Â¯Ã\\x82Â¿Ã\\x82Â½Ã\\x83Â¯Ã\\x82Â¿Ã\\x82Â½Ã\\x83Â¯Ã\\x82Â¿Ã\\x82Â½Ã\\x83Â¯Ã\\x82Â¿Ã\\x82Â½Ã\\x83Â¯Ã\\x82Â¿Ã\\x82Â½Ã\\x83Â¯Ã\\x82Â¿Ã\\x82Â½Ã\\x83Â¯Ã\\x82Â¿Ã\\x82Â½Ã\\x83Â¯Ã\\x82Â¿Ã\\x82Â½Ã\\x83Â¯Ã\\x82Â¿Ã\\x82Â½Ã\\x83Â¯Ã\\x82Â¿Ã\\x82Â½Ã\\x83Â¯Ã\\x82Â¿Ã\\x82Â½Ã\\x83Â¯Ã\\x82Â¿Ã\\x82Â½Ã\\x83Â¯Ã\\x82Â¿Ã\\x82Â½Ã\\x83Â¯Ã\\x82Â¿Ã\\x82Â½Ã\\x83Â¯Ã\\x82Â¿Ã\\x82Â½Ã\\x83Â¯Ã\\x82Â¿Ã\\x82Â½s had forgotten earlier they completely refused. Unbelievable.. ItÃ\\x83Â¯Ã\\x82Â¿Ã\\x82Â½Ã\\x83Â¯Ã\\x82Â¿Ã\\x82Â½Ã\\x83Â¯Ã\\x82Â¿Ã\\x82Â½Ã\\x83Â¯Ã\\x82Â¿Ã\\x82Â½Ã\\x83Â¯Ã\\x82Â¿Ã\\x82Â½Ã\\x83Â¯Ã\\x82Â¿Ã\\x82Â½Ã\\x83Â¯Ã\\x82Â¿Ã\\x82Â½Ã\\x83Â¯Ã\\x82Â¿Ã\\x82Â½Ã\\x83Â¯Ã\\x82Â¿Ã\\x82Â½Ã\\x83Â¯Ã\\x82Â¿Ã\\x82Â½Ã\\x83Â¯Ã\\x82Â¿Ã\\x82Â½Ã\\x83Â¯Ã\\x82Â¿Ã\\x82Â½Ã\\x83Â¯Ã\\x82Â¿Ã\\x82Â½Ã\\x83Â¯Ã\\x82Â¿Ã\\x82Â½Ã\\x83Â¯Ã\\x82Â¿Ã\\x82Â½Ã\\x83Â¯Ã\\x82Â¿Ã\\x82Â½Ã\\x83Â¯Ã\\x82Â¿Ã\\x82Â½Ã\\x83Â¯Ã\\x82Â¿Ã\\x82Â½Ã\\x83Â¯Ã\\x82Â¿Ã\\x82Â½Ã\\x83Â¯Ã\\x82Â¿Ã\\x82Â½Ã\\x83Â¯Ã\\x82Â¿Ã\\x82Â½Ã\\x83Â¯Ã\\x82Â¿Ã\\x82Â½Ã\\x83Â¯Ã\\x82Â¿Ã\\x82Â½Ã\\x83Â¯Ã\\x82Â¿Ã\\x82Â½Ã\\x83Â¯Ã\\x82Â¿Ã\\x82Â½Ã\\x83Â¯Ã\\x82Â¿Ã\\x82Â½Ã\\x83Â¯Ã\\x82Â¿Ã\\x82Â½s ice creamÃ\\x83Â¯Ã\\x82Â¿Ã\\x82Â½Ã\\x83Â¯Ã\\x82Â¿Ã\\x82Â½Ã\\x83Â¯Ã\\x82Â¿Ã\\x82Â½Ã\\x83Â¯Ã\\x82Â¿Ã\\x82Â½Ã\\x83Â¯Ã\\x82Â¿Ã\\x82Â½Ã\\x83Â¯Ã\\x82Â¿Ã\\x82Â½Ã\\x83Â¯Ã\\x82Â¿Ã\\x82Â½Ã\\x83Â¯Ã\\x82Â¿Ã\\x82Â½Ã\\x83Â¯Ã\\x82Â¿Ã\\x82Â½Ã\\x83Â¯Ã\\x82Â¿Ã\\x82Â½Ã\\x83Â¯Ã\\x82Â¿Ã\\x82Â½Ã\\x83Â¯Ã\\x82Â¿Ã\\x82Â½Ã\\x83Â¯Ã\\x82Â¿Ã\\x82Â½Ã\\x83Â¯',\n",
       "  'review_processed': \"I went to this location tonight to see if they could give me the Oreo Mcflurry that a different McDonald's had forgotten\"},\n",
       " 51: {'reviewer_id': 52,\n",
       "  'review_time': '2023-12-20',\n",
       "  'rating': 1,\n",
       "  'review': \"Rude customer service, unprofessional attitude, overcooked food, no complimentary items for screwing up our orders. I don't understand how you can keep your job when there is so many negative reviews. I vow to never eat here again. I would rather eat a cold can of baked beans...\",\n",
       "  'review_processed': \"I don't understand how you can keep your job when there are so many negative reviews. I would rather eat a cold can of baked beans.\"},\n",
       " 52: {'reviewer_id': 53,\n",
       "  'review_time': '2023-12-20',\n",
       "  'rating': 1,\n",
       "  'review': 'Representative was very rude and disrespectful,  refused fulfilling my order and simply hung up on me on the drive through window... never was I so disappointed at that location before. Manager pretended like nothing even happened.',\n",
       "  'review_processed': 'The representative was very rude and disrespectful, refused fulfilling my order and simply hung up on me on the drive through window. Never was I so disappointed at that location before.'},\n",
       " 53: {'reviewer_id': 54,\n",
       "  'review_time': '2023-12-20',\n",
       "  'rating': 3,\n",
       "  'review': \"They got our order correct and didn't cut me off before I had finished ordering our food at the speaker. I could actually understand our order taker. I don't know if it really gets any better than that at a fast food place anymore.\",\n",
       "  'review_processed': \"I don't know if it really gets any better than that at a fast food place anymore.\"},\n",
       " 54: {'reviewer_id': 55,\n",
       "  'review_time': '2024-05-20',\n",
       "  'rating': 4,\n",
       "  'review': 'Good quick drive through service.  Was a long line but went very quickly.',\n",
       "  'review_processed': 'Good quick drive through service.  Was a long line but went very quickly.'},\n",
       " 55: {'reviewer_id': 56,\n",
       "  'review_time': '2024-07-20',\n",
       "  'rating': 3,\n",
       "  'review': 'Yup. ItÃ\\x83Â¯Ã\\x82Â¿Ã\\x82Â½Ã\\x83Â¯Ã\\x82Â¿Ã\\x82Â½Ã\\x83Â¯Ã\\x82Â¿Ã\\x82Â½Ã\\x83Â¯Ã\\x82Â¿Ã\\x82Â½Ã\\x83Â¯Ã\\x82Â¿Ã\\x82Â½Ã\\x83Â¯Ã\\x82Â¿Ã\\x82Â½Ã\\x83Â¯Ã\\x82Â¿Ã\\x82Â½Ã\\x83Â¯Ã\\x82Â¿Ã\\x82Â½Ã\\x83Â¯Ã\\x82Â¿Ã\\x82Â½Ã\\x83Â¯Ã\\x82Â¿Ã\\x82Â½Ã\\x83Â¯Ã\\x82Â¿Ã\\x82Â½Ã\\x83Â¯Ã\\x82Â¿Ã\\x82Â½Ã\\x83Â¯Ã\\x82Â¿Ã\\x82Â½Ã\\x83Â¯Ã\\x82Â¿Ã\\x82Â½Ã\\x83Â¯Ã\\x82Â¿Ã\\x82Â½Ã\\x83Â¯Ã\\x82Â¿Ã\\x82Â½Ã\\x83Â¯Ã\\x82Â¿Ã\\x82Â½Ã\\x83Â¯Ã\\x82Â¿Ã\\x82Â½Ã\\x83Â¯Ã\\x82Â¿Ã\\x82Â½Ã\\x83Â¯Ã\\x82Â¿Ã\\x82Â½Ã\\x83Â¯Ã\\x82Â¿Ã\\x82Â½Ã\\x83Â¯Ã\\x82Â¿Ã\\x82Â½Ã\\x83Â¯Ã\\x82Â¿Ã\\x82Â½Ã\\x83Â¯Ã\\x82Â¿Ã\\x82Â½Ã\\x83Â¯Ã\\x82Â¿Ã\\x82Â½Ã\\x83Â¯Ã\\x82Â¿Ã\\x82Â½Ã\\x83Â¯Ã\\x82Â¿Ã\\x82Â½s McDona',\n",
       "  'review_processed': 'Yup. Its McDona'},\n",
       " 56: {'reviewer_id': 57,\n",
       "  'review_time': '2023-12-20',\n",
       "  'rating': 4,\n",
       "  'review': \"I go here all the time. Great staff.. NVR get my food wrong it's just always a line wrapped around lol that's why they ain't 5 stars. Most def customer service is better then the food but hey I just go for my kids because they love it so why not! Good customer service guys! Makes all the difference\",\n",
       "  'review_processed': \"I go to this restaurant all the time. It's always a line wrapped around. Most def customer service is better than the food, but I just go there for my kids, so why not?\"},\n",
       " 57: {'reviewer_id': 58,\n",
       "  'review_time': '2023-12-20',\n",
       "  'rating': 1,\n",
       "  'review': 'I went to pick up food from the restaurant at late night through drive through. I was told to wait near the door and I will be getting the order but even after waiting 15 minutes no one came with the food. Orders are already assigned and even after coming through drive through it takes more than half an hour to get it which is not good. Lots of people behind me got the food but no one cared about the driver who is already waiting from long time. Thank you',\n",
       "  'review_processed': 'I went to pick up food from the restaurant at late night through drive through. I was told to wait near the door and I will be getting the order but even after waiting 15 minutes no one came with the food.'},\n",
       " 58: {'reviewer_id': 59,\n",
       "  'review_time': '2023-12-20',\n",
       "  'rating': 4,\n",
       "  'review': \"OPEN 24HRS all the darn time!!  If there are 24 hours in every day and then 7 days in a week then that means this place is open eleventeen million hours a year.  I dont even know how they find people to work here I mean how do they shower or brush their teeth or change clothes if they are always there.... I think I may have an idea: they are robots.  Or clones, like this example that's Dolly the sheep she's pretty hot NGL.\",\n",
       "  'review_processed': \"If there are 24 hours in every day and then 7 days in a week, then that means this place is open 17 million hours a year. I don't know how they find people to work here; they are always there. I think I may have an idea: they are robots.\"},\n",
       " 59: {'reviewer_id': 60,\n",
       "  'review_time': '2024-08-20',\n",
       "  'rating': 4,\n",
       "  'review': 'It was late, order was wrong, person taking order needs to slow down,',\n",
       "  'review_processed': 'It was late, order was wrong, person taking order needs to slow down,'},\n",
       " 60: {'reviewer_id': 61,\n",
       "  'review_time': '2024-02-20',\n",
       "  'rating': 1,\n",
       "  'review': 'The manager IS RUDE at 13749 183 research Blvd.in north Austin TX. HAD TO GO BACK INTO THE  DINER  3 TIMES AND THE 3RD TIME THE MANAGER DIDNT EVEN ACKOWLEDGE WE WERE EVEN THERE.. DISCRIPTION OF SAID MANAGER SPANISH ABOUT 5 FT TALL AND HAD LONG BLONDOISH HAIR PULLED BACK INTO A PONY TAIL. READ PREVIOUS REVIEWS AND THRY WERE NOT GOOD\\nNEED TO CHECK OUT WHAT IS GOING ON .',\n",
       "  'review_processed': \"The manager is rude at 13749 183 research Blvd. in north Austin, Texas. We had to go back to the restaurant three times, and the third time the manager didn't know we were there.\"},\n",
       " 61: {'reviewer_id': 62,\n",
       "  'review_time': '2024-05-20',\n",
       "  'rating': 1,\n",
       "  'review': 'Never would come back here again my mother was asking for a coke and the lady became rude and said to her coworker in Spanish omg this fat women it hurt me that she said that and we know what she said so teach your employees how to speck properly in front of people',\n",
       "  'review_processed': 'My mother was asking for a Coke and the woman became rude and said to her coworker in Spanish that she was fat. It hurt me that she said that and we know what she said, so teach your employees how to spell properly in'},\n",
       " 62: {'reviewer_id': 63,\n",
       "  'review_time': '2022-12-20',\n",
       "  'rating': 2,\n",
       "  'review': 'I placed an order... the young lady at the drive thru kept having issues getting the order correctly... I paid for my order... went to the second window.. was given a huge bag that almost broke through with stuff... I pulled up just a little bit to check my order:  noticed I was missing an item, fries, so I pulled around to let the lady at the first window know IÃ\\x83Â¯Ã\\x82Â¿Ã\\x82Â½Ã\\x83Â¯Ã\\x82Â¿Ã\\x82Â½Ã\\x83Â¯Ã\\x82Â¿Ã\\x82Â½Ã\\x83Â¯Ã\\x82Â¿Ã\\x82Â½Ã\\x83Â¯Ã\\x82Â¿Ã\\x82Â½Ã\\x83Â¯Ã\\x82Â¿Ã\\x82Â½Ã\\x83Â¯Ã\\x82Â¿Ã\\x82Â½Ã\\x83Â¯Ã\\x82Â¿Ã\\x82Â½Ã\\x83Â¯Ã\\x82Â¿Ã\\x82Â½Ã\\x83Â¯Ã\\x82Â¿Ã\\x82Â½Ã\\x83Â¯Ã\\x82Â¿Ã\\x82Â½Ã\\x83Â¯Ã\\x82Â¿Ã\\x82Â½Ã\\x83Â¯Ã\\x82Â¿Ã\\x82Â½Ã\\x83Â¯Ã\\x82Â¿Ã\\x82Â½Ã\\x83Â¯Ã\\x82Â¿Ã\\x82Â½Ã\\x83Â¯Ã\\x82Â¿Ã\\x82Â½Ã\\x83Â¯Ã\\x82Â¿Ã\\x82Â½Ã\\x83Â¯Ã\\x82Â¿Ã\\x82Â½Ã\\x83Â¯Ã\\x82Â¿Ã\\x82Â½Ã\\x83Â¯Ã\\x82Â¿Ã\\x82Â½Ã\\x83Â¯Ã\\x82Â¿Ã\\x82Â½Ã\\x83Â¯Ã\\x82Â¿Ã\\x82Â½Ã\\x83Â¯Ã\\x82Â¿Ã\\x82Â½Ã\\x83Â¯Ã\\x82Â¿Ã\\x82Â½Ã\\x83Â¯Ã\\x82Â¿Ã\\x82Â½Ã\\x83Â¯Ã\\x82Â¿Ã\\x82Â½Ã\\x83Â¯Ã\\x82Â¿Ã\\x82Â½m missing something... she just dismissed me to the 2nd window... and the 2 ladies at the second window werenÃ\\x83Â¯Ã\\x82Â¿Ã\\x82Â½Ã\\x83Â¯Ã\\x82Â¿Ã\\x82Â½Ã\\x83Â¯Ã\\x82Â¿Ã\\x82Â½Ã\\x83Â¯Ã\\x82Â¿Ã\\x82Â½Ã\\x83Â¯Ã\\x82Â¿Ã\\x82Â½Ã\\x83Â¯Ã\\x82Â¿Ã\\x82Â½Ã\\x83Â¯Ã\\x82Â¿Ã\\x82Â½Ã\\x83Â¯Ã\\x82Â¿Ã\\x82Â½Ã\\x83Â¯Ã\\x82Â¿Ã\\x82Â½Ã\\x83Â¯Ã\\x82Â¿Ã\\x82Â½Ã\\x83Â¯Ã\\x82Â¿Ã\\x82Â½Ã\\x83Â¯Ã\\x82Â¿Ã\\x82Â½Ã\\x83Â¯Ã\\x82Â¿Ã\\x82Â½Ã\\x83Â¯Ã\\x82Â¿Ã\\x82Â½Ã\\x83Â¯Ã\\x82Â¿Ã\\x82Â½Ã\\x83Â¯Ã\\x82Â¿Ã\\x82Â½Ã\\x83Â¯Ã\\x82Â¿Ã\\x82Â½Ã\\x83Â¯Ã\\x82Â¿Ã\\x82Â½Ã\\x83Â¯Ã\\x82Â¿Ã\\x82Â½Ã\\x83Â¯Ã\\x82Â¿Ã\\x82Â½Ã\\x83Â¯Ã\\x82Â¿Ã\\x82Â½Ã\\x83Â¯Ã\\x82Â¿Ã\\x82Â½Ã\\x83Â¯Ã\\x82Â¿Ã\\x82Â½Ã\\x83Â¯Ã\\x82Â¿Ã\\x82Â½Ã\\x83Â¯Ã\\x82Â¿Ã\\x82Â½Ã\\x83Â¯Ã\\x82Â¿Ã\\x82Â½Ã\\x83Â¯Ã\\x82Â¿Ã\\x82Â½t the best either.  When I stated I drove back around because I was missing my fries.. I didnÃ\\x83Â¯Ã\\x82Â¿Ã\\x82Â½Ã\\x83Â¯Ã\\x82Â¿Ã\\x82Â½Ã\\x83Â¯Ã\\x82Â¿Ã\\x82Â½Ã\\x83Â¯Ã\\x82Â¿Ã\\x82Â½Ã\\x83Â¯Ã\\x82Â¿Ã\\x82Â½Ã\\x83Â¯Ã\\x82Â¿Ã\\x82Â½Ã\\x83Â¯Ã\\x82Â¿Ã\\x82Â½Ã\\x83Â¯Ã\\x82Â¿Ã\\x82Â½Ã\\x83Â¯Ã\\x82Â¿Ã\\x82Â½Ã\\x83Â¯Ã\\x82Â¿Ã\\x82Â½Ã\\x83Â¯Ã\\x82Â¿Ã\\x82Â½Ã\\x83Â¯Ã\\x82Â¿Ã\\x82Â½Ã\\x83Â¯Ã\\x82Â¿Ã\\x82Â½Ã\\x83Â¯Ã\\x82Â¿Ã\\x82Â½Ã\\x83Â¯Ã\\x82Â¿Ã\\x82Â½Ã\\x83Â¯Ã\\x82Â¿Ã\\x82Â½Ã\\x83Â¯Ã\\x82Â¿Ã\\x82Â½Ã\\x83Â¯Ã\\x82Â¿Ã\\x82Â½Ã\\x83Â¯Ã\\x82Â¿Ã\\x82Â½Ã\\x83Â¯Ã\\x82Â¿Ã\\x82Â½Ã\\x83Â¯Ã\\x82Â¿Ã\\x82Â½Ã\\x83Â¯Ã\\x82Â¿Ã\\x82Â½Ã\\x83Â¯Ã\\x82Â¿Ã\\x82Â½Ã\\x83Â¯Ã\\x82Â¿Ã\\x82Â½Ã\\x83Â¯Ã\\x82Â¿Ã\\x82Â½Ã\\x83Â¯Ã\\x82Â¿Ã\\x82Â½Ã\\x83Â¯Ã\\x82Â¿Ã\\x82Â½t realize my receipt was in the bag to confirm my order.. found it and gave it to one of the ladies... the second lady, IÃ\\x83Â¯Ã\\x82Â¿Ã\\x82Â½Ã\\x83Â¯Ã\\x82Â¿Ã\\x82Â½Ã\\x83Â¯Ã\\x82Â¿Ã\\x82Â½Ã\\x83Â¯Ã\\x82Â¿Ã\\x82Â½Ã\\x83Â¯Ã\\x82Â¿Ã\\x82Â½Ã\\x83Â¯Ã\\x82Â¿Ã\\x82Â½Ã\\x83Â¯Ã\\x82Â¿Ã\\x82Â½Ã\\x83Â¯Ã\\x82Â¿Ã\\x82Â½Ã\\x83Â¯Ã\\x82Â¿Ã\\x82Â½Ã\\x83Â¯Ã\\x82Â¿Ã\\x82Â½Ã\\x83Â¯Ã\\x82Â¿Ã\\x82Â½Ã\\x83Â¯Ã\\x82Â¿Ã\\x82Â½Ã\\x83Â¯Ã\\x82Â¿Ã\\x82Â½Ã\\x83Â¯Ã\\x82Â¿Ã\\x82Â½Ã\\x83Â¯Ã\\x82Â¿Ã\\x82Â½Ã\\x83Â¯Ã\\x82Â¿Ã\\x82Â½Ã\\x83Â¯Ã\\x82Â¿Ã\\x82Â½Ã\\x83Â¯Ã\\x82Â¿Ã\\x82Â½Ã\\x83Â¯Ã\\x82Â¿Ã\\x82Â½Ã\\x83Â¯Ã\\x82Â¿Ã\\x82Â½Ã\\x83Â¯Ã\\x82Â¿Ã\\x82Â½Ã\\x83Â¯Ã\\x82Â¿Ã\\x82Â½Ã\\x83Â¯Ã\\x82Â¿Ã\\x82Â½Ã\\x83Â¯Ã\\x82Â¿Ã\\x82Â½Ã\\x83Â¯Ã\\x82Â¿Ã\\x82Â½Ã\\x83Â¯Ã\\x82Â¿Ã\\x82Â½Ã\\x83Â¯Ã\\x82Â¿Ã\\x82Â½m guessing to be heard due to my inconvenience of my order not being correct, for her to take ownership for what possibly could of went wrong and show some compassion instead of being kind of prude ... after I received the fries the manager dismissed me with a condescending Ã\\x83Â¯Ã\\x82Â¿Ã\\x82Â½Ã\\x83Â¯Ã\\x82Â¿Ã\\x82Â½Ã\\x83Â¯Ã\\x82Â¿Ã\\x82Â½Ã\\x83Â¯Ã\\x82Â¿Ã\\x82Â½Ã\\x83Â¯Ã\\x82Â¿Ã\\x82Â½Ã\\x83Â¯Ã\\x82Â¿Ã\\x82Â½Ã\\x83Â¯Ã\\x82Â¿Ã\\x82Â½Ã\\x83Â¯Ã\\x82Â¿Ã\\x82Â½',\n",
       "  'review_processed': \"The young lady at the drive thru kept having issues getting the order correctly. After I received the fries, the manager dismissed me with a condescending\\xa0disappointment\\xa0in the situation. I didn't realize my receipt was in the bag; found it and gave it to one of the ladies.\"},\n",
       " 63: {'reviewer_id': 64,\n",
       "  'review_time': '2023-12-20',\n",
       "  'rating': 5,\n",
       "  'review': \"Never gotten my order wrong, employees seem to change a lot but they're consistently quick and nice. Also the prices here are lower than other locations, I don't know why but its a total welcome change haha.\",\n",
       "  'review_processed': \"I never get my orders wrong, and the employees are always quick and nice. The prices are lower than other locations, and it's a welcome change.\"},\n",
       " 64: {'reviewer_id': 65,\n",
       "  'review_time': '2022-12-20',\n",
       "  'rating': 3,\n",
       "  'review': \"They run out of fry containers and constantly forget sauces. The dining room is still closed for some reason so have fun getting back in line for a sauce. Sometimes the fries aren't great which is a huge part of McDonald's. Come on guys...\",\n",
       "  'review_processed': \"They run out of fry containers and constantly forget sauces. The dining room is still closed for some reason, so have fun getting back in line for a sauce. Sometimes the fries aren't great, which is a huge part\"},\n",
       " 65: {'reviewer_id': 66,\n",
       "  'review_time': '2021-12-20',\n",
       "  'rating': 2,\n",
       "  'review': 'They get an extra Star because their staff 8 of 10 have been polite. Drive through has issues. They constantly get order wrong. Ask you to pull forward to fix and leave you hanging. I have had to go in twice to see why I am still sitting after five minutes. They are new. I understand training new people. But when you place an order and they repeat it back correctly and it comes out wrong or you have to repeat 3 times to make sure they get it right. Someone inside needs to make sure they are reading the whole ticket. Not just a quarter pounder. Especially with the multi menu choice of adding bacon or lettuce and tomatoes. Their tea as of late has tasted like dish soap and their fountain drinks have a funky taste to them. Numerous times their fries have been under cooked.',\n",
       "  'review_processed': 'Driving through has issues. They constantly get order wrong. Ask you to pull forward to fix and leave you hanging. Their tea as of late has tasted like dish soap. Their fountain drinks have a strange taste to them.'},\n",
       " 66: {'reviewer_id': 67,\n",
       "  'review_time': '2024-08-20',\n",
       "  'rating': 1,\n",
       "  'review': 'Got Wrong orderÃ\\x83Â¯Ã\\x82Â¿Ã\\x82Â½Ã\\x83Â¯Ã\\x82Â¿Ã\\x82Â½Ã\\x83Â¯Ã\\x82Â¿Ã\\x82Â½Ã\\x83Â¯Ã\\x82Â¿Ã\\x82Â½Ã\\x83Â¯Ã\\x82Â¿Ã\\x82Â½Ã\\x83Â¯Ã\\x82Â¿Ã\\x82Â½Ã\\x83Â¯Ã\\x82Â¿Ã\\x82Â½Ã\\x83Â¯Ã\\x82Â¿Ã\\x82Â½Ã\\x83Â¯Ã\\x82Â¿Ã\\x82Â½',\n",
       "  'review_processed': 'Got Wrong order'},\n",
       " 67: {'reviewer_id': 68,\n",
       "  'review_time': '2023-12-20',\n",
       "  'rating': 2,\n",
       "  'review': 'McDonald\\'s is usually pretty bad about inventory shorts especially.\\nThe BBQ sauce, it\\'s just a conspiracy but if you ever been a lover of Mcys Nuggets then you know they tend to \"Forget\" the BBQ sauce. Any other sauce and it\\'s in there. But overall I dont see my self going back anytime soon.',\n",
       "  'review_processed': \"McDonald's is usually pretty bad about inventory, especially the BBQ sauce. Overall, I don't see myself going back to McDonald's anytime soon.\"},\n",
       " 68: {'reviewer_id': 69,\n",
       "  'review_time': '2023-12-20',\n",
       "  'rating': 1,\n",
       "  'review': \"So Uber eats was having connectivity issues and pushed an order through to this location that was supposed to be cancelled. I know this isnt McDonald's fault, but when I called McDonalds to try and address the issue, they answered and then ignored me and must have left their phone off the hook because any attempt to call them after this got me only dial tone. I know places are short staffed, but you cant just ignore people.\",\n",
       "  'review_processed': \"I know places are short staffed, but you can't just ignore people. When I called McDonald's to try and address the issue, they answered and then ignored me.\"},\n",
       " 69: {'reviewer_id': 70,\n",
       "  'review_time': '2023-12-20',\n",
       "  'rating': 1,\n",
       "  'review': \"If I paid for a large-sized meal, and I asked for both a large fry and a large drink, please don't argue with me that the ticket says medium drink. Thank you so much from a single parent who just wanted to spend a little bit of money on unhealthy food for wasting my hard-earned money.\",\n",
       "  'review_processed': \"If I paid for a large-sized meal, and I asked for both a large fry and a large drink, please don't argue with me that the ticket says medium drink. Thank you so much from a single parent who just wanted to spend a little bit of money on unhealthy food\"},\n",
       " 70: {'reviewer_id': 71,\n",
       "  'review_time': '2023-12-20',\n",
       "  'rating': 1,\n",
       "  'review': \"Customer  service  is no good the staff  play games  as if I'm there to pay my money  to see them horsing around. And the the management  are a jock don't answer  the phone . to night is September 29 2021 at 10:30pm my next  visit to Austin will not be to a McDonald's...\",\n",
       "  'review_processed': \"The staff play games as if I'm there to pay my money to see them horsing around. The management are a jock; don't answer the phone. My next visit to Austin will not be to a McDonald's.\"},\n",
       " 71: {'reviewer_id': 72,\n",
       "  'review_time': '2023-12-20',\n",
       "  'rating': 3,\n",
       "  'review': 'My nuggets were way to salty and crunchy which means to had been sitting there a while, cashier cut me off in the middle of my order but was nice and polite when I addressed it and fries where kinda cold but another then good place to get food at an affordable price',\n",
       "  'review_processed': 'My nuggets were too salty and crunchy, which means they had been sitting there for a while. The cashier cut me off in the middle of my order, but was nice and polite when I addressed it.'},\n",
       " 72: {'reviewer_id': 73,\n",
       "  'review_time': '2022-12-20',\n",
       "  'rating': 3,\n",
       "  'review': 'Alright I know it was 5:25 in the morning when we came here and the worker was probably tired as hell. I will give him that for sure, but it was just odd pulling up to the machine and total silence. we had to say \"hello?\" before he came on and asked what we wanted. Was seemingly rude about it and not amazingly friendly. You do not have to sound peppy and full of life at 5am, but at least be nice..',\n",
       "  'review_processed': 'It was odd pulling up to the machine and total silence. We had to say \"hello?\" before he came on and asked what we wanted. You do not have to sound peppy and full of life at 5am, but at least be nice.'},\n",
       " 73: {'reviewer_id': 74,\n",
       "  'review_time': '2019-12-20',\n",
       "  'rating': 1,\n",
       "  'review': 'waited in the drive through for over half an hour, all i got for my trouble was a \"sorry for the wait\" not even an explanation. When I got to the second window there were at least a dozen sodas just sitting on the counter. It\\'s not the first time I\\'ve had bad service. I once pulled up and they just said we\\'re not serving right now even though it was smack dab in the middle of the day hours.',\n",
       "  'review_processed': 'All I got for my trouble was a \"sorry for the wait\" not even an explanation. It\\'s not the first time I\\'ve had bad service.'},\n",
       " 74: {'reviewer_id': 75,\n",
       "  'review_time': '2022-12-20',\n",
       "  'rating': 1,\n",
       "  'review': 'When you specifically say, Ã\\x83Â¯Ã\\x82Â¿Ã\\x82Â½Ã\\x83Â¯Ã\\x82Â¿Ã\\x82Â½Ã\\x83Â¯Ã\\x82Â¿Ã\\x82Â½Ã\\x83Â¯Ã\\x82Â¿Ã\\x82Â½Ã\\x83Â¯Ã\\x82Â¿Ã\\x82Â½Ã\\x83Â¯Ã\\x82Â¿Ã\\x82Â½Ã\\x83Â¯Ã\\x82Â¿Ã\\x82Â½Ã\\x83Â¯Ã\\x82Â¿Ã\\x82Â½Ã\\x83Â¯Ã\\x82Â¿Ã\\x82Â½Ã\\x83Â¯Ã\\x82Â¿Ã\\x82Â½Ã\\x83Â¯Ã\\x82Â¿Ã\\x82Â½Ã\\x83Â¯Ã\\x82Â¿Ã\\x82Â½Ã\\x83Â¯Ã\\x82Â¿Ã\\x82Â½Ã\\x83Â¯Ã\\x82Â¿Ã\\x82Â½Ã\\x83Â¯Ã\\x82Â¿Ã\\x82Â½Ã\\x83Â¯Ã\\x82Â¿Ã\\x82Â½Ã\\x83Â¯Ã\\x82Â¿Ã\\x82Â½Ã\\x83Â¯Ã\\x82Â¿Ã\\x82Â½Ã\\x83Â¯Ã\\x82Â¿Ã\\x82Â½Ã\\x83Â¯Ã\\x82Â¿Ã\\x82Â½Ã\\x83Â¯Ã\\x82Â¿Ã\\x82Â½Ã\\x83Â¯Ã\\x82Â¿Ã\\x82Â½Ã\\x83Â¯Ã\\x82Â¿Ã\\x82Â½Ã\\x83Â¯Ã\\x82Â¿Ã\\x82Â½Ã\\x83Â¯Ã\\x82Â¿Ã\\x82Â½Ã\\x83Â¯Ã\\x82Â¿Ã\\x82Â½Ã\\x83Â¯Ã\\x82Â¿Ã\\x82Â½plain AND dryÃ\\x83Â¯Ã\\x82Â¿Ã\\x82Â½Ã\\x83Â¯Ã\\x82Â¿Ã\\x82Â½Ã\\x83Â¯Ã\\x82Â¿Ã\\x82Â½Ã\\x83Â¯Ã\\x82Â¿Ã\\x82Â½Ã\\x83Â¯Ã\\x82Â¿Ã\\x82Â½Ã\\x83Â¯Ã\\x82Â¿Ã\\x82Â½Ã\\x83Â¯Ã\\x82Â¿Ã\\x82Â½Ã\\x83Â¯Ã\\x82Â¿Ã\\x82Â½Ã\\x83Â¯Ã\\x82Â¿Ã\\x82Â½Ã\\x83Â¯Ã\\x82Â¿Ã\\x82Â½Ã\\x83Â¯Ã\\x82Â¿Ã\\x82Â½Ã\\x83Â¯Ã\\x82Â¿Ã\\x82Â½Ã\\x83Â¯Ã\\x82Â¿Ã\\x82Â½Ã\\x83Â¯Ã\\x82Â¿Ã\\x82Â½Ã\\x83Â¯Ã\\x82Â¿Ã\\x82Â½Ã\\x83Â¯Ã\\x82Â¿Ã\\x82Â½Ã\\x83Â¯Ã\\x82Â¿Ã\\x82Â½Ã\\x83Â¯Ã\\x82Â¿Ã\\x82Â½Ã\\x83Â¯Ã\\x82Â¿Ã\\x82Â½Ã\\x83Â¯Ã\\x82Â¿Ã\\x82Â½Ã\\x83Â¯Ã\\x82Â¿Ã\\x82Â½Ã\\x83Â¯Ã\\x82Â¿Ã\\x82Â½Ã\\x83Â¯Ã\\x82Â¿Ã\\x82Â½Ã\\x83Â¯Ã\\x82Â¿Ã\\x82Â½Ã\\x83Â¯Ã\\x82Â¿Ã\\x82Â½Ã\\x83Â¯Ã\\x82Â¿Ã\\x82Â½Ã\\x83Â¯Ã\\x82Â¿Ã\\x82Â½ and then just to make sure they understood (cuz letÃ\\x83Â¯Ã\\x82Â¿Ã\\x82Â½Ã\\x83Â¯Ã\\x82Â¿Ã\\x82Â½Ã\\x83Â¯Ã\\x82Â¿Ã\\x82Â½Ã\\x83Â¯Ã\\x82Â¿Ã\\x82Â½Ã\\x83Â¯Ã\\x82Â¿Ã\\x82Â½Ã\\x83Â¯Ã\\x82Â¿Ã\\x82Â½Ã\\x83Â¯Ã\\x82Â¿Ã\\x82Â½Ã\\x83Â¯Ã\\x82Â¿Ã\\x82Â½Ã\\x83Â¯Ã\\x82Â¿Ã\\x82Â½Ã\\x83Â¯Ã\\x82Â¿Ã\\x82Â½Ã\\x83Â¯Ã\\x82Â¿Ã\\x82Â½Ã\\x83Â¯Ã\\x82Â¿Ã\\x82Â½Ã\\x83Â¯Ã\\x82Â¿Ã\\x82Â½Ã\\x83Â¯Ã\\x82Â¿Ã\\x82Â½Ã\\x83Â¯Ã\\x82Â¿Ã\\x82Â½Ã\\x83Â¯Ã\\x82Â¿Ã\\x82Â½Ã\\x83Â¯Ã\\x82Â¿Ã\\x82Â½Ã\\x83Â¯Ã\\x82Â¿Ã\\x82Â½Ã\\x83Â¯Ã\\x82Â¿Ã\\x82Â½Ã\\x83Â¯Ã\\x82Â¿Ã\\x82Â½Ã\\x83Â¯Ã\\x82Â¿Ã\\x82Â½Ã\\x83Â¯Ã\\x82Â¿Ã\\x82Â½Ã\\x83Â¯Ã\\x82Â¿Ã\\x82Â½Ã\\x83Â¯Ã\\x82Â¿Ã\\x82Â½Ã\\x83Â¯Ã\\x82Â¿Ã\\x82Â½Ã\\x83Â¯Ã\\x82Â¿Ã\\x82Â½Ã\\x83Â¯Ã\\x82Â¿Ã\\x82Â½s face it, itÃ\\x83Â¯Ã\\x82Â¿Ã\\x82Â½Ã\\x83Â¯Ã\\x82Â¿Ã\\x82Â½Ã\\x83Â¯Ã\\x82Â¿Ã\\x82Â½Ã\\x83Â¯Ã\\x82Â¿Ã\\x82Â½Ã\\x83Â¯Ã\\x82Â¿Ã\\x82Â½Ã\\x83Â¯Ã\\x82Â¿Ã\\x82Â½Ã\\x83Â¯Ã\\x82Â¿Ã\\x82Â½Ã\\x83Â¯Ã\\x82Â¿Ã\\x82Â½Ã\\x83Â¯Ã\\x82Â¿Ã\\x82Â½Ã\\x83Â¯Ã\\x82Â¿Ã\\x82Â½Ã\\x83Â¯Ã\\x82Â¿Ã\\x82Â½Ã\\x83Â¯Ã\\x82Â¿Ã\\x82Â½Ã\\x83Â¯Ã\\x82Â¿Ã\\x82Â½Ã\\x83Â¯Ã\\x82Â¿Ã\\x82Â½Ã\\x83Â¯Ã\\x82Â¿Ã\\x82Â½Ã\\x83Â¯Ã\\x82Â¿Ã\\x82Â½Ã\\x83Â¯Ã\\x82Â¿Ã\\x82Â½Ã\\x83Â¯Ã\\x82Â¿Ã\\x82Â½Ã\\x83Â¯Ã\\x82Â¿Ã\\x82Â½Ã\\x83Â¯Ã\\x82Â¿Ã\\x82Â½Ã\\x83Â¯Ã\\x82Â¿Ã\\x82Â½Ã\\x83Â¯Ã\\x82Â¿Ã\\x82Â½Ã\\x83Â¯Ã\\x82Â¿Ã\\x82Â½Ã\\x83Â¯Ã\\x82Â¿Ã\\x82Â½Ã\\x83Â¯Ã\\x82Â¿Ã\\x82Â½Ã\\x83Â¯Ã\\x82Â¿Ã\\x82Â½Ã\\x83Â¯Ã\\x82Â¿Ã\\x82Â½s MacDonalds) you add - Ã\\x83Â¯Ã\\x82Â¿Ã\\x82Â½Ã\\x83Â¯Ã\\x82Â¿Ã\\x82Â½Ã\\x83Â¯Ã\\x82Â¿Ã\\x82Â½Ã\\x83Â¯Ã\\x82Â¿Ã\\x82Â½Ã\\x83Â¯Ã\\x82Â¿Ã\\x82Â½Ã\\x83Â¯Ã\\x82Â¿Ã\\x82Â½Ã\\x83Â¯Ã\\x82Â¿Ã\\x82Â½Ã\\x83Â¯Ã\\x82Â¿Ã\\x82Â½Ã\\x83Â¯Ã\\x82Â¿Ã\\x82Â½Ã\\x83Â¯Ã\\x82Â¿Ã\\x82Â½Ã\\x83Â¯Ã\\x82Â¿Ã\\x82Â½Ã\\x83Â¯Ã\\x82Â¿Ã\\x82Â½Ã\\x83Â¯Ã\\x82Â¿Ã\\x82Â½Ã\\x83Â¯Ã\\x82Â¿Ã\\x82Â½Ã\\x83Â¯Ã\\x82Â¿Ã\\x82Â½Ã\\x83Â¯Ã\\x82Â¿Ã\\x82Â½Ã\\x83Â¯Ã\\x82Â¿Ã\\x82Â½Ã\\x83Â¯Ã\\x82Â¿Ã\\x82Â½Ã\\x83Â¯Ã\\x82Â¿Ã\\x82Â½Ã\\x83Â¯Ã\\x82Â¿Ã\\x82Â½Ã\\x83Â¯Ã\\x82Â¿Ã\\x82Â½Ã\\x83Â¯Ã\\x82Â¿Ã\\x82Â½Ã\\x83Â¯Ã\\x82Â¿Ã\\x82Â½Ã\\x83Â¯Ã\\x82Â¿Ã\\x82Â½Ã\\x83Â¯Ã\\x82Â¿Ã\\x82Â½Ã\\x83Â¯Ã\\x82Â¿Ã\\x82Â½Ã\\x83Â¯Ã\\x82Â¿Ã\\x82Â½so nothing but the meat and bunsÃ\\x83Â¯Ã\\x82Â¿Ã\\x82Â½Ã\\x83Â¯Ã\\x82Â¿Ã\\x82Â½Ã\\x83Â¯Ã\\x82Â¿Ã\\x82Â½Ã\\x83Â¯Ã\\x82Â¿Ã\\x82Â½Ã\\x83Â¯Ã\\x82Â¿Ã\\x82Â½Ã\\x83Â¯Ã\\x82Â¿Ã\\x82Â½Ã\\x83Â¯Ã\\x82Â¿Ã\\x82Â½Ã\\x83Â¯Ã\\x82Â¿Ã\\x82Â½Ã\\x83Â¯Ã\\x82Â¿Ã\\x82Â½Ã\\x83Â¯Ã\\x82Â¿Ã\\x82Â½Ã\\x83Â¯Ã\\x82Â¿Ã\\x82Â½Ã\\x83Â¯Ã\\x82Â¿Ã\\x82Â½Ã\\x83Â¯Ã\\x82Â¿Ã\\x82Â½Ã\\x83Â¯Ã\\x82Â¿Ã\\x82Â½Ã\\x83Â¯Ã\\x82Â¿Ã\\x82Â½Ã\\x83Â¯Ã\\x82Â¿Ã\\x82Â½Ã\\x83Â¯Ã\\x82Â¿Ã\\x82Â½Ã\\x83Â¯Ã\\x82Â¿Ã\\x82Â½Ã\\x83Â¯Ã\\x82Â¿Ã\\x82Â½Ã\\x83Â¯Ã\\x82Â¿Ã\\x82Â½Ã\\x83Â¯Ã\\x82Â¿Ã\\x82Â½Ã\\x83Â¯Ã\\x82Â¿Ã\\x82Â½Ã\\x83Â¯Ã\\x82Â¿Ã\\x82Â½Ã\\x83Â¯Ã\\x82Â¿Ã\\x82Â½Ã\\x83Â¯Ã\\x82Â¿Ã\\x82Â½Ã\\x83Â¯Ã\\x82Â¿Ã\\x82Â½Ã\\x83Â¯Ã\\x82Â¿Ã\\x82Â½. Then you get home, open the bag, and immediately see the cheese through the hamburger wrapper.... I mean for cryin',\n",
       "  'review_processed': 'When you specifically say, plain and dry, and then just to make sure they understood, you add nothing but the meat and buns. Then you get home, open the bag, and immediately see the cheese through the hamburger wrapper.'},\n",
       " 75: {'reviewer_id': 76,\n",
       "  'review_time': '2022-12-20',\n",
       "  'rating': 1,\n",
       "  'review': 'Buyer beware. Yeah itÃ\\x83Â¯Ã\\x82Â¿Ã\\x82Â½Ã\\x83Â¯Ã\\x82Â¿Ã\\x82Â½Ã\\x83Â¯Ã\\x82Â¿Ã\\x82Â½Ã\\x83Â¯Ã\\x82Â¿Ã\\x82Â½Ã\\x83Â¯Ã\\x82Â¿Ã\\x82Â½Ã\\x83Â¯Ã\\x82Â¿Ã\\x82Â½Ã\\x83Â¯Ã\\x82Â¿Ã\\x82Â½Ã\\x83Â¯Ã\\x82Â¿Ã\\x82Â½Ã\\x83Â¯Ã\\x82Â¿Ã\\x82Â½Ã\\x83Â¯Ã\\x82Â¿Ã\\x82Â½Ã\\x83Â¯Ã\\x82Â¿Ã\\x82Â½Ã\\x83Â¯Ã\\x82Â¿Ã\\x82Â½Ã\\x83Â¯Ã\\x82Â¿Ã\\x82Â½Ã\\x83Â¯Ã\\x82Â¿Ã\\x82Â½Ã\\x83Â¯Ã\\x82Â¿Ã\\x82Â½Ã\\x83Â¯Ã\\x82Â¿Ã\\x82Â½Ã\\x83Â¯Ã\\x82Â¿Ã\\x82Â½Ã\\x83Â¯Ã\\x82Â¿Ã\\x82Â½Ã\\x83Â¯Ã\\x82Â¿Ã\\x82Â½Ã\\x83Â¯Ã\\x82Â¿Ã\\x82Â½Ã\\x83Â¯Ã\\x82Â¿Ã\\x82Â½Ã\\x83Â¯Ã\\x82Â¿Ã\\x82Â½Ã\\x83Â¯Ã\\x82Â¿Ã\\x82Â½Ã\\x83Â¯Ã\\x82Â¿Ã\\x82Â½Ã\\x83Â¯Ã\\x82Â¿Ã\\x82Â½Ã\\x83Â¯Ã\\x82Â¿Ã\\x82Â½Ã\\x83Â¯Ã\\x82Â¿Ã\\x82Â½s fast food and cheap. However, if you love to be consistently let down, this particular location is the place to frequent. This location loves to give you incorrect items and 100% of the time your order will be missing something.\\n\\nPlease be sure to check your order prior to leaving the premises. Do note that it takes forever to get them to correct their mistakes, so do take into consideration that the rest of your food will be cold and soggy by the time',\n",
       "  'review_processed': 'If you love to be consistently let down, this is the place to frequent. 100% of the time your order will be missing something. It takes forever to get them to correct their mistakes.'},\n",
       " 76: {'reviewer_id': 77,\n",
       "  'review_time': '2023-12-20',\n",
       "  'rating': 4,\n",
       "  'review': \"Service is slow, but I get all of my items with no errors and it's a bit smaller than most locations. Overall, it's a good place to grab a quick bite near Lake Creek.\",\n",
       "  'review_processed': \"Service is slow, but I get all of my items with no errors, and it's a bit smaller than most locations. It's a good place to grab a quick\"},\n",
       " 77: {'reviewer_id': 78,\n",
       "  'review_time': '2023-12-20',\n",
       "  'rating': 5,\n",
       "  'review': \"The cashier's are very nice. Its very clean on the inside, and they get your food done fast\",\n",
       "  'review_processed': \"The cashier's are very nice. Its very clean on the inside, and they get your food done fast\"},\n",
       " 78: {'reviewer_id': 79,\n",
       "  'review_time': '2023-12-20',\n",
       "  'rating': 4,\n",
       "  'review': 'Manager waited on me. He went out of his way to make me a satisfied customer.  Great customer service!',\n",
       "  'review_processed': 'Manager waited on me. He went out of his way to make me a satisfied customer.  Great customer service!'},\n",
       " 79: {'reviewer_id': 80,\n",
       "  'review_time': '2024-05-20',\n",
       "  'rating': 1,\n",
       "  'review': '2:42 AM on a Saturday and they just straight up stopped answering the drive through. They just sitting in there chilling',\n",
       "  'review_processed': '2:42 AM on a Saturday and they just straight up stopped answering the drive through. They just sitting in there chilling'},\n",
       " 80: {'reviewer_id': 81,\n",
       "  'review_time': '2021-12-20',\n",
       "  'rating': 4,\n",
       "  'review': 'I would have given 5 stars, the evening manager is the nicest person I have seen and is definitely in charge of training her crew with constantly new help, in spite of this, everytime I have to return an order she goes back to the kitchen and patiently disassembles the sandwich and explains the proper way to make the sandwich in a spirit of education and with a cherry disposition. You can tell the children she works with respect her and look up to her, and yes, they might get things confused occasionally but I will continue to go there. 4 out of 5 stars',\n",
       "  'review_processed': 'The evening manager is the nicest person I have seen. She is in charge of training her crew with constantly new help. Despite this, every time I have to return an order she goes back to the kitchen and explains the proper way to make the sandwich.'},\n",
       " 81: {'reviewer_id': 82,\n",
       "  'review_time': '2022-12-20',\n",
       "  'rating': 4,\n",
       "  'review': \"The staff is very kind and the food is usually prepared in a timely manner, for this reason it'sone of my preferred location's. However the drive thru line can sometimes be an inconvenience as it can get very long and at times even block entrances.\",\n",
       "  'review_processed': 'The staff are very kind and the food is usually prepared in a timely manner. The drive thru line can sometimes be an inconvenience as it can get very long and at times even block entrances.'},\n",
       " 82: {'reviewer_id': 83,\n",
       "  'review_time': '2022-12-20',\n",
       "  'rating': 1,\n",
       "  'review': \"Awful experience. Drive thru attendants are rude, untrained, and unprofessional. When asked for a manager the attendants lie and say that there isn't one on duty, FYI impossible for every shift not to have a manager. One specific attendant screamed and cursed at me, to which led me to contact corporate.\",\n",
       "  'review_processed': \"Driving thru attendants are rude, untrained, and unprofessional. When asked for a manager, they lie and say that there isn't one on duty.\"},\n",
       " 83: {'reviewer_id': 84,\n",
       "  'review_time': '2019-12-20',\n",
       "  'rating': 3,\n",
       "  'review': \"Decent McDonald's location.  The team here has always been friendly.  Drive thru can get pretty backed up during normal meal periods, so often it is better to go inside.  Make sure you go close to regular meal periods for fresher food vs the ones under the heat lamp for a while.    Store is always clean.\",\n",
       "  'review_processed': ' drive thru can get backed up during normal meal periods, so often it is better to go inside. Make sure you go close to regular meal periods for fresher food.'},\n",
       " 84: {'reviewer_id': 85,\n",
       "  'review_time': '2023-12-20',\n",
       "  'rating': 5,\n",
       "  'review': 'Hashbrowns were fire today.\\n\\nFrappes always on point and the machine is always working.\\n\\nAlways get me to work on time with fast workers',\n",
       "  'review_processed': 'Hashbrowns were fire today.\\n\\nFrappes always on point and the machine is always working.\\n\\nAlways get me to work on time with fast workers'},\n",
       " 85: {'reviewer_id': 86,\n",
       "  'review_time': '2021-12-20',\n",
       "  'rating': 3,\n",
       "  'review': \"When I order during the day, I have zero issues. They are listed as a 24 hour location, so they show up on Uber Eats late at night. Anytime I order after midnight, they will accept my order through UE and then sit around for an hour before cancelling it. I don't understand why you list yourselves as a 24 hour location if you cancel any orders after midnight. Other than that, this place has always given great service.\",\n",
       "  'review_processed': 'When I order during the day, I have zero issues. They are listed as a 24 hour location, so they show up on Uber Eats late at night. Anytime I order after midnight, they will accept my order through UE and then sit around for an hour before canceling it.'},\n",
       " 86: {'reviewer_id': 87,\n",
       "  'review_time': '2022-12-20',\n",
       "  'rating': 1,\n",
       "  'review': 'I ordered 4 happy meals with plain cheeseburgers. All the burgers were wrong. Do you know what itÃ\\x83Â¯Ã\\x82Â¿Ã\\x82Â½Ã\\x83Â¯Ã\\x82Â¿Ã\\x82Â½Ã\\x83Â¯Ã\\x82Â¿Ã\\x82Â½Ã\\x83Â¯Ã\\x82Â¿Ã\\x82Â½Ã\\x83Â¯Ã\\x82Â¿Ã\\x82Â½Ã\\x83Â¯Ã\\x82Â¿Ã\\x82Â½Ã\\x83Â¯Ã\\x82Â¿Ã\\x82Â½Ã\\x83Â¯Ã\\x82Â¿Ã\\x82Â½Ã\\x83Â¯Ã\\x82Â¿Ã\\x82Â½Ã\\x83Â¯Ã\\x82Â¿Ã\\x82Â½Ã\\x83Â¯Ã\\x82Â¿Ã\\x82Â½Ã\\x83Â¯Ã\\x82Â¿Ã\\x82Â½Ã\\x83Â¯Ã\\x82Â¿Ã\\x82Â½Ã\\x83Â¯Ã\\x82Â¿Ã\\x82Â½Ã\\x83Â¯Ã\\x82Â¿Ã\\x82Â½Ã\\x83Â¯Ã\\x82Â¿Ã\\x82Â½Ã\\x83Â¯Ã\\x82Â¿Ã\\x82Â½Ã\\x83Â¯Ã\\x82Â¿Ã\\x82Â½Ã\\x83Â¯Ã\\x82Â¿Ã\\x82Â½Ã\\x83Â¯Ã\\x82Â¿Ã\\x82Â½Ã\\x83Â¯Ã\\x82Â¿Ã\\x82Â½Ã\\x83Â¯Ã\\x82Â¿Ã\\x82Â½Ã\\x83Â¯Ã\\x82Â¿Ã\\x82Â½Ã\\x83Â¯Ã\\x82Â¿Ã\\x82Â½Ã\\x83Â¯Ã\\x82Â¿Ã\\x82Â½Ã\\x83Â¯Ã\\x82Â¿Ã\\x82Â½Ã\\x83Â¯Ã\\x82Â¿Ã\\x82Â½s like to have four grandkids that canÃ\\x83Â¯Ã\\x82Â¿',\n",
       "  'review_processed': 'I ordered 4 happy meals with plain cheeseburgers. All the burgers were wrong. Do you know what its like to have four grandkids that can'},\n",
       " 87: {'reviewer_id': 88,\n",
       "  'review_time': '2023-12-20',\n",
       "  'rating': 1,\n",
       "  'review': \"McDonalds is NOT a fast food company anymore. They're just a food company now. Always a line wrapped around the building that never moves. When are robots going to replace the kitchen staff who hate their jobs?\",\n",
       "  'review_processed': \"McDonald's is NOT a fast food company anymore. They're just a food company now. Always a line wrapped around the building that never moves. When are robots going to replace\"},\n",
       " 88: {'reviewer_id': 89,\n",
       "  'review_time': '2021-12-20',\n",
       "  'rating': 1,\n",
       "  'review': 'This McDonalds CONSTANTLY gets orders wrong. We have ordered at the window and over uber and EVERY SINGLE TIME we dont get a complete order. Today we went back to get our fry we had 3 chicken sandwiches and 2 fry not complicated at all. The manager gave us a new one but the girl at the oick up window shoved the bag in ny hands and when I tha ked her she made a rude face and turned away.',\n",
       "  'review_processed': \"We have ordered at the window and over the phone and every time we don't get a complete order. Today we went back to get our fries and the manager gave us a new one, but the girl at the windows shoved the bag in our hands and made a rude face and turned away.\"},\n",
       " 89: {'reviewer_id': 90,\n",
       "  'review_time': '2023-12-20',\n",
       "  'rating': 1,\n",
       "  'review': \"Night time drive through team seem really unprofessional. I ordered a meal with an extra fry, but when I got to the food window, was only given the fry with the meal. I mentioned the extra fry and was told I only paid for 1 fry. I offered to pay the difference for the extra fry, but was told I needed to drive back around and order again. Seriously? That's the response? Will not be returning.\",\n",
       "  'review_processed': 'I ordered a meal with an extra fry, but when I got to the food window, was only given the fry with the meal. I offered to pay the difference for the extra fry but was told I needed to drive back around and order again.'},\n",
       " 90: {'reviewer_id': 91,\n",
       "  'review_time': '2019-12-20',\n",
       "  'rating': 1,\n",
       "  'review': 'This is the 3rd time in a row that weÃ\\x83Â¯Ã\\x82Â¿Ã\\x82Â½Ã\\x83Â¯Ã\\x82Â¿Ã\\x82Â½Ã\\x83Â¯Ã\\x82Â¿Ã\\x82Â½Ã\\x83Â¯Ã\\x82Â¿Ã\\x82Â½Ã\\x83Â¯Ã\\x82Â¿Ã\\x82Â½Ã\\x83Â¯Ã\\x82Â¿Ã\\x82Â½Ã\\x83Â¯Ã\\x82Â¿Ã\\x82Â½Ã\\x83Â¯Ã\\x82Â¿Ã\\x82Â½Ã\\x83Â¯Ã\\x82Â¿Ã\\x82Â½Ã\\x83Â¯Ã\\x82Â¿Ã\\x82Â½Ã\\x83Â¯Ã\\x82Â¿Ã\\x82Â½Ã\\x83Â¯Ã\\x82Â¿Ã\\x82Â½Ã\\x83Â¯Ã\\x82Â¿Ã\\x82Â½Ã\\x83Â¯Ã\\x82Â¿Ã\\x82Â½Ã\\x83Â¯Ã\\x82Â¿Ã\\x82Â½Ã\\x83Â¯Ã\\x82Â¿Ã\\x82Â½Ã\\x83Â¯Ã\\x82Â¿Ã\\x82Â½Ã\\x83Â¯Ã\\x82Â¿Ã\\x82Â½Ã\\x83Â¯Ã\\x82Â¿Ã\\x82Â½Ã\\x83Â¯Ã\\x82Â¿Ã\\x82Â½Ã\\x83Â¯Ã\\x82Â¿Ã\\x82Â½Ã\\x83Â¯Ã\\x82Â¿Ã\\x82Â½Ã\\x83Â¯Ã\\x82Â¿Ã\\x82Â½Ã\\x83Â¯Ã\\x82Â¿Ã\\x82Â½Ã\\x83Â¯Ã\\x82Â¿Ã\\x82Â½Ã\\x83Â¯Ã\\x82Â¿Ã\\x82Â½Ã\\x83Â¯Ã\\x82Â¿Ã\\x82Â½ve been burned going through the drive threw. Each time they have messed up our order and youÃ\\x83Â¯Ã\\x82Â¿Ã\\x82Â½Ã\\x83Â¯Ã\\x82Â¿Ã\\x82Â½Ã\\x83Â¯Ã\\x82Â¿Ã\\x82Â½Ã\\x83Â¯Ã\\x82Â¿Ã\\x82Â½Ã\\x83Â¯Ã\\x82Â¿Ã\\x82Â½Ã\\x83Â¯Ã\\x82Â¿Ã\\x82Â½Ã\\x83Â¯Ã\\x82Â¿Ã\\x82Â½Ã\\x83Â¯Ã\\x82Â¿Ã\\x82Â½Ã\\x83Â¯Ã\\x82Â¿Ã\\x82Â½Ã\\x83Â¯Ã\\x82Â¿Ã\\x82Â½Ã\\x83Â¯Ã\\x82Â¿Ã\\x82Â½Ã\\x83Â¯Ã\\x82Â¿Ã\\x82Â½Ã\\x83Â¯Ã\\x82Â¿Ã\\x82Â½Ã\\x83Â¯Ã\\x82Â¿Ã\\x82Â½Ã\\x83Â¯Ã\\x82Â¿Ã\\x82Â½Ã\\x83Â¯Ã\\x82Â¿Ã\\x82Â½Ã\\x83Â¯Ã\\x82Â¿Ã\\x82Â½Ã\\x83Â¯Ã\\x82Â¿Ã\\x82Â½Ã\\x83Â¯Ã\\x82Â¿Ã\\x82Â½Ã\\x83Â¯Ã\\x82Â¿Ã\\x82Â½Ã\\x83Â¯Ã\\x82Â¿Ã\\x82Â½Ã\\x83Â¯Ã\\x82Â¿Ã\\x82Â½Ã\\x83Â¯Ã\\x82Â¿Ã\\x82Â½Ã\\x83Â¯Ã\\x82Â¿Ã\\x82Â½Ã\\x83Â¯Ã\\x82Â¿Ã\\x82Â½Ã\\x83Â¯Ã\\x82Â¿Ã\\x82Â½Ã\\x83Â¯Ã\\x82Â¿Ã\\x82Â½d think by now that I would have learned my lesson, but I thought this would be quick and easy. NOPE! This location sucks. I tried calling the number in the receipt but no one answers. I know I canÃ\\x83Â¯Ã\\x82Â¿Ã\\x82Â½Ã\\x83Â¯Ã\\x82Â¿Ã\\x82Â½Ã\\x83Â¯Ã\\x82Â¿Ã\\x82Â½Ã\\x83Â¯Ã\\x82Â¿Ã\\x82Â½Ã\\x83Â¯Ã\\x82Â¿Ã\\x82Â½Ã\\x83Â¯Ã\\x82Â¿Ã\\x82Â½Ã\\x83Â¯Ã\\x82Â¿Ã\\x82Â½Ã\\x83Â¯Ã\\x82Â¿Ã\\x82Â½Ã\\x83Â¯Ã\\x82Â¿Ã\\x82Â½Ã\\x83Â¯Ã\\x82Â¿Ã\\x82Â½Ã\\x83Â¯Ã\\x82Â¿Ã\\x82Â½Ã\\x83Â¯Ã\\x82Â¿Ã\\x82Â½',\n",
       "  'review_processed': \"This is the 3rd time in a row that we've been burned going through the drive thru. You'd think by now that I would have learned my lesson, but I thought this would be quick and easy. I tried calling the number in the receipt but no one answers.\"},\n",
       " 91: {'reviewer_id': 92,\n",
       "  'review_time': '2021-12-20',\n",
       "  'rating': 1,\n",
       "  'review': \"Worst experience! All I asked for was a regular size coffee.I get to the window and was handed a small , I asked the woman if that was a regular to which she rudely said yes I questioned her again two more times then I asked her how many sizes of coffee they had she said small medium and large I asked her which one was the one I was holding and she said it's a small that's what we charged you for she said, and I told her I asked for a regular which would be a medium but I just drove off. Also asked for 3 splendas and 4 creamers on the side and received 3 regular sugars and 2 creamers. To top it off, coffee was full of coffee grounds to the point I was spitting them out. And as a little plus there was a piece of plastic! Never again!\",\n",
       "  'review_processed': 'All I asked for was a regular size coffee. Coffee was full of coffee grounds to the point I was spitting them out. Also asked for 3 splendas and 4 creamers on the side and received 3 regular sugars and 2 creamers.'},\n",
       " 92: {'reviewer_id': 93,\n",
       "  'review_time': '2019-12-20',\n",
       "  'rating': 1,\n",
       "  'review': \"Attempted to go through the drive thru at 430 am. It said it was 24 hour, however no one seemed to be taking orders and I drove around twice just in case and tried again but still no answer. I saw one employee in the kitchen but couldn't get his attention.   Very bad business. If closed or delayed in opening then at least a sign that indicates that would have been nice.\",\n",
       "  'review_processed': \"I tried to go through the drive thru at 430am, but no one seemed to be taking orders. I saw one employee in the kitchen but couldn't get his attention.\"},\n",
       " 93: {'reviewer_id': 94,\n",
       "  'review_time': '2020-12-20',\n",
       "  'rating': 3,\n",
       "  'review': \"This place is okay. It has these kiosks where you order, take a number, and they bring the food to your table. I ordered a frozen lemonade, paid for it, then sat down. I was there for a bit before someone came and told me they were out. I got a regular drink instead but it was too much trouble to get a refund for the difference. I'm not sure I like this new way.\",\n",
       "  'review_processed': 'I ordered a frozen lemonade, paid for it, then sat down. I was there for a bit before someone came and told me they were out. I got a regular drink instead, but it was too much trouble to get a refund for the difference.'},\n",
       " 94: {'reviewer_id': 95,\n",
       "  'review_time': '2021-12-20',\n",
       "  'rating': 1,\n",
       "  'review': 'My burger was completely raw in the middle and when I took the burger back in to get it remade the lady behind the counter treated me like I was some stuck up brat for not wanting to eat a raw burger.\\nIf I had the ability to give them a zero star rating I would. I WILL NEVER EAT HERE AGAIN!!!',\n",
       "  'review_processed': 'My burger was completely raw in the middle, and when I went back in to get it remade, the lady behind the counter treated me like I was some stuck up brat for not wanting to eat a raw burger. I will never eat there again.'},\n",
       " 95: {'reviewer_id': 96,\n",
       "  'review_time': '2020-12-20',\n",
       "  'rating': 1,\n",
       "  'review': 'If I could give negative stars I would. This location is the absolute worst ever.  Every single time I go they f up my order! Then give attitude when they need to correct their mistakes.  I Try to give the benefit of the doubt everyone has off/bad days so I return thinking this time will be different, but it never is. They always suck. The staff is horrible. Corporate needs to send all their staff over to a week of training at chic-fil-A college to learn about work ethic, time management ,teamwork and basic manors.\\nI am baffled how chic-fil-a can have 30 cars in drive thru and get my order right the first time and under 5 mins. But at McDonaldÃ\\x83Â¯Ã\\x82Â¿Ã\\x82Â½Ã\\x83Â¯Ã\\x82Â¿Ã\\x82Â½Ã\\x83Â¯Ã\\x82Â¿Ã\\x82Â½Ã\\x83Â¯Ã\\x82Â¿Ã\\x82Â½Ã\\x83Â¯Ã\\x82Â¿Ã\\x82Â½Ã\\x83Â¯Ã\\x82Â¿Ã\\x82Â½Ã\\x83Â¯Ã\\x82Â¿Ã\\x82Â½Ã\\x83Â¯Ã\\x82Â¿Ã\\x82Â½Ã\\x83Â¯Ã\\x82Â¿Ã\\x82Â½Ã\\x83Â¯Ã\\x82Â¿Ã\\x82Â½Ã\\x83Â¯Ã\\x82Â¿Ã\\x82Â½Ã\\x83Â¯Ã\\x82Â¿Ã\\x82Â½Ã\\x83Â¯Ã\\x82Â¿Ã\\x82Â½Ã\\x83Â¯Ã\\x82Â¿Ã\\x82Â½Ã\\x83Â¯Ã\\x82Â¿Ã\\x82Â½Ã\\x83Â¯Ã\\x82Â¿Ã\\x82Â½Ã\\x83Â¯Ã\\x82Â¿Ã\\x82Â½Ã\\x83Â¯Ã\\x82Â¿Ã\\x82Â½Ã\\x83Â¯Ã\\x82Â¿Ã\\x82Â½Ã\\x83Â¯Ã\\x82Â¿Ã\\x82Â½Ã\\x83Â¯Ã\\x82Â¿Ã\\x82Â½Ã\\x83Â¯Ã\\x82Â¿Ã\\x82Â½Ã\\x83Â¯Ã\\x82Â¿Ã\\x82Â½Ã\\x83Â¯Ã\\x82Â¿Ã\\x82Â½Ã\\x83Â¯Ã\\x82Â¿Ã\\x82Â½Ã\\x83Â¯Ã\\x82Â¿Ã\\x82Â½Ã\\x83Â¯Ã\\x82Â¿Ã\\x82Â½s there could be 3 cars and it still takes 30 mins and 3+ tries to get my order right! makes no logical sense.\\nMoral of rant save your time and money and drive around the corner to chic-fil-a they got your',\n",
       "  'review_processed': 'Every single time I go they f up my order! Then give attitude when they need to correct their mistakes. The staff is horrible. Corporate needs to send all their staff over to a week of training at chic-fil-A college.'},\n",
       " 96: {'reviewer_id': 97,\n",
       "  'review_time': '2022-12-20',\n",
       "  'rating': 1,\n",
       "  'review': 'When ordering food the employees conveniently forgot to turn off their microphones and were talking mess about all the food we had ordered, this is very unprofessional and honestly uncalled for. When I asked for a receipt they said it was in the bad and it was convenient not in there. IÃ\\x83Â¯Ã\\x82Â¿Ã\\x82Â½Ã\\x83Â¯Ã\\x82Â¿Ã\\x82Â½Ã\\x83Â¯Ã\\x82Â¿Ã\\x82Â½Ã\\x83Â¯Ã\\x82Â¿Ã\\x82Â½Ã\\x83Â¯Ã\\x82Â¿Ã\\x82Â½Ã\\x83Â¯Ã\\x82Â¿Ã\\x82Â½Ã\\x83Â¯Ã\\x82Â¿Ã\\x82Â½Ã\\x83Â¯Ã\\x82Â¿Ã\\x82Â½Ã\\x83Â¯Ã\\x82Â¿Ã\\x82Â½Ã\\x83Â¯Ã\\x82Â¿Ã\\x82Â½Ã\\x83Â¯Ã\\x82Â¿Ã\\x82Â½Ã\\x83Â¯Ã\\x82Â¿Ã\\x82Â½Ã\\x83Â¯Ã\\x82Â¿Ã\\x82Â½Ã\\x83Â¯Ã\\x82Â¿Ã\\x82Â½Ã\\x83Â¯Ã\\x82Â¿Ã\\x82Â½Ã\\x83Â¯Ã\\x82Â¿Ã\\x82Â½Ã\\x83Â¯Ã\\x82Â¿Ã\\x82Â½Ã\\x83Â¯Ã\\x82Â¿Ã\\x82Â½Ã\\x83Â¯Ã\\x82Â¿Ã\\x82Â½Ã\\x83Â¯Ã\\x82Â¿Ã\\x82Â½Ã\\x83Â¯Ã\\x82Â¿Ã\\x82Â½Ã\\x83Â¯Ã\\x82Â¿Ã\\x82Â½Ã\\x83Â¯Ã\\x82Â¿Ã\\x82Â½Ã\\x83Â¯Ã\\x82Â¿Ã\\x82Â½Ã\\x83Â¯Ã\\x82Â¿Ã\\x82Â½Ã\\x83Â¯Ã\\x82Â¿Ã\\x82Â½Ã\\x83Â¯Ã\\x82Â¿Ã\\x82Â½ve trying to get ahold of management to speak ab',\n",
       "  'review_processed': 'When ordering food, the employees forgot to turn off their microphones and were talking messily about all the food we had ordered. This is very unprofessional and honestly uncalled for.'},\n",
       " 97: {'reviewer_id': 98,\n",
       "  'review_time': '2021-12-20',\n",
       "  'rating': 1,\n",
       "  'review': 'I donÃ\\x83Â¯Ã\\x82Â¿Ã\\x82Â½Ã\\x83Â¯Ã\\x82Â¿Ã\\x82Â½Ã\\x83Â¯Ã\\x82Â¿Ã\\x82Â½Ã\\x83Â¯Ã\\x82Â¿Ã\\x82Â½Ã\\x83Â¯Ã\\x82Â¿Ã\\x82Â½Ã\\x83Â¯Ã\\x82Â¿Ã\\x82Â½Ã\\x83Â¯Ã\\x82Â¿Ã\\x82Â½Ã\\x83Â¯Ã\\x82Â¿Ã\\x82Â½Ã\\x83Â¯Ã\\x82Â¿Ã\\x82Â½Ã\\x83Â¯Ã\\x82Â¿Ã\\x82Â½Ã\\x83Â¯Ã\\x82Â¿Ã\\x82Â½Ã\\x83Â¯Ã\\x82Â¿Ã\\x82Â½Ã\\x83Â¯Ã\\x82Â¿Ã\\x82Â½Ã\\x83Â¯Ã\\x82Â¿Ã\\x82Â½Ã\\x83Â¯Ã\\x82Â¿Ã\\x82Â½Ã\\x83Â¯Ã\\x82Â¿Ã\\x82Â½Ã\\x83Â¯Ã\\x82Â¿Ã\\x82Â½Ã\\x83Â¯Ã\\x82Â¿Ã\\x82Â½Ã\\x83Â¯Ã\\x82Â¿Ã\\x82Â½Ã\\x83Â¯Ã\\x82Â¿Ã\\x82Â½Ã\\x83Â¯Ã\\x82Â¿Ã\\x82Â½Ã\\x83Â¯Ã\\x82Â¿Ã\\x82Â½Ã\\x83Â¯Ã\\x82Â¿Ã\\x82Â½Ã\\x83Â¯Ã\\x82Â¿Ã\\x82Â½Ã\\x83Â¯Ã\\x82Â¿Ã\\x82Â½Ã\\x83Â¯Ã\\x82Â¿Ã\\x82Â½Ã\\x83Â¯Ã\\x82Â¿Ã\\x82Â½t usually review places but this location has ridiculously rude service and consistently gets the orders wrong. Even when not busy. If I were rude, IÃ\\x83Â¯Ã\\x82Â¿Ã\\x82Â½Ã\\x83Â¯Ã\\x82Â¿Ã\\x82Â½Ã\\x83Â¯Ã\\x82Â¿Ã\\x82Â½Ã\\x83Â¯Ã\\x82Â¿Ã\\x82Â½Ã\\x83Â¯Ã\\x82Â¿Ã\\x82Â½Ã\\x83Â¯Ã\\x82Â¿Ã\\x82Â½Ã\\x83Â¯Ã\\x82Â¿Ã\\x82Â½Ã\\x83Â¯Ã\\x82Â¿Ã\\x82Â½Ã\\x83Â¯Ã\\x82Â¿Ã\\x82Â½Ã\\x83Â¯Ã\\x82Â¿Ã\\x82Â½Ã\\x83Â¯Ã\\x82Â¿Ã\\x82Â½Ã\\x83Â¯Ã\\x82Â¿Ã\\x82Â½Ã\\x83Â¯Ã\\x82Â¿Ã\\x82Â½Ã\\x83Â¯Ã\\x82Â¿Ã\\x82Â½Ã\\x83Â¯Ã\\x82Â¿Ã\\x82Â½Ã\\x83Â¯Ã\\x82Â¿Ã\\x82Â½Ã\\x83Â¯Ã\\x82Â¿Ã\\x82Â½Ã\\x83Â¯Ã\\x82Â¿Ã\\x82Â½Ã\\x83Â¯Ã\\x82Â¿Ã\\x82Â½Ã\\x83Â¯Ã\\x82Â¿Ã\\x82Â½Ã\\x83Â¯Ã\\x82Â¿Ã\\x82Â½Ã\\x83Â¯Ã\\x82Â¿Ã\\x82Â½Ã\\x83Â¯Ã\\x82Â¿Ã\\x82Â½Ã\\x83Â¯',\n",
       "  'review_processed': 'I dont usually review places but this location has ridiculously rude service and consistently gets the orders wrong. Even when not busy. If I were rude, I'},\n",
       " 98: {'reviewer_id': 99,\n",
       "  'review_time': '2024-06-20',\n",
       "  'rating': 5,\n",
       "  'review': 'Allways has the best Fries and Ice cream in the world!',\n",
       "  'review_processed': 'Allways has the best Fries and Ice cream in the world!'},\n",
       " 99: {'reviewer_id': 100,\n",
       "  'review_time': '2023-12-20',\n",
       "  'rating': 4,\n",
       "  'review': 'Mcdonalds is great but they really need to hire people who understand both english and spanish and not just spanish speakers trying to take english orders. The people are really nice but be smarter about who you put in the drive thru and lobby to take orders.',\n",
       "  'review_processed': \"McDonald's is great but they really need to hire people who understand both English and Spanish. The people are really nice, but be smarter about who you put in the drive thru and lobby to take orders.\"}}"
      ]
     },
     "execution_count": 73,
     "metadata": {},
     "output_type": "execute_result"
    }
   ],
   "source": [
    "result = df[['reviewer_id', 'review_time', 'rating', 'review', 'review_processed']].to_dict('index')\n",
    "result"
   ]
  },
  {
   "cell_type": "code",
   "execution_count": 74,
   "id": "673d6672-7784-4fd7-8434-08b4345d27ad",
   "metadata": {},
   "outputs": [],
   "source": [
    "with open(\"temp-1.json\", \"w\") as file:\n",
    "    json.dump(result, file, indent=4)"
   ]
  },
  {
   "cell_type": "code",
   "execution_count": 72,
   "id": "f8a78aa0-ddbf-4146-b847-f1c8fffd4640",
   "metadata": {},
   "outputs": [],
   "source": [
    "# df.to_csv(\"preprocessed-mcd.csv\", index=False)"
   ]
  }
 ],
 "metadata": {
  "kernelspec": {
   "display_name": "transformers_env",
   "language": "python",
   "name": "transformers_env"
  },
  "language_info": {
   "codemirror_mode": {
    "name": "ipython",
    "version": 3
   },
   "file_extension": ".py",
   "mimetype": "text/x-python",
   "name": "python",
   "nbconvert_exporter": "python",
   "pygments_lexer": "ipython3",
   "version": "3.11.1"
  }
 },
 "nbformat": 4,
 "nbformat_minor": 5
}
