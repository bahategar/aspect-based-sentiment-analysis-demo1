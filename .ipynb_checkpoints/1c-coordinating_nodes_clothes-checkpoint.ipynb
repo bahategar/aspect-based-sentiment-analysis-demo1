{
 "cells": [
  {
   "cell_type": "code",
   "execution_count": 1,
   "id": "6fb0646c",
   "metadata": {},
   "outputs": [
    {
     "name": "stderr",
     "output_type": "stream",
     "text": [
      "C:\\Users\\Baha Tegar\\anaconda3\\Lib\\site-packages\\pandas\\core\\arrays\\masked.py:60: UserWarning: Pandas requires version '1.3.6' or newer of 'bottleneck' (version '1.3.5' currently installed).\n",
      "  from pandas.core import (\n"
     ]
    }
   ],
   "source": [
    "import pandas as pd\n",
    "import numpy as np\n",
    "import matplotlib.pyplot as plt\n",
    "\n",
    "import networkx as nx\n",
    "\n",
    "from tqdm import tqdm"
   ]
  },
  {
   "cell_type": "code",
   "execution_count": 2,
   "id": "8ac8263c",
   "metadata": {},
   "outputs": [
    {
     "name": "stdout",
     "output_type": "stream",
     "text": [
      "<class 'pandas.core.frame.DataFrame'>\n",
      "RangeIndex: 462 entries, 0 to 461\n",
      "Data columns (total 4 columns):\n",
      " #   Column        Non-Null Count  Dtype \n",
      "---  ------        --------------  ----- \n",
      " 0   node_id       462 non-null    int64 \n",
      " 1   first_cycle   462 non-null    object\n",
      " 2   second_cycle  462 non-null    object\n",
      " 3   category      462 non-null    object\n",
      "dtypes: int64(1), object(3)\n",
      "memory usage: 14.6+ KB\n",
      "None\n"
     ]
    },
    {
     "data": {
      "text/html": [
       "<div>\n",
       "<style scoped>\n",
       "    .dataframe tbody tr th:only-of-type {\n",
       "        vertical-align: middle;\n",
       "    }\n",
       "\n",
       "    .dataframe tbody tr th {\n",
       "        vertical-align: top;\n",
       "    }\n",
       "\n",
       "    .dataframe thead th {\n",
       "        text-align: right;\n",
       "    }\n",
       "</style>\n",
       "<table border=\"1\" class=\"dataframe\">\n",
       "  <thead>\n",
       "    <tr style=\"text-align: right;\">\n",
       "      <th></th>\n",
       "      <th>node_id</th>\n",
       "      <th>first_cycle</th>\n",
       "      <th>second_cycle</th>\n",
       "      <th>category</th>\n",
       "    </tr>\n",
       "  </thead>\n",
       "  <tbody>\n",
       "    <tr>\n",
       "      <th>0</th>\n",
       "      <td>0</td>\n",
       "      <td>other</td>\n",
       "      <td>type</td>\n",
       "      <td>products</td>\n",
       "    </tr>\n",
       "    <tr>\n",
       "      <th>1</th>\n",
       "      <td>1</td>\n",
       "      <td>compliment</td>\n",
       "      <td>other</td>\n",
       "      <td>other</td>\n",
       "    </tr>\n",
       "    <tr>\n",
       "      <th>2</th>\n",
       "      <td>2</td>\n",
       "      <td>perfect</td>\n",
       "      <td>emotion</td>\n",
       "      <td>customer experience</td>\n",
       "    </tr>\n",
       "    <tr>\n",
       "      <th>3</th>\n",
       "      <td>3</td>\n",
       "      <td>length</td>\n",
       "      <td>experience</td>\n",
       "      <td>customer experience</td>\n",
       "    </tr>\n",
       "    <tr>\n",
       "      <th>4</th>\n",
       "      <td>4</td>\n",
       "      <td>pocket</td>\n",
       "      <td>properties</td>\n",
       "      <td>products</td>\n",
       "    </tr>\n",
       "  </tbody>\n",
       "</table>\n",
       "</div>"
      ],
      "text/plain": [
       "   node_id first_cycle second_cycle             category\n",
       "0        0       other         type             products\n",
       "1        1  compliment        other                other\n",
       "2        2     perfect      emotion  customer experience\n",
       "3        3      length   experience  customer experience\n",
       "4        4      pocket   properties             products"
      ]
     },
     "execution_count": 2,
     "metadata": {},
     "output_type": "execute_result"
    }
   ],
   "source": [
    "df = pd.read_csv(\"./clothes_result/nodes_clothes.csv\")\n",
    "# df = df.drop('reviewer_id', axis=1)\n",
    "df = df.drop(['reviewer_id'], axis=1)\n",
    "print(df.info())\n",
    "df.head()"
   ]
  },
  {
   "cell_type": "code",
   "execution_count": 3,
   "id": "6844e0e7",
   "metadata": {},
   "outputs": [],
   "source": [
    "# edges = []\n",
    "\n",
    "# for idx, row in df.iterrows():\n",
    "#     edges.append((row['first_cycle'], row['second_cycle']))\n",
    "#     edges.append((row['second_cycle'], row['category']))\n",
    "    \n",
    "# edges = np.array(edges)"
   ]
  },
  {
   "cell_type": "code",
   "execution_count": 4,
   "id": "87e8720a",
   "metadata": {},
   "outputs": [
    {
     "data": {
      "text/plain": [
       "{'other': array([-0.04593839, -0.11712812]),\n",
       " 'type': array([-0.10419749,  0.22491781]),\n",
       " 'compliment': array([-0.04012264,  0.02610553]),\n",
       " 'perfect': array([0.31961915, 0.28931392]),\n",
       " 'emotion': array([0.24058342, 0.20212229]),\n",
       " 'length': array([-0.59372645, -0.42081842]),\n",
       " 'experience': array([-0.44017671, -0.34003501]),\n",
       " 'pocket': array([0.99104478, 0.51982158]),\n",
       " 'properties': array([0.8825851, 0.4217281]),\n",
       " 'fit': array([-0.58940585, -0.37744055]),\n",
       " 'sandal': array([ 0.14211594, -0.10323979]),\n",
       " 'look': array([-0.02944921, -0.31615159]),\n",
       " 'more': array([ 0.14168749, -0.17531507]),\n",
       " 'side': array([-0.5174622 , -0.42734134]),\n",
       " 'size': array([0.7857826 , 0.32271768]),\n",
       " 'casual': array([ 0.00825349, -0.19625941]),\n",
       " 'fabric': array([0.99442173, 0.46246958]),\n",
       " 'style': array([-0.56203904, -0.46169563]),\n",
       " 'material': array([0.79663668, 0.39359089]),\n",
       " 'first': array([-0.41745283,  0.19732288]),\n",
       " 'application': array([-0.34465942,  0.06161319]),\n",
       " 'wash': array([-0.47503942,  0.09734388]),\n",
       " 'great': array([0.22682784, 0.31697336]),\n",
       " 'color': array([1.        , 0.39733847]),\n",
       " 'thread': array([ 0.02500843, -0.04955498]),\n",
       " 'thing': array([ 0.04108971, -0.24315579]),\n",
       " 'service': array([-0.18902456,  0.04949546]),\n",
       " 'good': array([0.24070126, 0.36809766]),\n",
       " 'nice': array([0.2843484 , 0.34363242]),\n",
       " 'purchase': array([-0.07629811, -0.0107751 ]),\n",
       " 'cute': array([0.37940509, 0.17547538]),\n",
       " 'spot': array([-0.61276752, -0.33524546]),\n",
       " 'dress': array([-0.0551576 ,  0.35735472]),\n",
       " 'time': array([-0.30237606,  0.11251197]),\n",
       " 'zipper': array([0.81180709, 0.46821747]),\n",
       " 'arm': array([-0.51682772, -0.49147684]),\n",
       " 'pant': array([-0.1665797 ,  0.38380779]),\n",
       " 'pair': array([0.01006958, 0.0148324 ]),\n",
       " 'horrible': array([-0.13072168, -0.17596903]),\n",
       " 'petite': array([-0.16636391, -0.23942991]),\n",
       " 'layer': array([-0.19803028, -0.13283448]),\n",
       " 'vest': array([-0.09964058,  0.39039658]),\n",
       " 'piece': array([-0.49711172,  0.1405015 ]),\n",
       " 'review': array([-0.18851349, -0.18751762]),\n",
       " 'shirt': array([-0.20293749,  0.33969427]),\n",
       " 'several': array([ 0.07807567, -0.19196576]),\n",
       " 'sweater': array([-0.13205332,  0.34647473]),\n",
       " 'quality': array([0.81255792, 0.51820564]),\n",
       " 'right': array([-0.44499593, -0.46149836]),\n",
       " 'slip': array([-0.54317769, -0.34522175]),\n",
       " 'top': array([0.32862552, 0.35452552]),\n",
       " 'place': array([ 0.11209887, -0.14226571]),\n",
       " 'wear': array([-0.54537933, -0.27143001]),\n",
       " 'way': array([ 0.04856178, -0.12483364]),\n",
       " 'poor': array([0.36802245, 0.31743359]),\n",
       " 'comfortable': array([ 0.12356016, -0.22129314]),\n",
       " 'order': array([ 0.10255869, -0.0356736 ]),\n",
       " 'beautiful': array([0.37632246, 0.22446571]),\n",
       " 'black': array([ 0.06181864, -0.29073826]),\n",
       " 'short': array([-0.02263436, -0.26385891]),\n",
       " 'day': array([-0.07358083, -0.29881152]),\n",
       " 'stain': array([ 0.06104098, -0.00053004]),\n",
       " 'sadly': array([-0.11266525, -0.23893439]),\n",
       " 'price': array([-0.24770105,  0.16964548]),\n",
       " 'few': array([0.38934336, 0.26887514]),\n",
       " 'summer': array([-0.4547274 ,  0.16797226]),\n",
       " 'show': array([-0.11970119, -0.28709678]),\n",
       " 'love': array([ 0.09590357, -0.25747302]),\n",
       " 'print': array([ 0.09659134, -0.08187022]),\n",
       " 'pilcro': array([-0.05945802, -0.22051248]),\n",
       " 'retailer': array([-0.12930358, -0.02660804]),\n",
       " 'store': array([-0.50160633,  0.05479692]),\n",
       " 'light': array([-0.1367675 , -0.10106301]),\n",
       " 'waist': array([-0.59296294, -0.28784656]),\n",
       " 'stripe': array([-0.46226224, -0.50504268]),\n",
       " 'blue': array([-0.18323717, -0.07171705]),\n",
       " 'shoulder': array([ 0.01742143, -0.30340559]),\n",
       " 'white': array([0.92974357, 0.33128285])}"
      ]
     },
     "execution_count": 4,
     "metadata": {},
     "output_type": "execute_result"
    }
   ],
   "source": [
    "edges = df[['first_cycle', 'second_cycle']].values\n",
    "Q = nx.Graph()\n",
    "Q.add_edges_from(edges)\n",
    "coordinates = nx.spring_layout(Q)\n",
    "\n",
    "coordinates"
   ]
  },
  {
   "cell_type": "code",
   "execution_count": 5,
   "id": "074bdac8",
   "metadata": {},
   "outputs": [
    {
     "name": "stdout",
     "output_type": "stream",
     "text": [
      "<class 'pandas.core.frame.DataFrame'>\n",
      "RangeIndex: 78 entries, 0 to 77\n",
      "Data columns (total 3 columns):\n",
      " #   Column    Non-Null Count  Dtype  \n",
      "---  ------    --------------  -----  \n",
      " 0   NodeName  78 non-null     object \n",
      " 1   X         78 non-null     float64\n",
      " 2   Y         78 non-null     float64\n",
      "dtypes: float64(2), object(1)\n",
      "memory usage: 2.0+ KB\n",
      "None\n"
     ]
    },
    {
     "data": {
      "text/html": [
       "<div>\n",
       "<style scoped>\n",
       "    .dataframe tbody tr th:only-of-type {\n",
       "        vertical-align: middle;\n",
       "    }\n",
       "\n",
       "    .dataframe tbody tr th {\n",
       "        vertical-align: top;\n",
       "    }\n",
       "\n",
       "    .dataframe thead th {\n",
       "        text-align: right;\n",
       "    }\n",
       "</style>\n",
       "<table border=\"1\" class=\"dataframe\">\n",
       "  <thead>\n",
       "    <tr style=\"text-align: right;\">\n",
       "      <th></th>\n",
       "      <th>NodeName</th>\n",
       "      <th>X</th>\n",
       "      <th>Y</th>\n",
       "    </tr>\n",
       "  </thead>\n",
       "  <tbody>\n",
       "    <tr>\n",
       "      <th>0</th>\n",
       "      <td>other</td>\n",
       "      <td>-0.045938</td>\n",
       "      <td>-0.117128</td>\n",
       "    </tr>\n",
       "    <tr>\n",
       "      <th>1</th>\n",
       "      <td>type</td>\n",
       "      <td>-0.104197</td>\n",
       "      <td>0.224918</td>\n",
       "    </tr>\n",
       "    <tr>\n",
       "      <th>2</th>\n",
       "      <td>compliment</td>\n",
       "      <td>-0.040123</td>\n",
       "      <td>0.026106</td>\n",
       "    </tr>\n",
       "    <tr>\n",
       "      <th>3</th>\n",
       "      <td>perfect</td>\n",
       "      <td>0.319619</td>\n",
       "      <td>0.289314</td>\n",
       "    </tr>\n",
       "    <tr>\n",
       "      <th>4</th>\n",
       "      <td>emotion</td>\n",
       "      <td>0.240583</td>\n",
       "      <td>0.202122</td>\n",
       "    </tr>\n",
       "  </tbody>\n",
       "</table>\n",
       "</div>"
      ],
      "text/plain": [
       "     NodeName         X         Y\n",
       "0       other -0.045938 -0.117128\n",
       "1        type -0.104197  0.224918\n",
       "2  compliment -0.040123  0.026106\n",
       "3     perfect  0.319619  0.289314\n",
       "4     emotion  0.240583  0.202122"
      ]
     },
     "execution_count": 5,
     "metadata": {},
     "output_type": "execute_result"
    }
   ],
   "source": [
    "df_coor = pd.DataFrame\\\n",
    "            .from_dict(coordinates).T\\\n",
    "            .rename(columns={0: 'X', 1: 'Y'})\\\n",
    "            .reset_index()\\\n",
    "            .rename(columns={'index': 'NodeName'})\n",
    "\n",
    "print(df_coor.info())\n",
    "df_coor.head()"
   ]
  },
  {
   "cell_type": "code",
   "execution_count": 6,
   "id": "92f7b6e4",
   "metadata": {},
   "outputs": [],
   "source": [
    "# Create connection bridge dataframe\n",
    "\n",
    "temp_1 = df[['node_id', 'first_cycle']].rename(columns={'first_cycle': 'NodeName'})\n",
    "temp_2 = df[['node_id', 'second_cycle']].rename(columns={'second_cycle':'NodeName'})\n",
    "\n",
    "df_connection = pd.concat([temp_1, temp_2], axis=0).sort_values(by='node_id')"
   ]
  },
  {
   "cell_type": "code",
   "execution_count": 7,
   "id": "e7ed28d1",
   "metadata": {},
   "outputs": [],
   "source": [
    "# # Create connection bridge\n",
    "# edges = edges.reshape(-1)\n",
    "# print(edges.shape)\n",
    "\n",
    "# df_connector = pd.DataFrame(edges, columns=['NodeName'])\n",
    "\n",
    "# array_idx = []\n",
    "# for i in range(1, len(edges) + 1):\n",
    "#     array_idx.append((i + 1) // 2)\n",
    "\n",
    "\n",
    "# print(len(array_idx))\n",
    "# df_connector['c_index'] = array_idx\n",
    "# df_connector.head()"
   ]
  },
  {
   "cell_type": "code",
   "execution_count": 8,
   "id": "74232b6a",
   "metadata": {},
   "outputs": [],
   "source": [
    "df_coor.to_csv(\"./clothes_result/coordinate_nodes_clothes.csv\", index=False)\n",
    "df_connection.to_csv(\"./clothes_result/connection_nodes_clothes.csv\", index=False)"
   ]
  },
  {
   "cell_type": "code",
   "execution_count": null,
   "id": "0feec095",
   "metadata": {},
   "outputs": [],
   "source": []
  },
  {
   "cell_type": "code",
   "execution_count": null,
   "id": "9657b932",
   "metadata": {},
   "outputs": [],
   "source": []
  },
  {
   "cell_type": "code",
   "execution_count": null,
   "id": "46ae3960",
   "metadata": {},
   "outputs": [],
   "source": []
  }
 ],
 "metadata": {
  "kernelspec": {
   "display_name": "Python 3 (ipykernel)",
   "language": "python",
   "name": "python3"
  },
  "language_info": {
   "codemirror_mode": {
    "name": "ipython",
    "version": 3
   },
   "file_extension": ".py",
   "mimetype": "text/x-python",
   "name": "python",
   "nbconvert_exporter": "python",
   "pygments_lexer": "ipython3",
   "version": "3.11.4"
  }
 },
 "nbformat": 4,
 "nbformat_minor": 5
}
