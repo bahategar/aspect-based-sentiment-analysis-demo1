{
 "cells": [
  {
   "cell_type": "code",
   "execution_count": 1,
   "id": "0180afdc-9bc5-49fc-aecd-97163d0d5741",
   "metadata": {},
   "outputs": [],
   "source": [
    "import pandas as pd\n",
    "import numpy as np\n",
    "import matplotlib.pyplot as plt\n",
    "\n",
    "import re\n",
    "import json\n",
    "\n",
    "from tqdm import tqdm"
   ]
  },
  {
   "cell_type": "code",
   "execution_count": 2,
   "id": "e23e77e7-9ac4-4b32-a6dd-4e27e2942622",
   "metadata": {},
   "outputs": [],
   "source": [
    "import nltk\n",
    "from nltk.corpus import stopwords\n",
    "\n",
    "import spacy\n",
    "import gensim"
   ]
  },
  {
   "cell_type": "markdown",
   "id": "abcef99f-1d7f-4c73-bf72-6291d3932084",
   "metadata": {},
   "source": [
    "# Load Model"
   ]
  },
  {
   "cell_type": "code",
   "execution_count": 3,
   "id": "a178ad07-5954-4786-978e-17006444e4d5",
   "metadata": {},
   "outputs": [],
   "source": [
    "# Load nlp model\n",
    "nlp = spacy.load('en_core_web_sm')"
   ]
  },
  {
   "cell_type": "markdown",
   "id": "05279123-20ca-41b9-851d-d74eef43ec39",
   "metadata": {},
   "source": [
    "# Load Dataset"
   ]
  },
  {
   "cell_type": "code",
   "execution_count": 4,
   "id": "7b00017c-eb59-4e05-8626-c475d64e0af3",
   "metadata": {
    "scrolled": true
   },
   "outputs": [],
   "source": [
    "with open(\"meta-data.json\", \"r\") as file:\n",
    "    data = json.load(file)\n",
    "\n",
    "# data"
   ]
  },
  {
   "cell_type": "code",
   "execution_count": 5,
   "id": "0df36fa5-73c4-47e3-962d-b7ab6b4f6d5b",
   "metadata": {},
   "outputs": [
    {
     "name": "stdout",
     "output_type": "stream",
     "text": [
      "<class 'pandas.core.frame.DataFrame'>\n",
      "Index: 100 entries, 0 to 99\n",
      "Data columns (total 6 columns):\n",
      " #   Column            Non-Null Count  Dtype \n",
      "---  ------            --------------  ----- \n",
      " 0   reviewer_id       100 non-null    int64 \n",
      " 1   review_time       100 non-null    object\n",
      " 2   rating            100 non-null    int64 \n",
      " 3   review_processed  100 non-null    object\n",
      " 4   aspect_sentiment  100 non-null    object\n",
      " 5   sentiment         100 non-null    object\n",
      "dtypes: int64(2), object(4)\n",
      "memory usage: 5.5+ KB\n",
      "None\n"
     ]
    },
    {
     "data": {
      "text/html": [
       "<div>\n",
       "<style scoped>\n",
       "    .dataframe tbody tr th:only-of-type {\n",
       "        vertical-align: middle;\n",
       "    }\n",
       "\n",
       "    .dataframe tbody tr th {\n",
       "        vertical-align: top;\n",
       "    }\n",
       "\n",
       "    .dataframe thead th {\n",
       "        text-align: right;\n",
       "    }\n",
       "</style>\n",
       "<table border=\"1\" class=\"dataframe\">\n",
       "  <thead>\n",
       "    <tr style=\"text-align: right;\">\n",
       "      <th></th>\n",
       "      <th>reviewer_id</th>\n",
       "      <th>review_time</th>\n",
       "      <th>rating</th>\n",
       "      <th>review_processed</th>\n",
       "      <th>aspect_sentiment</th>\n",
       "      <th>sentiment</th>\n",
       "    </tr>\n",
       "  </thead>\n",
       "  <tbody>\n",
       "    <tr>\n",
       "      <th>0</th>\n",
       "      <td>1</td>\n",
       "      <td>2024-09-04</td>\n",
       "      <td>1</td>\n",
       "      <td>I had a normal transaction, everyone was calm ...</td>\n",
       "      <td>[{'term': 'food', 'class': 'negative', 'probab...</td>\n",
       "      <td>negative</td>\n",
       "    </tr>\n",
       "    <tr>\n",
       "      <th>1</th>\n",
       "      <td>2</td>\n",
       "      <td>2024-11-29</td>\n",
       "      <td>4</td>\n",
       "      <td>The staff at McDonald's are friendly, accommod...</td>\n",
       "      <td>[{'term': 'fast food', 'class': 'positive', 'p...</td>\n",
       "      <td>positive</td>\n",
       "    </tr>\n",
       "    <tr>\n",
       "      <th>2</th>\n",
       "      <td>3</td>\n",
       "      <td>2024-11-29</td>\n",
       "      <td>1</td>\n",
       "      <td>I made a mobile order got to the speaker and c...</td>\n",
       "      <td>[{'term': 'speaker', 'class': 'neutral', 'prob...</td>\n",
       "      <td>negative</td>\n",
       "    </tr>\n",
       "    <tr>\n",
       "      <th>3</th>\n",
       "      <td>4</td>\n",
       "      <td>2024-11-04</td>\n",
       "      <td>5</td>\n",
       "      <td>Crispy chicken sandwich was delicious, and cus...</td>\n",
       "      <td>[{'term': 'sandwich', 'class': 'positive', 'pr...</td>\n",
       "      <td>positive</td>\n",
       "    </tr>\n",
       "    <tr>\n",
       "      <th>4</th>\n",
       "      <td>5</td>\n",
       "      <td>2024-10-04</td>\n",
       "      <td>1</td>\n",
       "      <td>I repeat my order three times in the drive thr...</td>\n",
       "      <td>[{'term': 'fries', 'class': 'negative', 'proba...</td>\n",
       "      <td>negative</td>\n",
       "    </tr>\n",
       "  </tbody>\n",
       "</table>\n",
       "</div>"
      ],
      "text/plain": [
       "   reviewer_id review_time  rating  \\\n",
       "0            1  2024-09-04       1   \n",
       "1            2  2024-11-29       4   \n",
       "2            3  2024-11-29       1   \n",
       "3            4  2024-11-04       5   \n",
       "4            5  2024-10-04       1   \n",
       "\n",
       "                                    review_processed  \\\n",
       "0  I had a normal transaction, everyone was calm ...   \n",
       "1  The staff at McDonald's are friendly, accommod...   \n",
       "2  I made a mobile order got to the speaker and c...   \n",
       "3  Crispy chicken sandwich was delicious, and cus...   \n",
       "4  I repeat my order three times in the drive thr...   \n",
       "\n",
       "                                    aspect_sentiment sentiment  \n",
       "0  [{'term': 'food', 'class': 'negative', 'probab...  negative  \n",
       "1  [{'term': 'fast food', 'class': 'positive', 'p...  positive  \n",
       "2  [{'term': 'speaker', 'class': 'neutral', 'prob...  negative  \n",
       "3  [{'term': 'sandwich', 'class': 'positive', 'pr...  positive  \n",
       "4  [{'term': 'fries', 'class': 'negative', 'proba...  negative  "
      ]
     },
     "execution_count": 5,
     "metadata": {},
     "output_type": "execute_result"
    }
   ],
   "source": [
    "df = pd.DataFrame.from_dict(data, 'index')\n",
    "\n",
    "print(df.info())\n",
    "df.head()"
   ]
  },
  {
   "cell_type": "markdown",
   "id": "134416aa-9ea2-45e4-88bb-28d16561e367",
   "metadata": {},
   "source": [
    "# Modeling"
   ]
  },
  {
   "cell_type": "code",
   "execution_count": 6,
   "id": "a718467b-131b-4277-a5df-e52970bef934",
   "metadata": {},
   "outputs": [],
   "source": [
    "import os\n",
    "\n",
    "# Load Bing Liu's opinion word dictionary\n",
    "bing_liu_opinion_words = set()  # Add the actual list of opinion words here\n",
    "\n",
    "# Function to load opinion words from Bing Liu lexicon\n",
    "def load_opinion_words(filepath):\n",
    "    global bing_liu_opinion_words\n",
    "    temp = pd.read_table(filepath, comment=';', header=None)[0].to_list()\n",
    "    bing_liu_opinion_words = bing_liu_opinion_words.union(set(temp))\n",
    "\n",
    "\n",
    "# Load opinion words\n",
    "current_dir = os.getcwd()\n",
    "load_opinion_words(os.path.join(current_dir, 'util/opinion-lexicon-English/negative-words.txt'))\n",
    "load_opinion_words(os.path.join(current_dir, 'util/opinion-lexicon-English/positive-words.txt'))"
   ]
  },
  {
   "cell_type": "code",
   "execution_count": 7,
   "id": "9ed2e794-2565-4183-87e1-a922f3d7aae9",
   "metadata": {},
   "outputs": [],
   "source": [
    "corpus = df['review_processed'].values"
   ]
  },
  {
   "cell_type": "code",
   "execution_count": 8,
   "id": "695902ef-6962-409f-b145-843b9eda1dad",
   "metadata": {},
   "outputs": [],
   "source": [
    "# Define the list of stopwords\n",
    "stop_words = set(stopwords.words('english'))"
   ]
  },
  {
   "cell_type": "code",
   "execution_count": 9,
   "id": "17be83cd-a7d9-4b35-bc32-e772a679b7a7",
   "metadata": {},
   "outputs": [],
   "source": [
    "# Preprocessing text\n",
    "def preprocessing(text):\n",
    "\n",
    "    # Get token of words\n",
    "    doc = nlp(text)\n",
    "    result = []\n",
    "    for token in doc:\n",
    "        t = token.lemma_.lower()\n",
    "\n",
    "        if re.match(r'^[0-9\\W]+$', t) or len(t) < 3 or t in stop_words:\n",
    "            continue\n",
    "        # If the token is adjective, noun, propn, or verb\n",
    "        if token.pos_ in ['NOUN', 'PROPN', 'VERB']:\n",
    "            result.append(t)\n",
    "        # elif token.pos_ in ['ADJ', 'VERB']:\n",
    "        #     result.append(t)\n",
    "        # If the token is ADJ but not sentiment opinion\n",
    "        elif token.pos_ in ['ADJ'] and t not in bing_liu_opinion_words:\n",
    "            result.append(t)\n",
    "        else:\n",
    "            continue\n",
    "        # result.append(t)\n",
    "    return result\n",
    "\n",
    "# Create texts\n",
    "texts = [preprocessing(document) for document in corpus]\n",
    "\n",
    "# Create dictionary\n",
    "dictionary = gensim.corpora.Dictionary(texts)\n",
    "\n",
    "\n",
    "# Convert documents into Bag-of-words format\n",
    "corpus_bow = [dictionary.doc2bow(text) for text in texts]\n",
    "\n",
    "# Train the TF-IDF model\n",
    "tfidf_model = gensim.models.TfidfModel(corpus_bow)\n",
    "\n",
    "# Get corpus tfidf \n",
    "corpus_tfidf = tfidf_model[corpus_bow]"
   ]
  },
  {
   "cell_type": "code",
   "execution_count": 10,
   "id": "e9f7334c-7610-4ef3-8c3f-4914c458f21f",
   "metadata": {},
   "outputs": [
    {
     "name": "stderr",
     "output_type": "stream",
     "text": [
      "100%|████████████████████████████████████████████████████████████████████████████████████| 9/9 [01:01<00:00,  6.83s/it]\n"
     ]
    }
   ],
   "source": [
    "def topic_model_coherence_generator(corpus, texts, dictionary,\n",
    "                                    start_topic_count=2, end_topic_count=10,\n",
    "                                    step=1, cpus=1):\n",
    "    models = []\n",
    "    coherence_scores = []\n",
    "    for topic_nums in tqdm(range(start_topic_count, end_topic_count+1, step)):\n",
    "        lda_model = gensim.models.LdaModel(corpus=corpus, id2word=dictionary,\n",
    "                                           chunksize=1740, alpha='auto',\n",
    "                                           eta='auto', random_state=42,\n",
    "                                           iterations=500, num_topics=topic_nums,\n",
    "                                           passes=20, eval_every=None)\n",
    "\n",
    "        cv_coherence_model_lda = gensim.models.CoherenceModel(model=lda_model,\n",
    "                                                                     corpus=corpus,\n",
    "                                                                     texts=texts,\n",
    "                                                                     dictionary=dictionary,\n",
    "                                                                     coherence='c_v')\n",
    "        coherence_score = cv_coherence_model_lda.get_coherence()\n",
    "        coherence_scores.append(coherence_score)\n",
    "        models.append(lda_model)\n",
    "\n",
    "\n",
    "    return models, coherence_scores\n",
    "\n",
    "models, coherence_scores = topic_model_coherence_generator(corpus=corpus_tfidf,\n",
    "                                                           texts=texts,\n",
    "                                                           dictionary=dictionary)\n",
    "opt_model = models[np.argmax(coherence_scores)]"
   ]
  },
  {
   "cell_type": "code",
   "execution_count": 11,
   "id": "6bb897b0-5e95-45e6-a52f-f5847f79d86b",
   "metadata": {},
   "outputs": [],
   "source": [
    "opt_model = models[2]"
   ]
  },
  {
   "cell_type": "code",
   "execution_count": 12,
   "id": "387b95e2-497b-42a7-8e1b-5ca74330325d",
   "metadata": {},
   "outputs": [],
   "source": [
    "# Calculate overall mean coherence score\n",
    "topics_coherences = opt_model.top_topics(corpus_tfidf, topn=20)"
   ]
  },
  {
   "cell_type": "code",
   "execution_count": 13,
   "id": "b49f0771-fc50-4df0-8aec-ce7a72a933a0",
   "metadata": {},
   "outputs": [
    {
     "data": {
      "text/plain": [
       "[0.3436506829892641,\n",
       " 0.36712392261298205,\n",
       " 0.45411010897828186,\n",
       " 0.48334003071613446,\n",
       " 0.5066616716213542,\n",
       " 0.4914349167897502,\n",
       " 0.514811684545422,\n",
       " 0.4861680718070238,\n",
       " 0.47716146344109917]"
      ]
     },
     "execution_count": 13,
     "metadata": {},
     "output_type": "execute_result"
    }
   ],
   "source": [
    "coherence_scores"
   ]
  },
  {
   "cell_type": "markdown",
   "id": "3818c3d1-c822-45f0-8126-5682436e3fe1",
   "metadata": {},
   "source": [
    "# Result"
   ]
  },
  {
   "cell_type": "code",
   "execution_count": 14,
   "id": "0d84f8db-aa96-4c1a-8cc8-b5d781153645",
   "metadata": {},
   "outputs": [
    {
     "name": "stdout",
     "output_type": "stream",
     "text": [
      "LDA Topics with Weights\n",
      "==================================================\n",
      "Topic 1:\n",
      "[('order', 0.012), ('take', 0.009), ('wait', 0.007), ('come', 0.006), ('minute', 0.006), ('service', 0.006), ('mcdonald', 0.006), ('food', 0.006), ('customer', 0.006), ('leave', 0.005), ('sauce', 0.005), ('employee', 0.005), ('get', 0.005), ('late', 0.005), ('menu', 0.005), ('night', 0.005), ('people', 0.005), ('exist', 0.005), ('sit', 0.004), ('hour', 0.004)]\n",
      "\n",
      "Topic 2:\n",
      "[('get', 0.007), ('location', 0.007), ('customer', 0.006), ('drink', 0.006), ('chicken', 0.006), ('service', 0.006), ('time', 0.006), ('food', 0.006), ('give', 0.005), ('price', 0.005), ('attitude', 0.005), ('order', 0.005), ('answer', 0.005), ('experience', 0.005), ('review', 0.005), ('miss', 0.005), ('large', 0.005), ('letter', 0.004), ('welcome', 0.004), ('staff', 0.004)]\n",
      "\n",
      "Topic 3:\n",
      "[('world', 0.007), ('cream', 0.006), ('manager', 0.006), ('ice', 0.006), ('thru', 0.006), ('drive', 0.005), ('taste', 0.005), ('say', 0.005), ('need', 0.005), ('student', 0.005), ('mcdonald', 0.004), ('fry', 0.004), ('job', 0.004), ('staff', 0.004), ('chain', 0.004), ('time', 0.004), ('try', 0.004), ('meal', 0.004), ('think', 0.004), ('work', 0.004)]\n",
      "\n",
      "Topic 4:\n",
      "[('service', 0.008), ('food', 0.008), ('meal', 0.006), ('line', 0.005), ('call', 0.005), ('eat', 0.005), ('long', 0.005), ('wait', 0.005), ('drive', 0.005), ('fry', 0.005), ('want', 0.004), ('get', 0.004), ('sure', 0.004), ('smoothie', 0.004), ('company', 0.004), ('sign', 0.004), ('boy', 0.004), ('period', 0.004), ('staff', 0.004), ('hour', 0.004)]\n",
      "\n"
     ]
    }
   ],
   "source": [
    "# Visualize result: Topic with weights\n",
    "\n",
    "topics_with_wts = [item[0] for item in topics_coherences]\n",
    "print(\"LDA Topics with Weights\")\n",
    "print('='*50)\n",
    "for idx, topic in enumerate(topics_with_wts):\n",
    "  print(f'Topic {idx + 1}:')\n",
    "  print([(term, round(wt, 3)) for wt, term in topic])\n",
    "  print()"
   ]
  },
  {
   "cell_type": "raw",
   "id": "2fc5c09e-b142-4148-b5d7-e195cf8b332a",
   "metadata": {},
   "source": [
    "NOTE:\n",
    "1. Topic 1: Customer Service and Waiting Experience\n",
    "2. Topic 2: Food Quality and Value for Money\n",
    "3. Topic 3: Drive-Thru and Ice Cream Experience\n",
    "4. Topic 4: Operational Challenges and Meal Preferences"
   ]
  },
  {
   "cell_type": "code",
   "execution_count": 15,
   "id": "ae8fb8b0-724d-4b58-b3db-5dac0a3e75ba",
   "metadata": {},
   "outputs": [
    {
     "data": {
      "text/html": [
       "<div>\n",
       "<style scoped>\n",
       "    .dataframe tbody tr th:only-of-type {\n",
       "        vertical-align: middle;\n",
       "    }\n",
       "\n",
       "    .dataframe tbody tr th {\n",
       "        vertical-align: top;\n",
       "    }\n",
       "\n",
       "    .dataframe thead th {\n",
       "        text-align: right;\n",
       "    }\n",
       "</style>\n",
       "<table border=\"1\" class=\"dataframe\">\n",
       "  <thead>\n",
       "    <tr style=\"text-align: right;\">\n",
       "      <th></th>\n",
       "      <th>Term per Topic</th>\n",
       "    </tr>\n",
       "  </thead>\n",
       "  <tbody>\n",
       "    <tr>\n",
       "      <th>1</th>\n",
       "      <td>service, food, meal, line, call, eat, long, wa...</td>\n",
       "    </tr>\n",
       "    <tr>\n",
       "      <th>2</th>\n",
       "      <td>get, location, customer, drink, chicken, servi...</td>\n",
       "    </tr>\n",
       "    <tr>\n",
       "      <th>3</th>\n",
       "      <td>world, cream, manager, ice, thru, drive, taste...</td>\n",
       "    </tr>\n",
       "    <tr>\n",
       "      <th>4</th>\n",
       "      <td>order, take, wait, come, minute, service, mcdo...</td>\n",
       "    </tr>\n",
       "  </tbody>\n",
       "</table>\n",
       "</div>"
      ],
      "text/plain": [
       "                                      Term per Topic\n",
       "1  service, food, meal, line, call, eat, long, wa...\n",
       "2  get, location, customer, drink, chicken, servi...\n",
       "3  world, cream, manager, ice, thru, drive, taste...\n",
       "4  order, take, wait, come, minute, service, mcdo..."
      ]
     },
     "execution_count": 15,
     "metadata": {},
     "output_type": "execute_result"
    }
   ],
   "source": [
    "topics = [[(term, round(wt, 3))\n",
    "              for term, wt in opt_model.show_topic(n, topn=20)]\n",
    "          for n in range(0, opt_model.num_topics)\n",
    "          ]\n",
    "\n",
    "topic_df = pd.DataFrame([', '.join([term for term, wt in topic]) for topic in topics],\n",
    "                       columns=['Term per Topic'],\n",
    "                       index=[str(t) for t in range(1, opt_model.num_topics+1)])\n",
    "topic_df"
   ]
  },
  {
   "cell_type": "code",
   "execution_count": 16,
   "id": "69e30c93-8af9-46da-ba60-d0d876b07192",
   "metadata": {},
   "outputs": [
    {
     "data": {
      "text/plain": [
       "[{'topic': '1',\n",
       "  'term': 'service, food, meal, line, call, eat, long, wait, drive, fry, want, get, sure, smoothie, company, sign, boy, period, staff, hour'},\n",
       " {'topic': '2',\n",
       "  'term': 'get, location, customer, drink, chicken, service, time, food, give, price, attitude, order, answer, experience, review, miss, large, letter, welcome, staff'},\n",
       " {'topic': '3',\n",
       "  'term': 'world, cream, manager, ice, thru, drive, taste, say, need, student, mcdonald, fry, job, staff, chain, time, try, meal, think, work'},\n",
       " {'topic': '4',\n",
       "  'term': 'order, take, wait, come, minute, service, mcdonald, food, customer, leave, sauce, employee, get, late, menu, night, people, exist, sit, hour'}]"
      ]
     },
     "execution_count": 16,
     "metadata": {},
     "output_type": "execute_result"
    }
   ],
   "source": [
    "topic_json = topic_df.reset_index().rename({'index': 'topic', 'Term per Topic': 'term'}, axis=1).to_dict('records')\n",
    "\n",
    "topic_json"
   ]
  },
  {
   "cell_type": "code",
   "execution_count": 17,
   "id": "a6dd761a-2e42-4d6f-b3c6-76d633f0dee5",
   "metadata": {},
   "outputs": [
    {
     "data": {
      "text/plain": [
       "[(0, 0.9230946),\n",
       " (1, 0.9264464),\n",
       " (1, 0.94004244),\n",
       " (3, 0.9069516),\n",
       " (2, 0.9376731)]"
      ]
     },
     "execution_count": 17,
     "metadata": {},
     "output_type": "execute_result"
    }
   ],
   "source": [
    "# Interpreting result\n",
    "tm_results = opt_model[corpus_tfidf]\n",
    "\n",
    "# Corpus Topics\n",
    "corpus_topics = [sorted(topics, key=lambda record: -record[1])[0]\n",
    "                 for topics in tm_results]\n",
    "\n",
    "corpus_topics[:5]"
   ]
  },
  {
   "cell_type": "code",
   "execution_count": 18,
   "id": "0ff380e5-f8e8-4195-9a07-d71118665750",
   "metadata": {},
   "outputs": [
    {
     "name": "stdout",
     "output_type": "stream",
     "text": [
      "[0.022532022, 0.9264454, 0.021526597, 0.029495927]\n"
     ]
    },
    {
     "data": {
      "text/plain": [
       "0.9999999701976776"
      ]
     },
     "execution_count": 18,
     "metadata": {},
     "output_type": "execute_result"
    }
   ],
   "source": [
    "count = 0\n",
    "for topics in tm_results:\n",
    "    count += 1\n",
    "    temp = [t[-1] for t in topics]\n",
    "    if count == 2:\n",
    "        break\n",
    "print(temp)\n",
    "sum(temp)"
   ]
  },
  {
   "cell_type": "code",
   "execution_count": 19,
   "id": "e1ca3b62-7c31-4536-8154-5e6627598105",
   "metadata": {},
   "outputs": [
    {
     "data": {
      "text/html": [
       "<div>\n",
       "<style scoped>\n",
       "    .dataframe tbody tr th:only-of-type {\n",
       "        vertical-align: middle;\n",
       "    }\n",
       "\n",
       "    .dataframe tbody tr th {\n",
       "        vertical-align: top;\n",
       "    }\n",
       "\n",
       "    .dataframe thead th {\n",
       "        text-align: right;\n",
       "    }\n",
       "</style>\n",
       "<table border=\"1\" class=\"dataframe\">\n",
       "  <thead>\n",
       "    <tr style=\"text-align: right;\">\n",
       "      <th></th>\n",
       "      <th>topic</th>\n",
       "      <th>probability</th>\n",
       "      <th>terms</th>\n",
       "    </tr>\n",
       "  </thead>\n",
       "  <tbody>\n",
       "    <tr>\n",
       "      <th>1</th>\n",
       "      <td>1</td>\n",
       "      <td>0.9231</td>\n",
       "      <td>service, food, meal, line, call, eat, long, wa...</td>\n",
       "    </tr>\n",
       "    <tr>\n",
       "      <th>2</th>\n",
       "      <td>2</td>\n",
       "      <td>0.9264</td>\n",
       "      <td>get, location, customer, drink, chicken, servi...</td>\n",
       "    </tr>\n",
       "    <tr>\n",
       "      <th>3</th>\n",
       "      <td>2</td>\n",
       "      <td>0.9400</td>\n",
       "      <td>get, location, customer, drink, chicken, servi...</td>\n",
       "    </tr>\n",
       "    <tr>\n",
       "      <th>4</th>\n",
       "      <td>4</td>\n",
       "      <td>0.9070</td>\n",
       "      <td>order, take, wait, come, minute, service, mcdo...</td>\n",
       "    </tr>\n",
       "    <tr>\n",
       "      <th>5</th>\n",
       "      <td>3</td>\n",
       "      <td>0.9377</td>\n",
       "      <td>world, cream, manager, ice, thru, drive, taste...</td>\n",
       "    </tr>\n",
       "  </tbody>\n",
       "</table>\n",
       "</div>"
      ],
      "text/plain": [
       "   topic  probability                                              terms\n",
       "1      1       0.9231  service, food, meal, line, call, eat, long, wa...\n",
       "2      2       0.9264  get, location, customer, drink, chicken, servi...\n",
       "3      2       0.9400  get, location, customer, drink, chicken, servi...\n",
       "4      4       0.9070  order, take, wait, come, minute, service, mcdo...\n",
       "5      3       0.9377  world, cream, manager, ice, thru, drive, taste..."
      ]
     },
     "execution_count": 19,
     "metadata": {},
     "output_type": "execute_result"
    }
   ],
   "source": [
    "corpus_topic_df = pd.DataFrame(index=df['reviewer_id'].values)\n",
    "corpus_topic_df['topic'] = [item[0]+1 for item in corpus_topics]\n",
    "corpus_topic_df['probability'] = [round(item[1], 4) for item in corpus_topics]\n",
    "corpus_topic_df['terms'] = [topic_df.iloc[t[0]]['Term per Topic'] for t in corpus_topics]\n",
    "# corpus_topic_df['reviewer_id'] = df['reviewer_id'].values\n",
    "\n",
    "corpus_topic_df.head()"
   ]
  },
  {
   "cell_type": "code",
   "execution_count": 20,
   "id": "bf837974-9a93-467d-b03b-1d86d86ecb58",
   "metadata": {},
   "outputs": [],
   "source": [
    "corpus_topic_json = corpus_topic_df.to_dict('index')\n",
    "\n",
    "# corpus_topic_json"
   ]
  },
  {
   "cell_type": "code",
   "execution_count": 21,
   "id": "1780a0e7-1dac-4f90-b505-c740ec0daa88",
   "metadata": {},
   "outputs": [
    {
     "data": {
      "text/html": [
       "<div>\n",
       "<style scoped>\n",
       "    .dataframe tbody tr th:only-of-type {\n",
       "        vertical-align: middle;\n",
       "    }\n",
       "\n",
       "    .dataframe tbody tr th {\n",
       "        vertical-align: top;\n",
       "    }\n",
       "\n",
       "    .dataframe thead th {\n",
       "        text-align: right;\n",
       "    }\n",
       "</style>\n",
       "<table border=\"1\" class=\"dataframe\">\n",
       "  <thead>\n",
       "    <tr style=\"text-align: right;\">\n",
       "      <th></th>\n",
       "      <th>reviewer_id</th>\n",
       "      <th>review_time</th>\n",
       "      <th>rating</th>\n",
       "      <th>review_processed</th>\n",
       "      <th>aspect_sentiment</th>\n",
       "      <th>sentiment</th>\n",
       "      <th>topic</th>\n",
       "    </tr>\n",
       "  </thead>\n",
       "  <tbody>\n",
       "    <tr>\n",
       "      <th>0</th>\n",
       "      <td>1</td>\n",
       "      <td>2024-09-04</td>\n",
       "      <td>1</td>\n",
       "      <td>I had a normal transaction, everyone was calm ...</td>\n",
       "      <td>[{'term': 'food', 'class': 'negative', 'probab...</td>\n",
       "      <td>negative</td>\n",
       "      <td>{'topic': 1, 'probability': 0.9230999946594238...</td>\n",
       "    </tr>\n",
       "    <tr>\n",
       "      <th>1</th>\n",
       "      <td>2</td>\n",
       "      <td>2024-11-29</td>\n",
       "      <td>4</td>\n",
       "      <td>The staff at McDonald's are friendly, accommod...</td>\n",
       "      <td>[{'term': 'fast food', 'class': 'positive', 'p...</td>\n",
       "      <td>positive</td>\n",
       "      <td>{'topic': 2, 'probability': 0.9264000058174133...</td>\n",
       "    </tr>\n",
       "    <tr>\n",
       "      <th>2</th>\n",
       "      <td>3</td>\n",
       "      <td>2024-11-29</td>\n",
       "      <td>1</td>\n",
       "      <td>I made a mobile order got to the speaker and c...</td>\n",
       "      <td>[{'term': 'speaker', 'class': 'neutral', 'prob...</td>\n",
       "      <td>negative</td>\n",
       "      <td>{'topic': 2, 'probability': 0.9399999976158142...</td>\n",
       "    </tr>\n",
       "    <tr>\n",
       "      <th>3</th>\n",
       "      <td>4</td>\n",
       "      <td>2024-11-04</td>\n",
       "      <td>5</td>\n",
       "      <td>Crispy chicken sandwich was delicious, and cus...</td>\n",
       "      <td>[{'term': 'sandwich', 'class': 'positive', 'pr...</td>\n",
       "      <td>positive</td>\n",
       "      <td>{'topic': 4, 'probability': 0.9070000052452087...</td>\n",
       "    </tr>\n",
       "    <tr>\n",
       "      <th>4</th>\n",
       "      <td>5</td>\n",
       "      <td>2024-10-04</td>\n",
       "      <td>1</td>\n",
       "      <td>I repeat my order three times in the drive thr...</td>\n",
       "      <td>[{'term': 'fries', 'class': 'negative', 'proba...</td>\n",
       "      <td>negative</td>\n",
       "      <td>{'topic': 3, 'probability': 0.9376999735832214...</td>\n",
       "    </tr>\n",
       "  </tbody>\n",
       "</table>\n",
       "</div>"
      ],
      "text/plain": [
       "   reviewer_id review_time  rating  \\\n",
       "0            1  2024-09-04       1   \n",
       "1            2  2024-11-29       4   \n",
       "2            3  2024-11-29       1   \n",
       "3            4  2024-11-04       5   \n",
       "4            5  2024-10-04       1   \n",
       "\n",
       "                                    review_processed  \\\n",
       "0  I had a normal transaction, everyone was calm ...   \n",
       "1  The staff at McDonald's are friendly, accommod...   \n",
       "2  I made a mobile order got to the speaker and c...   \n",
       "3  Crispy chicken sandwich was delicious, and cus...   \n",
       "4  I repeat my order three times in the drive thr...   \n",
       "\n",
       "                                    aspect_sentiment sentiment  \\\n",
       "0  [{'term': 'food', 'class': 'negative', 'probab...  negative   \n",
       "1  [{'term': 'fast food', 'class': 'positive', 'p...  positive   \n",
       "2  [{'term': 'speaker', 'class': 'neutral', 'prob...  negative   \n",
       "3  [{'term': 'sandwich', 'class': 'positive', 'pr...  positive   \n",
       "4  [{'term': 'fries', 'class': 'negative', 'proba...  negative   \n",
       "\n",
       "                                               topic  \n",
       "0  {'topic': 1, 'probability': 0.9230999946594238...  \n",
       "1  {'topic': 2, 'probability': 0.9264000058174133...  \n",
       "2  {'topic': 2, 'probability': 0.9399999976158142...  \n",
       "3  {'topic': 4, 'probability': 0.9070000052452087...  \n",
       "4  {'topic': 3, 'probability': 0.9376999735832214...  "
      ]
     },
     "execution_count": 21,
     "metadata": {},
     "output_type": "execute_result"
    }
   ],
   "source": [
    "df['topic'] = df['reviewer_id'].apply(lambda x: corpus_topic_json[x])\n",
    "\n",
    "df.head()"
   ]
  },
  {
   "cell_type": "code",
   "execution_count": 22,
   "id": "5f15a7ae-10f9-4607-8358-c43a1c55beb6",
   "metadata": {},
   "outputs": [],
   "source": [
    "result = df.to_dict('index')\n",
    "# result"
   ]
  },
  {
   "cell_type": "markdown",
   "id": "7ddbd135-12f1-483d-8026-bf87d1fdba29",
   "metadata": {},
   "source": [
    "# Save Result"
   ]
  },
  {
   "cell_type": "code",
   "execution_count": 23,
   "id": "95b27d2c-62a0-4fc4-be4d-2d83d649ad36",
   "metadata": {},
   "outputs": [],
   "source": [
    "# with open(\"meta-topic.json\", \"w\") as file:\n",
    "#     json.dump(corpus_topic_json, file, indent=4)"
   ]
  },
  {
   "cell_type": "code",
   "execution_count": 24,
   "id": "a4f8d0cf-d241-4511-83a9-ab081545e9a2",
   "metadata": {},
   "outputs": [],
   "source": [
    "# with open(\"map-topic.json\",  \"w\") as file:\n",
    "#     json.dump(topic_json, file, indent=4)"
   ]
  },
  {
   "cell_type": "code",
   "execution_count": null,
   "id": "697faaa5-de31-485d-8c57-0d60c9c9c8c8",
   "metadata": {},
   "outputs": [],
   "source": []
  },
  {
   "cell_type": "code",
   "execution_count": null,
   "id": "6deb5194-831c-4ea2-bcee-a11fafadf2bc",
   "metadata": {},
   "outputs": [],
   "source": []
  },
  {
   "cell_type": "code",
   "execution_count": null,
   "id": "58fe8e88-ac84-4f19-b2de-383c3ae5fde8",
   "metadata": {},
   "outputs": [],
   "source": []
  },
  {
   "cell_type": "code",
   "execution_count": null,
   "id": "2daa5dd0-f26c-481e-9d19-845c3890f057",
   "metadata": {},
   "outputs": [],
   "source": []
  }
 ],
 "metadata": {
  "kernelspec": {
   "display_name": "Python 3 (ipykernel)",
   "language": "python",
   "name": "python3"
  },
  "language_info": {
   "codemirror_mode": {
    "name": "ipython",
    "version": 3
   },
   "file_extension": ".py",
   "mimetype": "text/x-python",
   "name": "python",
   "nbconvert_exporter": "python",
   "pygments_lexer": "ipython3",
   "version": "3.11.7"
  }
 },
 "nbformat": 4,
 "nbformat_minor": 5
}
