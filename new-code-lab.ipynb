{
 "cells": [
  {
   "cell_type": "code",
   "execution_count": 301,
   "id": "0a73099f-cdbe-472a-8a93-1ca2b62a0118",
   "metadata": {},
   "outputs": [],
   "source": [
    "import pandas as pd\n",
    "import numpy as np\n",
    "import matplotlib.pyplot as plt\n",
    "\n",
    "import spacy\n",
    "\n",
    "import re\n",
    "import os"
   ]
  },
  {
   "cell_type": "code",
   "execution_count": 18,
   "id": "f36c8809-d74b-4cc1-ad95-b60b0dd1bc15",
   "metadata": {},
   "outputs": [
    {
     "ename": "ModuleNotFoundError",
     "evalue": "No module named 'gensim.summarization'",
     "output_type": "error",
     "traceback": [
      "\u001b[1;31m---------------------------------------------------------------------------\u001b[0m",
      "\u001b[1;31mModuleNotFoundError\u001b[0m                       Traceback (most recent call last)",
      "Cell \u001b[1;32mIn[18], line 1\u001b[0m\n\u001b[1;32m----> 1\u001b[0m \u001b[38;5;28;01mfrom\u001b[39;00m \u001b[38;5;21;01mgensim\u001b[39;00m\u001b[38;5;21;01m.\u001b[39;00m\u001b[38;5;21;01msummarization\u001b[39;00m \u001b[38;5;28;01mimport\u001b[39;00m summarize\n\u001b[0;32m      2\u001b[0m \u001b[38;5;28;01mimport\u001b[39;00m \u001b[38;5;21;01mre\u001b[39;00m\n",
      "\u001b[1;31mModuleNotFoundError\u001b[0m: No module named 'gensim.summarization'"
     ]
    }
   ],
   "source": [
    "from gensim.summarization import summarize\n",
    "import re"
   ]
  },
  {
   "cell_type": "code",
   "execution_count": 17,
   "id": "b9f552eb-a070-47cb-b6eb-cfef76ccc975",
   "metadata": {},
   "outputs": [
    {
     "name": "stdout",
     "output_type": "stream",
     "text": [
      "Requirement already satisfied: gensim in c:\\users\\baha tegar\\anaconda3\\lib\\site-packages (4.3.3)\n",
      "Requirement already satisfied: numpy<2.0,>=1.18.5 in c:\\users\\baha tegar\\anaconda3\\lib\\site-packages (from gensim) (1.26.4)\n",
      "Requirement already satisfied: scipy<1.14.0,>=1.7.0 in c:\\users\\baha tegar\\anaconda3\\lib\\site-packages (from gensim) (1.11.4)\n",
      "Requirement already satisfied: smart-open>=1.8.1 in c:\\users\\baha tegar\\anaconda3\\lib\\site-packages (from gensim) (5.2.1)\n"
     ]
    }
   ],
   "source": [
    "!pip install --upgrade gensim"
   ]
  },
  {
   "cell_type": "code",
   "execution_count": 1,
   "id": "2b7dca77-ff6f-4729-aec4-8f5496b0d29b",
   "metadata": {},
   "outputs": [],
   "source": [
    "DOCUMENT = \"\"\"\n",
    "The Elder Scrolls V: Skyrim is an action role-playing video game developed by Bethesda Game Studios \n",
    "and published by Bethesda Softworks. It is the fifth main installment in The Elder Scrolls series, \n",
    "following The Elder Scrolls IV: Oblivion.\n",
    "The game's main story revolves around the player character's quest to defeat Alduin the World-Eater, \n",
    "a dragon who is prophesied to destroy the world. The game is set 200 years after the events of Oblivion \n",
    "and takes place in the fictional province of Skyrim. Over the course of the game, the player completes \n",
    "quests and develops the character by improving skills. The game continues the open-world tradition of \n",
    "its predecessors by allowing the player to travel anywhere in the game world at any time, and to ignore \n",
    "or postpone the main storyline indefinitely.\n",
    "The team opted for a unique and more diverse open world than Oblivion's Imperial Province of Cyrodiil, \n",
    "which game director and executive producer Todd Howard considered less interesting by comparison. \n",
    "The game was released to critical acclaim, with reviewers particularly mentioning the character advancement \n",
    "and setting, and is considered to be one of the greatest video games of all time.\n",
    "\n",
    "\n",
    "The Elder Scrolls V: Skyrim is an action role-playing game, playable from either a first or \n",
    "third-person perspective. The player may freely roam over the land of Skyrim which is an open world \n",
    "environment consisting of wilderness expanses, dungeons, cities, towns, fortresses, and villages. \n",
    "Players may navigate the game world more quickly by riding horses or by utilizing a fast-travel system \n",
    "which allows them to warp to previously discovered locations. The game's main quest can be completed or \n",
    "ignored at the player's preference after the first stage of the quest is finished. However, some quests \n",
    "rely on the main storyline being at least partially completed. Non-player characters (NPCs) populate the \n",
    "world and can be interacted with in a number of ways: the player may engage them in conversation, \n",
    "marry an eligible NPC, kill them or engage in a nonlethal \"brawl\". The player may \n",
    "choose to join factions which are organized groups of NPCs — for example, the Dark Brotherhood, a band \n",
    "of assassins. Each of the factions has an associated quest path to progress through. Each city and town \n",
    "in the game world has jobs that the player can engage in, such as farming.\n",
    "\n",
    "Players have the option to develop their character. At the beginning of the game, players create \n",
    "their character by selecting their sex and choosing between one of several races including humans, \n",
    "orcs, elves, and anthropomorphic cat or lizard-like creatures and then customizing their character's \n",
    "appearance. Over the course of the game, players improve their character's skills which are numerical \n",
    "representations of their ability in certain areas. There are eighteen skills divided evenly among the \n",
    "three schools of combat, magic, and stealth. When players have trained skills enough to meet the \n",
    "required experience, their character levels up. Health is depleted primarily when the player \n",
    "takes damage and the loss of all health results in death. Magicka is depleted by the use of spells, \n",
    "certain poisons and by being struck by lightning-based attacks. Stamina determines the player's \n",
    "effectiveness in combat and is depleted by sprinting, performing heavy \"power attacks\" \n",
    "and being struck by frost-based attacks. Skyrim is the first entry in The Elder Scrolls to \n",
    "include dragons in the game's wilderness. Like other creatures, dragons are generated randomly in \n",
    "the world and will engage in combat with NPCs, creatures and the player. Some dragons may attack \n",
    "cities and towns when in their proximity. The player character can absorb the souls of dragons \n",
    "in order to use powerful spells called \"dragon shouts\" or \"Thu'um\". A regeneration \n",
    "period limits the player's use of shouts in gameplay.\n",
    "\n",
    "Skyrim is set around 200 years after the events of The Elder Scrolls IV: Oblivion, although it is \n",
    "not a direct sequel. The game takes place in Skyrim, a province of the Empire on the continent of \n",
    "Tamriel, amid a civil war between two factions: the Stormcloaks, led by Ulfric Stormcloak, and the \n",
    "Imperial Legion, led by General Tullius. The player character is a Dragonborn, a mortal born with \n",
    "the soul and power of a dragon. Alduin, a large black dragon who returns to the land after being \n",
    "lost in time, serves as the game's primary antagonist. Alduin is the first dragon created by Akatosh, \n",
    "one of the series' gods, and is prophesied to destroy and consume the world.\n",
    "\"\"\""
   ]
  },
  {
   "cell_type": "code",
   "execution_count": null,
   "id": "e1b9f2a4-f3bb-4c30-972e-cac56aa74c21",
   "metadata": {},
   "outputs": [],
   "source": [
    "DOCUMENT = re.sub(r'\\n|\\r', ' ', DOCUMENT)\n",
    "DOCUMENT = re.sub(r' +', ' ', DOCUMENT)\n",
    "DOCUMENT = DOCUMENT.strip()"
   ]
  },
  {
   "cell_type": "code",
   "execution_count": null,
   "id": "f9960677-12ef-45a3-9fe3-de5a1129f518",
   "metadata": {},
   "outputs": [],
   "source": [
    "def get_components_comp(comp):\n",
    "    if not comp:\n",
    "        return\n",
    "\n",
    "    # Get auxiliary verb of clausal complement token\n",
    "    aux = get_token_dep(comp, dep='aux')\n",
    "    # Get direct object of clausal complement token\n",
    "    obj = get_token_dep(comp, dep='dobj')\n",
    "    # Get adverb modifier of clausal complement token\n",
    "    advmod = get_token_dep(comp, dep='advmod')\n",
    "    # Get preposition after clausal complement token\n",
    "    prep = get_token_dep_right(comp, dep='prep')\n",
    "    # Get adjectival complement of clausal complement token\n",
    "    acomp = get_token_dep_right(comp, dep='acomp')\n",
    "    return {'aux': aux, 'obj': obj, 'advmod': advmod, 'prep': prep, 'acomp': acomp}"
   ]
  }
 ],
 "metadata": {
  "kernelspec": {
   "display_name": "Python 3 (ipykernel)",
   "language": "python",
   "name": "python3"
  },
  "language_info": {
   "codemirror_mode": {
    "name": "ipython",
    "version": 3
   },
   "file_extension": ".py",
   "mimetype": "text/x-python",
   "name": "python",
   "nbconvert_exporter": "python",
   "pygments_lexer": "ipython3",
   "version": "3.11.7"
  }
 },
 "nbformat": 4,
 "nbformat_minor": 5
}
